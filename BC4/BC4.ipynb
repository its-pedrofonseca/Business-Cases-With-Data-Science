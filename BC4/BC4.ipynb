{
 "cells": [
  {
   "cell_type": "markdown",
   "metadata": {},
   "source": [
    "# Implicit feedback recommender system\n",
    "- https://github.com/benfred/implicit\n",
    "- https://www.benfrederickson.com/matrix-factorization/\n",
    "- https://www.ethanrosenthal.com/2016/10/19/implicit-mf-part-1/\n",
    "- https://kojinoshiba.com/recsys-cold-start/"
   ]
  },
  {
   "cell_type": "code",
   "execution_count": 1073,
   "metadata": {},
   "outputs": [],
   "source": [
    "import os\n",
    "import pandas as pd\n",
    "import numpy as np\n",
    "import matplotlib.pyplot as plt\n",
    "from scipy.sparse import coo_matrix\n",
    "from implicit.als import AlternatingLeastSquares\n",
    "from implicit.bpr import BayesianPersonalizedRanking\n",
    "from implicit.lmf import LogisticMatrixFactorization\n",
    "from implicit.approximate_als import (\n",
    "    AnnoyAlternatingLeastSquares,\n",
    "    FaissAlternatingLeastSquares,\n",
    "    NMSLibAlternatingLeastSquares,\n",
    ")\n",
    "from implicit.evaluation import ranking_metrics_at_k\n",
    "from tqdm import tqdm\n",
    "import plotly.graph_objects as go\n",
    "import plotly.express as px\n"
   ]
  },
  {
   "cell_type": "markdown",
   "metadata": {},
   "source": [
    "# Data Exploration"
   ]
  },
  {
   "cell_type": "code",
   "execution_count": 1074,
   "metadata": {},
   "outputs": [],
   "source": [
    "# Read csv files\n",
    "df = pd.read_csv('retail.csv')"
   ]
  },
  {
   "cell_type": "code",
   "execution_count": 1075,
   "metadata": {
    "scrolled": true
   },
   "outputs": [
    {
     "data": {
      "text/html": [
       "<div>\n",
       "<style scoped>\n",
       "    .dataframe tbody tr th:only-of-type {\n",
       "        vertical-align: middle;\n",
       "    }\n",
       "\n",
       "    .dataframe tbody tr th {\n",
       "        vertical-align: top;\n",
       "    }\n",
       "\n",
       "    .dataframe thead th {\n",
       "        text-align: right;\n",
       "    }\n",
       "</style>\n",
       "<table border=\"1\" class=\"dataframe\">\n",
       "  <thead>\n",
       "    <tr style=\"text-align: right;\">\n",
       "      <th></th>\n",
       "      <th>InvoiceNo</th>\n",
       "      <th>StockCode</th>\n",
       "      <th>Description</th>\n",
       "      <th>Quantity</th>\n",
       "      <th>InvoiceDate</th>\n",
       "      <th>UnitPrice</th>\n",
       "      <th>CustomerID</th>\n",
       "      <th>Country</th>\n",
       "    </tr>\n",
       "  </thead>\n",
       "  <tbody>\n",
       "    <tr>\n",
       "      <th>0</th>\n",
       "      <td>536365</td>\n",
       "      <td>85123A</td>\n",
       "      <td>WHITE HANGING HEART T-LIGHT HOLDER</td>\n",
       "      <td>6</td>\n",
       "      <td>12/1/2010 8:26</td>\n",
       "      <td>2.55</td>\n",
       "      <td>17850.0</td>\n",
       "      <td>United Kingdom</td>\n",
       "    </tr>\n",
       "    <tr>\n",
       "      <th>1</th>\n",
       "      <td>536365</td>\n",
       "      <td>71053</td>\n",
       "      <td>WHITE METAL LANTERN</td>\n",
       "      <td>6</td>\n",
       "      <td>12/1/2010 8:26</td>\n",
       "      <td>3.39</td>\n",
       "      <td>17850.0</td>\n",
       "      <td>United Kingdom</td>\n",
       "    </tr>\n",
       "    <tr>\n",
       "      <th>2</th>\n",
       "      <td>536365</td>\n",
       "      <td>84406B</td>\n",
       "      <td>CREAM CUPID HEARTS COAT HANGER</td>\n",
       "      <td>8</td>\n",
       "      <td>12/1/2010 8:26</td>\n",
       "      <td>2.75</td>\n",
       "      <td>17850.0</td>\n",
       "      <td>United Kingdom</td>\n",
       "    </tr>\n",
       "    <tr>\n",
       "      <th>3</th>\n",
       "      <td>536365</td>\n",
       "      <td>84029G</td>\n",
       "      <td>KNITTED UNION FLAG HOT WATER BOTTLE</td>\n",
       "      <td>6</td>\n",
       "      <td>12/1/2010 8:26</td>\n",
       "      <td>3.39</td>\n",
       "      <td>17850.0</td>\n",
       "      <td>United Kingdom</td>\n",
       "    </tr>\n",
       "    <tr>\n",
       "      <th>4</th>\n",
       "      <td>536365</td>\n",
       "      <td>84029E</td>\n",
       "      <td>RED WOOLLY HOTTIE WHITE HEART.</td>\n",
       "      <td>6</td>\n",
       "      <td>12/1/2010 8:26</td>\n",
       "      <td>3.39</td>\n",
       "      <td>17850.0</td>\n",
       "      <td>United Kingdom</td>\n",
       "    </tr>\n",
       "  </tbody>\n",
       "</table>\n",
       "</div>"
      ],
      "text/plain": [
       "  InvoiceNo StockCode                          Description  Quantity  \\\n",
       "0    536365    85123A   WHITE HANGING HEART T-LIGHT HOLDER         6   \n",
       "1    536365     71053                  WHITE METAL LANTERN         6   \n",
       "2    536365    84406B       CREAM CUPID HEARTS COAT HANGER         8   \n",
       "3    536365    84029G  KNITTED UNION FLAG HOT WATER BOTTLE         6   \n",
       "4    536365    84029E       RED WOOLLY HOTTIE WHITE HEART.         6   \n",
       "\n",
       "      InvoiceDate  UnitPrice  CustomerID         Country  \n",
       "0  12/1/2010 8:26       2.55     17850.0  United Kingdom  \n",
       "1  12/1/2010 8:26       3.39     17850.0  United Kingdom  \n",
       "2  12/1/2010 8:26       2.75     17850.0  United Kingdom  \n",
       "3  12/1/2010 8:26       3.39     17850.0  United Kingdom  \n",
       "4  12/1/2010 8:26       3.39     17850.0  United Kingdom  "
      ]
     },
     "execution_count": 1075,
     "metadata": {},
     "output_type": "execute_result"
    }
   ],
   "source": [
    "df.head()"
   ]
  },
  {
   "cell_type": "code",
   "execution_count": 1076,
   "metadata": {},
   "outputs": [
    {
     "data": {
      "text/plain": [
       "(541909, 8)"
      ]
     },
     "execution_count": 1076,
     "metadata": {},
     "output_type": "execute_result"
    }
   ],
   "source": [
    "df.shape"
   ]
  },
  {
   "cell_type": "code",
   "execution_count": 1077,
   "metadata": {},
   "outputs": [
    {
     "data": {
      "text/plain": [
       "InvoiceNo       object\n",
       "StockCode       object\n",
       "Description     object\n",
       "Quantity         int64\n",
       "InvoiceDate     object\n",
       "UnitPrice      float64\n",
       "CustomerID     float64\n",
       "Country         object\n",
       "dtype: object"
      ]
     },
     "execution_count": 1077,
     "metadata": {},
     "output_type": "execute_result"
    }
   ],
   "source": [
    "df.dtypes"
   ]
  },
  {
   "cell_type": "code",
   "execution_count": 1078,
   "metadata": {},
   "outputs": [
    {
     "data": {
      "text/plain": [
       "Index(['InvoiceNo', 'StockCode', 'Description', 'Quantity', 'InvoiceDate',\n",
       "       'UnitPrice', 'CustomerID', 'Country'],\n",
       "      dtype='object')"
      ]
     },
     "execution_count": 1078,
     "metadata": {},
     "output_type": "execute_result"
    }
   ],
   "source": [
    "df.columns"
   ]
  },
  {
   "cell_type": "code",
   "execution_count": 1079,
   "metadata": {
    "scrolled": true
   },
   "outputs": [
    {
     "name": "stdout",
     "output_type": "stream",
     "text": [
      "\n",
      "\n",
      "\n"
     ]
    },
    {
     "data": {
      "text/html": [
       "<div>\n",
       "<style scoped>\n",
       "    .dataframe tbody tr th:only-of-type {\n",
       "        vertical-align: middle;\n",
       "    }\n",
       "\n",
       "    .dataframe tbody tr th {\n",
       "        vertical-align: top;\n",
       "    }\n",
       "\n",
       "    .dataframe thead th {\n",
       "        text-align: right;\n",
       "    }\n",
       "</style>\n",
       "<table border=\"1\" class=\"dataframe\">\n",
       "  <thead>\n",
       "    <tr style=\"text-align: right;\">\n",
       "      <th></th>\n",
       "      <th>InvoiceNo</th>\n",
       "      <th>StockCode</th>\n",
       "      <th>Description</th>\n",
       "      <th>Quantity</th>\n",
       "      <th>InvoiceDate</th>\n",
       "      <th>UnitPrice</th>\n",
       "      <th>CustomerID</th>\n",
       "      <th>Country</th>\n",
       "    </tr>\n",
       "  </thead>\n",
       "  <tbody>\n",
       "    <tr>\n",
       "      <th>0</th>\n",
       "      <td>536365</td>\n",
       "      <td>85123A</td>\n",
       "      <td>WHITE HANGING HEART T-LIGHT HOLDER</td>\n",
       "      <td>6</td>\n",
       "      <td>2010-12-01 08:26:00</td>\n",
       "      <td>2.55</td>\n",
       "      <td>17850</td>\n",
       "      <td>United Kingdom</td>\n",
       "    </tr>\n",
       "    <tr>\n",
       "      <th>1</th>\n",
       "      <td>536365</td>\n",
       "      <td>71053</td>\n",
       "      <td>WHITE METAL LANTERN</td>\n",
       "      <td>6</td>\n",
       "      <td>2010-12-01 08:26:00</td>\n",
       "      <td>3.39</td>\n",
       "      <td>17850</td>\n",
       "      <td>United Kingdom</td>\n",
       "    </tr>\n",
       "    <tr>\n",
       "      <th>2</th>\n",
       "      <td>536365</td>\n",
       "      <td>84406B</td>\n",
       "      <td>CREAM CUPID HEARTS COAT HANGER</td>\n",
       "      <td>8</td>\n",
       "      <td>2010-12-01 08:26:00</td>\n",
       "      <td>2.75</td>\n",
       "      <td>17850</td>\n",
       "      <td>United Kingdom</td>\n",
       "    </tr>\n",
       "    <tr>\n",
       "      <th>3</th>\n",
       "      <td>536365</td>\n",
       "      <td>84029G</td>\n",
       "      <td>KNITTED UNION FLAG HOT WATER BOTTLE</td>\n",
       "      <td>6</td>\n",
       "      <td>2010-12-01 08:26:00</td>\n",
       "      <td>3.39</td>\n",
       "      <td>17850</td>\n",
       "      <td>United Kingdom</td>\n",
       "    </tr>\n",
       "    <tr>\n",
       "      <th>4</th>\n",
       "      <td>536365</td>\n",
       "      <td>84029E</td>\n",
       "      <td>RED WOOLLY HOTTIE WHITE HEART.</td>\n",
       "      <td>6</td>\n",
       "      <td>2010-12-01 08:26:00</td>\n",
       "      <td>3.39</td>\n",
       "      <td>17850</td>\n",
       "      <td>United Kingdom</td>\n",
       "    </tr>\n",
       "  </tbody>\n",
       "</table>\n",
       "</div>"
      ],
      "text/plain": [
       "  InvoiceNo StockCode                          Description  Quantity  \\\n",
       "0    536365    85123A   WHITE HANGING HEART T-LIGHT HOLDER         6   \n",
       "1    536365     71053                  WHITE METAL LANTERN         6   \n",
       "2    536365    84406B       CREAM CUPID HEARTS COAT HANGER         8   \n",
       "3    536365    84029G  KNITTED UNION FLAG HOT WATER BOTTLE         6   \n",
       "4    536365    84029E       RED WOOLLY HOTTIE WHITE HEART.         6   \n",
       "\n",
       "          InvoiceDate  UnitPrice CustomerID         Country  \n",
       "0 2010-12-01 08:26:00       2.55      17850  United Kingdom  \n",
       "1 2010-12-01 08:26:00       3.39      17850  United Kingdom  \n",
       "2 2010-12-01 08:26:00       2.75      17850  United Kingdom  \n",
       "3 2010-12-01 08:26:00       3.39      17850  United Kingdom  \n",
       "4 2010-12-01 08:26:00       3.39      17850  United Kingdom  "
      ]
     },
     "execution_count": 1079,
     "metadata": {},
     "output_type": "execute_result"
    }
   ],
   "source": [
    "# Get df_events and correctly encode the variables\n",
    "df['InvoiceDate'] = pd.to_datetime(df['InvoiceDate'])\n",
    "df['InvoiceDate'] = pd.to_datetime(df['InvoiceDate'],unit='ms')\n",
    "df = df.astype({'CustomerID': object, 'StockCode': object})\n",
    "df.head()"
   ]
  },
  {
   "cell_type": "code",
   "execution_count": 1080,
   "metadata": {},
   "outputs": [],
   "source": [
    "df.rename(columns ={'InvoiceNo':'TransactionId', 'StockCode':'ItemId', 'InvoiceDate':'TransactionDate'},inplace=True)"
   ]
  },
  {
   "cell_type": "code",
   "execution_count": 1081,
   "metadata": {
    "scrolled": false
   },
   "outputs": [
    {
     "data": {
      "text/html": [
       "<div>\n",
       "<style scoped>\n",
       "    .dataframe tbody tr th:only-of-type {\n",
       "        vertical-align: middle;\n",
       "    }\n",
       "\n",
       "    .dataframe tbody tr th {\n",
       "        vertical-align: top;\n",
       "    }\n",
       "\n",
       "    .dataframe thead th {\n",
       "        text-align: right;\n",
       "    }\n",
       "</style>\n",
       "<table border=\"1\" class=\"dataframe\">\n",
       "  <thead>\n",
       "    <tr style=\"text-align: right;\">\n",
       "      <th></th>\n",
       "      <th>TransactionId</th>\n",
       "      <th>ItemId</th>\n",
       "      <th>Description</th>\n",
       "      <th>Quantity</th>\n",
       "      <th>TransactionDate</th>\n",
       "      <th>UnitPrice</th>\n",
       "      <th>CustomerID</th>\n",
       "      <th>Country</th>\n",
       "    </tr>\n",
       "  </thead>\n",
       "  <tbody>\n",
       "    <tr>\n",
       "      <th>count</th>\n",
       "      <td>541909</td>\n",
       "      <td>541909</td>\n",
       "      <td>540455</td>\n",
       "      <td>541909.000000</td>\n",
       "      <td>541909</td>\n",
       "      <td>541909.000000</td>\n",
       "      <td>406829.0</td>\n",
       "      <td>541909</td>\n",
       "    </tr>\n",
       "    <tr>\n",
       "      <th>unique</th>\n",
       "      <td>25900</td>\n",
       "      <td>4070</td>\n",
       "      <td>4223</td>\n",
       "      <td>NaN</td>\n",
       "      <td>NaN</td>\n",
       "      <td>NaN</td>\n",
       "      <td>4372.0</td>\n",
       "      <td>38</td>\n",
       "    </tr>\n",
       "    <tr>\n",
       "      <th>top</th>\n",
       "      <td>573585</td>\n",
       "      <td>85123A</td>\n",
       "      <td>WHITE HANGING HEART T-LIGHT HOLDER</td>\n",
       "      <td>NaN</td>\n",
       "      <td>NaN</td>\n",
       "      <td>NaN</td>\n",
       "      <td>17841.0</td>\n",
       "      <td>United Kingdom</td>\n",
       "    </tr>\n",
       "    <tr>\n",
       "      <th>freq</th>\n",
       "      <td>1114</td>\n",
       "      <td>2313</td>\n",
       "      <td>2369</td>\n",
       "      <td>NaN</td>\n",
       "      <td>NaN</td>\n",
       "      <td>NaN</td>\n",
       "      <td>7983.0</td>\n",
       "      <td>495478</td>\n",
       "    </tr>\n",
       "    <tr>\n",
       "      <th>mean</th>\n",
       "      <td>NaN</td>\n",
       "      <td>NaN</td>\n",
       "      <td>NaN</td>\n",
       "      <td>9.552250</td>\n",
       "      <td>2011-07-04 13:34:57.156151552</td>\n",
       "      <td>4.611114</td>\n",
       "      <td>NaN</td>\n",
       "      <td>NaN</td>\n",
       "    </tr>\n",
       "    <tr>\n",
       "      <th>min</th>\n",
       "      <td>NaN</td>\n",
       "      <td>NaN</td>\n",
       "      <td>NaN</td>\n",
       "      <td>-80995.000000</td>\n",
       "      <td>2010-12-01 08:26:00</td>\n",
       "      <td>-11062.060000</td>\n",
       "      <td>NaN</td>\n",
       "      <td>NaN</td>\n",
       "    </tr>\n",
       "    <tr>\n",
       "      <th>25%</th>\n",
       "      <td>NaN</td>\n",
       "      <td>NaN</td>\n",
       "      <td>NaN</td>\n",
       "      <td>1.000000</td>\n",
       "      <td>2011-03-28 11:34:00</td>\n",
       "      <td>1.250000</td>\n",
       "      <td>NaN</td>\n",
       "      <td>NaN</td>\n",
       "    </tr>\n",
       "    <tr>\n",
       "      <th>50%</th>\n",
       "      <td>NaN</td>\n",
       "      <td>NaN</td>\n",
       "      <td>NaN</td>\n",
       "      <td>3.000000</td>\n",
       "      <td>2011-07-19 17:17:00</td>\n",
       "      <td>2.080000</td>\n",
       "      <td>NaN</td>\n",
       "      <td>NaN</td>\n",
       "    </tr>\n",
       "    <tr>\n",
       "      <th>75%</th>\n",
       "      <td>NaN</td>\n",
       "      <td>NaN</td>\n",
       "      <td>NaN</td>\n",
       "      <td>10.000000</td>\n",
       "      <td>2011-10-19 11:27:00</td>\n",
       "      <td>4.130000</td>\n",
       "      <td>NaN</td>\n",
       "      <td>NaN</td>\n",
       "    </tr>\n",
       "    <tr>\n",
       "      <th>max</th>\n",
       "      <td>NaN</td>\n",
       "      <td>NaN</td>\n",
       "      <td>NaN</td>\n",
       "      <td>80995.000000</td>\n",
       "      <td>2011-12-09 12:50:00</td>\n",
       "      <td>38970.000000</td>\n",
       "      <td>NaN</td>\n",
       "      <td>NaN</td>\n",
       "    </tr>\n",
       "    <tr>\n",
       "      <th>std</th>\n",
       "      <td>NaN</td>\n",
       "      <td>NaN</td>\n",
       "      <td>NaN</td>\n",
       "      <td>218.081158</td>\n",
       "      <td>NaN</td>\n",
       "      <td>96.759853</td>\n",
       "      <td>NaN</td>\n",
       "      <td>NaN</td>\n",
       "    </tr>\n",
       "  </tbody>\n",
       "</table>\n",
       "</div>"
      ],
      "text/plain": [
       "       TransactionId  ItemId                         Description  \\\n",
       "count         541909  541909                              540455   \n",
       "unique         25900    4070                                4223   \n",
       "top           573585  85123A  WHITE HANGING HEART T-LIGHT HOLDER   \n",
       "freq            1114    2313                                2369   \n",
       "mean             NaN     NaN                                 NaN   \n",
       "min              NaN     NaN                                 NaN   \n",
       "25%              NaN     NaN                                 NaN   \n",
       "50%              NaN     NaN                                 NaN   \n",
       "75%              NaN     NaN                                 NaN   \n",
       "max              NaN     NaN                                 NaN   \n",
       "std              NaN     NaN                                 NaN   \n",
       "\n",
       "             Quantity                TransactionDate      UnitPrice  \\\n",
       "count   541909.000000                         541909  541909.000000   \n",
       "unique            NaN                            NaN            NaN   \n",
       "top               NaN                            NaN            NaN   \n",
       "freq              NaN                            NaN            NaN   \n",
       "mean         9.552250  2011-07-04 13:34:57.156151552       4.611114   \n",
       "min     -80995.000000            2010-12-01 08:26:00  -11062.060000   \n",
       "25%          1.000000            2011-03-28 11:34:00       1.250000   \n",
       "50%          3.000000            2011-07-19 17:17:00       2.080000   \n",
       "75%         10.000000            2011-10-19 11:27:00       4.130000   \n",
       "max      80995.000000            2011-12-09 12:50:00   38970.000000   \n",
       "std        218.081158                            NaN      96.759853   \n",
       "\n",
       "        CustomerID         Country  \n",
       "count     406829.0          541909  \n",
       "unique      4372.0              38  \n",
       "top        17841.0  United Kingdom  \n",
       "freq        7983.0          495478  \n",
       "mean           NaN             NaN  \n",
       "min            NaN             NaN  \n",
       "25%            NaN             NaN  \n",
       "50%            NaN             NaN  \n",
       "75%            NaN             NaN  \n",
       "max            NaN             NaN  \n",
       "std            NaN             NaN  "
      ]
     },
     "execution_count": 1081,
     "metadata": {},
     "output_type": "execute_result"
    }
   ],
   "source": [
    "# Describe dataset\n",
    "df.describe(include='all', datetime_is_numeric=True)"
   ]
  },
  {
   "cell_type": "code",
   "execution_count": 1082,
   "metadata": {
    "scrolled": true
   },
   "outputs": [
    {
     "data": {
      "text/plain": [
       "TransactionId       0.000000\n",
       "ItemId              0.000000\n",
       "Description         0.268311\n",
       "Quantity            0.000000\n",
       "TransactionDate     0.000000\n",
       "UnitPrice           0.000000\n",
       "CustomerID         24.926694\n",
       "Country             0.000000\n",
       "dtype: float64"
      ]
     },
     "execution_count": 1082,
     "metadata": {},
     "output_type": "execute_result"
    }
   ],
   "source": [
    "# Percentage of missing values \n",
    "(df.isna().sum() / df.shape[0])* 100"
   ]
  },
  {
   "cell_type": "code",
   "execution_count": 1083,
   "metadata": {
    "scrolled": true
   },
   "outputs": [
    {
     "data": {
      "text/html": [
       "<div>\n",
       "<style scoped>\n",
       "    .dataframe tbody tr th:only-of-type {\n",
       "        vertical-align: middle;\n",
       "    }\n",
       "\n",
       "    .dataframe tbody tr th {\n",
       "        vertical-align: top;\n",
       "    }\n",
       "\n",
       "    .dataframe thead th {\n",
       "        text-align: right;\n",
       "    }\n",
       "</style>\n",
       "<table border=\"1\" class=\"dataframe\">\n",
       "  <thead>\n",
       "    <tr style=\"text-align: right;\">\n",
       "      <th></th>\n",
       "      <th>TransactionId</th>\n",
       "      <th>ItemId</th>\n",
       "      <th>Description</th>\n",
       "      <th>Quantity</th>\n",
       "      <th>TransactionDate</th>\n",
       "      <th>UnitPrice</th>\n",
       "      <th>CustomerID</th>\n",
       "      <th>Country</th>\n",
       "    </tr>\n",
       "  </thead>\n",
       "  <tbody>\n",
       "    <tr>\n",
       "      <th>622</th>\n",
       "      <td>536414</td>\n",
       "      <td>22139</td>\n",
       "      <td>NaN</td>\n",
       "      <td>56</td>\n",
       "      <td>2010-12-01 11:52:00</td>\n",
       "      <td>0.00</td>\n",
       "      <td>NaN</td>\n",
       "      <td>United Kingdom</td>\n",
       "    </tr>\n",
       "    <tr>\n",
       "      <th>1443</th>\n",
       "      <td>536544</td>\n",
       "      <td>21773</td>\n",
       "      <td>DECORATIVE ROSE BATHROOM BOTTLE</td>\n",
       "      <td>1</td>\n",
       "      <td>2010-12-01 14:32:00</td>\n",
       "      <td>2.51</td>\n",
       "      <td>NaN</td>\n",
       "      <td>United Kingdom</td>\n",
       "    </tr>\n",
       "    <tr>\n",
       "      <th>1444</th>\n",
       "      <td>536544</td>\n",
       "      <td>21774</td>\n",
       "      <td>DECORATIVE CATS BATHROOM BOTTLE</td>\n",
       "      <td>2</td>\n",
       "      <td>2010-12-01 14:32:00</td>\n",
       "      <td>2.51</td>\n",
       "      <td>NaN</td>\n",
       "      <td>United Kingdom</td>\n",
       "    </tr>\n",
       "    <tr>\n",
       "      <th>1445</th>\n",
       "      <td>536544</td>\n",
       "      <td>21786</td>\n",
       "      <td>POLKADOT RAIN HAT</td>\n",
       "      <td>4</td>\n",
       "      <td>2010-12-01 14:32:00</td>\n",
       "      <td>0.85</td>\n",
       "      <td>NaN</td>\n",
       "      <td>United Kingdom</td>\n",
       "    </tr>\n",
       "    <tr>\n",
       "      <th>1446</th>\n",
       "      <td>536544</td>\n",
       "      <td>21787</td>\n",
       "      <td>RAIN PONCHO RETROSPOT</td>\n",
       "      <td>2</td>\n",
       "      <td>2010-12-01 14:32:00</td>\n",
       "      <td>1.66</td>\n",
       "      <td>NaN</td>\n",
       "      <td>United Kingdom</td>\n",
       "    </tr>\n",
       "  </tbody>\n",
       "</table>\n",
       "</div>"
      ],
      "text/plain": [
       "     TransactionId ItemId                      Description  Quantity  \\\n",
       "622         536414  22139                              NaN        56   \n",
       "1443        536544  21773  DECORATIVE ROSE BATHROOM BOTTLE         1   \n",
       "1444        536544  21774  DECORATIVE CATS BATHROOM BOTTLE         2   \n",
       "1445        536544  21786               POLKADOT RAIN HAT          4   \n",
       "1446        536544  21787            RAIN PONCHO RETROSPOT         2   \n",
       "\n",
       "         TransactionDate  UnitPrice CustomerID         Country  \n",
       "622  2010-12-01 11:52:00       0.00        NaN  United Kingdom  \n",
       "1443 2010-12-01 14:32:00       2.51        NaN  United Kingdom  \n",
       "1444 2010-12-01 14:32:00       2.51        NaN  United Kingdom  \n",
       "1445 2010-12-01 14:32:00       0.85        NaN  United Kingdom  \n",
       "1446 2010-12-01 14:32:00       1.66        NaN  United Kingdom  "
      ]
     },
     "execution_count": 1083,
     "metadata": {},
     "output_type": "execute_result"
    }
   ],
   "source": [
    "newCustomers_df = df[df.CustomerID.isna()]\n",
    "newCustomers_df.head()"
   ]
  },
  {
   "cell_type": "code",
   "execution_count": 1084,
   "metadata": {
    "scrolled": false
   },
   "outputs": [
    {
     "data": {
      "text/html": [
       "<div>\n",
       "<style scoped>\n",
       "    .dataframe tbody tr th:only-of-type {\n",
       "        vertical-align: middle;\n",
       "    }\n",
       "\n",
       "    .dataframe tbody tr th {\n",
       "        vertical-align: top;\n",
       "    }\n",
       "\n",
       "    .dataframe thead th {\n",
       "        text-align: right;\n",
       "    }\n",
       "</style>\n",
       "<table border=\"1\" class=\"dataframe\">\n",
       "  <thead>\n",
       "    <tr style=\"text-align: right;\">\n",
       "      <th></th>\n",
       "      <th>TransactionId</th>\n",
       "      <th>ItemId</th>\n",
       "      <th>Description</th>\n",
       "      <th>Quantity</th>\n",
       "      <th>TransactionDate</th>\n",
       "      <th>UnitPrice</th>\n",
       "      <th>CustomerID</th>\n",
       "      <th>Country</th>\n",
       "    </tr>\n",
       "  </thead>\n",
       "  <tbody>\n",
       "    <tr>\n",
       "      <th>0</th>\n",
       "      <td>536365</td>\n",
       "      <td>85123A</td>\n",
       "      <td>WHITE HANGING HEART T-LIGHT HOLDER</td>\n",
       "      <td>6</td>\n",
       "      <td>2010-12-01 08:26:00</td>\n",
       "      <td>2.55</td>\n",
       "      <td>17850</td>\n",
       "      <td>United Kingdom</td>\n",
       "    </tr>\n",
       "    <tr>\n",
       "      <th>1</th>\n",
       "      <td>536365</td>\n",
       "      <td>71053</td>\n",
       "      <td>WHITE METAL LANTERN</td>\n",
       "      <td>6</td>\n",
       "      <td>2010-12-01 08:26:00</td>\n",
       "      <td>3.39</td>\n",
       "      <td>17850</td>\n",
       "      <td>United Kingdom</td>\n",
       "    </tr>\n",
       "    <tr>\n",
       "      <th>2</th>\n",
       "      <td>536365</td>\n",
       "      <td>84406B</td>\n",
       "      <td>CREAM CUPID HEARTS COAT HANGER</td>\n",
       "      <td>8</td>\n",
       "      <td>2010-12-01 08:26:00</td>\n",
       "      <td>2.75</td>\n",
       "      <td>17850</td>\n",
       "      <td>United Kingdom</td>\n",
       "    </tr>\n",
       "    <tr>\n",
       "      <th>3</th>\n",
       "      <td>536365</td>\n",
       "      <td>84029G</td>\n",
       "      <td>KNITTED UNION FLAG HOT WATER BOTTLE</td>\n",
       "      <td>6</td>\n",
       "      <td>2010-12-01 08:26:00</td>\n",
       "      <td>3.39</td>\n",
       "      <td>17850</td>\n",
       "      <td>United Kingdom</td>\n",
       "    </tr>\n",
       "    <tr>\n",
       "      <th>4</th>\n",
       "      <td>536365</td>\n",
       "      <td>84029E</td>\n",
       "      <td>RED WOOLLY HOTTIE WHITE HEART.</td>\n",
       "      <td>6</td>\n",
       "      <td>2010-12-01 08:26:00</td>\n",
       "      <td>3.39</td>\n",
       "      <td>17850</td>\n",
       "      <td>United Kingdom</td>\n",
       "    </tr>\n",
       "    <tr>\n",
       "      <th>...</th>\n",
       "      <td>...</td>\n",
       "      <td>...</td>\n",
       "      <td>...</td>\n",
       "      <td>...</td>\n",
       "      <td>...</td>\n",
       "      <td>...</td>\n",
       "      <td>...</td>\n",
       "      <td>...</td>\n",
       "    </tr>\n",
       "    <tr>\n",
       "      <th>541904</th>\n",
       "      <td>581587</td>\n",
       "      <td>22613</td>\n",
       "      <td>PACK OF 20 SPACEBOY NAPKINS</td>\n",
       "      <td>12</td>\n",
       "      <td>2011-12-09 12:50:00</td>\n",
       "      <td>0.85</td>\n",
       "      <td>12680</td>\n",
       "      <td>France</td>\n",
       "    </tr>\n",
       "    <tr>\n",
       "      <th>541905</th>\n",
       "      <td>581587</td>\n",
       "      <td>22899</td>\n",
       "      <td>CHILDREN'S APRON DOLLY GIRL</td>\n",
       "      <td>6</td>\n",
       "      <td>2011-12-09 12:50:00</td>\n",
       "      <td>2.10</td>\n",
       "      <td>12680</td>\n",
       "      <td>France</td>\n",
       "    </tr>\n",
       "    <tr>\n",
       "      <th>541906</th>\n",
       "      <td>581587</td>\n",
       "      <td>23254</td>\n",
       "      <td>CHILDRENS CUTLERY DOLLY GIRL</td>\n",
       "      <td>4</td>\n",
       "      <td>2011-12-09 12:50:00</td>\n",
       "      <td>4.15</td>\n",
       "      <td>12680</td>\n",
       "      <td>France</td>\n",
       "    </tr>\n",
       "    <tr>\n",
       "      <th>541907</th>\n",
       "      <td>581587</td>\n",
       "      <td>23255</td>\n",
       "      <td>CHILDRENS CUTLERY CIRCUS PARADE</td>\n",
       "      <td>4</td>\n",
       "      <td>2011-12-09 12:50:00</td>\n",
       "      <td>4.15</td>\n",
       "      <td>12680</td>\n",
       "      <td>France</td>\n",
       "    </tr>\n",
       "    <tr>\n",
       "      <th>541908</th>\n",
       "      <td>581587</td>\n",
       "      <td>22138</td>\n",
       "      <td>BAKING SET 9 PIECE RETROSPOT</td>\n",
       "      <td>3</td>\n",
       "      <td>2011-12-09 12:50:00</td>\n",
       "      <td>4.95</td>\n",
       "      <td>12680</td>\n",
       "      <td>France</td>\n",
       "    </tr>\n",
       "  </tbody>\n",
       "</table>\n",
       "<p>406829 rows × 8 columns</p>\n",
       "</div>"
      ],
      "text/plain": [
       "       TransactionId  ItemId                          Description  Quantity  \\\n",
       "0             536365  85123A   WHITE HANGING HEART T-LIGHT HOLDER         6   \n",
       "1             536365   71053                  WHITE METAL LANTERN         6   \n",
       "2             536365  84406B       CREAM CUPID HEARTS COAT HANGER         8   \n",
       "3             536365  84029G  KNITTED UNION FLAG HOT WATER BOTTLE         6   \n",
       "4             536365  84029E       RED WOOLLY HOTTIE WHITE HEART.         6   \n",
       "...              ...     ...                                  ...       ...   \n",
       "541904        581587   22613          PACK OF 20 SPACEBOY NAPKINS        12   \n",
       "541905        581587   22899         CHILDREN'S APRON DOLLY GIRL          6   \n",
       "541906        581587   23254        CHILDRENS CUTLERY DOLLY GIRL          4   \n",
       "541907        581587   23255      CHILDRENS CUTLERY CIRCUS PARADE         4   \n",
       "541908        581587   22138        BAKING SET 9 PIECE RETROSPOT          3   \n",
       "\n",
       "           TransactionDate  UnitPrice CustomerID         Country  \n",
       "0      2010-12-01 08:26:00       2.55      17850  United Kingdom  \n",
       "1      2010-12-01 08:26:00       3.39      17850  United Kingdom  \n",
       "2      2010-12-01 08:26:00       2.75      17850  United Kingdom  \n",
       "3      2010-12-01 08:26:00       3.39      17850  United Kingdom  \n",
       "4      2010-12-01 08:26:00       3.39      17850  United Kingdom  \n",
       "...                    ...        ...        ...             ...  \n",
       "541904 2011-12-09 12:50:00       0.85      12680          France  \n",
       "541905 2011-12-09 12:50:00       2.10      12680          France  \n",
       "541906 2011-12-09 12:50:00       4.15      12680          France  \n",
       "541907 2011-12-09 12:50:00       4.15      12680          France  \n",
       "541908 2011-12-09 12:50:00       4.95      12680          France  \n",
       "\n",
       "[406829 rows x 8 columns]"
      ]
     },
     "execution_count": 1084,
     "metadata": {},
     "output_type": "execute_result"
    }
   ],
   "source": [
    "regularCustomers_df = df[~df.CustomerID.isna()]\n",
    "regularCustomers_df"
   ]
  },
  {
   "cell_type": "markdown",
   "metadata": {},
   "source": [
    "# Reduce Sparsity\n",
    "\n",
    "> **While implicit recommendations excel where data is sparse, it can often be helpful to make the interactions matrix a little more dense.**\n",
    "\n",
    "- To reduce sparsity we can exclude users or/and items without significant event history ([cold-start problem](https://en.wikipedia.org/wiki/Cold_start_(recommender_systems)))\n",
    "- We limited our dataset to users and items with at least 5 event occurrences."
   ]
  },
  {
   "cell_type": "code",
   "execution_count": 1085,
   "metadata": {},
   "outputs": [],
   "source": [
    "def threshold_ratings(df, uid_min, iid_min, max_iter=None):\n",
    "    \"\"\"Removes users and items with less than uid_min and iid_min event occurrences, respectively.\n",
    "    Credits: https://www.ethanrosenthal.com/2016/10/19/implicit-mf-part-1/\n",
    "    \"\"\"\n",
    "    n_users = df['CustomerID'].nunique()\n",
    "    n_items = df['ItemId'].nunique()\n",
    "    sparsity = float(df.shape[0]) / float(n_users * n_items) * 100\n",
    "    print('Raw dataset info \\n-----------------')\n",
    "    print('Number of users: {}'.format(n_users))\n",
    "    print('Number of items: {}'.format(n_items))\n",
    "    print('Sparsity: {:4.3f}%'.format(sparsity))\n",
    "    \n",
    "    done, i = False, 0\n",
    "    while not done:\n",
    "        # When we exclude users with freq less than uid_min we might end up with new \n",
    "        # items with freq less than iid_min, so we will have to alternate back and forth\n",
    "        starting_shape = df.shape[0]  # number of existing events\n",
    "\n",
    "        uid_counts = df.groupby('CustomerID').size()  # user id frequencies\n",
    "        df = df[~df['CustomerID'].isin(uid_counts[uid_counts < uid_min].index.tolist())]  # keep events with users with frequency >= uid_min\n",
    "\n",
    "        iid_counts = df.groupby('ItemId').size()  # item id frequencies\n",
    "        df = df[~df['ItemId'].isin(iid_counts[iid_counts < iid_min].index.tolist())]  # keep events with items with frequency >= iid_min\n",
    "\n",
    "        ending_shape = df.shape[0]  # number of existing events after filters\n",
    "        i += 1\n",
    "        if starting_shape == ending_shape or i == max_iter:  # convergence happens\n",
    "            done = True\n",
    "    \n",
    "    if not max_iter:\n",
    "        assert(df.groupby('CustomerID').size().min() >= uid_min)\n",
    "        assert(df.groupby('ItemId').size().min() >= iid_min)\n",
    "    \n",
    "    n_users = df['CustomerID'].nunique()\n",
    "    n_items = df['ItemId'].nunique()\n",
    "    sparsity = float(df.shape[0]) / float(n_users * n_items) * 100\n",
    "    print('Limited dataset info \\n-----------------')\n",
    "    print('Number of iterations until convergence: {}'.format(i))\n",
    "    print('Number of users: {}'.format(n_users))\n",
    "    print('Number of items: {}'.format(n_items))\n",
    "    print('Sparsity: {:4.3f}%'.format(sparsity))\n",
    "    return df"
   ]
  },
  {
   "cell_type": "code",
   "execution_count": 1124,
   "metadata": {
    "scrolled": true
   },
   "outputs": [
    {
     "name": "stdout",
     "output_type": "stream",
     "text": [
      "Raw dataset info \n",
      "-----------------\n",
      "Number of users: 4372\n",
      "Number of items: 3684\n",
      "Sparsity: 2.526%\n",
      "Limited dataset info \n",
      "-----------------\n",
      "Number of iterations until convergence: 2\n",
      "Number of users: 4372\n",
      "Number of items: 3279\n",
      "Sparsity: 2.833%\n"
     ]
    }
   ],
   "source": [
    "# get limited dataset\n",
    "df_limited = threshold_ratings(regularCustomers_df, 1, 4)"
   ]
  },
  {
   "cell_type": "markdown",
   "metadata": {},
   "source": [
    "# Train-test split\n",
    "We want to split the train and test events such that:\n",
    "- all test events occur after all train events"
   ]
  },
  {
   "cell_type": "code",
   "execution_count": 1125,
   "metadata": {},
   "outputs": [
    {
     "name": "stdout",
     "output_type": "stream",
     "text": [
      "Proportion of train events: 0.80\n"
     ]
    }
   ],
   "source": [
    "# Train-test split\n",
    "start_train = df_limited['TransactionDate'].min()\n",
    "start_test = start_train + pd.to_timedelta(23, unit='w')\n",
    "end_test = start_test + pd.to_timedelta(5, unit='w')\n",
    "\n",
    "# Create new limited df\n",
    "df_limited = df_limited.loc[(df_limited['TransactionDate'] > start_train) & (df_limited['TransactionDate'] <= end_test)]\n",
    "\n",
    "# Create train_split flag\n",
    "df_limited['train_split'] = (df_limited['TransactionDate'] <= start_test).astype(int)\n",
    "print(\"Proportion of train events: {:.2f}\".format(df_limited['train_split'].mean()))"
   ]
  },
  {
   "cell_type": "code",
   "execution_count": 1126,
   "metadata": {},
   "outputs": [
    {
     "data": {
      "image/png": "[encoded data removed]",
      "text/plain": [
       "<Figure size 864x432 with 1 Axes>"
      ]
     },
     "metadata": {
      "needs_background": "light"
     },
     "output_type": "display_data"
    }
   ],
   "source": [
    "# Visualize train and test set\n",
    "data = pd.DatetimeIndex(df_limited['TransactionDate']).normalize().value_counts().sort_index()\n",
    "fig = plt.figure(figsize=(12,6))\n",
    "plt.plot(data.index, data.values, linestyle=\"-\")\n",
    "plt.xticks(np.arange(data.index[0], data.index[-1], pd.to_timedelta(7, unit='d')), rotation=45)\n",
    "plt.vlines(start_test, 0, data.max(), linestyles='dashed', color='r', label='train-test split')\n",
    "plt.legend()\n",
    "plt.title('Event frequency time series - train and test set')\n",
    "plt.show()"
   ]
  },
  {
   "cell_type": "markdown",
   "metadata": {},
   "source": [
    "# Create the train and test Rating Matrices\n",
    "\n",
    "<img src=\"./images/MaskTrain.png\" alt=\"MaskTrain\" style=\"width: 600px;\"/>"
   ]
  },
  {
   "cell_type": "code",
   "execution_count": 1127,
   "metadata": {
    "scrolled": false
   },
   "outputs": [
    {
     "name": "stdout",
     "output_type": "stream",
     "text": [
      "train set shape: (2940, 2884) and test set shape: (2940, 2884)\n",
      "train set percentage of zeros: 98.81589251511977 and test set percentage of zeros: 99.64475596063667\n"
     ]
    }
   ],
   "source": [
    "# the Categoricals data structure consists of a categories array and an integer array of codes which point to \n",
    "#    the real value in the categories array\n",
    "user_cat = df_limited['CustomerID'].astype('category')\n",
    "item_cat = df_limited['ItemId'].astype(\"category\")\n",
    "\n",
    "# create a sparse matrix of all the item/user/counts triples for the train set and test set\n",
    "# https://docs.scipy.org/doc/scipy/reference/generated/scipy.sparse.coo_matrix.html#scipy.sparse.coo_matrix\n",
    "item_user_train = coo_matrix((df_limited['train_split'],\n",
    "                              (item_cat.cat.codes,\n",
    "                               user_cat.cat.codes))).tocsr()\n",
    "item_user_train.eliminate_zeros()  # remove zero entries\n",
    "# produce transpose of item_user_train\n",
    "user_item_train = item_user_train.T\n",
    "\n",
    "item_user_test = coo_matrix(((~df_limited['train_split'].astype(bool)).astype(int),\n",
    "                             (item_cat.cat.codes,\n",
    "                              user_cat.cat.codes))).tocsr()\n",
    "item_user_test.eliminate_zeros()  # remove zero entries\n",
    "# produce transpose of item_user_test\n",
    "user_item_test = item_user_test.T\n",
    "\n",
    "# map each item and user category to a unique numeric code\n",
    "user_map = dict(zip(user_cat, user_cat.cat.codes))\n",
    "item_map = dict(zip(item_cat, item_cat.cat.codes))\n",
    "\n",
    "def get_keys(value, dictionary):\n",
    "    \"\"\"Function to get dictionary keys with specifiec value\"\"\"\n",
    "    return list(dictionary.keys())[list(dictionary.values()).index(value)]\n",
    "\n",
    "# confirm shapes\n",
    "print(f\"train set shape: {item_user_train.shape} and test set shape: {item_user_test.shape}\")\n",
    "\n",
    "# check sparsity\n",
    "pzeros_train = 100 * (1 - item_user_train.count_nonzero() / (item_user_train.shape[0] * item_user_train.shape[1]))\n",
    "pzeros_test = 100 * (1 - item_user_test.count_nonzero() / (item_user_test.shape[0] * item_user_test.shape[1]))\n",
    "print(f\"train set percentage of zeros: {pzeros_train} and test set percentage of zeros: {pzeros_test}\")"
   ]
  },
  {
   "cell_type": "code",
   "execution_count": 1128,
   "metadata": {
    "scrolled": true
   },
   "outputs": [
    {
     "data": {
      "text/plain": [
       "set()"
      ]
     },
     "execution_count": 1128,
     "metadata": {},
     "output_type": "execute_result"
    }
   ],
   "source": [
    "# users with no items on the train set and not items on the test set\n",
    "zero_users_test = (np.squeeze(np.asarray(user_item_test.sum(axis=1))) == 0).nonzero()[0]\n",
    "zero_users_train = (np.squeeze(np.asarray(user_item_train.sum(axis=1))) == 0).nonzero()[0]\n",
    "set(zero_users_test).intersection(zero_users_train)"
   ]
  },
  {
   "cell_type": "code",
   "execution_count": 1129,
   "metadata": {},
   "outputs": [
    {
     "data": {
      "text/html": [
       "<div>\n",
       "<style scoped>\n",
       "    .dataframe tbody tr th:only-of-type {\n",
       "        vertical-align: middle;\n",
       "    }\n",
       "\n",
       "    .dataframe tbody tr th {\n",
       "        vertical-align: top;\n",
       "    }\n",
       "\n",
       "    .dataframe thead th {\n",
       "        text-align: right;\n",
       "    }\n",
       "</style>\n",
       "<table border=\"1\" class=\"dataframe\">\n",
       "  <thead>\n",
       "    <tr style=\"text-align: right;\">\n",
       "      <th></th>\n",
       "      <th>TransactionId</th>\n",
       "      <th>ItemId</th>\n",
       "      <th>Description</th>\n",
       "      <th>Quantity</th>\n",
       "      <th>TransactionDate</th>\n",
       "      <th>UnitPrice</th>\n",
       "      <th>CustomerID</th>\n",
       "      <th>Country</th>\n",
       "      <th>train_split</th>\n",
       "    </tr>\n",
       "  </thead>\n",
       "  <tbody>\n",
       "    <tr>\n",
       "      <th>1423</th>\n",
       "      <td>536540</td>\n",
       "      <td>C2</td>\n",
       "      <td>CARRIAGE</td>\n",
       "      <td>1</td>\n",
       "      <td>2010-12-01 14:05:00</td>\n",
       "      <td>50.0</td>\n",
       "      <td>14911</td>\n",
       "      <td>EIRE</td>\n",
       "      <td>1</td>\n",
       "    </tr>\n",
       "    <tr>\n",
       "      <th>12119</th>\n",
       "      <td>537368</td>\n",
       "      <td>C2</td>\n",
       "      <td>CARRIAGE</td>\n",
       "      <td>1</td>\n",
       "      <td>2010-12-06 12:40:00</td>\n",
       "      <td>50.0</td>\n",
       "      <td>14911</td>\n",
       "      <td>EIRE</td>\n",
       "      <td>1</td>\n",
       "    </tr>\n",
       "    <tr>\n",
       "      <th>12452</th>\n",
       "      <td>537378</td>\n",
       "      <td>C2</td>\n",
       "      <td>CARRIAGE</td>\n",
       "      <td>1</td>\n",
       "      <td>2010-12-06 13:06:00</td>\n",
       "      <td>50.0</td>\n",
       "      <td>14911</td>\n",
       "      <td>EIRE</td>\n",
       "      <td>1</td>\n",
       "    </tr>\n",
       "    <tr>\n",
       "      <th>37644</th>\n",
       "      <td>539473</td>\n",
       "      <td>C2</td>\n",
       "      <td>CARRIAGE</td>\n",
       "      <td>1</td>\n",
       "      <td>2010-12-19 14:24:00</td>\n",
       "      <td>50.0</td>\n",
       "      <td>14911</td>\n",
       "      <td>EIRE</td>\n",
       "      <td>1</td>\n",
       "    </tr>\n",
       "    <tr>\n",
       "      <th>42332</th>\n",
       "      <td>539984</td>\n",
       "      <td>C2</td>\n",
       "      <td>CARRIAGE</td>\n",
       "      <td>1</td>\n",
       "      <td>2010-12-23 14:58:00</td>\n",
       "      <td>50.0</td>\n",
       "      <td>14911</td>\n",
       "      <td>EIRE</td>\n",
       "      <td>1</td>\n",
       "    </tr>\n",
       "    <tr>\n",
       "      <th>44302</th>\n",
       "      <td>C540164</td>\n",
       "      <td>C2</td>\n",
       "      <td>CARRIAGE</td>\n",
       "      <td>-1</td>\n",
       "      <td>2011-01-05 12:02:00</td>\n",
       "      <td>50.0</td>\n",
       "      <td>14911</td>\n",
       "      <td>EIRE</td>\n",
       "      <td>1</td>\n",
       "    </tr>\n",
       "    <tr>\n",
       "      <th>50141</th>\n",
       "      <td>540547</td>\n",
       "      <td>C2</td>\n",
       "      <td>CARRIAGE</td>\n",
       "      <td>1</td>\n",
       "      <td>2011-01-09 16:07:00</td>\n",
       "      <td>50.0</td>\n",
       "      <td>14911</td>\n",
       "      <td>EIRE</td>\n",
       "      <td>1</td>\n",
       "    </tr>\n",
       "    <tr>\n",
       "      <th>61634</th>\n",
       "      <td>541434</td>\n",
       "      <td>C2</td>\n",
       "      <td>CARRIAGE</td>\n",
       "      <td>1</td>\n",
       "      <td>2011-01-18 10:22:00</td>\n",
       "      <td>50.0</td>\n",
       "      <td>14911</td>\n",
       "      <td>EIRE</td>\n",
       "      <td>1</td>\n",
       "    </tr>\n",
       "    <tr>\n",
       "      <th>69721</th>\n",
       "      <td>541979</td>\n",
       "      <td>C2</td>\n",
       "      <td>CARRIAGE</td>\n",
       "      <td>1</td>\n",
       "      <td>2011-01-24 14:54:00</td>\n",
       "      <td>50.0</td>\n",
       "      <td>14911</td>\n",
       "      <td>EIRE</td>\n",
       "      <td>1</td>\n",
       "    </tr>\n",
       "    <tr>\n",
       "      <th>73067</th>\n",
       "      <td>542278</td>\n",
       "      <td>C2</td>\n",
       "      <td>CARRIAGE</td>\n",
       "      <td>1</td>\n",
       "      <td>2011-01-27 10:43:00</td>\n",
       "      <td>50.0</td>\n",
       "      <td>14911</td>\n",
       "      <td>EIRE</td>\n",
       "      <td>1</td>\n",
       "    </tr>\n",
       "    <tr>\n",
       "      <th>81820</th>\n",
       "      <td>543178</td>\n",
       "      <td>C2</td>\n",
       "      <td>CARRIAGE</td>\n",
       "      <td>1</td>\n",
       "      <td>2011-02-04 10:31:00</td>\n",
       "      <td>50.0</td>\n",
       "      <td>14911</td>\n",
       "      <td>EIRE</td>\n",
       "      <td>1</td>\n",
       "    </tr>\n",
       "    <tr>\n",
       "      <th>92983</th>\n",
       "      <td>544210</td>\n",
       "      <td>C2</td>\n",
       "      <td>CARRIAGE</td>\n",
       "      <td>1</td>\n",
       "      <td>2011-02-17 11:01:00</td>\n",
       "      <td>50.0</td>\n",
       "      <td>14911</td>\n",
       "      <td>EIRE</td>\n",
       "      <td>1</td>\n",
       "    </tr>\n",
       "    <tr>\n",
       "      <th>94490</th>\n",
       "      <td>544390</td>\n",
       "      <td>C2</td>\n",
       "      <td>CARRIAGE</td>\n",
       "      <td>1</td>\n",
       "      <td>2011-02-18 11:36:00</td>\n",
       "      <td>50.0</td>\n",
       "      <td>14911</td>\n",
       "      <td>EIRE</td>\n",
       "      <td>1</td>\n",
       "    </tr>\n",
       "    <tr>\n",
       "      <th>109397</th>\n",
       "      <td>545634</td>\n",
       "      <td>C2</td>\n",
       "      <td>CARRIAGE</td>\n",
       "      <td>1</td>\n",
       "      <td>2011-03-04 12:12:00</td>\n",
       "      <td>50.0</td>\n",
       "      <td>14911</td>\n",
       "      <td>EIRE</td>\n",
       "      <td>1</td>\n",
       "    </tr>\n",
       "    <tr>\n",
       "      <th>118976</th>\n",
       "      <td>546509</td>\n",
       "      <td>C2</td>\n",
       "      <td>CARRIAGE</td>\n",
       "      <td>1</td>\n",
       "      <td>2011-03-14 12:15:00</td>\n",
       "      <td>50.0</td>\n",
       "      <td>14911</td>\n",
       "      <td>EIRE</td>\n",
       "      <td>1</td>\n",
       "    </tr>\n",
       "    <tr>\n",
       "      <th>119342</th>\n",
       "      <td>546541</td>\n",
       "      <td>C2</td>\n",
       "      <td>CARRIAGE</td>\n",
       "      <td>1</td>\n",
       "      <td>2011-03-14 15:11:00</td>\n",
       "      <td>50.0</td>\n",
       "      <td>14911</td>\n",
       "      <td>EIRE</td>\n",
       "      <td>1</td>\n",
       "    </tr>\n",
       "    <tr>\n",
       "      <th>122313</th>\n",
       "      <td>546861</td>\n",
       "      <td>C2</td>\n",
       "      <td>CARRIAGE</td>\n",
       "      <td>1</td>\n",
       "      <td>2011-03-17 15:03:00</td>\n",
       "      <td>50.0</td>\n",
       "      <td>14911</td>\n",
       "      <td>EIRE</td>\n",
       "      <td>1</td>\n",
       "    </tr>\n",
       "    <tr>\n",
       "      <th>125562</th>\n",
       "      <td>547048</td>\n",
       "      <td>C2</td>\n",
       "      <td>CARRIAGE</td>\n",
       "      <td>1</td>\n",
       "      <td>2011-03-20 11:52:00</td>\n",
       "      <td>50.0</td>\n",
       "      <td>14911</td>\n",
       "      <td>EIRE</td>\n",
       "      <td>1</td>\n",
       "    </tr>\n",
       "    <tr>\n",
       "      <th>132830</th>\n",
       "      <td>547702</td>\n",
       "      <td>C2</td>\n",
       "      <td>CARRIAGE</td>\n",
       "      <td>1</td>\n",
       "      <td>2011-03-24 16:45:00</td>\n",
       "      <td>50.0</td>\n",
       "      <td>14911</td>\n",
       "      <td>EIRE</td>\n",
       "      <td>1</td>\n",
       "    </tr>\n",
       "    <tr>\n",
       "      <th>135138</th>\n",
       "      <td>547882</td>\n",
       "      <td>C2</td>\n",
       "      <td>CARRIAGE</td>\n",
       "      <td>1</td>\n",
       "      <td>2011-03-28 07:53:00</td>\n",
       "      <td>50.0</td>\n",
       "      <td>14911</td>\n",
       "      <td>EIRE</td>\n",
       "      <td>1</td>\n",
       "    </tr>\n",
       "    <tr>\n",
       "      <th>140583</th>\n",
       "      <td>548449</td>\n",
       "      <td>C2</td>\n",
       "      <td>CARRIAGE</td>\n",
       "      <td>1</td>\n",
       "      <td>2011-03-31 11:08:00</td>\n",
       "      <td>50.0</td>\n",
       "      <td>14911</td>\n",
       "      <td>EIRE</td>\n",
       "      <td>1</td>\n",
       "    </tr>\n",
       "    <tr>\n",
       "      <th>144858</th>\n",
       "      <td>548858</td>\n",
       "      <td>C2</td>\n",
       "      <td>CARRIAGE</td>\n",
       "      <td>1</td>\n",
       "      <td>2011-04-04 13:29:00</td>\n",
       "      <td>50.0</td>\n",
       "      <td>14911</td>\n",
       "      <td>EIRE</td>\n",
       "      <td>1</td>\n",
       "    </tr>\n",
       "    <tr>\n",
       "      <th>148557</th>\n",
       "      <td>549242</td>\n",
       "      <td>C2</td>\n",
       "      <td>CARRIAGE</td>\n",
       "      <td>1</td>\n",
       "      <td>2011-04-07 11:41:00</td>\n",
       "      <td>50.0</td>\n",
       "      <td>14911</td>\n",
       "      <td>EIRE</td>\n",
       "      <td>1</td>\n",
       "    </tr>\n",
       "    <tr>\n",
       "      <th>153034</th>\n",
       "      <td>549721</td>\n",
       "      <td>C2</td>\n",
       "      <td>CARRIAGE</td>\n",
       "      <td>1</td>\n",
       "      <td>2011-04-11 15:35:00</td>\n",
       "      <td>50.0</td>\n",
       "      <td>14911</td>\n",
       "      <td>EIRE</td>\n",
       "      <td>1</td>\n",
       "    </tr>\n",
       "    <tr>\n",
       "      <th>169529</th>\n",
       "      <td>551187</td>\n",
       "      <td>C2</td>\n",
       "      <td>CARRIAGE</td>\n",
       "      <td>1</td>\n",
       "      <td>2011-04-27 10:02:00</td>\n",
       "      <td>50.0</td>\n",
       "      <td>14911</td>\n",
       "      <td>EIRE</td>\n",
       "      <td>1</td>\n",
       "    </tr>\n",
       "    <tr>\n",
       "      <th>175308</th>\n",
       "      <td>551950</td>\n",
       "      <td>C2</td>\n",
       "      <td>CARRIAGE</td>\n",
       "      <td>1</td>\n",
       "      <td>2011-05-05 11:38:00</td>\n",
       "      <td>50.0</td>\n",
       "      <td>14911</td>\n",
       "      <td>EIRE</td>\n",
       "      <td>1</td>\n",
       "    </tr>\n",
       "  </tbody>\n",
       "</table>\n",
       "</div>"
      ],
      "text/plain": [
       "       TransactionId ItemId Description  Quantity     TransactionDate  \\\n",
       "1423          536540     C2    CARRIAGE         1 2010-12-01 14:05:00   \n",
       "12119         537368     C2    CARRIAGE         1 2010-12-06 12:40:00   \n",
       "12452         537378     C2    CARRIAGE         1 2010-12-06 13:06:00   \n",
       "37644         539473     C2    CARRIAGE         1 2010-12-19 14:24:00   \n",
       "42332         539984     C2    CARRIAGE         1 2010-12-23 14:58:00   \n",
       "44302        C540164     C2    CARRIAGE        -1 2011-01-05 12:02:00   \n",
       "50141         540547     C2    CARRIAGE         1 2011-01-09 16:07:00   \n",
       "61634         541434     C2    CARRIAGE         1 2011-01-18 10:22:00   \n",
       "69721         541979     C2    CARRIAGE         1 2011-01-24 14:54:00   \n",
       "73067         542278     C2    CARRIAGE         1 2011-01-27 10:43:00   \n",
       "81820         543178     C2    CARRIAGE         1 2011-02-04 10:31:00   \n",
       "92983         544210     C2    CARRIAGE         1 2011-02-17 11:01:00   \n",
       "94490         544390     C2    CARRIAGE         1 2011-02-18 11:36:00   \n",
       "109397        545634     C2    CARRIAGE         1 2011-03-04 12:12:00   \n",
       "118976        546509     C2    CARRIAGE         1 2011-03-14 12:15:00   \n",
       "119342        546541     C2    CARRIAGE         1 2011-03-14 15:11:00   \n",
       "122313        546861     C2    CARRIAGE         1 2011-03-17 15:03:00   \n",
       "125562        547048     C2    CARRIAGE         1 2011-03-20 11:52:00   \n",
       "132830        547702     C2    CARRIAGE         1 2011-03-24 16:45:00   \n",
       "135138        547882     C2    CARRIAGE         1 2011-03-28 07:53:00   \n",
       "140583        548449     C2    CARRIAGE         1 2011-03-31 11:08:00   \n",
       "144858        548858     C2    CARRIAGE         1 2011-04-04 13:29:00   \n",
       "148557        549242     C2    CARRIAGE         1 2011-04-07 11:41:00   \n",
       "153034        549721     C2    CARRIAGE         1 2011-04-11 15:35:00   \n",
       "169529        551187     C2    CARRIAGE         1 2011-04-27 10:02:00   \n",
       "175308        551950     C2    CARRIAGE         1 2011-05-05 11:38:00   \n",
       "\n",
       "        UnitPrice CustomerID Country  train_split  \n",
       "1423         50.0      14911    EIRE            1  \n",
       "12119        50.0      14911    EIRE            1  \n",
       "12452        50.0      14911    EIRE            1  \n",
       "37644        50.0      14911    EIRE            1  \n",
       "42332        50.0      14911    EIRE            1  \n",
       "44302        50.0      14911    EIRE            1  \n",
       "50141        50.0      14911    EIRE            1  \n",
       "61634        50.0      14911    EIRE            1  \n",
       "69721        50.0      14911    EIRE            1  \n",
       "73067        50.0      14911    EIRE            1  \n",
       "81820        50.0      14911    EIRE            1  \n",
       "92983        50.0      14911    EIRE            1  \n",
       "94490        50.0      14911    EIRE            1  \n",
       "109397       50.0      14911    EIRE            1  \n",
       "118976       50.0      14911    EIRE            1  \n",
       "119342       50.0      14911    EIRE            1  \n",
       "122313       50.0      14911    EIRE            1  \n",
       "125562       50.0      14911    EIRE            1  \n",
       "132830       50.0      14911    EIRE            1  \n",
       "135138       50.0      14911    EIRE            1  \n",
       "140583       50.0      14911    EIRE            1  \n",
       "144858       50.0      14911    EIRE            1  \n",
       "148557       50.0      14911    EIRE            1  \n",
       "153034       50.0      14911    EIRE            1  \n",
       "169529       50.0      14911    EIRE            1  \n",
       "175308       50.0      14911    EIRE            1  "
      ]
     },
     "execution_count": 1129,
     "metadata": {},
     "output_type": "execute_result"
    }
   ],
   "source": [
    "# most frequent user, item pair in train set\n",
    "item_id, user_id = np.unravel_index(item_user_train.argmax(), item_user_train.shape)\n",
    "item_id, user_id = get_keys(item_id, item_map), get_keys(user_id, user_map)\n",
    "df_limited.loc[(df_limited['CustomerID'] == user_id) & (df_limited['ItemId'] == item_id) & (df_limited['train_split'] == 1)]"
   ]
  },
  {
   "cell_type": "markdown",
   "metadata": {},
   "source": [
    "### Fit the ALS model\n"
   ]
  },
  {
   "cell_type": "code",
   "execution_count": 1130,
   "metadata": {},
   "outputs": [
    {
     "data": {
      "application/vnd.jupyter.widget-view+json": {
       "model_id": "5b39bf54adcb4226b8c3c4c26785b515",
       "version_major": 2,
       "version_minor": 0
      },
      "text/plain": [
       "HBox(children=(HTML(value=''), FloatProgress(value=0.0, max=20.0), HTML(value='')))"
      ]
     },
     "metadata": {},
     "output_type": "display_data"
    },
    {
     "name": "stdout",
     "output_type": "stream",
     "text": [
      "\n"
     ]
    }
   ],
   "source": [
    "# initialize a model\n",
    "alpha = 1  # as we observe more evidence for positive preference, our confidence in pui = 1 increases according to alpha (rate of increase)\n",
    "als_model = AlternatingLeastSquares(factors=200, regularization=1e1, iterations=20, random_state=70)\n",
    "\n",
    "\n",
    "# train the model on a sparse matrix of item/user/confidence weights\n",
    "#os.environ['MKL_NUM_THREADS'] = '3'\n",
    "# os.environ['OPENBLAS_NUM_THREADS'] = '1'\n",
    "# about the alpha hyperparameter: https://github.com/benfred/implicit/issues/199#issuecomment-490350326\n",
    "als_model.fit((item_user_train * alpha).astype('double'))"
   ]
  },
  {
   "cell_type": "markdown",
   "metadata": {},
   "source": [
    "# ALS model methods"
   ]
  },
  {
   "cell_type": "code",
   "execution_count": 1131,
   "metadata": {
    "scrolled": false
   },
   "outputs": [
    {
     "data": {
      "text/plain": [
       "[('85123A', 0.9786105),\n",
       " ('82494L', 0.96868634),\n",
       " ('82482', 0.96078426),\n",
       " ('82483', 0.96043885),\n",
       " ('82486', 0.9502886),\n",
       " ('84029G', 0.9025135),\n",
       " ('84406B', 0.90181017),\n",
       " ('84029E', 0.89305437),\n",
       " ('22633', 0.8890419),\n",
       " ('37370', 0.8845782)]"
      ]
     },
     "execution_count": 1131,
     "metadata": {},
     "output_type": "execute_result"
    }
   ],
   "source": [
    "# recommend items for a user. \n",
    "# the recommended items have the largest inner product with the user vector\n",
    "user_id = list(user_map.keys())[0]\n",
    "recommendations = als_model.recommend(user_map[user_id], user_item_train)\n",
    "list(map(lambda x: (get_keys(x[0], item_map), x[1]), recommendations))"
   ]
  },
  {
   "cell_type": "code",
   "execution_count": 1132,
   "metadata": {
    "scrolled": false
   },
   "outputs": [
    {
     "data": {
      "text/plain": [
       "[(2696, 0.9786105),\n",
       " (2306, 0.96868634),\n",
       " (2302, 0.96078426),\n",
       " (2303, 0.96043885),\n",
       " (2305, 0.9502886),\n",
       " (2326, 0.9025135),\n",
       " (2368, 0.90181017),\n",
       " (2325, 0.89305437),\n",
       " (1419, 0.8890419),\n",
       " (2081, 0.8845782)]"
      ]
     },
     "execution_count": 1132,
     "metadata": {},
     "output_type": "execute_result"
    }
   ],
   "source": [
    "als_model.recommend(user_map[user_id], user_item_train)"
   ]
  },
  {
   "cell_type": "code",
   "execution_count": 1133,
   "metadata": {},
   "outputs": [
    {
     "data": {
      "text/plain": [
       "[('22633', 1.0),\n",
       " ('22632', 0.7339511),\n",
       " ('22866', 0.7002717),\n",
       " ('22865', 0.66041434),\n",
       " ('22867', 0.64046586),\n",
       " ('22803', 0.41273296),\n",
       " ('22130', 0.38630185),\n",
       " ('84029E', 0.3811585),\n",
       " ('20878', 0.36515948),\n",
       " ('22100', 0.3589486)]"
      ]
     },
     "execution_count": 1133,
     "metadata": {},
     "output_type": "execute_result"
    }
   ],
   "source": [
    "# find related items\n",
    "# the related items have the largest inner product with the item vector\n",
    "item_id = list(item_map.keys())[0]\n",
    "related = als_model.similar_items(item_map[item_id])\n",
    "list(map(lambda x: (get_keys(x[0], item_map), x[1]), related))"
   ]
  },
  {
   "cell_type": "code",
   "execution_count": 1134,
   "metadata": {
    "scrolled": true
   },
   "outputs": [
    {
     "name": "stdout",
     "output_type": "stream",
     "text": [
      "The score of the user/item pair is:  0.8889417426853344\n",
      "The top N (itemid, score) contributions for this user/item pair are:\n",
      " [('22633', 0.4438622092825637), ('22632', 0.19340651202246403), ('21730', 0.053449215870447014), ('21068', 0.04303949243652459), ('84029E', 0.03600247598870089), ('84029G', 0.023774122113712562), ('82494L', 0.023285114550924302), ('22752', 0.02102217498414777), ('84406B', 0.020520714234860377), ('22803', 0.015846688718524883)]\n"
     ]
    }
   ],
   "source": [
    "# show the top 10 items that explain the recommended item to the user\n",
    "# It is possible to write the LVM as a linear function between preferences and past actions.\n",
    "# We can then see what are the actions associated with the highest contributions to the given recommendation.\n",
    "score, contributions, user_weights = als_model.explain(user_map[user_id], \n",
    "                                                       user_item_train,\n",
    "                                                       item_map[item_id])\n",
    "print(\"The score of the user/item pair is: \", score)\n",
    "print(\"The top N (itemid, score) contributions for this user/item pair are:\\n\", list(map(lambda x: (get_keys(x[0], item_map), x[1]), contributions)))"
   ]
  },
  {
   "cell_type": "markdown",
   "metadata": {},
   "source": [
    "##  BayesianPersonalizedRanking Model"
   ]
  },
  {
   "cell_type": "code",
   "execution_count": 1135,
   "metadata": {},
   "outputs": [],
   "source": [
    "bpr_model = BayesianPersonalizedRanking(factors=101, regularization=1e1, iterations=98, random_state=70)"
   ]
  },
  {
   "cell_type": "code",
   "execution_count": 1136,
   "metadata": {},
   "outputs": [
    {
     "data": {
      "application/vnd.jupyter.widget-view+json": {
       "model_id": "85210bc16f7447ccbe02e5daf9049ab5",
       "version_major": 2,
       "version_minor": 0
      },
      "text/plain": [
       "HBox(children=(HTML(value=''), FloatProgress(value=0.0, max=98.0), HTML(value='')))"
      ]
     },
     "metadata": {},
     "output_type": "display_data"
    },
    {
     "name": "stdout",
     "output_type": "stream",
     "text": [
      "\n"
     ]
    }
   ],
   "source": [
    "bpr_model.fit(item_user_train)"
   ]
  },
  {
   "cell_type": "markdown",
   "metadata": {},
   "source": [
    "## LogisticMatrixFactorization model"
   ]
  },
  {
   "cell_type": "code",
   "execution_count": 1137,
   "metadata": {},
   "outputs": [],
   "source": [
    "lmf_model = LogisticMatrixFactorization(factors=60, regularization=1e1, iterations=80, random_state=70)"
   ]
  },
  {
   "cell_type": "code",
   "execution_count": 1138,
   "metadata": {},
   "outputs": [
    {
     "name": "stderr",
     "output_type": "stream",
     "text": [
      "100%|██████████| 80/80 [00:02<00:00, 39.88it/s]\n"
     ]
    }
   ],
   "source": [
    "lmf_model.fit(item_user_train)"
   ]
  },
  {
   "cell_type": "markdown",
   "metadata": {},
   "source": [
    "## NMSLibAlternatingLeastSquares"
   ]
  },
  {
   "cell_type": "code",
   "execution_count": 1139,
   "metadata": {},
   "outputs": [],
   "source": [
    "nmslals_model=NMSLibAlternatingLeastSquares(approximate_similar_items =False, approximate_recommend =False, random_state=14)"
   ]
  },
  {
   "cell_type": "code",
   "execution_count": 1140,
   "metadata": {
    "scrolled": false
   },
   "outputs": [
    {
     "data": {
      "application/vnd.jupyter.widget-view+json": {
       "model_id": "355a94b6c3824ea8ae5523750415e242",
       "version_major": 2,
       "version_minor": 0
      },
      "text/plain": [
       "HBox(children=(HTML(value=''), FloatProgress(value=0.0, max=15.0), HTML(value='')))"
      ]
     },
     "metadata": {},
     "output_type": "display_data"
    },
    {
     "name": "stdout",
     "output_type": "stream",
     "text": [
      "\n"
     ]
    }
   ],
   "source": [
    "nmslals_model.fit(item_user_train)"
   ]
  },
  {
   "cell_type": "markdown",
   "metadata": {},
   "source": [
    "# Evaluation\n",
    "**Note**: We are measuring how well the model will rank the items in the test set for a user, given different items in the training set i.e. **the train and test set have the same users**. We are not making inference for new users that didn't appear in the training set. For new users in production, there is a `recalculate_user` method which can be used for generating recommendations without recalculating the whole model. Also, the `recommend(recalculate_user=True)` method allows the model to recommend for new users on the fly ([github issue](https://github.com/benfred/implicit/issues/152))."
   ]
  },
  {
   "cell_type": "code",
   "execution_count": 1141,
   "metadata": {},
   "outputs": [],
   "source": [
    "# Baseline: Recommend the most popular items to every user\n",
    "class PopularRecommender():\n",
    "    \"\"\"Baseline Recommender that always suggests the most popular items to every user.\n",
    "    \"\"\"\n",
    "    def fit(self, item_users):\n",
    "        self.item_id_sort = np.argsort(np.squeeze(np.asarray(item_users.sum(axis=1).reshape(-1))))[::-1]\n",
    "    \n",
    "    def recommend(self, userid, user_items, N=10, filter_already_liked_items=None, filter_items=None, recalculate_user=None):\n",
    "        if filter_already_liked_items != None or filter_items != None or recalculate_user != None:\n",
    "            raise NotImplementedError(\"filter_already_liked_items, filter_items and recalculate_user aren't support yet\")\n",
    "        \n",
    "        return list(zip(self.item_id_sort[:N], range(1, N + 1)))"
   ]
  },
  {
   "cell_type": "code",
   "execution_count": 1142,
   "metadata": {},
   "outputs": [],
   "source": [
    "# Fitting PopularRecommender model\n",
    "pop_model = PopularRecommender()\n",
    "pop_model.fit(item_user_train)"
   ]
  },
  {
   "cell_type": "code",
   "execution_count": 1143,
   "metadata": {
    "scrolled": false
   },
   "outputs": [
    {
     "data": {
      "application/vnd.jupyter.widget-view+json": {
       "model_id": "ec259cd4eb6847a38d6865390a50b26c",
       "version_major": 2,
       "version_minor": 0
      },
      "text/plain": [
       "HBox(children=(HTML(value=''), FloatProgress(value=0.0, max=2884.0), HTML(value='')))"
      ]
     },
     "metadata": {},
     "output_type": "display_data"
    },
    {
     "name": "stdout",
     "output_type": "stream",
     "text": [
      "\n"
     ]
    },
    {
     "data": {
      "application/vnd.jupyter.widget-view+json": {
       "model_id": "33a0f15fce2a40ea9e43465c8e02b7d1",
       "version_major": 2,
       "version_minor": 0
      },
      "text/plain": [
       "HBox(children=(HTML(value=''), FloatProgress(value=0.0, max=2884.0), HTML(value='')))"
      ]
     },
     "metadata": {},
     "output_type": "display_data"
    },
    {
     "name": "stdout",
     "output_type": "stream",
     "text": [
      "\n"
     ]
    },
    {
     "data": {
      "application/vnd.jupyter.widget-view+json": {
       "model_id": "cf9a2af472a44b1c81e4f22865b2f2d1",
       "version_major": 2,
       "version_minor": 0
      },
      "text/plain": [
       "HBox(children=(HTML(value=''), FloatProgress(value=0.0, max=2884.0), HTML(value='')))"
      ]
     },
     "metadata": {},
     "output_type": "display_data"
    },
    {
     "name": "stdout",
     "output_type": "stream",
     "text": [
      "\n"
     ]
    },
    {
     "data": {
      "application/vnd.jupyter.widget-view+json": {
       "model_id": "f509f9d4a5f34199899370a461f72f6e",
       "version_major": 2,
       "version_minor": 0
      },
      "text/plain": [
       "HBox(children=(HTML(value=''), FloatProgress(value=0.0, max=2884.0), HTML(value='')))"
      ]
     },
     "metadata": {},
     "output_type": "display_data"
    },
    {
     "name": "stdout",
     "output_type": "stream",
     "text": [
      "\n"
     ]
    },
    {
     "data": {
      "application/vnd.jupyter.widget-view+json": {
       "model_id": "c866c8afde764e1e897f0f53b0d3e24d",
       "version_major": 2,
       "version_minor": 0
      },
      "text/plain": [
       "HBox(children=(HTML(value=''), FloatProgress(value=0.0, max=2884.0), HTML(value='')))"
      ]
     },
     "metadata": {},
     "output_type": "display_data"
    },
    {
     "name": "stdout",
     "output_type": "stream",
     "text": [
      "\n"
     ]
    },
    {
     "data": {
      "text/html": [
       "<div>\n",
       "<style scoped>\n",
       "    .dataframe tbody tr th:only-of-type {\n",
       "        vertical-align: middle;\n",
       "    }\n",
       "\n",
       "    .dataframe tbody tr th {\n",
       "        vertical-align: top;\n",
       "    }\n",
       "\n",
       "    .dataframe thead th {\n",
       "        text-align: right;\n",
       "    }\n",
       "</style>\n",
       "<table border=\"1\" class=\"dataframe\">\n",
       "  <thead>\n",
       "    <tr style=\"text-align: right;\">\n",
       "      <th></th>\n",
       "      <th>pop_model</th>\n",
       "      <th>als_model</th>\n",
       "      <th>bpr_model</th>\n",
       "      <th>lmf_model</th>\n",
       "      <th>nmslals_model</th>\n",
       "    </tr>\n",
       "  </thead>\n",
       "  <tbody>\n",
       "    <tr>\n",
       "      <th>precision</th>\n",
       "      <td>0.110527</td>\n",
       "      <td>0.074625</td>\n",
       "      <td>0.006519</td>\n",
       "      <td>0.071415</td>\n",
       "      <td>0.069469</td>\n",
       "    </tr>\n",
       "    <tr>\n",
       "      <th>map</th>\n",
       "      <td>0.048677</td>\n",
       "      <td>0.032490</td>\n",
       "      <td>0.002976</td>\n",
       "      <td>0.029824</td>\n",
       "      <td>0.028918</td>\n",
       "    </tr>\n",
       "    <tr>\n",
       "      <th>ndcg</th>\n",
       "      <td>0.110997</td>\n",
       "      <td>0.074841</td>\n",
       "      <td>0.007739</td>\n",
       "      <td>0.071804</td>\n",
       "      <td>0.068597</td>\n",
       "    </tr>\n",
       "    <tr>\n",
       "      <th>auc</th>\n",
       "      <td>0.522303</td>\n",
       "      <td>0.513972</td>\n",
       "      <td>0.499293</td>\n",
       "      <td>0.514280</td>\n",
       "      <td>0.513434</td>\n",
       "    </tr>\n",
       "  </tbody>\n",
       "</table>\n",
       "</div>"
      ],
      "text/plain": [
       "           pop_model  als_model  bpr_model  lmf_model  nmslals_model\n",
       "precision   0.110527   0.074625   0.006519   0.071415       0.069469\n",
       "map         0.048677   0.032490   0.002976   0.029824       0.028918\n",
       "ndcg        0.110997   0.074841   0.007739   0.071804       0.068597\n",
       "auc         0.522303   0.513972   0.499293   0.514280       0.513434"
      ]
     },
     "execution_count": 1143,
     "metadata": {},
     "output_type": "execute_result"
    }
   ],
   "source": [
    "# Evaluate models. \n",
    "# Precision at K, Mean Average Precision at K, Normalized Discounted Cumulative Gain at K, AUC at K\n",
    "eval_models = {'pop_model': pop_model, \n",
    "               'als_model': als_model,\n",
    "                'bpr_model':bpr_model,\n",
    "                'lmf_model':lmf_model,\n",
    "               'nmslals_model':nmslals_model\n",
    "              }\n",
    "eval_table = {}\n",
    "for k, v in eval_models.items():\n",
    "    eval_table[k] = ranking_metrics_at_k(v, user_item_train, user_item_test, K=10, show_progress=True, num_threads=0)\n",
    "eval_table = pd.DataFrame(eval_table)\n",
    "eval_table"
   ]
  },
  {
   "cell_type": "markdown",
   "metadata": {},
   "source": [
    "## New Customers Cold Start Problem"
   ]
  },
  {
   "cell_type": "code",
   "execution_count": 1108,
   "metadata": {},
   "outputs": [
    {
     "data": {
      "text/html": [
       "<div>\n",
       "<style scoped>\n",
       "    .dataframe tbody tr th:only-of-type {\n",
       "        vertical-align: middle;\n",
       "    }\n",
       "\n",
       "    .dataframe tbody tr th {\n",
       "        vertical-align: top;\n",
       "    }\n",
       "\n",
       "    .dataframe thead th {\n",
       "        text-align: right;\n",
       "    }\n",
       "</style>\n",
       "<table border=\"1\" class=\"dataframe\">\n",
       "  <thead>\n",
       "    <tr style=\"text-align: right;\">\n",
       "      <th></th>\n",
       "      <th>TransactionId</th>\n",
       "      <th>ItemId</th>\n",
       "      <th>Description</th>\n",
       "      <th>Quantity</th>\n",
       "      <th>TransactionDate</th>\n",
       "      <th>UnitPrice</th>\n",
       "      <th>CustomerID</th>\n",
       "      <th>Country</th>\n",
       "    </tr>\n",
       "  </thead>\n",
       "  <tbody>\n",
       "    <tr>\n",
       "      <th>622</th>\n",
       "      <td>536414</td>\n",
       "      <td>22139</td>\n",
       "      <td>NaN</td>\n",
       "      <td>56</td>\n",
       "      <td>2010-12-01 11:52:00</td>\n",
       "      <td>0.00</td>\n",
       "      <td>NaN</td>\n",
       "      <td>United Kingdom</td>\n",
       "    </tr>\n",
       "    <tr>\n",
       "      <th>1443</th>\n",
       "      <td>536544</td>\n",
       "      <td>21773</td>\n",
       "      <td>DECORATIVE ROSE BATHROOM BOTTLE</td>\n",
       "      <td>1</td>\n",
       "      <td>2010-12-01 14:32:00</td>\n",
       "      <td>2.51</td>\n",
       "      <td>NaN</td>\n",
       "      <td>United Kingdom</td>\n",
       "    </tr>\n",
       "    <tr>\n",
       "      <th>1444</th>\n",
       "      <td>536544</td>\n",
       "      <td>21774</td>\n",
       "      <td>DECORATIVE CATS BATHROOM BOTTLE</td>\n",
       "      <td>2</td>\n",
       "      <td>2010-12-01 14:32:00</td>\n",
       "      <td>2.51</td>\n",
       "      <td>NaN</td>\n",
       "      <td>United Kingdom</td>\n",
       "    </tr>\n",
       "    <tr>\n",
       "      <th>1445</th>\n",
       "      <td>536544</td>\n",
       "      <td>21786</td>\n",
       "      <td>POLKADOT RAIN HAT</td>\n",
       "      <td>4</td>\n",
       "      <td>2010-12-01 14:32:00</td>\n",
       "      <td>0.85</td>\n",
       "      <td>NaN</td>\n",
       "      <td>United Kingdom</td>\n",
       "    </tr>\n",
       "    <tr>\n",
       "      <th>1446</th>\n",
       "      <td>536544</td>\n",
       "      <td>21787</td>\n",
       "      <td>RAIN PONCHO RETROSPOT</td>\n",
       "      <td>2</td>\n",
       "      <td>2010-12-01 14:32:00</td>\n",
       "      <td>1.66</td>\n",
       "      <td>NaN</td>\n",
       "      <td>United Kingdom</td>\n",
       "    </tr>\n",
       "  </tbody>\n",
       "</table>\n",
       "</div>"
      ],
      "text/plain": [
       "     TransactionId ItemId                      Description  Quantity  \\\n",
       "622         536414  22139                              NaN        56   \n",
       "1443        536544  21773  DECORATIVE ROSE BATHROOM BOTTLE         1   \n",
       "1444        536544  21774  DECORATIVE CATS BATHROOM BOTTLE         2   \n",
       "1445        536544  21786               POLKADOT RAIN HAT          4   \n",
       "1446        536544  21787            RAIN PONCHO RETROSPOT         2   \n",
       "\n",
       "         TransactionDate  UnitPrice CustomerID         Country  \n",
       "622  2010-12-01 11:52:00       0.00        NaN  United Kingdom  \n",
       "1443 2010-12-01 14:32:00       2.51        NaN  United Kingdom  \n",
       "1444 2010-12-01 14:32:00       2.51        NaN  United Kingdom  \n",
       "1445 2010-12-01 14:32:00       0.85        NaN  United Kingdom  \n",
       "1446 2010-12-01 14:32:00       1.66        NaN  United Kingdom  "
      ]
     },
     "execution_count": 1108,
     "metadata": {},
     "output_type": "execute_result"
    }
   ],
   "source": [
    "newCustomers_df = df[df.CustomerID.isna()]\n",
    "newCustomers_df.head()"
   ]
  },
  {
   "cell_type": "code",
   "execution_count": 1109,
   "metadata": {},
   "outputs": [
    {
     "name": "stderr",
     "output_type": "stream",
     "text": [
      "C:\\Users\\bruno\\Anaconda3\\lib\\site-packages\\pandas\\core\\frame.py:4163: SettingWithCopyWarning: \n",
      "A value is trying to be set on a copy of a slice from a DataFrame\n",
      "\n",
      "See the caveats in the documentation: https://pandas.pydata.org/pandas-docs/stable/user_guide/indexing.html#returning-a-view-versus-a-copy\n",
      "  return super().drop(\n"
     ]
    }
   ],
   "source": [
    "newCustomers_df.drop(['CustomerID'], inplace=True,axis=1)"
   ]
  },
  {
   "cell_type": "code",
   "execution_count": 1110,
   "metadata": {},
   "outputs": [],
   "source": [
    "newCustomers_df.reset_index(inplace=True)"
   ]
  },
  {
   "cell_type": "code",
   "execution_count": 1111,
   "metadata": {},
   "outputs": [
    {
     "name": "stderr",
     "output_type": "stream",
     "text": [
      "C:\\Users\\bruno\\Anaconda3\\lib\\site-packages\\pandas\\core\\frame.py:4296: SettingWithCopyWarning: \n",
      "A value is trying to be set on a copy of a slice from a DataFrame\n",
      "\n",
      "See the caveats in the documentation: https://pandas.pydata.org/pandas-docs/stable/user_guide/indexing.html#returning-a-view-versus-a-copy\n",
      "  return super().rename(\n"
     ]
    }
   ],
   "source": [
    "newCustomers_df.rename({'index':'CustomerID'},inplace=True,axis=1)"
   ]
  },
  {
   "cell_type": "code",
   "execution_count": 1112,
   "metadata": {},
   "outputs": [
    {
     "data": {
      "text/html": [
       "<div>\n",
       "<style scoped>\n",
       "    .dataframe tbody tr th:only-of-type {\n",
       "        vertical-align: middle;\n",
       "    }\n",
       "\n",
       "    .dataframe tbody tr th {\n",
       "        vertical-align: top;\n",
       "    }\n",
       "\n",
       "    .dataframe thead th {\n",
       "        text-align: right;\n",
       "    }\n",
       "</style>\n",
       "<table border=\"1\" class=\"dataframe\">\n",
       "  <thead>\n",
       "    <tr style=\"text-align: right;\">\n",
       "      <th></th>\n",
       "      <th>CustomerID</th>\n",
       "      <th>TransactionId</th>\n",
       "      <th>ItemId</th>\n",
       "      <th>Description</th>\n",
       "      <th>Quantity</th>\n",
       "      <th>TransactionDate</th>\n",
       "      <th>UnitPrice</th>\n",
       "      <th>Country</th>\n",
       "    </tr>\n",
       "  </thead>\n",
       "  <tbody>\n",
       "    <tr>\n",
       "      <th>0</th>\n",
       "      <td>622</td>\n",
       "      <td>536414</td>\n",
       "      <td>22139</td>\n",
       "      <td>NaN</td>\n",
       "      <td>56</td>\n",
       "      <td>2010-12-01 11:52:00</td>\n",
       "      <td>0.00</td>\n",
       "      <td>United Kingdom</td>\n",
       "    </tr>\n",
       "    <tr>\n",
       "      <th>1</th>\n",
       "      <td>1443</td>\n",
       "      <td>536544</td>\n",
       "      <td>21773</td>\n",
       "      <td>DECORATIVE ROSE BATHROOM BOTTLE</td>\n",
       "      <td>1</td>\n",
       "      <td>2010-12-01 14:32:00</td>\n",
       "      <td>2.51</td>\n",
       "      <td>United Kingdom</td>\n",
       "    </tr>\n",
       "    <tr>\n",
       "      <th>2</th>\n",
       "      <td>1444</td>\n",
       "      <td>536544</td>\n",
       "      <td>21774</td>\n",
       "      <td>DECORATIVE CATS BATHROOM BOTTLE</td>\n",
       "      <td>2</td>\n",
       "      <td>2010-12-01 14:32:00</td>\n",
       "      <td>2.51</td>\n",
       "      <td>United Kingdom</td>\n",
       "    </tr>\n",
       "    <tr>\n",
       "      <th>3</th>\n",
       "      <td>1445</td>\n",
       "      <td>536544</td>\n",
       "      <td>21786</td>\n",
       "      <td>POLKADOT RAIN HAT</td>\n",
       "      <td>4</td>\n",
       "      <td>2010-12-01 14:32:00</td>\n",
       "      <td>0.85</td>\n",
       "      <td>United Kingdom</td>\n",
       "    </tr>\n",
       "    <tr>\n",
       "      <th>4</th>\n",
       "      <td>1446</td>\n",
       "      <td>536544</td>\n",
       "      <td>21787</td>\n",
       "      <td>RAIN PONCHO RETROSPOT</td>\n",
       "      <td>2</td>\n",
       "      <td>2010-12-01 14:32:00</td>\n",
       "      <td>1.66</td>\n",
       "      <td>United Kingdom</td>\n",
       "    </tr>\n",
       "    <tr>\n",
       "      <th>...</th>\n",
       "      <td>...</td>\n",
       "      <td>...</td>\n",
       "      <td>...</td>\n",
       "      <td>...</td>\n",
       "      <td>...</td>\n",
       "      <td>...</td>\n",
       "      <td>...</td>\n",
       "      <td>...</td>\n",
       "    </tr>\n",
       "    <tr>\n",
       "      <th>135075</th>\n",
       "      <td>541536</td>\n",
       "      <td>581498</td>\n",
       "      <td>85099B</td>\n",
       "      <td>JUMBO BAG RED RETROSPOT</td>\n",
       "      <td>5</td>\n",
       "      <td>2011-12-09 10:26:00</td>\n",
       "      <td>4.13</td>\n",
       "      <td>United Kingdom</td>\n",
       "    </tr>\n",
       "    <tr>\n",
       "      <th>135076</th>\n",
       "      <td>541537</td>\n",
       "      <td>581498</td>\n",
       "      <td>85099C</td>\n",
       "      <td>JUMBO  BAG BAROQUE BLACK WHITE</td>\n",
       "      <td>4</td>\n",
       "      <td>2011-12-09 10:26:00</td>\n",
       "      <td>4.13</td>\n",
       "      <td>United Kingdom</td>\n",
       "    </tr>\n",
       "    <tr>\n",
       "      <th>135077</th>\n",
       "      <td>541538</td>\n",
       "      <td>581498</td>\n",
       "      <td>85150</td>\n",
       "      <td>LADIES &amp; GENTLEMEN METAL SIGN</td>\n",
       "      <td>1</td>\n",
       "      <td>2011-12-09 10:26:00</td>\n",
       "      <td>4.96</td>\n",
       "      <td>United Kingdom</td>\n",
       "    </tr>\n",
       "    <tr>\n",
       "      <th>135078</th>\n",
       "      <td>541539</td>\n",
       "      <td>581498</td>\n",
       "      <td>85174</td>\n",
       "      <td>S/4 CACTI CANDLES</td>\n",
       "      <td>1</td>\n",
       "      <td>2011-12-09 10:26:00</td>\n",
       "      <td>10.79</td>\n",
       "      <td>United Kingdom</td>\n",
       "    </tr>\n",
       "    <tr>\n",
       "      <th>135079</th>\n",
       "      <td>541540</td>\n",
       "      <td>581498</td>\n",
       "      <td>DOT</td>\n",
       "      <td>DOTCOM POSTAGE</td>\n",
       "      <td>1</td>\n",
       "      <td>2011-12-09 10:26:00</td>\n",
       "      <td>1714.17</td>\n",
       "      <td>United Kingdom</td>\n",
       "    </tr>\n",
       "  </tbody>\n",
       "</table>\n",
       "<p>135080 rows × 8 columns</p>\n",
       "</div>"
      ],
      "text/plain": [
       "        CustomerID TransactionId  ItemId                      Description  \\\n",
       "0              622        536414   22139                              NaN   \n",
       "1             1443        536544   21773  DECORATIVE ROSE BATHROOM BOTTLE   \n",
       "2             1444        536544   21774  DECORATIVE CATS BATHROOM BOTTLE   \n",
       "3             1445        536544   21786               POLKADOT RAIN HAT    \n",
       "4             1446        536544   21787            RAIN PONCHO RETROSPOT   \n",
       "...            ...           ...     ...                              ...   \n",
       "135075      541536        581498  85099B          JUMBO BAG RED RETROSPOT   \n",
       "135076      541537        581498  85099C   JUMBO  BAG BAROQUE BLACK WHITE   \n",
       "135077      541538        581498   85150    LADIES & GENTLEMEN METAL SIGN   \n",
       "135078      541539        581498   85174                S/4 CACTI CANDLES   \n",
       "135079      541540        581498     DOT                   DOTCOM POSTAGE   \n",
       "\n",
       "        Quantity     TransactionDate  UnitPrice         Country  \n",
       "0             56 2010-12-01 11:52:00       0.00  United Kingdom  \n",
       "1              1 2010-12-01 14:32:00       2.51  United Kingdom  \n",
       "2              2 2010-12-01 14:32:00       2.51  United Kingdom  \n",
       "3              4 2010-12-01 14:32:00       0.85  United Kingdom  \n",
       "4              2 2010-12-01 14:32:00       1.66  United Kingdom  \n",
       "...          ...                 ...        ...             ...  \n",
       "135075         5 2011-12-09 10:26:00       4.13  United Kingdom  \n",
       "135076         4 2011-12-09 10:26:00       4.13  United Kingdom  \n",
       "135077         1 2011-12-09 10:26:00       4.96  United Kingdom  \n",
       "135078         1 2011-12-09 10:26:00      10.79  United Kingdom  \n",
       "135079         1 2011-12-09 10:26:00    1714.17  United Kingdom  \n",
       "\n",
       "[135080 rows x 8 columns]"
      ]
     },
     "execution_count": 1112,
     "metadata": {},
     "output_type": "execute_result"
    }
   ],
   "source": [
    "newCustomers_df"
   ]
  },
  {
   "cell_type": "markdown",
   "metadata": {},
   "source": [
    "# Train-test split"
   ]
  },
  {
   "cell_type": "code",
   "execution_count": 1113,
   "metadata": {},
   "outputs": [
    {
     "name": "stdout",
     "output_type": "stream",
     "text": [
      "Proportion of train events: 0.79\n"
     ]
    },
    {
     "name": "stderr",
     "output_type": "stream",
     "text": [
      "<ipython-input-1113-62572a0541e5>:10: SettingWithCopyWarning: \n",
      "A value is trying to be set on a copy of a slice from a DataFrame.\n",
      "Try using .loc[row_indexer,col_indexer] = value instead\n",
      "\n",
      "See the caveats in the documentation: https://pandas.pydata.org/pandas-docs/stable/user_guide/indexing.html#returning-a-view-versus-a-copy\n",
      "  newCustomers_df['train_split'] = (newCustomers_df['TransactionDate'] <= start_test).astype(int)\n"
     ]
    }
   ],
   "source": [
    "# Train-test split\n",
    "start_train = newCustomers_df['TransactionDate'].min()\n",
    "start_test = start_train + pd.to_timedelta(10, unit='w')\n",
    "end_test = start_test + pd.to_timedelta(5, unit='w')\n",
    "\n",
    "# Create new limited df\n",
    "newCustomers_df = newCustomers_df.loc[(newCustomers_df['TransactionDate'] > start_train) & (newCustomers_df['TransactionDate'] <= end_test)]\n",
    "\n",
    "# Create train_split flag\n",
    "newCustomers_df['train_split'] = (newCustomers_df['TransactionDate'] <= start_test).astype(int)\n",
    "print(\"Proportion of train events: {:.2f}\".format(newCustomers_df['train_split'].mean()))"
   ]
  },
  {
   "cell_type": "code",
   "execution_count": 1114,
   "metadata": {},
   "outputs": [
    {
     "data": {
      "image/png": "[encoded data removed]",
      "text/plain": [
       "<Figure size 864x432 with 1 Axes>"
      ]
     },
     "metadata": {
      "needs_background": "light"
     },
     "output_type": "display_data"
    }
   ],
   "source": [
    "# Visualize train and test set\n",
    "data = pd.DatetimeIndex(newCustomers_df['TransactionDate']).normalize().value_counts().sort_index()\n",
    "fig = plt.figure(figsize=(12,6))\n",
    "plt.plot(data.index, data.values, linestyle=\"-\")\n",
    "plt.xticks(np.arange(data.index[0], data.index[-1], pd.to_timedelta(7, unit='d')), rotation=45)\n",
    "plt.vlines(start_test, 0, data.max(), linestyles='dashed', color='r', label='train-test split')\n",
    "plt.legend()\n",
    "plt.title('Event frequency time series - train and test set')\n",
    "plt.show()"
   ]
  },
  {
   "cell_type": "code",
   "execution_count": 1115,
   "metadata": {
    "scrolled": true
   },
   "outputs": [
    {
     "data": {
      "text/html": [
       "<div>\n",
       "<style scoped>\n",
       "    .dataframe tbody tr th:only-of-type {\n",
       "        vertical-align: middle;\n",
       "    }\n",
       "\n",
       "    .dataframe tbody tr th {\n",
       "        vertical-align: top;\n",
       "    }\n",
       "\n",
       "    .dataframe thead th {\n",
       "        text-align: right;\n",
       "    }\n",
       "</style>\n",
       "<table border=\"1\" class=\"dataframe\">\n",
       "  <thead>\n",
       "    <tr style=\"text-align: right;\">\n",
       "      <th></th>\n",
       "      <th>CustomerID</th>\n",
       "      <th>TransactionId</th>\n",
       "      <th>ItemId</th>\n",
       "      <th>Description</th>\n",
       "      <th>Quantity</th>\n",
       "      <th>TransactionDate</th>\n",
       "      <th>UnitPrice</th>\n",
       "      <th>Country</th>\n",
       "      <th>train_split</th>\n",
       "    </tr>\n",
       "  </thead>\n",
       "  <tbody>\n",
       "    <tr>\n",
       "      <th>1</th>\n",
       "      <td>1443</td>\n",
       "      <td>536544</td>\n",
       "      <td>21773</td>\n",
       "      <td>DECORATIVE ROSE BATHROOM BOTTLE</td>\n",
       "      <td>1</td>\n",
       "      <td>2010-12-01 14:32:00</td>\n",
       "      <td>2.51</td>\n",
       "      <td>United Kingdom</td>\n",
       "      <td>1</td>\n",
       "    </tr>\n",
       "    <tr>\n",
       "      <th>2</th>\n",
       "      <td>1444</td>\n",
       "      <td>536544</td>\n",
       "      <td>21774</td>\n",
       "      <td>DECORATIVE CATS BATHROOM BOTTLE</td>\n",
       "      <td>2</td>\n",
       "      <td>2010-12-01 14:32:00</td>\n",
       "      <td>2.51</td>\n",
       "      <td>United Kingdom</td>\n",
       "      <td>1</td>\n",
       "    </tr>\n",
       "    <tr>\n",
       "      <th>3</th>\n",
       "      <td>1445</td>\n",
       "      <td>536544</td>\n",
       "      <td>21786</td>\n",
       "      <td>POLKADOT RAIN HAT</td>\n",
       "      <td>4</td>\n",
       "      <td>2010-12-01 14:32:00</td>\n",
       "      <td>0.85</td>\n",
       "      <td>United Kingdom</td>\n",
       "      <td>1</td>\n",
       "    </tr>\n",
       "    <tr>\n",
       "      <th>4</th>\n",
       "      <td>1446</td>\n",
       "      <td>536544</td>\n",
       "      <td>21787</td>\n",
       "      <td>RAIN PONCHO RETROSPOT</td>\n",
       "      <td>2</td>\n",
       "      <td>2010-12-01 14:32:00</td>\n",
       "      <td>1.66</td>\n",
       "      <td>United Kingdom</td>\n",
       "      <td>1</td>\n",
       "    </tr>\n",
       "    <tr>\n",
       "      <th>5</th>\n",
       "      <td>1447</td>\n",
       "      <td>536544</td>\n",
       "      <td>21790</td>\n",
       "      <td>VINTAGE SNAP CARDS</td>\n",
       "      <td>9</td>\n",
       "      <td>2010-12-01 14:32:00</td>\n",
       "      <td>1.66</td>\n",
       "      <td>United Kingdom</td>\n",
       "      <td>1</td>\n",
       "    </tr>\n",
       "    <tr>\n",
       "      <th>...</th>\n",
       "      <td>...</td>\n",
       "      <td>...</td>\n",
       "      <td>...</td>\n",
       "      <td>...</td>\n",
       "      <td>...</td>\n",
       "      <td>...</td>\n",
       "      <td>...</td>\n",
       "      <td>...</td>\n",
       "      <td>...</td>\n",
       "    </tr>\n",
       "    <tr>\n",
       "      <th>39503</th>\n",
       "      <td>120588</td>\n",
       "      <td>546663</td>\n",
       "      <td>21288</td>\n",
       "      <td>STRIPEY CHOCOLATE NESTING BOXES</td>\n",
       "      <td>1</td>\n",
       "      <td>2011-03-15 14:36:00</td>\n",
       "      <td>2.95</td>\n",
       "      <td>United Kingdom</td>\n",
       "      <td>0</td>\n",
       "    </tr>\n",
       "    <tr>\n",
       "      <th>39504</th>\n",
       "      <td>120589</td>\n",
       "      <td>546663</td>\n",
       "      <td>90022</td>\n",
       "      <td>EDWARDIAN DROP EARRINGS JET BLACK</td>\n",
       "      <td>1</td>\n",
       "      <td>2011-03-15 14:36:00</td>\n",
       "      <td>3.75</td>\n",
       "      <td>United Kingdom</td>\n",
       "      <td>0</td>\n",
       "    </tr>\n",
       "    <tr>\n",
       "      <th>39505</th>\n",
       "      <td>120605</td>\n",
       "      <td>546666</td>\n",
       "      <td>79321</td>\n",
       "      <td>NaN</td>\n",
       "      <td>72</td>\n",
       "      <td>2011-03-15 15:14:00</td>\n",
       "      <td>0.00</td>\n",
       "      <td>United Kingdom</td>\n",
       "      <td>0</td>\n",
       "    </tr>\n",
       "    <tr>\n",
       "      <th>39506</th>\n",
       "      <td>120762</td>\n",
       "      <td>546672</td>\n",
       "      <td>85206A</td>\n",
       "      <td>NaN</td>\n",
       "      <td>-77</td>\n",
       "      <td>2011-03-15 15:47:00</td>\n",
       "      <td>0.00</td>\n",
       "      <td>United Kingdom</td>\n",
       "      <td>0</td>\n",
       "    </tr>\n",
       "    <tr>\n",
       "      <th>39507</th>\n",
       "      <td>120763</td>\n",
       "      <td>546673</td>\n",
       "      <td>23348</td>\n",
       "      <td>NaN</td>\n",
       "      <td>48</td>\n",
       "      <td>2011-03-15 16:11:00</td>\n",
       "      <td>0.00</td>\n",
       "      <td>United Kingdom</td>\n",
       "      <td>0</td>\n",
       "    </tr>\n",
       "  </tbody>\n",
       "</table>\n",
       "<p>39507 rows × 9 columns</p>\n",
       "</div>"
      ],
      "text/plain": [
       "       CustomerID TransactionId  ItemId                        Description  \\\n",
       "1            1443        536544   21773    DECORATIVE ROSE BATHROOM BOTTLE   \n",
       "2            1444        536544   21774    DECORATIVE CATS BATHROOM BOTTLE   \n",
       "3            1445        536544   21786                 POLKADOT RAIN HAT    \n",
       "4            1446        536544   21787              RAIN PONCHO RETROSPOT   \n",
       "5            1447        536544   21790                 VINTAGE SNAP CARDS   \n",
       "...           ...           ...     ...                                ...   \n",
       "39503      120588        546663   21288    STRIPEY CHOCOLATE NESTING BOXES   \n",
       "39504      120589        546663   90022  EDWARDIAN DROP EARRINGS JET BLACK   \n",
       "39505      120605        546666   79321                                NaN   \n",
       "39506      120762        546672  85206A                                NaN   \n",
       "39507      120763        546673   23348                                NaN   \n",
       "\n",
       "       Quantity     TransactionDate  UnitPrice         Country  train_split  \n",
       "1             1 2010-12-01 14:32:00       2.51  United Kingdom            1  \n",
       "2             2 2010-12-01 14:32:00       2.51  United Kingdom            1  \n",
       "3             4 2010-12-01 14:32:00       0.85  United Kingdom            1  \n",
       "4             2 2010-12-01 14:32:00       1.66  United Kingdom            1  \n",
       "5             9 2010-12-01 14:32:00       1.66  United Kingdom            1  \n",
       "...         ...                 ...        ...             ...          ...  \n",
       "39503         1 2011-03-15 14:36:00       2.95  United Kingdom            0  \n",
       "39504         1 2011-03-15 14:36:00       3.75  United Kingdom            0  \n",
       "39505        72 2011-03-15 15:14:00       0.00  United Kingdom            0  \n",
       "39506       -77 2011-03-15 15:47:00       0.00  United Kingdom            0  \n",
       "39507        48 2011-03-15 16:11:00       0.00  United Kingdom            0  \n",
       "\n",
       "[39507 rows x 9 columns]"
      ]
     },
     "execution_count": 1115,
     "metadata": {},
     "output_type": "execute_result"
    }
   ],
   "source": [
    "newCustomers_df"
   ]
  },
  {
   "cell_type": "markdown",
   "metadata": {},
   "source": [
    "# Create the train and test Rating Matrices\n"
   ]
  },
  {
   "cell_type": "code",
   "execution_count": 1116,
   "metadata": {},
   "outputs": [
    {
     "name": "stdout",
     "output_type": "stream",
     "text": [
      "train set shape: (2724, 39507) and test set shape: (2724, 39507)\n",
      "train set percentage of zeros: 99.97113004416734 and test set percentage of zeros: 99.99215923630256\n"
     ]
    }
   ],
   "source": [
    "# the Categoricals data structure consists of a categories array and an integer array of codes which point to \n",
    "#    the real value in the categories array\n",
    "user_cat = newCustomers_df['CustomerID'].astype('category')\n",
    "item_cat = newCustomers_df['ItemId'].astype(\"category\")\n",
    "\n",
    "# create a sparse matrix of all the item/user/counts triples for the train set and test set\n",
    "# https://docs.scipy.org/doc/scipy/reference/generated/scipy.sparse.coo_matrix.html#scipy.sparse.coo_matrix\n",
    "item_user_train = coo_matrix((newCustomers_df['train_split'],\n",
    "                              (item_cat.cat.codes,\n",
    "                               user_cat.cat.codes))).tocsr()\n",
    "item_user_train.eliminate_zeros()  # remove zero entries\n",
    "# produce transpose of item_user_train\n",
    "user_item_train = item_user_train.T\n",
    "\n",
    "item_user_test = coo_matrix(((~newCustomers_df['train_split'].astype(bool)).astype(int),\n",
    "                             (item_cat.cat.codes,\n",
    "                              user_cat.cat.codes))).tocsr()\n",
    "item_user_test.eliminate_zeros()  # remove zero entries\n",
    "# produce transpose of item_user_test\n",
    "user_item_test = item_user_test.T\n",
    "\n",
    "# map each item and user category to a unique numeric code\n",
    "user_map = dict(zip(user_cat, user_cat.cat.codes))\n",
    "item_map = dict(zip(item_cat, item_cat.cat.codes))\n",
    "\n",
    "def get_keys(value, dictionary):\n",
    "    \"\"\"Function to get dictionary keys with specifiec value\"\"\"\n",
    "    return list(dictionary.keys())[list(dictionary.values()).index(value)]\n",
    "\n",
    "# confirm shapes\n",
    "print(f\"train set shape: {item_user_train.shape} and test set shape: {item_user_test.shape}\")\n",
    "\n",
    "# check sparsity\n",
    "pzeros_train = 100 * (1 - item_user_train.count_nonzero() / (item_user_train.shape[0] * item_user_train.shape[1]))\n",
    "pzeros_test = 100 * (1 - item_user_test.count_nonzero() / (item_user_test.shape[0] * item_user_test.shape[1]))\n",
    "print(f\"train set percentage of zeros: {pzeros_train} and test set percentage of zeros: {pzeros_test}\")"
   ]
  },
  {
   "cell_type": "markdown",
   "metadata": {},
   "source": [
    "## ALS Model"
   ]
  },
  {
   "cell_type": "code",
   "execution_count": 1117,
   "metadata": {},
   "outputs": [
    {
     "data": {
      "application/vnd.jupyter.widget-view+json": {
       "model_id": "d0d5afead65f4650b02039d0b7e4a5a7",
       "version_major": 2,
       "version_minor": 0
      },
      "text/plain": [
       "HBox(children=(HTML(value=''), FloatProgress(value=0.0, max=20.0), HTML(value='')))"
      ]
     },
     "metadata": {},
     "output_type": "display_data"
    },
    {
     "name": "stdout",
     "output_type": "stream",
     "text": [
      "\n"
     ]
    }
   ],
   "source": [
    "lpha = 1  # as we observe more evidence for positive preference, our confidence in pui = 1 increases according to alpha (rate of increase)\n",
    "als_model = AlternatingLeastSquares(factors=200, regularization=1e1, iterations=20, random_state=70)\n",
    "\n",
    "\n",
    "# train the model on a sparse matrix of item/user/confidence weights\n",
    "#os.environ['MKL_NUM_THREADS'] = '3'\n",
    "# os.environ['OPENBLAS_NUM_THREADS'] = '1'\n",
    "# about the alpha hyperparameter: https://github.com/benfred/implicit/issues/199#issuecomment-490350326\n",
    "als_model.fit((item_user_train * alpha).astype('double'))"
   ]
  },
  {
   "cell_type": "markdown",
   "metadata": {},
   "source": [
    "##  BayesianPersonalizedRanking Model"
   ]
  },
  {
   "cell_type": "code",
   "execution_count": 1118,
   "metadata": {
    "scrolled": true
   },
   "outputs": [
    {
     "data": {
      "application/vnd.jupyter.widget-view+json": {
       "model_id": "07339ec1595043a7bb80d6a87748a5a6",
       "version_major": 2,
       "version_minor": 0
      },
      "text/plain": [
       "HBox(children=(HTML(value=''), FloatProgress(value=0.0, max=98.0), HTML(value='')))"
      ]
     },
     "metadata": {},
     "output_type": "display_data"
    },
    {
     "name": "stdout",
     "output_type": "stream",
     "text": [
      "\n"
     ]
    }
   ],
   "source": [
    "bpr_model = BayesianPersonalizedRanking(factors=101, regularization=1e1, iterations=98, random_state=70)\n",
    "bpr_model.fit(item_user_train)"
   ]
  },
  {
   "cell_type": "markdown",
   "metadata": {},
   "source": [
    "## LogisticMatrixFactorization model\n"
   ]
  },
  {
   "cell_type": "code",
   "execution_count": 1119,
   "metadata": {
    "scrolled": true
   },
   "outputs": [
    {
     "name": "stderr",
     "output_type": "stream",
     "text": [
      "100%|██████████| 80/80 [00:04<00:00, 18.31it/s]\n"
     ]
    }
   ],
   "source": [
    "\n",
    "lmf_model = LogisticMatrixFactorization(factors=60, regularization=1e1, iterations=80, random_state=70)\n",
    "\n",
    "lmf_model.fit(item_user_train)"
   ]
  },
  {
   "cell_type": "markdown",
   "metadata": {},
   "source": [
    "## NMSLibAlternatingLeastSquares model\n"
   ]
  },
  {
   "cell_type": "code",
   "execution_count": 1120,
   "metadata": {},
   "outputs": [
    {
     "data": {
      "application/vnd.jupyter.widget-view+json": {
       "model_id": "d307101a56ad42ba84b369e6bbbf6a27",
       "version_major": 2,
       "version_minor": 0
      },
      "text/plain": [
       "HBox(children=(HTML(value=''), FloatProgress(value=0.0, max=15.0), HTML(value='')))"
      ]
     },
     "metadata": {},
     "output_type": "display_data"
    },
    {
     "name": "stdout",
     "output_type": "stream",
     "text": [
      "\n"
     ]
    }
   ],
   "source": [
    "nmslals_model=NMSLibAlternatingLeastSquares(approximate_similar_items =False, approximate_recommend =False, random_state=14)\n",
    "nmslals_model.fit(item_user_train)"
   ]
  },
  {
   "cell_type": "markdown",
   "metadata": {},
   "source": [
    "## Popular Model"
   ]
  },
  {
   "cell_type": "code",
   "execution_count": 1121,
   "metadata": {},
   "outputs": [],
   "source": [
    "# Fitting PopularRecommender model\n",
    "pop_model = PopularRecommender()\n",
    "pop_model.fit(item_user_train)"
   ]
  },
  {
   "cell_type": "code",
   "execution_count": 1123,
   "metadata": {},
   "outputs": [
    {
     "data": {
      "application/vnd.jupyter.widget-view+json": {
       "model_id": "32963c1c7f9348b29eaebad662d2b2e9",
       "version_major": 2,
       "version_minor": 0
      },
      "text/plain": [
       "HBox(children=(HTML(value=''), FloatProgress(value=0.0, max=39507.0), HTML(value='')))"
      ]
     },
     "metadata": {},
     "output_type": "display_data"
    },
    {
     "name": "stdout",
     "output_type": "stream",
     "text": [
      "\n"
     ]
    },
    {
     "data": {
      "application/vnd.jupyter.widget-view+json": {
       "model_id": "0ed9311532194bb38064901014fe1b19",
       "version_major": 2,
       "version_minor": 0
      },
      "text/plain": [
       "HBox(children=(HTML(value=''), FloatProgress(value=0.0, max=39507.0), HTML(value='')))"
      ]
     },
     "metadata": {},
     "output_type": "display_data"
    },
    {
     "name": "stdout",
     "output_type": "stream",
     "text": [
      "\n"
     ]
    },
    {
     "data": {
      "application/vnd.jupyter.widget-view+json": {
       "model_id": "cb6b9977816c41d59b78b745050e5803",
       "version_major": 2,
       "version_minor": 0
      },
      "text/plain": [
       "HBox(children=(HTML(value=''), FloatProgress(value=0.0, max=39507.0), HTML(value='')))"
      ]
     },
     "metadata": {},
     "output_type": "display_data"
    },
    {
     "name": "stdout",
     "output_type": "stream",
     "text": [
      "\n"
     ]
    },
    {
     "data": {
      "application/vnd.jupyter.widget-view+json": {
       "model_id": "74c2e97da857416bb466998d56c85529",
       "version_major": 2,
       "version_minor": 0
      },
      "text/plain": [
       "HBox(children=(HTML(value=''), FloatProgress(value=0.0, max=39507.0), HTML(value='')))"
      ]
     },
     "metadata": {},
     "output_type": "display_data"
    },
    {
     "name": "stdout",
     "output_type": "stream",
     "text": [
      "\n"
     ]
    },
    {
     "data": {
      "application/vnd.jupyter.widget-view+json": {
       "model_id": "7287532087444bb99ea62bd8c30a878f",
       "version_major": 2,
       "version_minor": 0
      },
      "text/plain": [
       "HBox(children=(HTML(value=''), FloatProgress(value=0.0, max=39507.0), HTML(value='')))"
      ]
     },
     "metadata": {},
     "output_type": "display_data"
    },
    {
     "name": "stdout",
     "output_type": "stream",
     "text": [
      "\n"
     ]
    },
    {
     "data": {
      "text/html": [
       "<div>\n",
       "<style scoped>\n",
       "    .dataframe tbody tr th:only-of-type {\n",
       "        vertical-align: middle;\n",
       "    }\n",
       "\n",
       "    .dataframe tbody tr th {\n",
       "        vertical-align: top;\n",
       "    }\n",
       "\n",
       "    .dataframe thead th {\n",
       "        text-align: right;\n",
       "    }\n",
       "</style>\n",
       "<table border=\"1\" class=\"dataframe\">\n",
       "  <thead>\n",
       "    <tr style=\"text-align: right;\">\n",
       "      <th></th>\n",
       "      <th>pop_model</th>\n",
       "      <th>als_model</th>\n",
       "      <th>bpr_model</th>\n",
       "      <th>lmf_model</th>\n",
       "      <th>nmslals_model</th>\n",
       "    </tr>\n",
       "  </thead>\n",
       "  <tbody>\n",
       "    <tr>\n",
       "      <th>precision</th>\n",
       "      <td>0.036383</td>\n",
       "      <td>0.009125</td>\n",
       "      <td>0.005096</td>\n",
       "      <td>0.036383</td>\n",
       "      <td>0.009125</td>\n",
       "    </tr>\n",
       "    <tr>\n",
       "      <th>map</th>\n",
       "      <td>0.014845</td>\n",
       "      <td>0.002597</td>\n",
       "      <td>0.001529</td>\n",
       "      <td>0.014672</td>\n",
       "      <td>0.002597</td>\n",
       "    </tr>\n",
       "    <tr>\n",
       "      <th>ndcg</th>\n",
       "      <td>0.019862</td>\n",
       "      <td>0.004122</td>\n",
       "      <td>0.002349</td>\n",
       "      <td>0.019691</td>\n",
       "      <td>0.004122</td>\n",
       "    </tr>\n",
       "    <tr>\n",
       "      <th>auc</th>\n",
       "      <td>0.516378</td>\n",
       "      <td>0.502730</td>\n",
       "      <td>0.500714</td>\n",
       "      <td>0.516374</td>\n",
       "      <td>0.502730</td>\n",
       "    </tr>\n",
       "  </tbody>\n",
       "</table>\n",
       "</div>"
      ],
      "text/plain": [
       "           pop_model  als_model  bpr_model  lmf_model  nmslals_model\n",
       "precision   0.036383   0.009125   0.005096   0.036383       0.009125\n",
       "map         0.014845   0.002597   0.001529   0.014672       0.002597\n",
       "ndcg        0.019862   0.004122   0.002349   0.019691       0.004122\n",
       "auc         0.516378   0.502730   0.500714   0.516374       0.502730"
      ]
     },
     "execution_count": 1123,
     "metadata": {},
     "output_type": "execute_result"
    }
   ],
   "source": [
    "# Evaluate models. \n",
    "# Precision at K, Mean Average Precision at K, Normalized Discounted Cumulative Gain at K, AUC at K\n",
    "eval_models = {'pop_model': pop_model, \n",
    "               'als_model': als_model,\n",
    "                'bpr_model':bpr_model,\n",
    "                'lmf_model':lmf_model,\n",
    "               'nmslals_model':nmslals_model\n",
    "              }\n",
    "eval_table = {}\n",
    "for k, v in eval_models.items():\n",
    "    eval_table[k] = ranking_metrics_at_k(v, user_item_train, user_item_test, K=10, show_progress=True, num_threads=0)\n",
    "eval_table = pd.DataFrame(eval_table)\n",
    "eval_table"
   ]
  },
  {
   "cell_type": "markdown",
   "metadata": {},
   "source": [
    "## Final Solution"
   ]
  },
  {
   "cell_type": "code",
   "execution_count": 1106,
   "metadata": {},
   "outputs": [],
   "source": [
    "def recommend_items(model, userId):\n",
    "    description_list=[]\n",
    "    numberTrans=list(df[df['CustomerID']==userId].groupby('CustomerID')['TransactionId'].count())[0]\n",
    "    if numberTrans < 11:\n",
    "        print('Less than 10 Transactions, Popular Algorithm used')\n",
    "        recommendations = pop_model.recommend(user_map[user_id],user_item_train)\n",
    "        recommendations_list = list(map(lambda x: (get_keys(x[0], item_map), x[1]), recommendations))\n",
    "        for i in range(len(recommendations_list)):\n",
    "            description_list.append(df[df['ItemId']==recommendations_list[i][0]]['Description'].unique()[0]) \n",
    "        return description_list\n",
    "    else:\n",
    "        recommendations=model.recommend(user_map[user_id],user_item_train)\n",
    "        recommendations_list =  list(map(lambda x: (get_keys(x[0], item_map), x[1]), recommendations))\n",
    "        for i in range(len(recommendations_list)):\n",
    "            description_list.append(df[df['ItemId']==recommendations_list[i][0]]['Description'].unique()[0]) \n",
    "        return description_list"
   ]
  },
  {
   "cell_type": "code",
   "execution_count": 1107,
   "metadata": {
    "scrolled": false
   },
   "outputs": [
    {
     "data": {
      "text/plain": [
       "['WHITE HANGING HEART T-LIGHT HOLDER',\n",
       " 'WOODEN FRAME ANTIQUE WHITE ',\n",
       " 'WOODEN PICTURE FRAME WHITE FINISH',\n",
       " 'WOOD 2 DRAWER CABINET WHITE FINISH',\n",
       " 'WOOD S/3 CABINET ANT WHITE FINISH',\n",
       " 'KNITTED UNION FLAG HOT WATER BOTTLE',\n",
       " 'CREAM CUPID HEARTS COAT HANGER',\n",
       " 'RED WOOLLY HOTTIE WHITE HEART.',\n",
       " 'HAND WARMER UNION JACK',\n",
       " 'RETRO COFFEE MUGS ASSORTED']"
      ]
     },
     "execution_count": 1107,
     "metadata": {},
     "output_type": "execute_result"
    }
   ],
   "source": [
    "recommend_items(als_model, 17850)"
   ]
  }
 ],
 "metadata": {
  "kernelspec": {
   "display_name": "Python 3",
   "language": "python",
   "name": "python3"
  },
  "language_info": {
   "codemirror_mode": {
    "name": "ipython",
    "version": 3
   },
   "file_extension": ".py",
   "mimetype": "text/x-python",
   "name": "python",
   "nbconvert_exporter": "python",
   "pygments_lexer": "ipython3",
   "version": "3.8.5"
  }
 },
 "nbformat": 4,
 "nbformat_minor": 5
}
