{
 "cells": [
  {
   "cell_type": "code",
   "execution_count": 9,
   "metadata": {},
   "outputs": [
    {
     "name": "stdout",
     "output_type": "stream",
     "text": [
      "Collecting package metadata (current_repodata.json): ...working... done\n",
      "Solving environment: ...working... done\n",
      "\n",
      "## Package Plan ##\n",
      "\n",
      "  environment location: C:\\Users\\Pedro\\anaconda3\n",
      "\n",
      "  added / updated specs:\n",
      "    - implicit\n",
      "\n",
      "\n",
      "The following packages will be downloaded:\n",
      "\n",
      "    package                    |            build\n",
      "    ---------------------------|-----------------\n",
      "    _anaconda_depends-2020.07  |           py38_0           6 KB\n",
      "    anaconda-custom            |           py38_1          36 KB\n",
      "    conda-4.10.1               |   py38haa244fe_0         3.1 MB  conda-forge\n",
      "    gmpy2-2.1.0b1              |   py38hb63f22f_1         192 KB  conda-forge\n",
      "    implicit-0.4.4             |   py38hddbc854_3         499 KB  conda-forge\n",
      "    libllvm9-9.0.1             |       hab3b255_3          48 KB  conda-forge\n",
      "    mpc-1.1.0                  |    h7edee0f_1009         322 KB  conda-forge\n",
      "    mpfr-4.0.2                 |       h62dcd97_1         1.9 MB  conda-forge\n",
      "    mpir-3.0.0                 |    he025d50_1002         3.0 MB  conda-forge\n",
      "    pip-21.1                   |     pyhd8ed1ab_0         1.1 MB  conda-forge\n",
      "    prompt-toolkit-3.0.18      |     pyha770c72_0         244 KB  conda-forge\n",
      "    prompt_toolkit-3.0.18      |       hd8ed1ab_0           4 KB  conda-forge\n",
      "    snappy-1.1.8               |       ha925a31_3          50 KB  conda-forge\n",
      "    tbb-2021.2.0               |       h2d74725_0         138 KB  conda-forge\n",
      "    ------------------------------------------------------------\n",
      "                                           Total:        10.5 MB\n",
      "\n",
      "The following NEW packages will be INSTALLED:\n",
      "\n",
      "  _anaconda_depends  pkgs/main/win-64::_anaconda_depends-2020.07-py38_0\n",
      "  gmpy2              conda-forge/win-64::gmpy2-2.1.0b1-py38hb63f22f_1\n",
      "  implicit           conda-forge/win-64::implicit-0.4.4-py38hddbc854_3\n",
      "\n",
      "Note: you may need to restart the kernel to use updated packages.  libllvm9           conda-forge/win-64::libllvm9-9.0.1-hab3b255_3\n",
      "  mpc                conda-forge/win-64::mpc-1.1.0-h7edee0f_1009\n",
      "  mpfr               conda-forge/win-64::mpfr-4.0.2-h62dcd97_1\n",
      "\n"
     ]
    },
    {
     "name": "stderr",
     "output_type": "stream",
     "text": [
      "\n",
      "The environment is inconsistent, please check the package plan carefully\n",
      "The following packages are causing the inconsistency:\n",
      "\n",
      "  - defaults/win-64::anaconda==2020.11=py38_0\n",
      "  - defaults/win-64::bcrypt==3.2.0=py38he774522_0\n",
      "  - defaults/win-64::ipykernel==5.3.4=py38h5ca1d4c_0\n",
      "  - defaults/win-64::ipython==7.19.0=py38hd4e2768_0\n",
      "  - defaults/noarch::ipywidgets==7.5.1=py_1\n",
      "  - defaults/win-64::jupyter==1.0.0=py38_7\n",
      "  - defaults/noarch::jupyterlab==2.2.6=py_0\n",
      "  - defaults/noarch::jupyterlab_server==1.2.0=py_0\n",
      "  - defaults/noarch::jupyter_console==6.2.0=py_0\n",
      "  - defaults/win-64::notebook==6.1.4=py38_0\n",
      "  - defaults/noarch::paramiko==2.7.2=py_0\n",
      "  - defaults/noarch::prompt_toolkit==3.0.8=0\n",
      "  - defaults/noarch::qtconsole==4.7.7=py_0\n",
      "  - defaults/win-64::spyder==4.1.5=py38_0\n",
      "  - defaults/win-64::spyder-kernels==1.9.4=py38_0\n",
      "  - defaults/win-64::widgetsnbextension==3.5.1=py38_0\n",
      "  - defaults/win-64::_ipyw_jlab_nb_ext_conf==0.1.0=py38_0\n",
      "\n",
      "\n",
      "==> WARNING: A newer version of conda exists. <==\n",
      "  current version: 4.9.2\n",
      "  latest version: 4.10.1\n",
      "\n",
      "Please update conda by running\n",
      "\n",
      "    $ conda update -n base -c defaults conda\n",
      "\n",
      "\n"
     ]
    },
    {
     "name": "stdout",
     "output_type": "stream",
     "text": [
      "  mpir               conda-forge/win-64::mpir-3.0.0-he025d50_1002\n",
      "  pip                conda-forge/noarch::pip-21.1-pyhd8ed1ab_0\n",
      "  prompt-toolkit     conda-forge/noarch::prompt-toolkit-3.0.18-pyha770c72_0\n",
      "  python_abi         conda-forge/win-64::python_abi-3.8-1_cp38\n",
      "  snappy             conda-forge/win-64::snappy-1.1.8-ha925a31_3\n",
      "  tbb                conda-forge/win-64::tbb-2021.2.0-h2d74725_0\n",
      "\n",
      "The following packages will be UPDATED:\n",
      "\n",
      "  ca-certificates    pkgs/main::ca-certificates-2020.10.14~ --> conda-forge::ca-certificates-2020.12.5-h5b45459_0\n",
      "  certifi            pkgs/main/noarch::certifi-2020.6.20-p~ --> conda-forge/win-64::certifi-2020.12.5-py38haa244fe_1\n",
      "  conda               pkgs/main::conda-4.9.2-py38haa95532_0 --> conda-forge::conda-4.10.1-py38haa244fe_0\n",
      "  openssl              pkgs/main::openssl-1.1.1h-he774522_0 --> conda-forge::openssl-1.1.1k-h8ffe710_0\n",
      "  prompt_toolkit          pkgs/main::prompt_toolkit-3.0.8-0 --> conda-forge::prompt_toolkit-3.0.18-hd8ed1ab_0\n",
      "\n",
      "The following packages will be DOWNGRADED:\n",
      "\n",
      "  anaconda                                   2020.11-py38_0 --> custom-py38_1\n",
      "\n",
      "\n",
      "\n",
      "Downloading and Extracting Packages\n",
      "\n",
      "snappy-1.1.8         | 50 KB     |            |   0% \n",
      "snappy-1.1.8         | 50 KB     | ###1       |  32% \n",
      "snappy-1.1.8         | 50 KB     | ########## | 100% \n",
      "\n",
      "prompt_toolkit-3.0.1 | 4 KB      |            |   0% \n",
      "prompt_toolkit-3.0.1 | 4 KB      | ########## | 100% \n",
      "\n",
      "prompt-toolkit-3.0.1 | 244 KB    |            |   0% \n",
      "prompt-toolkit-3.0.1 | 244 KB    | ########## | 100% \n",
      "prompt-toolkit-3.0.1 | 244 KB    | ########## | 100% \n",
      "\n",
      "tbb-2021.2.0         | 138 KB    |            |   0% \n",
      "tbb-2021.2.0         | 138 KB    | ########## | 100% \n",
      "tbb-2021.2.0         | 138 KB    | ########## | 100% \n",
      "\n",
      "pip-21.1             | 1.1 MB    |            |   0% \n",
      "pip-21.1             | 1.1 MB    | ####7      |  47% \n",
      "pip-21.1             | 1.1 MB    | ########## | 100% \n",
      "pip-21.1             | 1.1 MB    | ########## | 100% \n",
      "\n",
      "libllvm9-9.0.1       | 48 KB     |            |   0% \n",
      "libllvm9-9.0.1       | 48 KB     | ########## | 100% \n",
      "\n",
      "mpfr-4.0.2           | 1.9 MB    |            |   0% \n",
      "mpfr-4.0.2           | 1.9 MB    | #8         |  18% \n",
      "mpfr-4.0.2           | 1.9 MB    | #########3 |  93% \n",
      "mpfr-4.0.2           | 1.9 MB    | ########## | 100% \n",
      "\n",
      "implicit-0.4.4       | 499 KB    |            |   0% \n",
      "implicit-0.4.4       | 499 KB    | ########## | 100% \n",
      "implicit-0.4.4       | 499 KB    | ########## | 100% \n",
      "\n",
      "conda-4.10.1         | 3.1 MB    |            |   0% \n",
      "conda-4.10.1         | 3.1 MB    | ###4       |  34% \n",
      "conda-4.10.1         | 3.1 MB    | ########## | 100% \n",
      "conda-4.10.1         | 3.1 MB    | ########## | 100% \n",
      "\n",
      "gmpy2-2.1.0b1        | 192 KB    |            |   0% \n",
      "gmpy2-2.1.0b1        | 192 KB    | 8          |   8% \n",
      "gmpy2-2.1.0b1        | 192 KB    | ########## | 100% \n",
      "\n",
      "_anaconda_depends-20 | 6 KB      |            |   0% \n",
      "_anaconda_depends-20 | 6 KB      | ########## | 100% \n",
      "_anaconda_depends-20 | 6 KB      | ########## | 100% \n",
      "\n",
      "anaconda-custom      | 36 KB     |            |   0% \n",
      "anaconda-custom      | 36 KB     | ########## | 100% \n",
      "anaconda-custom      | 36 KB     | ########## | 100% \n",
      "\n",
      "mpir-3.0.0           | 3.0 MB    |            |   0% \n",
      "mpir-3.0.0           | 3.0 MB    | #9         |  20% \n",
      "mpir-3.0.0           | 3.0 MB    | #########  |  90% \n",
      "mpir-3.0.0           | 3.0 MB    | ########## | 100% \n",
      "\n",
      "mpc-1.1.0            | 322 KB    |            |   0% \n",
      "mpc-1.1.0            | 322 KB    | ########## | 100% \n",
      "mpc-1.1.0            | 322 KB    | ########## | 100% \n",
      "Preparing transaction: ...working... done\n",
      "Verifying transaction: ...working... done\n",
      "Executing transaction: ...working... done\n"
     ]
    }
   ],
   "source": [
    "conda install -c conda-forge implicit"
   ]
  },
  {
   "cell_type": "code",
   "execution_count": 10,
   "metadata": {},
   "outputs": [],
   "source": [
    "import os\n",
    "import pandas as pd\n",
    "import numpy as np\n",
    "import matplotlib.pyplot as plt\n",
    "from scipy.sparse import coo_matrix\n",
    "from implicit.als import AlternatingLeastSquares\n",
    "from implicit.evaluation import ranking_metrics_at_k\n",
    "from tqdm import tqdm\n",
    "import plotly.graph_objects as go\n",
    "import plotly.express as px"
   ]
  },
  {
   "cell_type": "code",
   "execution_count": 11,
   "metadata": {},
   "outputs": [],
   "source": [
    "# Read csv files\n",
    "df = pd.read_csv('retail.csv')"
   ]
  },
  {
   "cell_type": "code",
   "execution_count": 12,
   "metadata": {},
   "outputs": [
    {
     "data": {
      "text/plain": [
       "(541909, 8)"
      ]
     },
     "execution_count": 12,
     "metadata": {},
     "output_type": "execute_result"
    }
   ],
   "source": [
    "df.shape"
   ]
  },
  {
   "cell_type": "code",
   "execution_count": 13,
   "metadata": {},
   "outputs": [
    {
     "data": {
      "text/plain": [
       "InvoiceNo       object\n",
       "StockCode       object\n",
       "Description     object\n",
       "Quantity         int64\n",
       "InvoiceDate     object\n",
       "UnitPrice      float64\n",
       "CustomerID     float64\n",
       "Country         object\n",
       "dtype: object"
      ]
     },
     "execution_count": 13,
     "metadata": {},
     "output_type": "execute_result"
    }
   ],
   "source": [
    "df.dtypes"
   ]
  },
  {
   "cell_type": "code",
   "execution_count": 14,
   "metadata": {},
   "outputs": [
    {
     "data": {
      "text/plain": [
       "Index(['InvoiceNo', 'StockCode', 'Description', 'Quantity', 'InvoiceDate',\n",
       "       'UnitPrice', 'CustomerID', 'Country'],\n",
       "      dtype='object')"
      ]
     },
     "execution_count": 14,
     "metadata": {},
     "output_type": "execute_result"
    }
   ],
   "source": [
    "df.columns"
   ]
  },
  {
   "cell_type": "code",
   "execution_count": 15,
   "metadata": {},
   "outputs": [
    {
     "data": {
      "text/html": [
       "<div>\n",
       "<style scoped>\n",
       "    .dataframe tbody tr th:only-of-type {\n",
       "        vertical-align: middle;\n",
       "    }\n",
       "\n",
       "    .dataframe tbody tr th {\n",
       "        vertical-align: top;\n",
       "    }\n",
       "\n",
       "    .dataframe thead th {\n",
       "        text-align: right;\n",
       "    }\n",
       "</style>\n",
       "<table border=\"1\" class=\"dataframe\">\n",
       "  <thead>\n",
       "    <tr style=\"text-align: right;\">\n",
       "      <th></th>\n",
       "      <th>InvoiceNo</th>\n",
       "      <th>StockCode</th>\n",
       "      <th>Description</th>\n",
       "      <th>Quantity</th>\n",
       "      <th>InvoiceDate</th>\n",
       "      <th>UnitPrice</th>\n",
       "      <th>CustomerID</th>\n",
       "      <th>Country</th>\n",
       "    </tr>\n",
       "  </thead>\n",
       "  <tbody>\n",
       "    <tr>\n",
       "      <th>0</th>\n",
       "      <td>536365</td>\n",
       "      <td>85123A</td>\n",
       "      <td>WHITE HANGING HEART T-LIGHT HOLDER</td>\n",
       "      <td>6</td>\n",
       "      <td>2010-12-01 08:26:00</td>\n",
       "      <td>2.55</td>\n",
       "      <td>17850</td>\n",
       "      <td>United Kingdom</td>\n",
       "    </tr>\n",
       "    <tr>\n",
       "      <th>1</th>\n",
       "      <td>536365</td>\n",
       "      <td>71053</td>\n",
       "      <td>WHITE METAL LANTERN</td>\n",
       "      <td>6</td>\n",
       "      <td>2010-12-01 08:26:00</td>\n",
       "      <td>3.39</td>\n",
       "      <td>17850</td>\n",
       "      <td>United Kingdom</td>\n",
       "    </tr>\n",
       "    <tr>\n",
       "      <th>2</th>\n",
       "      <td>536365</td>\n",
       "      <td>84406B</td>\n",
       "      <td>CREAM CUPID HEARTS COAT HANGER</td>\n",
       "      <td>8</td>\n",
       "      <td>2010-12-01 08:26:00</td>\n",
       "      <td>2.75</td>\n",
       "      <td>17850</td>\n",
       "      <td>United Kingdom</td>\n",
       "    </tr>\n",
       "    <tr>\n",
       "      <th>3</th>\n",
       "      <td>536365</td>\n",
       "      <td>84029G</td>\n",
       "      <td>KNITTED UNION FLAG HOT WATER BOTTLE</td>\n",
       "      <td>6</td>\n",
       "      <td>2010-12-01 08:26:00</td>\n",
       "      <td>3.39</td>\n",
       "      <td>17850</td>\n",
       "      <td>United Kingdom</td>\n",
       "    </tr>\n",
       "    <tr>\n",
       "      <th>4</th>\n",
       "      <td>536365</td>\n",
       "      <td>84029E</td>\n",
       "      <td>RED WOOLLY HOTTIE WHITE HEART.</td>\n",
       "      <td>6</td>\n",
       "      <td>2010-12-01 08:26:00</td>\n",
       "      <td>3.39</td>\n",
       "      <td>17850</td>\n",
       "      <td>United Kingdom</td>\n",
       "    </tr>\n",
       "  </tbody>\n",
       "</table>\n",
       "</div>"
      ],
      "text/plain": [
       "  InvoiceNo StockCode                          Description  Quantity  \\\n",
       "0    536365    85123A   WHITE HANGING HEART T-LIGHT HOLDER         6   \n",
       "1    536365     71053                  WHITE METAL LANTERN         6   \n",
       "2    536365    84406B       CREAM CUPID HEARTS COAT HANGER         8   \n",
       "3    536365    84029G  KNITTED UNION FLAG HOT WATER BOTTLE         6   \n",
       "4    536365    84029E       RED WOOLLY HOTTIE WHITE HEART.         6   \n",
       "\n",
       "          InvoiceDate  UnitPrice CustomerID         Country  \n",
       "0 2010-12-01 08:26:00       2.55      17850  United Kingdom  \n",
       "1 2010-12-01 08:26:00       3.39      17850  United Kingdom  \n",
       "2 2010-12-01 08:26:00       2.75      17850  United Kingdom  \n",
       "3 2010-12-01 08:26:00       3.39      17850  United Kingdom  \n",
       "4 2010-12-01 08:26:00       3.39      17850  United Kingdom  "
      ]
     },
     "execution_count": 15,
     "metadata": {},
     "output_type": "execute_result"
    }
   ],
   "source": [
    "# Get df_events and correctly encode the variables\n",
    "df['InvoiceDate'] = pd.to_datetime(df['InvoiceDate'])\n",
    "df['InvoiceDate'] = pd.to_datetime(df['InvoiceDate'],unit='ms')\n",
    "df = df.astype({'CustomerID': object, 'StockCode': object})\n",
    "df.head()"
   ]
  },
  {
   "cell_type": "code",
   "execution_count": 16,
   "metadata": {},
   "outputs": [],
   "source": [
    "df.rename(columns ={'InvoiceNo':'TransactionId', 'StockCode':'ItemId', 'InvoiceDate':'TransactionDate'},inplace=True)"
   ]
  },
  {
   "cell_type": "code",
   "execution_count": 17,
   "metadata": {},
   "outputs": [
    {
     "data": {
      "text/html": [
       "<div>\n",
       "<style scoped>\n",
       "    .dataframe tbody tr th:only-of-type {\n",
       "        vertical-align: middle;\n",
       "    }\n",
       "\n",
       "    .dataframe tbody tr th {\n",
       "        vertical-align: top;\n",
       "    }\n",
       "\n",
       "    .dataframe thead th {\n",
       "        text-align: right;\n",
       "    }\n",
       "</style>\n",
       "<table border=\"1\" class=\"dataframe\">\n",
       "  <thead>\n",
       "    <tr style=\"text-align: right;\">\n",
       "      <th></th>\n",
       "      <th>TransactionId</th>\n",
       "      <th>ItemId</th>\n",
       "      <th>Description</th>\n",
       "      <th>Quantity</th>\n",
       "      <th>TransactionDate</th>\n",
       "      <th>UnitPrice</th>\n",
       "      <th>CustomerID</th>\n",
       "      <th>Country</th>\n",
       "    </tr>\n",
       "  </thead>\n",
       "  <tbody>\n",
       "    <tr>\n",
       "      <th>count</th>\n",
       "      <td>541909</td>\n",
       "      <td>541909</td>\n",
       "      <td>540455</td>\n",
       "      <td>541909.000000</td>\n",
       "      <td>541909</td>\n",
       "      <td>541909.000000</td>\n",
       "      <td>406829.0</td>\n",
       "      <td>541909</td>\n",
       "    </tr>\n",
       "    <tr>\n",
       "      <th>unique</th>\n",
       "      <td>25900</td>\n",
       "      <td>4070</td>\n",
       "      <td>4223</td>\n",
       "      <td>NaN</td>\n",
       "      <td>NaN</td>\n",
       "      <td>NaN</td>\n",
       "      <td>4372.0</td>\n",
       "      <td>38</td>\n",
       "    </tr>\n",
       "    <tr>\n",
       "      <th>top</th>\n",
       "      <td>573585</td>\n",
       "      <td>85123A</td>\n",
       "      <td>WHITE HANGING HEART T-LIGHT HOLDER</td>\n",
       "      <td>NaN</td>\n",
       "      <td>NaN</td>\n",
       "      <td>NaN</td>\n",
       "      <td>17841.0</td>\n",
       "      <td>United Kingdom</td>\n",
       "    </tr>\n",
       "    <tr>\n",
       "      <th>freq</th>\n",
       "      <td>1114</td>\n",
       "      <td>2313</td>\n",
       "      <td>2369</td>\n",
       "      <td>NaN</td>\n",
       "      <td>NaN</td>\n",
       "      <td>NaN</td>\n",
       "      <td>7983.0</td>\n",
       "      <td>495478</td>\n",
       "    </tr>\n",
       "    <tr>\n",
       "      <th>mean</th>\n",
       "      <td>NaN</td>\n",
       "      <td>NaN</td>\n",
       "      <td>NaN</td>\n",
       "      <td>9.552250</td>\n",
       "      <td>2011-07-04 13:34:57.156151552</td>\n",
       "      <td>4.611114</td>\n",
       "      <td>NaN</td>\n",
       "      <td>NaN</td>\n",
       "    </tr>\n",
       "    <tr>\n",
       "      <th>min</th>\n",
       "      <td>NaN</td>\n",
       "      <td>NaN</td>\n",
       "      <td>NaN</td>\n",
       "      <td>-80995.000000</td>\n",
       "      <td>2010-12-01 08:26:00</td>\n",
       "      <td>-11062.060000</td>\n",
       "      <td>NaN</td>\n",
       "      <td>NaN</td>\n",
       "    </tr>\n",
       "    <tr>\n",
       "      <th>25%</th>\n",
       "      <td>NaN</td>\n",
       "      <td>NaN</td>\n",
       "      <td>NaN</td>\n",
       "      <td>1.000000</td>\n",
       "      <td>2011-03-28 11:34:00</td>\n",
       "      <td>1.250000</td>\n",
       "      <td>NaN</td>\n",
       "      <td>NaN</td>\n",
       "    </tr>\n",
       "    <tr>\n",
       "      <th>50%</th>\n",
       "      <td>NaN</td>\n",
       "      <td>NaN</td>\n",
       "      <td>NaN</td>\n",
       "      <td>3.000000</td>\n",
       "      <td>2011-07-19 17:17:00</td>\n",
       "      <td>2.080000</td>\n",
       "      <td>NaN</td>\n",
       "      <td>NaN</td>\n",
       "    </tr>\n",
       "    <tr>\n",
       "      <th>75%</th>\n",
       "      <td>NaN</td>\n",
       "      <td>NaN</td>\n",
       "      <td>NaN</td>\n",
       "      <td>10.000000</td>\n",
       "      <td>2011-10-19 11:27:00</td>\n",
       "      <td>4.130000</td>\n",
       "      <td>NaN</td>\n",
       "      <td>NaN</td>\n",
       "    </tr>\n",
       "    <tr>\n",
       "      <th>max</th>\n",
       "      <td>NaN</td>\n",
       "      <td>NaN</td>\n",
       "      <td>NaN</td>\n",
       "      <td>80995.000000</td>\n",
       "      <td>2011-12-09 12:50:00</td>\n",
       "      <td>38970.000000</td>\n",
       "      <td>NaN</td>\n",
       "      <td>NaN</td>\n",
       "    </tr>\n",
       "    <tr>\n",
       "      <th>std</th>\n",
       "      <td>NaN</td>\n",
       "      <td>NaN</td>\n",
       "      <td>NaN</td>\n",
       "      <td>218.081158</td>\n",
       "      <td>NaN</td>\n",
       "      <td>96.759853</td>\n",
       "      <td>NaN</td>\n",
       "      <td>NaN</td>\n",
       "    </tr>\n",
       "  </tbody>\n",
       "</table>\n",
       "</div>"
      ],
      "text/plain": [
       "       TransactionId  ItemId                         Description  \\\n",
       "count         541909  541909                              540455   \n",
       "unique         25900    4070                                4223   \n",
       "top           573585  85123A  WHITE HANGING HEART T-LIGHT HOLDER   \n",
       "freq            1114    2313                                2369   \n",
       "mean             NaN     NaN                                 NaN   \n",
       "min              NaN     NaN                                 NaN   \n",
       "25%              NaN     NaN                                 NaN   \n",
       "50%              NaN     NaN                                 NaN   \n",
       "75%              NaN     NaN                                 NaN   \n",
       "max              NaN     NaN                                 NaN   \n",
       "std              NaN     NaN                                 NaN   \n",
       "\n",
       "             Quantity                TransactionDate      UnitPrice  \\\n",
       "count   541909.000000                         541909  541909.000000   \n",
       "unique            NaN                            NaN            NaN   \n",
       "top               NaN                            NaN            NaN   \n",
       "freq              NaN                            NaN            NaN   \n",
       "mean         9.552250  2011-07-04 13:34:57.156151552       4.611114   \n",
       "min     -80995.000000            2010-12-01 08:26:00  -11062.060000   \n",
       "25%          1.000000            2011-03-28 11:34:00       1.250000   \n",
       "50%          3.000000            2011-07-19 17:17:00       2.080000   \n",
       "75%         10.000000            2011-10-19 11:27:00       4.130000   \n",
       "max      80995.000000            2011-12-09 12:50:00   38970.000000   \n",
       "std        218.081158                            NaN      96.759853   \n",
       "\n",
       "        CustomerID         Country  \n",
       "count     406829.0          541909  \n",
       "unique      4372.0              38  \n",
       "top        17841.0  United Kingdom  \n",
       "freq        7983.0          495478  \n",
       "mean           NaN             NaN  \n",
       "min            NaN             NaN  \n",
       "25%            NaN             NaN  \n",
       "50%            NaN             NaN  \n",
       "75%            NaN             NaN  \n",
       "max            NaN             NaN  \n",
       "std            NaN             NaN  "
      ]
     },
     "execution_count": 17,
     "metadata": {},
     "output_type": "execute_result"
    }
   ],
   "source": [
    "# Describe dataset\n",
    "df.describe(include='all', datetime_is_numeric=True)"
   ]
  },
  {
   "cell_type": "code",
   "execution_count": 18,
   "metadata": {},
   "outputs": [
    {
     "data": {
      "text/plain": [
       "TransactionId       0.000000\n",
       "ItemId              0.000000\n",
       "Description         0.268311\n",
       "Quantity            0.000000\n",
       "TransactionDate     0.000000\n",
       "UnitPrice           0.000000\n",
       "CustomerID         24.926694\n",
       "Country             0.000000\n",
       "dtype: float64"
      ]
     },
     "execution_count": 18,
     "metadata": {},
     "output_type": "execute_result"
    }
   ],
   "source": [
    "# Percentage of missing values \n",
    "(df.isna().sum() / df.shape[0])* 100"
   ]
  },
  {
   "cell_type": "code",
   "execution_count": 21,
   "metadata": {},
   "outputs": [
    {
     "data": {
      "text/html": [
       "<div>\n",
       "<style scoped>\n",
       "    .dataframe tbody tr th:only-of-type {\n",
       "        vertical-align: middle;\n",
       "    }\n",
       "\n",
       "    .dataframe tbody tr th {\n",
       "        vertical-align: top;\n",
       "    }\n",
       "\n",
       "    .dataframe thead th {\n",
       "        text-align: right;\n",
       "    }\n",
       "</style>\n",
       "<table border=\"1\" class=\"dataframe\">\n",
       "  <thead>\n",
       "    <tr style=\"text-align: right;\">\n",
       "      <th></th>\n",
       "      <th>TransactionId</th>\n",
       "      <th>ItemId</th>\n",
       "      <th>Description</th>\n",
       "      <th>Quantity</th>\n",
       "      <th>TransactionDate</th>\n",
       "      <th>UnitPrice</th>\n",
       "      <th>CustomerID</th>\n",
       "      <th>Country</th>\n",
       "    </tr>\n",
       "  </thead>\n",
       "  <tbody>\n",
       "    <tr>\n",
       "      <th>622</th>\n",
       "      <td>536414</td>\n",
       "      <td>22139</td>\n",
       "      <td>NaN</td>\n",
       "      <td>56</td>\n",
       "      <td>2010-12-01 11:52:00</td>\n",
       "      <td>0.00</td>\n",
       "      <td>NaN</td>\n",
       "      <td>United Kingdom</td>\n",
       "    </tr>\n",
       "    <tr>\n",
       "      <th>1443</th>\n",
       "      <td>536544</td>\n",
       "      <td>21773</td>\n",
       "      <td>DECORATIVE ROSE BATHROOM BOTTLE</td>\n",
       "      <td>1</td>\n",
       "      <td>2010-12-01 14:32:00</td>\n",
       "      <td>2.51</td>\n",
       "      <td>NaN</td>\n",
       "      <td>United Kingdom</td>\n",
       "    </tr>\n",
       "    <tr>\n",
       "      <th>1444</th>\n",
       "      <td>536544</td>\n",
       "      <td>21774</td>\n",
       "      <td>DECORATIVE CATS BATHROOM BOTTLE</td>\n",
       "      <td>2</td>\n",
       "      <td>2010-12-01 14:32:00</td>\n",
       "      <td>2.51</td>\n",
       "      <td>NaN</td>\n",
       "      <td>United Kingdom</td>\n",
       "    </tr>\n",
       "    <tr>\n",
       "      <th>1445</th>\n",
       "      <td>536544</td>\n",
       "      <td>21786</td>\n",
       "      <td>POLKADOT RAIN HAT</td>\n",
       "      <td>4</td>\n",
       "      <td>2010-12-01 14:32:00</td>\n",
       "      <td>0.85</td>\n",
       "      <td>NaN</td>\n",
       "      <td>United Kingdom</td>\n",
       "    </tr>\n",
       "    <tr>\n",
       "      <th>1446</th>\n",
       "      <td>536544</td>\n",
       "      <td>21787</td>\n",
       "      <td>RAIN PONCHO RETROSPOT</td>\n",
       "      <td>2</td>\n",
       "      <td>2010-12-01 14:32:00</td>\n",
       "      <td>1.66</td>\n",
       "      <td>NaN</td>\n",
       "      <td>United Kingdom</td>\n",
       "    </tr>\n",
       "    <tr>\n",
       "      <th>...</th>\n",
       "      <td>...</td>\n",
       "      <td>...</td>\n",
       "      <td>...</td>\n",
       "      <td>...</td>\n",
       "      <td>...</td>\n",
       "      <td>...</td>\n",
       "      <td>...</td>\n",
       "      <td>...</td>\n",
       "    </tr>\n",
       "    <tr>\n",
       "      <th>541536</th>\n",
       "      <td>581498</td>\n",
       "      <td>85099B</td>\n",
       "      <td>JUMBO BAG RED RETROSPOT</td>\n",
       "      <td>5</td>\n",
       "      <td>2011-12-09 10:26:00</td>\n",
       "      <td>4.13</td>\n",
       "      <td>NaN</td>\n",
       "      <td>United Kingdom</td>\n",
       "    </tr>\n",
       "    <tr>\n",
       "      <th>541537</th>\n",
       "      <td>581498</td>\n",
       "      <td>85099C</td>\n",
       "      <td>JUMBO  BAG BAROQUE BLACK WHITE</td>\n",
       "      <td>4</td>\n",
       "      <td>2011-12-09 10:26:00</td>\n",
       "      <td>4.13</td>\n",
       "      <td>NaN</td>\n",
       "      <td>United Kingdom</td>\n",
       "    </tr>\n",
       "    <tr>\n",
       "      <th>541538</th>\n",
       "      <td>581498</td>\n",
       "      <td>85150</td>\n",
       "      <td>LADIES &amp; GENTLEMEN METAL SIGN</td>\n",
       "      <td>1</td>\n",
       "      <td>2011-12-09 10:26:00</td>\n",
       "      <td>4.96</td>\n",
       "      <td>NaN</td>\n",
       "      <td>United Kingdom</td>\n",
       "    </tr>\n",
       "    <tr>\n",
       "      <th>541539</th>\n",
       "      <td>581498</td>\n",
       "      <td>85174</td>\n",
       "      <td>S/4 CACTI CANDLES</td>\n",
       "      <td>1</td>\n",
       "      <td>2011-12-09 10:26:00</td>\n",
       "      <td>10.79</td>\n",
       "      <td>NaN</td>\n",
       "      <td>United Kingdom</td>\n",
       "    </tr>\n",
       "    <tr>\n",
       "      <th>541540</th>\n",
       "      <td>581498</td>\n",
       "      <td>DOT</td>\n",
       "      <td>DOTCOM POSTAGE</td>\n",
       "      <td>1</td>\n",
       "      <td>2011-12-09 10:26:00</td>\n",
       "      <td>1714.17</td>\n",
       "      <td>NaN</td>\n",
       "      <td>United Kingdom</td>\n",
       "    </tr>\n",
       "  </tbody>\n",
       "</table>\n",
       "<p>135080 rows × 8 columns</p>\n",
       "</div>"
      ],
      "text/plain": [
       "       TransactionId  ItemId                      Description  Quantity  \\\n",
       "622           536414   22139                              NaN        56   \n",
       "1443          536544   21773  DECORATIVE ROSE BATHROOM BOTTLE         1   \n",
       "1444          536544   21774  DECORATIVE CATS BATHROOM BOTTLE         2   \n",
       "1445          536544   21786               POLKADOT RAIN HAT          4   \n",
       "1446          536544   21787            RAIN PONCHO RETROSPOT         2   \n",
       "...              ...     ...                              ...       ...   \n",
       "541536        581498  85099B          JUMBO BAG RED RETROSPOT         5   \n",
       "541537        581498  85099C   JUMBO  BAG BAROQUE BLACK WHITE         4   \n",
       "541538        581498   85150    LADIES & GENTLEMEN METAL SIGN         1   \n",
       "541539        581498   85174                S/4 CACTI CANDLES         1   \n",
       "541540        581498     DOT                   DOTCOM POSTAGE         1   \n",
       "\n",
       "           TransactionDate  UnitPrice CustomerID         Country  \n",
       "622    2010-12-01 11:52:00       0.00        NaN  United Kingdom  \n",
       "1443   2010-12-01 14:32:00       2.51        NaN  United Kingdom  \n",
       "1444   2010-12-01 14:32:00       2.51        NaN  United Kingdom  \n",
       "1445   2010-12-01 14:32:00       0.85        NaN  United Kingdom  \n",
       "1446   2010-12-01 14:32:00       1.66        NaN  United Kingdom  \n",
       "...                    ...        ...        ...             ...  \n",
       "541536 2011-12-09 10:26:00       4.13        NaN  United Kingdom  \n",
       "541537 2011-12-09 10:26:00       4.13        NaN  United Kingdom  \n",
       "541538 2011-12-09 10:26:00       4.96        NaN  United Kingdom  \n",
       "541539 2011-12-09 10:26:00      10.79        NaN  United Kingdom  \n",
       "541540 2011-12-09 10:26:00    1714.17        NaN  United Kingdom  \n",
       "\n",
       "[135080 rows x 8 columns]"
      ]
     },
     "execution_count": 21,
     "metadata": {},
     "output_type": "execute_result"
    }
   ],
   "source": [
    "df[df.CustomerID.isna()]"
   ]
  },
  {
   "cell_type": "code",
   "execution_count": 33,
   "metadata": {},
   "outputs": [
    {
     "data": {
      "text/html": [
       "<div>\n",
       "<style scoped>\n",
       "    .dataframe tbody tr th:only-of-type {\n",
       "        vertical-align: middle;\n",
       "    }\n",
       "\n",
       "    .dataframe tbody tr th {\n",
       "        vertical-align: top;\n",
       "    }\n",
       "\n",
       "    .dataframe thead th {\n",
       "        text-align: right;\n",
       "    }\n",
       "</style>\n",
       "<table border=\"1\" class=\"dataframe\">\n",
       "  <thead>\n",
       "    <tr style=\"text-align: right;\">\n",
       "      <th></th>\n",
       "      <th>TransactionId</th>\n",
       "      <th>ItemId</th>\n",
       "      <th>Description</th>\n",
       "      <th>Quantity</th>\n",
       "      <th>TransactionDate</th>\n",
       "      <th>UnitPrice</th>\n",
       "      <th>CustomerID</th>\n",
       "      <th>Country</th>\n",
       "    </tr>\n",
       "  </thead>\n",
       "  <tbody>\n",
       "    <tr>\n",
       "      <th>0</th>\n",
       "      <td>536365</td>\n",
       "      <td>85123A</td>\n",
       "      <td>WHITE HANGING HEART T-LIGHT HOLDER</td>\n",
       "      <td>6</td>\n",
       "      <td>2010-12-01 08:26:00</td>\n",
       "      <td>2.55</td>\n",
       "      <td>17850</td>\n",
       "      <td>United Kingdom</td>\n",
       "    </tr>\n",
       "    <tr>\n",
       "      <th>1</th>\n",
       "      <td>536365</td>\n",
       "      <td>71053</td>\n",
       "      <td>WHITE METAL LANTERN</td>\n",
       "      <td>6</td>\n",
       "      <td>2010-12-01 08:26:00</td>\n",
       "      <td>3.39</td>\n",
       "      <td>17850</td>\n",
       "      <td>United Kingdom</td>\n",
       "    </tr>\n",
       "    <tr>\n",
       "      <th>2</th>\n",
       "      <td>536365</td>\n",
       "      <td>84406B</td>\n",
       "      <td>CREAM CUPID HEARTS COAT HANGER</td>\n",
       "      <td>8</td>\n",
       "      <td>2010-12-01 08:26:00</td>\n",
       "      <td>2.75</td>\n",
       "      <td>17850</td>\n",
       "      <td>United Kingdom</td>\n",
       "    </tr>\n",
       "    <tr>\n",
       "      <th>3</th>\n",
       "      <td>536365</td>\n",
       "      <td>84029G</td>\n",
       "      <td>KNITTED UNION FLAG HOT WATER BOTTLE</td>\n",
       "      <td>6</td>\n",
       "      <td>2010-12-01 08:26:00</td>\n",
       "      <td>3.39</td>\n",
       "      <td>17850</td>\n",
       "      <td>United Kingdom</td>\n",
       "    </tr>\n",
       "    <tr>\n",
       "      <th>4</th>\n",
       "      <td>536365</td>\n",
       "      <td>84029E</td>\n",
       "      <td>RED WOOLLY HOTTIE WHITE HEART.</td>\n",
       "      <td>6</td>\n",
       "      <td>2010-12-01 08:26:00</td>\n",
       "      <td>3.39</td>\n",
       "      <td>17850</td>\n",
       "      <td>United Kingdom</td>\n",
       "    </tr>\n",
       "    <tr>\n",
       "      <th>...</th>\n",
       "      <td>...</td>\n",
       "      <td>...</td>\n",
       "      <td>...</td>\n",
       "      <td>...</td>\n",
       "      <td>...</td>\n",
       "      <td>...</td>\n",
       "      <td>...</td>\n",
       "      <td>...</td>\n",
       "    </tr>\n",
       "    <tr>\n",
       "      <th>541904</th>\n",
       "      <td>581587</td>\n",
       "      <td>22613</td>\n",
       "      <td>PACK OF 20 SPACEBOY NAPKINS</td>\n",
       "      <td>12</td>\n",
       "      <td>2011-12-09 12:50:00</td>\n",
       "      <td>0.85</td>\n",
       "      <td>12680</td>\n",
       "      <td>France</td>\n",
       "    </tr>\n",
       "    <tr>\n",
       "      <th>541905</th>\n",
       "      <td>581587</td>\n",
       "      <td>22899</td>\n",
       "      <td>CHILDREN'S APRON DOLLY GIRL</td>\n",
       "      <td>6</td>\n",
       "      <td>2011-12-09 12:50:00</td>\n",
       "      <td>2.10</td>\n",
       "      <td>12680</td>\n",
       "      <td>France</td>\n",
       "    </tr>\n",
       "    <tr>\n",
       "      <th>541906</th>\n",
       "      <td>581587</td>\n",
       "      <td>23254</td>\n",
       "      <td>CHILDRENS CUTLERY DOLLY GIRL</td>\n",
       "      <td>4</td>\n",
       "      <td>2011-12-09 12:50:00</td>\n",
       "      <td>4.15</td>\n",
       "      <td>12680</td>\n",
       "      <td>France</td>\n",
       "    </tr>\n",
       "    <tr>\n",
       "      <th>541907</th>\n",
       "      <td>581587</td>\n",
       "      <td>23255</td>\n",
       "      <td>CHILDRENS CUTLERY CIRCUS PARADE</td>\n",
       "      <td>4</td>\n",
       "      <td>2011-12-09 12:50:00</td>\n",
       "      <td>4.15</td>\n",
       "      <td>12680</td>\n",
       "      <td>France</td>\n",
       "    </tr>\n",
       "    <tr>\n",
       "      <th>541908</th>\n",
       "      <td>581587</td>\n",
       "      <td>22138</td>\n",
       "      <td>BAKING SET 9 PIECE RETROSPOT</td>\n",
       "      <td>3</td>\n",
       "      <td>2011-12-09 12:50:00</td>\n",
       "      <td>4.95</td>\n",
       "      <td>12680</td>\n",
       "      <td>France</td>\n",
       "    </tr>\n",
       "  </tbody>\n",
       "</table>\n",
       "<p>541909 rows × 8 columns</p>\n",
       "</div>"
      ],
      "text/plain": [
       "       TransactionId  ItemId                          Description  Quantity  \\\n",
       "0             536365  85123A   WHITE HANGING HEART T-LIGHT HOLDER         6   \n",
       "1             536365   71053                  WHITE METAL LANTERN         6   \n",
       "2             536365  84406B       CREAM CUPID HEARTS COAT HANGER         8   \n",
       "3             536365  84029G  KNITTED UNION FLAG HOT WATER BOTTLE         6   \n",
       "4             536365  84029E       RED WOOLLY HOTTIE WHITE HEART.         6   \n",
       "...              ...     ...                                  ...       ...   \n",
       "541904        581587   22613          PACK OF 20 SPACEBOY NAPKINS        12   \n",
       "541905        581587   22899         CHILDREN'S APRON DOLLY GIRL          6   \n",
       "541906        581587   23254        CHILDRENS CUTLERY DOLLY GIRL          4   \n",
       "541907        581587   23255      CHILDRENS CUTLERY CIRCUS PARADE         4   \n",
       "541908        581587   22138        BAKING SET 9 PIECE RETROSPOT          3   \n",
       "\n",
       "           TransactionDate  UnitPrice CustomerID         Country  \n",
       "0      2010-12-01 08:26:00       2.55      17850  United Kingdom  \n",
       "1      2010-12-01 08:26:00       3.39      17850  United Kingdom  \n",
       "2      2010-12-01 08:26:00       2.75      17850  United Kingdom  \n",
       "3      2010-12-01 08:26:00       3.39      17850  United Kingdom  \n",
       "4      2010-12-01 08:26:00       3.39      17850  United Kingdom  \n",
       "...                    ...        ...        ...             ...  \n",
       "541904 2011-12-09 12:50:00       0.85      12680          France  \n",
       "541905 2011-12-09 12:50:00       2.10      12680          France  \n",
       "541906 2011-12-09 12:50:00       4.15      12680          France  \n",
       "541907 2011-12-09 12:50:00       4.15      12680          France  \n",
       "541908 2011-12-09 12:50:00       4.95      12680          France  \n",
       "\n",
       "[541909 rows x 8 columns]"
      ]
     },
     "execution_count": 33,
     "metadata": {},
     "output_type": "execute_result"
    }
   ],
   "source": [
    "df"
   ]
  },
  {
   "cell_type": "code",
   "execution_count": 103,
   "metadata": {},
   "outputs": [
    {
     "data": {
      "text/html": [
       "<div>\n",
       "<style scoped>\n",
       "    .dataframe tbody tr th:only-of-type {\n",
       "        vertical-align: middle;\n",
       "    }\n",
       "\n",
       "    .dataframe tbody tr th {\n",
       "        vertical-align: top;\n",
       "    }\n",
       "\n",
       "    .dataframe thead th {\n",
       "        text-align: right;\n",
       "    }\n",
       "</style>\n",
       "<table border=\"1\" class=\"dataframe\">\n",
       "  <thead>\n",
       "    <tr style=\"text-align: right;\">\n",
       "      <th></th>\n",
       "      <th>Total Amount of Sales</th>\n",
       "    </tr>\n",
       "  </thead>\n",
       "  <tbody>\n",
       "    <tr>\n",
       "      <th>WHITE HANGING HEART T-LIGHT HOLDER</th>\n",
       "      <td>2369</td>\n",
       "    </tr>\n",
       "    <tr>\n",
       "      <th>REGENCY CAKESTAND 3 TIER</th>\n",
       "      <td>2200</td>\n",
       "    </tr>\n",
       "    <tr>\n",
       "      <th>JUMBO BAG RED RETROSPOT</th>\n",
       "      <td>2159</td>\n",
       "    </tr>\n",
       "    <tr>\n",
       "      <th>PARTY BUNTING</th>\n",
       "      <td>1727</td>\n",
       "    </tr>\n",
       "    <tr>\n",
       "      <th>LUNCH BAG RED RETROSPOT</th>\n",
       "      <td>1638</td>\n",
       "    </tr>\n",
       "    <tr>\n",
       "      <th>...</th>\n",
       "      <td>...</td>\n",
       "    </tr>\n",
       "    <tr>\n",
       "      <th>CHRISTMAS TABLE CANDLE SILVER SPIKE</th>\n",
       "      <td>1</td>\n",
       "    </tr>\n",
       "    <tr>\n",
       "      <th>WHITE FRANGIPANI HAIR CLIP</th>\n",
       "      <td>1</td>\n",
       "    </tr>\n",
       "    <tr>\n",
       "      <th>OOH LA LA DOGS COLLAR</th>\n",
       "      <td>1</td>\n",
       "    </tr>\n",
       "    <tr>\n",
       "      <th>water damaged</th>\n",
       "      <td>1</td>\n",
       "    </tr>\n",
       "    <tr>\n",
       "      <th>crushed boxes</th>\n",
       "      <td>1</td>\n",
       "    </tr>\n",
       "  </tbody>\n",
       "</table>\n",
       "<p>4223 rows × 1 columns</p>\n",
       "</div>"
      ],
      "text/plain": [
       "                                     Total Amount of Sales\n",
       "WHITE HANGING HEART T-LIGHT HOLDER                    2369\n",
       "REGENCY CAKESTAND 3 TIER                              2200\n",
       "JUMBO BAG RED RETROSPOT                               2159\n",
       "PARTY BUNTING                                         1727\n",
       "LUNCH BAG RED RETROSPOT                               1638\n",
       "...                                                    ...\n",
       "CHRISTMAS TABLE CANDLE SILVER SPIKE                      1\n",
       "WHITE FRANGIPANI HAIR CLIP                               1\n",
       "OOH LA LA DOGS COLLAR                                    1\n",
       "water damaged                                            1\n",
       "crushed boxes                                            1\n",
       "\n",
       "[4223 rows x 1 columns]"
      ]
     },
     "execution_count": 103,
     "metadata": {},
     "output_type": "execute_result"
    }
   ],
   "source": [
    "top10prod=df[\"Description\"].value_counts().to_frame()\n",
    "top10prod = top10prod.rename(columns={\"Description\":\"Total Amount of Sales\"})\n",
    "top10prod"
   ]
  },
  {
   "cell_type": "code",
   "execution_count": 102,
   "metadata": {},
   "outputs": [
    {
     "data": {
      "text/plain": [
       "15"
      ]
     },
     "execution_count": 102,
     "metadata": {},
     "output_type": "execute_result"
    }
   ],
   "source": [
    "len(top10prod)"
   ]
  },
  {
   "cell_type": "code",
   "execution_count": 49,
   "metadata": {},
   "outputs": [
    {
     "data": {
      "application/vnd.plotly.v1+json": {
       "config": {
        "plotlyServerURL": "https://plot.ly"
       },
       "data": [
        {
         "alignmentgroup": "True",
         "hovertemplate": "Product: %{x} <br>Total Sales: %{y} <extra></extra>",
         "legendgroup": "",
         "marker": {
          "color": [
           2369,
           2200,
           2159,
           1727,
           1638,
           1501,
           1473,
           1385,
           1350,
           1280,
           1252,
           1251,
           1237,
           1229,
           1214
          ],
          "coloraxis": "coloraxis"
         },
         "name": "",
         "offsetgroup": "",
         "orientation": "v",
         "showlegend": false,
         "textposition": "auto",
         "type": "bar",
         "x": [
          "WHITE HANGING HEART T-LIGHT HOLDER",
          "REGENCY CAKESTAND 3 TIER",
          "JUMBO BAG RED RETROSPOT",
          "PARTY BUNTING",
          "LUNCH BAG RED RETROSPOT",
          "ASSORTED COLOUR BIRD ORNAMENT",
          "SET OF 3 CAKE TINS PANTRY DESIGN ",
          "PACK OF 72 RETROSPOT CAKE CASES",
          "LUNCH BAG  BLACK SKULL.",
          "NATURAL SLATE HEART CHALKBOARD ",
          "POSTAGE",
          "JUMBO BAG PINK POLKADOT",
          "HEART OF WICKER SMALL",
          "JAM MAKING SET WITH JARS",
          "JUMBO STORAGE BAG SUKI"
         ],
         "xaxis": "x",
         "y": [
          2369,
          2200,
          2159,
          1727,
          1638,
          1501,
          1473,
          1385,
          1350,
          1280,
          1252,
          1251,
          1237,
          1229,
          1214
         ],
         "yaxis": "y"
        }
       ],
       "layout": {
        "barmode": "stack",
        "coloraxis": {
         "colorbar": {
          "title": {
           "text": "Total Amount of Sales"
          }
         },
         "colorscale": [
          [
           0,
           "#0d0887"
          ],
          [
           0.1111111111111111,
           "#46039f"
          ],
          [
           0.2222222222222222,
           "#7201a8"
          ],
          [
           0.3333333333333333,
           "#9c179e"
          ],
          [
           0.4444444444444444,
           "#bd3786"
          ],
          [
           0.5555555555555556,
           "#d8576b"
          ],
          [
           0.6666666666666666,
           "#ed7953"
          ],
          [
           0.7777777777777778,
           "#fb9f3a"
          ],
          [
           0.8888888888888888,
           "#fdca26"
          ],
          [
           1,
           "#f0f921"
          ]
         ]
        },
        "legend": {
         "tracegroupgap": 0
        },
        "margin": {
         "t": 60
        },
        "paper_bgcolor": "rgba(255,255,255)",
        "plot_bgcolor": "rgba(0,0,0,0)",
        "template": {
         "data": {
          "bar": [
           {
            "error_x": {
             "color": "#2a3f5f"
            },
            "error_y": {
             "color": "#2a3f5f"
            },
            "marker": {
             "line": {
              "color": "#E5ECF6",
              "width": 0.5
             }
            },
            "type": "bar"
           }
          ],
          "barpolar": [
           {
            "marker": {
             "line": {
              "color": "#E5ECF6",
              "width": 0.5
             }
            },
            "type": "barpolar"
           }
          ],
          "carpet": [
           {
            "aaxis": {
             "endlinecolor": "#2a3f5f",
             "gridcolor": "white",
             "linecolor": "white",
             "minorgridcolor": "white",
             "startlinecolor": "#2a3f5f"
            },
            "baxis": {
             "endlinecolor": "#2a3f5f",
             "gridcolor": "white",
             "linecolor": "white",
             "minorgridcolor": "white",
             "startlinecolor": "#2a3f5f"
            },
            "type": "carpet"
           }
          ],
          "choropleth": [
           {
            "colorbar": {
             "outlinewidth": 0,
             "ticks": ""
            },
            "type": "choropleth"
           }
          ],
          "contour": [
           {
            "colorbar": {
             "outlinewidth": 0,
             "ticks": ""
            },
            "colorscale": [
             [
              0,
              "#0d0887"
             ],
             [
              0.1111111111111111,
              "#46039f"
             ],
             [
              0.2222222222222222,
              "#7201a8"
             ],
             [
              0.3333333333333333,
              "#9c179e"
             ],
             [
              0.4444444444444444,
              "#bd3786"
             ],
             [
              0.5555555555555556,
              "#d8576b"
             ],
             [
              0.6666666666666666,
              "#ed7953"
             ],
             [
              0.7777777777777778,
              "#fb9f3a"
             ],
             [
              0.8888888888888888,
              "#fdca26"
             ],
             [
              1,
              "#f0f921"
             ]
            ],
            "type": "contour"
           }
          ],
          "contourcarpet": [
           {
            "colorbar": {
             "outlinewidth": 0,
             "ticks": ""
            },
            "type": "contourcarpet"
           }
          ],
          "heatmap": [
           {
            "colorbar": {
             "outlinewidth": 0,
             "ticks": ""
            },
            "colorscale": [
             [
              0,
              "#0d0887"
             ],
             [
              0.1111111111111111,
              "#46039f"
             ],
             [
              0.2222222222222222,
              "#7201a8"
             ],
             [
              0.3333333333333333,
              "#9c179e"
             ],
             [
              0.4444444444444444,
              "#bd3786"
             ],
             [
              0.5555555555555556,
              "#d8576b"
             ],
             [
              0.6666666666666666,
              "#ed7953"
             ],
             [
              0.7777777777777778,
              "#fb9f3a"
             ],
             [
              0.8888888888888888,
              "#fdca26"
             ],
             [
              1,
              "#f0f921"
             ]
            ],
            "type": "heatmap"
           }
          ],
          "heatmapgl": [
           {
            "colorbar": {
             "outlinewidth": 0,
             "ticks": ""
            },
            "colorscale": [
             [
              0,
              "#0d0887"
             ],
             [
              0.1111111111111111,
              "#46039f"
             ],
             [
              0.2222222222222222,
              "#7201a8"
             ],
             [
              0.3333333333333333,
              "#9c179e"
             ],
             [
              0.4444444444444444,
              "#bd3786"
             ],
             [
              0.5555555555555556,
              "#d8576b"
             ],
             [
              0.6666666666666666,
              "#ed7953"
             ],
             [
              0.7777777777777778,
              "#fb9f3a"
             ],
             [
              0.8888888888888888,
              "#fdca26"
             ],
             [
              1,
              "#f0f921"
             ]
            ],
            "type": "heatmapgl"
           }
          ],
          "histogram": [
           {
            "marker": {
             "colorbar": {
              "outlinewidth": 0,
              "ticks": ""
             }
            },
            "type": "histogram"
           }
          ],
          "histogram2d": [
           {
            "colorbar": {
             "outlinewidth": 0,
             "ticks": ""
            },
            "colorscale": [
             [
              0,
              "#0d0887"
             ],
             [
              0.1111111111111111,
              "#46039f"
             ],
             [
              0.2222222222222222,
              "#7201a8"
             ],
             [
              0.3333333333333333,
              "#9c179e"
             ],
             [
              0.4444444444444444,
              "#bd3786"
             ],
             [
              0.5555555555555556,
              "#d8576b"
             ],
             [
              0.6666666666666666,
              "#ed7953"
             ],
             [
              0.7777777777777778,
              "#fb9f3a"
             ],
             [
              0.8888888888888888,
              "#fdca26"
             ],
             [
              1,
              "#f0f921"
             ]
            ],
            "type": "histogram2d"
           }
          ],
          "histogram2dcontour": [
           {
            "colorbar": {
             "outlinewidth": 0,
             "ticks": ""
            },
            "colorscale": [
             [
              0,
              "#0d0887"
             ],
             [
              0.1111111111111111,
              "#46039f"
             ],
             [
              0.2222222222222222,
              "#7201a8"
             ],
             [
              0.3333333333333333,
              "#9c179e"
             ],
             [
              0.4444444444444444,
              "#bd3786"
             ],
             [
              0.5555555555555556,
              "#d8576b"
             ],
             [
              0.6666666666666666,
              "#ed7953"
             ],
             [
              0.7777777777777778,
              "#fb9f3a"
             ],
             [
              0.8888888888888888,
              "#fdca26"
             ],
             [
              1,
              "#f0f921"
             ]
            ],
            "type": "histogram2dcontour"
           }
          ],
          "mesh3d": [
           {
            "colorbar": {
             "outlinewidth": 0,
             "ticks": ""
            },
            "type": "mesh3d"
           }
          ],
          "parcoords": [
           {
            "line": {
             "colorbar": {
              "outlinewidth": 0,
              "ticks": ""
             }
            },
            "type": "parcoords"
           }
          ],
          "pie": [
           {
            "automargin": true,
            "type": "pie"
           }
          ],
          "scatter": [
           {
            "marker": {
             "colorbar": {
              "outlinewidth": 0,
              "ticks": ""
             }
            },
            "type": "scatter"
           }
          ],
          "scatter3d": [
           {
            "line": {
             "colorbar": {
              "outlinewidth": 0,
              "ticks": ""
             }
            },
            "marker": {
             "colorbar": {
              "outlinewidth": 0,
              "ticks": ""
             }
            },
            "type": "scatter3d"
           }
          ],
          "scattercarpet": [
           {
            "marker": {
             "colorbar": {
              "outlinewidth": 0,
              "ticks": ""
             }
            },
            "type": "scattercarpet"
           }
          ],
          "scattergeo": [
           {
            "marker": {
             "colorbar": {
              "outlinewidth": 0,
              "ticks": ""
             }
            },
            "type": "scattergeo"
           }
          ],
          "scattergl": [
           {
            "marker": {
             "colorbar": {
              "outlinewidth": 0,
              "ticks": ""
             }
            },
            "type": "scattergl"
           }
          ],
          "scattermapbox": [
           {
            "marker": {
             "colorbar": {
              "outlinewidth": 0,
              "ticks": ""
             }
            },
            "type": "scattermapbox"
           }
          ],
          "scatterpolar": [
           {
            "marker": {
             "colorbar": {
              "outlinewidth": 0,
              "ticks": ""
             }
            },
            "type": "scatterpolar"
           }
          ],
          "scatterpolargl": [
           {
            "marker": {
             "colorbar": {
              "outlinewidth": 0,
              "ticks": ""
             }
            },
            "type": "scatterpolargl"
           }
          ],
          "scatterternary": [
           {
            "marker": {
             "colorbar": {
              "outlinewidth": 0,
              "ticks": ""
             }
            },
            "type": "scatterternary"
           }
          ],
          "surface": [
           {
            "colorbar": {
             "outlinewidth": 0,
             "ticks": ""
            },
            "colorscale": [
             [
              0,
              "#0d0887"
             ],
             [
              0.1111111111111111,
              "#46039f"
             ],
             [
              0.2222222222222222,
              "#7201a8"
             ],
             [
              0.3333333333333333,
              "#9c179e"
             ],
             [
              0.4444444444444444,
              "#bd3786"
             ],
             [
              0.5555555555555556,
              "#d8576b"
             ],
             [
              0.6666666666666666,
              "#ed7953"
             ],
             [
              0.7777777777777778,
              "#fb9f3a"
             ],
             [
              0.8888888888888888,
              "#fdca26"
             ],
             [
              1,
              "#f0f921"
             ]
            ],
            "type": "surface"
           }
          ],
          "table": [
           {
            "cells": {
             "fill": {
              "color": "#EBF0F8"
             },
             "line": {
              "color": "white"
             }
            },
            "header": {
             "fill": {
              "color": "#C8D4E3"
             },
             "line": {
              "color": "white"
             }
            },
            "type": "table"
           }
          ]
         },
         "layout": {
          "annotationdefaults": {
           "arrowcolor": "#2a3f5f",
           "arrowhead": 0,
           "arrowwidth": 1
          },
          "autotypenumbers": "strict",
          "coloraxis": {
           "colorbar": {
            "outlinewidth": 0,
            "ticks": ""
           }
          },
          "colorscale": {
           "diverging": [
            [
             0,
             "#8e0152"
            ],
            [
             0.1,
             "#c51b7d"
            ],
            [
             0.2,
             "#de77ae"
            ],
            [
             0.3,
             "#f1b6da"
            ],
            [
             0.4,
             "#fde0ef"
            ],
            [
             0.5,
             "#f7f7f7"
            ],
            [
             0.6,
             "#e6f5d0"
            ],
            [
             0.7,
             "#b8e186"
            ],
            [
             0.8,
             "#7fbc41"
            ],
            [
             0.9,
             "#4d9221"
            ],
            [
             1,
             "#276419"
            ]
           ],
           "sequential": [
            [
             0,
             "#0d0887"
            ],
            [
             0.1111111111111111,
             "#46039f"
            ],
            [
             0.2222222222222222,
             "#7201a8"
            ],
            [
             0.3333333333333333,
             "#9c179e"
            ],
            [
             0.4444444444444444,
             "#bd3786"
            ],
            [
             0.5555555555555556,
             "#d8576b"
            ],
            [
             0.6666666666666666,
             "#ed7953"
            ],
            [
             0.7777777777777778,
             "#fb9f3a"
            ],
            [
             0.8888888888888888,
             "#fdca26"
            ],
            [
             1,
             "#f0f921"
            ]
           ],
           "sequentialminus": [
            [
             0,
             "#0d0887"
            ],
            [
             0.1111111111111111,
             "#46039f"
            ],
            [
             0.2222222222222222,
             "#7201a8"
            ],
            [
             0.3333333333333333,
             "#9c179e"
            ],
            [
             0.4444444444444444,
             "#bd3786"
            ],
            [
             0.5555555555555556,
             "#d8576b"
            ],
            [
             0.6666666666666666,
             "#ed7953"
            ],
            [
             0.7777777777777778,
             "#fb9f3a"
            ],
            [
             0.8888888888888888,
             "#fdca26"
            ],
            [
             1,
             "#f0f921"
            ]
           ]
          },
          "colorway": [
           "#636efa",
           "#EF553B",
           "#00cc96",
           "#ab63fa",
           "#FFA15A",
           "#19d3f3",
           "#FF6692",
           "#B6E880",
           "#FF97FF",
           "#FECB52"
          ],
          "font": {
           "color": "#2a3f5f"
          },
          "geo": {
           "bgcolor": "white",
           "lakecolor": "white",
           "landcolor": "#E5ECF6",
           "showlakes": true,
           "showland": true,
           "subunitcolor": "white"
          },
          "hoverlabel": {
           "align": "left"
          },
          "hovermode": "closest",
          "mapbox": {
           "style": "light"
          },
          "paper_bgcolor": "white",
          "plot_bgcolor": "#E5ECF6",
          "polar": {
           "angularaxis": {
            "gridcolor": "white",
            "linecolor": "white",
            "ticks": ""
           },
           "bgcolor": "#E5ECF6",
           "radialaxis": {
            "gridcolor": "white",
            "linecolor": "white",
            "ticks": ""
           }
          },
          "scene": {
           "xaxis": {
            "backgroundcolor": "#E5ECF6",
            "gridcolor": "white",
            "gridwidth": 2,
            "linecolor": "white",
            "showbackground": true,
            "ticks": "",
            "zerolinecolor": "white"
           },
           "yaxis": {
            "backgroundcolor": "#E5ECF6",
            "gridcolor": "white",
            "gridwidth": 2,
            "linecolor": "white",
            "showbackground": true,
            "ticks": "",
            "zerolinecolor": "white"
           },
           "zaxis": {
            "backgroundcolor": "#E5ECF6",
            "gridcolor": "white",
            "gridwidth": 2,
            "linecolor": "white",
            "showbackground": true,
            "ticks": "",
            "zerolinecolor": "white"
           }
          },
          "shapedefaults": {
           "line": {
            "color": "#2a3f5f"
           }
          },
          "ternary": {
           "aaxis": {
            "gridcolor": "white",
            "linecolor": "white",
            "ticks": ""
           },
           "baxis": {
            "gridcolor": "white",
            "linecolor": "white",
            "ticks": ""
           },
           "bgcolor": "#E5ECF6",
           "caxis": {
            "gridcolor": "white",
            "linecolor": "white",
            "ticks": ""
           }
          },
          "title": {
           "x": 0.05
          },
          "xaxis": {
           "automargin": true,
           "gridcolor": "white",
           "linecolor": "white",
           "ticks": "",
           "title": {
            "standoff": 15
           },
           "zerolinecolor": "white",
           "zerolinewidth": 2
          },
          "yaxis": {
           "automargin": true,
           "gridcolor": "white",
           "linecolor": "white",
           "ticks": "",
           "title": {
            "standoff": 15
           },
           "zerolinecolor": "white",
           "zerolinewidth": 2
          }
         }
        },
        "xaxis": {
         "anchor": "y",
         "domain": [
          0,
          1
         ],
         "title": {
          "text": "Product Name"
         }
        },
        "yaxis": {
         "anchor": "x",
         "domain": [
          0,
          1
         ],
         "gridcolor": "black",
         "gridwidth": 0.5,
         "showgrid": true,
         "title": {
          "text": "Total Amount of Sales"
         }
        }
       }
      },
      "text/html": [
       "<div>                            <div id=\"8824433e-d2f4-4fa6-a866-77da9c6bb3e3\" class=\"plotly-graph-div\" style=\"height:525px; width:100%;\"></div>            <script type=\"text/javascript\">                require([\"plotly\"], function(Plotly) {                    window.PLOTLYENV=window.PLOTLYENV || {};                                    if (document.getElementById(\"8824433e-d2f4-4fa6-a866-77da9c6bb3e3\")) {                    Plotly.newPlot(                        \"8824433e-d2f4-4fa6-a866-77da9c6bb3e3\",                        [{\"alignmentgroup\": \"True\", \"hovertemplate\": \"Product: %{x} <br>Total Sales: %{y} <extra></extra>\", \"legendgroup\": \"\", \"marker\": {\"color\": [2369, 2200, 2159, 1727, 1638, 1501, 1473, 1385, 1350, 1280, 1252, 1251, 1237, 1229, 1214], \"coloraxis\": \"coloraxis\"}, \"name\": \"\", \"offsetgroup\": \"\", \"orientation\": \"v\", \"showlegend\": false, \"textposition\": \"auto\", \"type\": \"bar\", \"x\": [\"WHITE HANGING HEART T-LIGHT HOLDER\", \"REGENCY CAKESTAND 3 TIER\", \"JUMBO BAG RED RETROSPOT\", \"PARTY BUNTING\", \"LUNCH BAG RED RETROSPOT\", \"ASSORTED COLOUR BIRD ORNAMENT\", \"SET OF 3 CAKE TINS PANTRY DESIGN \", \"PACK OF 72 RETROSPOT CAKE CASES\", \"LUNCH BAG  BLACK SKULL.\", \"NATURAL SLATE HEART CHALKBOARD \", \"POSTAGE\", \"JUMBO BAG PINK POLKADOT\", \"HEART OF WICKER SMALL\", \"JAM MAKING SET WITH JARS\", \"JUMBO STORAGE BAG SUKI\"], \"xaxis\": \"x\", \"y\": [2369, 2200, 2159, 1727, 1638, 1501, 1473, 1385, 1350, 1280, 1252, 1251, 1237, 1229, 1214], \"yaxis\": \"y\"}],                        {\"barmode\": \"stack\", \"coloraxis\": {\"colorbar\": {\"title\": {\"text\": \"Total Amount of Sales\"}}, \"colorscale\": [[0.0, \"#0d0887\"], [0.1111111111111111, \"#46039f\"], [0.2222222222222222, \"#7201a8\"], [0.3333333333333333, \"#9c179e\"], [0.4444444444444444, \"#bd3786\"], [0.5555555555555556, \"#d8576b\"], [0.6666666666666666, \"#ed7953\"], [0.7777777777777778, \"#fb9f3a\"], [0.8888888888888888, \"#fdca26\"], [1.0, \"#f0f921\"]]}, \"legend\": {\"tracegroupgap\": 0}, \"margin\": {\"t\": 60}, \"paper_bgcolor\": \"rgba(255,255,255)\", \"plot_bgcolor\": \"rgba(0,0,0,0)\", \"template\": {\"data\": {\"bar\": [{\"error_x\": {\"color\": \"#2a3f5f\"}, \"error_y\": {\"color\": \"#2a3f5f\"}, \"marker\": {\"line\": {\"color\": \"#E5ECF6\", \"width\": 0.5}}, \"type\": \"bar\"}], \"barpolar\": [{\"marker\": {\"line\": {\"color\": \"#E5ECF6\", \"width\": 0.5}}, \"type\": \"barpolar\"}], \"carpet\": [{\"aaxis\": {\"endlinecolor\": \"#2a3f5f\", \"gridcolor\": \"white\", \"linecolor\": \"white\", \"minorgridcolor\": \"white\", \"startlinecolor\": \"#2a3f5f\"}, \"baxis\": {\"endlinecolor\": \"#2a3f5f\", \"gridcolor\": \"white\", \"linecolor\": \"white\", \"minorgridcolor\": \"white\", \"startlinecolor\": \"#2a3f5f\"}, \"type\": \"carpet\"}], \"choropleth\": [{\"colorbar\": {\"outlinewidth\": 0, \"ticks\": \"\"}, \"type\": \"choropleth\"}], \"contour\": [{\"colorbar\": {\"outlinewidth\": 0, \"ticks\": \"\"}, \"colorscale\": [[0.0, \"#0d0887\"], [0.1111111111111111, \"#46039f\"], [0.2222222222222222, \"#7201a8\"], [0.3333333333333333, \"#9c179e\"], [0.4444444444444444, \"#bd3786\"], [0.5555555555555556, \"#d8576b\"], [0.6666666666666666, \"#ed7953\"], [0.7777777777777778, \"#fb9f3a\"], [0.8888888888888888, \"#fdca26\"], [1.0, \"#f0f921\"]], \"type\": \"contour\"}], \"contourcarpet\": [{\"colorbar\": {\"outlinewidth\": 0, \"ticks\": \"\"}, \"type\": \"contourcarpet\"}], \"heatmap\": [{\"colorbar\": {\"outlinewidth\": 0, \"ticks\": \"\"}, \"colorscale\": [[0.0, \"#0d0887\"], [0.1111111111111111, \"#46039f\"], [0.2222222222222222, \"#7201a8\"], [0.3333333333333333, \"#9c179e\"], [0.4444444444444444, \"#bd3786\"], [0.5555555555555556, \"#d8576b\"], [0.6666666666666666, \"#ed7953\"], [0.7777777777777778, \"#fb9f3a\"], [0.8888888888888888, \"#fdca26\"], [1.0, \"#f0f921\"]], \"type\": \"heatmap\"}], \"heatmapgl\": [{\"colorbar\": {\"outlinewidth\": 0, \"ticks\": \"\"}, \"colorscale\": [[0.0, \"#0d0887\"], [0.1111111111111111, \"#46039f\"], [0.2222222222222222, \"#7201a8\"], [0.3333333333333333, \"#9c179e\"], [0.4444444444444444, \"#bd3786\"], [0.5555555555555556, \"#d8576b\"], [0.6666666666666666, \"#ed7953\"], [0.7777777777777778, \"#fb9f3a\"], [0.8888888888888888, \"#fdca26\"], [1.0, \"#f0f921\"]], \"type\": \"heatmapgl\"}], \"histogram\": [{\"marker\": {\"colorbar\": {\"outlinewidth\": 0, \"ticks\": \"\"}}, \"type\": \"histogram\"}], \"histogram2d\": [{\"colorbar\": {\"outlinewidth\": 0, \"ticks\": \"\"}, \"colorscale\": [[0.0, \"#0d0887\"], [0.1111111111111111, \"#46039f\"], [0.2222222222222222, \"#7201a8\"], [0.3333333333333333, \"#9c179e\"], [0.4444444444444444, \"#bd3786\"], [0.5555555555555556, \"#d8576b\"], [0.6666666666666666, \"#ed7953\"], [0.7777777777777778, \"#fb9f3a\"], [0.8888888888888888, \"#fdca26\"], [1.0, \"#f0f921\"]], \"type\": \"histogram2d\"}], \"histogram2dcontour\": [{\"colorbar\": {\"outlinewidth\": 0, \"ticks\": \"\"}, \"colorscale\": [[0.0, \"#0d0887\"], [0.1111111111111111, \"#46039f\"], [0.2222222222222222, \"#7201a8\"], [0.3333333333333333, \"#9c179e\"], [0.4444444444444444, \"#bd3786\"], [0.5555555555555556, \"#d8576b\"], [0.6666666666666666, \"#ed7953\"], [0.7777777777777778, \"#fb9f3a\"], [0.8888888888888888, \"#fdca26\"], [1.0, \"#f0f921\"]], \"type\": \"histogram2dcontour\"}], \"mesh3d\": [{\"colorbar\": {\"outlinewidth\": 0, \"ticks\": \"\"}, \"type\": \"mesh3d\"}], \"parcoords\": [{\"line\": {\"colorbar\": {\"outlinewidth\": 0, \"ticks\": \"\"}}, \"type\": \"parcoords\"}], \"pie\": [{\"automargin\": true, \"type\": \"pie\"}], \"scatter\": [{\"marker\": {\"colorbar\": {\"outlinewidth\": 0, \"ticks\": \"\"}}, \"type\": \"scatter\"}], \"scatter3d\": [{\"line\": {\"colorbar\": {\"outlinewidth\": 0, \"ticks\": \"\"}}, \"marker\": {\"colorbar\": {\"outlinewidth\": 0, \"ticks\": \"\"}}, \"type\": \"scatter3d\"}], \"scattercarpet\": [{\"marker\": {\"colorbar\": {\"outlinewidth\": 0, \"ticks\": \"\"}}, \"type\": \"scattercarpet\"}], \"scattergeo\": [{\"marker\": {\"colorbar\": {\"outlinewidth\": 0, \"ticks\": \"\"}}, \"type\": \"scattergeo\"}], \"scattergl\": [{\"marker\": {\"colorbar\": {\"outlinewidth\": 0, \"ticks\": \"\"}}, \"type\": \"scattergl\"}], \"scattermapbox\": [{\"marker\": {\"colorbar\": {\"outlinewidth\": 0, \"ticks\": \"\"}}, \"type\": \"scattermapbox\"}], \"scatterpolar\": [{\"marker\": {\"colorbar\": {\"outlinewidth\": 0, \"ticks\": \"\"}}, \"type\": \"scatterpolar\"}], \"scatterpolargl\": [{\"marker\": {\"colorbar\": {\"outlinewidth\": 0, \"ticks\": \"\"}}, \"type\": \"scatterpolargl\"}], \"scatterternary\": [{\"marker\": {\"colorbar\": {\"outlinewidth\": 0, \"ticks\": \"\"}}, \"type\": \"scatterternary\"}], \"surface\": [{\"colorbar\": {\"outlinewidth\": 0, \"ticks\": \"\"}, \"colorscale\": [[0.0, \"#0d0887\"], [0.1111111111111111, \"#46039f\"], [0.2222222222222222, \"#7201a8\"], [0.3333333333333333, \"#9c179e\"], [0.4444444444444444, \"#bd3786\"], [0.5555555555555556, \"#d8576b\"], [0.6666666666666666, \"#ed7953\"], [0.7777777777777778, \"#fb9f3a\"], [0.8888888888888888, \"#fdca26\"], [1.0, \"#f0f921\"]], \"type\": \"surface\"}], \"table\": [{\"cells\": {\"fill\": {\"color\": \"#EBF0F8\"}, \"line\": {\"color\": \"white\"}}, \"header\": {\"fill\": {\"color\": \"#C8D4E3\"}, \"line\": {\"color\": \"white\"}}, \"type\": \"table\"}]}, \"layout\": {\"annotationdefaults\": {\"arrowcolor\": \"#2a3f5f\", \"arrowhead\": 0, \"arrowwidth\": 1}, \"autotypenumbers\": \"strict\", \"coloraxis\": {\"colorbar\": {\"outlinewidth\": 0, \"ticks\": \"\"}}, \"colorscale\": {\"diverging\": [[0, \"#8e0152\"], [0.1, \"#c51b7d\"], [0.2, \"#de77ae\"], [0.3, \"#f1b6da\"], [0.4, \"#fde0ef\"], [0.5, \"#f7f7f7\"], [0.6, \"#e6f5d0\"], [0.7, \"#b8e186\"], [0.8, \"#7fbc41\"], [0.9, \"#4d9221\"], [1, \"#276419\"]], \"sequential\": [[0.0, \"#0d0887\"], [0.1111111111111111, \"#46039f\"], [0.2222222222222222, \"#7201a8\"], [0.3333333333333333, \"#9c179e\"], [0.4444444444444444, \"#bd3786\"], [0.5555555555555556, \"#d8576b\"], [0.6666666666666666, \"#ed7953\"], [0.7777777777777778, \"#fb9f3a\"], [0.8888888888888888, \"#fdca26\"], [1.0, \"#f0f921\"]], \"sequentialminus\": [[0.0, \"#0d0887\"], [0.1111111111111111, \"#46039f\"], [0.2222222222222222, \"#7201a8\"], [0.3333333333333333, \"#9c179e\"], [0.4444444444444444, \"#bd3786\"], [0.5555555555555556, \"#d8576b\"], [0.6666666666666666, \"#ed7953\"], [0.7777777777777778, \"#fb9f3a\"], [0.8888888888888888, \"#fdca26\"], [1.0, \"#f0f921\"]]}, \"colorway\": [\"#636efa\", \"#EF553B\", \"#00cc96\", \"#ab63fa\", \"#FFA15A\", \"#19d3f3\", \"#FF6692\", \"#B6E880\", \"#FF97FF\", \"#FECB52\"], \"font\": {\"color\": \"#2a3f5f\"}, \"geo\": {\"bgcolor\": \"white\", \"lakecolor\": \"white\", \"landcolor\": \"#E5ECF6\", \"showlakes\": true, \"showland\": true, \"subunitcolor\": \"white\"}, \"hoverlabel\": {\"align\": \"left\"}, \"hovermode\": \"closest\", \"mapbox\": {\"style\": \"light\"}, \"paper_bgcolor\": \"white\", \"plot_bgcolor\": \"#E5ECF6\", \"polar\": {\"angularaxis\": {\"gridcolor\": \"white\", \"linecolor\": \"white\", \"ticks\": \"\"}, \"bgcolor\": \"#E5ECF6\", \"radialaxis\": {\"gridcolor\": \"white\", \"linecolor\": \"white\", \"ticks\": \"\"}}, \"scene\": {\"xaxis\": {\"backgroundcolor\": \"#E5ECF6\", \"gridcolor\": \"white\", \"gridwidth\": 2, \"linecolor\": \"white\", \"showbackground\": true, \"ticks\": \"\", \"zerolinecolor\": \"white\"}, \"yaxis\": {\"backgroundcolor\": \"#E5ECF6\", \"gridcolor\": \"white\", \"gridwidth\": 2, \"linecolor\": \"white\", \"showbackground\": true, \"ticks\": \"\", \"zerolinecolor\": \"white\"}, \"zaxis\": {\"backgroundcolor\": \"#E5ECF6\", \"gridcolor\": \"white\", \"gridwidth\": 2, \"linecolor\": \"white\", \"showbackground\": true, \"ticks\": \"\", \"zerolinecolor\": \"white\"}}, \"shapedefaults\": {\"line\": {\"color\": \"#2a3f5f\"}}, \"ternary\": {\"aaxis\": {\"gridcolor\": \"white\", \"linecolor\": \"white\", \"ticks\": \"\"}, \"baxis\": {\"gridcolor\": \"white\", \"linecolor\": \"white\", \"ticks\": \"\"}, \"bgcolor\": \"#E5ECF6\", \"caxis\": {\"gridcolor\": \"white\", \"linecolor\": \"white\", \"ticks\": \"\"}}, \"title\": {\"x\": 0.05}, \"xaxis\": {\"automargin\": true, \"gridcolor\": \"white\", \"linecolor\": \"white\", \"ticks\": \"\", \"title\": {\"standoff\": 15}, \"zerolinecolor\": \"white\", \"zerolinewidth\": 2}, \"yaxis\": {\"automargin\": true, \"gridcolor\": \"white\", \"linecolor\": \"white\", \"ticks\": \"\", \"title\": {\"standoff\": 15}, \"zerolinecolor\": \"white\", \"zerolinewidth\": 2}}}, \"xaxis\": {\"anchor\": \"y\", \"domain\": [0.0, 1.0], \"title\": {\"text\": \"Product Name\"}}, \"yaxis\": {\"anchor\": \"x\", \"domain\": [0.0, 1.0], \"gridcolor\": \"black\", \"gridwidth\": 0.5, \"showgrid\": true, \"title\": {\"text\": \"Total Amount of Sales\"}}},                        {\"responsive\": true}                    ).then(function(){\n",
       "                            \n",
       "var gd = document.getElementById('8824433e-d2f4-4fa6-a866-77da9c6bb3e3');\n",
       "var x = new MutationObserver(function (mutations, observer) {{\n",
       "        var display = window.getComputedStyle(gd).display;\n",
       "        if (!display || display === 'none') {{\n",
       "            console.log([gd, 'removed!']);\n",
       "            Plotly.purge(gd);\n",
       "            observer.disconnect();\n",
       "        }}\n",
       "}});\n",
       "\n",
       "// Listen for the removal of the full notebook cells\n",
       "var notebookContainer = gd.closest('#notebook-container');\n",
       "if (notebookContainer) {{\n",
       "    x.observe(notebookContainer, {childList: true});\n",
       "}}\n",
       "\n",
       "// Listen for the clearing of the current output cell\n",
       "var outputEl = gd.closest('.output');\n",
       "if (outputEl) {{\n",
       "    x.observe(outputEl, {childList: true});\n",
       "}}\n",
       "\n",
       "                        })                };                });            </script>        </div>"
      ]
     },
     "metadata": {},
     "output_type": "display_data"
    }
   ],
   "source": [
    "fig = px.bar(top10prod, x=top10prod.index, y='Total Amount of Sales', color='Total Amount of Sales')\n",
    "fig.update_traces(showlegend = False)\n",
    "fig.update_layout(barmode='stack', paper_bgcolor='rgba(255,255,255)', plot_bgcolor='rgba(0,0,0,0)', xaxis_title=\"Product Name\",\n",
    "    yaxis_title=\"Total Amount of Sales\")\n",
    "fig.update_traces(\n",
    "        hovertemplate='Product: %{x} <br>Total Sales: %{y} <extra></extra>')\n",
    "fig.update_yaxes(gridcolor='black', showgrid=True, gridwidth=0.5)\n",
    "fig.show()"
   ]
  },
  {
   "cell_type": "code",
   "execution_count": 106,
   "metadata": {},
   "outputs": [
    {
     "data": {
      "text/html": [
       "<div>\n",
       "<style scoped>\n",
       "    .dataframe tbody tr th:only-of-type {\n",
       "        vertical-align: middle;\n",
       "    }\n",
       "\n",
       "    .dataframe tbody tr th {\n",
       "        vertical-align: top;\n",
       "    }\n",
       "\n",
       "    .dataframe thead th {\n",
       "        text-align: right;\n",
       "    }\n",
       "</style>\n",
       "<table border=\"1\" class=\"dataframe\">\n",
       "  <thead>\n",
       "    <tr style=\"text-align: right;\">\n",
       "      <th></th>\n",
       "      <th>Amount of Sales for Price</th>\n",
       "      <th>Prices</th>\n",
       "    </tr>\n",
       "  </thead>\n",
       "  <tbody>\n",
       "    <tr>\n",
       "      <th>1.25</th>\n",
       "      <td>50496</td>\n",
       "      <td>1.25</td>\n",
       "    </tr>\n",
       "    <tr>\n",
       "      <th>1.65</th>\n",
       "      <td>38181</td>\n",
       "      <td>1.65</td>\n",
       "    </tr>\n",
       "    <tr>\n",
       "      <th>0.85</th>\n",
       "      <td>28497</td>\n",
       "      <td>0.85</td>\n",
       "    </tr>\n",
       "    <tr>\n",
       "      <th>2.95</th>\n",
       "      <td>27768</td>\n",
       "      <td>2.95</td>\n",
       "    </tr>\n",
       "    <tr>\n",
       "      <th>0.42</th>\n",
       "      <td>24533</td>\n",
       "      <td>0.42</td>\n",
       "    </tr>\n",
       "    <tr>\n",
       "      <th>...</th>\n",
       "      <td>...</td>\n",
       "      <td>...</td>\n",
       "    </tr>\n",
       "    <tr>\n",
       "      <th>4575.64</th>\n",
       "      <td>1</td>\n",
       "      <td>4575.64</td>\n",
       "    </tr>\n",
       "    <tr>\n",
       "      <th>125.96</th>\n",
       "      <td>1</td>\n",
       "      <td>125.96</td>\n",
       "    </tr>\n",
       "    <tr>\n",
       "      <th>147.13</th>\n",
       "      <td>1</td>\n",
       "      <td>147.13</td>\n",
       "    </tr>\n",
       "    <tr>\n",
       "      <th>3060.60</th>\n",
       "      <td>1</td>\n",
       "      <td>3060.60</td>\n",
       "    </tr>\n",
       "    <tr>\n",
       "      <th>244.51</th>\n",
       "      <td>1</td>\n",
       "      <td>244.51</td>\n",
       "    </tr>\n",
       "  </tbody>\n",
       "</table>\n",
       "<p>1630 rows × 2 columns</p>\n",
       "</div>"
      ],
      "text/plain": [
       "         Amount of Sales for Price   Prices\n",
       "1.25                         50496     1.25\n",
       "1.65                         38181     1.65\n",
       "0.85                         28497     0.85\n",
       "2.95                         27768     2.95\n",
       "0.42                         24533     0.42\n",
       "...                            ...      ...\n",
       "4575.64                          1  4575.64\n",
       "125.96                           1   125.96\n",
       "147.13                           1   147.13\n",
       "3060.60                          1  3060.60\n",
       "244.51                           1   244.51\n",
       "\n",
       "[1630 rows x 2 columns]"
      ]
     },
     "execution_count": 106,
     "metadata": {},
     "output_type": "execute_result"
    }
   ],
   "source": [
    "prices = df[\"UnitPrice\"].value_counts().to_frame()\n",
    "prices = prices.rename(columns={\"UnitPrice\":\"Amount of Sales for Price\"})\n",
    "prices[\"Prices\"] = prices.index\n",
    "prices"
   ]
  },
  {
   "cell_type": "code",
   "execution_count": 112,
   "metadata": {},
   "outputs": [
    {
     "data": {
      "text/plain": [
       "17841.0    7983\n",
       "14911.0    5903\n",
       "14096.0    5128\n",
       "12748.0    4642\n",
       "14606.0    2782\n",
       "           ... \n",
       "13391.0       1\n",
       "16579.0       1\n",
       "13366.0       1\n",
       "17763.0       1\n",
       "17846.0       1\n",
       "Name: CustomerID, Length: 4372, dtype: int64"
      ]
     },
     "execution_count": 112,
     "metadata": {},
     "output_type": "execute_result"
    }
   ],
   "source": [
    "num_cust=df[\"CustomerID\"].value_counts()\n",
    "num_cust"
   ]
  },
  {
   "cell_type": "code",
   "execution_count": 81,
   "metadata": {},
   "outputs": [
    {
     "data": {
      "text/plain": [
       "38970.0"
      ]
     },
     "execution_count": 81,
     "metadata": {},
     "output_type": "execute_result"
    }
   ],
   "source": [
    "max(prices[\"Prices\"])"
   ]
  },
  {
   "cell_type": "code",
   "execution_count": 77,
   "metadata": {},
   "outputs": [
    {
     "data": {
      "application/vnd.plotly.v1+json": {
       "config": {
        "plotlyServerURL": "https://plot.ly"
       },
       "data": [
        {
         "alignmentgroup": "True",
         "bingroup": "x",
         "histfunc": "sum",
         "hovertemplate": "Amount of Sales for Price=50496<br>index=%{x}<br>sum of Amount of Sales for Price=%{y}<extra></extra>",
         "legendgroup": "50496",
         "marker": {
          "color": "#636efa"
         },
         "name": "50496",
         "offsetgroup": "50496",
         "orientation": "v",
         "showlegend": true,
         "type": "histogram",
         "x": [
          1.25
         ],
         "xaxis": "x",
         "y": [
          50496
         ],
         "yaxis": "y"
        },
        {
         "alignmentgroup": "True",
         "boxpoints": "all",
         "fillcolor": "rgba(255,255,255,0)",
         "hoveron": "points",
         "hovertemplate": "Amount of Sales for Price=50496<br>index=%{x}<extra></extra>",
         "jitter": 0,
         "legendgroup": "50496",
         "line": {
          "color": "rgba(255,255,255,0)"
         },
         "marker": {
          "color": "#636efa",
          "symbol": "line-ns-open"
         },
         "name": "50496",
         "offsetgroup": "50496",
         "showlegend": false,
         "type": "box",
         "x": [
          1.25
         ],
         "xaxis": "x2",
         "yaxis": "y2"
        },
        {
         "alignmentgroup": "True",
         "bingroup": "x",
         "histfunc": "sum",
         "hovertemplate": "Amount of Sales for Price=38181<br>index=%{x}<br>sum of Amount of Sales for Price=%{y}<extra></extra>",
         "legendgroup": "38181",
         "marker": {
          "color": "#EF553B"
         },
         "name": "38181",
         "offsetgroup": "38181",
         "orientation": "v",
         "showlegend": true,
         "type": "histogram",
         "x": [
          1.65
         ],
         "xaxis": "x",
         "y": [
          38181
         ],
         "yaxis": "y"
        },
        {
         "alignmentgroup": "True",
         "boxpoints": "all",
         "fillcolor": "rgba(255,255,255,0)",
         "hoveron": "points",
         "hovertemplate": "Amount of Sales for Price=38181<br>index=%{x}<extra></extra>",
         "jitter": 0,
         "legendgroup": "38181",
         "line": {
          "color": "rgba(255,255,255,0)"
         },
         "marker": {
          "color": "#EF553B",
          "symbol": "line-ns-open"
         },
         "name": "38181",
         "offsetgroup": "38181",
         "showlegend": false,
         "type": "box",
         "x": [
          1.65
         ],
         "xaxis": "x2",
         "yaxis": "y2"
        },
        {
         "alignmentgroup": "True",
         "bingroup": "x",
         "histfunc": "sum",
         "hovertemplate": "Amount of Sales for Price=28497<br>index=%{x}<br>sum of Amount of Sales for Price=%{y}<extra></extra>",
         "legendgroup": "28497",
         "marker": {
          "color": "#00cc96"
         },
         "name": "28497",
         "offsetgroup": "28497",
         "orientation": "v",
         "showlegend": true,
         "type": "histogram",
         "x": [
          0.85
         ],
         "xaxis": "x",
         "y": [
          28497
         ],
         "yaxis": "y"
        },
        {
         "alignmentgroup": "True",
         "boxpoints": "all",
         "fillcolor": "rgba(255,255,255,0)",
         "hoveron": "points",
         "hovertemplate": "Amount of Sales for Price=28497<br>index=%{x}<extra></extra>",
         "jitter": 0,
         "legendgroup": "28497",
         "line": {
          "color": "rgba(255,255,255,0)"
         },
         "marker": {
          "color": "#00cc96",
          "symbol": "line-ns-open"
         },
         "name": "28497",
         "offsetgroup": "28497",
         "showlegend": false,
         "type": "box",
         "x": [
          0.85
         ],
         "xaxis": "x2",
         "yaxis": "y2"
        },
        {
         "alignmentgroup": "True",
         "bingroup": "x",
         "histfunc": "sum",
         "hovertemplate": "Amount of Sales for Price=27768<br>index=%{x}<br>sum of Amount of Sales for Price=%{y}<extra></extra>",
         "legendgroup": "27768",
         "marker": {
          "color": "#ab63fa"
         },
         "name": "27768",
         "offsetgroup": "27768",
         "orientation": "v",
         "showlegend": true,
         "type": "histogram",
         "x": [
          2.95
         ],
         "xaxis": "x",
         "y": [
          27768
         ],
         "yaxis": "y"
        },
        {
         "alignmentgroup": "True",
         "boxpoints": "all",
         "fillcolor": "rgba(255,255,255,0)",
         "hoveron": "points",
         "hovertemplate": "Amount of Sales for Price=27768<br>index=%{x}<extra></extra>",
         "jitter": 0,
         "legendgroup": "27768",
         "line": {
          "color": "rgba(255,255,255,0)"
         },
         "marker": {
          "color": "#ab63fa",
          "symbol": "line-ns-open"
         },
         "name": "27768",
         "offsetgroup": "27768",
         "showlegend": false,
         "type": "box",
         "x": [
          2.95
         ],
         "xaxis": "x2",
         "yaxis": "y2"
        },
        {
         "alignmentgroup": "True",
         "bingroup": "x",
         "histfunc": "sum",
         "hovertemplate": "Amount of Sales for Price=24533<br>index=%{x}<br>sum of Amount of Sales for Price=%{y}<extra></extra>",
         "legendgroup": "24533",
         "marker": {
          "color": "#FFA15A"
         },
         "name": "24533",
         "offsetgroup": "24533",
         "orientation": "v",
         "showlegend": true,
         "type": "histogram",
         "x": [
          0.42
         ],
         "xaxis": "x",
         "y": [
          24533
         ],
         "yaxis": "y"
        },
        {
         "alignmentgroup": "True",
         "boxpoints": "all",
         "fillcolor": "rgba(255,255,255,0)",
         "hoveron": "points",
         "hovertemplate": "Amount of Sales for Price=24533<br>index=%{x}<extra></extra>",
         "jitter": 0,
         "legendgroup": "24533",
         "line": {
          "color": "rgba(255,255,255,0)"
         },
         "marker": {
          "color": "#FFA15A",
          "symbol": "line-ns-open"
         },
         "name": "24533",
         "offsetgroup": "24533",
         "showlegend": false,
         "type": "box",
         "x": [
          0.42
         ],
         "xaxis": "x2",
         "yaxis": "y2"
        },
        {
         "alignmentgroup": "True",
         "bingroup": "x",
         "histfunc": "sum",
         "hovertemplate": "Amount of Sales for Price=19040<br>index=%{x}<br>sum of Amount of Sales for Price=%{y}<extra></extra>",
         "legendgroup": "19040",
         "marker": {
          "color": "#19d3f3"
         },
         "name": "19040",
         "offsetgroup": "19040",
         "orientation": "v",
         "showlegend": true,
         "type": "histogram",
         "x": [
          4.95
         ],
         "xaxis": "x",
         "y": [
          19040
         ],
         "yaxis": "y"
        },
        {
         "alignmentgroup": "True",
         "boxpoints": "all",
         "fillcolor": "rgba(255,255,255,0)",
         "hoveron": "points",
         "hovertemplate": "Amount of Sales for Price=19040<br>index=%{x}<extra></extra>",
         "jitter": 0,
         "legendgroup": "19040",
         "line": {
          "color": "rgba(255,255,255,0)"
         },
         "marker": {
          "color": "#19d3f3",
          "symbol": "line-ns-open"
         },
         "name": "19040",
         "offsetgroup": "19040",
         "showlegend": false,
         "type": "box",
         "x": [
          4.95
         ],
         "xaxis": "x2",
         "yaxis": "y2"
        },
        {
         "alignmentgroup": "True",
         "bingroup": "x",
         "histfunc": "sum",
         "hovertemplate": "Amount of Sales for Price=18600<br>index=%{x}<br>sum of Amount of Sales for Price=%{y}<extra></extra>",
         "legendgroup": "18600",
         "marker": {
          "color": "#FF6692"
         },
         "name": "18600",
         "offsetgroup": "18600",
         "orientation": "v",
         "showlegend": true,
         "type": "histogram",
         "x": [
          3.75
         ],
         "xaxis": "x",
         "y": [
          18600
         ],
         "yaxis": "y"
        },
        {
         "alignmentgroup": "True",
         "boxpoints": "all",
         "fillcolor": "rgba(255,255,255,0)",
         "hoveron": "points",
         "hovertemplate": "Amount of Sales for Price=18600<br>index=%{x}<extra></extra>",
         "jitter": 0,
         "legendgroup": "18600",
         "line": {
          "color": "rgba(255,255,255,0)"
         },
         "marker": {
          "color": "#FF6692",
          "symbol": "line-ns-open"
         },
         "name": "18600",
         "offsetgroup": "18600",
         "showlegend": false,
         "type": "box",
         "x": [
          3.75
         ],
         "xaxis": "x2",
         "yaxis": "y2"
        },
        {
         "alignmentgroup": "True",
         "bingroup": "x",
         "histfunc": "sum",
         "hovertemplate": "Amount of Sales for Price=17697<br>index=%{x}<br>sum of Amount of Sales for Price=%{y}<extra></extra>",
         "legendgroup": "17697",
         "marker": {
          "color": "#B6E880"
         },
         "name": "17697",
         "offsetgroup": "17697",
         "orientation": "v",
         "showlegend": true,
         "type": "histogram",
         "x": [
          2.1
         ],
         "xaxis": "x",
         "y": [
          17697
         ],
         "yaxis": "y"
        },
        {
         "alignmentgroup": "True",
         "boxpoints": "all",
         "fillcolor": "rgba(255,255,255,0)",
         "hoveron": "points",
         "hovertemplate": "Amount of Sales for Price=17697<br>index=%{x}<extra></extra>",
         "jitter": 0,
         "legendgroup": "17697",
         "line": {
          "color": "rgba(255,255,255,0)"
         },
         "marker": {
          "color": "#B6E880",
          "symbol": "line-ns-open"
         },
         "name": "17697",
         "offsetgroup": "17697",
         "showlegend": false,
         "type": "box",
         "x": [
          2.1
         ],
         "xaxis": "x2",
         "yaxis": "y2"
        },
        {
         "alignmentgroup": "True",
         "bingroup": "x",
         "histfunc": "sum",
         "hovertemplate": "Amount of Sales for Price=17091<br>index=%{x}<br>sum of Amount of Sales for Price=%{y}<extra></extra>",
         "legendgroup": "17091",
         "marker": {
          "color": "#FF97FF"
         },
         "name": "17091",
         "offsetgroup": "17091",
         "orientation": "v",
         "showlegend": true,
         "type": "histogram",
         "x": [
          2.46
         ],
         "xaxis": "x",
         "y": [
          17091
         ],
         "yaxis": "y"
        },
        {
         "alignmentgroup": "True",
         "boxpoints": "all",
         "fillcolor": "rgba(255,255,255,0)",
         "hoveron": "points",
         "hovertemplate": "Amount of Sales for Price=17091<br>index=%{x}<extra></extra>",
         "jitter": 0,
         "legendgroup": "17091",
         "line": {
          "color": "rgba(255,255,255,0)"
         },
         "marker": {
          "color": "#FF97FF",
          "symbol": "line-ns-open"
         },
         "name": "17091",
         "offsetgroup": "17091",
         "showlegend": false,
         "type": "box",
         "x": [
          2.46
         ],
         "xaxis": "x2",
         "yaxis": "y2"
        },
        {
         "alignmentgroup": "True",
         "bingroup": "x",
         "histfunc": "sum",
         "hovertemplate": "Amount of Sales for Price=17005<br>index=%{x}<br>sum of Amount of Sales for Price=%{y}<extra></extra>",
         "legendgroup": "17005",
         "marker": {
          "color": "#FECB52"
         },
         "name": "17005",
         "offsetgroup": "17005",
         "orientation": "v",
         "showlegend": true,
         "type": "histogram",
         "x": [
          2.08
         ],
         "xaxis": "x",
         "y": [
          17005
         ],
         "yaxis": "y"
        },
        {
         "alignmentgroup": "True",
         "boxpoints": "all",
         "fillcolor": "rgba(255,255,255,0)",
         "hoveron": "points",
         "hovertemplate": "Amount of Sales for Price=17005<br>index=%{x}<extra></extra>",
         "jitter": 0,
         "legendgroup": "17005",
         "line": {
          "color": "rgba(255,255,255,0)"
         },
         "marker": {
          "color": "#FECB52",
          "symbol": "line-ns-open"
         },
         "name": "17005",
         "offsetgroup": "17005",
         "showlegend": false,
         "type": "box",
         "x": [
          2.08
         ],
         "xaxis": "x2",
         "yaxis": "y2"
        },
        {
         "alignmentgroup": "True",
         "bingroup": "x",
         "histfunc": "sum",
         "hovertemplate": "Amount of Sales for Price=16978<br>index=%{x}<br>sum of Amount of Sales for Price=%{y}<extra></extra>",
         "legendgroup": "16978",
         "marker": {
          "color": "#636efa"
         },
         "name": "16978",
         "offsetgroup": "16978",
         "orientation": "v",
         "showlegend": true,
         "type": "histogram",
         "x": [
          0.83
         ],
         "xaxis": "x",
         "y": [
          16978
         ],
         "yaxis": "y"
        },
        {
         "alignmentgroup": "True",
         "boxpoints": "all",
         "fillcolor": "rgba(255,255,255,0)",
         "hoveron": "points",
         "hovertemplate": "Amount of Sales for Price=16978<br>index=%{x}<extra></extra>",
         "jitter": 0,
         "legendgroup": "16978",
         "line": {
          "color": "rgba(255,255,255,0)"
         },
         "marker": {
          "color": "#636efa",
          "symbol": "line-ns-open"
         },
         "name": "16978",
         "offsetgroup": "16978",
         "showlegend": false,
         "type": "box",
         "x": [
          0.83
         ],
         "xaxis": "x2",
         "yaxis": "y2"
        },
        {
         "alignmentgroup": "True",
         "bingroup": "x",
         "histfunc": "sum",
         "hovertemplate": "Amount of Sales for Price=15337<br>index=%{x}<br>sum of Amount of Sales for Price=%{y}<extra></extra>",
         "legendgroup": "15337",
         "marker": {
          "color": "#EF553B"
         },
         "name": "15337",
         "offsetgroup": "15337",
         "orientation": "v",
         "showlegend": true,
         "type": "histogram",
         "x": [
          4.13
         ],
         "xaxis": "x",
         "y": [
          15337
         ],
         "yaxis": "y"
        },
        {
         "alignmentgroup": "True",
         "boxpoints": "all",
         "fillcolor": "rgba(255,255,255,0)",
         "hoveron": "points",
         "hovertemplate": "Amount of Sales for Price=15337<br>index=%{x}<extra></extra>",
         "jitter": 0,
         "legendgroup": "15337",
         "line": {
          "color": "rgba(255,255,255,0)"
         },
         "marker": {
          "color": "#EF553B",
          "symbol": "line-ns-open"
         },
         "name": "15337",
         "offsetgroup": "15337",
         "showlegend": false,
         "type": "box",
         "x": [
          4.13
         ],
         "xaxis": "x2",
         "yaxis": "y2"
        },
        {
         "alignmentgroup": "True",
         "bingroup": "x",
         "histfunc": "sum",
         "hovertemplate": "Amount of Sales for Price=13145<br>index=%{x}<br>sum of Amount of Sales for Price=%{y}<extra></extra>",
         "legendgroup": "13145",
         "marker": {
          "color": "#00cc96"
         },
         "name": "13145",
         "offsetgroup": "13145",
         "orientation": "v",
         "showlegend": true,
         "type": "histogram",
         "x": [
          1.95
         ],
         "xaxis": "x",
         "y": [
          13145
         ],
         "yaxis": "y"
        },
        {
         "alignmentgroup": "True",
         "boxpoints": "all",
         "fillcolor": "rgba(255,255,255,0)",
         "hoveron": "points",
         "hovertemplate": "Amount of Sales for Price=13145<br>index=%{x}<extra></extra>",
         "jitter": 0,
         "legendgroup": "13145",
         "line": {
          "color": "rgba(255,255,255,0)"
         },
         "marker": {
          "color": "#00cc96",
          "symbol": "line-ns-open"
         },
         "name": "13145",
         "offsetgroup": "13145",
         "showlegend": false,
         "type": "box",
         "x": [
          1.95
         ],
         "xaxis": "x2",
         "yaxis": "y2"
        },
        {
         "alignmentgroup": "True",
         "bingroup": "x",
         "histfunc": "sum",
         "hovertemplate": "Amount of Sales for Price=13059<br>index=%{x}<br>sum of Amount of Sales for Price=%{y}<extra></extra>",
         "legendgroup": "13059",
         "marker": {
          "color": "#ab63fa"
         },
         "name": "13059",
         "offsetgroup": "13059",
         "orientation": "v",
         "showlegend": true,
         "type": "histogram",
         "x": [
          1.45
         ],
         "xaxis": "x",
         "y": [
          13059
         ],
         "yaxis": "y"
        },
        {
         "alignmentgroup": "True",
         "boxpoints": "all",
         "fillcolor": "rgba(255,255,255,0)",
         "hoveron": "points",
         "hovertemplate": "Amount of Sales for Price=13059<br>index=%{x}<extra></extra>",
         "jitter": 0,
         "legendgroup": "13059",
         "line": {
          "color": "rgba(255,255,255,0)"
         },
         "marker": {
          "color": "#ab63fa",
          "symbol": "line-ns-open"
         },
         "name": "13059",
         "offsetgroup": "13059",
         "showlegend": false,
         "type": "box",
         "x": [
          1.45
         ],
         "xaxis": "x2",
         "yaxis": "y2"
        },
        {
         "alignmentgroup": "True",
         "bingroup": "x",
         "histfunc": "sum",
         "hovertemplate": "Amount of Sales for Price=13033<br>index=%{x}<br>sum of Amount of Sales for Price=%{y}<extra></extra>",
         "legendgroup": "13033",
         "marker": {
          "color": "#FFA15A"
         },
         "name": "13033",
         "offsetgroup": "13033",
         "orientation": "v",
         "showlegend": true,
         "type": "histogram",
         "x": [
          2.55
         ],
         "xaxis": "x",
         "y": [
          13033
         ],
         "yaxis": "y"
        },
        {
         "alignmentgroup": "True",
         "boxpoints": "all",
         "fillcolor": "rgba(255,255,255,0)",
         "hoveron": "points",
         "hovertemplate": "Amount of Sales for Price=13033<br>index=%{x}<extra></extra>",
         "jitter": 0,
         "legendgroup": "13033",
         "line": {
          "color": "rgba(255,255,255,0)"
         },
         "marker": {
          "color": "#FFA15A",
          "symbol": "line-ns-open"
         },
         "name": "13033",
         "offsetgroup": "13033",
         "showlegend": false,
         "type": "box",
         "x": [
          2.55
         ],
         "xaxis": "x2",
         "yaxis": "y2"
        },
        {
         "alignmentgroup": "True",
         "bingroup": "x",
         "histfunc": "sum",
         "hovertemplate": "Amount of Sales for Price=12715<br>index=%{x}<br>sum of Amount of Sales for Price=%{y}<extra></extra>",
         "legendgroup": "12715",
         "marker": {
          "color": "#19d3f3"
         },
         "name": "12715",
         "offsetgroup": "12715",
         "orientation": "v",
         "showlegend": true,
         "type": "histogram",
         "x": [
          1.63
         ],
         "xaxis": "x",
         "y": [
          12715
         ],
         "yaxis": "y"
        },
        {
         "alignmentgroup": "True",
         "boxpoints": "all",
         "fillcolor": "rgba(255,255,255,0)",
         "hoveron": "points",
         "hovertemplate": "Amount of Sales for Price=12715<br>index=%{x}<extra></extra>",
         "jitter": 0,
         "legendgroup": "12715",
         "line": {
          "color": "rgba(255,255,255,0)"
         },
         "marker": {
          "color": "#19d3f3",
          "symbol": "line-ns-open"
         },
         "name": "12715",
         "offsetgroup": "12715",
         "showlegend": false,
         "type": "box",
         "x": [
          1.63
         ],
         "xaxis": "x2",
         "yaxis": "y2"
        },
        {
         "alignmentgroup": "True",
         "bingroup": "x",
         "histfunc": "sum",
         "hovertemplate": "Amount of Sales for Price=11762<br>index=%{x}<br>sum of Amount of Sales for Price=%{y}<extra></extra>",
         "legendgroup": "11762",
         "marker": {
          "color": "#FF6692"
         },
         "name": "11762",
         "offsetgroup": "11762",
         "orientation": "v",
         "showlegend": true,
         "type": "histogram",
         "x": [
          3.29
         ],
         "xaxis": "x",
         "y": [
          11762
         ],
         "yaxis": "y"
        },
        {
         "alignmentgroup": "True",
         "boxpoints": "all",
         "fillcolor": "rgba(255,255,255,0)",
         "hoveron": "points",
         "hovertemplate": "Amount of Sales for Price=11762<br>index=%{x}<extra></extra>",
         "jitter": 0,
         "legendgroup": "11762",
         "line": {
          "color": "rgba(255,255,255,0)"
         },
         "marker": {
          "color": "#FF6692",
          "symbol": "line-ns-open"
         },
         "name": "11762",
         "offsetgroup": "11762",
         "showlegend": false,
         "type": "box",
         "x": [
          3.29
         ],
         "xaxis": "x2",
         "yaxis": "y2"
        },
        {
         "alignmentgroup": "True",
         "bingroup": "x",
         "histfunc": "sum",
         "hovertemplate": "Amount of Sales for Price=8245<br>index=%{x}<br>sum of Amount of Sales for Price=%{y}<extra></extra>",
         "legendgroup": "8245",
         "marker": {
          "color": "#B6E880"
         },
         "name": "8245",
         "offsetgroup": "8245",
         "orientation": "v",
         "showlegend": true,
         "type": "histogram",
         "x": [
          0.39
         ],
         "xaxis": "x",
         "y": [
          8245
         ],
         "yaxis": "y"
        },
        {
         "alignmentgroup": "True",
         "boxpoints": "all",
         "fillcolor": "rgba(255,255,255,0)",
         "hoveron": "points",
         "hovertemplate": "Amount of Sales for Price=8245<br>index=%{x}<extra></extra>",
         "jitter": 0,
         "legendgroup": "8245",
         "line": {
          "color": "rgba(255,255,255,0)"
         },
         "marker": {
          "color": "#B6E880",
          "symbol": "line-ns-open"
         },
         "name": "8245",
         "offsetgroup": "8245",
         "showlegend": false,
         "type": "box",
         "x": [
          0.39
         ],
         "xaxis": "x2",
         "yaxis": "y2"
        },
        {
         "alignmentgroup": "True",
         "bingroup": "x",
         "histfunc": "sum",
         "hovertemplate": "Amount of Sales for Price=7915<br>index=%{x}<br>sum of Amount of Sales for Price=%{y}<extra></extra>",
         "legendgroup": "7915",
         "marker": {
          "color": "#FF97FF"
         },
         "name": "7915",
         "offsetgroup": "7915",
         "orientation": "v",
         "showlegend": true,
         "type": "histogram",
         "x": [
          5.95
         ],
         "xaxis": "x",
         "y": [
          7915
         ],
         "yaxis": "y"
        },
        {
         "alignmentgroup": "True",
         "boxpoints": "all",
         "fillcolor": "rgba(255,255,255,0)",
         "hoveron": "points",
         "hovertemplate": "Amount of Sales for Price=7915<br>index=%{x}<extra></extra>",
         "jitter": 0,
         "legendgroup": "7915",
         "line": {
          "color": "rgba(255,255,255,0)"
         },
         "marker": {
          "color": "#FF97FF",
          "symbol": "line-ns-open"
         },
         "name": "7915",
         "offsetgroup": "7915",
         "showlegend": false,
         "type": "box",
         "x": [
          5.95
         ],
         "xaxis": "x2",
         "yaxis": "y2"
        },
        {
         "alignmentgroup": "True",
         "bingroup": "x",
         "histfunc": "sum",
         "hovertemplate": "Amount of Sales for Price=7861<br>index=%{x}<br>sum of Amount of Sales for Price=%{y}<extra></extra>",
         "legendgroup": "7861",
         "marker": {
          "color": "#FECB52"
         },
         "name": "7861",
         "offsetgroup": "7861",
         "orientation": "v",
         "showlegend": true,
         "type": "histogram",
         "x": [
          0.65
         ],
         "xaxis": "x",
         "y": [
          7861
         ],
         "yaxis": "y"
        },
        {
         "alignmentgroup": "True",
         "boxpoints": "all",
         "fillcolor": "rgba(255,255,255,0)",
         "hoveron": "points",
         "hovertemplate": "Amount of Sales for Price=7861<br>index=%{x}<extra></extra>",
         "jitter": 0,
         "legendgroup": "7861",
         "line": {
          "color": "rgba(255,255,255,0)"
         },
         "marker": {
          "color": "#FECB52",
          "symbol": "line-ns-open"
         },
         "name": "7861",
         "offsetgroup": "7861",
         "showlegend": false,
         "type": "box",
         "x": [
          0.65
         ],
         "xaxis": "x2",
         "yaxis": "y2"
        },
        {
         "alignmentgroup": "True",
         "bingroup": "x",
         "histfunc": "sum",
         "hovertemplate": "Amount of Sales for Price=7661<br>index=%{x}<br>sum of Amount of Sales for Price=%{y}<extra></extra>",
         "legendgroup": "7661",
         "marker": {
          "color": "#636efa"
         },
         "name": "7661",
         "offsetgroup": "7661",
         "orientation": "v",
         "showlegend": true,
         "type": "histogram",
         "x": [
          0.55
         ],
         "xaxis": "x",
         "y": [
          7661
         ],
         "yaxis": "y"
        },
        {
         "alignmentgroup": "True",
         "boxpoints": "all",
         "fillcolor": "rgba(255,255,255,0)",
         "hoveron": "points",
         "hovertemplate": "Amount of Sales for Price=7661<br>index=%{x}<extra></extra>",
         "jitter": 0,
         "legendgroup": "7661",
         "line": {
          "color": "rgba(255,255,255,0)"
         },
         "marker": {
          "color": "#636efa",
          "symbol": "line-ns-open"
         },
         "name": "7661",
         "offsetgroup": "7661",
         "showlegend": false,
         "type": "box",
         "x": [
          0.55
         ],
         "xaxis": "x2",
         "yaxis": "y2"
        },
        {
         "alignmentgroup": "True",
         "bingroup": "x",
         "histfunc": "sum",
         "hovertemplate": "Amount of Sales for Price=7484<br>index=%{x}<br>sum of Amount of Sales for Price=%{y}<extra></extra>",
         "legendgroup": "7484",
         "marker": {
          "color": "#EF553B"
         },
         "name": "7484",
         "offsetgroup": "7484",
         "orientation": "v",
         "showlegend": true,
         "type": "histogram",
         "x": [
          4.25
         ],
         "xaxis": "x",
         "y": [
          7484
         ],
         "yaxis": "y"
        },
        {
         "alignmentgroup": "True",
         "boxpoints": "all",
         "fillcolor": "rgba(255,255,255,0)",
         "hoveron": "points",
         "hovertemplate": "Amount of Sales for Price=7484<br>index=%{x}<extra></extra>",
         "jitter": 0,
         "legendgroup": "7484",
         "line": {
          "color": "rgba(255,255,255,0)"
         },
         "marker": {
          "color": "#EF553B",
          "symbol": "line-ns-open"
         },
         "name": "7484",
         "offsetgroup": "7484",
         "showlegend": false,
         "type": "box",
         "x": [
          4.25
         ],
         "xaxis": "x2",
         "yaxis": "y2"
        },
        {
         "alignmentgroup": "True",
         "bingroup": "x",
         "histfunc": "sum",
         "hovertemplate": "Amount of Sales for Price=7087<br>index=%{x}<br>sum of Amount of Sales for Price=%{y}<extra></extra>",
         "legendgroup": "7087",
         "marker": {
          "color": "#00cc96"
         },
         "name": "7087",
         "offsetgroup": "7087",
         "orientation": "v",
         "showlegend": true,
         "type": "histogram",
         "x": [
          7.95
         ],
         "xaxis": "x",
         "y": [
          7087
         ],
         "yaxis": "y"
        },
        {
         "alignmentgroup": "True",
         "boxpoints": "all",
         "fillcolor": "rgba(255,255,255,0)",
         "hoveron": "points",
         "hovertemplate": "Amount of Sales for Price=7087<br>index=%{x}<extra></extra>",
         "jitter": 0,
         "legendgroup": "7087",
         "line": {
          "color": "rgba(255,255,255,0)"
         },
         "marker": {
          "color": "#00cc96",
          "symbol": "line-ns-open"
         },
         "name": "7087",
         "offsetgroup": "7087",
         "showlegend": false,
         "type": "box",
         "x": [
          7.95
         ],
         "xaxis": "x2",
         "yaxis": "y2"
        },
        {
         "alignmentgroup": "True",
         "bingroup": "x",
         "histfunc": "sum",
         "hovertemplate": "Amount of Sales for Price=6845<br>index=%{x}<br>sum of Amount of Sales for Price=%{y}<extra></extra>",
         "legendgroup": "6845",
         "marker": {
          "color": "#ab63fa"
         },
         "name": "6845",
         "offsetgroup": "6845",
         "orientation": "v",
         "showlegend": true,
         "type": "histogram",
         "x": [
          5.79
         ],
         "xaxis": "x",
         "y": [
          6845
         ],
         "yaxis": "y"
        },
        {
         "alignmentgroup": "True",
         "boxpoints": "all",
         "fillcolor": "rgba(255,255,255,0)",
         "hoveron": "points",
         "hovertemplate": "Amount of Sales for Price=6845<br>index=%{x}<extra></extra>",
         "jitter": 0,
         "legendgroup": "6845",
         "line": {
          "color": "rgba(255,255,255,0)"
         },
         "marker": {
          "color": "#ab63fa",
          "symbol": "line-ns-open"
         },
         "name": "6845",
         "offsetgroup": "6845",
         "showlegend": false,
         "type": "box",
         "x": [
          5.79
         ],
         "xaxis": "x2",
         "yaxis": "y2"
        },
        {
         "alignmentgroup": "True",
         "bingroup": "x",
         "histfunc": "sum",
         "hovertemplate": "Amount of Sales for Price=6193<br>index=%{x}<br>sum of Amount of Sales for Price=%{y}<extra></extra>",
         "legendgroup": "6193",
         "marker": {
          "color": "#FFA15A"
         },
         "name": "6193",
         "offsetgroup": "6193",
         "orientation": "v",
         "showlegend": true,
         "type": "histogram",
         "x": [
          4.15
         ],
         "xaxis": "x",
         "y": [
          6193
         ],
         "yaxis": "y"
        },
        {
         "alignmentgroup": "True",
         "boxpoints": "all",
         "fillcolor": "rgba(255,255,255,0)",
         "hoveron": "points",
         "hovertemplate": "Amount of Sales for Price=6193<br>index=%{x}<extra></extra>",
         "jitter": 0,
         "legendgroup": "6193",
         "line": {
          "color": "rgba(255,255,255,0)"
         },
         "marker": {
          "color": "#FFA15A",
          "symbol": "line-ns-open"
         },
         "name": "6193",
         "offsetgroup": "6193",
         "showlegend": false,
         "type": "box",
         "x": [
          4.15
         ],
         "xaxis": "x2",
         "yaxis": "y2"
        },
        {
         "alignmentgroup": "True",
         "bingroup": "x",
         "histfunc": "sum",
         "hovertemplate": "Amount of Sales for Price=5846<br>index=%{x}<br>sum of Amount of Sales for Price=%{y}<extra></extra>",
         "legendgroup": "5846",
         "marker": {
          "color": "#19d3f3"
         },
         "name": "5846",
         "offsetgroup": "5846",
         "orientation": "v",
         "showlegend": true,
         "type": "histogram",
         "x": [
          9.95
         ],
         "xaxis": "x",
         "y": [
          5846
         ],
         "yaxis": "y"
        },
        {
         "alignmentgroup": "True",
         "boxpoints": "all",
         "fillcolor": "rgba(255,255,255,0)",
         "hoveron": "points",
         "hovertemplate": "Amount of Sales for Price=5846<br>index=%{x}<extra></extra>",
         "jitter": 0,
         "legendgroup": "5846",
         "line": {
          "color": "rgba(255,255,255,0)"
         },
         "marker": {
          "color": "#19d3f3",
          "symbol": "line-ns-open"
         },
         "name": "5846",
         "offsetgroup": "5846",
         "showlegend": false,
         "type": "box",
         "x": [
          9.95
         ],
         "xaxis": "x2",
         "yaxis": "y2"
        },
        {
         "alignmentgroup": "True",
         "bingroup": "x",
         "histfunc": "sum",
         "hovertemplate": "Amount of Sales for Price=5773<br>index=%{x}<br>sum of Amount of Sales for Price=%{y}<extra></extra>",
         "legendgroup": "5773",
         "marker": {
          "color": "#FF6692"
         },
         "name": "5773",
         "offsetgroup": "5773",
         "orientation": "v",
         "showlegend": true,
         "type": "histogram",
         "x": [
          8.5
         ],
         "xaxis": "x",
         "y": [
          5773
         ],
         "yaxis": "y"
        },
        {
         "alignmentgroup": "True",
         "boxpoints": "all",
         "fillcolor": "rgba(255,255,255,0)",
         "hoveron": "points",
         "hovertemplate": "Amount of Sales for Price=5773<br>index=%{x}<extra></extra>",
         "jitter": 0,
         "legendgroup": "5773",
         "line": {
          "color": "rgba(255,255,255,0)"
         },
         "marker": {
          "color": "#FF6692",
          "symbol": "line-ns-open"
         },
         "name": "5773",
         "offsetgroup": "5773",
         "showlegend": false,
         "type": "box",
         "x": [
          8.5
         ],
         "xaxis": "x2",
         "yaxis": "y2"
        },
        {
         "alignmentgroup": "True",
         "bingroup": "x",
         "histfunc": "sum",
         "hovertemplate": "Amount of Sales for Price=4790<br>index=%{x}<br>sum of Amount of Sales for Price=%{y}<extra></extra>",
         "legendgroup": "4790",
         "marker": {
          "color": "#B6E880"
         },
         "name": "4790",
         "offsetgroup": "4790",
         "orientation": "v",
         "showlegend": true,
         "type": "histogram",
         "x": [
          8.29
         ],
         "xaxis": "x",
         "y": [
          4790
         ],
         "yaxis": "y"
        },
        {
         "alignmentgroup": "True",
         "boxpoints": "all",
         "fillcolor": "rgba(255,255,255,0)",
         "hoveron": "points",
         "hovertemplate": "Amount of Sales for Price=4790<br>index=%{x}<extra></extra>",
         "jitter": 0,
         "legendgroup": "4790",
         "line": {
          "color": "rgba(255,255,255,0)"
         },
         "marker": {
          "color": "#B6E880",
          "symbol": "line-ns-open"
         },
         "name": "4790",
         "offsetgroup": "4790",
         "showlegend": false,
         "type": "box",
         "x": [
          8.29
         ],
         "xaxis": "x2",
         "yaxis": "y2"
        },
        {
         "alignmentgroup": "True",
         "bingroup": "x",
         "histfunc": "sum",
         "hovertemplate": "Amount of Sales for Price=4496<br>index=%{x}<br>sum of Amount of Sales for Price=%{y}<extra></extra>",
         "legendgroup": "4496",
         "marker": {
          "color": "#FF97FF"
         },
         "name": "4496",
         "offsetgroup": "4496",
         "orientation": "v",
         "showlegend": true,
         "type": "histogram",
         "x": [
          4.96
         ],
         "xaxis": "x",
         "y": [
          4496
         ],
         "yaxis": "y"
        },
        {
         "alignmentgroup": "True",
         "boxpoints": "all",
         "fillcolor": "rgba(255,255,255,0)",
         "hoveron": "points",
         "hovertemplate": "Amount of Sales for Price=4496<br>index=%{x}<extra></extra>",
         "jitter": 0,
         "legendgroup": "4496",
         "line": {
          "color": "rgba(255,255,255,0)"
         },
         "marker": {
          "color": "#FF97FF",
          "symbol": "line-ns-open"
         },
         "name": "4496",
         "offsetgroup": "4496",
         "showlegend": false,
         "type": "box",
         "x": [
          4.96
         ],
         "xaxis": "x2",
         "yaxis": "y2"
        },
        {
         "alignmentgroup": "True",
         "bingroup": "x",
         "histfunc": "sum",
         "hovertemplate": "Amount of Sales for Price=4426<br>index=%{x}<br>sum of Amount of Sales for Price=%{y}<extra></extra>",
         "legendgroup": "4426",
         "marker": {
          "color": "#FECB52"
         },
         "name": "4426",
         "offsetgroup": "4426",
         "orientation": "v",
         "showlegend": true,
         "type": "histogram",
         "x": [
          0.29
         ],
         "xaxis": "x",
         "y": [
          4426
         ],
         "yaxis": "y"
        },
        {
         "alignmentgroup": "True",
         "boxpoints": "all",
         "fillcolor": "rgba(255,255,255,0)",
         "hoveron": "points",
         "hovertemplate": "Amount of Sales for Price=4426<br>index=%{x}<extra></extra>",
         "jitter": 0,
         "legendgroup": "4426",
         "line": {
          "color": "rgba(255,255,255,0)"
         },
         "marker": {
          "color": "#FECB52",
          "symbol": "line-ns-open"
         },
         "name": "4426",
         "offsetgroup": "4426",
         "showlegend": false,
         "type": "box",
         "x": [
          0.29
         ],
         "xaxis": "x2",
         "yaxis": "y2"
        },
        {
         "alignmentgroup": "True",
         "bingroup": "x",
         "histfunc": "sum",
         "hovertemplate": "Amount of Sales for Price=4395<br>index=%{x}<br>sum of Amount of Sales for Price=%{y}<extra></extra>",
         "legendgroup": "4395",
         "marker": {
          "color": "#636efa"
         },
         "name": "4395",
         "offsetgroup": "4395",
         "orientation": "v",
         "showlegend": true,
         "type": "histogram",
         "x": [
          1.69
         ],
         "xaxis": "x",
         "y": [
          4395
         ],
         "yaxis": "y"
        },
        {
         "alignmentgroup": "True",
         "boxpoints": "all",
         "fillcolor": "rgba(255,255,255,0)",
         "hoveron": "points",
         "hovertemplate": "Amount of Sales for Price=4395<br>index=%{x}<extra></extra>",
         "jitter": 0,
         "legendgroup": "4395",
         "line": {
          "color": "rgba(255,255,255,0)"
         },
         "marker": {
          "color": "#636efa",
          "symbol": "line-ns-open"
         },
         "name": "4395",
         "offsetgroup": "4395",
         "showlegend": false,
         "type": "box",
         "x": [
          1.69
         ],
         "xaxis": "x2",
         "yaxis": "y2"
        },
        {
         "alignmentgroup": "True",
         "bingroup": "x",
         "histfunc": "sum",
         "hovertemplate": "Amount of Sales for Price=3845<br>index=%{x}<br>sum of Amount of Sales for Price=%{y}<extra></extra>",
         "legendgroup": "3845",
         "marker": {
          "color": "#EF553B"
         },
         "name": "3845",
         "offsetgroup": "3845",
         "orientation": "v",
         "showlegend": true,
         "type": "histogram",
         "x": [
          12.75
         ],
         "xaxis": "x",
         "y": [
          3845
         ],
         "yaxis": "y"
        },
        {
         "alignmentgroup": "True",
         "boxpoints": "all",
         "fillcolor": "rgba(255,255,255,0)",
         "hoveron": "points",
         "hovertemplate": "Amount of Sales for Price=3845<br>index=%{x}<extra></extra>",
         "jitter": 0,
         "legendgroup": "3845",
         "line": {
          "color": "rgba(255,255,255,0)"
         },
         "marker": {
          "color": "#EF553B",
          "symbol": "line-ns-open"
         },
         "name": "3845",
         "offsetgroup": "3845",
         "showlegend": false,
         "type": "box",
         "x": [
          12.75
         ],
         "xaxis": "x2",
         "yaxis": "y2"
        },
        {
         "alignmentgroup": "True",
         "bingroup": "x",
         "histfunc": "sum",
         "hovertemplate": "Amount of Sales for Price=3765<br>index=%{x}<br>sum of Amount of Sales for Price=%{y}<extra></extra>",
         "legendgroup": "3765",
         "marker": {
          "color": "#00cc96"
         },
         "name": "3765",
         "offsetgroup": "3765",
         "orientation": "v",
         "showlegend": true,
         "type": "histogram",
         "x": [
          8.25
         ],
         "xaxis": "x",
         "y": [
          3765
         ],
         "yaxis": "y"
        },
        {
         "alignmentgroup": "True",
         "boxpoints": "all",
         "fillcolor": "rgba(255,255,255,0)",
         "hoveron": "points",
         "hovertemplate": "Amount of Sales for Price=3765<br>index=%{x}<extra></extra>",
         "jitter": 0,
         "legendgroup": "3765",
         "line": {
          "color": "rgba(255,255,255,0)"
         },
         "marker": {
          "color": "#00cc96",
          "symbol": "line-ns-open"
         },
         "name": "3765",
         "offsetgroup": "3765",
         "showlegend": false,
         "type": "box",
         "x": [
          8.25
         ],
         "xaxis": "x2",
         "yaxis": "y2"
        },
        {
         "alignmentgroup": "True",
         "bingroup": "x",
         "histfunc": "sum",
         "hovertemplate": "Amount of Sales for Price=3295<br>index=%{x}<br>sum of Amount of Sales for Price=%{y}<extra></extra>",
         "legendgroup": "3295",
         "marker": {
          "color": "#ab63fa"
         },
         "name": "3295",
         "offsetgroup": "3295",
         "orientation": "v",
         "showlegend": true,
         "type": "histogram",
         "x": [
          7.46
         ],
         "xaxis": "x",
         "y": [
          3295
         ],
         "yaxis": "y"
        },
        {
         "alignmentgroup": "True",
         "boxpoints": "all",
         "fillcolor": "rgba(255,255,255,0)",
         "hoveron": "points",
         "hovertemplate": "Amount of Sales for Price=3295<br>index=%{x}<extra></extra>",
         "jitter": 0,
         "legendgroup": "3295",
         "line": {
          "color": "rgba(255,255,255,0)"
         },
         "marker": {
          "color": "#ab63fa",
          "symbol": "line-ns-open"
         },
         "name": "3295",
         "offsetgroup": "3295",
         "showlegend": false,
         "type": "box",
         "x": [
          7.46
         ],
         "xaxis": "x2",
         "yaxis": "y2"
        },
        {
         "alignmentgroup": "True",
         "bingroup": "x",
         "histfunc": "sum",
         "hovertemplate": "Amount of Sales for Price=3084<br>index=%{x}<br>sum of Amount of Sales for Price=%{y}<extra></extra>",
         "legendgroup": "3084",
         "marker": {
          "color": "#FFA15A"
         },
         "name": "3084",
         "offsetgroup": "3084",
         "orientation": "v",
         "showlegend": true,
         "type": "histogram",
         "x": [
          10.79
         ],
         "xaxis": "x",
         "y": [
          3084
         ],
         "yaxis": "y"
        },
        {
         "alignmentgroup": "True",
         "boxpoints": "all",
         "fillcolor": "rgba(255,255,255,0)",
         "hoveron": "points",
         "hovertemplate": "Amount of Sales for Price=3084<br>index=%{x}<extra></extra>",
         "jitter": 0,
         "legendgroup": "3084",
         "line": {
          "color": "rgba(255,255,255,0)"
         },
         "marker": {
          "color": "#FFA15A",
          "symbol": "line-ns-open"
         },
         "name": "3084",
         "offsetgroup": "3084",
         "showlegend": false,
         "type": "box",
         "x": [
          10.79
         ],
         "xaxis": "x2",
         "yaxis": "y2"
        },
        {
         "alignmentgroup": "True",
         "bingroup": "x",
         "histfunc": "sum",
         "hovertemplate": "Amount of Sales for Price=2947<br>index=%{x}<br>sum of Amount of Sales for Price=%{y}<extra></extra>",
         "legendgroup": "2947",
         "marker": {
          "color": "#19d3f3"
         },
         "name": "2947",
         "offsetgroup": "2947",
         "orientation": "v",
         "showlegend": true,
         "type": "histogram",
         "x": [
          3.95
         ],
         "xaxis": "x",
         "y": [
          2947
         ],
         "yaxis": "y"
        },
        {
         "alignmentgroup": "True",
         "boxpoints": "all",
         "fillcolor": "rgba(255,255,255,0)",
         "hoveron": "points",
         "hovertemplate": "Amount of Sales for Price=2947<br>index=%{x}<extra></extra>",
         "jitter": 0,
         "legendgroup": "2947",
         "line": {
          "color": "rgba(255,255,255,0)"
         },
         "marker": {
          "color": "#19d3f3",
          "symbol": "line-ns-open"
         },
         "name": "2947",
         "offsetgroup": "2947",
         "showlegend": false,
         "type": "box",
         "x": [
          3.95
         ],
         "xaxis": "x2",
         "yaxis": "y2"
        },
        {
         "alignmentgroup": "True",
         "bingroup": "x",
         "histfunc": "sum",
         "hovertemplate": "Amount of Sales for Price=2833<br>index=%{x}<br>sum of Amount of Sales for Price=%{y}<extra></extra>",
         "legendgroup": "2833",
         "marker": {
          "color": "#FF6692"
         },
         "name": "2833",
         "offsetgroup": "2833",
         "orientation": "v",
         "showlegend": true,
         "type": "histogram",
         "x": [
          0.79
         ],
         "xaxis": "x",
         "y": [
          2833
         ],
         "yaxis": "y"
        },
        {
         "alignmentgroup": "True",
         "boxpoints": "all",
         "fillcolor": "rgba(255,255,255,0)",
         "hoveron": "points",
         "hovertemplate": "Amount of Sales for Price=2833<br>index=%{x}<extra></extra>",
         "jitter": 0,
         "legendgroup": "2833",
         "line": {
          "color": "rgba(255,255,255,0)"
         },
         "marker": {
          "color": "#FF6692",
          "symbol": "line-ns-open"
         },
         "name": "2833",
         "offsetgroup": "2833",
         "showlegend": false,
         "type": "box",
         "x": [
          0.79
         ],
         "xaxis": "x2",
         "yaxis": "y2"
        },
        {
         "alignmentgroup": "True",
         "bingroup": "x",
         "histfunc": "sum",
         "hovertemplate": "Amount of Sales for Price=2735<br>index=%{x}<br>sum of Amount of Sales for Price=%{y}<extra></extra>",
         "legendgroup": "2735",
         "marker": {
          "color": "#B6E880"
         },
         "name": "2735",
         "offsetgroup": "2735",
         "orientation": "v",
         "showlegend": true,
         "type": "histogram",
         "x": [
          2.89
         ],
         "xaxis": "x",
         "y": [
          2735
         ],
         "yaxis": "y"
        },
        {
         "alignmentgroup": "True",
         "boxpoints": "all",
         "fillcolor": "rgba(255,255,255,0)",
         "hoveron": "points",
         "hovertemplate": "Amount of Sales for Price=2735<br>index=%{x}<extra></extra>",
         "jitter": 0,
         "legendgroup": "2735",
         "line": {
          "color": "rgba(255,255,255,0)"
         },
         "marker": {
          "color": "#B6E880",
          "symbol": "line-ns-open"
         },
         "name": "2735",
         "offsetgroup": "2735",
         "showlegend": false,
         "type": "box",
         "x": [
          2.89
         ],
         "xaxis": "x2",
         "yaxis": "y2"
        },
        {
         "alignmentgroup": "True",
         "bingroup": "x",
         "histfunc": "sum",
         "hovertemplate": "Amount of Sales for Price=2709<br>index=%{x}<br>sum of Amount of Sales for Price=%{y}<extra></extra>",
         "legendgroup": "2709",
         "marker": {
          "color": "#FF97FF"
         },
         "name": "2709",
         "offsetgroup": "2709",
         "orientation": "v",
         "showlegend": true,
         "type": "histogram",
         "x": [
          2.51
         ],
         "xaxis": "x",
         "y": [
          2709
         ],
         "yaxis": "y"
        },
        {
         "alignmentgroup": "True",
         "boxpoints": "all",
         "fillcolor": "rgba(255,255,255,0)",
         "hoveron": "points",
         "hovertemplate": "Amount of Sales for Price=2709<br>index=%{x}<extra></extra>",
         "jitter": 0,
         "legendgroup": "2709",
         "line": {
          "color": "rgba(255,255,255,0)"
         },
         "marker": {
          "color": "#FF97FF",
          "symbol": "line-ns-open"
         },
         "name": "2709",
         "offsetgroup": "2709",
         "showlegend": false,
         "type": "box",
         "x": [
          2.51
         ],
         "xaxis": "x2",
         "yaxis": "y2"
        },
        {
         "alignmentgroup": "True",
         "bingroup": "x",
         "histfunc": "sum",
         "hovertemplate": "Amount of Sales for Price=2515<br>index=%{x}<br>sum of Amount of Sales for Price=%{y}<extra></extra>",
         "legendgroup": "2515",
         "marker": {
          "color": "#FECB52"
         },
         "name": "2515",
         "offsetgroup": "2515",
         "orientation": "v",
         "showlegend": true,
         "type": "histogram",
         "x": [
          0
         ],
         "xaxis": "x",
         "y": [
          2515
         ],
         "yaxis": "y"
        },
        {
         "alignmentgroup": "True",
         "boxpoints": "all",
         "fillcolor": "rgba(255,255,255,0)",
         "hoveron": "points",
         "hovertemplate": "Amount of Sales for Price=2515<br>index=%{x}<extra></extra>",
         "jitter": 0,
         "legendgroup": "2515",
         "line": {
          "color": "rgba(255,255,255,0)"
         },
         "marker": {
          "color": "#FECB52",
          "symbol": "line-ns-open"
         },
         "name": "2515",
         "offsetgroup": "2515",
         "showlegend": false,
         "type": "box",
         "x": [
          0
         ],
         "xaxis": "x2",
         "yaxis": "y2"
        },
        {
         "alignmentgroup": "True",
         "bingroup": "x",
         "histfunc": "sum",
         "hovertemplate": "Amount of Sales for Price=2511<br>index=%{x}<br>sum of Amount of Sales for Price=%{y}<extra></extra>",
         "legendgroup": "2511",
         "marker": {
          "color": "#636efa"
         },
         "name": "2511",
         "offsetgroup": "2511",
         "orientation": "v",
         "showlegend": true,
         "type": "histogram",
         "x": [
          1.66
         ],
         "xaxis": "x",
         "y": [
          2511
         ],
         "yaxis": "y"
        },
        {
         "alignmentgroup": "True",
         "boxpoints": "all",
         "fillcolor": "rgba(255,255,255,0)",
         "hoveron": "points",
         "hovertemplate": "Amount of Sales for Price=2511<br>index=%{x}<extra></extra>",
         "jitter": 0,
         "legendgroup": "2511",
         "line": {
          "color": "rgba(255,255,255,0)"
         },
         "marker": {
          "color": "#636efa",
          "symbol": "line-ns-open"
         },
         "name": "2511",
         "offsetgroup": "2511",
         "showlegend": false,
         "type": "box",
         "x": [
          1.66
         ],
         "xaxis": "x2",
         "yaxis": "y2"
        },
        {
         "alignmentgroup": "True",
         "bingroup": "x",
         "histfunc": "sum",
         "hovertemplate": "Amount of Sales for Price=2459<br>index=%{x}<br>sum of Amount of Sales for Price=%{y}<extra></extra>",
         "legendgroup": "2459",
         "marker": {
          "color": "#EF553B"
         },
         "name": "2459",
         "offsetgroup": "2459",
         "orientation": "v",
         "showlegend": true,
         "type": "histogram",
         "x": [
          6.75
         ],
         "xaxis": "x",
         "y": [
          2459
         ],
         "yaxis": "y"
        },
        {
         "alignmentgroup": "True",
         "boxpoints": "all",
         "fillcolor": "rgba(255,255,255,0)",
         "hoveron": "points",
         "hovertemplate": "Amount of Sales for Price=2459<br>index=%{x}<extra></extra>",
         "jitter": 0,
         "legendgroup": "2459",
         "line": {
          "color": "rgba(255,255,255,0)"
         },
         "marker": {
          "color": "#EF553B",
          "symbol": "line-ns-open"
         },
         "name": "2459",
         "offsetgroup": "2459",
         "showlegend": false,
         "type": "box",
         "x": [
          6.75
         ],
         "xaxis": "x2",
         "yaxis": "y2"
        },
        {
         "alignmentgroup": "True",
         "bingroup": "x",
         "histfunc": "sum",
         "hovertemplate": "Amount of Sales for Price=2206<br>index=%{x}<br>sum of Amount of Sales for Price=%{y}<extra></extra>",
         "legendgroup": "2206",
         "marker": {
          "color": "#00cc96"
         },
         "name": "2206",
         "offsetgroup": "2206",
         "orientation": "v",
         "showlegend": true,
         "type": "histogram",
         "x": [
          3.25
         ],
         "xaxis": "x",
         "y": [
          2206
         ],
         "yaxis": "y"
        },
        {
         "alignmentgroup": "True",
         "boxpoints": "all",
         "fillcolor": "rgba(255,255,255,0)",
         "hoveron": "points",
         "hovertemplate": "Amount of Sales for Price=2206<br>index=%{x}<extra></extra>",
         "jitter": 0,
         "legendgroup": "2206",
         "line": {
          "color": "rgba(255,255,255,0)"
         },
         "marker": {
          "color": "#00cc96",
          "symbol": "line-ns-open"
         },
         "name": "2206",
         "offsetgroup": "2206",
         "showlegend": false,
         "type": "box",
         "x": [
          3.25
         ],
         "xaxis": "x2",
         "yaxis": "y2"
        },
        {
         "alignmentgroup": "True",
         "bingroup": "x",
         "histfunc": "sum",
         "hovertemplate": "Amount of Sales for Price=2180<br>index=%{x}<br>sum of Amount of Sales for Price=%{y}<extra></extra>",
         "legendgroup": "2180",
         "marker": {
          "color": "#ab63fa"
         },
         "name": "2180",
         "offsetgroup": "2180",
         "orientation": "v",
         "showlegend": true,
         "type": "histogram",
         "x": [
          4.21
         ],
         "xaxis": "x",
         "y": [
          2180
         ],
         "yaxis": "y"
        },
        {
         "alignmentgroup": "True",
         "boxpoints": "all",
         "fillcolor": "rgba(255,255,255,0)",
         "hoveron": "points",
         "hovertemplate": "Amount of Sales for Price=2180<br>index=%{x}<extra></extra>",
         "jitter": 0,
         "legendgroup": "2180",
         "line": {
          "color": "rgba(255,255,255,0)"
         },
         "marker": {
          "color": "#ab63fa",
          "symbol": "line-ns-open"
         },
         "name": "2180",
         "offsetgroup": "2180",
         "showlegend": false,
         "type": "box",
         "x": [
          4.21
         ],
         "xaxis": "x2",
         "yaxis": "y2"
        },
        {
         "alignmentgroup": "True",
         "bingroup": "x",
         "histfunc": "sum",
         "hovertemplate": "Amount of Sales for Price=2112<br>index=%{x}<br>sum of Amount of Sales for Price=%{y}<extra></extra>",
         "legendgroup": "2112",
         "marker": {
          "color": "#FFA15A"
         },
         "name": "2112",
         "offsetgroup": "2112",
         "orientation": "v",
         "showlegend": true,
         "type": "histogram",
         "x": [
          3.36
         ],
         "xaxis": "x",
         "y": [
          2112
         ],
         "yaxis": "y"
        },
        {
         "alignmentgroup": "True",
         "boxpoints": "all",
         "fillcolor": "rgba(255,255,255,0)",
         "hoveron": "points",
         "hovertemplate": "Amount of Sales for Price=2112<br>index=%{x}<extra></extra>",
         "jitter": 0,
         "legendgroup": "2112",
         "line": {
          "color": "rgba(255,255,255,0)"
         },
         "marker": {
          "color": "#FFA15A",
          "symbol": "line-ns-open"
         },
         "name": "2112",
         "offsetgroup": "2112",
         "showlegend": false,
         "type": "box",
         "x": [
          3.36
         ],
         "xaxis": "x2",
         "yaxis": "y2"
        },
        {
         "alignmentgroup": "True",
         "bingroup": "x",
         "histfunc": "sum",
         "hovertemplate": "Amount of Sales for Price=1905<br>index=%{x}<br>sum of Amount of Sales for Price=%{y}<extra></extra>",
         "legendgroup": "1905",
         "marker": {
          "color": "#19d3f3"
         },
         "name": "1905",
         "offsetgroup": "1905",
         "orientation": "v",
         "showlegend": true,
         "type": "histogram",
         "x": [
          0.19
         ],
         "xaxis": "x",
         "y": [
          1905
         ],
         "yaxis": "y"
        },
        {
         "alignmentgroup": "True",
         "boxpoints": "all",
         "fillcolor": "rgba(255,255,255,0)",
         "hoveron": "points",
         "hovertemplate": "Amount of Sales for Price=1905<br>index=%{x}<extra></extra>",
         "jitter": 0,
         "legendgroup": "1905",
         "line": {
          "color": "rgba(255,255,255,0)"
         },
         "marker": {
          "color": "#19d3f3",
          "symbol": "line-ns-open"
         },
         "name": "1905",
         "offsetgroup": "1905",
         "showlegend": false,
         "type": "box",
         "x": [
          0.19
         ],
         "xaxis": "x2",
         "yaxis": "y2"
        },
        {
         "alignmentgroup": "True",
         "bingroup": "x",
         "histfunc": "sum",
         "hovertemplate": "Amount of Sales for Price=1705<br>index=%{x}<br>sum of Amount of Sales for Price=%{y}<extra></extra>",
         "legendgroup": "1705",
         "marker": {
          "color": "#FF6692"
         },
         "name": "1705",
         "offsetgroup": "1705",
         "orientation": "v",
         "showlegend": true,
         "type": "histogram",
         "x": [
          16.63
         ],
         "xaxis": "x",
         "y": [
          1705
         ],
         "yaxis": "y"
        },
        {
         "alignmentgroup": "True",
         "boxpoints": "all",
         "fillcolor": "rgba(255,255,255,0)",
         "hoveron": "points",
         "hovertemplate": "Amount of Sales for Price=1705<br>index=%{x}<extra></extra>",
         "jitter": 0,
         "legendgroup": "1705",
         "line": {
          "color": "rgba(255,255,255,0)"
         },
         "marker": {
          "color": "#FF6692",
          "symbol": "line-ns-open"
         },
         "name": "1705",
         "offsetgroup": "1705",
         "showlegend": false,
         "type": "box",
         "x": [
          16.63
         ],
         "xaxis": "x2",
         "yaxis": "y2"
        },
        {
         "alignmentgroup": "True",
         "bingroup": "x",
         "histfunc": "sum",
         "hovertemplate": "Amount of Sales for Price=1559<br>index=%{x}<br>sum of Amount of Sales for Price=%{y}<extra></extra>",
         "legendgroup": "1559",
         "marker": {
          "color": "#B6E880"
         },
         "name": "1559",
         "offsetgroup": "1559",
         "orientation": "v",
         "showlegend": true,
         "type": "histogram",
         "x": [
          1.06
         ],
         "xaxis": "x",
         "y": [
          1559
         ],
         "yaxis": "y"
        },
        {
         "alignmentgroup": "True",
         "boxpoints": "all",
         "fillcolor": "rgba(255,255,255,0)",
         "hoveron": "points",
         "hovertemplate": "Amount of Sales for Price=1559<br>index=%{x}<extra></extra>",
         "jitter": 0,
         "legendgroup": "1559",
         "line": {
          "color": "rgba(255,255,255,0)"
         },
         "marker": {
          "color": "#B6E880",
          "symbol": "line-ns-open"
         },
         "name": "1559",
         "offsetgroup": "1559",
         "showlegend": false,
         "type": "box",
         "x": [
          1.06
         ],
         "xaxis": "x2",
         "yaxis": "y2"
        },
        {
         "alignmentgroup": "True",
         "bingroup": "x",
         "histfunc": "sum",
         "hovertemplate": "Amount of Sales for Price=1531<br>index=%{x}<br>sum of Amount of Sales for Price=%{y}<extra></extra>",
         "legendgroup": "1531",
         "marker": {
          "color": "#FF97FF"
         },
         "name": "1531",
         "offsetgroup": "1531",
         "orientation": "v",
         "showlegend": true,
         "type": "histogram",
         "x": [
          12.46
         ],
         "xaxis": "x",
         "y": [
          1531
         ],
         "yaxis": "y"
        },
        {
         "alignmentgroup": "True",
         "boxpoints": "all",
         "fillcolor": "rgba(255,255,255,0)",
         "hoveron": "points",
         "hovertemplate": "Amount of Sales for Price=1531<br>index=%{x}<extra></extra>",
         "jitter": 0,
         "legendgroup": "1531",
         "line": {
          "color": "rgba(255,255,255,0)"
         },
         "marker": {
          "color": "#FF97FF",
          "symbol": "line-ns-open"
         },
         "name": "1531",
         "offsetgroup": "1531",
         "showlegend": false,
         "type": "box",
         "x": [
          12.46
         ],
         "xaxis": "x2",
         "yaxis": "y2"
        },
        {
         "alignmentgroup": "True",
         "bingroup": "x",
         "histfunc": "sum",
         "hovertemplate": "Amount of Sales for Price=1437<br>index=%{x}<br>sum of Amount of Sales for Price=%{y}<extra></extra>",
         "legendgroup": "1437",
         "marker": {
          "color": "#FECB52"
         },
         "name": "1437",
         "offsetgroup": "1437",
         "orientation": "v",
         "showlegend": true,
         "type": "histogram",
         "x": [
          6.25
         ],
         "xaxis": "x",
         "y": [
          1437
         ],
         "yaxis": "y"
        },
        {
         "alignmentgroup": "True",
         "boxpoints": "all",
         "fillcolor": "rgba(255,255,255,0)",
         "hoveron": "points",
         "hovertemplate": "Amount of Sales for Price=1437<br>index=%{x}<extra></extra>",
         "jitter": 0,
         "legendgroup": "1437",
         "line": {
          "color": "rgba(255,255,255,0)"
         },
         "marker": {
          "color": "#FECB52",
          "symbol": "line-ns-open"
         },
         "name": "1437",
         "offsetgroup": "1437",
         "showlegend": false,
         "type": "box",
         "x": [
          6.25
         ],
         "xaxis": "x2",
         "yaxis": "y2"
        },
        {
         "alignmentgroup": "True",
         "bingroup": "x",
         "histfunc": "sum",
         "hovertemplate": "Amount of Sales for Price=1432<br>index=%{x}<br>sum of Amount of Sales for Price=%{y}<extra></extra>",
         "legendgroup": "1432",
         "marker": {
          "color": "#636efa"
         },
         "name": "1432",
         "offsetgroup": "1432",
         "orientation": "v",
         "showlegend": true,
         "type": "histogram",
         "x": [
          0.95
         ],
         "xaxis": "x",
         "y": [
          1432
         ],
         "yaxis": "y"
        },
        {
         "alignmentgroup": "True",
         "boxpoints": "all",
         "fillcolor": "rgba(255,255,255,0)",
         "hoveron": "points",
         "hovertemplate": "Amount of Sales for Price=1432<br>index=%{x}<extra></extra>",
         "jitter": 0,
         "legendgroup": "1432",
         "line": {
          "color": "rgba(255,255,255,0)"
         },
         "marker": {
          "color": "#636efa",
          "symbol": "line-ns-open"
         },
         "name": "1432",
         "offsetgroup": "1432",
         "showlegend": false,
         "type": "box",
         "x": [
          0.95
         ],
         "xaxis": "x2",
         "yaxis": "y2"
        },
        {
         "alignmentgroup": "True",
         "bingroup": "x",
         "histfunc": "sum",
         "hovertemplate": "Amount of Sales for Price=1419<br>index=%{x}<br>sum of Amount of Sales for Price=%{y}<extra></extra>",
         "legendgroup": "1419",
         "marker": {
          "color": "#EF553B"
         },
         "name": "1419",
         "offsetgroup": "1419",
         "orientation": "v",
         "showlegend": true,
         "type": "histogram",
         "x": [
          5.91
         ],
         "xaxis": "x",
         "y": [
          1419
         ],
         "yaxis": "y"
        },
        {
         "alignmentgroup": "True",
         "boxpoints": "all",
         "fillcolor": "rgba(255,255,255,0)",
         "hoveron": "points",
         "hovertemplate": "Amount of Sales for Price=1419<br>index=%{x}<extra></extra>",
         "jitter": 0,
         "legendgroup": "1419",
         "line": {
          "color": "rgba(255,255,255,0)"
         },
         "marker": {
          "color": "#EF553B",
          "symbol": "line-ns-open"
         },
         "name": "1419",
         "offsetgroup": "1419",
         "showlegend": false,
         "type": "box",
         "x": [
          5.91
         ],
         "xaxis": "x2",
         "yaxis": "y2"
        },
        {
         "alignmentgroup": "True",
         "bingroup": "x",
         "histfunc": "sum",
         "hovertemplate": "Amount of Sales for Price=1403<br>index=%{x}<br>sum of Amount of Sales for Price=%{y}<extra></extra>",
         "legendgroup": "1403",
         "marker": {
          "color": "#00cc96"
         },
         "name": "1403",
         "offsetgroup": "1403",
         "orientation": "v",
         "showlegend": true,
         "type": "histogram",
         "x": [
          2.49
         ],
         "xaxis": "x",
         "y": [
          1403
         ],
         "yaxis": "y"
        },
        {
         "alignmentgroup": "True",
         "boxpoints": "all",
         "fillcolor": "rgba(255,255,255,0)",
         "hoveron": "points",
         "hovertemplate": "Amount of Sales for Price=1403<br>index=%{x}<extra></extra>",
         "jitter": 0,
         "legendgroup": "1403",
         "line": {
          "color": "rgba(255,255,255,0)"
         },
         "marker": {
          "color": "#00cc96",
          "symbol": "line-ns-open"
         },
         "name": "1403",
         "offsetgroup": "1403",
         "showlegend": false,
         "type": "box",
         "x": [
          2.49
         ],
         "xaxis": "x2",
         "yaxis": "y2"
        },
        {
         "alignmentgroup": "True",
         "bingroup": "x",
         "histfunc": "sum",
         "hovertemplate": "Amount of Sales for Price=1294<br>index=%{x}<br>sum of Amount of Sales for Price=%{y}<extra></extra>",
         "legendgroup": "1294",
         "marker": {
          "color": "#ab63fa"
         },
         "name": "1294",
         "offsetgroup": "1294",
         "orientation": "v",
         "showlegend": true,
         "type": "histogram",
         "x": [
          16.95,
          6.95
         ],
         "xaxis": "x",
         "y": [
          1294,
          1294
         ],
         "yaxis": "y"
        },
        {
         "alignmentgroup": "True",
         "boxpoints": "all",
         "fillcolor": "rgba(255,255,255,0)",
         "hoveron": "points",
         "hovertemplate": "Amount of Sales for Price=1294<br>index=%{x}<extra></extra>",
         "jitter": 0,
         "legendgroup": "1294",
         "line": {
          "color": "rgba(255,255,255,0)"
         },
         "marker": {
          "color": "#ab63fa",
          "symbol": "line-ns-open"
         },
         "name": "1294",
         "offsetgroup": "1294",
         "showlegend": false,
         "type": "box",
         "x": [
          16.95,
          6.95
         ],
         "xaxis": "x2",
         "yaxis": "y2"
        },
        {
         "alignmentgroup": "True",
         "bingroup": "x",
         "histfunc": "sum",
         "hovertemplate": "Amount of Sales for Price=1235<br>index=%{x}<br>sum of Amount of Sales for Price=%{y}<extra></extra>",
         "legendgroup": "1235",
         "marker": {
          "color": "#FFA15A"
         },
         "name": "1235",
         "offsetgroup": "1235",
         "orientation": "v",
         "showlegend": true,
         "type": "histogram",
         "x": [
          0.72
         ],
         "xaxis": "x",
         "y": [
          1235
         ],
         "yaxis": "y"
        },
        {
         "alignmentgroup": "True",
         "boxpoints": "all",
         "fillcolor": "rgba(255,255,255,0)",
         "hoveron": "points",
         "hovertemplate": "Amount of Sales for Price=1235<br>index=%{x}<extra></extra>",
         "jitter": 0,
         "legendgroup": "1235",
         "line": {
          "color": "rgba(255,255,255,0)"
         },
         "marker": {
          "color": "#FFA15A",
          "symbol": "line-ns-open"
         },
         "name": "1235",
         "offsetgroup": "1235",
         "showlegend": false,
         "type": "box",
         "x": [
          0.72
         ],
         "xaxis": "x2",
         "yaxis": "y2"
        },
        {
         "alignmentgroup": "True",
         "bingroup": "x",
         "histfunc": "sum",
         "hovertemplate": "Amount of Sales for Price=1231<br>index=%{x}<br>sum of Amount of Sales for Price=%{y}<extra></extra>",
         "legendgroup": "1231",
         "marker": {
          "color": "#19d3f3"
         },
         "name": "1231",
         "offsetgroup": "1231",
         "orientation": "v",
         "showlegend": true,
         "type": "histogram",
         "x": [
          1.79
         ],
         "xaxis": "x",
         "y": [
          1231
         ],
         "yaxis": "y"
        },
        {
         "alignmentgroup": "True",
         "boxpoints": "all",
         "fillcolor": "rgba(255,255,255,0)",
         "hoveron": "points",
         "hovertemplate": "Amount of Sales for Price=1231<br>index=%{x}<extra></extra>",
         "jitter": 0,
         "legendgroup": "1231",
         "line": {
          "color": "rgba(255,255,255,0)"
         },
         "marker": {
          "color": "#19d3f3",
          "symbol": "line-ns-open"
         },
         "name": "1231",
         "offsetgroup": "1231",
         "showlegend": false,
         "type": "box",
         "x": [
          1.79
         ],
         "xaxis": "x2",
         "yaxis": "y2"
        },
        {
         "alignmentgroup": "True",
         "bingroup": "x",
         "histfunc": "sum",
         "hovertemplate": "Amount of Sales for Price=1180<br>index=%{x}<br>sum of Amount of Sales for Price=%{y}<extra></extra>",
         "legendgroup": "1180",
         "marker": {
          "color": "#FF6692"
         },
         "name": "1180",
         "offsetgroup": "1180",
         "orientation": "v",
         "showlegend": true,
         "type": "histogram",
         "x": [
          14.95
         ],
         "xaxis": "x",
         "y": [
          1180
         ],
         "yaxis": "y"
        },
        {
         "alignmentgroup": "True",
         "boxpoints": "all",
         "fillcolor": "rgba(255,255,255,0)",
         "hoveron": "points",
         "hovertemplate": "Amount of Sales for Price=1180<br>index=%{x}<extra></extra>",
         "jitter": 0,
         "legendgroup": "1180",
         "line": {
          "color": "rgba(255,255,255,0)"
         },
         "marker": {
          "color": "#FF6692",
          "symbol": "line-ns-open"
         },
         "name": "1180",
         "offsetgroup": "1180",
         "showlegend": false,
         "type": "box",
         "x": [
          14.95
         ],
         "xaxis": "x2",
         "yaxis": "y2"
        },
        {
         "alignmentgroup": "True",
         "bingroup": "x",
         "histfunc": "sum",
         "hovertemplate": "Amount of Sales for Price=1164<br>index=%{x}<br>sum of Amount of Sales for Price=%{y}<extra></extra>",
         "legendgroup": "1164",
         "marker": {
          "color": "#B6E880"
         },
         "name": "1164",
         "offsetgroup": "1164",
         "orientation": "v",
         "showlegend": true,
         "type": "histogram",
         "x": [
          0.21
         ],
         "xaxis": "x",
         "y": [
          1164
         ],
         "yaxis": "y"
        },
        {
         "alignmentgroup": "True",
         "boxpoints": "all",
         "fillcolor": "rgba(255,255,255,0)",
         "hoveron": "points",
         "hovertemplate": "Amount of Sales for Price=1164<br>index=%{x}<extra></extra>",
         "jitter": 0,
         "legendgroup": "1164",
         "line": {
          "color": "rgba(255,255,255,0)"
         },
         "marker": {
          "color": "#B6E880",
          "symbol": "line-ns-open"
         },
         "name": "1164",
         "offsetgroup": "1164",
         "showlegend": false,
         "type": "box",
         "x": [
          0.21
         ],
         "xaxis": "x2",
         "yaxis": "y2"
        },
        {
         "alignmentgroup": "True",
         "bingroup": "x",
         "histfunc": "sum",
         "hovertemplate": "Amount of Sales for Price=1083<br>index=%{x}<br>sum of Amount of Sales for Price=%{y}<extra></extra>",
         "legendgroup": "1083",
         "marker": {
          "color": "#FF97FF"
         },
         "name": "1083",
         "offsetgroup": "1083",
         "orientation": "v",
         "showlegend": true,
         "type": "histogram",
         "x": [
          2.25
         ],
         "xaxis": "x",
         "y": [
          1083
         ],
         "yaxis": "y"
        },
        {
         "alignmentgroup": "True",
         "boxpoints": "all",
         "fillcolor": "rgba(255,255,255,0)",
         "hoveron": "points",
         "hovertemplate": "Amount of Sales for Price=1083<br>index=%{x}<extra></extra>",
         "jitter": 0,
         "legendgroup": "1083",
         "line": {
          "color": "rgba(255,255,255,0)"
         },
         "marker": {
          "color": "#FF97FF",
          "symbol": "line-ns-open"
         },
         "name": "1083",
         "offsetgroup": "1083",
         "showlegend": false,
         "type": "box",
         "x": [
          2.25
         ],
         "xaxis": "x2",
         "yaxis": "y2"
        },
        {
         "alignmentgroup": "True",
         "bingroup": "x",
         "histfunc": "sum",
         "hovertemplate": "Amount of Sales for Price=1068<br>index=%{x}<br>sum of Amount of Sales for Price=%{y}<extra></extra>",
         "legendgroup": "1068",
         "marker": {
          "color": "#FECB52"
         },
         "name": "1068",
         "offsetgroup": "1068",
         "orientation": "v",
         "showlegend": true,
         "type": "histogram",
         "x": [
          12.5
         ],
         "xaxis": "x",
         "y": [
          1068
         ],
         "yaxis": "y"
        },
        {
         "alignmentgroup": "True",
         "boxpoints": "all",
         "fillcolor": "rgba(255,255,255,0)",
         "hoveron": "points",
         "hovertemplate": "Amount of Sales for Price=1068<br>index=%{x}<extra></extra>",
         "jitter": 0,
         "legendgroup": "1068",
         "line": {
          "color": "rgba(255,255,255,0)"
         },
         "marker": {
          "color": "#FECB52",
          "symbol": "line-ns-open"
         },
         "name": "1068",
         "offsetgroup": "1068",
         "showlegend": false,
         "type": "box",
         "x": [
          12.5
         ],
         "xaxis": "x2",
         "yaxis": "y2"
        },
        {
         "alignmentgroup": "True",
         "bingroup": "x",
         "histfunc": "sum",
         "hovertemplate": "Amount of Sales for Price=1023<br>index=%{x}<br>sum of Amount of Sales for Price=%{y}<extra></extra>",
         "legendgroup": "1023",
         "marker": {
          "color": "#636efa"
         },
         "name": "1023",
         "offsetgroup": "1023",
         "orientation": "v",
         "showlegend": true,
         "type": "histogram",
         "x": [
          5.45
         ],
         "xaxis": "x",
         "y": [
          1023
         ],
         "yaxis": "y"
        },
        {
         "alignmentgroup": "True",
         "boxpoints": "all",
         "fillcolor": "rgba(255,255,255,0)",
         "hoveron": "points",
         "hovertemplate": "Amount of Sales for Price=1023<br>index=%{x}<extra></extra>",
         "jitter": 0,
         "legendgroup": "1023",
         "line": {
          "color": "rgba(255,255,255,0)"
         },
         "marker": {
          "color": "#636efa",
          "symbol": "line-ns-open"
         },
         "name": "1023",
         "offsetgroup": "1023",
         "showlegend": false,
         "type": "box",
         "x": [
          5.45
         ],
         "xaxis": "x2",
         "yaxis": "y2"
        },
        {
         "alignmentgroup": "True",
         "bingroup": "x",
         "histfunc": "sum",
         "hovertemplate": "Amount of Sales for Price=1012<br>index=%{x}<br>sum of Amount of Sales for Price=%{y}<extra></extra>",
         "legendgroup": "1012",
         "marker": {
          "color": "#EF553B"
         },
         "name": "1012",
         "offsetgroup": "1012",
         "orientation": "v",
         "showlegend": true,
         "type": "histogram",
         "x": [
          10.95
         ],
         "xaxis": "x",
         "y": [
          1012
         ],
         "yaxis": "y"
        },
        {
         "alignmentgroup": "True",
         "boxpoints": "all",
         "fillcolor": "rgba(255,255,255,0)",
         "hoveron": "points",
         "hovertemplate": "Amount of Sales for Price=1012<br>index=%{x}<extra></extra>",
         "jitter": 0,
         "legendgroup": "1012",
         "line": {
          "color": "rgba(255,255,255,0)"
         },
         "marker": {
          "color": "#EF553B",
          "symbol": "line-ns-open"
         },
         "name": "1012",
         "offsetgroup": "1012",
         "showlegend": false,
         "type": "box",
         "x": [
          10.95
         ],
         "xaxis": "x2",
         "yaxis": "y2"
        },
        {
         "alignmentgroup": "True",
         "bingroup": "x",
         "histfunc": "sum",
         "hovertemplate": "Amount of Sales for Price=993<br>index=%{x}<br>sum of Amount of Sales for Price=%{y}<extra></extra>",
         "legendgroup": "993",
         "marker": {
          "color": "#00cc96"
         },
         "name": "993",
         "offsetgroup": "993",
         "orientation": "v",
         "showlegend": true,
         "type": "histogram",
         "x": [
          8.47
         ],
         "xaxis": "x",
         "y": [
          993
         ],
         "yaxis": "y"
        },
        {
         "alignmentgroup": "True",
         "boxpoints": "all",
         "fillcolor": "rgba(255,255,255,0)",
         "hoveron": "points",
         "hovertemplate": "Amount of Sales for Price=993<br>index=%{x}<extra></extra>",
         "jitter": 0,
         "legendgroup": "993",
         "line": {
          "color": "rgba(255,255,255,0)"
         },
         "marker": {
          "color": "#00cc96",
          "symbol": "line-ns-open"
         },
         "name": "993",
         "offsetgroup": "993",
         "showlegend": false,
         "type": "box",
         "x": [
          8.47
         ],
         "xaxis": "x2",
         "yaxis": "y2"
        },
        {
         "alignmentgroup": "True",
         "bingroup": "x",
         "histfunc": "sum",
         "hovertemplate": "Amount of Sales for Price=990<br>index=%{x}<br>sum of Amount of Sales for Price=%{y}<extra></extra>",
         "legendgroup": "990",
         "marker": {
          "color": "#ab63fa"
         },
         "name": "990",
         "offsetgroup": "990",
         "orientation": "v",
         "showlegend": true,
         "type": "histogram",
         "x": [
          6.63
         ],
         "xaxis": "x",
         "y": [
          990
         ],
         "yaxis": "y"
        },
        {
         "alignmentgroup": "True",
         "boxpoints": "all",
         "fillcolor": "rgba(255,255,255,0)",
         "hoveron": "points",
         "hovertemplate": "Amount of Sales for Price=990<br>index=%{x}<extra></extra>",
         "jitter": 0,
         "legendgroup": "990",
         "line": {
          "color": "rgba(255,255,255,0)"
         },
         "marker": {
          "color": "#ab63fa",
          "symbol": "line-ns-open"
         },
         "name": "990",
         "offsetgroup": "990",
         "showlegend": false,
         "type": "box",
         "x": [
          6.63
         ],
         "xaxis": "x2",
         "yaxis": "y2"
        },
        {
         "alignmentgroup": "True",
         "bingroup": "x",
         "histfunc": "sum",
         "hovertemplate": "Amount of Sales for Price=887<br>index=%{x}<br>sum of Amount of Sales for Price=%{y}<extra></extra>",
         "legendgroup": "887",
         "marker": {
          "color": "#FFA15A"
         },
         "name": "887",
         "offsetgroup": "887",
         "orientation": "v",
         "showlegend": true,
         "type": "histogram",
         "x": [
          3.39
         ],
         "xaxis": "x",
         "y": [
          887
         ],
         "yaxis": "y"
        },
        {
         "alignmentgroup": "True",
         "boxpoints": "all",
         "fillcolor": "rgba(255,255,255,0)",
         "hoveron": "points",
         "hovertemplate": "Amount of Sales for Price=887<br>index=%{x}<extra></extra>",
         "jitter": 0,
         "legendgroup": "887",
         "line": {
          "color": "rgba(255,255,255,0)"
         },
         "marker": {
          "color": "#FFA15A",
          "symbol": "line-ns-open"
         },
         "name": "887",
         "offsetgroup": "887",
         "showlegend": false,
         "type": "box",
         "x": [
          3.39
         ],
         "xaxis": "x2",
         "yaxis": "y2"
        },
        {
         "alignmentgroup": "True",
         "bingroup": "x",
         "histfunc": "sum",
         "hovertemplate": "Amount of Sales for Price=873<br>index=%{x}<br>sum of Amount of Sales for Price=%{y}<extra></extra>",
         "legendgroup": "873",
         "marker": {
          "color": "#19d3f3"
         },
         "name": "873",
         "offsetgroup": "873",
         "orientation": "v",
         "showlegend": true,
         "type": "histogram",
         "x": [
          8.95
         ],
         "xaxis": "x",
         "y": [
          873
         ],
         "yaxis": "y"
        },
        {
         "alignmentgroup": "True",
         "boxpoints": "all",
         "fillcolor": "rgba(255,255,255,0)",
         "hoveron": "points",
         "hovertemplate": "Amount of Sales for Price=873<br>index=%{x}<extra></extra>",
         "jitter": 0,
         "legendgroup": "873",
         "line": {
          "color": "rgba(255,255,255,0)"
         },
         "marker": {
          "color": "#19d3f3",
          "symbol": "line-ns-open"
         },
         "name": "873",
         "offsetgroup": "873",
         "showlegend": false,
         "type": "box",
         "x": [
          8.95
         ],
         "xaxis": "x2",
         "yaxis": "y2"
        },
        {
         "alignmentgroup": "True",
         "bingroup": "x",
         "histfunc": "sum",
         "hovertemplate": "Amount of Sales for Price=857<br>index=%{x}<br>sum of Amount of Sales for Price=%{y}<extra></extra>",
         "legendgroup": "857",
         "marker": {
          "color": "#FF6692"
         },
         "name": "857",
         "offsetgroup": "857",
         "orientation": "v",
         "showlegend": true,
         "type": "histogram",
         "x": [
          15.79
         ],
         "xaxis": "x",
         "y": [
          857
         ],
         "yaxis": "y"
        },
        {
         "alignmentgroup": "True",
         "boxpoints": "all",
         "fillcolor": "rgba(255,255,255,0)",
         "hoveron": "points",
         "hovertemplate": "Amount of Sales for Price=857<br>index=%{x}<extra></extra>",
         "jitter": 0,
         "legendgroup": "857",
         "line": {
          "color": "rgba(255,255,255,0)"
         },
         "marker": {
          "color": "#FF6692",
          "symbol": "line-ns-open"
         },
         "name": "857",
         "offsetgroup": "857",
         "showlegend": false,
         "type": "box",
         "x": [
          15.79
         ],
         "xaxis": "x2",
         "yaxis": "y2"
        },
        {
         "alignmentgroup": "True",
         "bingroup": "x",
         "histfunc": "sum",
         "hovertemplate": "Amount of Sales for Price=853<br>index=%{x}<br>sum of Amount of Sales for Price=%{y}<extra></extra>",
         "legendgroup": "853",
         "marker": {
          "color": "#B6E880"
         },
         "name": "853",
         "offsetgroup": "853",
         "orientation": "v",
         "showlegend": true,
         "type": "histogram",
         "x": [
          4.65
         ],
         "xaxis": "x",
         "y": [
          853
         ],
         "yaxis": "y"
        },
        {
         "alignmentgroup": "True",
         "boxpoints": "all",
         "fillcolor": "rgba(255,255,255,0)",
         "hoveron": "points",
         "hovertemplate": "Amount of Sales for Price=853<br>index=%{x}<extra></extra>",
         "jitter": 0,
         "legendgroup": "853",
         "line": {
          "color": "rgba(255,255,255,0)"
         },
         "marker": {
          "color": "#B6E880",
          "symbol": "line-ns-open"
         },
         "name": "853",
         "offsetgroup": "853",
         "showlegend": false,
         "type": "box",
         "x": [
          4.65
         ],
         "xaxis": "x2",
         "yaxis": "y2"
        },
        {
         "alignmentgroup": "True",
         "bingroup": "x",
         "histfunc": "sum",
         "hovertemplate": "Amount of Sales for Price=806<br>index=%{x}<br>sum of Amount of Sales for Price=%{y}<extra></extra>",
         "legendgroup": "806",
         "marker": {
          "color": "#FF97FF"
         },
         "name": "806",
         "offsetgroup": "806",
         "orientation": "v",
         "showlegend": true,
         "type": "histogram",
         "x": [
          1.49
         ],
         "xaxis": "x",
         "y": [
          806
         ],
         "yaxis": "y"
        },
        {
         "alignmentgroup": "True",
         "boxpoints": "all",
         "fillcolor": "rgba(255,255,255,0)",
         "hoveron": "points",
         "hovertemplate": "Amount of Sales for Price=806<br>index=%{x}<extra></extra>",
         "jitter": 0,
         "legendgroup": "806",
         "line": {
          "color": "rgba(255,255,255,0)"
         },
         "marker": {
          "color": "#FF97FF",
          "symbol": "line-ns-open"
         },
         "name": "806",
         "offsetgroup": "806",
         "showlegend": false,
         "type": "box",
         "x": [
          1.49
         ],
         "xaxis": "x2",
         "yaxis": "y2"
        },
        {
         "alignmentgroup": "True",
         "bingroup": "x",
         "histfunc": "sum",
         "hovertemplate": "Amount of Sales for Price=779<br>index=%{x}<br>sum of Amount of Sales for Price=%{y}<extra></extra>",
         "legendgroup": "779",
         "marker": {
          "color": "#FECB52"
         },
         "name": "779",
         "offsetgroup": "779",
         "orientation": "v",
         "showlegend": true,
         "type": "histogram",
         "x": [
          24.96
         ],
         "xaxis": "x",
         "y": [
          779
         ],
         "yaxis": "y"
        },
        {
         "alignmentgroup": "True",
         "boxpoints": "all",
         "fillcolor": "rgba(255,255,255,0)",
         "hoveron": "points",
         "hovertemplate": "Amount of Sales for Price=779<br>index=%{x}<extra></extra>",
         "jitter": 0,
         "legendgroup": "779",
         "line": {
          "color": "rgba(255,255,255,0)"
         },
         "marker": {
          "color": "#FECB52",
          "symbol": "line-ns-open"
         },
         "name": "779",
         "offsetgroup": "779",
         "showlegend": false,
         "type": "box",
         "x": [
          24.96
         ],
         "xaxis": "x2",
         "yaxis": "y2"
        },
        {
         "alignmentgroup": "True",
         "bingroup": "x",
         "histfunc": "sum",
         "hovertemplate": "Amount of Sales for Price=767<br>index=%{x}<br>sum of Amount of Sales for Price=%{y}<extra></extra>",
         "legendgroup": "767",
         "marker": {
          "color": "#636efa"
         },
         "name": "767",
         "offsetgroup": "767",
         "orientation": "v",
         "showlegend": true,
         "type": "histogram",
         "x": [
          5.75
         ],
         "xaxis": "x",
         "y": [
          767
         ],
         "yaxis": "y"
        },
        {
         "alignmentgroup": "True",
         "boxpoints": "all",
         "fillcolor": "rgba(255,255,255,0)",
         "hoveron": "points",
         "hovertemplate": "Amount of Sales for Price=767<br>index=%{x}<extra></extra>",
         "jitter": 0,
         "legendgroup": "767",
         "line": {
          "color": "rgba(255,255,255,0)"
         },
         "marker": {
          "color": "#636efa",
          "symbol": "line-ns-open"
         },
         "name": "767",
         "offsetgroup": "767",
         "showlegend": false,
         "type": "box",
         "x": [
          5.75
         ],
         "xaxis": "x2",
         "yaxis": "y2"
        },
        {
         "alignmentgroup": "True",
         "bingroup": "x",
         "histfunc": "sum",
         "hovertemplate": "Amount of Sales for Price=754<br>index=%{x}<br>sum of Amount of Sales for Price=%{y}<extra></extra>",
         "legendgroup": "754",
         "marker": {
          "color": "#EF553B"
         },
         "name": "754",
         "offsetgroup": "754",
         "orientation": "v",
         "showlegend": true,
         "type": "histogram",
         "x": [
          1.85
         ],
         "xaxis": "x",
         "y": [
          754
         ],
         "yaxis": "y"
        },
        {
         "alignmentgroup": "True",
         "boxpoints": "all",
         "fillcolor": "rgba(255,255,255,0)",
         "hoveron": "points",
         "hovertemplate": "Amount of Sales for Price=754<br>index=%{x}<extra></extra>",
         "jitter": 0,
         "legendgroup": "754",
         "line": {
          "color": "rgba(255,255,255,0)"
         },
         "marker": {
          "color": "#EF553B",
          "symbol": "line-ns-open"
         },
         "name": "754",
         "offsetgroup": "754",
         "showlegend": false,
         "type": "box",
         "x": [
          1.85
         ],
         "xaxis": "x2",
         "yaxis": "y2"
        },
        {
         "alignmentgroup": "True",
         "bingroup": "x",
         "histfunc": "sum",
         "hovertemplate": "Amount of Sales for Price=735<br>index=%{x}<br>sum of Amount of Sales for Price=%{y}<extra></extra>",
         "legendgroup": "735",
         "marker": {
          "color": "#00cc96"
         },
         "name": "735",
         "offsetgroup": "735",
         "orientation": "v",
         "showlegend": true,
         "type": "histogram",
         "x": [
          5.06
         ],
         "xaxis": "x",
         "y": [
          735
         ],
         "yaxis": "y"
        },
        {
         "alignmentgroup": "True",
         "boxpoints": "all",
         "fillcolor": "rgba(255,255,255,0)",
         "hoveron": "points",
         "hovertemplate": "Amount of Sales for Price=735<br>index=%{x}<extra></extra>",
         "jitter": 0,
         "legendgroup": "735",
         "line": {
          "color": "rgba(255,255,255,0)"
         },
         "marker": {
          "color": "#00cc96",
          "symbol": "line-ns-open"
         },
         "name": "735",
         "offsetgroup": "735",
         "showlegend": false,
         "type": "box",
         "x": [
          5.06
         ],
         "xaxis": "x2",
         "yaxis": "y2"
        },
        {
         "alignmentgroup": "True",
         "bingroup": "x",
         "histfunc": "sum",
         "hovertemplate": "Amount of Sales for Price=722<br>index=%{x}<br>sum of Amount of Sales for Price=%{y}<extra></extra>",
         "legendgroup": "722",
         "marker": {
          "color": "#ab63fa"
         },
         "name": "722",
         "offsetgroup": "722",
         "orientation": "v",
         "showlegend": true,
         "type": "histogram",
         "x": [
          18
         ],
         "xaxis": "x",
         "y": [
          722
         ],
         "yaxis": "y"
        },
        {
         "alignmentgroup": "True",
         "boxpoints": "all",
         "fillcolor": "rgba(255,255,255,0)",
         "hoveron": "points",
         "hovertemplate": "Amount of Sales for Price=722<br>index=%{x}<extra></extra>",
         "jitter": 0,
         "legendgroup": "722",
         "line": {
          "color": "rgba(255,255,255,0)"
         },
         "marker": {
          "color": "#ab63fa",
          "symbol": "line-ns-open"
         },
         "name": "722",
         "offsetgroup": "722",
         "showlegend": false,
         "type": "box",
         "x": [
          18
         ],
         "xaxis": "x2",
         "yaxis": "y2"
        },
        {
         "alignmentgroup": "True",
         "bingroup": "x",
         "histfunc": "sum",
         "hovertemplate": "Amount of Sales for Price=691<br>index=%{x}<br>sum of Amount of Sales for Price=%{y}<extra></extra>",
         "legendgroup": "691",
         "marker": {
          "color": "#FFA15A"
         },
         "name": "691",
         "offsetgroup": "691",
         "orientation": "v",
         "showlegend": true,
         "type": "histogram",
         "x": [
          7.62
         ],
         "xaxis": "x",
         "y": [
          691
         ],
         "yaxis": "y"
        },
        {
         "alignmentgroup": "True",
         "boxpoints": "all",
         "fillcolor": "rgba(255,255,255,0)",
         "hoveron": "points",
         "hovertemplate": "Amount of Sales for Price=691<br>index=%{x}<extra></extra>",
         "jitter": 0,
         "legendgroup": "691",
         "line": {
          "color": "rgba(255,255,255,0)"
         },
         "marker": {
          "color": "#FFA15A",
          "symbol": "line-ns-open"
         },
         "name": "691",
         "offsetgroup": "691",
         "showlegend": false,
         "type": "box",
         "x": [
          7.62
         ],
         "xaxis": "x2",
         "yaxis": "y2"
        },
        {
         "alignmentgroup": "True",
         "bingroup": "x",
         "histfunc": "sum",
         "hovertemplate": "Amount of Sales for Price=671<br>index=%{x}<br>sum of Amount of Sales for Price=%{y}<extra></extra>",
         "legendgroup": "671",
         "marker": {
          "color": "#19d3f3"
         },
         "name": "671",
         "offsetgroup": "671",
         "orientation": "v",
         "showlegend": true,
         "type": "histogram",
         "x": [
          7.5
         ],
         "xaxis": "x",
         "y": [
          671
         ],
         "yaxis": "y"
        },
        {
         "alignmentgroup": "True",
         "boxpoints": "all",
         "fillcolor": "rgba(255,255,255,0)",
         "hoveron": "points",
         "hovertemplate": "Amount of Sales for Price=671<br>index=%{x}<extra></extra>",
         "jitter": 0,
         "legendgroup": "671",
         "line": {
          "color": "rgba(255,255,255,0)"
         },
         "marker": {
          "color": "#19d3f3",
          "symbol": "line-ns-open"
         },
         "name": "671",
         "offsetgroup": "671",
         "showlegend": false,
         "type": "box",
         "x": [
          7.5
         ],
         "xaxis": "x2",
         "yaxis": "y2"
        },
        {
         "alignmentgroup": "True",
         "bingroup": "x",
         "histfunc": "sum",
         "hovertemplate": "Amount of Sales for Price=641<br>index=%{x}<br>sum of Amount of Sales for Price=%{y}<extra></extra>",
         "legendgroup": "641",
         "marker": {
          "color": "#FF6692"
         },
         "name": "641",
         "offsetgroup": "641",
         "orientation": "v",
         "showlegend": true,
         "type": "histogram",
         "x": [
          0.12
         ],
         "xaxis": "x",
         "y": [
          641
         ],
         "yaxis": "y"
        },
        {
         "alignmentgroup": "True",
         "boxpoints": "all",
         "fillcolor": "rgba(255,255,255,0)",
         "hoveron": "points",
         "hovertemplate": "Amount of Sales for Price=641<br>index=%{x}<extra></extra>",
         "jitter": 0,
         "legendgroup": "641",
         "line": {
          "color": "rgba(255,255,255,0)"
         },
         "marker": {
          "color": "#FF6692",
          "symbol": "line-ns-open"
         },
         "name": "641",
         "offsetgroup": "641",
         "showlegend": false,
         "type": "box",
         "x": [
          0.12
         ],
         "xaxis": "x2",
         "yaxis": "y2"
        },
        {
         "alignmentgroup": "True",
         "bingroup": "x",
         "histfunc": "sum",
         "hovertemplate": "Amount of Sales for Price=600<br>index=%{x}<br>sum of Amount of Sales for Price=%{y}<extra></extra>",
         "legendgroup": "600",
         "marker": {
          "color": "#B6E880"
         },
         "name": "600",
         "offsetgroup": "600",
         "orientation": "v",
         "showlegend": true,
         "type": "histogram",
         "x": [
          0.75
         ],
         "xaxis": "x",
         "y": [
          600
         ],
         "yaxis": "y"
        },
        {
         "alignmentgroup": "True",
         "boxpoints": "all",
         "fillcolor": "rgba(255,255,255,0)",
         "hoveron": "points",
         "hovertemplate": "Amount of Sales for Price=600<br>index=%{x}<extra></extra>",
         "jitter": 0,
         "legendgroup": "600",
         "line": {
          "color": "rgba(255,255,255,0)"
         },
         "marker": {
          "color": "#B6E880",
          "symbol": "line-ns-open"
         },
         "name": "600",
         "offsetgroup": "600",
         "showlegend": false,
         "type": "box",
         "x": [
          0.75
         ],
         "xaxis": "x2",
         "yaxis": "y2"
        },
        {
         "alignmentgroup": "True",
         "bingroup": "x",
         "histfunc": "sum",
         "hovertemplate": "Amount of Sales for Price=583<br>index=%{x}<br>sum of Amount of Sales for Price=%{y}<extra></extra>",
         "legendgroup": "583",
         "marker": {
          "color": "#FF97FF"
         },
         "name": "583",
         "offsetgroup": "583",
         "orientation": "v",
         "showlegend": true,
         "type": "histogram",
         "x": [
          0.63
         ],
         "xaxis": "x",
         "y": [
          583
         ],
         "yaxis": "y"
        },
        {
         "alignmentgroup": "True",
         "boxpoints": "all",
         "fillcolor": "rgba(255,255,255,0)",
         "hoveron": "points",
         "hovertemplate": "Amount of Sales for Price=583<br>index=%{x}<extra></extra>",
         "jitter": 0,
         "legendgroup": "583",
         "line": {
          "color": "rgba(255,255,255,0)"
         },
         "marker": {
          "color": "#FF97FF",
          "symbol": "line-ns-open"
         },
         "name": "583",
         "offsetgroup": "583",
         "showlegend": false,
         "type": "box",
         "x": [
          0.63
         ],
         "xaxis": "x2",
         "yaxis": "y2"
        },
        {
         "alignmentgroup": "True",
         "bingroup": "x",
         "histfunc": "sum",
         "hovertemplate": "Amount of Sales for Price=576<br>index=%{x}<br>sum of Amount of Sales for Price=%{y}<extra></extra>",
         "legendgroup": "576",
         "marker": {
          "color": "#FECB52"
         },
         "name": "576",
         "offsetgroup": "576",
         "orientation": "v",
         "showlegend": true,
         "type": "histogram",
         "x": [
          2.92
         ],
         "xaxis": "x",
         "y": [
          576
         ],
         "yaxis": "y"
        },
        {
         "alignmentgroup": "True",
         "boxpoints": "all",
         "fillcolor": "rgba(255,255,255,0)",
         "hoveron": "points",
         "hovertemplate": "Amount of Sales for Price=576<br>index=%{x}<extra></extra>",
         "jitter": 0,
         "legendgroup": "576",
         "line": {
          "color": "rgba(255,255,255,0)"
         },
         "marker": {
          "color": "#FECB52",
          "symbol": "line-ns-open"
         },
         "name": "576",
         "offsetgroup": "576",
         "showlegend": false,
         "type": "box",
         "x": [
          2.92
         ],
         "xaxis": "x2",
         "yaxis": "y2"
        },
        {
         "alignmentgroup": "True",
         "bingroup": "x",
         "histfunc": "sum",
         "hovertemplate": "Amount of Sales for Price=563<br>index=%{x}<br>sum of Amount of Sales for Price=%{y}<extra></extra>",
         "legendgroup": "563",
         "marker": {
          "color": "#636efa"
         },
         "name": "563",
         "offsetgroup": "563",
         "orientation": "v",
         "showlegend": true,
         "type": "histogram",
         "x": [
          9.96
         ],
         "xaxis": "x",
         "y": [
          563
         ],
         "yaxis": "y"
        },
        {
         "alignmentgroup": "True",
         "boxpoints": "all",
         "fillcolor": "rgba(255,255,255,0)",
         "hoveron": "points",
         "hovertemplate": "Amount of Sales for Price=563<br>index=%{x}<extra></extra>",
         "jitter": 0,
         "legendgroup": "563",
         "line": {
          "color": "rgba(255,255,255,0)"
         },
         "marker": {
          "color": "#636efa",
          "symbol": "line-ns-open"
         },
         "name": "563",
         "offsetgroup": "563",
         "showlegend": false,
         "type": "box",
         "x": [
          9.96
         ],
         "xaxis": "x2",
         "yaxis": "y2"
        },
        {
         "alignmentgroup": "True",
         "bingroup": "x",
         "histfunc": "sum",
         "hovertemplate": "Amount of Sales for Price=545<br>index=%{x}<br>sum of Amount of Sales for Price=%{y}<extra></extra>",
         "legendgroup": "545",
         "marker": {
          "color": "#EF553B"
         },
         "name": "545",
         "offsetgroup": "545",
         "orientation": "v",
         "showlegend": true,
         "type": "histogram",
         "x": [
          7.65
         ],
         "xaxis": "x",
         "y": [
          545
         ],
         "yaxis": "y"
        },
        {
         "alignmentgroup": "True",
         "boxpoints": "all",
         "fillcolor": "rgba(255,255,255,0)",
         "hoveron": "points",
         "hovertemplate": "Amount of Sales for Price=545<br>index=%{x}<extra></extra>",
         "jitter": 0,
         "legendgroup": "545",
         "line": {
          "color": "rgba(255,255,255,0)"
         },
         "marker": {
          "color": "#EF553B",
          "symbol": "line-ns-open"
         },
         "name": "545",
         "offsetgroup": "545",
         "showlegend": false,
         "type": "box",
         "x": [
          7.65
         ],
         "xaxis": "x2",
         "yaxis": "y2"
        },
        {
         "alignmentgroup": "True",
         "bingroup": "x",
         "histfunc": "sum",
         "hovertemplate": "Amount of Sales for Price=534<br>index=%{x}<br>sum of Amount of Sales for Price=%{y}<extra></extra>",
         "legendgroup": "534",
         "marker": {
          "color": "#00cc96"
         },
         "name": "534",
         "offsetgroup": "534",
         "orientation": "v",
         "showlegend": true,
         "type": "histogram",
         "x": [
          0.43
         ],
         "xaxis": "x",
         "y": [
          534
         ],
         "yaxis": "y"
        },
        {
         "alignmentgroup": "True",
         "boxpoints": "all",
         "fillcolor": "rgba(255,255,255,0)",
         "hoveron": "points",
         "hovertemplate": "Amount of Sales for Price=534<br>index=%{x}<extra></extra>",
         "jitter": 0,
         "legendgroup": "534",
         "line": {
          "color": "rgba(255,255,255,0)"
         },
         "marker": {
          "color": "#00cc96",
          "symbol": "line-ns-open"
         },
         "name": "534",
         "offsetgroup": "534",
         "showlegend": false,
         "type": "box",
         "x": [
          0.43
         ],
         "xaxis": "x2",
         "yaxis": "y2"
        },
        {
         "alignmentgroup": "True",
         "bingroup": "x",
         "histfunc": "sum",
         "hovertemplate": "Amount of Sales for Price=517<br>index=%{x}<br>sum of Amount of Sales for Price=%{y}<extra></extra>",
         "legendgroup": "517",
         "marker": {
          "color": "#ab63fa"
         },
         "name": "517",
         "offsetgroup": "517",
         "orientation": "v",
         "showlegend": true,
         "type": "histogram",
         "x": [
          1.28
         ],
         "xaxis": "x",
         "y": [
          517
         ],
         "yaxis": "y"
        },
        {
         "alignmentgroup": "True",
         "boxpoints": "all",
         "fillcolor": "rgba(255,255,255,0)",
         "hoveron": "points",
         "hovertemplate": "Amount of Sales for Price=517<br>index=%{x}<extra></extra>",
         "jitter": 0,
         "legendgroup": "517",
         "line": {
          "color": "rgba(255,255,255,0)"
         },
         "marker": {
          "color": "#ab63fa",
          "symbol": "line-ns-open"
         },
         "name": "517",
         "offsetgroup": "517",
         "showlegend": false,
         "type": "box",
         "x": [
          1.28
         ],
         "xaxis": "x2",
         "yaxis": "y2"
        },
        {
         "alignmentgroup": "True",
         "bingroup": "x",
         "histfunc": "sum",
         "hovertemplate": "Amount of Sales for Price=507<br>index=%{x}<br>sum of Amount of Sales for Price=%{y}<extra></extra>",
         "legendgroup": "507",
         "marker": {
          "color": "#FFA15A"
         },
         "name": "507",
         "offsetgroup": "507",
         "orientation": "v",
         "showlegend": true,
         "type": "histogram",
         "x": [
          14.13
         ],
         "xaxis": "x",
         "y": [
          507
         ],
         "yaxis": "y"
        },
        {
         "alignmentgroup": "True",
         "boxpoints": "all",
         "fillcolor": "rgba(255,255,255,0)",
         "hoveron": "points",
         "hovertemplate": "Amount of Sales for Price=507<br>index=%{x}<extra></extra>",
         "jitter": 0,
         "legendgroup": "507",
         "line": {
          "color": "rgba(255,255,255,0)"
         },
         "marker": {
          "color": "#FFA15A",
          "symbol": "line-ns-open"
         },
         "name": "507",
         "offsetgroup": "507",
         "showlegend": false,
         "type": "box",
         "x": [
          14.13
         ],
         "xaxis": "x2",
         "yaxis": "y2"
        },
        {
         "alignmentgroup": "True",
         "bingroup": "x",
         "histfunc": "sum",
         "hovertemplate": "Amount of Sales for Price=500<br>index=%{x}<br>sum of Amount of Sales for Price=%{y}<extra></extra>",
         "legendgroup": "500",
         "marker": {
          "color": "#19d3f3"
         },
         "name": "500",
         "offsetgroup": "500",
         "orientation": "v",
         "showlegend": true,
         "type": "histogram",
         "x": [
          0.36
         ],
         "xaxis": "x",
         "y": [
          500
         ],
         "yaxis": "y"
        },
        {
         "alignmentgroup": "True",
         "boxpoints": "all",
         "fillcolor": "rgba(255,255,255,0)",
         "hoveron": "points",
         "hovertemplate": "Amount of Sales for Price=500<br>index=%{x}<extra></extra>",
         "jitter": 0,
         "legendgroup": "500",
         "line": {
          "color": "rgba(255,255,255,0)"
         },
         "marker": {
          "color": "#19d3f3",
          "symbol": "line-ns-open"
         },
         "name": "500",
         "offsetgroup": "500",
         "showlegend": false,
         "type": "box",
         "x": [
          0.36
         ],
         "xaxis": "x2",
         "yaxis": "y2"
        },
        {
         "alignmentgroup": "True",
         "bingroup": "x",
         "histfunc": "sum",
         "hovertemplate": "Amount of Sales for Price=459<br>index=%{x}<br>sum of Amount of Sales for Price=%{y}<extra></extra>",
         "legendgroup": "459",
         "marker": {
          "color": "#FF6692"
         },
         "name": "459",
         "offsetgroup": "459",
         "orientation": "v",
         "showlegend": true,
         "type": "histogram",
         "x": [
          20.79
         ],
         "xaxis": "x",
         "y": [
          459
         ],
         "yaxis": "y"
        },
        {
         "alignmentgroup": "True",
         "boxpoints": "all",
         "fillcolor": "rgba(255,255,255,0)",
         "hoveron": "points",
         "hovertemplate": "Amount of Sales for Price=459<br>index=%{x}<extra></extra>",
         "jitter": 0,
         "legendgroup": "459",
         "line": {
          "color": "rgba(255,255,255,0)"
         },
         "marker": {
          "color": "#FF6692",
          "symbol": "line-ns-open"
         },
         "name": "459",
         "offsetgroup": "459",
         "showlegend": false,
         "type": "box",
         "x": [
          20.79
         ],
         "xaxis": "x2",
         "yaxis": "y2"
        },
        {
         "alignmentgroup": "True",
         "bingroup": "x",
         "histfunc": "sum",
         "hovertemplate": "Amount of Sales for Price=445<br>index=%{x}<br>sum of Amount of Sales for Price=%{y}<extra></extra>",
         "legendgroup": "445",
         "marker": {
          "color": "#B6E880"
         },
         "name": "445",
         "offsetgroup": "445",
         "orientation": "v",
         "showlegend": true,
         "type": "histogram",
         "x": [
          6.35
         ],
         "xaxis": "x",
         "y": [
          445
         ],
         "yaxis": "y"
        },
        {
         "alignmentgroup": "True",
         "boxpoints": "all",
         "fillcolor": "rgba(255,255,255,0)",
         "hoveron": "points",
         "hovertemplate": "Amount of Sales for Price=445<br>index=%{x}<extra></extra>",
         "jitter": 0,
         "legendgroup": "445",
         "line": {
          "color": "rgba(255,255,255,0)"
         },
         "marker": {
          "color": "#B6E880",
          "symbol": "line-ns-open"
         },
         "name": "445",
         "offsetgroup": "445",
         "showlegend": false,
         "type": "box",
         "x": [
          6.35
         ],
         "xaxis": "x2",
         "yaxis": "y2"
        },
        {
         "alignmentgroup": "True",
         "bingroup": "x",
         "histfunc": "sum",
         "hovertemplate": "Amount of Sales for Price=438<br>index=%{x}<br>sum of Amount of Sales for Price=%{y}<extra></extra>",
         "legendgroup": "438",
         "marker": {
          "color": "#FF97FF"
         },
         "name": "438",
         "offsetgroup": "438",
         "orientation": "v",
         "showlegend": true,
         "type": "histogram",
         "x": [
          19.96
         ],
         "xaxis": "x",
         "y": [
          438
         ],
         "yaxis": "y"
        },
        {
         "alignmentgroup": "True",
         "boxpoints": "all",
         "fillcolor": "rgba(255,255,255,0)",
         "hoveron": "points",
         "hovertemplate": "Amount of Sales for Price=438<br>index=%{x}<extra></extra>",
         "jitter": 0,
         "legendgroup": "438",
         "line": {
          "color": "rgba(255,255,255,0)"
         },
         "marker": {
          "color": "#FF97FF",
          "symbol": "line-ns-open"
         },
         "name": "438",
         "offsetgroup": "438",
         "showlegend": false,
         "type": "box",
         "x": [
          19.96
         ],
         "xaxis": "x2",
         "yaxis": "y2"
        },
        {
         "alignmentgroup": "True",
         "bingroup": "x",
         "histfunc": "sum",
         "hovertemplate": "Amount of Sales for Price=378<br>index=%{x}<br>sum of Amount of Sales for Price=%{y}<extra></extra>",
         "legendgroup": "378",
         "marker": {
          "color": "#FECB52"
         },
         "name": "378",
         "offsetgroup": "378",
         "orientation": "v",
         "showlegend": true,
         "type": "histogram",
         "x": [
          13.29
         ],
         "xaxis": "x",
         "y": [
          378
         ],
         "yaxis": "y"
        },
        {
         "alignmentgroup": "True",
         "boxpoints": "all",
         "fillcolor": "rgba(255,255,255,0)",
         "hoveron": "points",
         "hovertemplate": "Amount of Sales for Price=378<br>index=%{x}<extra></extra>",
         "jitter": 0,
         "legendgroup": "378",
         "line": {
          "color": "rgba(255,255,255,0)"
         },
         "marker": {
          "color": "#FECB52",
          "symbol": "line-ns-open"
         },
         "name": "378",
         "offsetgroup": "378",
         "showlegend": false,
         "type": "box",
         "x": [
          13.29
         ],
         "xaxis": "x2",
         "yaxis": "y2"
        },
        {
         "alignmentgroup": "True",
         "bingroup": "x",
         "histfunc": "sum",
         "hovertemplate": "Amount of Sales for Price=357<br>index=%{x}<br>sum of Amount of Sales for Price=%{y}<extra></extra>",
         "legendgroup": "357",
         "marker": {
          "color": "#636efa"
         },
         "name": "357",
         "offsetgroup": "357",
         "orientation": "v",
         "showlegend": true,
         "type": "histogram",
         "x": [
          11.02
         ],
         "xaxis": "x",
         "y": [
          357
         ],
         "yaxis": "y"
        },
        {
         "alignmentgroup": "True",
         "boxpoints": "all",
         "fillcolor": "rgba(255,255,255,0)",
         "hoveron": "points",
         "hovertemplate": "Amount of Sales for Price=357<br>index=%{x}<extra></extra>",
         "jitter": 0,
         "legendgroup": "357",
         "line": {
          "color": "rgba(255,255,255,0)"
         },
         "marker": {
          "color": "#636efa",
          "symbol": "line-ns-open"
         },
         "name": "357",
         "offsetgroup": "357",
         "showlegend": false,
         "type": "box",
         "x": [
          11.02
         ],
         "xaxis": "x2",
         "yaxis": "y2"
        },
        {
         "alignmentgroup": "True",
         "bingroup": "x",
         "histfunc": "sum",
         "hovertemplate": "Amount of Sales for Price=341<br>index=%{x}<br>sum of Amount of Sales for Price=%{y}<extra></extra>",
         "legendgroup": "341",
         "marker": {
          "color": "#EF553B"
         },
         "name": "341",
         "offsetgroup": "341",
         "orientation": "v",
         "showlegend": true,
         "type": "histogram",
         "x": [
          7.08
         ],
         "xaxis": "x",
         "y": [
          341
         ],
         "yaxis": "y"
        },
        {
         "alignmentgroup": "True",
         "boxpoints": "all",
         "fillcolor": "rgba(255,255,255,0)",
         "hoveron": "points",
         "hovertemplate": "Amount of Sales for Price=341<br>index=%{x}<extra></extra>",
         "jitter": 0,
         "legendgroup": "341",
         "line": {
          "color": "rgba(255,255,255,0)"
         },
         "marker": {
          "color": "#EF553B",
          "symbol": "line-ns-open"
         },
         "name": "341",
         "offsetgroup": "341",
         "showlegend": false,
         "type": "box",
         "x": [
          7.08
         ],
         "xaxis": "x2",
         "yaxis": "y2"
        },
        {
         "alignmentgroup": "True",
         "bingroup": "x",
         "histfunc": "sum",
         "hovertemplate": "Amount of Sales for Price=337<br>index=%{x}<br>sum of Amount of Sales for Price=%{y}<extra></extra>",
         "legendgroup": "337",
         "marker": {
          "color": "#00cc96"
         },
         "name": "337",
         "offsetgroup": "337",
         "orientation": "v",
         "showlegend": true,
         "type": "histogram",
         "x": [
          0.38
         ],
         "xaxis": "x",
         "y": [
          337
         ],
         "yaxis": "y"
        },
        {
         "alignmentgroup": "True",
         "boxpoints": "all",
         "fillcolor": "rgba(255,255,255,0)",
         "hoveron": "points",
         "hovertemplate": "Amount of Sales for Price=337<br>index=%{x}<extra></extra>",
         "jitter": 0,
         "legendgroup": "337",
         "line": {
          "color": "rgba(255,255,255,0)"
         },
         "marker": {
          "color": "#00cc96",
          "symbol": "line-ns-open"
         },
         "name": "337",
         "offsetgroup": "337",
         "showlegend": false,
         "type": "box",
         "x": [
          0.38
         ],
         "xaxis": "x2",
         "yaxis": "y2"
        },
        {
         "alignmentgroup": "True",
         "bingroup": "x",
         "histfunc": "sum",
         "hovertemplate": "Amount of Sales for Price=326<br>index=%{x}<br>sum of Amount of Sales for Price=%{y}<extra></extra>",
         "legendgroup": "326",
         "marker": {
          "color": "#ab63fa"
         },
         "name": "326",
         "offsetgroup": "326",
         "orientation": "v",
         "showlegend": true,
         "type": "histogram",
         "x": [
          2.9
         ],
         "xaxis": "x",
         "y": [
          326
         ],
         "yaxis": "y"
        },
        {
         "alignmentgroup": "True",
         "boxpoints": "all",
         "fillcolor": "rgba(255,255,255,0)",
         "hoveron": "points",
         "hovertemplate": "Amount of Sales for Price=326<br>index=%{x}<extra></extra>",
         "jitter": 0,
         "legendgroup": "326",
         "line": {
          "color": "rgba(255,255,255,0)"
         },
         "marker": {
          "color": "#ab63fa",
          "symbol": "line-ns-open"
         },
         "name": "326",
         "offsetgroup": "326",
         "showlegend": false,
         "type": "box",
         "x": [
          2.9
         ],
         "xaxis": "x2",
         "yaxis": "y2"
        },
        {
         "alignmentgroup": "True",
         "bingroup": "x",
         "histfunc": "sum",
         "hovertemplate": "Amount of Sales for Price=308<br>index=%{x}<br>sum of Amount of Sales for Price=%{y}<extra></extra>",
         "legendgroup": "308",
         "marker": {
          "color": "#FFA15A"
         },
         "name": "308",
         "offsetgroup": "308",
         "orientation": "v",
         "showlegend": true,
         "type": "histogram",
         "x": [
          0.82
         ],
         "xaxis": "x",
         "y": [
          308
         ],
         "yaxis": "y"
        },
        {
         "alignmentgroup": "True",
         "boxpoints": "all",
         "fillcolor": "rgba(255,255,255,0)",
         "hoveron": "points",
         "hovertemplate": "Amount of Sales for Price=308<br>index=%{x}<extra></extra>",
         "jitter": 0,
         "legendgroup": "308",
         "line": {
          "color": "rgba(255,255,255,0)"
         },
         "marker": {
          "color": "#FFA15A",
          "symbol": "line-ns-open"
         },
         "name": "308",
         "offsetgroup": "308",
         "showlegend": false,
         "type": "box",
         "x": [
          0.82
         ],
         "xaxis": "x2",
         "yaxis": "y2"
        },
        {
         "alignmentgroup": "True",
         "bingroup": "x",
         "histfunc": "sum",
         "hovertemplate": "Amount of Sales for Price=304<br>index=%{x}<br>sum of Amount of Sales for Price=%{y}<extra></extra>",
         "legendgroup": "304",
         "marker": {
          "color": "#19d3f3"
         },
         "name": "304",
         "offsetgroup": "304",
         "orientation": "v",
         "showlegend": true,
         "type": "histogram",
         "x": [
          11.63
         ],
         "xaxis": "x",
         "y": [
          304
         ],
         "yaxis": "y"
        },
        {
         "alignmentgroup": "True",
         "boxpoints": "all",
         "fillcolor": "rgba(255,255,255,0)",
         "hoveron": "points",
         "hovertemplate": "Amount of Sales for Price=304<br>index=%{x}<extra></extra>",
         "jitter": 0,
         "legendgroup": "304",
         "line": {
          "color": "rgba(255,255,255,0)"
         },
         "marker": {
          "color": "#19d3f3",
          "symbol": "line-ns-open"
         },
         "name": "304",
         "offsetgroup": "304",
         "showlegend": false,
         "type": "box",
         "x": [
          11.63
         ],
         "xaxis": "x2",
         "yaxis": "y2"
        },
        {
         "alignmentgroup": "True",
         "bingroup": "x",
         "histfunc": "sum",
         "hovertemplate": "Amount of Sales for Price=303<br>index=%{x}<br>sum of Amount of Sales for Price=%{y}<extra></extra>",
         "legendgroup": "303",
         "marker": {
          "color": "#FF6692"
         },
         "name": "303",
         "offsetgroup": "303",
         "orientation": "v",
         "showlegend": true,
         "type": "histogram",
         "x": [
          3.45
         ],
         "xaxis": "x",
         "y": [
          303
         ],
         "yaxis": "y"
        },
        {
         "alignmentgroup": "True",
         "boxpoints": "all",
         "fillcolor": "rgba(255,255,255,0)",
         "hoveron": "points",
         "hovertemplate": "Amount of Sales for Price=303<br>index=%{x}<extra></extra>",
         "jitter": 0,
         "legendgroup": "303",
         "line": {
          "color": "rgba(255,255,255,0)"
         },
         "marker": {
          "color": "#FF6692",
          "symbol": "line-ns-open"
         },
         "name": "303",
         "offsetgroup": "303",
         "showlegend": false,
         "type": "box",
         "x": [
          3.45
         ],
         "xaxis": "x2",
         "yaxis": "y2"
        },
        {
         "alignmentgroup": "True",
         "bingroup": "x",
         "histfunc": "sum",
         "hovertemplate": "Amount of Sales for Price=296<br>index=%{x}<br>sum of Amount of Sales for Price=%{y}<extra></extra>",
         "legendgroup": "296",
         "marker": {
          "color": "#B6E880"
         },
         "name": "296",
         "offsetgroup": "296",
         "orientation": "v",
         "showlegend": true,
         "type": "histogram",
         "x": [
          1.04
         ],
         "xaxis": "x",
         "y": [
          296
         ],
         "yaxis": "y"
        },
        {
         "alignmentgroup": "True",
         "boxpoints": "all",
         "fillcolor": "rgba(255,255,255,0)",
         "hoveron": "points",
         "hovertemplate": "Amount of Sales for Price=296<br>index=%{x}<extra></extra>",
         "jitter": 0,
         "legendgroup": "296",
         "line": {
          "color": "rgba(255,255,255,0)"
         },
         "marker": {
          "color": "#B6E880",
          "symbol": "line-ns-open"
         },
         "name": "296",
         "offsetgroup": "296",
         "showlegend": false,
         "type": "box",
         "x": [
          1.04
         ],
         "xaxis": "x2",
         "yaxis": "y2"
        },
        {
         "alignmentgroup": "True",
         "bingroup": "x",
         "histfunc": "sum",
         "hovertemplate": "Amount of Sales for Price=273<br>index=%{x}<br>sum of Amount of Sales for Price=%{y}<extra></extra>",
         "legendgroup": "273",
         "marker": {
          "color": "#FF97FF"
         },
         "name": "273",
         "offsetgroup": "273",
         "orientation": "v",
         "showlegend": true,
         "type": "histogram",
         "x": [
          3.35
         ],
         "xaxis": "x",
         "y": [
          273
         ],
         "yaxis": "y"
        },
        {
         "alignmentgroup": "True",
         "boxpoints": "all",
         "fillcolor": "rgba(255,255,255,0)",
         "hoveron": "points",
         "hovertemplate": "Amount of Sales for Price=273<br>index=%{x}<extra></extra>",
         "jitter": 0,
         "legendgroup": "273",
         "line": {
          "color": "rgba(255,255,255,0)"
         },
         "marker": {
          "color": "#FF97FF",
          "symbol": "line-ns-open"
         },
         "name": "273",
         "offsetgroup": "273",
         "showlegend": false,
         "type": "box",
         "x": [
          3.35
         ],
         "xaxis": "x2",
         "yaxis": "y2"
        },
        {
         "alignmentgroup": "True",
         "bingroup": "x",
         "histfunc": "sum",
         "hovertemplate": "Amount of Sales for Price=262<br>index=%{x}<br>sum of Amount of Sales for Price=%{y}<extra></extra>",
         "legendgroup": "262",
         "marker": {
          "color": "#FECB52"
         },
         "name": "262",
         "offsetgroup": "262",
         "orientation": "v",
         "showlegend": true,
         "type": "histogram",
         "x": [
          4.58
         ],
         "xaxis": "x",
         "y": [
          262
         ],
         "yaxis": "y"
        },
        {
         "alignmentgroup": "True",
         "boxpoints": "all",
         "fillcolor": "rgba(255,255,255,0)",
         "hoveron": "points",
         "hovertemplate": "Amount of Sales for Price=262<br>index=%{x}<extra></extra>",
         "jitter": 0,
         "legendgroup": "262",
         "line": {
          "color": "rgba(255,255,255,0)"
         },
         "marker": {
          "color": "#FECB52",
          "symbol": "line-ns-open"
         },
         "name": "262",
         "offsetgroup": "262",
         "showlegend": false,
         "type": "box",
         "x": [
          4.58
         ],
         "xaxis": "x2",
         "yaxis": "y2"
        },
        {
         "alignmentgroup": "True",
         "bingroup": "x",
         "histfunc": "sum",
         "hovertemplate": "Amount of Sales for Price=257<br>index=%{x}<br>sum of Amount of Sales for Price=%{y}<extra></extra>",
         "legendgroup": "257",
         "marker": {
          "color": "#636efa"
         },
         "name": "257",
         "offsetgroup": "257",
         "orientation": "v",
         "showlegend": true,
         "type": "histogram",
         "x": [
          16.98
         ],
         "xaxis": "x",
         "y": [
          257
         ],
         "yaxis": "y"
        },
        {
         "alignmentgroup": "True",
         "boxpoints": "all",
         "fillcolor": "rgba(255,255,255,0)",
         "hoveron": "points",
         "hovertemplate": "Amount of Sales for Price=257<br>index=%{x}<extra></extra>",
         "jitter": 0,
         "legendgroup": "257",
         "line": {
          "color": "rgba(255,255,255,0)"
         },
         "marker": {
          "color": "#636efa",
          "symbol": "line-ns-open"
         },
         "name": "257",
         "offsetgroup": "257",
         "showlegend": false,
         "type": "box",
         "x": [
          16.98
         ],
         "xaxis": "x2",
         "yaxis": "y2"
        },
        {
         "alignmentgroup": "True",
         "bingroup": "x",
         "histfunc": "sum",
         "hovertemplate": "Amount of Sales for Price=240<br>index=%{x}<br>sum of Amount of Sales for Price=%{y}<extra></extra>",
         "legendgroup": "240",
         "marker": {
          "color": "#EF553B"
         },
         "name": "240",
         "offsetgroup": "240",
         "orientation": "v",
         "showlegend": true,
         "type": "histogram",
         "x": [
          15
         ],
         "xaxis": "x",
         "y": [
          240
         ],
         "yaxis": "y"
        },
        {
         "alignmentgroup": "True",
         "boxpoints": "all",
         "fillcolor": "rgba(255,255,255,0)",
         "hoveron": "points",
         "hovertemplate": "Amount of Sales for Price=240<br>index=%{x}<extra></extra>",
         "jitter": 0,
         "legendgroup": "240",
         "line": {
          "color": "rgba(255,255,255,0)"
         },
         "marker": {
          "color": "#EF553B",
          "symbol": "line-ns-open"
         },
         "name": "240",
         "offsetgroup": "240",
         "showlegend": false,
         "type": "box",
         "x": [
          15
         ],
         "xaxis": "x2",
         "yaxis": "y2"
        },
        {
         "alignmentgroup": "True",
         "bingroup": "x",
         "histfunc": "sum",
         "hovertemplate": "Amount of Sales for Price=238<br>index=%{x}<br>sum of Amount of Sales for Price=%{y}<extra></extra>",
         "legendgroup": "238",
         "marker": {
          "color": "#00cc96"
         },
         "name": "238",
         "offsetgroup": "238",
         "orientation": "v",
         "showlegend": true,
         "type": "histogram",
         "x": [
          9.13
         ],
         "xaxis": "x",
         "y": [
          238
         ],
         "yaxis": "y"
        },
        {
         "alignmentgroup": "True",
         "boxpoints": "all",
         "fillcolor": "rgba(255,255,255,0)",
         "hoveron": "points",
         "hovertemplate": "Amount of Sales for Price=238<br>index=%{x}<extra></extra>",
         "jitter": 0,
         "legendgroup": "238",
         "line": {
          "color": "rgba(255,255,255,0)"
         },
         "marker": {
          "color": "#00cc96",
          "symbol": "line-ns-open"
         },
         "name": "238",
         "offsetgroup": "238",
         "showlegend": false,
         "type": "box",
         "x": [
          9.13
         ],
         "xaxis": "x2",
         "yaxis": "y2"
        },
        {
         "alignmentgroup": "True",
         "bingroup": "x",
         "histfunc": "sum",
         "hovertemplate": "Amount of Sales for Price=223<br>index=%{x}<br>sum of Amount of Sales for Price=%{y}<extra></extra>",
         "legendgroup": "223",
         "marker": {
          "color": "#ab63fa"
         },
         "name": "223",
         "offsetgroup": "223",
         "orientation": "v",
         "showlegend": true,
         "type": "histogram",
         "x": [
          8.15
         ],
         "xaxis": "x",
         "y": [
          223
         ],
         "yaxis": "y"
        },
        {
         "alignmentgroup": "True",
         "boxpoints": "all",
         "fillcolor": "rgba(255,255,255,0)",
         "hoveron": "points",
         "hovertemplate": "Amount of Sales for Price=223<br>index=%{x}<extra></extra>",
         "jitter": 0,
         "legendgroup": "223",
         "line": {
          "color": "rgba(255,255,255,0)"
         },
         "marker": {
          "color": "#ab63fa",
          "symbol": "line-ns-open"
         },
         "name": "223",
         "offsetgroup": "223",
         "showlegend": false,
         "type": "box",
         "x": [
          8.15
         ],
         "xaxis": "x2",
         "yaxis": "y2"
        },
        {
         "alignmentgroup": "True",
         "bingroup": "x",
         "histfunc": "sum",
         "hovertemplate": "Amount of Sales for Price=204<br>index=%{x}<br>sum of Amount of Sales for Price=%{y}<extra></extra>",
         "legendgroup": "204",
         "marker": {
          "color": "#FFA15A"
         },
         "name": "204",
         "offsetgroup": "204",
         "orientation": "v",
         "showlegend": true,
         "type": "histogram",
         "x": [
          0.59
         ],
         "xaxis": "x",
         "y": [
          204
         ],
         "yaxis": "y"
        },
        {
         "alignmentgroup": "True",
         "boxpoints": "all",
         "fillcolor": "rgba(255,255,255,0)",
         "hoveron": "points",
         "hovertemplate": "Amount of Sales for Price=204<br>index=%{x}<extra></extra>",
         "jitter": 0,
         "legendgroup": "204",
         "line": {
          "color": "rgba(255,255,255,0)"
         },
         "marker": {
          "color": "#FFA15A",
          "symbol": "line-ns-open"
         },
         "name": "204",
         "offsetgroup": "204",
         "showlegend": false,
         "type": "box",
         "x": [
          0.59
         ],
         "xaxis": "x2",
         "yaxis": "y2"
        },
        {
         "alignmentgroup": "True",
         "bingroup": "x",
         "histfunc": "sum",
         "hovertemplate": "Amount of Sales for Price=200<br>index=%{x}<br>sum of Amount of Sales for Price=%{y}<extra></extra>",
         "legendgroup": "200",
         "marker": {
          "color": "#19d3f3"
         },
         "name": "200",
         "offsetgroup": "200",
         "orientation": "v",
         "showlegend": true,
         "type": "histogram",
         "x": [
          4.98
         ],
         "xaxis": "x",
         "y": [
          200
         ],
         "yaxis": "y"
        },
        {
         "alignmentgroup": "True",
         "boxpoints": "all",
         "fillcolor": "rgba(255,255,255,0)",
         "hoveron": "points",
         "hovertemplate": "Amount of Sales for Price=200<br>index=%{x}<extra></extra>",
         "jitter": 0,
         "legendgroup": "200",
         "line": {
          "color": "rgba(255,255,255,0)"
         },
         "marker": {
          "color": "#19d3f3",
          "symbol": "line-ns-open"
         },
         "name": "200",
         "offsetgroup": "200",
         "showlegend": false,
         "type": "box",
         "x": [
          4.98
         ],
         "xaxis": "x2",
         "yaxis": "y2"
        },
        {
         "alignmentgroup": "True",
         "bingroup": "x",
         "histfunc": "sum",
         "hovertemplate": "Amount of Sales for Price=199<br>index=%{x}<br>sum of Amount of Sales for Price=%{y}<extra></extra>",
         "legendgroup": "199",
         "marker": {
          "color": "#FF6692"
         },
         "name": "199",
         "offsetgroup": "199",
         "orientation": "v",
         "showlegend": true,
         "type": "histogram",
         "x": [
          0.81
         ],
         "xaxis": "x",
         "y": [
          199
         ],
         "yaxis": "y"
        },
        {
         "alignmentgroup": "True",
         "boxpoints": "all",
         "fillcolor": "rgba(255,255,255,0)",
         "hoveron": "points",
         "hovertemplate": "Amount of Sales for Price=199<br>index=%{x}<extra></extra>",
         "jitter": 0,
         "legendgroup": "199",
         "line": {
          "color": "rgba(255,255,255,0)"
         },
         "marker": {
          "color": "#FF6692",
          "symbol": "line-ns-open"
         },
         "name": "199",
         "offsetgroup": "199",
         "showlegend": false,
         "type": "box",
         "x": [
          0.81
         ],
         "xaxis": "x2",
         "yaxis": "y2"
        },
        {
         "alignmentgroup": "True",
         "bingroup": "x",
         "histfunc": "sum",
         "hovertemplate": "Amount of Sales for Price=196<br>index=%{x}<br>sum of Amount of Sales for Price=%{y}<extra></extra>",
         "legendgroup": "196",
         "marker": {
          "color": "#B6E880"
         },
         "name": "196",
         "offsetgroup": "196",
         "orientation": "v",
         "showlegend": true,
         "type": "histogram",
         "x": [
          14.43
         ],
         "xaxis": "x",
         "y": [
          196
         ],
         "yaxis": "y"
        },
        {
         "alignmentgroup": "True",
         "boxpoints": "all",
         "fillcolor": "rgba(255,255,255,0)",
         "hoveron": "points",
         "hovertemplate": "Amount of Sales for Price=196<br>index=%{x}<extra></extra>",
         "jitter": 0,
         "legendgroup": "196",
         "line": {
          "color": "rgba(255,255,255,0)"
         },
         "marker": {
          "color": "#B6E880",
          "symbol": "line-ns-open"
         },
         "name": "196",
         "offsetgroup": "196",
         "showlegend": false,
         "type": "box",
         "x": [
          14.43
         ],
         "xaxis": "x2",
         "yaxis": "y2"
        },
        {
         "alignmentgroup": "True",
         "bingroup": "x",
         "histfunc": "sum",
         "hovertemplate": "Amount of Sales for Price=191<br>index=%{x}<br>sum of Amount of Sales for Price=%{y}<extra></extra>",
         "legendgroup": "191",
         "marker": {
          "color": "#FF97FF"
         },
         "name": "191",
         "offsetgroup": "191",
         "orientation": "v",
         "showlegend": true,
         "type": "histogram",
         "x": [
          7.9
         ],
         "xaxis": "x",
         "y": [
          191
         ],
         "yaxis": "y"
        },
        {
         "alignmentgroup": "True",
         "boxpoints": "all",
         "fillcolor": "rgba(255,255,255,0)",
         "hoveron": "points",
         "hovertemplate": "Amount of Sales for Price=191<br>index=%{x}<extra></extra>",
         "jitter": 0,
         "legendgroup": "191",
         "line": {
          "color": "rgba(255,255,255,0)"
         },
         "marker": {
          "color": "#FF97FF",
          "symbol": "line-ns-open"
         },
         "name": "191",
         "offsetgroup": "191",
         "showlegend": false,
         "type": "box",
         "x": [
          7.9
         ],
         "xaxis": "x2",
         "yaxis": "y2"
        },
        {
         "alignmentgroup": "True",
         "bingroup": "x",
         "histfunc": "sum",
         "hovertemplate": "Amount of Sales for Price=188<br>index=%{x}<br>sum of Amount of Sales for Price=%{y}<extra></extra>",
         "legendgroup": "188",
         "marker": {
          "color": "#FECB52"
         },
         "name": "188",
         "offsetgroup": "188",
         "orientation": "v",
         "showlegend": true,
         "type": "histogram",
         "x": [
          2.5
         ],
         "xaxis": "x",
         "y": [
          188
         ],
         "yaxis": "y"
        },
        {
         "alignmentgroup": "True",
         "boxpoints": "all",
         "fillcolor": "rgba(255,255,255,0)",
         "hoveron": "points",
         "hovertemplate": "Amount of Sales for Price=188<br>index=%{x}<extra></extra>",
         "jitter": 0,
         "legendgroup": "188",
         "line": {
          "color": "rgba(255,255,255,0)"
         },
         "marker": {
          "color": "#FECB52",
          "symbol": "line-ns-open"
         },
         "name": "188",
         "offsetgroup": "188",
         "showlegend": false,
         "type": "box",
         "x": [
          2.5
         ],
         "xaxis": "x2",
         "yaxis": "y2"
        },
        {
         "alignmentgroup": "True",
         "bingroup": "x",
         "histfunc": "sum",
         "hovertemplate": "Amount of Sales for Price=183<br>index=%{x}<br>sum of Amount of Sales for Price=%{y}<extra></extra>",
         "legendgroup": "183",
         "marker": {
          "color": "#636efa"
         },
         "name": "183",
         "offsetgroup": "183",
         "orientation": "v",
         "showlegend": true,
         "type": "histogram",
         "x": [
          12.72
         ],
         "xaxis": "x",
         "y": [
          183
         ],
         "yaxis": "y"
        },
        {
         "alignmentgroup": "True",
         "boxpoints": "all",
         "fillcolor": "rgba(255,255,255,0)",
         "hoveron": "points",
         "hovertemplate": "Amount of Sales for Price=183<br>index=%{x}<extra></extra>",
         "jitter": 0,
         "legendgroup": "183",
         "line": {
          "color": "rgba(255,255,255,0)"
         },
         "marker": {
          "color": "#636efa",
          "symbol": "line-ns-open"
         },
         "name": "183",
         "offsetgroup": "183",
         "showlegend": false,
         "type": "box",
         "x": [
          12.72
         ],
         "xaxis": "x2",
         "yaxis": "y2"
        },
        {
         "alignmentgroup": "True",
         "bingroup": "x",
         "histfunc": "sum",
         "hovertemplate": "Amount of Sales for Price=180<br>index=%{x}<br>sum of Amount of Sales for Price=%{y}<extra></extra>",
         "legendgroup": "180",
         "marker": {
          "color": "#EF553B"
         },
         "name": "180",
         "offsetgroup": "180",
         "orientation": "v",
         "showlegend": true,
         "type": "histogram",
         "x": [
          2.75
         ],
         "xaxis": "x",
         "y": [
          180
         ],
         "yaxis": "y"
        },
        {
         "alignmentgroup": "True",
         "boxpoints": "all",
         "fillcolor": "rgba(255,255,255,0)",
         "hoveron": "points",
         "hovertemplate": "Amount of Sales for Price=180<br>index=%{x}<extra></extra>",
         "jitter": 0,
         "legendgroup": "180",
         "line": {
          "color": "rgba(255,255,255,0)"
         },
         "marker": {
          "color": "#EF553B",
          "symbol": "line-ns-open"
         },
         "name": "180",
         "offsetgroup": "180",
         "showlegend": false,
         "type": "box",
         "x": [
          2.75
         ],
         "xaxis": "x2",
         "yaxis": "y2"
        },
        {
         "alignmentgroup": "True",
         "bingroup": "x",
         "histfunc": "sum",
         "hovertemplate": "Amount of Sales for Price=168<br>index=%{x}<br>sum of Amount of Sales for Price=%{y}<extra></extra>",
         "legendgroup": "168",
         "marker": {
          "color": "#00cc96"
         },
         "name": "168",
         "offsetgroup": "168",
         "orientation": "v",
         "showlegend": true,
         "type": "histogram",
         "x": [
          15.95
         ],
         "xaxis": "x",
         "y": [
          168
         ],
         "yaxis": "y"
        },
        {
         "alignmentgroup": "True",
         "boxpoints": "all",
         "fillcolor": "rgba(255,255,255,0)",
         "hoveron": "points",
         "hovertemplate": "Amount of Sales for Price=168<br>index=%{x}<extra></extra>",
         "jitter": 0,
         "legendgroup": "168",
         "line": {
          "color": "rgba(255,255,255,0)"
         },
         "marker": {
          "color": "#00cc96",
          "symbol": "line-ns-open"
         },
         "name": "168",
         "offsetgroup": "168",
         "showlegend": false,
         "type": "box",
         "x": [
          15.95
         ],
         "xaxis": "x2",
         "yaxis": "y2"
        },
        {
         "alignmentgroup": "True",
         "bingroup": "x",
         "histfunc": "sum",
         "hovertemplate": "Amount of Sales for Price=166<br>index=%{x}<br>sum of Amount of Sales for Price=%{y}<extra></extra>",
         "legendgroup": "166",
         "marker": {
          "color": "#ab63fa"
         },
         "name": "166",
         "offsetgroup": "166",
         "orientation": "v",
         "showlegend": true,
         "type": "histogram",
         "x": [
          10.4
         ],
         "xaxis": "x",
         "y": [
          166
         ],
         "yaxis": "y"
        },
        {
         "alignmentgroup": "True",
         "boxpoints": "all",
         "fillcolor": "rgba(255,255,255,0)",
         "hoveron": "points",
         "hovertemplate": "Amount of Sales for Price=166<br>index=%{x}<extra></extra>",
         "jitter": 0,
         "legendgroup": "166",
         "line": {
          "color": "rgba(255,255,255,0)"
         },
         "marker": {
          "color": "#ab63fa",
          "symbol": "line-ns-open"
         },
         "name": "166",
         "offsetgroup": "166",
         "showlegend": false,
         "type": "box",
         "x": [
          10.4
         ],
         "xaxis": "x2",
         "yaxis": "y2"
        },
        {
         "alignmentgroup": "True",
         "bingroup": "x",
         "histfunc": "sum",
         "hovertemplate": "Amount of Sales for Price=162<br>index=%{x}<br>sum of Amount of Sales for Price=%{y}<extra></extra>",
         "legendgroup": "162",
         "marker": {
          "color": "#FFA15A"
         },
         "name": "162",
         "offsetgroup": "162",
         "orientation": "v",
         "showlegend": true,
         "type": "histogram",
         "x": [
          6.65
         ],
         "xaxis": "x",
         "y": [
          162
         ],
         "yaxis": "y"
        },
        {
         "alignmentgroup": "True",
         "boxpoints": "all",
         "fillcolor": "rgba(255,255,255,0)",
         "hoveron": "points",
         "hovertemplate": "Amount of Sales for Price=162<br>index=%{x}<extra></extra>",
         "jitter": 0,
         "legendgroup": "162",
         "line": {
          "color": "rgba(255,255,255,0)"
         },
         "marker": {
          "color": "#FFA15A",
          "symbol": "line-ns-open"
         },
         "name": "162",
         "offsetgroup": "162",
         "showlegend": false,
         "type": "box",
         "x": [
          6.65
         ],
         "xaxis": "x2",
         "yaxis": "y2"
        },
        {
         "alignmentgroup": "True",
         "bingroup": "x",
         "histfunc": "sum",
         "hovertemplate": "Amount of Sales for Price=161<br>index=%{x}<br>sum of Amount of Sales for Price=%{y}<extra></extra>",
         "legendgroup": "161",
         "marker": {
          "color": "#19d3f3"
         },
         "name": "161",
         "offsetgroup": "161",
         "orientation": "v",
         "showlegend": true,
         "type": "histogram",
         "x": [
          25.49
         ],
         "xaxis": "x",
         "y": [
          161
         ],
         "yaxis": "y"
        },
        {
         "alignmentgroup": "True",
         "boxpoints": "all",
         "fillcolor": "rgba(255,255,255,0)",
         "hoveron": "points",
         "hovertemplate": "Amount of Sales for Price=161<br>index=%{x}<extra></extra>",
         "jitter": 0,
         "legendgroup": "161",
         "line": {
          "color": "rgba(255,255,255,0)"
         },
         "marker": {
          "color": "#19d3f3",
          "symbol": "line-ns-open"
         },
         "name": "161",
         "offsetgroup": "161",
         "showlegend": false,
         "type": "box",
         "x": [
          25.49
         ],
         "xaxis": "x2",
         "yaxis": "y2"
        },
        {
         "alignmentgroup": "True",
         "bingroup": "x",
         "histfunc": "sum",
         "hovertemplate": "Amount of Sales for Price=156<br>index=%{x}<br>sum of Amount of Sales for Price=%{y}<extra></extra>",
         "legendgroup": "156",
         "marker": {
          "color": "#FF6692"
         },
         "name": "156",
         "offsetgroup": "156",
         "orientation": "v",
         "showlegend": true,
         "type": "histogram",
         "x": [
          14.96
         ],
         "xaxis": "x",
         "y": [
          156
         ],
         "yaxis": "y"
        },
        {
         "alignmentgroup": "True",
         "boxpoints": "all",
         "fillcolor": "rgba(255,255,255,0)",
         "hoveron": "points",
         "hovertemplate": "Amount of Sales for Price=156<br>index=%{x}<extra></extra>",
         "jitter": 0,
         "legendgroup": "156",
         "line": {
          "color": "rgba(255,255,255,0)"
         },
         "marker": {
          "color": "#FF6692",
          "symbol": "line-ns-open"
         },
         "name": "156",
         "offsetgroup": "156",
         "showlegend": false,
         "type": "box",
         "x": [
          14.96
         ],
         "xaxis": "x2",
         "yaxis": "y2"
        },
        {
         "alignmentgroup": "True",
         "bingroup": "x",
         "histfunc": "sum",
         "hovertemplate": "Amount of Sales for Price=153<br>index=%{x}<br>sum of Amount of Sales for Price=%{y}<extra></extra>",
         "legendgroup": "153",
         "marker": {
          "color": "#B6E880"
         },
         "name": "153",
         "offsetgroup": "153",
         "orientation": "v",
         "showlegend": true,
         "type": "histogram",
         "x": [
          6.77
         ],
         "xaxis": "x",
         "y": [
          153
         ],
         "yaxis": "y"
        },
        {
         "alignmentgroup": "True",
         "boxpoints": "all",
         "fillcolor": "rgba(255,255,255,0)",
         "hoveron": "points",
         "hovertemplate": "Amount of Sales for Price=153<br>index=%{x}<extra></extra>",
         "jitter": 0,
         "legendgroup": "153",
         "line": {
          "color": "rgba(255,255,255,0)"
         },
         "marker": {
          "color": "#B6E880",
          "symbol": "line-ns-open"
         },
         "name": "153",
         "offsetgroup": "153",
         "showlegend": false,
         "type": "box",
         "x": [
          6.77
         ],
         "xaxis": "x2",
         "yaxis": "y2"
        },
        {
         "alignmentgroup": "True",
         "bingroup": "x",
         "histfunc": "sum",
         "hovertemplate": "Amount of Sales for Price=150<br>index=%{x}<br>sum of Amount of Sales for Price=%{y}<extra></extra>",
         "legendgroup": "150",
         "marker": {
          "color": "#FF97FF"
         },
         "name": "150",
         "offsetgroup": "150",
         "orientation": "v",
         "showlegend": true,
         "type": "histogram",
         "x": [
          11.95
         ],
         "xaxis": "x",
         "y": [
          150
         ],
         "yaxis": "y"
        },
        {
         "alignmentgroup": "True",
         "boxpoints": "all",
         "fillcolor": "rgba(255,255,255,0)",
         "hoveron": "points",
         "hovertemplate": "Amount of Sales for Price=150<br>index=%{x}<extra></extra>",
         "jitter": 0,
         "legendgroup": "150",
         "line": {
          "color": "rgba(255,255,255,0)"
         },
         "marker": {
          "color": "#FF97FF",
          "symbol": "line-ns-open"
         },
         "name": "150",
         "offsetgroup": "150",
         "showlegend": false,
         "type": "box",
         "x": [
          11.95
         ],
         "xaxis": "x2",
         "yaxis": "y2"
        },
        {
         "alignmentgroup": "True",
         "bingroup": "x",
         "histfunc": "sum",
         "hovertemplate": "Amount of Sales for Price=147<br>index=%{x}<br>sum of Amount of Sales for Price=%{y}<extra></extra>",
         "legendgroup": "147",
         "marker": {
          "color": "#FECB52"
         },
         "name": "147",
         "offsetgroup": "147",
         "orientation": "v",
         "showlegend": true,
         "type": "histogram",
         "x": [
          39.95
         ],
         "xaxis": "x",
         "y": [
          147
         ],
         "yaxis": "y"
        },
        {
         "alignmentgroup": "True",
         "boxpoints": "all",
         "fillcolor": "rgba(255,255,255,0)",
         "hoveron": "points",
         "hovertemplate": "Amount of Sales for Price=147<br>index=%{x}<extra></extra>",
         "jitter": 0,
         "legendgroup": "147",
         "line": {
          "color": "rgba(255,255,255,0)"
         },
         "marker": {
          "color": "#FECB52",
          "symbol": "line-ns-open"
         },
         "name": "147",
         "offsetgroup": "147",
         "showlegend": false,
         "type": "box",
         "x": [
          39.95
         ],
         "xaxis": "x2",
         "yaxis": "y2"
        },
        {
         "alignmentgroup": "True",
         "bingroup": "x",
         "histfunc": "sum",
         "hovertemplate": "Amount of Sales for Price=144<br>index=%{x}<br>sum of Amount of Sales for Price=%{y}<extra></extra>",
         "legendgroup": "144",
         "marker": {
          "color": "#636efa"
         },
         "name": "144",
         "offsetgroup": "144",
         "orientation": "v",
         "showlegend": true,
         "type": "histogram",
         "x": [
          50
         ],
         "xaxis": "x",
         "y": [
          144
         ],
         "yaxis": "y"
        },
        {
         "alignmentgroup": "True",
         "boxpoints": "all",
         "fillcolor": "rgba(255,255,255,0)",
         "hoveron": "points",
         "hovertemplate": "Amount of Sales for Price=144<br>index=%{x}<extra></extra>",
         "jitter": 0,
         "legendgroup": "144",
         "line": {
          "color": "rgba(255,255,255,0)"
         },
         "marker": {
          "color": "#636efa",
          "symbol": "line-ns-open"
         },
         "name": "144",
         "offsetgroup": "144",
         "showlegend": false,
         "type": "box",
         "x": [
          50
         ],
         "xaxis": "x2",
         "yaxis": "y2"
        },
        {
         "alignmentgroup": "True",
         "bingroup": "x",
         "histfunc": "sum",
         "hovertemplate": "Amount of Sales for Price=143<br>index=%{x}<br>sum of Amount of Sales for Price=%{y}<extra></extra>",
         "legendgroup": "143",
         "marker": {
          "color": "#EF553B"
         },
         "name": "143",
         "offsetgroup": "143",
         "orientation": "v",
         "showlegend": true,
         "type": "histogram",
         "x": [
          1
         ],
         "xaxis": "x",
         "y": [
          143
         ],
         "yaxis": "y"
        },
        {
         "alignmentgroup": "True",
         "boxpoints": "all",
         "fillcolor": "rgba(255,255,255,0)",
         "hoveron": "points",
         "hovertemplate": "Amount of Sales for Price=143<br>index=%{x}<extra></extra>",
         "jitter": 0,
         "legendgroup": "143",
         "line": {
          "color": "rgba(255,255,255,0)"
         },
         "marker": {
          "color": "#EF553B",
          "symbol": "line-ns-open"
         },
         "name": "143",
         "offsetgroup": "143",
         "showlegend": false,
         "type": "box",
         "x": [
          1
         ],
         "xaxis": "x2",
         "yaxis": "y2"
        },
        {
         "alignmentgroup": "True",
         "bingroup": "x",
         "histfunc": "sum",
         "hovertemplate": "Amount of Sales for Price=139<br>index=%{x}<br>sum of Amount of Sales for Price=%{y}<extra></extra>",
         "legendgroup": "139",
         "marker": {
          "color": "#00cc96"
         },
         "name": "139",
         "offsetgroup": "139",
         "orientation": "v",
         "showlegend": true,
         "type": "histogram",
         "x": [
          0.64,
          1.55
         ],
         "xaxis": "x",
         "y": [
          139,
          139
         ],
         "yaxis": "y"
        },
        {
         "alignmentgroup": "True",
         "boxpoints": "all",
         "fillcolor": "rgba(255,255,255,0)",
         "hoveron": "points",
         "hovertemplate": "Amount of Sales for Price=139<br>index=%{x}<extra></extra>",
         "jitter": 0,
         "legendgroup": "139",
         "line": {
          "color": "rgba(255,255,255,0)"
         },
         "marker": {
          "color": "#00cc96",
          "symbol": "line-ns-open"
         },
         "name": "139",
         "offsetgroup": "139",
         "showlegend": false,
         "type": "box",
         "x": [
          0.64,
          1.55
         ],
         "xaxis": "x2",
         "yaxis": "y2"
        },
        {
         "alignmentgroup": "True",
         "bingroup": "x",
         "histfunc": "sum",
         "hovertemplate": "Amount of Sales for Price=136<br>index=%{x}<br>sum of Amount of Sales for Price=%{y}<extra></extra>",
         "legendgroup": "136",
         "marker": {
          "color": "#ab63fa"
         },
         "name": "136",
         "offsetgroup": "136",
         "orientation": "v",
         "showlegend": true,
         "type": "histogram",
         "x": [
          11.87
         ],
         "xaxis": "x",
         "y": [
          136
         ],
         "yaxis": "y"
        },
        {
         "alignmentgroup": "True",
         "boxpoints": "all",
         "fillcolor": "rgba(255,255,255,0)",
         "hoveron": "points",
         "hovertemplate": "Amount of Sales for Price=136<br>index=%{x}<extra></extra>",
         "jitter": 0,
         "legendgroup": "136",
         "line": {
          "color": "rgba(255,255,255,0)"
         },
         "marker": {
          "color": "#ab63fa",
          "symbol": "line-ns-open"
         },
         "name": "136",
         "offsetgroup": "136",
         "showlegend": false,
         "type": "box",
         "x": [
          11.87
         ],
         "xaxis": "x2",
         "yaxis": "y2"
        },
        {
         "alignmentgroup": "True",
         "bingroup": "x",
         "histfunc": "sum",
         "hovertemplate": "Amount of Sales for Price=135<br>index=%{x}<br>sum of Amount of Sales for Price=%{y}<extra></extra>",
         "legendgroup": "135",
         "marker": {
          "color": "#FFA15A"
         },
         "name": "135",
         "offsetgroup": "135",
         "orientation": "v",
         "showlegend": true,
         "type": "histogram",
         "x": [
          40,
          3.73
         ],
         "xaxis": "x",
         "y": [
          135,
          135
         ],
         "yaxis": "y"
        },
        {
         "alignmentgroup": "True",
         "boxpoints": "all",
         "fillcolor": "rgba(255,255,255,0)",
         "hoveron": "points",
         "hovertemplate": "Amount of Sales for Price=135<br>index=%{x}<extra></extra>",
         "jitter": 0,
         "legendgroup": "135",
         "line": {
          "color": "rgba(255,255,255,0)"
         },
         "marker": {
          "color": "#FFA15A",
          "symbol": "line-ns-open"
         },
         "name": "135",
         "offsetgroup": "135",
         "showlegend": false,
         "type": "box",
         "x": [
          40,
          3.73
         ],
         "xaxis": "x2",
         "yaxis": "y2"
        },
        {
         "alignmentgroup": "True",
         "bingroup": "x",
         "histfunc": "sum",
         "hovertemplate": "Amount of Sales for Price=125<br>index=%{x}<br>sum of Amount of Sales for Price=%{y}<extra></extra>",
         "legendgroup": "125",
         "marker": {
          "color": "#19d3f3"
         },
         "name": "125",
         "offsetgroup": "125",
         "orientation": "v",
         "showlegend": true,
         "type": "histogram",
         "x": [
          19.95
         ],
         "xaxis": "x",
         "y": [
          125
         ],
         "yaxis": "y"
        },
        {
         "alignmentgroup": "True",
         "boxpoints": "all",
         "fillcolor": "rgba(255,255,255,0)",
         "hoveron": "points",
         "hovertemplate": "Amount of Sales for Price=125<br>index=%{x}<extra></extra>",
         "jitter": 0,
         "legendgroup": "125",
         "line": {
          "color": "rgba(255,255,255,0)"
         },
         "marker": {
          "color": "#19d3f3",
          "symbol": "line-ns-open"
         },
         "name": "125",
         "offsetgroup": "125",
         "showlegend": false,
         "type": "box",
         "x": [
          19.95
         ],
         "xaxis": "x2",
         "yaxis": "y2"
        },
        {
         "alignmentgroup": "True",
         "bingroup": "x",
         "histfunc": "sum",
         "hovertemplate": "Amount of Sales for Price=123<br>index=%{x}<br>sum of Amount of Sales for Price=%{y}<extra></extra>",
         "legendgroup": "123",
         "marker": {
          "color": "#FF6692"
         },
         "name": "123",
         "offsetgroup": "123",
         "orientation": "v",
         "showlegend": true,
         "type": "histogram",
         "x": [
          2.48
         ],
         "xaxis": "x",
         "y": [
          123
         ],
         "yaxis": "y"
        },
        {
         "alignmentgroup": "True",
         "boxpoints": "all",
         "fillcolor": "rgba(255,255,255,0)",
         "hoveron": "points",
         "hovertemplate": "Amount of Sales for Price=123<br>index=%{x}<extra></extra>",
         "jitter": 0,
         "legendgroup": "123",
         "line": {
          "color": "rgba(255,255,255,0)"
         },
         "marker": {
          "color": "#FF6692",
          "symbol": "line-ns-open"
         },
         "name": "123",
         "offsetgroup": "123",
         "showlegend": false,
         "type": "box",
         "x": [
          2.48
         ],
         "xaxis": "x2",
         "yaxis": "y2"
        },
        {
         "alignmentgroup": "True",
         "bingroup": "x",
         "histfunc": "sum",
         "hovertemplate": "Amount of Sales for Price=117<br>index=%{x}<br>sum of Amount of Sales for Price=%{y}<extra></extra>",
         "legendgroup": "117",
         "marker": {
          "color": "#B6E880"
         },
         "name": "117",
         "offsetgroup": "117",
         "orientation": "v",
         "showlegend": true,
         "type": "histogram",
         "x": [
          10.17,
          0.06
         ],
         "xaxis": "x",
         "y": [
          117,
          117
         ],
         "yaxis": "y"
        },
        {
         "alignmentgroup": "True",
         "boxpoints": "all",
         "fillcolor": "rgba(255,255,255,0)",
         "hoveron": "points",
         "hovertemplate": "Amount of Sales for Price=117<br>index=%{x}<extra></extra>",
         "jitter": 0,
         "legendgroup": "117",
         "line": {
          "color": "rgba(255,255,255,0)"
         },
         "marker": {
          "color": "#B6E880",
          "symbol": "line-ns-open"
         },
         "name": "117",
         "offsetgroup": "117",
         "showlegend": false,
         "type": "box",
         "x": [
          10.17,
          0.06
         ],
         "xaxis": "x2",
         "yaxis": "y2"
        },
        {
         "alignmentgroup": "True",
         "bingroup": "x",
         "histfunc": "sum",
         "hovertemplate": "Amount of Sales for Price=115<br>index=%{x}<br>sum of Amount of Sales for Price=%{y}<extra></extra>",
         "legendgroup": "115",
         "marker": {
          "color": "#FF97FF"
         },
         "name": "115",
         "offsetgroup": "115",
         "orientation": "v",
         "showlegend": true,
         "type": "histogram",
         "x": [
          16.13
         ],
         "xaxis": "x",
         "y": [
          115
         ],
         "yaxis": "y"
        },
        {
         "alignmentgroup": "True",
         "boxpoints": "all",
         "fillcolor": "rgba(255,255,255,0)",
         "hoveron": "points",
         "hovertemplate": "Amount of Sales for Price=115<br>index=%{x}<extra></extra>",
         "jitter": 0,
         "legendgroup": "115",
         "line": {
          "color": "rgba(255,255,255,0)"
         },
         "marker": {
          "color": "#FF97FF",
          "symbol": "line-ns-open"
         },
         "name": "115",
         "offsetgroup": "115",
         "showlegend": false,
         "type": "box",
         "x": [
          16.13
         ],
         "xaxis": "x2",
         "yaxis": "y2"
        },
        {
         "alignmentgroup": "True",
         "bingroup": "x",
         "histfunc": "sum",
         "hovertemplate": "Amount of Sales for Price=111<br>index=%{x}<br>sum of Amount of Sales for Price=%{y}<extra></extra>",
         "legendgroup": "111",
         "marker": {
          "color": "#FECB52"
         },
         "name": "111",
         "offsetgroup": "111",
         "orientation": "v",
         "showlegend": true,
         "type": "histogram",
         "x": [
          13.57
         ],
         "xaxis": "x",
         "y": [
          111
         ],
         "yaxis": "y"
        },
        {
         "alignmentgroup": "True",
         "boxpoints": "all",
         "fillcolor": "rgba(255,255,255,0)",
         "hoveron": "points",
         "hovertemplate": "Amount of Sales for Price=111<br>index=%{x}<extra></extra>",
         "jitter": 0,
         "legendgroup": "111",
         "line": {
          "color": "rgba(255,255,255,0)"
         },
         "marker": {
          "color": "#FECB52",
          "symbol": "line-ns-open"
         },
         "name": "111",
         "offsetgroup": "111",
         "showlegend": false,
         "type": "box",
         "x": [
          13.57
         ],
         "xaxis": "x2",
         "yaxis": "y2"
        },
        {
         "alignmentgroup": "True",
         "bingroup": "x",
         "histfunc": "sum",
         "hovertemplate": "Amount of Sales for Price=109<br>index=%{x}<br>sum of Amount of Sales for Price=%{y}<extra></extra>",
         "legendgroup": "109",
         "marker": {
          "color": "#636efa"
         },
         "name": "109",
         "offsetgroup": "109",
         "orientation": "v",
         "showlegend": true,
         "type": "histogram",
         "x": [
          0.62
         ],
         "xaxis": "x",
         "y": [
          109
         ],
         "yaxis": "y"
        },
        {
         "alignmentgroup": "True",
         "boxpoints": "all",
         "fillcolor": "rgba(255,255,255,0)",
         "hoveron": "points",
         "hovertemplate": "Amount of Sales for Price=109<br>index=%{x}<extra></extra>",
         "jitter": 0,
         "legendgroup": "109",
         "line": {
          "color": "rgba(255,255,255,0)"
         },
         "marker": {
          "color": "#636efa",
          "symbol": "line-ns-open"
         },
         "name": "109",
         "offsetgroup": "109",
         "showlegend": false,
         "type": "box",
         "x": [
          0.62
         ],
         "xaxis": "x2",
         "yaxis": "y2"
        },
        {
         "alignmentgroup": "True",
         "bingroup": "x",
         "histfunc": "sum",
         "hovertemplate": "Amount of Sales for Price=106<br>index=%{x}<br>sum of Amount of Sales for Price=%{y}<extra></extra>",
         "legendgroup": "106",
         "marker": {
          "color": "#EF553B"
         },
         "name": "106",
         "offsetgroup": "106",
         "orientation": "v",
         "showlegend": true,
         "type": "histogram",
         "x": [
          2.13
         ],
         "xaxis": "x",
         "y": [
          106
         ],
         "yaxis": "y"
        },
        {
         "alignmentgroup": "True",
         "boxpoints": "all",
         "fillcolor": "rgba(255,255,255,0)",
         "hoveron": "points",
         "hovertemplate": "Amount of Sales for Price=106<br>index=%{x}<extra></extra>",
         "jitter": 0,
         "legendgroup": "106",
         "line": {
          "color": "rgba(255,255,255,0)"
         },
         "marker": {
          "color": "#EF553B",
          "symbol": "line-ns-open"
         },
         "name": "106",
         "offsetgroup": "106",
         "showlegend": false,
         "type": "box",
         "x": [
          2.13
         ],
         "xaxis": "x2",
         "yaxis": "y2"
        },
        {
         "alignmentgroup": "True",
         "bingroup": "x",
         "histfunc": "sum",
         "hovertemplate": "Amount of Sales for Price=105<br>index=%{x}<br>sum of Amount of Sales for Price=%{y}<extra></extra>",
         "legendgroup": "105",
         "marker": {
          "color": "#00cc96"
         },
         "name": "105",
         "offsetgroup": "105",
         "orientation": "v",
         "showlegend": true,
         "type": "histogram",
         "x": [
          9.32
         ],
         "xaxis": "x",
         "y": [
          105
         ],
         "yaxis": "y"
        },
        {
         "alignmentgroup": "True",
         "boxpoints": "all",
         "fillcolor": "rgba(255,255,255,0)",
         "hoveron": "points",
         "hovertemplate": "Amount of Sales for Price=105<br>index=%{x}<extra></extra>",
         "jitter": 0,
         "legendgroup": "105",
         "line": {
          "color": "rgba(255,255,255,0)"
         },
         "marker": {
          "color": "#00cc96",
          "symbol": "line-ns-open"
         },
         "name": "105",
         "offsetgroup": "105",
         "showlegend": false,
         "type": "box",
         "x": [
          9.32
         ],
         "xaxis": "x2",
         "yaxis": "y2"
        },
        {
         "alignmentgroup": "True",
         "bingroup": "x",
         "histfunc": "sum",
         "hovertemplate": "Amount of Sales for Price=102<br>index=%{x}<br>sum of Amount of Sales for Price=%{y}<extra></extra>",
         "legendgroup": "102",
         "marker": {
          "color": "#ab63fa"
         },
         "name": "102",
         "offsetgroup": "102",
         "orientation": "v",
         "showlegend": true,
         "type": "histogram",
         "x": [
          4.24
         ],
         "xaxis": "x",
         "y": [
          102
         ],
         "yaxis": "y"
        },
        {
         "alignmentgroup": "True",
         "boxpoints": "all",
         "fillcolor": "rgba(255,255,255,0)",
         "hoveron": "points",
         "hovertemplate": "Amount of Sales for Price=102<br>index=%{x}<extra></extra>",
         "jitter": 0,
         "legendgroup": "102",
         "line": {
          "color": "rgba(255,255,255,0)"
         },
         "marker": {
          "color": "#ab63fa",
          "symbol": "line-ns-open"
         },
         "name": "102",
         "offsetgroup": "102",
         "showlegend": false,
         "type": "box",
         "x": [
          4.24
         ],
         "xaxis": "x2",
         "yaxis": "y2"
        },
        {
         "alignmentgroup": "True",
         "bingroup": "x",
         "histfunc": "sum",
         "hovertemplate": "Amount of Sales for Price=101<br>index=%{x}<br>sum of Amount of Sales for Price=%{y}<extra></extra>",
         "legendgroup": "101",
         "marker": {
          "color": "#FFA15A"
         },
         "name": "101",
         "offsetgroup": "101",
         "orientation": "v",
         "showlegend": true,
         "type": "histogram",
         "x": [
          3.81
         ],
         "xaxis": "x",
         "y": [
          101
         ],
         "yaxis": "y"
        },
        {
         "alignmentgroup": "True",
         "boxpoints": "all",
         "fillcolor": "rgba(255,255,255,0)",
         "hoveron": "points",
         "hovertemplate": "Amount of Sales for Price=101<br>index=%{x}<extra></extra>",
         "jitter": 0,
         "legendgroup": "101",
         "line": {
          "color": "rgba(255,255,255,0)"
         },
         "marker": {
          "color": "#FFA15A",
          "symbol": "line-ns-open"
         },
         "name": "101",
         "offsetgroup": "101",
         "showlegend": false,
         "type": "box",
         "x": [
          3.81
         ],
         "xaxis": "x2",
         "yaxis": "y2"
        },
        {
         "alignmentgroup": "True",
         "bingroup": "x",
         "histfunc": "sum",
         "hovertemplate": "Amount of Sales for Price=100<br>index=%{x}<br>sum of Amount of Sales for Price=%{y}<extra></extra>",
         "legendgroup": "100",
         "marker": {
          "color": "#19d3f3"
         },
         "name": "100",
         "offsetgroup": "100",
         "orientation": "v",
         "showlegend": true,
         "type": "histogram",
         "x": [
          33.29
         ],
         "xaxis": "x",
         "y": [
          100
         ],
         "yaxis": "y"
        },
        {
         "alignmentgroup": "True",
         "boxpoints": "all",
         "fillcolor": "rgba(255,255,255,0)",
         "hoveron": "points",
         "hovertemplate": "Amount of Sales for Price=100<br>index=%{x}<extra></extra>",
         "jitter": 0,
         "legendgroup": "100",
         "line": {
          "color": "rgba(255,255,255,0)"
         },
         "marker": {
          "color": "#19d3f3",
          "symbol": "line-ns-open"
         },
         "name": "100",
         "offsetgroup": "100",
         "showlegend": false,
         "type": "box",
         "x": [
          33.29
         ],
         "xaxis": "x2",
         "yaxis": "y2"
        },
        {
         "alignmentgroup": "True",
         "bingroup": "x",
         "histfunc": "sum",
         "hovertemplate": "Amount of Sales for Price=99<br>index=%{x}<br>sum of Amount of Sales for Price=%{y}<extra></extra>",
         "legendgroup": "99",
         "marker": {
          "color": "#FF6692"
         },
         "name": "99",
         "offsetgroup": "99",
         "orientation": "v",
         "showlegend": true,
         "type": "histogram",
         "x": [
          1.38,
          28
         ],
         "xaxis": "x",
         "y": [
          99,
          99
         ],
         "yaxis": "y"
        },
        {
         "alignmentgroup": "True",
         "boxpoints": "all",
         "fillcolor": "rgba(255,255,255,0)",
         "hoveron": "points",
         "hovertemplate": "Amount of Sales for Price=99<br>index=%{x}<extra></extra>",
         "jitter": 0,
         "legendgroup": "99",
         "line": {
          "color": "rgba(255,255,255,0)"
         },
         "marker": {
          "color": "#FF6692",
          "symbol": "line-ns-open"
         },
         "name": "99",
         "offsetgroup": "99",
         "showlegend": false,
         "type": "box",
         "x": [
          1.38,
          28
         ],
         "xaxis": "x2",
         "yaxis": "y2"
        },
        {
         "alignmentgroup": "True",
         "bingroup": "x",
         "histfunc": "sum",
         "hovertemplate": "Amount of Sales for Price=98<br>index=%{x}<br>sum of Amount of Sales for Price=%{y}<extra></extra>",
         "legendgroup": "98",
         "marker": {
          "color": "#B6E880"
         },
         "name": "98",
         "offsetgroup": "98",
         "orientation": "v",
         "showlegend": true,
         "type": "histogram",
         "x": [
          29.17,
          1.24
         ],
         "xaxis": "x",
         "y": [
          98,
          98
         ],
         "yaxis": "y"
        },
        {
         "alignmentgroup": "True",
         "boxpoints": "all",
         "fillcolor": "rgba(255,255,255,0)",
         "hoveron": "points",
         "hovertemplate": "Amount of Sales for Price=98<br>index=%{x}<extra></extra>",
         "jitter": 0,
         "legendgroup": "98",
         "line": {
          "color": "rgba(255,255,255,0)"
         },
         "marker": {
          "color": "#B6E880",
          "symbol": "line-ns-open"
         },
         "name": "98",
         "offsetgroup": "98",
         "showlegend": false,
         "type": "box",
         "x": [
          29.17,
          1.24
         ],
         "xaxis": "x2",
         "yaxis": "y2"
        },
        {
         "alignmentgroup": "True",
         "bingroup": "x",
         "histfunc": "sum",
         "hovertemplate": "Amount of Sales for Price=92<br>index=%{x}<br>sum of Amount of Sales for Price=%{y}<extra></extra>",
         "legendgroup": "92",
         "marker": {
          "color": "#FF97FF"
         },
         "name": "92",
         "offsetgroup": "92",
         "orientation": "v",
         "showlegend": true,
         "type": "histogram",
         "x": [
          2.98
         ],
         "xaxis": "x",
         "y": [
          92
         ],
         "yaxis": "y"
        },
        {
         "alignmentgroup": "True",
         "boxpoints": "all",
         "fillcolor": "rgba(255,255,255,0)",
         "hoveron": "points",
         "hovertemplate": "Amount of Sales for Price=92<br>index=%{x}<extra></extra>",
         "jitter": 0,
         "legendgroup": "92",
         "line": {
          "color": "rgba(255,255,255,0)"
         },
         "marker": {
          "color": "#FF97FF",
          "symbol": "line-ns-open"
         },
         "name": "92",
         "offsetgroup": "92",
         "showlegend": false,
         "type": "box",
         "x": [
          2.98
         ],
         "xaxis": "x2",
         "yaxis": "y2"
        },
        {
         "alignmentgroup": "True",
         "bingroup": "x",
         "histfunc": "sum",
         "hovertemplate": "Amount of Sales for Price=91<br>index=%{x}<br>sum of Amount of Sales for Price=%{y}<extra></extra>",
         "legendgroup": "91",
         "marker": {
          "color": "#FECB52"
         },
         "name": "91",
         "offsetgroup": "91",
         "orientation": "v",
         "showlegend": true,
         "type": "histogram",
         "x": [
          6.45
         ],
         "xaxis": "x",
         "y": [
          91
         ],
         "yaxis": "y"
        },
        {
         "alignmentgroup": "True",
         "boxpoints": "all",
         "fillcolor": "rgba(255,255,255,0)",
         "hoveron": "points",
         "hovertemplate": "Amount of Sales for Price=91<br>index=%{x}<extra></extra>",
         "jitter": 0,
         "legendgroup": "91",
         "line": {
          "color": "rgba(255,255,255,0)"
         },
         "marker": {
          "color": "#FECB52",
          "symbol": "line-ns-open"
         },
         "name": "91",
         "offsetgroup": "91",
         "showlegend": false,
         "type": "box",
         "x": [
          6.45
         ],
         "xaxis": "x2",
         "yaxis": "y2"
        },
        {
         "alignmentgroup": "True",
         "bingroup": "x",
         "histfunc": "sum",
         "hovertemplate": "Amount of Sales for Price=89<br>index=%{x}<br>sum of Amount of Sales for Price=%{y}<extra></extra>",
         "legendgroup": "89",
         "marker": {
          "color": "#636efa"
         },
         "name": "89",
         "offsetgroup": "89",
         "orientation": "v",
         "showlegend": true,
         "type": "histogram",
         "x": [
          0.14
         ],
         "xaxis": "x",
         "y": [
          89
         ],
         "yaxis": "y"
        },
        {
         "alignmentgroup": "True",
         "boxpoints": "all",
         "fillcolor": "rgba(255,255,255,0)",
         "hoveron": "points",
         "hovertemplate": "Amount of Sales for Price=89<br>index=%{x}<extra></extra>",
         "jitter": 0,
         "legendgroup": "89",
         "line": {
          "color": "rgba(255,255,255,0)"
         },
         "marker": {
          "color": "#636efa",
          "symbol": "line-ns-open"
         },
         "name": "89",
         "offsetgroup": "89",
         "showlegend": false,
         "type": "box",
         "x": [
          0.14
         ],
         "xaxis": "x2",
         "yaxis": "y2"
        },
        {
         "alignmentgroup": "True",
         "bingroup": "x",
         "histfunc": "sum",
         "hovertemplate": "Amount of Sales for Price=88<br>index=%{x}<br>sum of Amount of Sales for Price=%{y}<extra></extra>",
         "legendgroup": "88",
         "marker": {
          "color": "#EF553B"
         },
         "name": "88",
         "offsetgroup": "88",
         "orientation": "v",
         "showlegend": true,
         "type": "histogram",
         "x": [
          10.75
         ],
         "xaxis": "x",
         "y": [
          88
         ],
         "yaxis": "y"
        },
        {
         "alignmentgroup": "True",
         "boxpoints": "all",
         "fillcolor": "rgba(255,255,255,0)",
         "hoveron": "points",
         "hovertemplate": "Amount of Sales for Price=88<br>index=%{x}<extra></extra>",
         "jitter": 0,
         "legendgroup": "88",
         "line": {
          "color": "rgba(255,255,255,0)"
         },
         "marker": {
          "color": "#EF553B",
          "symbol": "line-ns-open"
         },
         "name": "88",
         "offsetgroup": "88",
         "showlegend": false,
         "type": "box",
         "x": [
          10.75
         ],
         "xaxis": "x2",
         "yaxis": "y2"
        },
        {
         "alignmentgroup": "True",
         "bingroup": "x",
         "histfunc": "sum",
         "hovertemplate": "Amount of Sales for Price=87<br>index=%{x}<br>sum of Amount of Sales for Price=%{y}<extra></extra>",
         "legendgroup": "87",
         "marker": {
          "color": "#00cc96"
         },
         "name": "87",
         "offsetgroup": "87",
         "orientation": "v",
         "showlegend": true,
         "type": "histogram",
         "x": [
          0.97,
          9.15
         ],
         "xaxis": "x",
         "y": [
          87,
          87
         ],
         "yaxis": "y"
        },
        {
         "alignmentgroup": "True",
         "boxpoints": "all",
         "fillcolor": "rgba(255,255,255,0)",
         "hoveron": "points",
         "hovertemplate": "Amount of Sales for Price=87<br>index=%{x}<extra></extra>",
         "jitter": 0,
         "legendgroup": "87",
         "line": {
          "color": "rgba(255,255,255,0)"
         },
         "marker": {
          "color": "#00cc96",
          "symbol": "line-ns-open"
         },
         "name": "87",
         "offsetgroup": "87",
         "showlegend": false,
         "type": "box",
         "x": [
          0.97,
          9.15
         ],
         "xaxis": "x2",
         "yaxis": "y2"
        },
        {
         "alignmentgroup": "True",
         "bingroup": "x",
         "histfunc": "sum",
         "hovertemplate": "Amount of Sales for Price=84<br>index=%{x}<br>sum of Amount of Sales for Price=%{y}<extra></extra>",
         "legendgroup": "84",
         "marker": {
          "color": "#ab63fa"
         },
         "name": "84",
         "offsetgroup": "84",
         "orientation": "v",
         "showlegend": true,
         "type": "histogram",
         "x": [
          2.96
         ],
         "xaxis": "x",
         "y": [
          84
         ],
         "yaxis": "y"
        },
        {
         "alignmentgroup": "True",
         "boxpoints": "all",
         "fillcolor": "rgba(255,255,255,0)",
         "hoveron": "points",
         "hovertemplate": "Amount of Sales for Price=84<br>index=%{x}<extra></extra>",
         "jitter": 0,
         "legendgroup": "84",
         "line": {
          "color": "rgba(255,255,255,0)"
         },
         "marker": {
          "color": "#ab63fa",
          "symbol": "line-ns-open"
         },
         "name": "84",
         "offsetgroup": "84",
         "showlegend": false,
         "type": "box",
         "x": [
          2.96
         ],
         "xaxis": "x2",
         "yaxis": "y2"
        },
        {
         "alignmentgroup": "True",
         "bingroup": "x",
         "histfunc": "sum",
         "hovertemplate": "Amount of Sales for Price=81<br>index=%{x}<br>sum of Amount of Sales for Price=%{y}<extra></extra>",
         "legendgroup": "81",
         "marker": {
          "color": "#FFA15A"
         },
         "name": "81",
         "offsetgroup": "81",
         "orientation": "v",
         "showlegend": true,
         "type": "histogram",
         "x": [
          24.95
         ],
         "xaxis": "x",
         "y": [
          81
         ],
         "yaxis": "y"
        },
        {
         "alignmentgroup": "True",
         "boxpoints": "all",
         "fillcolor": "rgba(255,255,255,0)",
         "hoveron": "points",
         "hovertemplate": "Amount of Sales for Price=81<br>index=%{x}<extra></extra>",
         "jitter": 0,
         "legendgroup": "81",
         "line": {
          "color": "rgba(255,255,255,0)"
         },
         "marker": {
          "color": "#FFA15A",
          "symbol": "line-ns-open"
         },
         "name": "81",
         "offsetgroup": "81",
         "showlegend": false,
         "type": "box",
         "x": [
          24.95
         ],
         "xaxis": "x2",
         "yaxis": "y2"
        },
        {
         "alignmentgroup": "True",
         "bingroup": "x",
         "histfunc": "sum",
         "hovertemplate": "Amount of Sales for Price=80<br>index=%{x}<br>sum of Amount of Sales for Price=%{y}<extra></extra>",
         "legendgroup": "80",
         "marker": {
          "color": "#19d3f3"
         },
         "name": "80",
         "offsetgroup": "80",
         "orientation": "v",
         "showlegend": true,
         "type": "histogram",
         "x": [
          25
         ],
         "xaxis": "x",
         "y": [
          80
         ],
         "yaxis": "y"
        },
        {
         "alignmentgroup": "True",
         "boxpoints": "all",
         "fillcolor": "rgba(255,255,255,0)",
         "hoveron": "points",
         "hovertemplate": "Amount of Sales for Price=80<br>index=%{x}<extra></extra>",
         "jitter": 0,
         "legendgroup": "80",
         "line": {
          "color": "rgba(255,255,255,0)"
         },
         "marker": {
          "color": "#19d3f3",
          "symbol": "line-ns-open"
         },
         "name": "80",
         "offsetgroup": "80",
         "showlegend": false,
         "type": "box",
         "x": [
          25
         ],
         "xaxis": "x2",
         "yaxis": "y2"
        },
        {
         "alignmentgroup": "True",
         "bingroup": "x",
         "histfunc": "sum",
         "hovertemplate": "Amount of Sales for Price=74<br>index=%{x}<br>sum of Amount of Sales for Price=%{y}<extra></extra>",
         "legendgroup": "74",
         "marker": {
          "color": "#FF6692"
         },
         "name": "74",
         "offsetgroup": "74",
         "orientation": "v",
         "showlegend": true,
         "type": "histogram",
         "x": [
          20.38
         ],
         "xaxis": "x",
         "y": [
          74
         ],
         "yaxis": "y"
        },
        {
         "alignmentgroup": "True",
         "boxpoints": "all",
         "fillcolor": "rgba(255,255,255,0)",
         "hoveron": "points",
         "hovertemplate": "Amount of Sales for Price=74<br>index=%{x}<extra></extra>",
         "jitter": 0,
         "legendgroup": "74",
         "line": {
          "color": "rgba(255,255,255,0)"
         },
         "marker": {
          "color": "#FF6692",
          "symbol": "line-ns-open"
         },
         "name": "74",
         "offsetgroup": "74",
         "showlegend": false,
         "type": "box",
         "x": [
          20.38
         ],
         "xaxis": "x2",
         "yaxis": "y2"
        },
        {
         "alignmentgroup": "True",
         "bingroup": "x",
         "histfunc": "sum",
         "hovertemplate": "Amount of Sales for Price=73<br>index=%{x}<br>sum of Amount of Sales for Price=%{y}<extra></extra>",
         "legendgroup": "73",
         "marker": {
          "color": "#B6E880"
         },
         "name": "73",
         "offsetgroup": "73",
         "orientation": "v",
         "showlegend": true,
         "type": "histogram",
         "x": [
          5.39
         ],
         "xaxis": "x",
         "y": [
          73
         ],
         "yaxis": "y"
        },
        {
         "alignmentgroup": "True",
         "boxpoints": "all",
         "fillcolor": "rgba(255,255,255,0)",
         "hoveron": "points",
         "hovertemplate": "Amount of Sales for Price=73<br>index=%{x}<extra></extra>",
         "jitter": 0,
         "legendgroup": "73",
         "line": {
          "color": "rgba(255,255,255,0)"
         },
         "marker": {
          "color": "#B6E880",
          "symbol": "line-ns-open"
         },
         "name": "73",
         "offsetgroup": "73",
         "showlegend": false,
         "type": "box",
         "x": [
          5.39
         ],
         "xaxis": "x2",
         "yaxis": "y2"
        },
        {
         "alignmentgroup": "True",
         "bingroup": "x",
         "histfunc": "sum",
         "hovertemplate": "Amount of Sales for Price=71<br>index=%{x}<br>sum of Amount of Sales for Price=%{y}<extra></extra>",
         "legendgroup": "71",
         "marker": {
          "color": "#FF97FF"
         },
         "name": "71",
         "offsetgroup": "71",
         "orientation": "v",
         "showlegend": true,
         "type": "histogram",
         "x": [
          21.23
         ],
         "xaxis": "x",
         "y": [
          71
         ],
         "yaxis": "y"
        },
        {
         "alignmentgroup": "True",
         "boxpoints": "all",
         "fillcolor": "rgba(255,255,255,0)",
         "hoveron": "points",
         "hovertemplate": "Amount of Sales for Price=71<br>index=%{x}<extra></extra>",
         "jitter": 0,
         "legendgroup": "71",
         "line": {
          "color": "rgba(255,255,255,0)"
         },
         "marker": {
          "color": "#FF97FF",
          "symbol": "line-ns-open"
         },
         "name": "71",
         "offsetgroup": "71",
         "showlegend": false,
         "type": "box",
         "x": [
          21.23
         ],
         "xaxis": "x2",
         "yaxis": "y2"
        },
        {
         "alignmentgroup": "True",
         "bingroup": "x",
         "histfunc": "sum",
         "hovertemplate": "Amount of Sales for Price=69<br>index=%{x}<br>sum of Amount of Sales for Price=%{y}<extra></extra>",
         "legendgroup": "69",
         "marker": {
          "color": "#FECB52"
         },
         "name": "69",
         "offsetgroup": "69",
         "orientation": "v",
         "showlegend": true,
         "type": "histogram",
         "x": [
          5.09,
          0.34
         ],
         "xaxis": "x",
         "y": [
          69,
          69
         ],
         "yaxis": "y"
        },
        {
         "alignmentgroup": "True",
         "boxpoints": "all",
         "fillcolor": "rgba(255,255,255,0)",
         "hoveron": "points",
         "hovertemplate": "Amount of Sales for Price=69<br>index=%{x}<extra></extra>",
         "jitter": 0,
         "legendgroup": "69",
         "line": {
          "color": "rgba(255,255,255,0)"
         },
         "marker": {
          "color": "#FECB52",
          "symbol": "line-ns-open"
         },
         "name": "69",
         "offsetgroup": "69",
         "showlegend": false,
         "type": "box",
         "x": [
          5.09,
          0.34
         ],
         "xaxis": "x2",
         "yaxis": "y2"
        },
        {
         "alignmentgroup": "True",
         "bingroup": "x",
         "histfunc": "sum",
         "hovertemplate": "Amount of Sales for Price=67<br>index=%{x}<br>sum of Amount of Sales for Price=%{y}<extra></extra>",
         "legendgroup": "67",
         "marker": {
          "color": "#636efa"
         },
         "name": "67",
         "offsetgroup": "67",
         "orientation": "v",
         "showlegend": true,
         "type": "histogram",
         "x": [
          125
         ],
         "xaxis": "x",
         "y": [
          67
         ],
         "yaxis": "y"
        },
        {
         "alignmentgroup": "True",
         "boxpoints": "all",
         "fillcolor": "rgba(255,255,255,0)",
         "hoveron": "points",
         "hovertemplate": "Amount of Sales for Price=67<br>index=%{x}<extra></extra>",
         "jitter": 0,
         "legendgroup": "67",
         "line": {
          "color": "rgba(255,255,255,0)"
         },
         "marker": {
          "color": "#636efa",
          "symbol": "line-ns-open"
         },
         "name": "67",
         "offsetgroup": "67",
         "showlegend": false,
         "type": "box",
         "x": [
          125
         ],
         "xaxis": "x2",
         "yaxis": "y2"
        },
        {
         "alignmentgroup": "True",
         "bingroup": "x",
         "histfunc": "sum",
         "hovertemplate": "Amount of Sales for Price=66<br>index=%{x}<br>sum of Amount of Sales for Price=%{y}<extra></extra>",
         "legendgroup": "66",
         "marker": {
          "color": "#EF553B"
         },
         "name": "66",
         "offsetgroup": "66",
         "orientation": "v",
         "showlegend": true,
         "type": "histogram",
         "x": [
          5.49,
          0.04,
          16.65
         ],
         "xaxis": "x",
         "y": [
          66,
          66,
          66
         ],
         "yaxis": "y"
        },
        {
         "alignmentgroup": "True",
         "boxpoints": "all",
         "fillcolor": "rgba(255,255,255,0)",
         "hoveron": "points",
         "hovertemplate": "Amount of Sales for Price=66<br>index=%{x}<extra></extra>",
         "jitter": 0,
         "legendgroup": "66",
         "line": {
          "color": "rgba(255,255,255,0)"
         },
         "marker": {
          "color": "#EF553B",
          "symbol": "line-ns-open"
         },
         "name": "66",
         "offsetgroup": "66",
         "showlegend": false,
         "type": "box",
         "x": [
          5.49,
          0.04,
          16.65
         ],
         "xaxis": "x2",
         "yaxis": "y2"
        },
        {
         "alignmentgroup": "True",
         "bingroup": "x",
         "histfunc": "sum",
         "hovertemplate": "Amount of Sales for Price=65<br>index=%{x}<br>sum of Amount of Sales for Price=%{y}<extra></extra>",
         "legendgroup": "65",
         "marker": {
          "color": "#00cc96"
         },
         "name": "65",
         "offsetgroup": "65",
         "orientation": "v",
         "showlegend": true,
         "type": "histogram",
         "x": [
          1.46
         ],
         "xaxis": "x",
         "y": [
          65
         ],
         "yaxis": "y"
        },
        {
         "alignmentgroup": "True",
         "boxpoints": "all",
         "fillcolor": "rgba(255,255,255,0)",
         "hoveron": "points",
         "hovertemplate": "Amount of Sales for Price=65<br>index=%{x}<extra></extra>",
         "jitter": 0,
         "legendgroup": "65",
         "line": {
          "color": "rgba(255,255,255,0)"
         },
         "marker": {
          "color": "#00cc96",
          "symbol": "line-ns-open"
         },
         "name": "65",
         "offsetgroup": "65",
         "showlegend": false,
         "type": "box",
         "x": [
          1.46
         ],
         "xaxis": "x2",
         "yaxis": "y2"
        },
        {
         "alignmentgroup": "True",
         "bingroup": "x",
         "histfunc": "sum",
         "hovertemplate": "Amount of Sales for Price=64<br>index=%{x}<br>sum of Amount of Sales for Price=%{y}<extra></extra>",
         "legendgroup": "64",
         "marker": {
          "color": "#ab63fa"
         },
         "name": "64",
         "offsetgroup": "64",
         "orientation": "v",
         "showlegend": true,
         "type": "histogram",
         "x": [
          0.25,
          0.84
         ],
         "xaxis": "x",
         "y": [
          64,
          64
         ],
         "yaxis": "y"
        },
        {
         "alignmentgroup": "True",
         "boxpoints": "all",
         "fillcolor": "rgba(255,255,255,0)",
         "hoveron": "points",
         "hovertemplate": "Amount of Sales for Price=64<br>index=%{x}<extra></extra>",
         "jitter": 0,
         "legendgroup": "64",
         "line": {
          "color": "rgba(255,255,255,0)"
         },
         "marker": {
          "color": "#ab63fa",
          "symbol": "line-ns-open"
         },
         "name": "64",
         "offsetgroup": "64",
         "showlegend": false,
         "type": "box",
         "x": [
          0.25,
          0.84
         ],
         "xaxis": "x2",
         "yaxis": "y2"
        },
        {
         "alignmentgroup": "True",
         "bingroup": "x",
         "histfunc": "sum",
         "hovertemplate": "Amount of Sales for Price=62<br>index=%{x}<br>sum of Amount of Sales for Price=%{y}<extra></extra>",
         "legendgroup": "62",
         "marker": {
          "color": "#FFA15A"
         },
         "name": "62",
         "offsetgroup": "62",
         "orientation": "v",
         "showlegend": true,
         "type": "histogram",
         "x": [
          0.5
         ],
         "xaxis": "x",
         "y": [
          62
         ],
         "yaxis": "y"
        },
        {
         "alignmentgroup": "True",
         "boxpoints": "all",
         "fillcolor": "rgba(255,255,255,0)",
         "hoveron": "points",
         "hovertemplate": "Amount of Sales for Price=62<br>index=%{x}<extra></extra>",
         "jitter": 0,
         "legendgroup": "62",
         "line": {
          "color": "rgba(255,255,255,0)"
         },
         "marker": {
          "color": "#FFA15A",
          "symbol": "line-ns-open"
         },
         "name": "62",
         "offsetgroup": "62",
         "showlegend": false,
         "type": "box",
         "x": [
          0.5
         ],
         "xaxis": "x2",
         "yaxis": "y2"
        },
        {
         "alignmentgroup": "True",
         "bingroup": "x",
         "histfunc": "sum",
         "hovertemplate": "Amount of Sales for Price=60<br>index=%{x}<br>sum of Amount of Sales for Price=%{y}<extra></extra>",
         "legendgroup": "60",
         "marker": {
          "color": "#19d3f3"
         },
         "name": "60",
         "offsetgroup": "60",
         "orientation": "v",
         "showlegend": true,
         "type": "histogram",
         "x": [
          7.45
         ],
         "xaxis": "x",
         "y": [
          60
         ],
         "yaxis": "y"
        },
        {
         "alignmentgroup": "True",
         "boxpoints": "all",
         "fillcolor": "rgba(255,255,255,0)",
         "hoveron": "points",
         "hovertemplate": "Amount of Sales for Price=60<br>index=%{x}<extra></extra>",
         "jitter": 0,
         "legendgroup": "60",
         "line": {
          "color": "rgba(255,255,255,0)"
         },
         "marker": {
          "color": "#19d3f3",
          "symbol": "line-ns-open"
         },
         "name": "60",
         "offsetgroup": "60",
         "showlegend": false,
         "type": "box",
         "x": [
          7.45
         ],
         "xaxis": "x2",
         "yaxis": "y2"
        },
        {
         "alignmentgroup": "True",
         "bingroup": "x",
         "histfunc": "sum",
         "hovertemplate": "Amount of Sales for Price=58<br>index=%{x}<br>sum of Amount of Sales for Price=%{y}<extra></extra>",
         "legendgroup": "58",
         "marker": {
          "color": "#FF6692"
         },
         "name": "58",
         "offsetgroup": "58",
         "orientation": "v",
         "showlegend": true,
         "type": "histogram",
         "x": [
          29.95,
          1.74,
          1.75
         ],
         "xaxis": "x",
         "y": [
          58,
          58,
          58
         ],
         "yaxis": "y"
        },
        {
         "alignmentgroup": "True",
         "boxpoints": "all",
         "fillcolor": "rgba(255,255,255,0)",
         "hoveron": "points",
         "hovertemplate": "Amount of Sales for Price=58<br>index=%{x}<extra></extra>",
         "jitter": 0,
         "legendgroup": "58",
         "line": {
          "color": "rgba(255,255,255,0)"
         },
         "marker": {
          "color": "#FF6692",
          "symbol": "line-ns-open"
         },
         "name": "58",
         "offsetgroup": "58",
         "showlegend": false,
         "type": "box",
         "x": [
          29.95,
          1.74,
          1.75
         ],
         "xaxis": "x2",
         "yaxis": "y2"
        },
        {
         "alignmentgroup": "True",
         "bingroup": "x",
         "histfunc": "sum",
         "hovertemplate": "Amount of Sales for Price=57<br>index=%{x}<br>sum of Amount of Sales for Price=%{y}<extra></extra>",
         "legendgroup": "57",
         "marker": {
          "color": "#B6E880"
         },
         "name": "57",
         "offsetgroup": "57",
         "orientation": "v",
         "showlegend": true,
         "type": "histogram",
         "x": [
          1.8,
          7.85
         ],
         "xaxis": "x",
         "y": [
          57,
          57
         ],
         "yaxis": "y"
        },
        {
         "alignmentgroup": "True",
         "boxpoints": "all",
         "fillcolor": "rgba(255,255,255,0)",
         "hoveron": "points",
         "hovertemplate": "Amount of Sales for Price=57<br>index=%{x}<extra></extra>",
         "jitter": 0,
         "legendgroup": "57",
         "line": {
          "color": "rgba(255,255,255,0)"
         },
         "marker": {
          "color": "#B6E880",
          "symbol": "line-ns-open"
         },
         "name": "57",
         "offsetgroup": "57",
         "showlegend": false,
         "type": "box",
         "x": [
          1.8,
          7.85
         ],
         "xaxis": "x2",
         "yaxis": "y2"
        },
        {
         "alignmentgroup": "True",
         "bingroup": "x",
         "histfunc": "sum",
         "hovertemplate": "Amount of Sales for Price=56<br>index=%{x}<br>sum of Amount of Sales for Price=%{y}<extra></extra>",
         "legendgroup": "56",
         "marker": {
          "color": "#FF97FF"
         },
         "name": "56",
         "offsetgroup": "56",
         "orientation": "v",
         "showlegend": true,
         "type": "histogram",
         "x": [
          0.08
         ],
         "xaxis": "x",
         "y": [
          56
         ],
         "yaxis": "y"
        },
        {
         "alignmentgroup": "True",
         "boxpoints": "all",
         "fillcolor": "rgba(255,255,255,0)",
         "hoveron": "points",
         "hovertemplate": "Amount of Sales for Price=56<br>index=%{x}<extra></extra>",
         "jitter": 0,
         "legendgroup": "56",
         "line": {
          "color": "rgba(255,255,255,0)"
         },
         "marker": {
          "color": "#FF97FF",
          "symbol": "line-ns-open"
         },
         "name": "56",
         "offsetgroup": "56",
         "showlegend": false,
         "type": "box",
         "x": [
          0.08
         ],
         "xaxis": "x2",
         "yaxis": "y2"
        },
        {
         "alignmentgroup": "True",
         "bingroup": "x",
         "histfunc": "sum",
         "hovertemplate": "Amount of Sales for Price=54<br>index=%{x}<br>sum of Amount of Sales for Price=%{y}<extra></extra>",
         "legendgroup": "54",
         "marker": {
          "color": "#FECB52"
         },
         "name": "54",
         "offsetgroup": "54",
         "orientation": "v",
         "showlegend": true,
         "type": "histogram",
         "x": [
          0.3
         ],
         "xaxis": "x",
         "y": [
          54
         ],
         "yaxis": "y"
        },
        {
         "alignmentgroup": "True",
         "boxpoints": "all",
         "fillcolor": "rgba(255,255,255,0)",
         "hoveron": "points",
         "hovertemplate": "Amount of Sales for Price=54<br>index=%{x}<extra></extra>",
         "jitter": 0,
         "legendgroup": "54",
         "line": {
          "color": "rgba(255,255,255,0)"
         },
         "marker": {
          "color": "#FECB52",
          "symbol": "line-ns-open"
         },
         "name": "54",
         "offsetgroup": "54",
         "showlegend": false,
         "type": "box",
         "x": [
          0.3
         ],
         "xaxis": "x2",
         "yaxis": "y2"
        },
        {
         "alignmentgroup": "True",
         "bingroup": "x",
         "histfunc": "sum",
         "hovertemplate": "Amount of Sales for Price=53<br>index=%{x}<br>sum of Amount of Sales for Price=%{y}<extra></extra>",
         "legendgroup": "53",
         "marker": {
          "color": "#636efa"
         },
         "name": "53",
         "offsetgroup": "53",
         "orientation": "v",
         "showlegend": true,
         "type": "histogram",
         "x": [
          5.63,
          0.1
         ],
         "xaxis": "x",
         "y": [
          53,
          53
         ],
         "yaxis": "y"
        },
        {
         "alignmentgroup": "True",
         "boxpoints": "all",
         "fillcolor": "rgba(255,255,255,0)",
         "hoveron": "points",
         "hovertemplate": "Amount of Sales for Price=53<br>index=%{x}<extra></extra>",
         "jitter": 0,
         "legendgroup": "53",
         "line": {
          "color": "rgba(255,255,255,0)"
         },
         "marker": {
          "color": "#636efa",
          "symbol": "line-ns-open"
         },
         "name": "53",
         "offsetgroup": "53",
         "showlegend": false,
         "type": "box",
         "x": [
          5.63,
          0.1
         ],
         "xaxis": "x2",
         "yaxis": "y2"
        },
        {
         "alignmentgroup": "True",
         "bingroup": "x",
         "histfunc": "sum",
         "hovertemplate": "Amount of Sales for Price=52<br>index=%{x}<br>sum of Amount of Sales for Price=%{y}<extra></extra>",
         "legendgroup": "52",
         "marker": {
          "color": "#EF553B"
         },
         "name": "52",
         "offsetgroup": "52",
         "orientation": "v",
         "showlegend": true,
         "type": "histogram",
         "x": [
          5.4
         ],
         "xaxis": "x",
         "y": [
          52
         ],
         "yaxis": "y"
        },
        {
         "alignmentgroup": "True",
         "boxpoints": "all",
         "fillcolor": "rgba(255,255,255,0)",
         "hoveron": "points",
         "hovertemplate": "Amount of Sales for Price=52<br>index=%{x}<extra></extra>",
         "jitter": 0,
         "legendgroup": "52",
         "line": {
          "color": "rgba(255,255,255,0)"
         },
         "marker": {
          "color": "#EF553B",
          "symbol": "line-ns-open"
         },
         "name": "52",
         "offsetgroup": "52",
         "showlegend": false,
         "type": "box",
         "x": [
          5.4
         ],
         "xaxis": "x2",
         "yaxis": "y2"
        },
        {
         "alignmentgroup": "True",
         "bingroup": "x",
         "histfunc": "sum",
         "hovertemplate": "Amount of Sales for Price=50<br>index=%{x}<br>sum of Amount of Sales for Price=%{y}<extra></extra>",
         "legendgroup": "50",
         "marker": {
          "color": "#00cc96"
         },
         "name": "50",
         "offsetgroup": "50",
         "orientation": "v",
         "showlegend": true,
         "type": "histogram",
         "x": [
          1.05
         ],
         "xaxis": "x",
         "y": [
          50
         ],
         "yaxis": "y"
        },
        {
         "alignmentgroup": "True",
         "boxpoints": "all",
         "fillcolor": "rgba(255,255,255,0)",
         "hoveron": "points",
         "hovertemplate": "Amount of Sales for Price=50<br>index=%{x}<extra></extra>",
         "jitter": 0,
         "legendgroup": "50",
         "line": {
          "color": "rgba(255,255,255,0)"
         },
         "marker": {
          "color": "#00cc96",
          "symbol": "line-ns-open"
         },
         "name": "50",
         "offsetgroup": "50",
         "showlegend": false,
         "type": "box",
         "x": [
          1.05
         ],
         "xaxis": "x2",
         "yaxis": "y2"
        },
        {
         "alignmentgroup": "True",
         "bingroup": "x",
         "histfunc": "sum",
         "hovertemplate": "Amount of Sales for Price=46<br>index=%{x}<br>sum of Amount of Sales for Price=%{y}<extra></extra>",
         "legendgroup": "46",
         "marker": {
          "color": "#ab63fa"
         },
         "name": "46",
         "offsetgroup": "46",
         "orientation": "v",
         "showlegend": true,
         "type": "histogram",
         "x": [
          0.16,
          0.53
         ],
         "xaxis": "x",
         "y": [
          46,
          46
         ],
         "yaxis": "y"
        },
        {
         "alignmentgroup": "True",
         "boxpoints": "all",
         "fillcolor": "rgba(255,255,255,0)",
         "hoveron": "points",
         "hovertemplate": "Amount of Sales for Price=46<br>index=%{x}<extra></extra>",
         "jitter": 0,
         "legendgroup": "46",
         "line": {
          "color": "rgba(255,255,255,0)"
         },
         "marker": {
          "color": "#ab63fa",
          "symbol": "line-ns-open"
         },
         "name": "46",
         "offsetgroup": "46",
         "showlegend": false,
         "type": "box",
         "x": [
          0.16,
          0.53
         ],
         "xaxis": "x2",
         "yaxis": "y2"
        },
        {
         "alignmentgroup": "True",
         "bingroup": "x",
         "histfunc": "sum",
         "hovertemplate": "Amount of Sales for Price=45<br>index=%{x}<br>sum of Amount of Sales for Price=%{y}<extra></extra>",
         "legendgroup": "45",
         "marker": {
          "color": "#FFA15A"
         },
         "name": "45",
         "offsetgroup": "45",
         "orientation": "v",
         "showlegend": true,
         "type": "histogram",
         "x": [
          0.32,
          0.61
         ],
         "xaxis": "x",
         "y": [
          45,
          45
         ],
         "yaxis": "y"
        },
        {
         "alignmentgroup": "True",
         "boxpoints": "all",
         "fillcolor": "rgba(255,255,255,0)",
         "hoveron": "points",
         "hovertemplate": "Amount of Sales for Price=45<br>index=%{x}<extra></extra>",
         "jitter": 0,
         "legendgroup": "45",
         "line": {
          "color": "rgba(255,255,255,0)"
         },
         "marker": {
          "color": "#FFA15A",
          "symbol": "line-ns-open"
         },
         "name": "45",
         "offsetgroup": "45",
         "showlegend": false,
         "type": "box",
         "x": [
          0.32,
          0.61
         ],
         "xaxis": "x2",
         "yaxis": "y2"
        },
        {
         "alignmentgroup": "True",
         "bingroup": "x",
         "histfunc": "sum",
         "hovertemplate": "Amount of Sales for Price=42<br>index=%{x}<br>sum of Amount of Sales for Price=%{y}<extra></extra>",
         "legendgroup": "42",
         "marker": {
          "color": "#19d3f3"
         },
         "name": "42",
         "offsetgroup": "42",
         "orientation": "v",
         "showlegend": true,
         "type": "histogram",
         "x": [
          8.33
         ],
         "xaxis": "x",
         "y": [
          42
         ],
         "yaxis": "y"
        },
        {
         "alignmentgroup": "True",
         "boxpoints": "all",
         "fillcolor": "rgba(255,255,255,0)",
         "hoveron": "points",
         "hovertemplate": "Amount of Sales for Price=42<br>index=%{x}<extra></extra>",
         "jitter": 0,
         "legendgroup": "42",
         "line": {
          "color": "rgba(255,255,255,0)"
         },
         "marker": {
          "color": "#19d3f3",
          "symbol": "line-ns-open"
         },
         "name": "42",
         "offsetgroup": "42",
         "showlegend": false,
         "type": "box",
         "x": [
          8.33
         ],
         "xaxis": "x2",
         "yaxis": "y2"
        },
        {
         "alignmentgroup": "True",
         "bingroup": "x",
         "histfunc": "sum",
         "hovertemplate": "Amount of Sales for Price=41<br>index=%{x}<br>sum of Amount of Sales for Price=%{y}<extra></extra>",
         "legendgroup": "41",
         "marker": {
          "color": "#FF6692"
         },
         "name": "41",
         "offsetgroup": "41",
         "orientation": "v",
         "showlegend": true,
         "type": "histogram",
         "x": [
          5.55,
          2.07,
          8.32,
          35.95
         ],
         "xaxis": "x",
         "y": [
          41,
          41,
          41,
          41
         ],
         "yaxis": "y"
        },
        {
         "alignmentgroup": "True",
         "boxpoints": "all",
         "fillcolor": "rgba(255,255,255,0)",
         "hoveron": "points",
         "hovertemplate": "Amount of Sales for Price=41<br>index=%{x}<extra></extra>",
         "jitter": 0,
         "legendgroup": "41",
         "line": {
          "color": "rgba(255,255,255,0)"
         },
         "marker": {
          "color": "#FF6692",
          "symbol": "line-ns-open"
         },
         "name": "41",
         "offsetgroup": "41",
         "showlegend": false,
         "type": "box",
         "x": [
          5.55,
          2.07,
          8.32,
          35.95
         ],
         "xaxis": "x2",
         "yaxis": "y2"
        },
        {
         "alignmentgroup": "True",
         "bingroup": "x",
         "histfunc": "sum",
         "hovertemplate": "Amount of Sales for Price=40<br>index=%{x}<br>sum of Amount of Sales for Price=%{y}<extra></extra>",
         "legendgroup": "40",
         "marker": {
          "color": "#B6E880"
         },
         "name": "40",
         "offsetgroup": "40",
         "orientation": "v",
         "showlegend": true,
         "type": "histogram",
         "x": [
          6.23
         ],
         "xaxis": "x",
         "y": [
          40
         ],
         "yaxis": "y"
        },
        {
         "alignmentgroup": "True",
         "boxpoints": "all",
         "fillcolor": "rgba(255,255,255,0)",
         "hoveron": "points",
         "hovertemplate": "Amount of Sales for Price=40<br>index=%{x}<extra></extra>",
         "jitter": 0,
         "legendgroup": "40",
         "line": {
          "color": "rgba(255,255,255,0)"
         },
         "marker": {
          "color": "#B6E880",
          "symbol": "line-ns-open"
         },
         "name": "40",
         "offsetgroup": "40",
         "showlegend": false,
         "type": "box",
         "x": [
          6.23
         ],
         "xaxis": "x2",
         "yaxis": "y2"
        },
        {
         "alignmentgroup": "True",
         "bingroup": "x",
         "histfunc": "sum",
         "hovertemplate": "Amount of Sales for Price=39<br>index=%{x}<br>sum of Amount of Sales for Price=%{y}<extra></extra>",
         "legendgroup": "39",
         "marker": {
          "color": "#FF97FF"
         },
         "name": "39",
         "offsetgroup": "39",
         "orientation": "v",
         "showlegend": true,
         "type": "histogram",
         "x": [
          58.29,
          2.54
         ],
         "xaxis": "x",
         "y": [
          39,
          39
         ],
         "yaxis": "y"
        },
        {
         "alignmentgroup": "True",
         "boxpoints": "all",
         "fillcolor": "rgba(255,255,255,0)",
         "hoveron": "points",
         "hovertemplate": "Amount of Sales for Price=39<br>index=%{x}<extra></extra>",
         "jitter": 0,
         "legendgroup": "39",
         "line": {
          "color": "rgba(255,255,255,0)"
         },
         "marker": {
          "color": "#FF97FF",
          "symbol": "line-ns-open"
         },
         "name": "39",
         "offsetgroup": "39",
         "showlegend": false,
         "type": "box",
         "x": [
          58.29,
          2.54
         ],
         "xaxis": "x2",
         "yaxis": "y2"
        },
        {
         "alignmentgroup": "True",
         "bingroup": "x",
         "histfunc": "sum",
         "hovertemplate": "Amount of Sales for Price=38<br>index=%{x}<br>sum of Amount of Sales for Price=%{y}<extra></extra>",
         "legendgroup": "38",
         "marker": {
          "color": "#FECB52"
         },
         "name": "38",
         "offsetgroup": "38",
         "orientation": "v",
         "showlegend": true,
         "type": "histogram",
         "x": [
          8,
          29.13
         ],
         "xaxis": "x",
         "y": [
          38,
          38
         ],
         "yaxis": "y"
        },
        {
         "alignmentgroup": "True",
         "boxpoints": "all",
         "fillcolor": "rgba(255,255,255,0)",
         "hoveron": "points",
         "hovertemplate": "Amount of Sales for Price=38<br>index=%{x}<extra></extra>",
         "jitter": 0,
         "legendgroup": "38",
         "line": {
          "color": "rgba(255,255,255,0)"
         },
         "marker": {
          "color": "#FECB52",
          "symbol": "line-ns-open"
         },
         "name": "38",
         "offsetgroup": "38",
         "showlegend": false,
         "type": "box",
         "x": [
          8,
          29.13
         ],
         "xaxis": "x2",
         "yaxis": "y2"
        },
        {
         "alignmentgroup": "True",
         "bingroup": "x",
         "histfunc": "sum",
         "hovertemplate": "Amount of Sales for Price=37<br>index=%{x}<br>sum of Amount of Sales for Price=%{y}<extra></extra>",
         "legendgroup": "37",
         "marker": {
          "color": "#636efa"
         },
         "name": "37",
         "offsetgroup": "37",
         "orientation": "v",
         "showlegend": true,
         "type": "histogram",
         "x": [
          8.49
         ],
         "xaxis": "x",
         "y": [
          37
         ],
         "yaxis": "y"
        },
        {
         "alignmentgroup": "True",
         "boxpoints": "all",
         "fillcolor": "rgba(255,255,255,0)",
         "hoveron": "points",
         "hovertemplate": "Amount of Sales for Price=37<br>index=%{x}<extra></extra>",
         "jitter": 0,
         "legendgroup": "37",
         "line": {
          "color": "rgba(255,255,255,0)"
         },
         "marker": {
          "color": "#636efa",
          "symbol": "line-ns-open"
         },
         "name": "37",
         "offsetgroup": "37",
         "showlegend": false,
         "type": "box",
         "x": [
          8.49
         ],
         "xaxis": "x2",
         "yaxis": "y2"
        },
        {
         "alignmentgroup": "True",
         "bingroup": "x",
         "histfunc": "sum",
         "hovertemplate": "Amount of Sales for Price=36<br>index=%{x}<br>sum of Amount of Sales for Price=%{y}<extra></extra>",
         "legendgroup": "36",
         "marker": {
          "color": "#EF553B"
         },
         "name": "36",
         "offsetgroup": "36",
         "orientation": "v",
         "showlegend": true,
         "type": "histogram",
         "x": [
          1.5
         ],
         "xaxis": "x",
         "y": [
          36
         ],
         "yaxis": "y"
        },
        {
         "alignmentgroup": "True",
         "boxpoints": "all",
         "fillcolor": "rgba(255,255,255,0)",
         "hoveron": "points",
         "hovertemplate": "Amount of Sales for Price=36<br>index=%{x}<extra></extra>",
         "jitter": 0,
         "legendgroup": "36",
         "line": {
          "color": "rgba(255,255,255,0)"
         },
         "marker": {
          "color": "#EF553B",
          "symbol": "line-ns-open"
         },
         "name": "36",
         "offsetgroup": "36",
         "showlegend": false,
         "type": "box",
         "x": [
          1.5
         ],
         "xaxis": "x2",
         "yaxis": "y2"
        },
        {
         "alignmentgroup": "True",
         "bingroup": "x",
         "histfunc": "sum",
         "hovertemplate": "Amount of Sales for Price=35<br>index=%{x}<br>sum of Amount of Sales for Price=%{y}<extra></extra>",
         "legendgroup": "35",
         "marker": {
          "color": "#00cc96"
         },
         "name": "35",
         "offsetgroup": "35",
         "orientation": "v",
         "showlegend": true,
         "type": "histogram",
         "x": [
          3.12,
          0.69,
          5.35
         ],
         "xaxis": "x",
         "y": [
          35,
          35,
          35
         ],
         "yaxis": "y"
        },
        {
         "alignmentgroup": "True",
         "boxpoints": "all",
         "fillcolor": "rgba(255,255,255,0)",
         "hoveron": "points",
         "hovertemplate": "Amount of Sales for Price=35<br>index=%{x}<extra></extra>",
         "jitter": 0,
         "legendgroup": "35",
         "line": {
          "color": "rgba(255,255,255,0)"
         },
         "marker": {
          "color": "#00cc96",
          "symbol": "line-ns-open"
         },
         "name": "35",
         "offsetgroup": "35",
         "showlegend": false,
         "type": "box",
         "x": [
          3.12,
          0.69,
          5.35
         ],
         "xaxis": "x2",
         "yaxis": "y2"
        },
        {
         "alignmentgroup": "True",
         "bingroup": "x",
         "histfunc": "sum",
         "hovertemplate": "Amount of Sales for Price=34<br>index=%{x}<br>sum of Amount of Sales for Price=%{y}<extra></extra>",
         "legendgroup": "34",
         "marker": {
          "color": "#ab63fa"
         },
         "name": "34",
         "offsetgroup": "34",
         "orientation": "v",
         "showlegend": true,
         "type": "histogram",
         "x": [
          1.67,
          21.95,
          34
         ],
         "xaxis": "x",
         "y": [
          34,
          34,
          34
         ],
         "yaxis": "y"
        },
        {
         "alignmentgroup": "True",
         "boxpoints": "all",
         "fillcolor": "rgba(255,255,255,0)",
         "hoveron": "points",
         "hovertemplate": "Amount of Sales for Price=34<br>index=%{x}<extra></extra>",
         "jitter": 0,
         "legendgroup": "34",
         "line": {
          "color": "rgba(255,255,255,0)"
         },
         "marker": {
          "color": "#ab63fa",
          "symbol": "line-ns-open"
         },
         "name": "34",
         "offsetgroup": "34",
         "showlegend": false,
         "type": "box",
         "x": [
          1.67,
          21.95,
          34
         ],
         "xaxis": "x2",
         "yaxis": "y2"
        },
        {
         "alignmentgroup": "True",
         "bingroup": "x",
         "histfunc": "sum",
         "hovertemplate": "Amount of Sales for Price=33<br>index=%{x}<br>sum of Amount of Sales for Price=%{y}<extra></extra>",
         "legendgroup": "33",
         "marker": {
          "color": "#FFA15A"
         },
         "name": "33",
         "offsetgroup": "33",
         "orientation": "v",
         "showlegend": true,
         "type": "histogram",
         "x": [
          2.31
         ],
         "xaxis": "x",
         "y": [
          33
         ],
         "yaxis": "y"
        },
        {
         "alignmentgroup": "True",
         "boxpoints": "all",
         "fillcolor": "rgba(255,255,255,0)",
         "hoveron": "points",
         "hovertemplate": "Amount of Sales for Price=33<br>index=%{x}<extra></extra>",
         "jitter": 0,
         "legendgroup": "33",
         "line": {
          "color": "rgba(255,255,255,0)"
         },
         "marker": {
          "color": "#FFA15A",
          "symbol": "line-ns-open"
         },
         "name": "33",
         "offsetgroup": "33",
         "showlegend": false,
         "type": "box",
         "x": [
          2.31
         ],
         "xaxis": "x2",
         "yaxis": "y2"
        },
        {
         "alignmentgroup": "True",
         "bingroup": "x",
         "histfunc": "sum",
         "hovertemplate": "Amount of Sales for Price=32<br>index=%{x}<br>sum of Amount of Sales for Price=%{y}<extra></extra>",
         "legendgroup": "32",
         "marker": {
          "color": "#19d3f3"
         },
         "name": "32",
         "offsetgroup": "32",
         "orientation": "v",
         "showlegend": true,
         "type": "histogram",
         "x": [
          85
         ],
         "xaxis": "x",
         "y": [
          32
         ],
         "yaxis": "y"
        },
        {
         "alignmentgroup": "True",
         "boxpoints": "all",
         "fillcolor": "rgba(255,255,255,0)",
         "hoveron": "points",
         "hovertemplate": "Amount of Sales for Price=32<br>index=%{x}<extra></extra>",
         "jitter": 0,
         "legendgroup": "32",
         "line": {
          "color": "rgba(255,255,255,0)"
         },
         "marker": {
          "color": "#19d3f3",
          "symbol": "line-ns-open"
         },
         "name": "32",
         "offsetgroup": "32",
         "showlegend": false,
         "type": "box",
         "x": [
          85
         ],
         "xaxis": "x2",
         "yaxis": "y2"
        },
        {
         "alignmentgroup": "True",
         "bingroup": "x",
         "histfunc": "sum",
         "hovertemplate": "Amount of Sales for Price=31<br>index=%{x}<br>sum of Amount of Sales for Price=%{y}<extra></extra>",
         "legendgroup": "31",
         "marker": {
          "color": "#FF6692"
         },
         "name": "31",
         "offsetgroup": "31",
         "orientation": "v",
         "showlegend": true,
         "type": "histogram",
         "x": [
          29.79,
          3.32
         ],
         "xaxis": "x",
         "y": [
          31,
          31
         ],
         "yaxis": "y"
        },
        {
         "alignmentgroup": "True",
         "boxpoints": "all",
         "fillcolor": "rgba(255,255,255,0)",
         "hoveron": "points",
         "hovertemplate": "Amount of Sales for Price=31<br>index=%{x}<extra></extra>",
         "jitter": 0,
         "legendgroup": "31",
         "line": {
          "color": "rgba(255,255,255,0)"
         },
         "marker": {
          "color": "#FF6692",
          "symbol": "line-ns-open"
         },
         "name": "31",
         "offsetgroup": "31",
         "showlegend": false,
         "type": "box",
         "x": [
          29.79,
          3.32
         ],
         "xaxis": "x2",
         "yaxis": "y2"
        },
        {
         "alignmentgroup": "True",
         "bingroup": "x",
         "histfunc": "sum",
         "hovertemplate": "Amount of Sales for Price=30<br>index=%{x}<br>sum of Amount of Sales for Price=%{y}<extra></extra>",
         "legendgroup": "30",
         "marker": {
          "color": "#B6E880"
         },
         "name": "30",
         "offsetgroup": "30",
         "orientation": "v",
         "showlegend": true,
         "type": "histogram",
         "x": [
          3.33,
          1.48
         ],
         "xaxis": "x",
         "y": [
          30,
          30
         ],
         "yaxis": "y"
        },
        {
         "alignmentgroup": "True",
         "boxpoints": "all",
         "fillcolor": "rgba(255,255,255,0)",
         "hoveron": "points",
         "hovertemplate": "Amount of Sales for Price=30<br>index=%{x}<extra></extra>",
         "jitter": 0,
         "legendgroup": "30",
         "line": {
          "color": "rgba(255,255,255,0)"
         },
         "marker": {
          "color": "#B6E880",
          "symbol": "line-ns-open"
         },
         "name": "30",
         "offsetgroup": "30",
         "showlegend": false,
         "type": "box",
         "x": [
          3.33,
          1.48
         ],
         "xaxis": "x2",
         "yaxis": "y2"
        },
        {
         "alignmentgroup": "True",
         "bingroup": "x",
         "histfunc": "sum",
         "hovertemplate": "Amount of Sales for Price=29<br>index=%{x}<br>sum of Amount of Sales for Price=%{y}<extra></extra>",
         "legendgroup": "29",
         "marker": {
          "color": "#FF97FF"
         },
         "name": "29",
         "offsetgroup": "29",
         "orientation": "v",
         "showlegend": true,
         "type": "histogram",
         "x": [
          0.4,
          2.91
         ],
         "xaxis": "x",
         "y": [
          29,
          29
         ],
         "yaxis": "y"
        },
        {
         "alignmentgroup": "True",
         "boxpoints": "all",
         "fillcolor": "rgba(255,255,255,0)",
         "hoveron": "points",
         "hovertemplate": "Amount of Sales for Price=29<br>index=%{x}<extra></extra>",
         "jitter": 0,
         "legendgroup": "29",
         "line": {
          "color": "rgba(255,255,255,0)"
         },
         "marker": {
          "color": "#FF97FF",
          "symbol": "line-ns-open"
         },
         "name": "29",
         "offsetgroup": "29",
         "showlegend": false,
         "type": "box",
         "x": [
          0.4,
          2.91
         ],
         "xaxis": "x2",
         "yaxis": "y2"
        },
        {
         "alignmentgroup": "True",
         "bingroup": "x",
         "histfunc": "sum",
         "hovertemplate": "Amount of Sales for Price=28<br>index=%{x}<br>sum of Amount of Sales for Price=%{y}<extra></extra>",
         "legendgroup": "28",
         "marker": {
          "color": "#FECB52"
         },
         "name": "28",
         "offsetgroup": "28",
         "orientation": "v",
         "showlegend": true,
         "type": "histogram",
         "x": [
          34.95
         ],
         "xaxis": "x",
         "y": [
          28
         ],
         "yaxis": "y"
        },
        {
         "alignmentgroup": "True",
         "boxpoints": "all",
         "fillcolor": "rgba(255,255,255,0)",
         "hoveron": "points",
         "hovertemplate": "Amount of Sales for Price=28<br>index=%{x}<extra></extra>",
         "jitter": 0,
         "legendgroup": "28",
         "line": {
          "color": "rgba(255,255,255,0)"
         },
         "marker": {
          "color": "#FECB52",
          "symbol": "line-ns-open"
         },
         "name": "28",
         "offsetgroup": "28",
         "showlegend": false,
         "type": "box",
         "x": [
          34.95
         ],
         "xaxis": "x2",
         "yaxis": "y2"
        },
        {
         "alignmentgroup": "True",
         "bingroup": "x",
         "histfunc": "sum",
         "hovertemplate": "Amount of Sales for Price=27<br>index=%{x}<br>sum of Amount of Sales for Price=%{y}<extra></extra>",
         "legendgroup": "27",
         "marker": {
          "color": "#636efa"
         },
         "name": "27",
         "offsetgroup": "27",
         "orientation": "v",
         "showlegend": true,
         "type": "histogram",
         "x": [
          2.76,
          7.05,
          10.65
         ],
         "xaxis": "x",
         "y": [
          27,
          27,
          27
         ],
         "yaxis": "y"
        },
        {
         "alignmentgroup": "True",
         "boxpoints": "all",
         "fillcolor": "rgba(255,255,255,0)",
         "hoveron": "points",
         "hovertemplate": "Amount of Sales for Price=27<br>index=%{x}<extra></extra>",
         "jitter": 0,
         "legendgroup": "27",
         "line": {
          "color": "rgba(255,255,255,0)"
         },
         "marker": {
          "color": "#636efa",
          "symbol": "line-ns-open"
         },
         "name": "27",
         "offsetgroup": "27",
         "showlegend": false,
         "type": "box",
         "x": [
          2.76,
          7.05,
          10.65
         ],
         "xaxis": "x2",
         "yaxis": "y2"
        },
        {
         "alignmentgroup": "True",
         "bingroup": "x",
         "histfunc": "sum",
         "hovertemplate": "Amount of Sales for Price=26<br>index=%{x}<br>sum of Amount of Sales for Price=%{y}<extra></extra>",
         "legendgroup": "26",
         "marker": {
          "color": "#EF553B"
         },
         "name": "26",
         "offsetgroup": "26",
         "orientation": "v",
         "showlegend": true,
         "type": "histogram",
         "x": [
          2.11
         ],
         "xaxis": "x",
         "y": [
          26
         ],
         "yaxis": "y"
        },
        {
         "alignmentgroup": "True",
         "boxpoints": "all",
         "fillcolor": "rgba(255,255,255,0)",
         "hoveron": "points",
         "hovertemplate": "Amount of Sales for Price=26<br>index=%{x}<extra></extra>",
         "jitter": 0,
         "legendgroup": "26",
         "line": {
          "color": "rgba(255,255,255,0)"
         },
         "marker": {
          "color": "#EF553B",
          "symbol": "line-ns-open"
         },
         "name": "26",
         "offsetgroup": "26",
         "showlegend": false,
         "type": "box",
         "x": [
          2.11
         ],
         "xaxis": "x2",
         "yaxis": "y2"
        },
        {
         "alignmentgroup": "True",
         "bingroup": "x",
         "histfunc": "sum",
         "hovertemplate": "Amount of Sales for Price=25<br>index=%{x}<br>sum of Amount of Sales for Price=%{y}<extra></extra>",
         "legendgroup": "25",
         "marker": {
          "color": "#00cc96"
         },
         "name": "25",
         "offsetgroup": "25",
         "orientation": "v",
         "showlegend": true,
         "type": "histogram",
         "x": [
          0.18,
          5.82,
          49.95,
          11.15
         ],
         "xaxis": "x",
         "y": [
          25,
          25,
          25,
          25
         ],
         "yaxis": "y"
        },
        {
         "alignmentgroup": "True",
         "boxpoints": "all",
         "fillcolor": "rgba(255,255,255,0)",
         "hoveron": "points",
         "hovertemplate": "Amount of Sales for Price=25<br>index=%{x}<extra></extra>",
         "jitter": 0,
         "legendgroup": "25",
         "line": {
          "color": "rgba(255,255,255,0)"
         },
         "marker": {
          "color": "#00cc96",
          "symbol": "line-ns-open"
         },
         "name": "25",
         "offsetgroup": "25",
         "showlegend": false,
         "type": "box",
         "x": [
          0.18,
          5.82,
          49.95,
          11.15
         ],
         "xaxis": "x2",
         "yaxis": "y2"
        },
        {
         "alignmentgroup": "True",
         "bingroup": "x",
         "histfunc": "sum",
         "hovertemplate": "Amount of Sales for Price=24<br>index=%{x}<br>sum of Amount of Sales for Price=%{y}<extra></extra>",
         "legendgroup": "24",
         "marker": {
          "color": "#ab63fa"
         },
         "name": "24",
         "offsetgroup": "24",
         "orientation": "v",
         "showlegend": true,
         "type": "histogram",
         "x": [
          7.48,
          3.2,
          1.23
         ],
         "xaxis": "x",
         "y": [
          24,
          24,
          24
         ],
         "yaxis": "y"
        },
        {
         "alignmentgroup": "True",
         "boxpoints": "all",
         "fillcolor": "rgba(255,255,255,0)",
         "hoveron": "points",
         "hovertemplate": "Amount of Sales for Price=24<br>index=%{x}<extra></extra>",
         "jitter": 0,
         "legendgroup": "24",
         "line": {
          "color": "rgba(255,255,255,0)"
         },
         "marker": {
          "color": "#ab63fa",
          "symbol": "line-ns-open"
         },
         "name": "24",
         "offsetgroup": "24",
         "showlegend": false,
         "type": "box",
         "x": [
          7.48,
          3.2,
          1.23
         ],
         "xaxis": "x2",
         "yaxis": "y2"
        },
        {
         "alignmentgroup": "True",
         "bingroup": "x",
         "histfunc": "sum",
         "hovertemplate": "Amount of Sales for Price=23<br>index=%{x}<br>sum of Amount of Sales for Price=%{y}<extra></extra>",
         "legendgroup": "23",
         "marker": {
          "color": "#FFA15A"
         },
         "name": "23",
         "offsetgroup": "23",
         "orientation": "v",
         "showlegend": true,
         "type": "histogram",
         "x": [
          165
         ],
         "xaxis": "x",
         "y": [
          23
         ],
         "yaxis": "y"
        },
        {
         "alignmentgroup": "True",
         "boxpoints": "all",
         "fillcolor": "rgba(255,255,255,0)",
         "hoveron": "points",
         "hovertemplate": "Amount of Sales for Price=23<br>index=%{x}<extra></extra>",
         "jitter": 0,
         "legendgroup": "23",
         "line": {
          "color": "rgba(255,255,255,0)"
         },
         "marker": {
          "color": "#FFA15A",
          "symbol": "line-ns-open"
         },
         "name": "23",
         "offsetgroup": "23",
         "showlegend": false,
         "type": "box",
         "x": [
          165
         ],
         "xaxis": "x2",
         "yaxis": "y2"
        },
        {
         "alignmentgroup": "True",
         "bingroup": "x",
         "histfunc": "sum",
         "hovertemplate": "Amount of Sales for Price=21<br>index=%{x}<br>sum of Amount of Sales for Price=%{y}<extra></extra>",
         "legendgroup": "21",
         "marker": {
          "color": "#19d3f3"
         },
         "name": "21",
         "offsetgroup": "21",
         "orientation": "v",
         "showlegend": true,
         "type": "histogram",
         "x": [
          2.39,
          20.8,
          7.07,
          1.7
         ],
         "xaxis": "x",
         "y": [
          21,
          21,
          21,
          21
         ],
         "yaxis": "y"
        },
        {
         "alignmentgroup": "True",
         "boxpoints": "all",
         "fillcolor": "rgba(255,255,255,0)",
         "hoveron": "points",
         "hovertemplate": "Amount of Sales for Price=21<br>index=%{x}<extra></extra>",
         "jitter": 0,
         "legendgroup": "21",
         "line": {
          "color": "rgba(255,255,255,0)"
         },
         "marker": {
          "color": "#19d3f3",
          "symbol": "line-ns-open"
         },
         "name": "21",
         "offsetgroup": "21",
         "showlegend": false,
         "type": "box",
         "x": [
          2.39,
          20.8,
          7.07,
          1.7
         ],
         "xaxis": "x2",
         "yaxis": "y2"
        },
        {
         "alignmentgroup": "True",
         "bingroup": "x",
         "histfunc": "sum",
         "hovertemplate": "Amount of Sales for Price=20<br>index=%{x}<br>sum of Amount of Sales for Price=%{y}<extra></extra>",
         "legendgroup": "20",
         "marker": {
          "color": "#FF6692"
         },
         "name": "20",
         "offsetgroup": "20",
         "orientation": "v",
         "showlegend": true,
         "type": "histogram",
         "x": [
          5.83,
          7.25
         ],
         "xaxis": "x",
         "y": [
          20,
          20
         ],
         "yaxis": "y"
        },
        {
         "alignmentgroup": "True",
         "boxpoints": "all",
         "fillcolor": "rgba(255,255,255,0)",
         "hoveron": "points",
         "hovertemplate": "Amount of Sales for Price=20<br>index=%{x}<extra></extra>",
         "jitter": 0,
         "legendgroup": "20",
         "line": {
          "color": "rgba(255,255,255,0)"
         },
         "marker": {
          "color": "#FF6692",
          "symbol": "line-ns-open"
         },
         "name": "20",
         "offsetgroup": "20",
         "showlegend": false,
         "type": "box",
         "x": [
          5.83,
          7.25
         ],
         "xaxis": "x2",
         "yaxis": "y2"
        },
        {
         "alignmentgroup": "True",
         "bingroup": "x",
         "histfunc": "sum",
         "hovertemplate": "Amount of Sales for Price=19<br>index=%{x}<br>sum of Amount of Sales for Price=%{y}<extra></extra>",
         "legendgroup": "19",
         "marker": {
          "color": "#B6E880"
         },
         "name": "19",
         "offsetgroup": "19",
         "orientation": "v",
         "showlegend": true,
         "type": "histogram",
         "x": [
          2.4,
          10,
          16.67
         ],
         "xaxis": "x",
         "y": [
          19,
          19,
          19
         ],
         "yaxis": "y"
        },
        {
         "alignmentgroup": "True",
         "boxpoints": "all",
         "fillcolor": "rgba(255,255,255,0)",
         "hoveron": "points",
         "hovertemplate": "Amount of Sales for Price=19<br>index=%{x}<extra></extra>",
         "jitter": 0,
         "legendgroup": "19",
         "line": {
          "color": "rgba(255,255,255,0)"
         },
         "marker": {
          "color": "#B6E880",
          "symbol": "line-ns-open"
         },
         "name": "19",
         "offsetgroup": "19",
         "showlegend": false,
         "type": "box",
         "x": [
          2.4,
          10,
          16.67
         ],
         "xaxis": "x2",
         "yaxis": "y2"
        },
        {
         "alignmentgroup": "True",
         "bingroup": "x",
         "histfunc": "sum",
         "hovertemplate": "Amount of Sales for Price=18<br>index=%{x}<br>sum of Amount of Sales for Price=%{y}<extra></extra>",
         "legendgroup": "18",
         "marker": {
          "color": "#FF97FF"
         },
         "name": "18",
         "offsetgroup": "18",
         "orientation": "v",
         "showlegend": true,
         "type": "histogram",
         "x": [
          9.34,
          2.66,
          0.2,
          13.13,
          3.37,
          1.88
         ],
         "xaxis": "x",
         "y": [
          18,
          18,
          18,
          18,
          18,
          18
         ],
         "yaxis": "y"
        },
        {
         "alignmentgroup": "True",
         "boxpoints": "all",
         "fillcolor": "rgba(255,255,255,0)",
         "hoveron": "points",
         "hovertemplate": "Amount of Sales for Price=18<br>index=%{x}<extra></extra>",
         "jitter": 0,
         "legendgroup": "18",
         "line": {
          "color": "rgba(255,255,255,0)"
         },
         "marker": {
          "color": "#FF97FF",
          "symbol": "line-ns-open"
         },
         "name": "18",
         "offsetgroup": "18",
         "showlegend": false,
         "type": "box",
         "x": [
          9.34,
          2.66,
          0.2,
          13.13,
          3.37,
          1.88
         ],
         "xaxis": "x2",
         "yaxis": "y2"
        },
        {
         "alignmentgroup": "True",
         "bingroup": "x",
         "histfunc": "sum",
         "hovertemplate": "Amount of Sales for Price=17<br>index=%{x}<br>sum of Amount of Sales for Price=%{y}<extra></extra>",
         "legendgroup": "17",
         "marker": {
          "color": "#FECB52"
         },
         "name": "17",
         "offsetgroup": "17",
         "orientation": "v",
         "showlegend": true,
         "type": "histogram",
         "x": [
          5,
          12.48,
          1.53,
          9.98,
          1.08
         ],
         "xaxis": "x",
         "y": [
          17,
          17,
          17,
          17,
          17
         ],
         "yaxis": "y"
        },
        {
         "alignmentgroup": "True",
         "boxpoints": "all",
         "fillcolor": "rgba(255,255,255,0)",
         "hoveron": "points",
         "hovertemplate": "Amount of Sales for Price=17<br>index=%{x}<extra></extra>",
         "jitter": 0,
         "legendgroup": "17",
         "line": {
          "color": "rgba(255,255,255,0)"
         },
         "marker": {
          "color": "#FECB52",
          "symbol": "line-ns-open"
         },
         "name": "17",
         "offsetgroup": "17",
         "showlegend": false,
         "type": "box",
         "x": [
          5,
          12.48,
          1.53,
          9.98,
          1.08
         ],
         "xaxis": "x2",
         "yaxis": "y2"
        },
        {
         "alignmentgroup": "True",
         "bingroup": "x",
         "histfunc": "sum",
         "hovertemplate": "Amount of Sales for Price=16<br>index=%{x}<br>sum of Amount of Sales for Price=%{y}<extra></extra>",
         "legendgroup": "16",
         "marker": {
          "color": "#636efa"
         },
         "name": "16",
         "offsetgroup": "16",
         "orientation": "v",
         "showlegend": true,
         "type": "histogram",
         "x": [
          0.27,
          5.51,
          5.94,
          18.95
         ],
         "xaxis": "x",
         "y": [
          16,
          16,
          16,
          16
         ],
         "yaxis": "y"
        },
        {
         "alignmentgroup": "True",
         "boxpoints": "all",
         "fillcolor": "rgba(255,255,255,0)",
         "hoveron": "points",
         "hovertemplate": "Amount of Sales for Price=16<br>index=%{x}<extra></extra>",
         "jitter": 0,
         "legendgroup": "16",
         "line": {
          "color": "rgba(255,255,255,0)"
         },
         "marker": {
          "color": "#636efa",
          "symbol": "line-ns-open"
         },
         "name": "16",
         "offsetgroup": "16",
         "showlegend": false,
         "type": "box",
         "x": [
          0.27,
          5.51,
          5.94,
          18.95
         ],
         "xaxis": "x2",
         "yaxis": "y2"
        },
        {
         "alignmentgroup": "True",
         "bingroup": "x",
         "histfunc": "sum",
         "hovertemplate": "Amount of Sales for Price=15<br>index=%{x}<br>sum of Amount of Sales for Price=%{y}<extra></extra>",
         "legendgroup": "15",
         "marker": {
          "color": "#EF553B"
         },
         "name": "15",
         "offsetgroup": "15",
         "orientation": "v",
         "showlegend": true,
         "type": "histogram",
         "x": [
          3.88,
          145,
          65,
          2.12
         ],
         "xaxis": "x",
         "y": [
          15,
          15,
          15,
          15
         ],
         "yaxis": "y"
        },
        {
         "alignmentgroup": "True",
         "boxpoints": "all",
         "fillcolor": "rgba(255,255,255,0)",
         "hoveron": "points",
         "hovertemplate": "Amount of Sales for Price=15<br>index=%{x}<extra></extra>",
         "jitter": 0,
         "legendgroup": "15",
         "line": {
          "color": "rgba(255,255,255,0)"
         },
         "marker": {
          "color": "#EF553B",
          "symbol": "line-ns-open"
         },
         "name": "15",
         "offsetgroup": "15",
         "showlegend": false,
         "type": "box",
         "x": [
          3.88,
          145,
          65,
          2.12
         ],
         "xaxis": "x2",
         "yaxis": "y2"
        },
        {
         "alignmentgroup": "True",
         "bingroup": "x",
         "histfunc": "sum",
         "hovertemplate": "Amount of Sales for Price=14<br>index=%{x}<br>sum of Amount of Sales for Price=%{y}<extra></extra>",
         "legendgroup": "14",
         "marker": {
          "color": "#00cc96"
         },
         "name": "14",
         "offsetgroup": "14",
         "orientation": "v",
         "showlegend": true,
         "type": "histogram",
         "x": [
          0.99,
          12.21
         ],
         "xaxis": "x",
         "y": [
          14,
          14
         ],
         "yaxis": "y"
        },
        {
         "alignmentgroup": "True",
         "boxpoints": "all",
         "fillcolor": "rgba(255,255,255,0)",
         "hoveron": "points",
         "hovertemplate": "Amount of Sales for Price=14<br>index=%{x}<extra></extra>",
         "jitter": 0,
         "legendgroup": "14",
         "line": {
          "color": "rgba(255,255,255,0)"
         },
         "marker": {
          "color": "#00cc96",
          "symbol": "line-ns-open"
         },
         "name": "14",
         "offsetgroup": "14",
         "showlegend": false,
         "type": "box",
         "x": [
          0.99,
          12.21
         ],
         "xaxis": "x2",
         "yaxis": "y2"
        },
        {
         "alignmentgroup": "True",
         "bingroup": "x",
         "histfunc": "sum",
         "hovertemplate": "Amount of Sales for Price=13<br>index=%{x}<br>sum of Amount of Sales for Price=%{y}<extra></extra>",
         "legendgroup": "13",
         "marker": {
          "color": "#ab63fa"
         },
         "name": "13",
         "offsetgroup": "13",
         "orientation": "v",
         "showlegend": true,
         "type": "histogram",
         "x": [
          0.22,
          2.17,
          1.27,
          0.73,
          18.29,
          3,
          5.88,
          1.84
         ],
         "xaxis": "x",
         "y": [
          13,
          13,
          13,
          13,
          13,
          13,
          13,
          13
         ],
         "yaxis": "y"
        },
        {
         "alignmentgroup": "True",
         "boxpoints": "all",
         "fillcolor": "rgba(255,255,255,0)",
         "hoveron": "points",
         "hovertemplate": "Amount of Sales for Price=13<br>index=%{x}<extra></extra>",
         "jitter": 0,
         "legendgroup": "13",
         "line": {
          "color": "rgba(255,255,255,0)"
         },
         "marker": {
          "color": "#ab63fa",
          "symbol": "line-ns-open"
         },
         "name": "13",
         "offsetgroup": "13",
         "showlegend": false,
         "type": "box",
         "x": [
          0.22,
          2.17,
          1.27,
          0.73,
          18.29,
          3,
          5.88,
          1.84
         ],
         "xaxis": "x2",
         "yaxis": "y2"
        },
        {
         "alignmentgroup": "True",
         "bingroup": "x",
         "histfunc": "sum",
         "hovertemplate": "Amount of Sales for Price=12<br>index=%{x}<br>sum of Amount of Sales for Price=%{y}<extra></extra>",
         "legendgroup": "12",
         "marker": {
          "color": "#FFA15A"
         },
         "name": "12",
         "offsetgroup": "12",
         "orientation": "v",
         "showlegend": true,
         "type": "histogram",
         "x": [
          9.57,
          3.19,
          12.95,
          195,
          7.64,
          4.8
         ],
         "xaxis": "x",
         "y": [
          12,
          12,
          12,
          12,
          12,
          12
         ],
         "yaxis": "y"
        },
        {
         "alignmentgroup": "True",
         "boxpoints": "all",
         "fillcolor": "rgba(255,255,255,0)",
         "hoveron": "points",
         "hovertemplate": "Amount of Sales for Price=12<br>index=%{x}<extra></extra>",
         "jitter": 0,
         "legendgroup": "12",
         "line": {
          "color": "rgba(255,255,255,0)"
         },
         "marker": {
          "color": "#FFA15A",
          "symbol": "line-ns-open"
         },
         "name": "12",
         "offsetgroup": "12",
         "showlegend": false,
         "type": "box",
         "x": [
          9.57,
          3.19,
          12.95,
          195,
          7.64,
          4.8
         ],
         "xaxis": "x2",
         "yaxis": "y2"
        },
        {
         "alignmentgroup": "True",
         "bingroup": "x",
         "histfunc": "sum",
         "hovertemplate": "Amount of Sales for Price=11<br>index=%{x}<br>sum of Amount of Sales for Price=%{y}<extra></extra>",
         "legendgroup": "11",
         "marker": {
          "color": "#19d3f3"
         },
         "name": "11",
         "offsetgroup": "11",
         "orientation": "v",
         "showlegend": true,
         "type": "histogram",
         "x": [
          1.12,
          2.29,
          3.5,
          6.37,
          4,
          1.93,
          3.24,
          35.75
         ],
         "xaxis": "x",
         "y": [
          11,
          11,
          11,
          11,
          11,
          11,
          11,
          11
         ],
         "yaxis": "y"
        },
        {
         "alignmentgroup": "True",
         "boxpoints": "all",
         "fillcolor": "rgba(255,255,255,0)",
         "hoveron": "points",
         "hovertemplate": "Amount of Sales for Price=11<br>index=%{x}<extra></extra>",
         "jitter": 0,
         "legendgroup": "11",
         "line": {
          "color": "rgba(255,255,255,0)"
         },
         "marker": {
          "color": "#19d3f3",
          "symbol": "line-ns-open"
         },
         "name": "11",
         "offsetgroup": "11",
         "showlegend": false,
         "type": "box",
         "x": [
          1.12,
          2.29,
          3.5,
          6.37,
          4,
          1.93,
          3.24,
          35.75
         ],
         "xaxis": "x2",
         "yaxis": "y2"
        },
        {
         "alignmentgroup": "True",
         "bingroup": "x",
         "histfunc": "sum",
         "hovertemplate": "Amount of Sales for Price=10<br>index=%{x}<br>sum of Amount of Sales for Price=%{y}<extra></extra>",
         "legendgroup": "10",
         "marker": {
          "color": "#FF6692"
         },
         "name": "10",
         "offsetgroup": "10",
         "orientation": "v",
         "showlegend": true,
         "type": "histogram",
         "x": [
          5.38,
          1.19,
          4.41,
          4.6,
          295,
          2.82,
          3.21,
          3.83
         ],
         "xaxis": "x",
         "y": [
          10,
          10,
          10,
          10,
          10,
          10,
          10,
          10
         ],
         "yaxis": "y"
        },
        {
         "alignmentgroup": "True",
         "boxpoints": "all",
         "fillcolor": "rgba(255,255,255,0)",
         "hoveron": "points",
         "hovertemplate": "Amount of Sales for Price=10<br>index=%{x}<extra></extra>",
         "jitter": 0,
         "legendgroup": "10",
         "line": {
          "color": "rgba(255,255,255,0)"
         },
         "marker": {
          "color": "#FF6692",
          "symbol": "line-ns-open"
         },
         "name": "10",
         "offsetgroup": "10",
         "showlegend": false,
         "type": "box",
         "x": [
          5.38,
          1.19,
          4.41,
          4.6,
          295,
          2.82,
          3.21,
          3.83
         ],
         "xaxis": "x2",
         "yaxis": "y2"
        },
        {
         "alignmentgroup": "True",
         "bingroup": "x",
         "histfunc": "sum",
         "hovertemplate": "Amount of Sales for Price=9<br>index=%{x}<br>sum of Amount of Sales for Price=%{y}<extra></extra>",
         "legendgroup": "9",
         "marker": {
          "color": "#B6E880"
         },
         "name": "9",
         "offsetgroup": "9",
         "orientation": "v",
         "showlegend": true,
         "type": "histogram",
         "x": [
          6.5,
          6.62,
          74.96,
          0.07,
          6.54,
          2.41,
          0.31,
          1.26,
          2.62,
          1.92
         ],
         "xaxis": "x",
         "y": [
          9,
          9,
          9,
          9,
          9,
          9,
          9,
          9,
          9,
          9
         ],
         "yaxis": "y"
        },
        {
         "alignmentgroup": "True",
         "boxpoints": "all",
         "fillcolor": "rgba(255,255,255,0)",
         "hoveron": "points",
         "hovertemplate": "Amount of Sales for Price=9<br>index=%{x}<extra></extra>",
         "jitter": 0,
         "legendgroup": "9",
         "line": {
          "color": "rgba(255,255,255,0)"
         },
         "marker": {
          "color": "#B6E880",
          "symbol": "line-ns-open"
         },
         "name": "9",
         "offsetgroup": "9",
         "showlegend": false,
         "type": "box",
         "x": [
          6.5,
          6.62,
          74.96,
          0.07,
          6.54,
          2.41,
          0.31,
          1.26,
          2.62,
          1.92
         ],
         "xaxis": "x2",
         "yaxis": "y2"
        },
        {
         "alignmentgroup": "True",
         "bingroup": "x",
         "histfunc": "sum",
         "hovertemplate": "Amount of Sales for Price=8<br>index=%{x}<br>sum of Amount of Sales for Price=%{y}<extra></extra>",
         "legendgroup": "8",
         "marker": {
          "color": "#FF97FF"
         },
         "name": "8",
         "offsetgroup": "8",
         "orientation": "v",
         "showlegend": true,
         "type": "histogram",
         "x": [
          5.1,
          57.6,
          4.71,
          5.74,
          10.62,
          6.67,
          0.17,
          1.35
         ],
         "xaxis": "x",
         "y": [
          8,
          8,
          8,
          8,
          8,
          8,
          8,
          8
         ],
         "yaxis": "y"
        },
        {
         "alignmentgroup": "True",
         "boxpoints": "all",
         "fillcolor": "rgba(255,255,255,0)",
         "hoveron": "points",
         "hovertemplate": "Amount of Sales for Price=8<br>index=%{x}<extra></extra>",
         "jitter": 0,
         "legendgroup": "8",
         "line": {
          "color": "rgba(255,255,255,0)"
         },
         "marker": {
          "color": "#FF97FF",
          "symbol": "line-ns-open"
         },
         "name": "8",
         "offsetgroup": "8",
         "showlegend": false,
         "type": "box",
         "x": [
          5.1,
          57.6,
          4.71,
          5.74,
          10.62,
          6.67,
          0.17,
          1.35
         ],
         "xaxis": "x2",
         "yaxis": "y2"
        },
        {
         "alignmentgroup": "True",
         "bingroup": "x",
         "histfunc": "sum",
         "hovertemplate": "Amount of Sales for Price=7<br>index=%{x}<br>sum of Amount of Sales for Price=%{y}<extra></extra>",
         "legendgroup": "7",
         "marker": {
          "color": "#FECB52"
         },
         "name": "7",
         "offsetgroup": "7",
         "orientation": "v",
         "showlegend": true,
         "type": "histogram",
         "x": [
          4.77,
          4.08,
          4.5,
          0.8,
          0.35,
          6,
          2.21,
          33.33,
          14.55,
          2
         ],
         "xaxis": "x",
         "y": [
          7,
          7,
          7,
          7,
          7,
          7,
          7,
          7,
          7,
          7
         ],
         "yaxis": "y"
        },
        {
         "alignmentgroup": "True",
         "boxpoints": "all",
         "fillcolor": "rgba(255,255,255,0)",
         "hoveron": "points",
         "hovertemplate": "Amount of Sales for Price=7<br>index=%{x}<extra></extra>",
         "jitter": 0,
         "legendgroup": "7",
         "line": {
          "color": "rgba(255,255,255,0)"
         },
         "marker": {
          "color": "#FECB52",
          "symbol": "line-ns-open"
         },
         "name": "7",
         "offsetgroup": "7",
         "showlegend": false,
         "type": "box",
         "x": [
          4.77,
          4.08,
          4.5,
          0.8,
          0.35,
          6,
          2.21,
          33.33,
          14.55,
          2
         ],
         "xaxis": "x2",
         "yaxis": "y2"
        },
        {
         "alignmentgroup": "True",
         "bingroup": "x",
         "histfunc": "sum",
         "hovertemplate": "Amount of Sales for Price=6<br>index=%{x}<br>sum of Amount of Sales for Price=%{y}<extra></extra>",
         "legendgroup": "6",
         "marker": {
          "color": "#636efa"
         },
         "name": "6",
         "offsetgroup": "6",
         "orientation": "v",
         "showlegend": true,
         "type": "histogram",
         "x": [
          3.82,
          18.68,
          110,
          59.95,
          17.88,
          3.26,
          1.97,
          6.38,
          19.13,
          2.32,
          41.75,
          2.69,
          0.24,
          8.07
         ],
         "xaxis": "x",
         "y": [
          6,
          6,
          6,
          6,
          6,
          6,
          6,
          6,
          6,
          6,
          6,
          6,
          6,
          6
         ],
         "yaxis": "y"
        },
        {
         "alignmentgroup": "True",
         "boxpoints": "all",
         "fillcolor": "rgba(255,255,255,0)",
         "hoveron": "points",
         "hovertemplate": "Amount of Sales for Price=6<br>index=%{x}<extra></extra>",
         "jitter": 0,
         "legendgroup": "6",
         "line": {
          "color": "rgba(255,255,255,0)"
         },
         "marker": {
          "color": "#636efa",
          "symbol": "line-ns-open"
         },
         "name": "6",
         "offsetgroup": "6",
         "showlegend": false,
         "type": "box",
         "x": [
          3.82,
          18.68,
          110,
          59.95,
          17.88,
          3.26,
          1.97,
          6.38,
          19.13,
          2.32,
          41.75,
          2.69,
          0.24,
          8.07
         ],
         "xaxis": "x2",
         "yaxis": "y2"
        },
        {
         "alignmentgroup": "True",
         "bingroup": "x",
         "histfunc": "sum",
         "hovertemplate": "Amount of Sales for Price=5<br>index=%{x}<br>sum of Amount of Sales for Price=%{y}<extra></extra>",
         "legendgroup": "5",
         "marker": {
          "color": "#EF553B"
         },
         "name": "5",
         "offsetgroup": "5",
         "orientation": "v",
         "showlegend": true,
         "type": "histogram",
         "x": [
          15.28,
          3.57,
          4.18,
          0.37,
          5.66,
          2.88,
          20,
          7.22
         ],
         "xaxis": "x",
         "y": [
          5,
          5,
          5,
          5,
          5,
          5,
          5,
          5
         ],
         "yaxis": "y"
        },
        {
         "alignmentgroup": "True",
         "boxpoints": "all",
         "fillcolor": "rgba(255,255,255,0)",
         "hoveron": "points",
         "hovertemplate": "Amount of Sales for Price=5<br>index=%{x}<extra></extra>",
         "jitter": 0,
         "legendgroup": "5",
         "line": {
          "color": "rgba(255,255,255,0)"
         },
         "marker": {
          "color": "#EF553B",
          "symbol": "line-ns-open"
         },
         "name": "5",
         "offsetgroup": "5",
         "showlegend": false,
         "type": "box",
         "x": [
          15.28,
          3.57,
          4.18,
          0.37,
          5.66,
          2.88,
          20,
          7.22
         ],
         "xaxis": "x2",
         "yaxis": "y2"
        },
        {
         "alignmentgroup": "True",
         "bingroup": "x",
         "histfunc": "sum",
         "hovertemplate": "Amount of Sales for Price=4<br>index=%{x}<br>sum of Amount of Sales for Price=%{y}<extra></extra>",
         "legendgroup": "4",
         "marker": {
          "color": "#00cc96"
         },
         "name": "4",
         "offsetgroup": "4",
         "orientation": "v",
         "showlegend": true,
         "type": "histogram",
         "x": [
          1687.17,
          1241.98,
          7.06,
          3.58,
          32.95,
          3.9,
          10.29,
          30,
          32.04,
          4.81,
          550.64,
          5.15,
          51.02,
          451.42,
          6.6,
          557.72,
          1.64,
          3.49,
          6.72,
          0.58,
          0.001,
          4.99,
          0.7
         ],
         "xaxis": "x",
         "y": [
          4,
          4,
          4,
          4,
          4,
          4,
          4,
          4,
          4,
          4,
          4,
          4,
          4,
          4,
          4,
          4,
          4,
          4,
          4,
          4,
          4,
          4,
          4
         ],
         "yaxis": "y"
        },
        {
         "alignmentgroup": "True",
         "boxpoints": "all",
         "fillcolor": "rgba(255,255,255,0)",
         "hoveron": "points",
         "hovertemplate": "Amount of Sales for Price=4<br>index=%{x}<extra></extra>",
         "jitter": 0,
         "legendgroup": "4",
         "line": {
          "color": "rgba(255,255,255,0)"
         },
         "marker": {
          "color": "#00cc96",
          "symbol": "line-ns-open"
         },
         "name": "4",
         "offsetgroup": "4",
         "showlegend": false,
         "type": "box",
         "x": [
          1687.17,
          1241.98,
          7.06,
          3.58,
          32.95,
          3.9,
          10.29,
          30,
          32.04,
          4.81,
          550.64,
          5.15,
          51.02,
          451.42,
          6.6,
          557.72,
          1.64,
          3.49,
          6.72,
          0.58,
          0.001,
          4.99,
          0.7
         ],
         "xaxis": "x2",
         "yaxis": "y2"
        },
        {
         "alignmentgroup": "True",
         "bingroup": "x",
         "histfunc": "sum",
         "hovertemplate": "Amount of Sales for Price=3<br>index=%{x}<br>sum of Amount of Sales for Price=%{y}<extra></extra>",
         "legendgroup": "3",
         "marker": {
          "color": "#ab63fa"
         },
         "name": "3",
         "offsetgroup": "3",
         "orientation": "v",
         "showlegend": true,
         "type": "histogram",
         "x": [
          0.74,
          250,
          2.45,
          2.6,
          6.98,
          2.65,
          3.91,
          1.91,
          10.82,
          3.28,
          0.28,
          2.99,
          26.95,
          13541.33,
          49.96,
          10.39,
          4.62,
          41.67,
          6.79,
          0.9,
          0.03,
          41.63,
          1.18,
          9.77,
          1.36,
          4.78,
          3.86,
          4.16,
          2.94,
          7,
          35,
          40.46,
          120,
          3.3,
          2.09,
          1.43,
          2.06,
          4161.06,
          3.15
         ],
         "xaxis": "x",
         "y": [
          3,
          3,
          3,
          3,
          3,
          3,
          3,
          3,
          3,
          3,
          3,
          3,
          3,
          3,
          3,
          3,
          3,
          3,
          3,
          3,
          3,
          3,
          3,
          3,
          3,
          3,
          3,
          3,
          3,
          3,
          3,
          3,
          3,
          3,
          3,
          3,
          3,
          3,
          3
         ],
         "yaxis": "y"
        },
        {
         "alignmentgroup": "True",
         "boxpoints": "all",
         "fillcolor": "rgba(255,255,255,0)",
         "hoveron": "points",
         "hovertemplate": "Amount of Sales for Price=3<br>index=%{x}<extra></extra>",
         "jitter": 0,
         "legendgroup": "3",
         "line": {
          "color": "rgba(255,255,255,0)"
         },
         "marker": {
          "color": "#ab63fa",
          "symbol": "line-ns-open"
         },
         "name": "3",
         "offsetgroup": "3",
         "showlegend": false,
         "type": "box",
         "x": [
          0.74,
          250,
          2.45,
          2.6,
          6.98,
          2.65,
          3.91,
          1.91,
          10.82,
          3.28,
          0.28,
          2.99,
          26.95,
          13541.33,
          49.96,
          10.39,
          4.62,
          41.67,
          6.79,
          0.9,
          0.03,
          41.63,
          1.18,
          9.77,
          1.36,
          4.78,
          3.86,
          4.16,
          2.94,
          7,
          35,
          40.46,
          120,
          3.3,
          2.09,
          1.43,
          2.06,
          4161.06,
          3.15
         ],
         "xaxis": "x2",
         "yaxis": "y2"
        },
        {
         "alignmentgroup": "True",
         "bingroup": "x",
         "histfunc": "sum",
         "hovertemplate": "Amount of Sales for Price=2<br>index=%{x}<br>sum of Amount of Sales for Price=%{y}<extra></extra>",
         "legendgroup": "2",
         "marker": {
          "color": "#FFA15A"
         },
         "name": "2",
         "offsetgroup": "2",
         "orientation": "v",
         "showlegend": true,
         "type": "histogram",
         "x": [
          280.05,
          80,
          45,
          82.5,
          155.25,
          2053.07,
          339.02,
          35.65,
          76.55,
          20.5,
          34.04,
          424.06,
          9.6,
          26.33,
          542.2,
          2583.76,
          1.4,
          110.13,
          2118.74,
          2653.95,
          326.1,
          169.29,
          175,
          389.68,
          39.5,
          2.67,
          0.68,
          0.86,
          4.67,
          0.76,
          57.95,
          99.96,
          13.88,
          1.1,
          219.76,
          6.36,
          106.4,
          157.08,
          122.5,
          1917,
          1252.95,
          75,
          33.05,
          600,
          283.02,
          293,
          6.42,
          2382.92,
          0.09,
          3.38,
          1592.49,
          320.69,
          29.74,
          79.67,
          3.44,
          32.22,
          3155.95,
          4.76,
          262.73,
          9.99,
          162.6,
          116.71,
          1867.86,
          2.3,
          1216.12,
          0.56,
          183.75,
          101.17,
          116.69,
          7.13,
          5.68,
          3.74,
          138,
          1.87,
          148.67,
          142.29,
          3.89,
          6.7,
          5.08,
          213.08,
          239.3,
          150,
          599.5,
          11.67,
          50.96,
          10.13,
          15.96,
          549.34,
          306.35,
          294.92,
          48,
          0.78,
          611.86,
          152.78,
          7.88,
          240,
          9.72,
          177.63,
          95.38,
          146.29,
          222.75,
          464.9,
          21.9,
          705.45,
          9.74,
          -11062.06,
          649.5,
          5942.57,
          334.71,
          3.59,
          8.87,
          376.5,
          1136.3,
          112.35,
          717.23,
          124.08,
          4.3,
          49.65,
          1.6,
          2.16,
          5.64,
          3949.32,
          16,
          11.84,
          4.14,
          0.94,
          1.68,
          1.01,
          42.5,
          8142.75,
          2.26,
          0.11,
          4287.63
         ],
         "xaxis": "x",
         "y": [
          2,
          2,
          2,
          2,
          2,
          2,
          2,
          2,
          2,
          2,
          2,
          2,
          2,
          2,
          2,
          2,
          2,
          2,
          2,
          2,
          2,
          2,
          2,
          2,
          2,
          2,
          2,
          2,
          2,
          2,
          2,
          2,
          2,
          2,
          2,
          2,
          2,
          2,
          2,
          2,
          2,
          2,
          2,
          2,
          2,
          2,
          2,
          2,
          2,
          2,
          2,
          2,
          2,
          2,
          2,
          2,
          2,
          2,
          2,
          2,
          2,
          2,
          2,
          2,
          2,
          2,
          2,
          2,
          2,
          2,
          2,
          2,
          2,
          2,
          2,
          2,
          2,
          2,
          2,
          2,
          2,
          2,
          2,
          2,
          2,
          2,
          2,
          2,
          2,
          2,
          2,
          2,
          2,
          2,
          2,
          2,
          2,
          2,
          2,
          2,
          2,
          2,
          2,
          2,
          2,
          2,
          2,
          2,
          2,
          2,
          2,
          2,
          2,
          2,
          2,
          2,
          2,
          2,
          2,
          2,
          2,
          2,
          2,
          2,
          2,
          2,
          2,
          2,
          2,
          2,
          2,
          2,
          2
         ],
         "yaxis": "y"
        },
        {
         "alignmentgroup": "True",
         "boxpoints": "all",
         "fillcolor": "rgba(255,255,255,0)",
         "hoveron": "points",
         "hovertemplate": "Amount of Sales for Price=2<br>index=%{x}<extra></extra>",
         "jitter": 0,
         "legendgroup": "2",
         "line": {
          "color": "rgba(255,255,255,0)"
         },
         "marker": {
          "color": "#FFA15A",
          "symbol": "line-ns-open"
         },
         "name": "2",
         "offsetgroup": "2",
         "showlegend": false,
         "type": "box",
         "x": [
          280.05,
          80,
          45,
          82.5,
          155.25,
          2053.07,
          339.02,
          35.65,
          76.55,
          20.5,
          34.04,
          424.06,
          9.6,
          26.33,
          542.2,
          2583.76,
          1.4,
          110.13,
          2118.74,
          2653.95,
          326.1,
          169.29,
          175,
          389.68,
          39.5,
          2.67,
          0.68,
          0.86,
          4.67,
          0.76,
          57.95,
          99.96,
          13.88,
          1.1,
          219.76,
          6.36,
          106.4,
          157.08,
          122.5,
          1917,
          1252.95,
          75,
          33.05,
          600,
          283.02,
          293,
          6.42,
          2382.92,
          0.09,
          3.38,
          1592.49,
          320.69,
          29.74,
          79.67,
          3.44,
          32.22,
          3155.95,
          4.76,
          262.73,
          9.99,
          162.6,
          116.71,
          1867.86,
          2.3,
          1216.12,
          0.56,
          183.75,
          101.17,
          116.69,
          7.13,
          5.68,
          3.74,
          138,
          1.87,
          148.67,
          142.29,
          3.89,
          6.7,
          5.08,
          213.08,
          239.3,
          150,
          599.5,
          11.67,
          50.96,
          10.13,
          15.96,
          549.34,
          306.35,
          294.92,
          48,
          0.78,
          611.86,
          152.78,
          7.88,
          240,
          9.72,
          177.63,
          95.38,
          146.29,
          222.75,
          464.9,
          21.9,
          705.45,
          9.74,
          -11062.06,
          649.5,
          5942.57,
          334.71,
          3.59,
          8.87,
          376.5,
          1136.3,
          112.35,
          717.23,
          124.08,
          4.3,
          49.65,
          1.6,
          2.16,
          5.64,
          3949.32,
          16,
          11.84,
          4.14,
          0.94,
          1.68,
          1.01,
          42.5,
          8142.75,
          2.26,
          0.11,
          4287.63
         ],
         "xaxis": "x2",
         "yaxis": "y2"
        },
        {
         "alignmentgroup": "True",
         "bingroup": "x",
         "histfunc": "sum",
         "hovertemplate": "Amount of Sales for Price=1<br>index=%{x}<br>sum of Amount of Sales for Price=%{y}<extra></extra>",
         "legendgroup": "1",
         "marker": {
          "color": "#19d3f3"
         },
         "name": "1",
         "offsetgroup": "1",
         "orientation": "v",
         "showlegend": true,
         "type": "histogram",
         "x": [
          187.21,
          75.67,
          249.71,
          4505.17,
          226.92,
          892.5,
          7.84,
          4.12,
          141.5,
          475.69,
          179.67,
          163.67,
          79.68,
          14.88,
          188.46,
          282.88,
          38.45,
          49.62,
          323.05,
          1149.98,
          188.54,
          163.83,
          1092.21,
          198.77,
          72.33,
          36.13,
          162.67,
          233.04,
          869.55,
          286.88,
          188.89,
          557,
          205.5,
          216.8,
          187.89,
          150.77,
          0.91,
          847.42,
          852.8,
          273.01,
          570,
          255.04,
          69.72,
          5.29,
          878.55,
          252.11,
          225.17,
          32.69,
          127.09,
          29.7,
          142.83,
          128.25,
          267.12,
          5.21,
          198.75,
          181.45,
          6.58,
          27.21,
          452.45,
          113.45,
          49.13,
          6721.37,
          186.21,
          16888.02,
          75.58,
          514,
          638.3,
          164.33,
          39.7,
          20.55,
          1526.76,
          224.42,
          166.08,
          9.84,
          201.5,
          69.92,
          167.58,
          156.45,
          149.02,
          65.67,
          434.51,
          166.92,
          134.76,
          132.25,
          938.59,
          181.83,
          177.04,
          237.33,
          481.45,
          177.96,
          53.55,
          1100.44,
          218.75,
          852.25,
          33.75,
          180.92,
          211.8,
          877.04,
          84.8,
          837.46,
          4383.62,
          271.18,
          523,
          850.5,
          222.49,
          176.71,
          135.75,
          219.5,
          375.64,
          180.17,
          2.85,
          218.26,
          179.29,
          530.25,
          6.91,
          549.79,
          639.83,
          234.92,
          182.67,
          66.17,
          300,
          178.29,
          178.71,
          5.99,
          54.25,
          3.96,
          4.37,
          185.83,
          2019.05,
          2114,
          134,
          184.92,
          15.53,
          28.66,
          39.13,
          908.16,
          236.46,
          138.5,
          109.19,
          231.79,
          110.92,
          230.08,
          3.52,
          235.54,
          587.08,
          6.4,
          203.73,
          1126.29,
          228.33,
          6.59,
          28.04,
          1283.8,
          400,
          114.34,
          161.08,
          197.74,
          404.49,
          189.79,
          107.58,
          92,
          924.59,
          37.5,
          858.46,
          219.24,
          55,
          448,
          17.02,
          191.96,
          19.82,
          1.71,
          9.86,
          545.25,
          863.8,
          191.46,
          868.21,
          229.79,
          176.8,
          13.39,
          239.67,
          29.29,
          133.3,
          47.98,
          202.77,
          191.67,
          220.5,
          793.33,
          226.61,
          308.82,
          38.26,
          803.55,
          170.54,
          607.96,
          1.31,
          608.66,
          223.89,
          888.06,
          698.5,
          192.67,
          265.7,
          153.71,
          127.89,
          885.94,
          729.42,
          1.76,
          240.67,
          87.04,
          189.44,
          0.66,
          120.92,
          120.58,
          149.49,
          391.32,
          700,
          7.6,
          155.46,
          208.89,
          120.17,
          275.11,
          537.83,
          304.24,
          237.89,
          131.46,
          180.5,
          316.3,
          34.5,
          12.29,
          172.54,
          743.96,
          5693.05,
          192.86,
          11062.06,
          132.29,
          1.21,
          17836.46,
          171.04,
          533.59,
          19.05,
          5.7,
          2500,
          170.98,
          134.04,
          238.12,
          6706.71,
          0.67,
          118.33,
          11.76,
          3.01,
          171.46,
          269.7,
          211.86,
          0.45,
          198.17,
          470.12,
          199.33,
          3.16,
          158.71,
          491.93,
          122.58,
          260.7,
          403.81,
          159.46,
          793.32,
          285.3,
          162.24,
          29.43,
          214.11,
          268.05,
          42,
          396.81,
          124.83,
          172.99,
          1270.06,
          145.46,
          690.21,
          584.59,
          28.68,
          200.33,
          17.55,
          200.58,
          1599.26,
          657.29,
          158.21,
          15.05,
          16.05,
          5.76,
          150.71,
          13474.79,
          4.04,
          162,
          19.29,
          37.49,
          102.64,
          156.21,
          598.59,
          176.48,
          162.75,
          176.52,
          646.46,
          197.33,
          97.14,
          4.05,
          31.98,
          197.83,
          216.11,
          42.75,
          465.87,
          83.06,
          46.13,
          218.64,
          174.24,
          202.42,
          218.08,
          11586.5,
          157.76,
          4.88,
          413.68,
          369.95,
          165.29,
          146.5,
          247.54,
          612.46,
          469.7,
          103.58,
          469.2,
          299.76,
          124.16,
          148.55,
          545.58,
          634.54,
          60,
          1.02,
          164.29,
          164.54,
          164.46,
          250.83,
          26.93,
          208.92,
          822.94,
          447.56,
          137.96,
          4.59,
          1.98,
          10.19,
          36.5,
          197.3,
          246.54,
          101.92,
          4.17,
          254.42,
          5.5,
          888.42,
          222.02,
          171.42,
          144.45,
          243.21,
          170.92,
          82.89,
          36.3,
          732.69,
          0.52,
          144.75,
          254.08,
          319.82,
          244.46,
          255.83,
          79.83,
          1039.73,
          173.42,
          166.96,
          1569.04,
          172.42,
          16.07,
          276.48,
          79,
          111.86,
          9.89,
          130.71,
          6.71,
          9.36,
          38970,
          2.84,
          143.04,
          13.31,
          14.92,
          356.7,
          147.49,
          7006.83,
          46,
          227.3,
          52,
          688.08,
          154.5,
          52.77,
          199.89,
          183,
          8286.22,
          579.21,
          695.08,
          182.25,
          117.42,
          43.63,
          4534.24,
          181.75,
          79.95,
          116.67,
          1435.79,
          214.42,
          16453.71,
          205.45,
          295.2,
          490.06,
          138.46,
          112.67,
          594,
          231.61,
          1483.21,
          100.17,
          148.75,
          167.02,
          210.42,
          230.61,
          4.7,
          161.04,
          161.96,
          65.91,
          213.33,
          150.25,
          10.06,
          22.56,
          212.33,
          849.93,
          606,
          16.46,
          115.42,
          194.7,
          154.01,
          201.64,
          296.61,
          511.25,
          2.22,
          334.16,
          82.21,
          150.59,
          204.63,
          92.93,
          2185.04,
          107.99,
          201.37,
          102.5,
          2275.54,
          203.63,
          307.85,
          142.94,
          306.6,
          175.28,
          36.71,
          702.38,
          141.19,
          101,
          168.53,
          80.46,
          1486.12,
          98.75,
          484.17,
          25.53,
          167.03,
          84.21,
          195.37,
          195.62,
          194.12,
          440.29,
          133.06,
          6.89,
          254.43,
          1172.1,
          4.9,
          206.38,
          149.16,
          37.46,
          200.38,
          43.57,
          350,
          20.92,
          607.49,
          1500.36,
          11,
          845.23,
          65.85,
          45.57,
          8.74,
          5258.77,
          239.07,
          102.24,
          1050.15,
          185.28,
          4527.65,
          225.68,
          4.4,
          6930,
          119.77,
          208.12,
          213.13,
          140.19,
          856.48,
          1556.08,
          174.78,
          124.27,
          64,
          11.08,
          9.16,
          14.52,
          416.75,
          232.57,
          176.72,
          58.33,
          264.65,
          215.13,
          16.85,
          1683.75,
          27,
          11.17,
          85.79,
          252.57,
          30.38,
          87.01,
          24.67,
          86.99,
          143.18,
          178.12,
          98.18,
          64.27,
          454.35,
          5522.14,
          1.42,
          146.85,
          146.1,
          188.88,
          22.97,
          230.59,
          3.4,
          144.15,
          11.25,
          23.53,
          27.26,
          21.74,
          9.9,
          60.79,
          950.99,
          87.75,
          110.43,
          22,
          182.38,
          236.91,
          1.34,
          378.02,
          111.79,
          88.75,
          10.2,
          181.88,
          182.37,
          239.91,
          90,
          92.88,
          106.04,
          366.27,
          218.72,
          93.75,
          185.88,
          1.07,
          596.9,
          103.57,
          5.14,
          186.87,
          2.04,
          0.77,
          6.32,
          131.69,
          128.56,
          517.51,
          634.39,
          929.9,
          39.96,
          250.68,
          1563,
          3.56,
          56.79,
          0.87,
          150.35,
          478.1,
          280.17,
          1121.18,
          56.04,
          2.35,
          105.21,
          278.92,
          33.17,
          593.15,
          276.08,
          105.71,
          255.81,
          5877.18,
          105.96,
          95,
          5791.18,
          743.62,
          340.72,
          108.75,
          9.08,
          4.02,
          16.42,
          179.94,
          173.59,
          201.82,
          394.83,
          147.03,
          78.29,
          147.53,
          246.37,
          124.87,
          15.07,
          119.51,
          311.66,
          490.25,
          77.96,
          223.35,
          3.13,
          114.62,
          313.78,
          6.78,
          198.6,
          141.03,
          176.41,
          234.63,
          233.37,
          118.25,
          371.65,
          175.69,
          566.37,
          53.33,
          449.52,
          65.79,
          492.46,
          178.84,
          214.32,
          122.99,
          5.8,
          12.98,
          125.88,
          0.48,
          243.87,
          87.4,
          0.98,
          120.88,
          641.86,
          6497.47,
          161.16,
          2028.25,
          191.06,
          248.87,
          495.98,
          30.53,
          458.29,
          159.78,
          248.13,
          1829.84,
          13.35,
          290.59,
          411.92,
          11.59,
          297.66,
          301.84,
          1298.4,
          9.42,
          603.62,
          46.86,
          4.27,
          113.99,
          278.97,
          1119.63,
          13,
          17,
          75.79,
          75.71,
          252.37,
          86.9,
          662.14,
          192.43,
          565.37,
          183.09,
          736.38,
          635.01,
          764.12,
          191.78,
          57.67,
          5.44,
          88.71,
          157.81,
          350.78,
          7427.97,
          2.02,
          29.28,
          50.6,
          1.72,
          1.11,
          71.46,
          112.5,
          100,
          189.84,
          57.58,
          275.6,
          16.74,
          89.79,
          1130.9,
          155.31,
          416.48,
          109.25,
          134.66,
          361.59,
          38.39,
          887.52,
          152.19,
          907.47,
          79.2,
          27.5,
          3.85,
          1714.17,
          345.03,
          757.63,
          13.01,
          118.38,
          189.59,
          472.77,
          189.91,
          299.72,
          226.37,
          275.34,
          222.18,
          821.9,
          7.18,
          12.15,
          111.73,
          16.76,
          0.41,
          181.34,
          236.88,
          112.37,
          30.19,
          183.16,
          59.53,
          168.19,
          117.63,
          204.85,
          29.53,
          455.75,
          12.96,
          498.79,
          70.21,
          131.22,
          5876.4,
          218.93,
          119.13,
          55.08,
          10.34,
          206.4,
          510.79,
          206.15,
          185.66,
          464.52,
          279.84,
          127.24,
          23,
          10.76,
          16.09,
          12.94,
          207.79,
          213.15,
          151.33,
          173.3,
          26.05,
          901.58,
          205.29,
          83.33,
          550.94,
          368.62,
          20.98,
          149.67,
          83.83,
          701.95,
          1.96,
          50.99,
          169.55,
          2.7,
          5.13,
          42.05,
          150.17,
          1008.96,
          246.5,
          110.45,
          152.92,
          988,
          85.58,
          121.06,
          253.24,
          162.2,
          192.29,
          192.71,
          162.95,
          192.54,
          153.92,
          192.21,
          15.5,
          4.79,
          202.96,
          202.29,
          531.65,
          1038.75,
          56.93,
          222.59,
          2.33,
          192.44,
          13.99,
          1715.85,
          133.13,
          275.98,
          770.26,
          264,
          160,
          523.77,
          189.68,
          130.63,
          518.98,
          265.5,
          19.94,
          259.75,
          135.13,
          57.63,
          29.99,
          81.42,
          576.18,
          81.33,
          324.43,
          19.84,
          3.14,
          35.09,
          42.55,
          42.95,
          326.68,
          682.05,
          31.6,
          5.72,
          1.86,
          4.86,
          221.16,
          195.06,
          155.33,
          248.51,
          133.64,
          710.95,
          930.04,
          1016.58,
          547.32,
          5.17,
          23.27,
          2.8,
          0.01,
          52.24,
          137.33,
          137.08,
          8.62,
          14.5,
          12,
          90.42,
          233.25,
          135.67,
          6662.51,
          25.95,
          265.19,
          620.68,
          138.08,
          584.94,
          214.29,
          64.11,
          109.84,
          249.02,
          183.2,
          213.71,
          401.8,
          907,
          213.79,
          183.55,
          212.04,
          212.96,
          141.42,
          248.48,
          11.05,
          151.61,
          135.08,
          227.99,
          58.5,
          966.92,
          8.12,
          164.55,
          199.04,
          235.02,
          235.98,
          165.2,
          0.92,
          235.48,
          200,
          198.21,
          156.92,
          933.17,
          9.87,
          196.79,
          18.66,
          298.31,
          367.38,
          129.08,
          229.74,
          11.7,
          14.75,
          190.8,
          132.33,
          91.33,
          133.17,
          91.58,
          220.71,
          133.08,
          130.58,
          61.63,
          425.14,
          631.31,
          131.58,
          131.42,
          88.83,
          1861.46,
          224.26,
          175.6,
          199.81,
          189.57,
          375.71,
          152.68,
          86.38,
          34.9,
          226.19,
          122.65,
          13.16,
          325,
          620.22,
          337.23,
          544.4,
          18.62,
          194.97,
          224.69,
          21.78,
          571.9,
          84.63,
          62.46,
          167.88,
          8.65,
          259.79,
          5.32,
          309.75,
          3.92,
          19.5,
          55.64,
          2.42,
          45.6,
          312.5,
          55.89,
          1211.17,
          19.75,
          3.98,
          1.32,
          1.89,
          66.24,
          153.13,
          252.16,
          166.88,
          627.47,
          160.37,
          1325,
          293.08,
          987.14,
          61.79,
          174.12,
          2033.1,
          98.79,
          129.9,
          98.54,
          323.98,
          240.41,
          5519.25,
          97.79,
          97.96,
          3.71,
          20.47,
          20.53,
          307.17,
          168.63,
          172.63,
          128.6,
          61.71,
          21,
          336.52,
          249.91,
          20.75,
          1.9,
          428.78,
          161.88,
          184.96,
          36.08,
          175.13,
          5.18,
          27.42,
          175.88,
          36.17,
          234.94,
          172.62,
          800.63,
          198.09,
          86.77,
          12.34,
          377.33,
          11.27,
          64.88,
          2196.67,
          302.04,
          281,
          208.34,
          1126,
          45.33,
          6.76,
          836.14,
          283,
          136.38,
          238.78,
          11.65,
          6.15,
          11.52,
          187.1,
          208.16,
          160.9,
          1236.75,
          277,
          75.75,
          14.42,
          47.67,
          10.85,
          129.38,
          50.64,
          5.97,
          110.6,
          569.77,
          274.25,
          66.38,
          274.75,
          69,
          26,
          53.54,
          498.47,
          940.87,
          127.54,
          678.03,
          184.6,
          206.66,
          11.85,
          124.79,
          70.01,
          303,
          97.35,
          76,
          4.68,
          158.63,
          7.69,
          49.46,
          5575.28,
          159.63,
          644.28,
          4.48,
          1042.84,
          1154.67,
          103.4,
          77.63,
          188.15,
          19.53,
          16.5,
          82.73,
          12.99,
          171.07,
          273.79,
          126.54,
          11.9,
          5225.03,
          201.84,
          18.75,
          3.97,
          863.74,
          74.75,
          4575.64,
          125.96,
          147.13,
          3060.6,
          244.51
         ],
         "xaxis": "x",
         "y": [
          1,
          1,
          1,
          1,
          1,
          1,
          1,
          1,
          1,
          1,
          1,
          1,
          1,
          1,
          1,
          1,
          1,
          1,
          1,
          1,
          1,
          1,
          1,
          1,
          1,
          1,
          1,
          1,
          1,
          1,
          1,
          1,
          1,
          1,
          1,
          1,
          1,
          1,
          1,
          1,
          1,
          1,
          1,
          1,
          1,
          1,
          1,
          1,
          1,
          1,
          1,
          1,
          1,
          1,
          1,
          1,
          1,
          1,
          1,
          1,
          1,
          1,
          1,
          1,
          1,
          1,
          1,
          1,
          1,
          1,
          1,
          1,
          1,
          1,
          1,
          1,
          1,
          1,
          1,
          1,
          1,
          1,
          1,
          1,
          1,
          1,
          1,
          1,
          1,
          1,
          1,
          1,
          1,
          1,
          1,
          1,
          1,
          1,
          1,
          1,
          1,
          1,
          1,
          1,
          1,
          1,
          1,
          1,
          1,
          1,
          1,
          1,
          1,
          1,
          1,
          1,
          1,
          1,
          1,
          1,
          1,
          1,
          1,
          1,
          1,
          1,
          1,
          1,
          1,
          1,
          1,
          1,
          1,
          1,
          1,
          1,
          1,
          1,
          1,
          1,
          1,
          1,
          1,
          1,
          1,
          1,
          1,
          1,
          1,
          1,
          1,
          1,
          1,
          1,
          1,
          1,
          1,
          1,
          1,
          1,
          1,
          1,
          1,
          1,
          1,
          1,
          1,
          1,
          1,
          1,
          1,
          1,
          1,
          1,
          1,
          1,
          1,
          1,
          1,
          1,
          1,
          1,
          1,
          1,
          1,
          1,
          1,
          1,
          1,
          1,
          1,
          1,
          1,
          1,
          1,
          1,
          1,
          1,
          1,
          1,
          1,
          1,
          1,
          1,
          1,
          1,
          1,
          1,
          1,
          1,
          1,
          1,
          1,
          1,
          1,
          1,
          1,
          1,
          1,
          1,
          1,
          1,
          1,
          1,
          1,
          1,
          1,
          1,
          1,
          1,
          1,
          1,
          1,
          1,
          1,
          1,
          1,
          1,
          1,
          1,
          1,
          1,
          1,
          1,
          1,
          1,
          1,
          1,
          1,
          1,
          1,
          1,
          1,
          1,
          1,
          1,
          1,
          1,
          1,
          1,
          1,
          1,
          1,
          1,
          1,
          1,
          1,
          1,
          1,
          1,
          1,
          1,
          1,
          1,
          1,
          1,
          1,
          1,
          1,
          1,
          1,
          1,
          1,
          1,
          1,
          1,
          1,
          1,
          1,
          1,
          1,
          1,
          1,
          1,
          1,
          1,
          1,
          1,
          1,
          1,
          1,
          1,
          1,
          1,
          1,
          1,
          1,
          1,
          1,
          1,
          1,
          1,
          1,
          1,
          1,
          1,
          1,
          1,
          1,
          1,
          1,
          1,
          1,
          1,
          1,
          1,
          1,
          1,
          1,
          1,
          1,
          1,
          1,
          1,
          1,
          1,
          1,
          1,
          1,
          1,
          1,
          1,
          1,
          1,
          1,
          1,
          1,
          1,
          1,
          1,
          1,
          1,
          1,
          1,
          1,
          1,
          1,
          1,
          1,
          1,
          1,
          1,
          1,
          1,
          1,
          1,
          1,
          1,
          1,
          1,
          1,
          1,
          1,
          1,
          1,
          1,
          1,
          1,
          1,
          1,
          1,
          1,
          1,
          1,
          1,
          1,
          1,
          1,
          1,
          1,
          1,
          1,
          1,
          1,
          1,
          1,
          1,
          1,
          1,
          1,
          1,
          1,
          1,
          1,
          1,
          1,
          1,
          1,
          1,
          1,
          1,
          1,
          1,
          1,
          1,
          1,
          1,
          1,
          1,
          1,
          1,
          1,
          1,
          1,
          1,
          1,
          1,
          1,
          1,
          1,
          1,
          1,
          1,
          1,
          1,
          1,
          1,
          1,
          1,
          1,
          1,
          1,
          1,
          1,
          1,
          1,
          1,
          1,
          1,
          1,
          1,
          1,
          1,
          1,
          1,
          1,
          1,
          1,
          1,
          1,
          1,
          1,
          1,
          1,
          1,
          1,
          1,
          1,
          1,
          1,
          1,
          1,
          1,
          1,
          1,
          1,
          1,
          1,
          1,
          1,
          1,
          1,
          1,
          1,
          1,
          1,
          1,
          1,
          1,
          1,
          1,
          1,
          1,
          1,
          1,
          1,
          1,
          1,
          1,
          1,
          1,
          1,
          1,
          1,
          1,
          1,
          1,
          1,
          1,
          1,
          1,
          1,
          1,
          1,
          1,
          1,
          1,
          1,
          1,
          1,
          1,
          1,
          1,
          1,
          1,
          1,
          1,
          1,
          1,
          1,
          1,
          1,
          1,
          1,
          1,
          1,
          1,
          1,
          1,
          1,
          1,
          1,
          1,
          1,
          1,
          1,
          1,
          1,
          1,
          1,
          1,
          1,
          1,
          1,
          1,
          1,
          1,
          1,
          1,
          1,
          1,
          1,
          1,
          1,
          1,
          1,
          1,
          1,
          1,
          1,
          1,
          1,
          1,
          1,
          1,
          1,
          1,
          1,
          1,
          1,
          1,
          1,
          1,
          1,
          1,
          1,
          1,
          1,
          1,
          1,
          1,
          1,
          1,
          1,
          1,
          1,
          1,
          1,
          1,
          1,
          1,
          1,
          1,
          1,
          1,
          1,
          1,
          1,
          1,
          1,
          1,
          1,
          1,
          1,
          1,
          1,
          1,
          1,
          1,
          1,
          1,
          1,
          1,
          1,
          1,
          1,
          1,
          1,
          1,
          1,
          1,
          1,
          1,
          1,
          1,
          1,
          1,
          1,
          1,
          1,
          1,
          1,
          1,
          1,
          1,
          1,
          1,
          1,
          1,
          1,
          1,
          1,
          1,
          1,
          1,
          1,
          1,
          1,
          1,
          1,
          1,
          1,
          1,
          1,
          1,
          1,
          1,
          1,
          1,
          1,
          1,
          1,
          1,
          1,
          1,
          1,
          1,
          1,
          1,
          1,
          1,
          1,
          1,
          1,
          1,
          1,
          1,
          1,
          1,
          1,
          1,
          1,
          1,
          1,
          1,
          1,
          1,
          1,
          1,
          1,
          1,
          1,
          1,
          1,
          1,
          1,
          1,
          1,
          1,
          1,
          1,
          1,
          1,
          1,
          1,
          1,
          1,
          1,
          1,
          1,
          1,
          1,
          1,
          1,
          1,
          1,
          1,
          1,
          1,
          1,
          1,
          1,
          1,
          1,
          1,
          1,
          1,
          1,
          1,
          1,
          1,
          1,
          1,
          1,
          1,
          1,
          1,
          1,
          1,
          1,
          1,
          1,
          1,
          1,
          1,
          1,
          1,
          1,
          1,
          1,
          1,
          1,
          1,
          1,
          1,
          1,
          1,
          1,
          1,
          1,
          1,
          1,
          1,
          1,
          1,
          1,
          1,
          1,
          1,
          1,
          1,
          1,
          1,
          1,
          1,
          1,
          1,
          1,
          1,
          1,
          1,
          1,
          1,
          1,
          1,
          1,
          1,
          1,
          1,
          1,
          1,
          1,
          1,
          1,
          1,
          1,
          1,
          1,
          1,
          1,
          1,
          1,
          1,
          1,
          1,
          1,
          1,
          1,
          1,
          1,
          1,
          1,
          1,
          1,
          1,
          1,
          1,
          1,
          1,
          1,
          1,
          1,
          1,
          1,
          1,
          1,
          1,
          1,
          1,
          1,
          1,
          1,
          1,
          1,
          1,
          1,
          1,
          1,
          1,
          1,
          1,
          1,
          1,
          1,
          1,
          1,
          1,
          1,
          1,
          1,
          1,
          1,
          1,
          1,
          1,
          1,
          1,
          1,
          1,
          1,
          1,
          1,
          1,
          1,
          1,
          1,
          1,
          1,
          1,
          1,
          1,
          1,
          1,
          1,
          1,
          1,
          1,
          1,
          1,
          1,
          1,
          1,
          1,
          1,
          1,
          1,
          1,
          1,
          1,
          1,
          1,
          1,
          1,
          1,
          1,
          1,
          1,
          1,
          1,
          1,
          1,
          1,
          1,
          1,
          1,
          1,
          1,
          1,
          1,
          1,
          1,
          1,
          1,
          1,
          1,
          1,
          1,
          1,
          1,
          1,
          1,
          1,
          1,
          1,
          1,
          1,
          1,
          1,
          1,
          1,
          1,
          1,
          1,
          1,
          1,
          1,
          1,
          1,
          1,
          1,
          1,
          1,
          1,
          1,
          1,
          1,
          1,
          1,
          1,
          1,
          1,
          1,
          1,
          1,
          1,
          1,
          1,
          1,
          1,
          1,
          1,
          1,
          1,
          1,
          1,
          1,
          1,
          1,
          1,
          1,
          1,
          1,
          1,
          1,
          1,
          1,
          1,
          1,
          1,
          1,
          1,
          1,
          1,
          1,
          1,
          1,
          1,
          1,
          1,
          1,
          1,
          1,
          1,
          1,
          1,
          1,
          1,
          1,
          1,
          1,
          1,
          1,
          1,
          1,
          1,
          1,
          1,
          1,
          1,
          1,
          1,
          1,
          1,
          1,
          1,
          1,
          1,
          1,
          1,
          1,
          1,
          1,
          1,
          1,
          1,
          1,
          1,
          1,
          1,
          1,
          1,
          1,
          1,
          1,
          1,
          1,
          1,
          1,
          1,
          1,
          1,
          1,
          1,
          1,
          1,
          1,
          1,
          1,
          1,
          1,
          1,
          1,
          1,
          1,
          1,
          1,
          1,
          1,
          1,
          1,
          1,
          1,
          1,
          1,
          1,
          1,
          1,
          1,
          1,
          1,
          1,
          1,
          1,
          1,
          1,
          1,
          1,
          1,
          1,
          1,
          1,
          1,
          1,
          1,
          1,
          1,
          1,
          1,
          1,
          1,
          1,
          1,
          1,
          1
         ],
         "yaxis": "y"
        },
        {
         "alignmentgroup": "True",
         "boxpoints": "all",
         "fillcolor": "rgba(255,255,255,0)",
         "hoveron": "points",
         "hovertemplate": "Amount of Sales for Price=1<br>index=%{x}<extra></extra>",
         "jitter": 0,
         "legendgroup": "1",
         "line": {
          "color": "rgba(255,255,255,0)"
         },
         "marker": {
          "color": "#19d3f3",
          "symbol": "line-ns-open"
         },
         "name": "1",
         "offsetgroup": "1",
         "showlegend": false,
         "type": "box",
         "x": [
          187.21,
          75.67,
          249.71,
          4505.17,
          226.92,
          892.5,
          7.84,
          4.12,
          141.5,
          475.69,
          179.67,
          163.67,
          79.68,
          14.88,
          188.46,
          282.88,
          38.45,
          49.62,
          323.05,
          1149.98,
          188.54,
          163.83,
          1092.21,
          198.77,
          72.33,
          36.13,
          162.67,
          233.04,
          869.55,
          286.88,
          188.89,
          557,
          205.5,
          216.8,
          187.89,
          150.77,
          0.91,
          847.42,
          852.8,
          273.01,
          570,
          255.04,
          69.72,
          5.29,
          878.55,
          252.11,
          225.17,
          32.69,
          127.09,
          29.7,
          142.83,
          128.25,
          267.12,
          5.21,
          198.75,
          181.45,
          6.58,
          27.21,
          452.45,
          113.45,
          49.13,
          6721.37,
          186.21,
          16888.02,
          75.58,
          514,
          638.3,
          164.33,
          39.7,
          20.55,
          1526.76,
          224.42,
          166.08,
          9.84,
          201.5,
          69.92,
          167.58,
          156.45,
          149.02,
          65.67,
          434.51,
          166.92,
          134.76,
          132.25,
          938.59,
          181.83,
          177.04,
          237.33,
          481.45,
          177.96,
          53.55,
          1100.44,
          218.75,
          852.25,
          33.75,
          180.92,
          211.8,
          877.04,
          84.8,
          837.46,
          4383.62,
          271.18,
          523,
          850.5,
          222.49,
          176.71,
          135.75,
          219.5,
          375.64,
          180.17,
          2.85,
          218.26,
          179.29,
          530.25,
          6.91,
          549.79,
          639.83,
          234.92,
          182.67,
          66.17,
          300,
          178.29,
          178.71,
          5.99,
          54.25,
          3.96,
          4.37,
          185.83,
          2019.05,
          2114,
          134,
          184.92,
          15.53,
          28.66,
          39.13,
          908.16,
          236.46,
          138.5,
          109.19,
          231.79,
          110.92,
          230.08,
          3.52,
          235.54,
          587.08,
          6.4,
          203.73,
          1126.29,
          228.33,
          6.59,
          28.04,
          1283.8,
          400,
          114.34,
          161.08,
          197.74,
          404.49,
          189.79,
          107.58,
          92,
          924.59,
          37.5,
          858.46,
          219.24,
          55,
          448,
          17.02,
          191.96,
          19.82,
          1.71,
          9.86,
          545.25,
          863.8,
          191.46,
          868.21,
          229.79,
          176.8,
          13.39,
          239.67,
          29.29,
          133.3,
          47.98,
          202.77,
          191.67,
          220.5,
          793.33,
          226.61,
          308.82,
          38.26,
          803.55,
          170.54,
          607.96,
          1.31,
          608.66,
          223.89,
          888.06,
          698.5,
          192.67,
          265.7,
          153.71,
          127.89,
          885.94,
          729.42,
          1.76,
          240.67,
          87.04,
          189.44,
          0.66,
          120.92,
          120.58,
          149.49,
          391.32,
          700,
          7.6,
          155.46,
          208.89,
          120.17,
          275.11,
          537.83,
          304.24,
          237.89,
          131.46,
          180.5,
          316.3,
          34.5,
          12.29,
          172.54,
          743.96,
          5693.05,
          192.86,
          11062.06,
          132.29,
          1.21,
          17836.46,
          171.04,
          533.59,
          19.05,
          5.7,
          2500,
          170.98,
          134.04,
          238.12,
          6706.71,
          0.67,
          118.33,
          11.76,
          3.01,
          171.46,
          269.7,
          211.86,
          0.45,
          198.17,
          470.12,
          199.33,
          3.16,
          158.71,
          491.93,
          122.58,
          260.7,
          403.81,
          159.46,
          793.32,
          285.3,
          162.24,
          29.43,
          214.11,
          268.05,
          42,
          396.81,
          124.83,
          172.99,
          1270.06,
          145.46,
          690.21,
          584.59,
          28.68,
          200.33,
          17.55,
          200.58,
          1599.26,
          657.29,
          158.21,
          15.05,
          16.05,
          5.76,
          150.71,
          13474.79,
          4.04,
          162,
          19.29,
          37.49,
          102.64,
          156.21,
          598.59,
          176.48,
          162.75,
          176.52,
          646.46,
          197.33,
          97.14,
          4.05,
          31.98,
          197.83,
          216.11,
          42.75,
          465.87,
          83.06,
          46.13,
          218.64,
          174.24,
          202.42,
          218.08,
          11586.5,
          157.76,
          4.88,
          413.68,
          369.95,
          165.29,
          146.5,
          247.54,
          612.46,
          469.7,
          103.58,
          469.2,
          299.76,
          124.16,
          148.55,
          545.58,
          634.54,
          60,
          1.02,
          164.29,
          164.54,
          164.46,
          250.83,
          26.93,
          208.92,
          822.94,
          447.56,
          137.96,
          4.59,
          1.98,
          10.19,
          36.5,
          197.3,
          246.54,
          101.92,
          4.17,
          254.42,
          5.5,
          888.42,
          222.02,
          171.42,
          144.45,
          243.21,
          170.92,
          82.89,
          36.3,
          732.69,
          0.52,
          144.75,
          254.08,
          319.82,
          244.46,
          255.83,
          79.83,
          1039.73,
          173.42,
          166.96,
          1569.04,
          172.42,
          16.07,
          276.48,
          79,
          111.86,
          9.89,
          130.71,
          6.71,
          9.36,
          38970,
          2.84,
          143.04,
          13.31,
          14.92,
          356.7,
          147.49,
          7006.83,
          46,
          227.3,
          52,
          688.08,
          154.5,
          52.77,
          199.89,
          183,
          8286.22,
          579.21,
          695.08,
          182.25,
          117.42,
          43.63,
          4534.24,
          181.75,
          79.95,
          116.67,
          1435.79,
          214.42,
          16453.71,
          205.45,
          295.2,
          490.06,
          138.46,
          112.67,
          594,
          231.61,
          1483.21,
          100.17,
          148.75,
          167.02,
          210.42,
          230.61,
          4.7,
          161.04,
          161.96,
          65.91,
          213.33,
          150.25,
          10.06,
          22.56,
          212.33,
          849.93,
          606,
          16.46,
          115.42,
          194.7,
          154.01,
          201.64,
          296.61,
          511.25,
          2.22,
          334.16,
          82.21,
          150.59,
          204.63,
          92.93,
          2185.04,
          107.99,
          201.37,
          102.5,
          2275.54,
          203.63,
          307.85,
          142.94,
          306.6,
          175.28,
          36.71,
          702.38,
          141.19,
          101,
          168.53,
          80.46,
          1486.12,
          98.75,
          484.17,
          25.53,
          167.03,
          84.21,
          195.37,
          195.62,
          194.12,
          440.29,
          133.06,
          6.89,
          254.43,
          1172.1,
          4.9,
          206.38,
          149.16,
          37.46,
          200.38,
          43.57,
          350,
          20.92,
          607.49,
          1500.36,
          11,
          845.23,
          65.85,
          45.57,
          8.74,
          5258.77,
          239.07,
          102.24,
          1050.15,
          185.28,
          4527.65,
          225.68,
          4.4,
          6930,
          119.77,
          208.12,
          213.13,
          140.19,
          856.48,
          1556.08,
          174.78,
          124.27,
          64,
          11.08,
          9.16,
          14.52,
          416.75,
          232.57,
          176.72,
          58.33,
          264.65,
          215.13,
          16.85,
          1683.75,
          27,
          11.17,
          85.79,
          252.57,
          30.38,
          87.01,
          24.67,
          86.99,
          143.18,
          178.12,
          98.18,
          64.27,
          454.35,
          5522.14,
          1.42,
          146.85,
          146.1,
          188.88,
          22.97,
          230.59,
          3.4,
          144.15,
          11.25,
          23.53,
          27.26,
          21.74,
          9.9,
          60.79,
          950.99,
          87.75,
          110.43,
          22,
          182.38,
          236.91,
          1.34,
          378.02,
          111.79,
          88.75,
          10.2,
          181.88,
          182.37,
          239.91,
          90,
          92.88,
          106.04,
          366.27,
          218.72,
          93.75,
          185.88,
          1.07,
          596.9,
          103.57,
          5.14,
          186.87,
          2.04,
          0.77,
          6.32,
          131.69,
          128.56,
          517.51,
          634.39,
          929.9,
          39.96,
          250.68,
          1563,
          3.56,
          56.79,
          0.87,
          150.35,
          478.1,
          280.17,
          1121.18,
          56.04,
          2.35,
          105.21,
          278.92,
          33.17,
          593.15,
          276.08,
          105.71,
          255.81,
          5877.18,
          105.96,
          95,
          5791.18,
          743.62,
          340.72,
          108.75,
          9.08,
          4.02,
          16.42,
          179.94,
          173.59,
          201.82,
          394.83,
          147.03,
          78.29,
          147.53,
          246.37,
          124.87,
          15.07,
          119.51,
          311.66,
          490.25,
          77.96,
          223.35,
          3.13,
          114.62,
          313.78,
          6.78,
          198.6,
          141.03,
          176.41,
          234.63,
          233.37,
          118.25,
          371.65,
          175.69,
          566.37,
          53.33,
          449.52,
          65.79,
          492.46,
          178.84,
          214.32,
          122.99,
          5.8,
          12.98,
          125.88,
          0.48,
          243.87,
          87.4,
          0.98,
          120.88,
          641.86,
          6497.47,
          161.16,
          2028.25,
          191.06,
          248.87,
          495.98,
          30.53,
          458.29,
          159.78,
          248.13,
          1829.84,
          13.35,
          290.59,
          411.92,
          11.59,
          297.66,
          301.84,
          1298.4,
          9.42,
          603.62,
          46.86,
          4.27,
          113.99,
          278.97,
          1119.63,
          13,
          17,
          75.79,
          75.71,
          252.37,
          86.9,
          662.14,
          192.43,
          565.37,
          183.09,
          736.38,
          635.01,
          764.12,
          191.78,
          57.67,
          5.44,
          88.71,
          157.81,
          350.78,
          7427.97,
          2.02,
          29.28,
          50.6,
          1.72,
          1.11,
          71.46,
          112.5,
          100,
          189.84,
          57.58,
          275.6,
          16.74,
          89.79,
          1130.9,
          155.31,
          416.48,
          109.25,
          134.66,
          361.59,
          38.39,
          887.52,
          152.19,
          907.47,
          79.2,
          27.5,
          3.85,
          1714.17,
          345.03,
          757.63,
          13.01,
          118.38,
          189.59,
          472.77,
          189.91,
          299.72,
          226.37,
          275.34,
          222.18,
          821.9,
          7.18,
          12.15,
          111.73,
          16.76,
          0.41,
          181.34,
          236.88,
          112.37,
          30.19,
          183.16,
          59.53,
          168.19,
          117.63,
          204.85,
          29.53,
          455.75,
          12.96,
          498.79,
          70.21,
          131.22,
          5876.4,
          218.93,
          119.13,
          55.08,
          10.34,
          206.4,
          510.79,
          206.15,
          185.66,
          464.52,
          279.84,
          127.24,
          23,
          10.76,
          16.09,
          12.94,
          207.79,
          213.15,
          151.33,
          173.3,
          26.05,
          901.58,
          205.29,
          83.33,
          550.94,
          368.62,
          20.98,
          149.67,
          83.83,
          701.95,
          1.96,
          50.99,
          169.55,
          2.7,
          5.13,
          42.05,
          150.17,
          1008.96,
          246.5,
          110.45,
          152.92,
          988,
          85.58,
          121.06,
          253.24,
          162.2,
          192.29,
          192.71,
          162.95,
          192.54,
          153.92,
          192.21,
          15.5,
          4.79,
          202.96,
          202.29,
          531.65,
          1038.75,
          56.93,
          222.59,
          2.33,
          192.44,
          13.99,
          1715.85,
          133.13,
          275.98,
          770.26,
          264,
          160,
          523.77,
          189.68,
          130.63,
          518.98,
          265.5,
          19.94,
          259.75,
          135.13,
          57.63,
          29.99,
          81.42,
          576.18,
          81.33,
          324.43,
          19.84,
          3.14,
          35.09,
          42.55,
          42.95,
          326.68,
          682.05,
          31.6,
          5.72,
          1.86,
          4.86,
          221.16,
          195.06,
          155.33,
          248.51,
          133.64,
          710.95,
          930.04,
          1016.58,
          547.32,
          5.17,
          23.27,
          2.8,
          0.01,
          52.24,
          137.33,
          137.08,
          8.62,
          14.5,
          12,
          90.42,
          233.25,
          135.67,
          6662.51,
          25.95,
          265.19,
          620.68,
          138.08,
          584.94,
          214.29,
          64.11,
          109.84,
          249.02,
          183.2,
          213.71,
          401.8,
          907,
          213.79,
          183.55,
          212.04,
          212.96,
          141.42,
          248.48,
          11.05,
          151.61,
          135.08,
          227.99,
          58.5,
          966.92,
          8.12,
          164.55,
          199.04,
          235.02,
          235.98,
          165.2,
          0.92,
          235.48,
          200,
          198.21,
          156.92,
          933.17,
          9.87,
          196.79,
          18.66,
          298.31,
          367.38,
          129.08,
          229.74,
          11.7,
          14.75,
          190.8,
          132.33,
          91.33,
          133.17,
          91.58,
          220.71,
          133.08,
          130.58,
          61.63,
          425.14,
          631.31,
          131.58,
          131.42,
          88.83,
          1861.46,
          224.26,
          175.6,
          199.81,
          189.57,
          375.71,
          152.68,
          86.38,
          34.9,
          226.19,
          122.65,
          13.16,
          325,
          620.22,
          337.23,
          544.4,
          18.62,
          194.97,
          224.69,
          21.78,
          571.9,
          84.63,
          62.46,
          167.88,
          8.65,
          259.79,
          5.32,
          309.75,
          3.92,
          19.5,
          55.64,
          2.42,
          45.6,
          312.5,
          55.89,
          1211.17,
          19.75,
          3.98,
          1.32,
          1.89,
          66.24,
          153.13,
          252.16,
          166.88,
          627.47,
          160.37,
          1325,
          293.08,
          987.14,
          61.79,
          174.12,
          2033.1,
          98.79,
          129.9,
          98.54,
          323.98,
          240.41,
          5519.25,
          97.79,
          97.96,
          3.71,
          20.47,
          20.53,
          307.17,
          168.63,
          172.63,
          128.6,
          61.71,
          21,
          336.52,
          249.91,
          20.75,
          1.9,
          428.78,
          161.88,
          184.96,
          36.08,
          175.13,
          5.18,
          27.42,
          175.88,
          36.17,
          234.94,
          172.62,
          800.63,
          198.09,
          86.77,
          12.34,
          377.33,
          11.27,
          64.88,
          2196.67,
          302.04,
          281,
          208.34,
          1126,
          45.33,
          6.76,
          836.14,
          283,
          136.38,
          238.78,
          11.65,
          6.15,
          11.52,
          187.1,
          208.16,
          160.9,
          1236.75,
          277,
          75.75,
          14.42,
          47.67,
          10.85,
          129.38,
          50.64,
          5.97,
          110.6,
          569.77,
          274.25,
          66.38,
          274.75,
          69,
          26,
          53.54,
          498.47,
          940.87,
          127.54,
          678.03,
          184.6,
          206.66,
          11.85,
          124.79,
          70.01,
          303,
          97.35,
          76,
          4.68,
          158.63,
          7.69,
          49.46,
          5575.28,
          159.63,
          644.28,
          4.48,
          1042.84,
          1154.67,
          103.4,
          77.63,
          188.15,
          19.53,
          16.5,
          82.73,
          12.99,
          171.07,
          273.79,
          126.54,
          11.9,
          5225.03,
          201.84,
          18.75,
          3.97,
          863.74,
          74.75,
          4575.64,
          125.96,
          147.13,
          3060.6,
          244.51
         ],
         "xaxis": "x2",
         "yaxis": "y2"
        }
       ],
       "layout": {
        "barmode": "relative",
        "legend": {
         "title": {
          "text": "Amount of Sales for Price"
         },
         "tracegroupgap": 0
        },
        "margin": {
         "t": 60
        },
        "template": {
         "data": {
          "bar": [
           {
            "error_x": {
             "color": "#2a3f5f"
            },
            "error_y": {
             "color": "#2a3f5f"
            },
            "marker": {
             "line": {
              "color": "#E5ECF6",
              "width": 0.5
             }
            },
            "type": "bar"
           }
          ],
          "barpolar": [
           {
            "marker": {
             "line": {
              "color": "#E5ECF6",
              "width": 0.5
             }
            },
            "type": "barpolar"
           }
          ],
          "carpet": [
           {
            "aaxis": {
             "endlinecolor": "#2a3f5f",
             "gridcolor": "white",
             "linecolor": "white",
             "minorgridcolor": "white",
             "startlinecolor": "#2a3f5f"
            },
            "baxis": {
             "endlinecolor": "#2a3f5f",
             "gridcolor": "white",
             "linecolor": "white",
             "minorgridcolor": "white",
             "startlinecolor": "#2a3f5f"
            },
            "type": "carpet"
           }
          ],
          "choropleth": [
           {
            "colorbar": {
             "outlinewidth": 0,
             "ticks": ""
            },
            "type": "choropleth"
           }
          ],
          "contour": [
           {
            "colorbar": {
             "outlinewidth": 0,
             "ticks": ""
            },
            "colorscale": [
             [
              0,
              "#0d0887"
             ],
             [
              0.1111111111111111,
              "#46039f"
             ],
             [
              0.2222222222222222,
              "#7201a8"
             ],
             [
              0.3333333333333333,
              "#9c179e"
             ],
             [
              0.4444444444444444,
              "#bd3786"
             ],
             [
              0.5555555555555556,
              "#d8576b"
             ],
             [
              0.6666666666666666,
              "#ed7953"
             ],
             [
              0.7777777777777778,
              "#fb9f3a"
             ],
             [
              0.8888888888888888,
              "#fdca26"
             ],
             [
              1,
              "#f0f921"
             ]
            ],
            "type": "contour"
           }
          ],
          "contourcarpet": [
           {
            "colorbar": {
             "outlinewidth": 0,
             "ticks": ""
            },
            "type": "contourcarpet"
           }
          ],
          "heatmap": [
           {
            "colorbar": {
             "outlinewidth": 0,
             "ticks": ""
            },
            "colorscale": [
             [
              0,
              "#0d0887"
             ],
             [
              0.1111111111111111,
              "#46039f"
             ],
             [
              0.2222222222222222,
              "#7201a8"
             ],
             [
              0.3333333333333333,
              "#9c179e"
             ],
             [
              0.4444444444444444,
              "#bd3786"
             ],
             [
              0.5555555555555556,
              "#d8576b"
             ],
             [
              0.6666666666666666,
              "#ed7953"
             ],
             [
              0.7777777777777778,
              "#fb9f3a"
             ],
             [
              0.8888888888888888,
              "#fdca26"
             ],
             [
              1,
              "#f0f921"
             ]
            ],
            "type": "heatmap"
           }
          ],
          "heatmapgl": [
           {
            "colorbar": {
             "outlinewidth": 0,
             "ticks": ""
            },
            "colorscale": [
             [
              0,
              "#0d0887"
             ],
             [
              0.1111111111111111,
              "#46039f"
             ],
             [
              0.2222222222222222,
              "#7201a8"
             ],
             [
              0.3333333333333333,
              "#9c179e"
             ],
             [
              0.4444444444444444,
              "#bd3786"
             ],
             [
              0.5555555555555556,
              "#d8576b"
             ],
             [
              0.6666666666666666,
              "#ed7953"
             ],
             [
              0.7777777777777778,
              "#fb9f3a"
             ],
             [
              0.8888888888888888,
              "#fdca26"
             ],
             [
              1,
              "#f0f921"
             ]
            ],
            "type": "heatmapgl"
           }
          ],
          "histogram": [
           {
            "marker": {
             "colorbar": {
              "outlinewidth": 0,
              "ticks": ""
             }
            },
            "type": "histogram"
           }
          ],
          "histogram2d": [
           {
            "colorbar": {
             "outlinewidth": 0,
             "ticks": ""
            },
            "colorscale": [
             [
              0,
              "#0d0887"
             ],
             [
              0.1111111111111111,
              "#46039f"
             ],
             [
              0.2222222222222222,
              "#7201a8"
             ],
             [
              0.3333333333333333,
              "#9c179e"
             ],
             [
              0.4444444444444444,
              "#bd3786"
             ],
             [
              0.5555555555555556,
              "#d8576b"
             ],
             [
              0.6666666666666666,
              "#ed7953"
             ],
             [
              0.7777777777777778,
              "#fb9f3a"
             ],
             [
              0.8888888888888888,
              "#fdca26"
             ],
             [
              1,
              "#f0f921"
             ]
            ],
            "type": "histogram2d"
           }
          ],
          "histogram2dcontour": [
           {
            "colorbar": {
             "outlinewidth": 0,
             "ticks": ""
            },
            "colorscale": [
             [
              0,
              "#0d0887"
             ],
             [
              0.1111111111111111,
              "#46039f"
             ],
             [
              0.2222222222222222,
              "#7201a8"
             ],
             [
              0.3333333333333333,
              "#9c179e"
             ],
             [
              0.4444444444444444,
              "#bd3786"
             ],
             [
              0.5555555555555556,
              "#d8576b"
             ],
             [
              0.6666666666666666,
              "#ed7953"
             ],
             [
              0.7777777777777778,
              "#fb9f3a"
             ],
             [
              0.8888888888888888,
              "#fdca26"
             ],
             [
              1,
              "#f0f921"
             ]
            ],
            "type": "histogram2dcontour"
           }
          ],
          "mesh3d": [
           {
            "colorbar": {
             "outlinewidth": 0,
             "ticks": ""
            },
            "type": "mesh3d"
           }
          ],
          "parcoords": [
           {
            "line": {
             "colorbar": {
              "outlinewidth": 0,
              "ticks": ""
             }
            },
            "type": "parcoords"
           }
          ],
          "pie": [
           {
            "automargin": true,
            "type": "pie"
           }
          ],
          "scatter": [
           {
            "marker": {
             "colorbar": {
              "outlinewidth": 0,
              "ticks": ""
             }
            },
            "type": "scatter"
           }
          ],
          "scatter3d": [
           {
            "line": {
             "colorbar": {
              "outlinewidth": 0,
              "ticks": ""
             }
            },
            "marker": {
             "colorbar": {
              "outlinewidth": 0,
              "ticks": ""
             }
            },
            "type": "scatter3d"
           }
          ],
          "scattercarpet": [
           {
            "marker": {
             "colorbar": {
              "outlinewidth": 0,
              "ticks": ""
             }
            },
            "type": "scattercarpet"
           }
          ],
          "scattergeo": [
           {
            "marker": {
             "colorbar": {
              "outlinewidth": 0,
              "ticks": ""
             }
            },
            "type": "scattergeo"
           }
          ],
          "scattergl": [
           {
            "marker": {
             "colorbar": {
              "outlinewidth": 0,
              "ticks": ""
             }
            },
            "type": "scattergl"
           }
          ],
          "scattermapbox": [
           {
            "marker": {
             "colorbar": {
              "outlinewidth": 0,
              "ticks": ""
             }
            },
            "type": "scattermapbox"
           }
          ],
          "scatterpolar": [
           {
            "marker": {
             "colorbar": {
              "outlinewidth": 0,
              "ticks": ""
             }
            },
            "type": "scatterpolar"
           }
          ],
          "scatterpolargl": [
           {
            "marker": {
             "colorbar": {
              "outlinewidth": 0,
              "ticks": ""
             }
            },
            "type": "scatterpolargl"
           }
          ],
          "scatterternary": [
           {
            "marker": {
             "colorbar": {
              "outlinewidth": 0,
              "ticks": ""
             }
            },
            "type": "scatterternary"
           }
          ],
          "surface": [
           {
            "colorbar": {
             "outlinewidth": 0,
             "ticks": ""
            },
            "colorscale": [
             [
              0,
              "#0d0887"
             ],
             [
              0.1111111111111111,
              "#46039f"
             ],
             [
              0.2222222222222222,
              "#7201a8"
             ],
             [
              0.3333333333333333,
              "#9c179e"
             ],
             [
              0.4444444444444444,
              "#bd3786"
             ],
             [
              0.5555555555555556,
              "#d8576b"
             ],
             [
              0.6666666666666666,
              "#ed7953"
             ],
             [
              0.7777777777777778,
              "#fb9f3a"
             ],
             [
              0.8888888888888888,
              "#fdca26"
             ],
             [
              1,
              "#f0f921"
             ]
            ],
            "type": "surface"
           }
          ],
          "table": [
           {
            "cells": {
             "fill": {
              "color": "#EBF0F8"
             },
             "line": {
              "color": "white"
             }
            },
            "header": {
             "fill": {
              "color": "#C8D4E3"
             },
             "line": {
              "color": "white"
             }
            },
            "type": "table"
           }
          ]
         },
         "layout": {
          "annotationdefaults": {
           "arrowcolor": "#2a3f5f",
           "arrowhead": 0,
           "arrowwidth": 1
          },
          "autotypenumbers": "strict",
          "coloraxis": {
           "colorbar": {
            "outlinewidth": 0,
            "ticks": ""
           }
          },
          "colorscale": {
           "diverging": [
            [
             0,
             "#8e0152"
            ],
            [
             0.1,
             "#c51b7d"
            ],
            [
             0.2,
             "#de77ae"
            ],
            [
             0.3,
             "#f1b6da"
            ],
            [
             0.4,
             "#fde0ef"
            ],
            [
             0.5,
             "#f7f7f7"
            ],
            [
             0.6,
             "#e6f5d0"
            ],
            [
             0.7,
             "#b8e186"
            ],
            [
             0.8,
             "#7fbc41"
            ],
            [
             0.9,
             "#4d9221"
            ],
            [
             1,
             "#276419"
            ]
           ],
           "sequential": [
            [
             0,
             "#0d0887"
            ],
            [
             0.1111111111111111,
             "#46039f"
            ],
            [
             0.2222222222222222,
             "#7201a8"
            ],
            [
             0.3333333333333333,
             "#9c179e"
            ],
            [
             0.4444444444444444,
             "#bd3786"
            ],
            [
             0.5555555555555556,
             "#d8576b"
            ],
            [
             0.6666666666666666,
             "#ed7953"
            ],
            [
             0.7777777777777778,
             "#fb9f3a"
            ],
            [
             0.8888888888888888,
             "#fdca26"
            ],
            [
             1,
             "#f0f921"
            ]
           ],
           "sequentialminus": [
            [
             0,
             "#0d0887"
            ],
            [
             0.1111111111111111,
             "#46039f"
            ],
            [
             0.2222222222222222,
             "#7201a8"
            ],
            [
             0.3333333333333333,
             "#9c179e"
            ],
            [
             0.4444444444444444,
             "#bd3786"
            ],
            [
             0.5555555555555556,
             "#d8576b"
            ],
            [
             0.6666666666666666,
             "#ed7953"
            ],
            [
             0.7777777777777778,
             "#fb9f3a"
            ],
            [
             0.8888888888888888,
             "#fdca26"
            ],
            [
             1,
             "#f0f921"
            ]
           ]
          },
          "colorway": [
           "#636efa",
           "#EF553B",
           "#00cc96",
           "#ab63fa",
           "#FFA15A",
           "#19d3f3",
           "#FF6692",
           "#B6E880",
           "#FF97FF",
           "#FECB52"
          ],
          "font": {
           "color": "#2a3f5f"
          },
          "geo": {
           "bgcolor": "white",
           "lakecolor": "white",
           "landcolor": "#E5ECF6",
           "showlakes": true,
           "showland": true,
           "subunitcolor": "white"
          },
          "hoverlabel": {
           "align": "left"
          },
          "hovermode": "closest",
          "mapbox": {
           "style": "light"
          },
          "paper_bgcolor": "white",
          "plot_bgcolor": "#E5ECF6",
          "polar": {
           "angularaxis": {
            "gridcolor": "white",
            "linecolor": "white",
            "ticks": ""
           },
           "bgcolor": "#E5ECF6",
           "radialaxis": {
            "gridcolor": "white",
            "linecolor": "white",
            "ticks": ""
           }
          },
          "scene": {
           "xaxis": {
            "backgroundcolor": "#E5ECF6",
            "gridcolor": "white",
            "gridwidth": 2,
            "linecolor": "white",
            "showbackground": true,
            "ticks": "",
            "zerolinecolor": "white"
           },
           "yaxis": {
            "backgroundcolor": "#E5ECF6",
            "gridcolor": "white",
            "gridwidth": 2,
            "linecolor": "white",
            "showbackground": true,
            "ticks": "",
            "zerolinecolor": "white"
           },
           "zaxis": {
            "backgroundcolor": "#E5ECF6",
            "gridcolor": "white",
            "gridwidth": 2,
            "linecolor": "white",
            "showbackground": true,
            "ticks": "",
            "zerolinecolor": "white"
           }
          },
          "shapedefaults": {
           "line": {
            "color": "#2a3f5f"
           }
          },
          "ternary": {
           "aaxis": {
            "gridcolor": "white",
            "linecolor": "white",
            "ticks": ""
           },
           "baxis": {
            "gridcolor": "white",
            "linecolor": "white",
            "ticks": ""
           },
           "bgcolor": "#E5ECF6",
           "caxis": {
            "gridcolor": "white",
            "linecolor": "white",
            "ticks": ""
           }
          },
          "title": {
           "x": 0.05
          },
          "xaxis": {
           "automargin": true,
           "gridcolor": "white",
           "linecolor": "white",
           "ticks": "",
           "title": {
            "standoff": 15
           },
           "zerolinecolor": "white",
           "zerolinewidth": 2
          },
          "yaxis": {
           "automargin": true,
           "gridcolor": "white",
           "linecolor": "white",
           "ticks": "",
           "title": {
            "standoff": 15
           },
           "zerolinecolor": "white",
           "zerolinewidth": 2
          }
         }
        },
        "xaxis": {
         "anchor": "y",
         "domain": [
          0,
          1
         ],
         "title": {
          "text": "index"
         }
        },
        "xaxis2": {
         "anchor": "y2",
         "domain": [
          0,
          1
         ],
         "matches": "x",
         "showgrid": true,
         "showticklabels": false
        },
        "yaxis": {
         "anchor": "x",
         "categoryarray": [
          1,
          2,
          3,
          4,
          5,
          6,
          7,
          8,
          9,
          10,
          11,
          12,
          13,
          14,
          15,
          16,
          17,
          18,
          19,
          20,
          21,
          23,
          24,
          25,
          26,
          27,
          28,
          29,
          30,
          31,
          32,
          33,
          34,
          35,
          36,
          37,
          38,
          39,
          40,
          41,
          42,
          45,
          46,
          50,
          52,
          53,
          54,
          56,
          57,
          58,
          60,
          62,
          64,
          65,
          66,
          67,
          69,
          71,
          73,
          74,
          80,
          81,
          84,
          87,
          88,
          89,
          91,
          92,
          98,
          99,
          100,
          101,
          102,
          105,
          106,
          109,
          111,
          115,
          117,
          123,
          125,
          135,
          136,
          139,
          143,
          144,
          147,
          150,
          153,
          156,
          161,
          162,
          166,
          168,
          180,
          183,
          188,
          191,
          196,
          199,
          200,
          204,
          223,
          238,
          240,
          257,
          262,
          273,
          296,
          303,
          304,
          308,
          326,
          337,
          341,
          357,
          378,
          438,
          445,
          459,
          500,
          507,
          517,
          534,
          545,
          563,
          576,
          583,
          600,
          641,
          671,
          691,
          722,
          735,
          754,
          767,
          779,
          806,
          853,
          857,
          873,
          887,
          990,
          993,
          1012,
          1023,
          1068,
          1083,
          1164,
          1180,
          1231,
          1235,
          1294,
          1403,
          1419,
          1432,
          1437,
          1531,
          1559,
          1705,
          1905,
          2112,
          2180,
          2206,
          2459,
          2511,
          2515,
          2709,
          2735,
          2833,
          2947,
          3084,
          3295,
          3765,
          3845,
          4395,
          4426,
          4496,
          4790,
          5773,
          5846,
          6193,
          6845,
          7087,
          7484,
          7661,
          7861,
          7915,
          8245,
          11762,
          12715,
          13033,
          13059,
          13145,
          15337,
          16978,
          17005,
          17091,
          17697,
          18600,
          19040,
          24533,
          27768,
          28497,
          38181,
          50496
         ],
         "categoryorder": "array",
         "domain": [
          0,
          0.7326
         ],
         "title": {
          "text": "sum of Amount of Sales for Price"
         }
        },
        "yaxis2": {
         "anchor": "x2",
         "categoryarray": [
          1,
          2,
          3,
          4,
          5,
          6,
          7,
          8,
          9,
          10,
          11,
          12,
          13,
          14,
          15,
          16,
          17,
          18,
          19,
          20,
          21,
          23,
          24,
          25,
          26,
          27,
          28,
          29,
          30,
          31,
          32,
          33,
          34,
          35,
          36,
          37,
          38,
          39,
          40,
          41,
          42,
          45,
          46,
          50,
          52,
          53,
          54,
          56,
          57,
          58,
          60,
          62,
          64,
          65,
          66,
          67,
          69,
          71,
          73,
          74,
          80,
          81,
          84,
          87,
          88,
          89,
          91,
          92,
          98,
          99,
          100,
          101,
          102,
          105,
          106,
          109,
          111,
          115,
          117,
          123,
          125,
          135,
          136,
          139,
          143,
          144,
          147,
          150,
          153,
          156,
          161,
          162,
          166,
          168,
          180,
          183,
          188,
          191,
          196,
          199,
          200,
          204,
          223,
          238,
          240,
          257,
          262,
          273,
          296,
          303,
          304,
          308,
          326,
          337,
          341,
          357,
          378,
          438,
          445,
          459,
          500,
          507,
          517,
          534,
          545,
          563,
          576,
          583,
          600,
          641,
          671,
          691,
          722,
          735,
          754,
          767,
          779,
          806,
          853,
          857,
          873,
          887,
          990,
          993,
          1012,
          1023,
          1068,
          1083,
          1164,
          1180,
          1231,
          1235,
          1294,
          1403,
          1419,
          1432,
          1437,
          1531,
          1559,
          1705,
          1905,
          2112,
          2180,
          2206,
          2459,
          2511,
          2515,
          2709,
          2735,
          2833,
          2947,
          3084,
          3295,
          3765,
          3845,
          4395,
          4426,
          4496,
          4790,
          5773,
          5846,
          6193,
          6845,
          7087,
          7484,
          7661,
          7861,
          7915,
          8245,
          11762,
          12715,
          13033,
          13059,
          13145,
          15337,
          16978,
          17005,
          17091,
          17697,
          18600,
          19040,
          24533,
          27768,
          28497,
          38181,
          50496
         ],
         "categoryorder": "array",
         "domain": [
          0.7426,
          1
         ],
         "matches": "y2",
         "showgrid": false,
         "showline": false,
         "showticklabels": false,
         "ticks": ""
        }
       }
      },
      "text/html": [
       "<div>                            <div id=\"98050ad4-e764-4f91-89e9-3d49c6954df3\" class=\"plotly-graph-div\" style=\"height:525px; width:100%;\"></div>            <script type=\"text/javascript\">                require([\"plotly\"], function(Plotly) {                    window.PLOTLYENV=window.PLOTLYENV || {};                                    if (document.getElementById(\"98050ad4-e764-4f91-89e9-3d49c6954df3\")) {                    Plotly.newPlot(                        \"98050ad4-e764-4f91-89e9-3d49c6954df3\",                        [{\"alignmentgroup\": \"True\", \"bingroup\": \"x\", \"histfunc\": \"sum\", \"hovertemplate\": \"Amount of Sales for Price=50496<br>index=%{x}<br>sum of Amount of Sales for Price=%{y}<extra></extra>\", \"legendgroup\": \"50496\", \"marker\": {\"color\": \"#636efa\"}, \"name\": \"50496\", \"offsetgroup\": \"50496\", \"orientation\": \"v\", \"showlegend\": true, \"type\": \"histogram\", \"x\": [1.25], \"xaxis\": \"x\", \"y\": [50496], \"yaxis\": \"y\"}, {\"alignmentgroup\": \"True\", \"boxpoints\": \"all\", \"fillcolor\": \"rgba(255,255,255,0)\", \"hoveron\": \"points\", \"hovertemplate\": \"Amount of Sales for Price=50496<br>index=%{x}<extra></extra>\", \"jitter\": 0, \"legendgroup\": \"50496\", \"line\": {\"color\": \"rgba(255,255,255,0)\"}, \"marker\": {\"color\": \"#636efa\", \"symbol\": \"line-ns-open\"}, \"name\": \"50496\", \"offsetgroup\": \"50496\", \"showlegend\": false, \"type\": \"box\", \"x\": [1.25], \"xaxis\": \"x2\", \"yaxis\": \"y2\"}, {\"alignmentgroup\": \"True\", \"bingroup\": \"x\", \"histfunc\": \"sum\", \"hovertemplate\": \"Amount of Sales for Price=38181<br>index=%{x}<br>sum of Amount of Sales for Price=%{y}<extra></extra>\", \"legendgroup\": \"38181\", \"marker\": {\"color\": \"#EF553B\"}, \"name\": \"38181\", \"offsetgroup\": \"38181\", \"orientation\": \"v\", \"showlegend\": true, \"type\": \"histogram\", \"x\": [1.65], \"xaxis\": \"x\", \"y\": [38181], \"yaxis\": \"y\"}, {\"alignmentgroup\": \"True\", \"boxpoints\": \"all\", \"fillcolor\": \"rgba(255,255,255,0)\", \"hoveron\": \"points\", \"hovertemplate\": \"Amount of Sales for Price=38181<br>index=%{x}<extra></extra>\", \"jitter\": 0, \"legendgroup\": \"38181\", \"line\": {\"color\": \"rgba(255,255,255,0)\"}, \"marker\": {\"color\": \"#EF553B\", \"symbol\": \"line-ns-open\"}, \"name\": \"38181\", \"offsetgroup\": \"38181\", \"showlegend\": false, \"type\": \"box\", \"x\": [1.65], \"xaxis\": \"x2\", \"yaxis\": \"y2\"}, {\"alignmentgroup\": \"True\", \"bingroup\": \"x\", \"histfunc\": \"sum\", \"hovertemplate\": \"Amount of Sales for Price=28497<br>index=%{x}<br>sum of Amount of Sales for Price=%{y}<extra></extra>\", \"legendgroup\": \"28497\", \"marker\": {\"color\": \"#00cc96\"}, \"name\": \"28497\", \"offsetgroup\": \"28497\", \"orientation\": \"v\", \"showlegend\": true, \"type\": \"histogram\", \"x\": [0.85], \"xaxis\": \"x\", \"y\": [28497], \"yaxis\": \"y\"}, {\"alignmentgroup\": \"True\", \"boxpoints\": \"all\", \"fillcolor\": \"rgba(255,255,255,0)\", \"hoveron\": \"points\", \"hovertemplate\": \"Amount of Sales for Price=28497<br>index=%{x}<extra></extra>\", \"jitter\": 0, \"legendgroup\": \"28497\", \"line\": {\"color\": \"rgba(255,255,255,0)\"}, \"marker\": {\"color\": \"#00cc96\", \"symbol\": \"line-ns-open\"}, \"name\": \"28497\", \"offsetgroup\": \"28497\", \"showlegend\": false, \"type\": \"box\", \"x\": [0.85], \"xaxis\": \"x2\", \"yaxis\": \"y2\"}, {\"alignmentgroup\": \"True\", \"bingroup\": \"x\", \"histfunc\": \"sum\", \"hovertemplate\": \"Amount of Sales for Price=27768<br>index=%{x}<br>sum of Amount of Sales for Price=%{y}<extra></extra>\", \"legendgroup\": \"27768\", \"marker\": {\"color\": \"#ab63fa\"}, \"name\": \"27768\", \"offsetgroup\": \"27768\", \"orientation\": \"v\", \"showlegend\": true, \"type\": \"histogram\", \"x\": [2.95], \"xaxis\": \"x\", \"y\": [27768], \"yaxis\": \"y\"}, {\"alignmentgroup\": \"True\", \"boxpoints\": \"all\", \"fillcolor\": \"rgba(255,255,255,0)\", \"hoveron\": \"points\", \"hovertemplate\": \"Amount of Sales for Price=27768<br>index=%{x}<extra></extra>\", \"jitter\": 0, \"legendgroup\": \"27768\", \"line\": {\"color\": \"rgba(255,255,255,0)\"}, \"marker\": {\"color\": \"#ab63fa\", \"symbol\": \"line-ns-open\"}, \"name\": \"27768\", \"offsetgroup\": \"27768\", \"showlegend\": false, \"type\": \"box\", \"x\": [2.95], \"xaxis\": \"x2\", \"yaxis\": \"y2\"}, {\"alignmentgroup\": \"True\", \"bingroup\": \"x\", \"histfunc\": \"sum\", \"hovertemplate\": \"Amount of Sales for Price=24533<br>index=%{x}<br>sum of Amount of Sales for Price=%{y}<extra></extra>\", \"legendgroup\": \"24533\", \"marker\": {\"color\": \"#FFA15A\"}, \"name\": \"24533\", \"offsetgroup\": \"24533\", \"orientation\": \"v\", \"showlegend\": true, \"type\": \"histogram\", \"x\": [0.42], \"xaxis\": \"x\", \"y\": [24533], \"yaxis\": \"y\"}, {\"alignmentgroup\": \"True\", \"boxpoints\": \"all\", \"fillcolor\": \"rgba(255,255,255,0)\", \"hoveron\": \"points\", \"hovertemplate\": \"Amount of Sales for Price=24533<br>index=%{x}<extra></extra>\", \"jitter\": 0, \"legendgroup\": \"24533\", \"line\": {\"color\": \"rgba(255,255,255,0)\"}, \"marker\": {\"color\": \"#FFA15A\", \"symbol\": \"line-ns-open\"}, \"name\": \"24533\", \"offsetgroup\": \"24533\", \"showlegend\": false, \"type\": \"box\", \"x\": [0.42], \"xaxis\": \"x2\", \"yaxis\": \"y2\"}, {\"alignmentgroup\": \"True\", \"bingroup\": \"x\", \"histfunc\": \"sum\", \"hovertemplate\": \"Amount of Sales for Price=19040<br>index=%{x}<br>sum of Amount of Sales for Price=%{y}<extra></extra>\", \"legendgroup\": \"19040\", \"marker\": {\"color\": \"#19d3f3\"}, \"name\": \"19040\", \"offsetgroup\": \"19040\", \"orientation\": \"v\", \"showlegend\": true, \"type\": \"histogram\", \"x\": [4.95], \"xaxis\": \"x\", \"y\": [19040], \"yaxis\": \"y\"}, {\"alignmentgroup\": \"True\", \"boxpoints\": \"all\", \"fillcolor\": \"rgba(255,255,255,0)\", \"hoveron\": \"points\", \"hovertemplate\": \"Amount of Sales for Price=19040<br>index=%{x}<extra></extra>\", \"jitter\": 0, \"legendgroup\": \"19040\", \"line\": {\"color\": \"rgba(255,255,255,0)\"}, \"marker\": {\"color\": \"#19d3f3\", \"symbol\": \"line-ns-open\"}, \"name\": \"19040\", \"offsetgroup\": \"19040\", \"showlegend\": false, \"type\": \"box\", \"x\": [4.95], \"xaxis\": \"x2\", \"yaxis\": \"y2\"}, {\"alignmentgroup\": \"True\", \"bingroup\": \"x\", \"histfunc\": \"sum\", \"hovertemplate\": \"Amount of Sales for Price=18600<br>index=%{x}<br>sum of Amount of Sales for Price=%{y}<extra></extra>\", \"legendgroup\": \"18600\", \"marker\": {\"color\": \"#FF6692\"}, \"name\": \"18600\", \"offsetgroup\": \"18600\", \"orientation\": \"v\", \"showlegend\": true, \"type\": \"histogram\", \"x\": [3.75], \"xaxis\": \"x\", \"y\": [18600], \"yaxis\": \"y\"}, {\"alignmentgroup\": \"True\", \"boxpoints\": \"all\", \"fillcolor\": \"rgba(255,255,255,0)\", \"hoveron\": \"points\", \"hovertemplate\": \"Amount of Sales for Price=18600<br>index=%{x}<extra></extra>\", \"jitter\": 0, \"legendgroup\": \"18600\", \"line\": {\"color\": \"rgba(255,255,255,0)\"}, \"marker\": {\"color\": \"#FF6692\", \"symbol\": \"line-ns-open\"}, \"name\": \"18600\", \"offsetgroup\": \"18600\", \"showlegend\": false, \"type\": \"box\", \"x\": [3.75], \"xaxis\": \"x2\", \"yaxis\": \"y2\"}, {\"alignmentgroup\": \"True\", \"bingroup\": \"x\", \"histfunc\": \"sum\", \"hovertemplate\": \"Amount of Sales for Price=17697<br>index=%{x}<br>sum of Amount of Sales for Price=%{y}<extra></extra>\", \"legendgroup\": \"17697\", \"marker\": {\"color\": \"#B6E880\"}, \"name\": \"17697\", \"offsetgroup\": \"17697\", \"orientation\": \"v\", \"showlegend\": true, \"type\": \"histogram\", \"x\": [2.1], \"xaxis\": \"x\", \"y\": [17697], \"yaxis\": \"y\"}, {\"alignmentgroup\": \"True\", \"boxpoints\": \"all\", \"fillcolor\": \"rgba(255,255,255,0)\", \"hoveron\": \"points\", \"hovertemplate\": \"Amount of Sales for Price=17697<br>index=%{x}<extra></extra>\", \"jitter\": 0, \"legendgroup\": \"17697\", \"line\": {\"color\": \"rgba(255,255,255,0)\"}, \"marker\": {\"color\": \"#B6E880\", \"symbol\": \"line-ns-open\"}, \"name\": \"17697\", \"offsetgroup\": \"17697\", \"showlegend\": false, \"type\": \"box\", \"x\": [2.1], \"xaxis\": \"x2\", \"yaxis\": \"y2\"}, {\"alignmentgroup\": \"True\", \"bingroup\": \"x\", \"histfunc\": \"sum\", \"hovertemplate\": \"Amount of Sales for Price=17091<br>index=%{x}<br>sum of Amount of Sales for Price=%{y}<extra></extra>\", \"legendgroup\": \"17091\", \"marker\": {\"color\": \"#FF97FF\"}, \"name\": \"17091\", \"offsetgroup\": \"17091\", \"orientation\": \"v\", \"showlegend\": true, \"type\": \"histogram\", \"x\": [2.46], \"xaxis\": \"x\", \"y\": [17091], \"yaxis\": \"y\"}, {\"alignmentgroup\": \"True\", \"boxpoints\": \"all\", \"fillcolor\": \"rgba(255,255,255,0)\", \"hoveron\": \"points\", \"hovertemplate\": \"Amount of Sales for Price=17091<br>index=%{x}<extra></extra>\", \"jitter\": 0, \"legendgroup\": \"17091\", \"line\": {\"color\": \"rgba(255,255,255,0)\"}, \"marker\": {\"color\": \"#FF97FF\", \"symbol\": \"line-ns-open\"}, \"name\": \"17091\", \"offsetgroup\": \"17091\", \"showlegend\": false, \"type\": \"box\", \"x\": [2.46], \"xaxis\": \"x2\", \"yaxis\": \"y2\"}, {\"alignmentgroup\": \"True\", \"bingroup\": \"x\", \"histfunc\": \"sum\", \"hovertemplate\": \"Amount of Sales for Price=17005<br>index=%{x}<br>sum of Amount of Sales for Price=%{y}<extra></extra>\", \"legendgroup\": \"17005\", \"marker\": {\"color\": \"#FECB52\"}, \"name\": \"17005\", \"offsetgroup\": \"17005\", \"orientation\": \"v\", \"showlegend\": true, \"type\": \"histogram\", \"x\": [2.08], \"xaxis\": \"x\", \"y\": [17005], \"yaxis\": \"y\"}, {\"alignmentgroup\": \"True\", \"boxpoints\": \"all\", \"fillcolor\": \"rgba(255,255,255,0)\", \"hoveron\": \"points\", \"hovertemplate\": \"Amount of Sales for Price=17005<br>index=%{x}<extra></extra>\", \"jitter\": 0, \"legendgroup\": \"17005\", \"line\": {\"color\": \"rgba(255,255,255,0)\"}, \"marker\": {\"color\": \"#FECB52\", \"symbol\": \"line-ns-open\"}, \"name\": \"17005\", \"offsetgroup\": \"17005\", \"showlegend\": false, \"type\": \"box\", \"x\": [2.08], \"xaxis\": \"x2\", \"yaxis\": \"y2\"}, {\"alignmentgroup\": \"True\", \"bingroup\": \"x\", \"histfunc\": \"sum\", \"hovertemplate\": \"Amount of Sales for Price=16978<br>index=%{x}<br>sum of Amount of Sales for Price=%{y}<extra></extra>\", \"legendgroup\": \"16978\", \"marker\": {\"color\": \"#636efa\"}, \"name\": \"16978\", \"offsetgroup\": \"16978\", \"orientation\": \"v\", \"showlegend\": true, \"type\": \"histogram\", \"x\": [0.83], \"xaxis\": \"x\", \"y\": [16978], \"yaxis\": \"y\"}, {\"alignmentgroup\": \"True\", \"boxpoints\": \"all\", \"fillcolor\": \"rgba(255,255,255,0)\", \"hoveron\": \"points\", \"hovertemplate\": \"Amount of Sales for Price=16978<br>index=%{x}<extra></extra>\", \"jitter\": 0, \"legendgroup\": \"16978\", \"line\": {\"color\": \"rgba(255,255,255,0)\"}, \"marker\": {\"color\": \"#636efa\", \"symbol\": \"line-ns-open\"}, \"name\": \"16978\", \"offsetgroup\": \"16978\", \"showlegend\": false, \"type\": \"box\", \"x\": [0.83], \"xaxis\": \"x2\", \"yaxis\": \"y2\"}, {\"alignmentgroup\": \"True\", \"bingroup\": \"x\", \"histfunc\": \"sum\", \"hovertemplate\": \"Amount of Sales for Price=15337<br>index=%{x}<br>sum of Amount of Sales for Price=%{y}<extra></extra>\", \"legendgroup\": \"15337\", \"marker\": {\"color\": \"#EF553B\"}, \"name\": \"15337\", \"offsetgroup\": \"15337\", \"orientation\": \"v\", \"showlegend\": true, \"type\": \"histogram\", \"x\": [4.13], \"xaxis\": \"x\", \"y\": [15337], \"yaxis\": \"y\"}, {\"alignmentgroup\": \"True\", \"boxpoints\": \"all\", \"fillcolor\": \"rgba(255,255,255,0)\", \"hoveron\": \"points\", \"hovertemplate\": \"Amount of Sales for Price=15337<br>index=%{x}<extra></extra>\", \"jitter\": 0, \"legendgroup\": \"15337\", \"line\": {\"color\": \"rgba(255,255,255,0)\"}, \"marker\": {\"color\": \"#EF553B\", \"symbol\": \"line-ns-open\"}, \"name\": \"15337\", \"offsetgroup\": \"15337\", \"showlegend\": false, \"type\": \"box\", \"x\": [4.13], \"xaxis\": \"x2\", \"yaxis\": \"y2\"}, {\"alignmentgroup\": \"True\", \"bingroup\": \"x\", \"histfunc\": \"sum\", \"hovertemplate\": \"Amount of Sales for Price=13145<br>index=%{x}<br>sum of Amount of Sales for Price=%{y}<extra></extra>\", \"legendgroup\": \"13145\", \"marker\": {\"color\": \"#00cc96\"}, \"name\": \"13145\", \"offsetgroup\": \"13145\", \"orientation\": \"v\", \"showlegend\": true, \"type\": \"histogram\", \"x\": [1.95], \"xaxis\": \"x\", \"y\": [13145], \"yaxis\": \"y\"}, {\"alignmentgroup\": \"True\", \"boxpoints\": \"all\", \"fillcolor\": \"rgba(255,255,255,0)\", \"hoveron\": \"points\", \"hovertemplate\": \"Amount of Sales for Price=13145<br>index=%{x}<extra></extra>\", \"jitter\": 0, \"legendgroup\": \"13145\", \"line\": {\"color\": \"rgba(255,255,255,0)\"}, \"marker\": {\"color\": \"#00cc96\", \"symbol\": \"line-ns-open\"}, \"name\": \"13145\", \"offsetgroup\": \"13145\", \"showlegend\": false, \"type\": \"box\", \"x\": [1.95], \"xaxis\": \"x2\", \"yaxis\": \"y2\"}, {\"alignmentgroup\": \"True\", \"bingroup\": \"x\", \"histfunc\": \"sum\", \"hovertemplate\": \"Amount of Sales for Price=13059<br>index=%{x}<br>sum of Amount of Sales for Price=%{y}<extra></extra>\", \"legendgroup\": \"13059\", \"marker\": {\"color\": \"#ab63fa\"}, \"name\": \"13059\", \"offsetgroup\": \"13059\", \"orientation\": \"v\", \"showlegend\": true, \"type\": \"histogram\", \"x\": [1.45], \"xaxis\": \"x\", \"y\": [13059], \"yaxis\": \"y\"}, {\"alignmentgroup\": \"True\", \"boxpoints\": \"all\", \"fillcolor\": \"rgba(255,255,255,0)\", \"hoveron\": \"points\", \"hovertemplate\": \"Amount of Sales for Price=13059<br>index=%{x}<extra></extra>\", \"jitter\": 0, \"legendgroup\": \"13059\", \"line\": {\"color\": \"rgba(255,255,255,0)\"}, \"marker\": {\"color\": \"#ab63fa\", \"symbol\": \"line-ns-open\"}, \"name\": \"13059\", \"offsetgroup\": \"13059\", \"showlegend\": false, \"type\": \"box\", \"x\": [1.45], \"xaxis\": \"x2\", \"yaxis\": \"y2\"}, {\"alignmentgroup\": \"True\", \"bingroup\": \"x\", \"histfunc\": \"sum\", \"hovertemplate\": \"Amount of Sales for Price=13033<br>index=%{x}<br>sum of Amount of Sales for Price=%{y}<extra></extra>\", \"legendgroup\": \"13033\", \"marker\": {\"color\": \"#FFA15A\"}, \"name\": \"13033\", \"offsetgroup\": \"13033\", \"orientation\": \"v\", \"showlegend\": true, \"type\": \"histogram\", \"x\": [2.55], \"xaxis\": \"x\", \"y\": [13033], \"yaxis\": \"y\"}, {\"alignmentgroup\": \"True\", \"boxpoints\": \"all\", \"fillcolor\": \"rgba(255,255,255,0)\", \"hoveron\": \"points\", \"hovertemplate\": \"Amount of Sales for Price=13033<br>index=%{x}<extra></extra>\", \"jitter\": 0, \"legendgroup\": \"13033\", \"line\": {\"color\": \"rgba(255,255,255,0)\"}, \"marker\": {\"color\": \"#FFA15A\", \"symbol\": \"line-ns-open\"}, \"name\": \"13033\", \"offsetgroup\": \"13033\", \"showlegend\": false, \"type\": \"box\", \"x\": [2.55], \"xaxis\": \"x2\", \"yaxis\": \"y2\"}, {\"alignmentgroup\": \"True\", \"bingroup\": \"x\", \"histfunc\": \"sum\", \"hovertemplate\": \"Amount of Sales for Price=12715<br>index=%{x}<br>sum of Amount of Sales for Price=%{y}<extra></extra>\", \"legendgroup\": \"12715\", \"marker\": {\"color\": \"#19d3f3\"}, \"name\": \"12715\", \"offsetgroup\": \"12715\", \"orientation\": \"v\", \"showlegend\": true, \"type\": \"histogram\", \"x\": [1.63], \"xaxis\": \"x\", \"y\": [12715], \"yaxis\": \"y\"}, {\"alignmentgroup\": \"True\", \"boxpoints\": \"all\", \"fillcolor\": \"rgba(255,255,255,0)\", \"hoveron\": \"points\", \"hovertemplate\": \"Amount of Sales for Price=12715<br>index=%{x}<extra></extra>\", \"jitter\": 0, \"legendgroup\": \"12715\", \"line\": {\"color\": \"rgba(255,255,255,0)\"}, \"marker\": {\"color\": \"#19d3f3\", \"symbol\": \"line-ns-open\"}, \"name\": \"12715\", \"offsetgroup\": \"12715\", \"showlegend\": false, \"type\": \"box\", \"x\": [1.63], \"xaxis\": \"x2\", \"yaxis\": \"y2\"}, {\"alignmentgroup\": \"True\", \"bingroup\": \"x\", \"histfunc\": \"sum\", \"hovertemplate\": \"Amount of Sales for Price=11762<br>index=%{x}<br>sum of Amount of Sales for Price=%{y}<extra></extra>\", \"legendgroup\": \"11762\", \"marker\": {\"color\": \"#FF6692\"}, \"name\": \"11762\", \"offsetgroup\": \"11762\", \"orientation\": \"v\", \"showlegend\": true, \"type\": \"histogram\", \"x\": [3.29], \"xaxis\": \"x\", \"y\": [11762], \"yaxis\": \"y\"}, {\"alignmentgroup\": \"True\", \"boxpoints\": \"all\", \"fillcolor\": \"rgba(255,255,255,0)\", \"hoveron\": \"points\", \"hovertemplate\": \"Amount of Sales for Price=11762<br>index=%{x}<extra></extra>\", \"jitter\": 0, \"legendgroup\": \"11762\", \"line\": {\"color\": \"rgba(255,255,255,0)\"}, \"marker\": {\"color\": \"#FF6692\", \"symbol\": \"line-ns-open\"}, \"name\": \"11762\", \"offsetgroup\": \"11762\", \"showlegend\": false, \"type\": \"box\", \"x\": [3.29], \"xaxis\": \"x2\", \"yaxis\": \"y2\"}, {\"alignmentgroup\": \"True\", \"bingroup\": \"x\", \"histfunc\": \"sum\", \"hovertemplate\": \"Amount of Sales for Price=8245<br>index=%{x}<br>sum of Amount of Sales for Price=%{y}<extra></extra>\", \"legendgroup\": \"8245\", \"marker\": {\"color\": \"#B6E880\"}, \"name\": \"8245\", \"offsetgroup\": \"8245\", \"orientation\": \"v\", \"showlegend\": true, \"type\": \"histogram\", \"x\": [0.39], \"xaxis\": \"x\", \"y\": [8245], \"yaxis\": \"y\"}, {\"alignmentgroup\": \"True\", \"boxpoints\": \"all\", \"fillcolor\": \"rgba(255,255,255,0)\", \"hoveron\": \"points\", \"hovertemplate\": \"Amount of Sales for Price=8245<br>index=%{x}<extra></extra>\", \"jitter\": 0, \"legendgroup\": \"8245\", \"line\": {\"color\": \"rgba(255,255,255,0)\"}, \"marker\": {\"color\": \"#B6E880\", \"symbol\": \"line-ns-open\"}, \"name\": \"8245\", \"offsetgroup\": \"8245\", \"showlegend\": false, \"type\": \"box\", \"x\": [0.39], \"xaxis\": \"x2\", \"yaxis\": \"y2\"}, {\"alignmentgroup\": \"True\", \"bingroup\": \"x\", \"histfunc\": \"sum\", \"hovertemplate\": \"Amount of Sales for Price=7915<br>index=%{x}<br>sum of Amount of Sales for Price=%{y}<extra></extra>\", \"legendgroup\": \"7915\", \"marker\": {\"color\": \"#FF97FF\"}, \"name\": \"7915\", \"offsetgroup\": \"7915\", \"orientation\": \"v\", \"showlegend\": true, \"type\": \"histogram\", \"x\": [5.95], \"xaxis\": \"x\", \"y\": [7915], \"yaxis\": \"y\"}, {\"alignmentgroup\": \"True\", \"boxpoints\": \"all\", \"fillcolor\": \"rgba(255,255,255,0)\", \"hoveron\": \"points\", \"hovertemplate\": \"Amount of Sales for Price=7915<br>index=%{x}<extra></extra>\", \"jitter\": 0, \"legendgroup\": \"7915\", \"line\": {\"color\": \"rgba(255,255,255,0)\"}, \"marker\": {\"color\": \"#FF97FF\", \"symbol\": \"line-ns-open\"}, \"name\": \"7915\", \"offsetgroup\": \"7915\", \"showlegend\": false, \"type\": \"box\", \"x\": [5.95], \"xaxis\": \"x2\", \"yaxis\": \"y2\"}, {\"alignmentgroup\": \"True\", \"bingroup\": \"x\", \"histfunc\": \"sum\", \"hovertemplate\": \"Amount of Sales for Price=7861<br>index=%{x}<br>sum of Amount of Sales for Price=%{y}<extra></extra>\", \"legendgroup\": \"7861\", \"marker\": {\"color\": \"#FECB52\"}, \"name\": \"7861\", \"offsetgroup\": \"7861\", \"orientation\": \"v\", \"showlegend\": true, \"type\": \"histogram\", \"x\": [0.65], \"xaxis\": \"x\", \"y\": [7861], \"yaxis\": \"y\"}, {\"alignmentgroup\": \"True\", \"boxpoints\": \"all\", \"fillcolor\": \"rgba(255,255,255,0)\", \"hoveron\": \"points\", \"hovertemplate\": \"Amount of Sales for Price=7861<br>index=%{x}<extra></extra>\", \"jitter\": 0, \"legendgroup\": \"7861\", \"line\": {\"color\": \"rgba(255,255,255,0)\"}, \"marker\": {\"color\": \"#FECB52\", \"symbol\": \"line-ns-open\"}, \"name\": \"7861\", \"offsetgroup\": \"7861\", \"showlegend\": false, \"type\": \"box\", \"x\": [0.65], \"xaxis\": \"x2\", \"yaxis\": \"y2\"}, {\"alignmentgroup\": \"True\", \"bingroup\": \"x\", \"histfunc\": \"sum\", \"hovertemplate\": \"Amount of Sales for Price=7661<br>index=%{x}<br>sum of Amount of Sales for Price=%{y}<extra></extra>\", \"legendgroup\": \"7661\", \"marker\": {\"color\": \"#636efa\"}, \"name\": \"7661\", \"offsetgroup\": \"7661\", \"orientation\": \"v\", \"showlegend\": true, \"type\": \"histogram\", \"x\": [0.55], \"xaxis\": \"x\", \"y\": [7661], \"yaxis\": \"y\"}, {\"alignmentgroup\": \"True\", \"boxpoints\": \"all\", \"fillcolor\": \"rgba(255,255,255,0)\", \"hoveron\": \"points\", \"hovertemplate\": \"Amount of Sales for Price=7661<br>index=%{x}<extra></extra>\", \"jitter\": 0, \"legendgroup\": \"7661\", \"line\": {\"color\": \"rgba(255,255,255,0)\"}, \"marker\": {\"color\": \"#636efa\", \"symbol\": \"line-ns-open\"}, \"name\": \"7661\", \"offsetgroup\": \"7661\", \"showlegend\": false, \"type\": \"box\", \"x\": [0.55], \"xaxis\": \"x2\", \"yaxis\": \"y2\"}, {\"alignmentgroup\": \"True\", \"bingroup\": \"x\", \"histfunc\": \"sum\", \"hovertemplate\": \"Amount of Sales for Price=7484<br>index=%{x}<br>sum of Amount of Sales for Price=%{y}<extra></extra>\", \"legendgroup\": \"7484\", \"marker\": {\"color\": \"#EF553B\"}, \"name\": \"7484\", \"offsetgroup\": \"7484\", \"orientation\": \"v\", \"showlegend\": true, \"type\": \"histogram\", \"x\": [4.25], \"xaxis\": \"x\", \"y\": [7484], \"yaxis\": \"y\"}, {\"alignmentgroup\": \"True\", \"boxpoints\": \"all\", \"fillcolor\": \"rgba(255,255,255,0)\", \"hoveron\": \"points\", \"hovertemplate\": \"Amount of Sales for Price=7484<br>index=%{x}<extra></extra>\", \"jitter\": 0, \"legendgroup\": \"7484\", \"line\": {\"color\": \"rgba(255,255,255,0)\"}, \"marker\": {\"color\": \"#EF553B\", \"symbol\": \"line-ns-open\"}, \"name\": \"7484\", \"offsetgroup\": \"7484\", \"showlegend\": false, \"type\": \"box\", \"x\": [4.25], \"xaxis\": \"x2\", \"yaxis\": \"y2\"}, {\"alignmentgroup\": \"True\", \"bingroup\": \"x\", \"histfunc\": \"sum\", \"hovertemplate\": \"Amount of Sales for Price=7087<br>index=%{x}<br>sum of Amount of Sales for Price=%{y}<extra></extra>\", \"legendgroup\": \"7087\", \"marker\": {\"color\": \"#00cc96\"}, \"name\": \"7087\", \"offsetgroup\": \"7087\", \"orientation\": \"v\", \"showlegend\": true, \"type\": \"histogram\", \"x\": [7.95], \"xaxis\": \"x\", \"y\": [7087], \"yaxis\": \"y\"}, {\"alignmentgroup\": \"True\", \"boxpoints\": \"all\", \"fillcolor\": \"rgba(255,255,255,0)\", \"hoveron\": \"points\", \"hovertemplate\": \"Amount of Sales for Price=7087<br>index=%{x}<extra></extra>\", \"jitter\": 0, \"legendgroup\": \"7087\", \"line\": {\"color\": \"rgba(255,255,255,0)\"}, \"marker\": {\"color\": \"#00cc96\", \"symbol\": \"line-ns-open\"}, \"name\": \"7087\", \"offsetgroup\": \"7087\", \"showlegend\": false, \"type\": \"box\", \"x\": [7.95], \"xaxis\": \"x2\", \"yaxis\": \"y2\"}, {\"alignmentgroup\": \"True\", \"bingroup\": \"x\", \"histfunc\": \"sum\", \"hovertemplate\": \"Amount of Sales for Price=6845<br>index=%{x}<br>sum of Amount of Sales for Price=%{y}<extra></extra>\", \"legendgroup\": \"6845\", \"marker\": {\"color\": \"#ab63fa\"}, \"name\": \"6845\", \"offsetgroup\": \"6845\", \"orientation\": \"v\", \"showlegend\": true, \"type\": \"histogram\", \"x\": [5.79], \"xaxis\": \"x\", \"y\": [6845], \"yaxis\": \"y\"}, {\"alignmentgroup\": \"True\", \"boxpoints\": \"all\", \"fillcolor\": \"rgba(255,255,255,0)\", \"hoveron\": \"points\", \"hovertemplate\": \"Amount of Sales for Price=6845<br>index=%{x}<extra></extra>\", \"jitter\": 0, \"legendgroup\": \"6845\", \"line\": {\"color\": \"rgba(255,255,255,0)\"}, \"marker\": {\"color\": \"#ab63fa\", \"symbol\": \"line-ns-open\"}, \"name\": \"6845\", \"offsetgroup\": \"6845\", \"showlegend\": false, \"type\": \"box\", \"x\": [5.79], \"xaxis\": \"x2\", \"yaxis\": \"y2\"}, {\"alignmentgroup\": \"True\", \"bingroup\": \"x\", \"histfunc\": \"sum\", \"hovertemplate\": \"Amount of Sales for Price=6193<br>index=%{x}<br>sum of Amount of Sales for Price=%{y}<extra></extra>\", \"legendgroup\": \"6193\", \"marker\": {\"color\": \"#FFA15A\"}, \"name\": \"6193\", \"offsetgroup\": \"6193\", \"orientation\": \"v\", \"showlegend\": true, \"type\": \"histogram\", \"x\": [4.15], \"xaxis\": \"x\", \"y\": [6193], \"yaxis\": \"y\"}, {\"alignmentgroup\": \"True\", \"boxpoints\": \"all\", \"fillcolor\": \"rgba(255,255,255,0)\", \"hoveron\": \"points\", \"hovertemplate\": \"Amount of Sales for Price=6193<br>index=%{x}<extra></extra>\", \"jitter\": 0, \"legendgroup\": \"6193\", \"line\": {\"color\": \"rgba(255,255,255,0)\"}, \"marker\": {\"color\": \"#FFA15A\", \"symbol\": \"line-ns-open\"}, \"name\": \"6193\", \"offsetgroup\": \"6193\", \"showlegend\": false, \"type\": \"box\", \"x\": [4.15], \"xaxis\": \"x2\", \"yaxis\": \"y2\"}, {\"alignmentgroup\": \"True\", \"bingroup\": \"x\", \"histfunc\": \"sum\", \"hovertemplate\": \"Amount of Sales for Price=5846<br>index=%{x}<br>sum of Amount of Sales for Price=%{y}<extra></extra>\", \"legendgroup\": \"5846\", \"marker\": {\"color\": \"#19d3f3\"}, \"name\": \"5846\", \"offsetgroup\": \"5846\", \"orientation\": \"v\", \"showlegend\": true, \"type\": \"histogram\", \"x\": [9.95], \"xaxis\": \"x\", \"y\": [5846], \"yaxis\": \"y\"}, {\"alignmentgroup\": \"True\", \"boxpoints\": \"all\", \"fillcolor\": \"rgba(255,255,255,0)\", \"hoveron\": \"points\", \"hovertemplate\": \"Amount of Sales for Price=5846<br>index=%{x}<extra></extra>\", \"jitter\": 0, \"legendgroup\": \"5846\", \"line\": {\"color\": \"rgba(255,255,255,0)\"}, \"marker\": {\"color\": \"#19d3f3\", \"symbol\": \"line-ns-open\"}, \"name\": \"5846\", \"offsetgroup\": \"5846\", \"showlegend\": false, \"type\": \"box\", \"x\": [9.95], \"xaxis\": \"x2\", \"yaxis\": \"y2\"}, {\"alignmentgroup\": \"True\", \"bingroup\": \"x\", \"histfunc\": \"sum\", \"hovertemplate\": \"Amount of Sales for Price=5773<br>index=%{x}<br>sum of Amount of Sales for Price=%{y}<extra></extra>\", \"legendgroup\": \"5773\", \"marker\": {\"color\": \"#FF6692\"}, \"name\": \"5773\", \"offsetgroup\": \"5773\", \"orientation\": \"v\", \"showlegend\": true, \"type\": \"histogram\", \"x\": [8.5], \"xaxis\": \"x\", \"y\": [5773], \"yaxis\": \"y\"}, {\"alignmentgroup\": \"True\", \"boxpoints\": \"all\", \"fillcolor\": \"rgba(255,255,255,0)\", \"hoveron\": \"points\", \"hovertemplate\": \"Amount of Sales for Price=5773<br>index=%{x}<extra></extra>\", \"jitter\": 0, \"legendgroup\": \"5773\", \"line\": {\"color\": \"rgba(255,255,255,0)\"}, \"marker\": {\"color\": \"#FF6692\", \"symbol\": \"line-ns-open\"}, \"name\": \"5773\", \"offsetgroup\": \"5773\", \"showlegend\": false, \"type\": \"box\", \"x\": [8.5], \"xaxis\": \"x2\", \"yaxis\": \"y2\"}, {\"alignmentgroup\": \"True\", \"bingroup\": \"x\", \"histfunc\": \"sum\", \"hovertemplate\": \"Amount of Sales for Price=4790<br>index=%{x}<br>sum of Amount of Sales for Price=%{y}<extra></extra>\", \"legendgroup\": \"4790\", \"marker\": {\"color\": \"#B6E880\"}, \"name\": \"4790\", \"offsetgroup\": \"4790\", \"orientation\": \"v\", \"showlegend\": true, \"type\": \"histogram\", \"x\": [8.29], \"xaxis\": \"x\", \"y\": [4790], \"yaxis\": \"y\"}, {\"alignmentgroup\": \"True\", \"boxpoints\": \"all\", \"fillcolor\": \"rgba(255,255,255,0)\", \"hoveron\": \"points\", \"hovertemplate\": \"Amount of Sales for Price=4790<br>index=%{x}<extra></extra>\", \"jitter\": 0, \"legendgroup\": \"4790\", \"line\": {\"color\": \"rgba(255,255,255,0)\"}, \"marker\": {\"color\": \"#B6E880\", \"symbol\": \"line-ns-open\"}, \"name\": \"4790\", \"offsetgroup\": \"4790\", \"showlegend\": false, \"type\": \"box\", \"x\": [8.29], \"xaxis\": \"x2\", \"yaxis\": \"y2\"}, {\"alignmentgroup\": \"True\", \"bingroup\": \"x\", \"histfunc\": \"sum\", \"hovertemplate\": \"Amount of Sales for Price=4496<br>index=%{x}<br>sum of Amount of Sales for Price=%{y}<extra></extra>\", \"legendgroup\": \"4496\", \"marker\": {\"color\": \"#FF97FF\"}, \"name\": \"4496\", \"offsetgroup\": \"4496\", \"orientation\": \"v\", \"showlegend\": true, \"type\": \"histogram\", \"x\": [4.96], \"xaxis\": \"x\", \"y\": [4496], \"yaxis\": \"y\"}, {\"alignmentgroup\": \"True\", \"boxpoints\": \"all\", \"fillcolor\": \"rgba(255,255,255,0)\", \"hoveron\": \"points\", \"hovertemplate\": \"Amount of Sales for Price=4496<br>index=%{x}<extra></extra>\", \"jitter\": 0, \"legendgroup\": \"4496\", \"line\": {\"color\": \"rgba(255,255,255,0)\"}, \"marker\": {\"color\": \"#FF97FF\", \"symbol\": \"line-ns-open\"}, \"name\": \"4496\", \"offsetgroup\": \"4496\", \"showlegend\": false, \"type\": \"box\", \"x\": [4.96], \"xaxis\": \"x2\", \"yaxis\": \"y2\"}, {\"alignmentgroup\": \"True\", \"bingroup\": \"x\", \"histfunc\": \"sum\", \"hovertemplate\": \"Amount of Sales for Price=4426<br>index=%{x}<br>sum of Amount of Sales for Price=%{y}<extra></extra>\", \"legendgroup\": \"4426\", \"marker\": {\"color\": \"#FECB52\"}, \"name\": \"4426\", \"offsetgroup\": \"4426\", \"orientation\": \"v\", \"showlegend\": true, \"type\": \"histogram\", \"x\": [0.29], \"xaxis\": \"x\", \"y\": [4426], \"yaxis\": \"y\"}, {\"alignmentgroup\": \"True\", \"boxpoints\": \"all\", \"fillcolor\": \"rgba(255,255,255,0)\", \"hoveron\": \"points\", \"hovertemplate\": \"Amount of Sales for Price=4426<br>index=%{x}<extra></extra>\", \"jitter\": 0, \"legendgroup\": \"4426\", \"line\": {\"color\": \"rgba(255,255,255,0)\"}, \"marker\": {\"color\": \"#FECB52\", \"symbol\": \"line-ns-open\"}, \"name\": \"4426\", \"offsetgroup\": \"4426\", \"showlegend\": false, \"type\": \"box\", \"x\": [0.29], \"xaxis\": \"x2\", \"yaxis\": \"y2\"}, {\"alignmentgroup\": \"True\", \"bingroup\": \"x\", \"histfunc\": \"sum\", \"hovertemplate\": \"Amount of Sales for Price=4395<br>index=%{x}<br>sum of Amount of Sales for Price=%{y}<extra></extra>\", \"legendgroup\": \"4395\", \"marker\": {\"color\": \"#636efa\"}, \"name\": \"4395\", \"offsetgroup\": \"4395\", \"orientation\": \"v\", \"showlegend\": true, \"type\": \"histogram\", \"x\": [1.69], \"xaxis\": \"x\", \"y\": [4395], \"yaxis\": \"y\"}, {\"alignmentgroup\": \"True\", \"boxpoints\": \"all\", \"fillcolor\": \"rgba(255,255,255,0)\", \"hoveron\": \"points\", \"hovertemplate\": \"Amount of Sales for Price=4395<br>index=%{x}<extra></extra>\", \"jitter\": 0, \"legendgroup\": \"4395\", \"line\": {\"color\": \"rgba(255,255,255,0)\"}, \"marker\": {\"color\": \"#636efa\", \"symbol\": \"line-ns-open\"}, \"name\": \"4395\", \"offsetgroup\": \"4395\", \"showlegend\": false, \"type\": \"box\", \"x\": [1.69], \"xaxis\": \"x2\", \"yaxis\": \"y2\"}, {\"alignmentgroup\": \"True\", \"bingroup\": \"x\", \"histfunc\": \"sum\", \"hovertemplate\": \"Amount of Sales for Price=3845<br>index=%{x}<br>sum of Amount of Sales for Price=%{y}<extra></extra>\", \"legendgroup\": \"3845\", \"marker\": {\"color\": \"#EF553B\"}, \"name\": \"3845\", \"offsetgroup\": \"3845\", \"orientation\": \"v\", \"showlegend\": true, \"type\": \"histogram\", \"x\": [12.75], \"xaxis\": \"x\", \"y\": [3845], \"yaxis\": \"y\"}, {\"alignmentgroup\": \"True\", \"boxpoints\": \"all\", \"fillcolor\": \"rgba(255,255,255,0)\", \"hoveron\": \"points\", \"hovertemplate\": \"Amount of Sales for Price=3845<br>index=%{x}<extra></extra>\", \"jitter\": 0, \"legendgroup\": \"3845\", \"line\": {\"color\": \"rgba(255,255,255,0)\"}, \"marker\": {\"color\": \"#EF553B\", \"symbol\": \"line-ns-open\"}, \"name\": \"3845\", \"offsetgroup\": \"3845\", \"showlegend\": false, \"type\": \"box\", \"x\": [12.75], \"xaxis\": \"x2\", \"yaxis\": \"y2\"}, {\"alignmentgroup\": \"True\", \"bingroup\": \"x\", \"histfunc\": \"sum\", \"hovertemplate\": \"Amount of Sales for Price=3765<br>index=%{x}<br>sum of Amount of Sales for Price=%{y}<extra></extra>\", \"legendgroup\": \"3765\", \"marker\": {\"color\": \"#00cc96\"}, \"name\": \"3765\", \"offsetgroup\": \"3765\", \"orientation\": \"v\", \"showlegend\": true, \"type\": \"histogram\", \"x\": [8.25], \"xaxis\": \"x\", \"y\": [3765], \"yaxis\": \"y\"}, {\"alignmentgroup\": \"True\", \"boxpoints\": \"all\", \"fillcolor\": \"rgba(255,255,255,0)\", \"hoveron\": \"points\", \"hovertemplate\": \"Amount of Sales for Price=3765<br>index=%{x}<extra></extra>\", \"jitter\": 0, \"legendgroup\": \"3765\", \"line\": {\"color\": \"rgba(255,255,255,0)\"}, \"marker\": {\"color\": \"#00cc96\", \"symbol\": \"line-ns-open\"}, \"name\": \"3765\", \"offsetgroup\": \"3765\", \"showlegend\": false, \"type\": \"box\", \"x\": [8.25], \"xaxis\": \"x2\", \"yaxis\": \"y2\"}, {\"alignmentgroup\": \"True\", \"bingroup\": \"x\", \"histfunc\": \"sum\", \"hovertemplate\": \"Amount of Sales for Price=3295<br>index=%{x}<br>sum of Amount of Sales for Price=%{y}<extra></extra>\", \"legendgroup\": \"3295\", \"marker\": {\"color\": \"#ab63fa\"}, \"name\": \"3295\", \"offsetgroup\": \"3295\", \"orientation\": \"v\", \"showlegend\": true, \"type\": \"histogram\", \"x\": [7.46], \"xaxis\": \"x\", \"y\": [3295], \"yaxis\": \"y\"}, {\"alignmentgroup\": \"True\", \"boxpoints\": \"all\", \"fillcolor\": \"rgba(255,255,255,0)\", \"hoveron\": \"points\", \"hovertemplate\": \"Amount of Sales for Price=3295<br>index=%{x}<extra></extra>\", \"jitter\": 0, \"legendgroup\": \"3295\", \"line\": {\"color\": \"rgba(255,255,255,0)\"}, \"marker\": {\"color\": \"#ab63fa\", \"symbol\": \"line-ns-open\"}, \"name\": \"3295\", \"offsetgroup\": \"3295\", \"showlegend\": false, \"type\": \"box\", \"x\": [7.46], \"xaxis\": \"x2\", \"yaxis\": \"y2\"}, {\"alignmentgroup\": \"True\", \"bingroup\": \"x\", \"histfunc\": \"sum\", \"hovertemplate\": \"Amount of Sales for Price=3084<br>index=%{x}<br>sum of Amount of Sales for Price=%{y}<extra></extra>\", \"legendgroup\": \"3084\", \"marker\": {\"color\": \"#FFA15A\"}, \"name\": \"3084\", \"offsetgroup\": \"3084\", \"orientation\": \"v\", \"showlegend\": true, \"type\": \"histogram\", \"x\": [10.79], \"xaxis\": \"x\", \"y\": [3084], \"yaxis\": \"y\"}, {\"alignmentgroup\": \"True\", \"boxpoints\": \"all\", \"fillcolor\": \"rgba(255,255,255,0)\", \"hoveron\": \"points\", \"hovertemplate\": \"Amount of Sales for Price=3084<br>index=%{x}<extra></extra>\", \"jitter\": 0, \"legendgroup\": \"3084\", \"line\": {\"color\": \"rgba(255,255,255,0)\"}, \"marker\": {\"color\": \"#FFA15A\", \"symbol\": \"line-ns-open\"}, \"name\": \"3084\", \"offsetgroup\": \"3084\", \"showlegend\": false, \"type\": \"box\", \"x\": [10.79], \"xaxis\": \"x2\", \"yaxis\": \"y2\"}, {\"alignmentgroup\": \"True\", \"bingroup\": \"x\", \"histfunc\": \"sum\", \"hovertemplate\": \"Amount of Sales for Price=2947<br>index=%{x}<br>sum of Amount of Sales for Price=%{y}<extra></extra>\", \"legendgroup\": \"2947\", \"marker\": {\"color\": \"#19d3f3\"}, \"name\": \"2947\", \"offsetgroup\": \"2947\", \"orientation\": \"v\", \"showlegend\": true, \"type\": \"histogram\", \"x\": [3.95], \"xaxis\": \"x\", \"y\": [2947], \"yaxis\": \"y\"}, {\"alignmentgroup\": \"True\", \"boxpoints\": \"all\", \"fillcolor\": \"rgba(255,255,255,0)\", \"hoveron\": \"points\", \"hovertemplate\": \"Amount of Sales for Price=2947<br>index=%{x}<extra></extra>\", \"jitter\": 0, \"legendgroup\": \"2947\", \"line\": {\"color\": \"rgba(255,255,255,0)\"}, \"marker\": {\"color\": \"#19d3f3\", \"symbol\": \"line-ns-open\"}, \"name\": \"2947\", \"offsetgroup\": \"2947\", \"showlegend\": false, \"type\": \"box\", \"x\": [3.95], \"xaxis\": \"x2\", \"yaxis\": \"y2\"}, {\"alignmentgroup\": \"True\", \"bingroup\": \"x\", \"histfunc\": \"sum\", \"hovertemplate\": \"Amount of Sales for Price=2833<br>index=%{x}<br>sum of Amount of Sales for Price=%{y}<extra></extra>\", \"legendgroup\": \"2833\", \"marker\": {\"color\": \"#FF6692\"}, \"name\": \"2833\", \"offsetgroup\": \"2833\", \"orientation\": \"v\", \"showlegend\": true, \"type\": \"histogram\", \"x\": [0.79], \"xaxis\": \"x\", \"y\": [2833], \"yaxis\": \"y\"}, {\"alignmentgroup\": \"True\", \"boxpoints\": \"all\", \"fillcolor\": \"rgba(255,255,255,0)\", \"hoveron\": \"points\", \"hovertemplate\": \"Amount of Sales for Price=2833<br>index=%{x}<extra></extra>\", \"jitter\": 0, \"legendgroup\": \"2833\", \"line\": {\"color\": \"rgba(255,255,255,0)\"}, \"marker\": {\"color\": \"#FF6692\", \"symbol\": \"line-ns-open\"}, \"name\": \"2833\", \"offsetgroup\": \"2833\", \"showlegend\": false, \"type\": \"box\", \"x\": [0.79], \"xaxis\": \"x2\", \"yaxis\": \"y2\"}, {\"alignmentgroup\": \"True\", \"bingroup\": \"x\", \"histfunc\": \"sum\", \"hovertemplate\": \"Amount of Sales for Price=2735<br>index=%{x}<br>sum of Amount of Sales for Price=%{y}<extra></extra>\", \"legendgroup\": \"2735\", \"marker\": {\"color\": \"#B6E880\"}, \"name\": \"2735\", \"offsetgroup\": \"2735\", \"orientation\": \"v\", \"showlegend\": true, \"type\": \"histogram\", \"x\": [2.89], \"xaxis\": \"x\", \"y\": [2735], \"yaxis\": \"y\"}, {\"alignmentgroup\": \"True\", \"boxpoints\": \"all\", \"fillcolor\": \"rgba(255,255,255,0)\", \"hoveron\": \"points\", \"hovertemplate\": \"Amount of Sales for Price=2735<br>index=%{x}<extra></extra>\", \"jitter\": 0, \"legendgroup\": \"2735\", \"line\": {\"color\": \"rgba(255,255,255,0)\"}, \"marker\": {\"color\": \"#B6E880\", \"symbol\": \"line-ns-open\"}, \"name\": \"2735\", \"offsetgroup\": \"2735\", \"showlegend\": false, \"type\": \"box\", \"x\": [2.89], \"xaxis\": \"x2\", \"yaxis\": \"y2\"}, {\"alignmentgroup\": \"True\", \"bingroup\": \"x\", \"histfunc\": \"sum\", \"hovertemplate\": \"Amount of Sales for Price=2709<br>index=%{x}<br>sum of Amount of Sales for Price=%{y}<extra></extra>\", \"legendgroup\": \"2709\", \"marker\": {\"color\": \"#FF97FF\"}, \"name\": \"2709\", \"offsetgroup\": \"2709\", \"orientation\": \"v\", \"showlegend\": true, \"type\": \"histogram\", \"x\": [2.51], \"xaxis\": \"x\", \"y\": [2709], \"yaxis\": \"y\"}, {\"alignmentgroup\": \"True\", \"boxpoints\": \"all\", \"fillcolor\": \"rgba(255,255,255,0)\", \"hoveron\": \"points\", \"hovertemplate\": \"Amount of Sales for Price=2709<br>index=%{x}<extra></extra>\", \"jitter\": 0, \"legendgroup\": \"2709\", \"line\": {\"color\": \"rgba(255,255,255,0)\"}, \"marker\": {\"color\": \"#FF97FF\", \"symbol\": \"line-ns-open\"}, \"name\": \"2709\", \"offsetgroup\": \"2709\", \"showlegend\": false, \"type\": \"box\", \"x\": [2.51], \"xaxis\": \"x2\", \"yaxis\": \"y2\"}, {\"alignmentgroup\": \"True\", \"bingroup\": \"x\", \"histfunc\": \"sum\", \"hovertemplate\": \"Amount of Sales for Price=2515<br>index=%{x}<br>sum of Amount of Sales for Price=%{y}<extra></extra>\", \"legendgroup\": \"2515\", \"marker\": {\"color\": \"#FECB52\"}, \"name\": \"2515\", \"offsetgroup\": \"2515\", \"orientation\": \"v\", \"showlegend\": true, \"type\": \"histogram\", \"x\": [0.0], \"xaxis\": \"x\", \"y\": [2515], \"yaxis\": \"y\"}, {\"alignmentgroup\": \"True\", \"boxpoints\": \"all\", \"fillcolor\": \"rgba(255,255,255,0)\", \"hoveron\": \"points\", \"hovertemplate\": \"Amount of Sales for Price=2515<br>index=%{x}<extra></extra>\", \"jitter\": 0, \"legendgroup\": \"2515\", \"line\": {\"color\": \"rgba(255,255,255,0)\"}, \"marker\": {\"color\": \"#FECB52\", \"symbol\": \"line-ns-open\"}, \"name\": \"2515\", \"offsetgroup\": \"2515\", \"showlegend\": false, \"type\": \"box\", \"x\": [0.0], \"xaxis\": \"x2\", \"yaxis\": \"y2\"}, {\"alignmentgroup\": \"True\", \"bingroup\": \"x\", \"histfunc\": \"sum\", \"hovertemplate\": \"Amount of Sales for Price=2511<br>index=%{x}<br>sum of Amount of Sales for Price=%{y}<extra></extra>\", \"legendgroup\": \"2511\", \"marker\": {\"color\": \"#636efa\"}, \"name\": \"2511\", \"offsetgroup\": \"2511\", \"orientation\": \"v\", \"showlegend\": true, \"type\": \"histogram\", \"x\": [1.66], \"xaxis\": \"x\", \"y\": [2511], \"yaxis\": \"y\"}, {\"alignmentgroup\": \"True\", \"boxpoints\": \"all\", \"fillcolor\": \"rgba(255,255,255,0)\", \"hoveron\": \"points\", \"hovertemplate\": \"Amount of Sales for Price=2511<br>index=%{x}<extra></extra>\", \"jitter\": 0, \"legendgroup\": \"2511\", \"line\": {\"color\": \"rgba(255,255,255,0)\"}, \"marker\": {\"color\": \"#636efa\", \"symbol\": \"line-ns-open\"}, \"name\": \"2511\", \"offsetgroup\": \"2511\", \"showlegend\": false, \"type\": \"box\", \"x\": [1.66], \"xaxis\": \"x2\", \"yaxis\": \"y2\"}, {\"alignmentgroup\": \"True\", \"bingroup\": \"x\", \"histfunc\": \"sum\", \"hovertemplate\": \"Amount of Sales for Price=2459<br>index=%{x}<br>sum of Amount of Sales for Price=%{y}<extra></extra>\", \"legendgroup\": \"2459\", \"marker\": {\"color\": \"#EF553B\"}, \"name\": \"2459\", \"offsetgroup\": \"2459\", \"orientation\": \"v\", \"showlegend\": true, \"type\": \"histogram\", \"x\": [6.75], \"xaxis\": \"x\", \"y\": [2459], \"yaxis\": \"y\"}, {\"alignmentgroup\": \"True\", \"boxpoints\": \"all\", \"fillcolor\": \"rgba(255,255,255,0)\", \"hoveron\": \"points\", \"hovertemplate\": \"Amount of Sales for Price=2459<br>index=%{x}<extra></extra>\", \"jitter\": 0, \"legendgroup\": \"2459\", \"line\": {\"color\": \"rgba(255,255,255,0)\"}, \"marker\": {\"color\": \"#EF553B\", \"symbol\": \"line-ns-open\"}, \"name\": \"2459\", \"offsetgroup\": \"2459\", \"showlegend\": false, \"type\": \"box\", \"x\": [6.75], \"xaxis\": \"x2\", \"yaxis\": \"y2\"}, {\"alignmentgroup\": \"True\", \"bingroup\": \"x\", \"histfunc\": \"sum\", \"hovertemplate\": \"Amount of Sales for Price=2206<br>index=%{x}<br>sum of Amount of Sales for Price=%{y}<extra></extra>\", \"legendgroup\": \"2206\", \"marker\": {\"color\": \"#00cc96\"}, \"name\": \"2206\", \"offsetgroup\": \"2206\", \"orientation\": \"v\", \"showlegend\": true, \"type\": \"histogram\", \"x\": [3.25], \"xaxis\": \"x\", \"y\": [2206], \"yaxis\": \"y\"}, {\"alignmentgroup\": \"True\", \"boxpoints\": \"all\", \"fillcolor\": \"rgba(255,255,255,0)\", \"hoveron\": \"points\", \"hovertemplate\": \"Amount of Sales for Price=2206<br>index=%{x}<extra></extra>\", \"jitter\": 0, \"legendgroup\": \"2206\", \"line\": {\"color\": \"rgba(255,255,255,0)\"}, \"marker\": {\"color\": \"#00cc96\", \"symbol\": \"line-ns-open\"}, \"name\": \"2206\", \"offsetgroup\": \"2206\", \"showlegend\": false, \"type\": \"box\", \"x\": [3.25], \"xaxis\": \"x2\", \"yaxis\": \"y2\"}, {\"alignmentgroup\": \"True\", \"bingroup\": \"x\", \"histfunc\": \"sum\", \"hovertemplate\": \"Amount of Sales for Price=2180<br>index=%{x}<br>sum of Amount of Sales for Price=%{y}<extra></extra>\", \"legendgroup\": \"2180\", \"marker\": {\"color\": \"#ab63fa\"}, \"name\": \"2180\", \"offsetgroup\": \"2180\", \"orientation\": \"v\", \"showlegend\": true, \"type\": \"histogram\", \"x\": [4.21], \"xaxis\": \"x\", \"y\": [2180], \"yaxis\": \"y\"}, {\"alignmentgroup\": \"True\", \"boxpoints\": \"all\", \"fillcolor\": \"rgba(255,255,255,0)\", \"hoveron\": \"points\", \"hovertemplate\": \"Amount of Sales for Price=2180<br>index=%{x}<extra></extra>\", \"jitter\": 0, \"legendgroup\": \"2180\", \"line\": {\"color\": \"rgba(255,255,255,0)\"}, \"marker\": {\"color\": \"#ab63fa\", \"symbol\": \"line-ns-open\"}, \"name\": \"2180\", \"offsetgroup\": \"2180\", \"showlegend\": false, \"type\": \"box\", \"x\": [4.21], \"xaxis\": \"x2\", \"yaxis\": \"y2\"}, {\"alignmentgroup\": \"True\", \"bingroup\": \"x\", \"histfunc\": \"sum\", \"hovertemplate\": \"Amount of Sales for Price=2112<br>index=%{x}<br>sum of Amount of Sales for Price=%{y}<extra></extra>\", \"legendgroup\": \"2112\", \"marker\": {\"color\": \"#FFA15A\"}, \"name\": \"2112\", \"offsetgroup\": \"2112\", \"orientation\": \"v\", \"showlegend\": true, \"type\": \"histogram\", \"x\": [3.36], \"xaxis\": \"x\", \"y\": [2112], \"yaxis\": \"y\"}, {\"alignmentgroup\": \"True\", \"boxpoints\": \"all\", \"fillcolor\": \"rgba(255,255,255,0)\", \"hoveron\": \"points\", \"hovertemplate\": \"Amount of Sales for Price=2112<br>index=%{x}<extra></extra>\", \"jitter\": 0, \"legendgroup\": \"2112\", \"line\": {\"color\": \"rgba(255,255,255,0)\"}, \"marker\": {\"color\": \"#FFA15A\", \"symbol\": \"line-ns-open\"}, \"name\": \"2112\", \"offsetgroup\": \"2112\", \"showlegend\": false, \"type\": \"box\", \"x\": [3.36], \"xaxis\": \"x2\", \"yaxis\": \"y2\"}, {\"alignmentgroup\": \"True\", \"bingroup\": \"x\", \"histfunc\": \"sum\", \"hovertemplate\": \"Amount of Sales for Price=1905<br>index=%{x}<br>sum of Amount of Sales for Price=%{y}<extra></extra>\", \"legendgroup\": \"1905\", \"marker\": {\"color\": \"#19d3f3\"}, \"name\": \"1905\", \"offsetgroup\": \"1905\", \"orientation\": \"v\", \"showlegend\": true, \"type\": \"histogram\", \"x\": [0.19], \"xaxis\": \"x\", \"y\": [1905], \"yaxis\": \"y\"}, {\"alignmentgroup\": \"True\", \"boxpoints\": \"all\", \"fillcolor\": \"rgba(255,255,255,0)\", \"hoveron\": \"points\", \"hovertemplate\": \"Amount of Sales for Price=1905<br>index=%{x}<extra></extra>\", \"jitter\": 0, \"legendgroup\": \"1905\", \"line\": {\"color\": \"rgba(255,255,255,0)\"}, \"marker\": {\"color\": \"#19d3f3\", \"symbol\": \"line-ns-open\"}, \"name\": \"1905\", \"offsetgroup\": \"1905\", \"showlegend\": false, \"type\": \"box\", \"x\": [0.19], \"xaxis\": \"x2\", \"yaxis\": \"y2\"}, {\"alignmentgroup\": \"True\", \"bingroup\": \"x\", \"histfunc\": \"sum\", \"hovertemplate\": \"Amount of Sales for Price=1705<br>index=%{x}<br>sum of Amount of Sales for Price=%{y}<extra></extra>\", \"legendgroup\": \"1705\", \"marker\": {\"color\": \"#FF6692\"}, \"name\": \"1705\", \"offsetgroup\": \"1705\", \"orientation\": \"v\", \"showlegend\": true, \"type\": \"histogram\", \"x\": [16.63], \"xaxis\": \"x\", \"y\": [1705], \"yaxis\": \"y\"}, {\"alignmentgroup\": \"True\", \"boxpoints\": \"all\", \"fillcolor\": \"rgba(255,255,255,0)\", \"hoveron\": \"points\", \"hovertemplate\": \"Amount of Sales for Price=1705<br>index=%{x}<extra></extra>\", \"jitter\": 0, \"legendgroup\": \"1705\", \"line\": {\"color\": \"rgba(255,255,255,0)\"}, \"marker\": {\"color\": \"#FF6692\", \"symbol\": \"line-ns-open\"}, \"name\": \"1705\", \"offsetgroup\": \"1705\", \"showlegend\": false, \"type\": \"box\", \"x\": [16.63], \"xaxis\": \"x2\", \"yaxis\": \"y2\"}, {\"alignmentgroup\": \"True\", \"bingroup\": \"x\", \"histfunc\": \"sum\", \"hovertemplate\": \"Amount of Sales for Price=1559<br>index=%{x}<br>sum of Amount of Sales for Price=%{y}<extra></extra>\", \"legendgroup\": \"1559\", \"marker\": {\"color\": \"#B6E880\"}, \"name\": \"1559\", \"offsetgroup\": \"1559\", \"orientation\": \"v\", \"showlegend\": true, \"type\": \"histogram\", \"x\": [1.06], \"xaxis\": \"x\", \"y\": [1559], \"yaxis\": \"y\"}, {\"alignmentgroup\": \"True\", \"boxpoints\": \"all\", \"fillcolor\": \"rgba(255,255,255,0)\", \"hoveron\": \"points\", \"hovertemplate\": \"Amount of Sales for Price=1559<br>index=%{x}<extra></extra>\", \"jitter\": 0, \"legendgroup\": \"1559\", \"line\": {\"color\": \"rgba(255,255,255,0)\"}, \"marker\": {\"color\": \"#B6E880\", \"symbol\": \"line-ns-open\"}, \"name\": \"1559\", \"offsetgroup\": \"1559\", \"showlegend\": false, \"type\": \"box\", \"x\": [1.06], \"xaxis\": \"x2\", \"yaxis\": \"y2\"}, {\"alignmentgroup\": \"True\", \"bingroup\": \"x\", \"histfunc\": \"sum\", \"hovertemplate\": \"Amount of Sales for Price=1531<br>index=%{x}<br>sum of Amount of Sales for Price=%{y}<extra></extra>\", \"legendgroup\": \"1531\", \"marker\": {\"color\": \"#FF97FF\"}, \"name\": \"1531\", \"offsetgroup\": \"1531\", \"orientation\": \"v\", \"showlegend\": true, \"type\": \"histogram\", \"x\": [12.46], \"xaxis\": \"x\", \"y\": [1531], \"yaxis\": \"y\"}, {\"alignmentgroup\": \"True\", \"boxpoints\": \"all\", \"fillcolor\": \"rgba(255,255,255,0)\", \"hoveron\": \"points\", \"hovertemplate\": \"Amount of Sales for Price=1531<br>index=%{x}<extra></extra>\", \"jitter\": 0, \"legendgroup\": \"1531\", \"line\": {\"color\": \"rgba(255,255,255,0)\"}, \"marker\": {\"color\": \"#FF97FF\", \"symbol\": \"line-ns-open\"}, \"name\": \"1531\", \"offsetgroup\": \"1531\", \"showlegend\": false, \"type\": \"box\", \"x\": [12.46], \"xaxis\": \"x2\", \"yaxis\": \"y2\"}, {\"alignmentgroup\": \"True\", \"bingroup\": \"x\", \"histfunc\": \"sum\", \"hovertemplate\": \"Amount of Sales for Price=1437<br>index=%{x}<br>sum of Amount of Sales for Price=%{y}<extra></extra>\", \"legendgroup\": \"1437\", \"marker\": {\"color\": \"#FECB52\"}, \"name\": \"1437\", \"offsetgroup\": \"1437\", \"orientation\": \"v\", \"showlegend\": true, \"type\": \"histogram\", \"x\": [6.25], \"xaxis\": \"x\", \"y\": [1437], \"yaxis\": \"y\"}, {\"alignmentgroup\": \"True\", \"boxpoints\": \"all\", \"fillcolor\": \"rgba(255,255,255,0)\", \"hoveron\": \"points\", \"hovertemplate\": \"Amount of Sales for Price=1437<br>index=%{x}<extra></extra>\", \"jitter\": 0, \"legendgroup\": \"1437\", \"line\": {\"color\": \"rgba(255,255,255,0)\"}, \"marker\": {\"color\": \"#FECB52\", \"symbol\": \"line-ns-open\"}, \"name\": \"1437\", \"offsetgroup\": \"1437\", \"showlegend\": false, \"type\": \"box\", \"x\": [6.25], \"xaxis\": \"x2\", \"yaxis\": \"y2\"}, {\"alignmentgroup\": \"True\", \"bingroup\": \"x\", \"histfunc\": \"sum\", \"hovertemplate\": \"Amount of Sales for Price=1432<br>index=%{x}<br>sum of Amount of Sales for Price=%{y}<extra></extra>\", \"legendgroup\": \"1432\", \"marker\": {\"color\": \"#636efa\"}, \"name\": \"1432\", \"offsetgroup\": \"1432\", \"orientation\": \"v\", \"showlegend\": true, \"type\": \"histogram\", \"x\": [0.95], \"xaxis\": \"x\", \"y\": [1432], \"yaxis\": \"y\"}, {\"alignmentgroup\": \"True\", \"boxpoints\": \"all\", \"fillcolor\": \"rgba(255,255,255,0)\", \"hoveron\": \"points\", \"hovertemplate\": \"Amount of Sales for Price=1432<br>index=%{x}<extra></extra>\", \"jitter\": 0, \"legendgroup\": \"1432\", \"line\": {\"color\": \"rgba(255,255,255,0)\"}, \"marker\": {\"color\": \"#636efa\", \"symbol\": \"line-ns-open\"}, \"name\": \"1432\", \"offsetgroup\": \"1432\", \"showlegend\": false, \"type\": \"box\", \"x\": [0.95], \"xaxis\": \"x2\", \"yaxis\": \"y2\"}, {\"alignmentgroup\": \"True\", \"bingroup\": \"x\", \"histfunc\": \"sum\", \"hovertemplate\": \"Amount of Sales for Price=1419<br>index=%{x}<br>sum of Amount of Sales for Price=%{y}<extra></extra>\", \"legendgroup\": \"1419\", \"marker\": {\"color\": \"#EF553B\"}, \"name\": \"1419\", \"offsetgroup\": \"1419\", \"orientation\": \"v\", \"showlegend\": true, \"type\": \"histogram\", \"x\": [5.91], \"xaxis\": \"x\", \"y\": [1419], \"yaxis\": \"y\"}, {\"alignmentgroup\": \"True\", \"boxpoints\": \"all\", \"fillcolor\": \"rgba(255,255,255,0)\", \"hoveron\": \"points\", \"hovertemplate\": \"Amount of Sales for Price=1419<br>index=%{x}<extra></extra>\", \"jitter\": 0, \"legendgroup\": \"1419\", \"line\": {\"color\": \"rgba(255,255,255,0)\"}, \"marker\": {\"color\": \"#EF553B\", \"symbol\": \"line-ns-open\"}, \"name\": \"1419\", \"offsetgroup\": \"1419\", \"showlegend\": false, \"type\": \"box\", \"x\": [5.91], \"xaxis\": \"x2\", \"yaxis\": \"y2\"}, {\"alignmentgroup\": \"True\", \"bingroup\": \"x\", \"histfunc\": \"sum\", \"hovertemplate\": \"Amount of Sales for Price=1403<br>index=%{x}<br>sum of Amount of Sales for Price=%{y}<extra></extra>\", \"legendgroup\": \"1403\", \"marker\": {\"color\": \"#00cc96\"}, \"name\": \"1403\", \"offsetgroup\": \"1403\", \"orientation\": \"v\", \"showlegend\": true, \"type\": \"histogram\", \"x\": [2.49], \"xaxis\": \"x\", \"y\": [1403], \"yaxis\": \"y\"}, {\"alignmentgroup\": \"True\", \"boxpoints\": \"all\", \"fillcolor\": \"rgba(255,255,255,0)\", \"hoveron\": \"points\", \"hovertemplate\": \"Amount of Sales for Price=1403<br>index=%{x}<extra></extra>\", \"jitter\": 0, \"legendgroup\": \"1403\", \"line\": {\"color\": \"rgba(255,255,255,0)\"}, \"marker\": {\"color\": \"#00cc96\", \"symbol\": \"line-ns-open\"}, \"name\": \"1403\", \"offsetgroup\": \"1403\", \"showlegend\": false, \"type\": \"box\", \"x\": [2.49], \"xaxis\": \"x2\", \"yaxis\": \"y2\"}, {\"alignmentgroup\": \"True\", \"bingroup\": \"x\", \"histfunc\": \"sum\", \"hovertemplate\": \"Amount of Sales for Price=1294<br>index=%{x}<br>sum of Amount of Sales for Price=%{y}<extra></extra>\", \"legendgroup\": \"1294\", \"marker\": {\"color\": \"#ab63fa\"}, \"name\": \"1294\", \"offsetgroup\": \"1294\", \"orientation\": \"v\", \"showlegend\": true, \"type\": \"histogram\", \"x\": [16.95, 6.95], \"xaxis\": \"x\", \"y\": [1294, 1294], \"yaxis\": \"y\"}, {\"alignmentgroup\": \"True\", \"boxpoints\": \"all\", \"fillcolor\": \"rgba(255,255,255,0)\", \"hoveron\": \"points\", \"hovertemplate\": \"Amount of Sales for Price=1294<br>index=%{x}<extra></extra>\", \"jitter\": 0, \"legendgroup\": \"1294\", \"line\": {\"color\": \"rgba(255,255,255,0)\"}, \"marker\": {\"color\": \"#ab63fa\", \"symbol\": \"line-ns-open\"}, \"name\": \"1294\", \"offsetgroup\": \"1294\", \"showlegend\": false, \"type\": \"box\", \"x\": [16.95, 6.95], \"xaxis\": \"x2\", \"yaxis\": \"y2\"}, {\"alignmentgroup\": \"True\", \"bingroup\": \"x\", \"histfunc\": \"sum\", \"hovertemplate\": \"Amount of Sales for Price=1235<br>index=%{x}<br>sum of Amount of Sales for Price=%{y}<extra></extra>\", \"legendgroup\": \"1235\", \"marker\": {\"color\": \"#FFA15A\"}, \"name\": \"1235\", \"offsetgroup\": \"1235\", \"orientation\": \"v\", \"showlegend\": true, \"type\": \"histogram\", \"x\": [0.72], \"xaxis\": \"x\", \"y\": [1235], \"yaxis\": \"y\"}, {\"alignmentgroup\": \"True\", \"boxpoints\": \"all\", \"fillcolor\": \"rgba(255,255,255,0)\", \"hoveron\": \"points\", \"hovertemplate\": \"Amount of Sales for Price=1235<br>index=%{x}<extra></extra>\", \"jitter\": 0, \"legendgroup\": \"1235\", \"line\": {\"color\": \"rgba(255,255,255,0)\"}, \"marker\": {\"color\": \"#FFA15A\", \"symbol\": \"line-ns-open\"}, \"name\": \"1235\", \"offsetgroup\": \"1235\", \"showlegend\": false, \"type\": \"box\", \"x\": [0.72], \"xaxis\": \"x2\", \"yaxis\": \"y2\"}, {\"alignmentgroup\": \"True\", \"bingroup\": \"x\", \"histfunc\": \"sum\", \"hovertemplate\": \"Amount of Sales for Price=1231<br>index=%{x}<br>sum of Amount of Sales for Price=%{y}<extra></extra>\", \"legendgroup\": \"1231\", \"marker\": {\"color\": \"#19d3f3\"}, \"name\": \"1231\", \"offsetgroup\": \"1231\", \"orientation\": \"v\", \"showlegend\": true, \"type\": \"histogram\", \"x\": [1.79], \"xaxis\": \"x\", \"y\": [1231], \"yaxis\": \"y\"}, {\"alignmentgroup\": \"True\", \"boxpoints\": \"all\", \"fillcolor\": \"rgba(255,255,255,0)\", \"hoveron\": \"points\", \"hovertemplate\": \"Amount of Sales for Price=1231<br>index=%{x}<extra></extra>\", \"jitter\": 0, \"legendgroup\": \"1231\", \"line\": {\"color\": \"rgba(255,255,255,0)\"}, \"marker\": {\"color\": \"#19d3f3\", \"symbol\": \"line-ns-open\"}, \"name\": \"1231\", \"offsetgroup\": \"1231\", \"showlegend\": false, \"type\": \"box\", \"x\": [1.79], \"xaxis\": \"x2\", \"yaxis\": \"y2\"}, {\"alignmentgroup\": \"True\", \"bingroup\": \"x\", \"histfunc\": \"sum\", \"hovertemplate\": \"Amount of Sales for Price=1180<br>index=%{x}<br>sum of Amount of Sales for Price=%{y}<extra></extra>\", \"legendgroup\": \"1180\", \"marker\": {\"color\": \"#FF6692\"}, \"name\": \"1180\", \"offsetgroup\": \"1180\", \"orientation\": \"v\", \"showlegend\": true, \"type\": \"histogram\", \"x\": [14.95], \"xaxis\": \"x\", \"y\": [1180], \"yaxis\": \"y\"}, {\"alignmentgroup\": \"True\", \"boxpoints\": \"all\", \"fillcolor\": \"rgba(255,255,255,0)\", \"hoveron\": \"points\", \"hovertemplate\": \"Amount of Sales for Price=1180<br>index=%{x}<extra></extra>\", \"jitter\": 0, \"legendgroup\": \"1180\", \"line\": {\"color\": \"rgba(255,255,255,0)\"}, \"marker\": {\"color\": \"#FF6692\", \"symbol\": \"line-ns-open\"}, \"name\": \"1180\", \"offsetgroup\": \"1180\", \"showlegend\": false, \"type\": \"box\", \"x\": [14.95], \"xaxis\": \"x2\", \"yaxis\": \"y2\"}, {\"alignmentgroup\": \"True\", \"bingroup\": \"x\", \"histfunc\": \"sum\", \"hovertemplate\": \"Amount of Sales for Price=1164<br>index=%{x}<br>sum of Amount of Sales for Price=%{y}<extra></extra>\", \"legendgroup\": \"1164\", \"marker\": {\"color\": \"#B6E880\"}, \"name\": \"1164\", \"offsetgroup\": \"1164\", \"orientation\": \"v\", \"showlegend\": true, \"type\": \"histogram\", \"x\": [0.21], \"xaxis\": \"x\", \"y\": [1164], \"yaxis\": \"y\"}, {\"alignmentgroup\": \"True\", \"boxpoints\": \"all\", \"fillcolor\": \"rgba(255,255,255,0)\", \"hoveron\": \"points\", \"hovertemplate\": \"Amount of Sales for Price=1164<br>index=%{x}<extra></extra>\", \"jitter\": 0, \"legendgroup\": \"1164\", \"line\": {\"color\": \"rgba(255,255,255,0)\"}, \"marker\": {\"color\": \"#B6E880\", \"symbol\": \"line-ns-open\"}, \"name\": \"1164\", \"offsetgroup\": \"1164\", \"showlegend\": false, \"type\": \"box\", \"x\": [0.21], \"xaxis\": \"x2\", \"yaxis\": \"y2\"}, {\"alignmentgroup\": \"True\", \"bingroup\": \"x\", \"histfunc\": \"sum\", \"hovertemplate\": \"Amount of Sales for Price=1083<br>index=%{x}<br>sum of Amount of Sales for Price=%{y}<extra></extra>\", \"legendgroup\": \"1083\", \"marker\": {\"color\": \"#FF97FF\"}, \"name\": \"1083\", \"offsetgroup\": \"1083\", \"orientation\": \"v\", \"showlegend\": true, \"type\": \"histogram\", \"x\": [2.25], \"xaxis\": \"x\", \"y\": [1083], \"yaxis\": \"y\"}, {\"alignmentgroup\": \"True\", \"boxpoints\": \"all\", \"fillcolor\": \"rgba(255,255,255,0)\", \"hoveron\": \"points\", \"hovertemplate\": \"Amount of Sales for Price=1083<br>index=%{x}<extra></extra>\", \"jitter\": 0, \"legendgroup\": \"1083\", \"line\": {\"color\": \"rgba(255,255,255,0)\"}, \"marker\": {\"color\": \"#FF97FF\", \"symbol\": \"line-ns-open\"}, \"name\": \"1083\", \"offsetgroup\": \"1083\", \"showlegend\": false, \"type\": \"box\", \"x\": [2.25], \"xaxis\": \"x2\", \"yaxis\": \"y2\"}, {\"alignmentgroup\": \"True\", \"bingroup\": \"x\", \"histfunc\": \"sum\", \"hovertemplate\": \"Amount of Sales for Price=1068<br>index=%{x}<br>sum of Amount of Sales for Price=%{y}<extra></extra>\", \"legendgroup\": \"1068\", \"marker\": {\"color\": \"#FECB52\"}, \"name\": \"1068\", \"offsetgroup\": \"1068\", \"orientation\": \"v\", \"showlegend\": true, \"type\": \"histogram\", \"x\": [12.5], \"xaxis\": \"x\", \"y\": [1068], \"yaxis\": \"y\"}, {\"alignmentgroup\": \"True\", \"boxpoints\": \"all\", \"fillcolor\": \"rgba(255,255,255,0)\", \"hoveron\": \"points\", \"hovertemplate\": \"Amount of Sales for Price=1068<br>index=%{x}<extra></extra>\", \"jitter\": 0, \"legendgroup\": \"1068\", \"line\": {\"color\": \"rgba(255,255,255,0)\"}, \"marker\": {\"color\": \"#FECB52\", \"symbol\": \"line-ns-open\"}, \"name\": \"1068\", \"offsetgroup\": \"1068\", \"showlegend\": false, \"type\": \"box\", \"x\": [12.5], \"xaxis\": \"x2\", \"yaxis\": \"y2\"}, {\"alignmentgroup\": \"True\", \"bingroup\": \"x\", \"histfunc\": \"sum\", \"hovertemplate\": \"Amount of Sales for Price=1023<br>index=%{x}<br>sum of Amount of Sales for Price=%{y}<extra></extra>\", \"legendgroup\": \"1023\", \"marker\": {\"color\": \"#636efa\"}, \"name\": \"1023\", \"offsetgroup\": \"1023\", \"orientation\": \"v\", \"showlegend\": true, \"type\": \"histogram\", \"x\": [5.45], \"xaxis\": \"x\", \"y\": [1023], \"yaxis\": \"y\"}, {\"alignmentgroup\": \"True\", \"boxpoints\": \"all\", \"fillcolor\": \"rgba(255,255,255,0)\", \"hoveron\": \"points\", \"hovertemplate\": \"Amount of Sales for Price=1023<br>index=%{x}<extra></extra>\", \"jitter\": 0, \"legendgroup\": \"1023\", \"line\": {\"color\": \"rgba(255,255,255,0)\"}, \"marker\": {\"color\": \"#636efa\", \"symbol\": \"line-ns-open\"}, \"name\": \"1023\", \"offsetgroup\": \"1023\", \"showlegend\": false, \"type\": \"box\", \"x\": [5.45], \"xaxis\": \"x2\", \"yaxis\": \"y2\"}, {\"alignmentgroup\": \"True\", \"bingroup\": \"x\", \"histfunc\": \"sum\", \"hovertemplate\": \"Amount of Sales for Price=1012<br>index=%{x}<br>sum of Amount of Sales for Price=%{y}<extra></extra>\", \"legendgroup\": \"1012\", \"marker\": {\"color\": \"#EF553B\"}, \"name\": \"1012\", \"offsetgroup\": \"1012\", \"orientation\": \"v\", \"showlegend\": true, \"type\": \"histogram\", \"x\": [10.95], \"xaxis\": \"x\", \"y\": [1012], \"yaxis\": \"y\"}, {\"alignmentgroup\": \"True\", \"boxpoints\": \"all\", \"fillcolor\": \"rgba(255,255,255,0)\", \"hoveron\": \"points\", \"hovertemplate\": \"Amount of Sales for Price=1012<br>index=%{x}<extra></extra>\", \"jitter\": 0, \"legendgroup\": \"1012\", \"line\": {\"color\": \"rgba(255,255,255,0)\"}, \"marker\": {\"color\": \"#EF553B\", \"symbol\": \"line-ns-open\"}, \"name\": \"1012\", \"offsetgroup\": \"1012\", \"showlegend\": false, \"type\": \"box\", \"x\": [10.95], \"xaxis\": \"x2\", \"yaxis\": \"y2\"}, {\"alignmentgroup\": \"True\", \"bingroup\": \"x\", \"histfunc\": \"sum\", \"hovertemplate\": \"Amount of Sales for Price=993<br>index=%{x}<br>sum of Amount of Sales for Price=%{y}<extra></extra>\", \"legendgroup\": \"993\", \"marker\": {\"color\": \"#00cc96\"}, \"name\": \"993\", \"offsetgroup\": \"993\", \"orientation\": \"v\", \"showlegend\": true, \"type\": \"histogram\", \"x\": [8.47], \"xaxis\": \"x\", \"y\": [993], \"yaxis\": \"y\"}, {\"alignmentgroup\": \"True\", \"boxpoints\": \"all\", \"fillcolor\": \"rgba(255,255,255,0)\", \"hoveron\": \"points\", \"hovertemplate\": \"Amount of Sales for Price=993<br>index=%{x}<extra></extra>\", \"jitter\": 0, \"legendgroup\": \"993\", \"line\": {\"color\": \"rgba(255,255,255,0)\"}, \"marker\": {\"color\": \"#00cc96\", \"symbol\": \"line-ns-open\"}, \"name\": \"993\", \"offsetgroup\": \"993\", \"showlegend\": false, \"type\": \"box\", \"x\": [8.47], \"xaxis\": \"x2\", \"yaxis\": \"y2\"}, {\"alignmentgroup\": \"True\", \"bingroup\": \"x\", \"histfunc\": \"sum\", \"hovertemplate\": \"Amount of Sales for Price=990<br>index=%{x}<br>sum of Amount of Sales for Price=%{y}<extra></extra>\", \"legendgroup\": \"990\", \"marker\": {\"color\": \"#ab63fa\"}, \"name\": \"990\", \"offsetgroup\": \"990\", \"orientation\": \"v\", \"showlegend\": true, \"type\": \"histogram\", \"x\": [6.63], \"xaxis\": \"x\", \"y\": [990], \"yaxis\": \"y\"}, {\"alignmentgroup\": \"True\", \"boxpoints\": \"all\", \"fillcolor\": \"rgba(255,255,255,0)\", \"hoveron\": \"points\", \"hovertemplate\": \"Amount of Sales for Price=990<br>index=%{x}<extra></extra>\", \"jitter\": 0, \"legendgroup\": \"990\", \"line\": {\"color\": \"rgba(255,255,255,0)\"}, \"marker\": {\"color\": \"#ab63fa\", \"symbol\": \"line-ns-open\"}, \"name\": \"990\", \"offsetgroup\": \"990\", \"showlegend\": false, \"type\": \"box\", \"x\": [6.63], \"xaxis\": \"x2\", \"yaxis\": \"y2\"}, {\"alignmentgroup\": \"True\", \"bingroup\": \"x\", \"histfunc\": \"sum\", \"hovertemplate\": \"Amount of Sales for Price=887<br>index=%{x}<br>sum of Amount of Sales for Price=%{y}<extra></extra>\", \"legendgroup\": \"887\", \"marker\": {\"color\": \"#FFA15A\"}, \"name\": \"887\", \"offsetgroup\": \"887\", \"orientation\": \"v\", \"showlegend\": true, \"type\": \"histogram\", \"x\": [3.39], \"xaxis\": \"x\", \"y\": [887], \"yaxis\": \"y\"}, {\"alignmentgroup\": \"True\", \"boxpoints\": \"all\", \"fillcolor\": \"rgba(255,255,255,0)\", \"hoveron\": \"points\", \"hovertemplate\": \"Amount of Sales for Price=887<br>index=%{x}<extra></extra>\", \"jitter\": 0, \"legendgroup\": \"887\", \"line\": {\"color\": \"rgba(255,255,255,0)\"}, \"marker\": {\"color\": \"#FFA15A\", \"symbol\": \"line-ns-open\"}, \"name\": \"887\", \"offsetgroup\": \"887\", \"showlegend\": false, \"type\": \"box\", \"x\": [3.39], \"xaxis\": \"x2\", \"yaxis\": \"y2\"}, {\"alignmentgroup\": \"True\", \"bingroup\": \"x\", \"histfunc\": \"sum\", \"hovertemplate\": \"Amount of Sales for Price=873<br>index=%{x}<br>sum of Amount of Sales for Price=%{y}<extra></extra>\", \"legendgroup\": \"873\", \"marker\": {\"color\": \"#19d3f3\"}, \"name\": \"873\", \"offsetgroup\": \"873\", \"orientation\": \"v\", \"showlegend\": true, \"type\": \"histogram\", \"x\": [8.95], \"xaxis\": \"x\", \"y\": [873], \"yaxis\": \"y\"}, {\"alignmentgroup\": \"True\", \"boxpoints\": \"all\", \"fillcolor\": \"rgba(255,255,255,0)\", \"hoveron\": \"points\", \"hovertemplate\": \"Amount of Sales for Price=873<br>index=%{x}<extra></extra>\", \"jitter\": 0, \"legendgroup\": \"873\", \"line\": {\"color\": \"rgba(255,255,255,0)\"}, \"marker\": {\"color\": \"#19d3f3\", \"symbol\": \"line-ns-open\"}, \"name\": \"873\", \"offsetgroup\": \"873\", \"showlegend\": false, \"type\": \"box\", \"x\": [8.95], \"xaxis\": \"x2\", \"yaxis\": \"y2\"}, {\"alignmentgroup\": \"True\", \"bingroup\": \"x\", \"histfunc\": \"sum\", \"hovertemplate\": \"Amount of Sales for Price=857<br>index=%{x}<br>sum of Amount of Sales for Price=%{y}<extra></extra>\", \"legendgroup\": \"857\", \"marker\": {\"color\": \"#FF6692\"}, \"name\": \"857\", \"offsetgroup\": \"857\", \"orientation\": \"v\", \"showlegend\": true, \"type\": \"histogram\", \"x\": [15.79], \"xaxis\": \"x\", \"y\": [857], \"yaxis\": \"y\"}, {\"alignmentgroup\": \"True\", \"boxpoints\": \"all\", \"fillcolor\": \"rgba(255,255,255,0)\", \"hoveron\": \"points\", \"hovertemplate\": \"Amount of Sales for Price=857<br>index=%{x}<extra></extra>\", \"jitter\": 0, \"legendgroup\": \"857\", \"line\": {\"color\": \"rgba(255,255,255,0)\"}, \"marker\": {\"color\": \"#FF6692\", \"symbol\": \"line-ns-open\"}, \"name\": \"857\", \"offsetgroup\": \"857\", \"showlegend\": false, \"type\": \"box\", \"x\": [15.79], \"xaxis\": \"x2\", \"yaxis\": \"y2\"}, {\"alignmentgroup\": \"True\", \"bingroup\": \"x\", \"histfunc\": \"sum\", \"hovertemplate\": \"Amount of Sales for Price=853<br>index=%{x}<br>sum of Amount of Sales for Price=%{y}<extra></extra>\", \"legendgroup\": \"853\", \"marker\": {\"color\": \"#B6E880\"}, \"name\": \"853\", \"offsetgroup\": \"853\", \"orientation\": \"v\", \"showlegend\": true, \"type\": \"histogram\", \"x\": [4.65], \"xaxis\": \"x\", \"y\": [853], \"yaxis\": \"y\"}, {\"alignmentgroup\": \"True\", \"boxpoints\": \"all\", \"fillcolor\": \"rgba(255,255,255,0)\", \"hoveron\": \"points\", \"hovertemplate\": \"Amount of Sales for Price=853<br>index=%{x}<extra></extra>\", \"jitter\": 0, \"legendgroup\": \"853\", \"line\": {\"color\": \"rgba(255,255,255,0)\"}, \"marker\": {\"color\": \"#B6E880\", \"symbol\": \"line-ns-open\"}, \"name\": \"853\", \"offsetgroup\": \"853\", \"showlegend\": false, \"type\": \"box\", \"x\": [4.65], \"xaxis\": \"x2\", \"yaxis\": \"y2\"}, {\"alignmentgroup\": \"True\", \"bingroup\": \"x\", \"histfunc\": \"sum\", \"hovertemplate\": \"Amount of Sales for Price=806<br>index=%{x}<br>sum of Amount of Sales for Price=%{y}<extra></extra>\", \"legendgroup\": \"806\", \"marker\": {\"color\": \"#FF97FF\"}, \"name\": \"806\", \"offsetgroup\": \"806\", \"orientation\": \"v\", \"showlegend\": true, \"type\": \"histogram\", \"x\": [1.49], \"xaxis\": \"x\", \"y\": [806], \"yaxis\": \"y\"}, {\"alignmentgroup\": \"True\", \"boxpoints\": \"all\", \"fillcolor\": \"rgba(255,255,255,0)\", \"hoveron\": \"points\", \"hovertemplate\": \"Amount of Sales for Price=806<br>index=%{x}<extra></extra>\", \"jitter\": 0, \"legendgroup\": \"806\", \"line\": {\"color\": \"rgba(255,255,255,0)\"}, \"marker\": {\"color\": \"#FF97FF\", \"symbol\": \"line-ns-open\"}, \"name\": \"806\", \"offsetgroup\": \"806\", \"showlegend\": false, \"type\": \"box\", \"x\": [1.49], \"xaxis\": \"x2\", \"yaxis\": \"y2\"}, {\"alignmentgroup\": \"True\", \"bingroup\": \"x\", \"histfunc\": \"sum\", \"hovertemplate\": \"Amount of Sales for Price=779<br>index=%{x}<br>sum of Amount of Sales for Price=%{y}<extra></extra>\", \"legendgroup\": \"779\", \"marker\": {\"color\": \"#FECB52\"}, \"name\": \"779\", \"offsetgroup\": \"779\", \"orientation\": \"v\", \"showlegend\": true, \"type\": \"histogram\", \"x\": [24.96], \"xaxis\": \"x\", \"y\": [779], \"yaxis\": \"y\"}, {\"alignmentgroup\": \"True\", \"boxpoints\": \"all\", \"fillcolor\": \"rgba(255,255,255,0)\", \"hoveron\": \"points\", \"hovertemplate\": \"Amount of Sales for Price=779<br>index=%{x}<extra></extra>\", \"jitter\": 0, \"legendgroup\": \"779\", \"line\": {\"color\": \"rgba(255,255,255,0)\"}, \"marker\": {\"color\": \"#FECB52\", \"symbol\": \"line-ns-open\"}, \"name\": \"779\", \"offsetgroup\": \"779\", \"showlegend\": false, \"type\": \"box\", \"x\": [24.96], \"xaxis\": \"x2\", \"yaxis\": \"y2\"}, {\"alignmentgroup\": \"True\", \"bingroup\": \"x\", \"histfunc\": \"sum\", \"hovertemplate\": \"Amount of Sales for Price=767<br>index=%{x}<br>sum of Amount of Sales for Price=%{y}<extra></extra>\", \"legendgroup\": \"767\", \"marker\": {\"color\": \"#636efa\"}, \"name\": \"767\", \"offsetgroup\": \"767\", \"orientation\": \"v\", \"showlegend\": true, \"type\": \"histogram\", \"x\": [5.75], \"xaxis\": \"x\", \"y\": [767], \"yaxis\": \"y\"}, {\"alignmentgroup\": \"True\", \"boxpoints\": \"all\", \"fillcolor\": \"rgba(255,255,255,0)\", \"hoveron\": \"points\", \"hovertemplate\": \"Amount of Sales for Price=767<br>index=%{x}<extra></extra>\", \"jitter\": 0, \"legendgroup\": \"767\", \"line\": {\"color\": \"rgba(255,255,255,0)\"}, \"marker\": {\"color\": \"#636efa\", \"symbol\": \"line-ns-open\"}, \"name\": \"767\", \"offsetgroup\": \"767\", \"showlegend\": false, \"type\": \"box\", \"x\": [5.75], \"xaxis\": \"x2\", \"yaxis\": \"y2\"}, {\"alignmentgroup\": \"True\", \"bingroup\": \"x\", \"histfunc\": \"sum\", \"hovertemplate\": \"Amount of Sales for Price=754<br>index=%{x}<br>sum of Amount of Sales for Price=%{y}<extra></extra>\", \"legendgroup\": \"754\", \"marker\": {\"color\": \"#EF553B\"}, \"name\": \"754\", \"offsetgroup\": \"754\", \"orientation\": \"v\", \"showlegend\": true, \"type\": \"histogram\", \"x\": [1.85], \"xaxis\": \"x\", \"y\": [754], \"yaxis\": \"y\"}, {\"alignmentgroup\": \"True\", \"boxpoints\": \"all\", \"fillcolor\": \"rgba(255,255,255,0)\", \"hoveron\": \"points\", \"hovertemplate\": \"Amount of Sales for Price=754<br>index=%{x}<extra></extra>\", \"jitter\": 0, \"legendgroup\": \"754\", \"line\": {\"color\": \"rgba(255,255,255,0)\"}, \"marker\": {\"color\": \"#EF553B\", \"symbol\": \"line-ns-open\"}, \"name\": \"754\", \"offsetgroup\": \"754\", \"showlegend\": false, \"type\": \"box\", \"x\": [1.85], \"xaxis\": \"x2\", \"yaxis\": \"y2\"}, {\"alignmentgroup\": \"True\", \"bingroup\": \"x\", \"histfunc\": \"sum\", \"hovertemplate\": \"Amount of Sales for Price=735<br>index=%{x}<br>sum of Amount of Sales for Price=%{y}<extra></extra>\", \"legendgroup\": \"735\", \"marker\": {\"color\": \"#00cc96\"}, \"name\": \"735\", \"offsetgroup\": \"735\", \"orientation\": \"v\", \"showlegend\": true, \"type\": \"histogram\", \"x\": [5.06], \"xaxis\": \"x\", \"y\": [735], \"yaxis\": \"y\"}, {\"alignmentgroup\": \"True\", \"boxpoints\": \"all\", \"fillcolor\": \"rgba(255,255,255,0)\", \"hoveron\": \"points\", \"hovertemplate\": \"Amount of Sales for Price=735<br>index=%{x}<extra></extra>\", \"jitter\": 0, \"legendgroup\": \"735\", \"line\": {\"color\": \"rgba(255,255,255,0)\"}, \"marker\": {\"color\": \"#00cc96\", \"symbol\": \"line-ns-open\"}, \"name\": \"735\", \"offsetgroup\": \"735\", \"showlegend\": false, \"type\": \"box\", \"x\": [5.06], \"xaxis\": \"x2\", \"yaxis\": \"y2\"}, {\"alignmentgroup\": \"True\", \"bingroup\": \"x\", \"histfunc\": \"sum\", \"hovertemplate\": \"Amount of Sales for Price=722<br>index=%{x}<br>sum of Amount of Sales for Price=%{y}<extra></extra>\", \"legendgroup\": \"722\", \"marker\": {\"color\": \"#ab63fa\"}, \"name\": \"722\", \"offsetgroup\": \"722\", \"orientation\": \"v\", \"showlegend\": true, \"type\": \"histogram\", \"x\": [18.0], \"xaxis\": \"x\", \"y\": [722], \"yaxis\": \"y\"}, {\"alignmentgroup\": \"True\", \"boxpoints\": \"all\", \"fillcolor\": \"rgba(255,255,255,0)\", \"hoveron\": \"points\", \"hovertemplate\": \"Amount of Sales for Price=722<br>index=%{x}<extra></extra>\", \"jitter\": 0, \"legendgroup\": \"722\", \"line\": {\"color\": \"rgba(255,255,255,0)\"}, \"marker\": {\"color\": \"#ab63fa\", \"symbol\": \"line-ns-open\"}, \"name\": \"722\", \"offsetgroup\": \"722\", \"showlegend\": false, \"type\": \"box\", \"x\": [18.0], \"xaxis\": \"x2\", \"yaxis\": \"y2\"}, {\"alignmentgroup\": \"True\", \"bingroup\": \"x\", \"histfunc\": \"sum\", \"hovertemplate\": \"Amount of Sales for Price=691<br>index=%{x}<br>sum of Amount of Sales for Price=%{y}<extra></extra>\", \"legendgroup\": \"691\", \"marker\": {\"color\": \"#FFA15A\"}, \"name\": \"691\", \"offsetgroup\": \"691\", \"orientation\": \"v\", \"showlegend\": true, \"type\": \"histogram\", \"x\": [7.62], \"xaxis\": \"x\", \"y\": [691], \"yaxis\": \"y\"}, {\"alignmentgroup\": \"True\", \"boxpoints\": \"all\", \"fillcolor\": \"rgba(255,255,255,0)\", \"hoveron\": \"points\", \"hovertemplate\": \"Amount of Sales for Price=691<br>index=%{x}<extra></extra>\", \"jitter\": 0, \"legendgroup\": \"691\", \"line\": {\"color\": \"rgba(255,255,255,0)\"}, \"marker\": {\"color\": \"#FFA15A\", \"symbol\": \"line-ns-open\"}, \"name\": \"691\", \"offsetgroup\": \"691\", \"showlegend\": false, \"type\": \"box\", \"x\": [7.62], \"xaxis\": \"x2\", \"yaxis\": \"y2\"}, {\"alignmentgroup\": \"True\", \"bingroup\": \"x\", \"histfunc\": \"sum\", \"hovertemplate\": \"Amount of Sales for Price=671<br>index=%{x}<br>sum of Amount of Sales for Price=%{y}<extra></extra>\", \"legendgroup\": \"671\", \"marker\": {\"color\": \"#19d3f3\"}, \"name\": \"671\", \"offsetgroup\": \"671\", \"orientation\": \"v\", \"showlegend\": true, \"type\": \"histogram\", \"x\": [7.5], \"xaxis\": \"x\", \"y\": [671], \"yaxis\": \"y\"}, {\"alignmentgroup\": \"True\", \"boxpoints\": \"all\", \"fillcolor\": \"rgba(255,255,255,0)\", \"hoveron\": \"points\", \"hovertemplate\": \"Amount of Sales for Price=671<br>index=%{x}<extra></extra>\", \"jitter\": 0, \"legendgroup\": \"671\", \"line\": {\"color\": \"rgba(255,255,255,0)\"}, \"marker\": {\"color\": \"#19d3f3\", \"symbol\": \"line-ns-open\"}, \"name\": \"671\", \"offsetgroup\": \"671\", \"showlegend\": false, \"type\": \"box\", \"x\": [7.5], \"xaxis\": \"x2\", \"yaxis\": \"y2\"}, {\"alignmentgroup\": \"True\", \"bingroup\": \"x\", \"histfunc\": \"sum\", \"hovertemplate\": \"Amount of Sales for Price=641<br>index=%{x}<br>sum of Amount of Sales for Price=%{y}<extra></extra>\", \"legendgroup\": \"641\", \"marker\": {\"color\": \"#FF6692\"}, \"name\": \"641\", \"offsetgroup\": \"641\", \"orientation\": \"v\", \"showlegend\": true, \"type\": \"histogram\", \"x\": [0.12], \"xaxis\": \"x\", \"y\": [641], \"yaxis\": \"y\"}, {\"alignmentgroup\": \"True\", \"boxpoints\": \"all\", \"fillcolor\": \"rgba(255,255,255,0)\", \"hoveron\": \"points\", \"hovertemplate\": \"Amount of Sales for Price=641<br>index=%{x}<extra></extra>\", \"jitter\": 0, \"legendgroup\": \"641\", \"line\": {\"color\": \"rgba(255,255,255,0)\"}, \"marker\": {\"color\": \"#FF6692\", \"symbol\": \"line-ns-open\"}, \"name\": \"641\", \"offsetgroup\": \"641\", \"showlegend\": false, \"type\": \"box\", \"x\": [0.12], \"xaxis\": \"x2\", \"yaxis\": \"y2\"}, {\"alignmentgroup\": \"True\", \"bingroup\": \"x\", \"histfunc\": \"sum\", \"hovertemplate\": \"Amount of Sales for Price=600<br>index=%{x}<br>sum of Amount of Sales for Price=%{y}<extra></extra>\", \"legendgroup\": \"600\", \"marker\": {\"color\": \"#B6E880\"}, \"name\": \"600\", \"offsetgroup\": \"600\", \"orientation\": \"v\", \"showlegend\": true, \"type\": \"histogram\", \"x\": [0.75], \"xaxis\": \"x\", \"y\": [600], \"yaxis\": \"y\"}, {\"alignmentgroup\": \"True\", \"boxpoints\": \"all\", \"fillcolor\": \"rgba(255,255,255,0)\", \"hoveron\": \"points\", \"hovertemplate\": \"Amount of Sales for Price=600<br>index=%{x}<extra></extra>\", \"jitter\": 0, \"legendgroup\": \"600\", \"line\": {\"color\": \"rgba(255,255,255,0)\"}, \"marker\": {\"color\": \"#B6E880\", \"symbol\": \"line-ns-open\"}, \"name\": \"600\", \"offsetgroup\": \"600\", \"showlegend\": false, \"type\": \"box\", \"x\": [0.75], \"xaxis\": \"x2\", \"yaxis\": \"y2\"}, {\"alignmentgroup\": \"True\", \"bingroup\": \"x\", \"histfunc\": \"sum\", \"hovertemplate\": \"Amount of Sales for Price=583<br>index=%{x}<br>sum of Amount of Sales for Price=%{y}<extra></extra>\", \"legendgroup\": \"583\", \"marker\": {\"color\": \"#FF97FF\"}, \"name\": \"583\", \"offsetgroup\": \"583\", \"orientation\": \"v\", \"showlegend\": true, \"type\": \"histogram\", \"x\": [0.63], \"xaxis\": \"x\", \"y\": [583], \"yaxis\": \"y\"}, {\"alignmentgroup\": \"True\", \"boxpoints\": \"all\", \"fillcolor\": \"rgba(255,255,255,0)\", \"hoveron\": \"points\", \"hovertemplate\": \"Amount of Sales for Price=583<br>index=%{x}<extra></extra>\", \"jitter\": 0, \"legendgroup\": \"583\", \"line\": {\"color\": \"rgba(255,255,255,0)\"}, \"marker\": {\"color\": \"#FF97FF\", \"symbol\": \"line-ns-open\"}, \"name\": \"583\", \"offsetgroup\": \"583\", \"showlegend\": false, \"type\": \"box\", \"x\": [0.63], \"xaxis\": \"x2\", \"yaxis\": \"y2\"}, {\"alignmentgroup\": \"True\", \"bingroup\": \"x\", \"histfunc\": \"sum\", \"hovertemplate\": \"Amount of Sales for Price=576<br>index=%{x}<br>sum of Amount of Sales for Price=%{y}<extra></extra>\", \"legendgroup\": \"576\", \"marker\": {\"color\": \"#FECB52\"}, \"name\": \"576\", \"offsetgroup\": \"576\", \"orientation\": \"v\", \"showlegend\": true, \"type\": \"histogram\", \"x\": [2.92], \"xaxis\": \"x\", \"y\": [576], \"yaxis\": \"y\"}, {\"alignmentgroup\": \"True\", \"boxpoints\": \"all\", \"fillcolor\": \"rgba(255,255,255,0)\", \"hoveron\": \"points\", \"hovertemplate\": \"Amount of Sales for Price=576<br>index=%{x}<extra></extra>\", \"jitter\": 0, \"legendgroup\": \"576\", \"line\": {\"color\": \"rgba(255,255,255,0)\"}, \"marker\": {\"color\": \"#FECB52\", \"symbol\": \"line-ns-open\"}, \"name\": \"576\", \"offsetgroup\": \"576\", \"showlegend\": false, \"type\": \"box\", \"x\": [2.92], \"xaxis\": \"x2\", \"yaxis\": \"y2\"}, {\"alignmentgroup\": \"True\", \"bingroup\": \"x\", \"histfunc\": \"sum\", \"hovertemplate\": \"Amount of Sales for Price=563<br>index=%{x}<br>sum of Amount of Sales for Price=%{y}<extra></extra>\", \"legendgroup\": \"563\", \"marker\": {\"color\": \"#636efa\"}, \"name\": \"563\", \"offsetgroup\": \"563\", \"orientation\": \"v\", \"showlegend\": true, \"type\": \"histogram\", \"x\": [9.96], \"xaxis\": \"x\", \"y\": [563], \"yaxis\": \"y\"}, {\"alignmentgroup\": \"True\", \"boxpoints\": \"all\", \"fillcolor\": \"rgba(255,255,255,0)\", \"hoveron\": \"points\", \"hovertemplate\": \"Amount of Sales for Price=563<br>index=%{x}<extra></extra>\", \"jitter\": 0, \"legendgroup\": \"563\", \"line\": {\"color\": \"rgba(255,255,255,0)\"}, \"marker\": {\"color\": \"#636efa\", \"symbol\": \"line-ns-open\"}, \"name\": \"563\", \"offsetgroup\": \"563\", \"showlegend\": false, \"type\": \"box\", \"x\": [9.96], \"xaxis\": \"x2\", \"yaxis\": \"y2\"}, {\"alignmentgroup\": \"True\", \"bingroup\": \"x\", \"histfunc\": \"sum\", \"hovertemplate\": \"Amount of Sales for Price=545<br>index=%{x}<br>sum of Amount of Sales for Price=%{y}<extra></extra>\", \"legendgroup\": \"545\", \"marker\": {\"color\": \"#EF553B\"}, \"name\": \"545\", \"offsetgroup\": \"545\", \"orientation\": \"v\", \"showlegend\": true, \"type\": \"histogram\", \"x\": [7.65], \"xaxis\": \"x\", \"y\": [545], \"yaxis\": \"y\"}, {\"alignmentgroup\": \"True\", \"boxpoints\": \"all\", \"fillcolor\": \"rgba(255,255,255,0)\", \"hoveron\": \"points\", \"hovertemplate\": \"Amount of Sales for Price=545<br>index=%{x}<extra></extra>\", \"jitter\": 0, \"legendgroup\": \"545\", \"line\": {\"color\": \"rgba(255,255,255,0)\"}, \"marker\": {\"color\": \"#EF553B\", \"symbol\": \"line-ns-open\"}, \"name\": \"545\", \"offsetgroup\": \"545\", \"showlegend\": false, \"type\": \"box\", \"x\": [7.65], \"xaxis\": \"x2\", \"yaxis\": \"y2\"}, {\"alignmentgroup\": \"True\", \"bingroup\": \"x\", \"histfunc\": \"sum\", \"hovertemplate\": \"Amount of Sales for Price=534<br>index=%{x}<br>sum of Amount of Sales for Price=%{y}<extra></extra>\", \"legendgroup\": \"534\", \"marker\": {\"color\": \"#00cc96\"}, \"name\": \"534\", \"offsetgroup\": \"534\", \"orientation\": \"v\", \"showlegend\": true, \"type\": \"histogram\", \"x\": [0.43], \"xaxis\": \"x\", \"y\": [534], \"yaxis\": \"y\"}, {\"alignmentgroup\": \"True\", \"boxpoints\": \"all\", \"fillcolor\": \"rgba(255,255,255,0)\", \"hoveron\": \"points\", \"hovertemplate\": \"Amount of Sales for Price=534<br>index=%{x}<extra></extra>\", \"jitter\": 0, \"legendgroup\": \"534\", \"line\": {\"color\": \"rgba(255,255,255,0)\"}, \"marker\": {\"color\": \"#00cc96\", \"symbol\": \"line-ns-open\"}, \"name\": \"534\", \"offsetgroup\": \"534\", \"showlegend\": false, \"type\": \"box\", \"x\": [0.43], \"xaxis\": \"x2\", \"yaxis\": \"y2\"}, {\"alignmentgroup\": \"True\", \"bingroup\": \"x\", \"histfunc\": \"sum\", \"hovertemplate\": \"Amount of Sales for Price=517<br>index=%{x}<br>sum of Amount of Sales for Price=%{y}<extra></extra>\", \"legendgroup\": \"517\", \"marker\": {\"color\": \"#ab63fa\"}, \"name\": \"517\", \"offsetgroup\": \"517\", \"orientation\": \"v\", \"showlegend\": true, \"type\": \"histogram\", \"x\": [1.28], \"xaxis\": \"x\", \"y\": [517], \"yaxis\": \"y\"}, {\"alignmentgroup\": \"True\", \"boxpoints\": \"all\", \"fillcolor\": \"rgba(255,255,255,0)\", \"hoveron\": \"points\", \"hovertemplate\": \"Amount of Sales for Price=517<br>index=%{x}<extra></extra>\", \"jitter\": 0, \"legendgroup\": \"517\", \"line\": {\"color\": \"rgba(255,255,255,0)\"}, \"marker\": {\"color\": \"#ab63fa\", \"symbol\": \"line-ns-open\"}, \"name\": \"517\", \"offsetgroup\": \"517\", \"showlegend\": false, \"type\": \"box\", \"x\": [1.28], \"xaxis\": \"x2\", \"yaxis\": \"y2\"}, {\"alignmentgroup\": \"True\", \"bingroup\": \"x\", \"histfunc\": \"sum\", \"hovertemplate\": \"Amount of Sales for Price=507<br>index=%{x}<br>sum of Amount of Sales for Price=%{y}<extra></extra>\", \"legendgroup\": \"507\", \"marker\": {\"color\": \"#FFA15A\"}, \"name\": \"507\", \"offsetgroup\": \"507\", \"orientation\": \"v\", \"showlegend\": true, \"type\": \"histogram\", \"x\": [14.13], \"xaxis\": \"x\", \"y\": [507], \"yaxis\": \"y\"}, {\"alignmentgroup\": \"True\", \"boxpoints\": \"all\", \"fillcolor\": \"rgba(255,255,255,0)\", \"hoveron\": \"points\", \"hovertemplate\": \"Amount of Sales for Price=507<br>index=%{x}<extra></extra>\", \"jitter\": 0, \"legendgroup\": \"507\", \"line\": {\"color\": \"rgba(255,255,255,0)\"}, \"marker\": {\"color\": \"#FFA15A\", \"symbol\": \"line-ns-open\"}, \"name\": \"507\", \"offsetgroup\": \"507\", \"showlegend\": false, \"type\": \"box\", \"x\": [14.13], \"xaxis\": \"x2\", \"yaxis\": \"y2\"}, {\"alignmentgroup\": \"True\", \"bingroup\": \"x\", \"histfunc\": \"sum\", \"hovertemplate\": \"Amount of Sales for Price=500<br>index=%{x}<br>sum of Amount of Sales for Price=%{y}<extra></extra>\", \"legendgroup\": \"500\", \"marker\": {\"color\": \"#19d3f3\"}, \"name\": \"500\", \"offsetgroup\": \"500\", \"orientation\": \"v\", \"showlegend\": true, \"type\": \"histogram\", \"x\": [0.36], \"xaxis\": \"x\", \"y\": [500], \"yaxis\": \"y\"}, {\"alignmentgroup\": \"True\", \"boxpoints\": \"all\", \"fillcolor\": \"rgba(255,255,255,0)\", \"hoveron\": \"points\", \"hovertemplate\": \"Amount of Sales for Price=500<br>index=%{x}<extra></extra>\", \"jitter\": 0, \"legendgroup\": \"500\", \"line\": {\"color\": \"rgba(255,255,255,0)\"}, \"marker\": {\"color\": \"#19d3f3\", \"symbol\": \"line-ns-open\"}, \"name\": \"500\", \"offsetgroup\": \"500\", \"showlegend\": false, \"type\": \"box\", \"x\": [0.36], \"xaxis\": \"x2\", \"yaxis\": \"y2\"}, {\"alignmentgroup\": \"True\", \"bingroup\": \"x\", \"histfunc\": \"sum\", \"hovertemplate\": \"Amount of Sales for Price=459<br>index=%{x}<br>sum of Amount of Sales for Price=%{y}<extra></extra>\", \"legendgroup\": \"459\", \"marker\": {\"color\": \"#FF6692\"}, \"name\": \"459\", \"offsetgroup\": \"459\", \"orientation\": \"v\", \"showlegend\": true, \"type\": \"histogram\", \"x\": [20.79], \"xaxis\": \"x\", \"y\": [459], \"yaxis\": \"y\"}, {\"alignmentgroup\": \"True\", \"boxpoints\": \"all\", \"fillcolor\": \"rgba(255,255,255,0)\", \"hoveron\": \"points\", \"hovertemplate\": \"Amount of Sales for Price=459<br>index=%{x}<extra></extra>\", \"jitter\": 0, \"legendgroup\": \"459\", \"line\": {\"color\": \"rgba(255,255,255,0)\"}, \"marker\": {\"color\": \"#FF6692\", \"symbol\": \"line-ns-open\"}, \"name\": \"459\", \"offsetgroup\": \"459\", \"showlegend\": false, \"type\": \"box\", \"x\": [20.79], \"xaxis\": \"x2\", \"yaxis\": \"y2\"}, {\"alignmentgroup\": \"True\", \"bingroup\": \"x\", \"histfunc\": \"sum\", \"hovertemplate\": \"Amount of Sales for Price=445<br>index=%{x}<br>sum of Amount of Sales for Price=%{y}<extra></extra>\", \"legendgroup\": \"445\", \"marker\": {\"color\": \"#B6E880\"}, \"name\": \"445\", \"offsetgroup\": \"445\", \"orientation\": \"v\", \"showlegend\": true, \"type\": \"histogram\", \"x\": [6.35], \"xaxis\": \"x\", \"y\": [445], \"yaxis\": \"y\"}, {\"alignmentgroup\": \"True\", \"boxpoints\": \"all\", \"fillcolor\": \"rgba(255,255,255,0)\", \"hoveron\": \"points\", \"hovertemplate\": \"Amount of Sales for Price=445<br>index=%{x}<extra></extra>\", \"jitter\": 0, \"legendgroup\": \"445\", \"line\": {\"color\": \"rgba(255,255,255,0)\"}, \"marker\": {\"color\": \"#B6E880\", \"symbol\": \"line-ns-open\"}, \"name\": \"445\", \"offsetgroup\": \"445\", \"showlegend\": false, \"type\": \"box\", \"x\": [6.35], \"xaxis\": \"x2\", \"yaxis\": \"y2\"}, {\"alignmentgroup\": \"True\", \"bingroup\": \"x\", \"histfunc\": \"sum\", \"hovertemplate\": \"Amount of Sales for Price=438<br>index=%{x}<br>sum of Amount of Sales for Price=%{y}<extra></extra>\", \"legendgroup\": \"438\", \"marker\": {\"color\": \"#FF97FF\"}, \"name\": \"438\", \"offsetgroup\": \"438\", \"orientation\": \"v\", \"showlegend\": true, \"type\": \"histogram\", \"x\": [19.96], \"xaxis\": \"x\", \"y\": [438], \"yaxis\": \"y\"}, {\"alignmentgroup\": \"True\", \"boxpoints\": \"all\", \"fillcolor\": \"rgba(255,255,255,0)\", \"hoveron\": \"points\", \"hovertemplate\": \"Amount of Sales for Price=438<br>index=%{x}<extra></extra>\", \"jitter\": 0, \"legendgroup\": \"438\", \"line\": {\"color\": \"rgba(255,255,255,0)\"}, \"marker\": {\"color\": \"#FF97FF\", \"symbol\": \"line-ns-open\"}, \"name\": \"438\", \"offsetgroup\": \"438\", \"showlegend\": false, \"type\": \"box\", \"x\": [19.96], \"xaxis\": \"x2\", \"yaxis\": \"y2\"}, {\"alignmentgroup\": \"True\", \"bingroup\": \"x\", \"histfunc\": \"sum\", \"hovertemplate\": \"Amount of Sales for Price=378<br>index=%{x}<br>sum of Amount of Sales for Price=%{y}<extra></extra>\", \"legendgroup\": \"378\", \"marker\": {\"color\": \"#FECB52\"}, \"name\": \"378\", \"offsetgroup\": \"378\", \"orientation\": \"v\", \"showlegend\": true, \"type\": \"histogram\", \"x\": [13.29], \"xaxis\": \"x\", \"y\": [378], \"yaxis\": \"y\"}, {\"alignmentgroup\": \"True\", \"boxpoints\": \"all\", \"fillcolor\": \"rgba(255,255,255,0)\", \"hoveron\": \"points\", \"hovertemplate\": \"Amount of Sales for Price=378<br>index=%{x}<extra></extra>\", \"jitter\": 0, \"legendgroup\": \"378\", \"line\": {\"color\": \"rgba(255,255,255,0)\"}, \"marker\": {\"color\": \"#FECB52\", \"symbol\": \"line-ns-open\"}, \"name\": \"378\", \"offsetgroup\": \"378\", \"showlegend\": false, \"type\": \"box\", \"x\": [13.29], \"xaxis\": \"x2\", \"yaxis\": \"y2\"}, {\"alignmentgroup\": \"True\", \"bingroup\": \"x\", \"histfunc\": \"sum\", \"hovertemplate\": \"Amount of Sales for Price=357<br>index=%{x}<br>sum of Amount of Sales for Price=%{y}<extra></extra>\", \"legendgroup\": \"357\", \"marker\": {\"color\": \"#636efa\"}, \"name\": \"357\", \"offsetgroup\": \"357\", \"orientation\": \"v\", \"showlegend\": true, \"type\": \"histogram\", \"x\": [11.02], \"xaxis\": \"x\", \"y\": [357], \"yaxis\": \"y\"}, {\"alignmentgroup\": \"True\", \"boxpoints\": \"all\", \"fillcolor\": \"rgba(255,255,255,0)\", \"hoveron\": \"points\", \"hovertemplate\": \"Amount of Sales for Price=357<br>index=%{x}<extra></extra>\", \"jitter\": 0, \"legendgroup\": \"357\", \"line\": {\"color\": \"rgba(255,255,255,0)\"}, \"marker\": {\"color\": \"#636efa\", \"symbol\": \"line-ns-open\"}, \"name\": \"357\", \"offsetgroup\": \"357\", \"showlegend\": false, \"type\": \"box\", \"x\": [11.02], \"xaxis\": \"x2\", \"yaxis\": \"y2\"}, {\"alignmentgroup\": \"True\", \"bingroup\": \"x\", \"histfunc\": \"sum\", \"hovertemplate\": \"Amount of Sales for Price=341<br>index=%{x}<br>sum of Amount of Sales for Price=%{y}<extra></extra>\", \"legendgroup\": \"341\", \"marker\": {\"color\": \"#EF553B\"}, \"name\": \"341\", \"offsetgroup\": \"341\", \"orientation\": \"v\", \"showlegend\": true, \"type\": \"histogram\", \"x\": [7.08], \"xaxis\": \"x\", \"y\": [341], \"yaxis\": \"y\"}, {\"alignmentgroup\": \"True\", \"boxpoints\": \"all\", \"fillcolor\": \"rgba(255,255,255,0)\", \"hoveron\": \"points\", \"hovertemplate\": \"Amount of Sales for Price=341<br>index=%{x}<extra></extra>\", \"jitter\": 0, \"legendgroup\": \"341\", \"line\": {\"color\": \"rgba(255,255,255,0)\"}, \"marker\": {\"color\": \"#EF553B\", \"symbol\": \"line-ns-open\"}, \"name\": \"341\", \"offsetgroup\": \"341\", \"showlegend\": false, \"type\": \"box\", \"x\": [7.08], \"xaxis\": \"x2\", \"yaxis\": \"y2\"}, {\"alignmentgroup\": \"True\", \"bingroup\": \"x\", \"histfunc\": \"sum\", \"hovertemplate\": \"Amount of Sales for Price=337<br>index=%{x}<br>sum of Amount of Sales for Price=%{y}<extra></extra>\", \"legendgroup\": \"337\", \"marker\": {\"color\": \"#00cc96\"}, \"name\": \"337\", \"offsetgroup\": \"337\", \"orientation\": \"v\", \"showlegend\": true, \"type\": \"histogram\", \"x\": [0.38], \"xaxis\": \"x\", \"y\": [337], \"yaxis\": \"y\"}, {\"alignmentgroup\": \"True\", \"boxpoints\": \"all\", \"fillcolor\": \"rgba(255,255,255,0)\", \"hoveron\": \"points\", \"hovertemplate\": \"Amount of Sales for Price=337<br>index=%{x}<extra></extra>\", \"jitter\": 0, \"legendgroup\": \"337\", \"line\": {\"color\": \"rgba(255,255,255,0)\"}, \"marker\": {\"color\": \"#00cc96\", \"symbol\": \"line-ns-open\"}, \"name\": \"337\", \"offsetgroup\": \"337\", \"showlegend\": false, \"type\": \"box\", \"x\": [0.38], \"xaxis\": \"x2\", \"yaxis\": \"y2\"}, {\"alignmentgroup\": \"True\", \"bingroup\": \"x\", \"histfunc\": \"sum\", \"hovertemplate\": \"Amount of Sales for Price=326<br>index=%{x}<br>sum of Amount of Sales for Price=%{y}<extra></extra>\", \"legendgroup\": \"326\", \"marker\": {\"color\": \"#ab63fa\"}, \"name\": \"326\", \"offsetgroup\": \"326\", \"orientation\": \"v\", \"showlegend\": true, \"type\": \"histogram\", \"x\": [2.9], \"xaxis\": \"x\", \"y\": [326], \"yaxis\": \"y\"}, {\"alignmentgroup\": \"True\", \"boxpoints\": \"all\", \"fillcolor\": \"rgba(255,255,255,0)\", \"hoveron\": \"points\", \"hovertemplate\": \"Amount of Sales for Price=326<br>index=%{x}<extra></extra>\", \"jitter\": 0, \"legendgroup\": \"326\", \"line\": {\"color\": \"rgba(255,255,255,0)\"}, \"marker\": {\"color\": \"#ab63fa\", \"symbol\": \"line-ns-open\"}, \"name\": \"326\", \"offsetgroup\": \"326\", \"showlegend\": false, \"type\": \"box\", \"x\": [2.9], \"xaxis\": \"x2\", \"yaxis\": \"y2\"}, {\"alignmentgroup\": \"True\", \"bingroup\": \"x\", \"histfunc\": \"sum\", \"hovertemplate\": \"Amount of Sales for Price=308<br>index=%{x}<br>sum of Amount of Sales for Price=%{y}<extra></extra>\", \"legendgroup\": \"308\", \"marker\": {\"color\": \"#FFA15A\"}, \"name\": \"308\", \"offsetgroup\": \"308\", \"orientation\": \"v\", \"showlegend\": true, \"type\": \"histogram\", \"x\": [0.82], \"xaxis\": \"x\", \"y\": [308], \"yaxis\": \"y\"}, {\"alignmentgroup\": \"True\", \"boxpoints\": \"all\", \"fillcolor\": \"rgba(255,255,255,0)\", \"hoveron\": \"points\", \"hovertemplate\": \"Amount of Sales for Price=308<br>index=%{x}<extra></extra>\", \"jitter\": 0, \"legendgroup\": \"308\", \"line\": {\"color\": \"rgba(255,255,255,0)\"}, \"marker\": {\"color\": \"#FFA15A\", \"symbol\": \"line-ns-open\"}, \"name\": \"308\", \"offsetgroup\": \"308\", \"showlegend\": false, \"type\": \"box\", \"x\": [0.82], \"xaxis\": \"x2\", \"yaxis\": \"y2\"}, {\"alignmentgroup\": \"True\", \"bingroup\": \"x\", \"histfunc\": \"sum\", \"hovertemplate\": \"Amount of Sales for Price=304<br>index=%{x}<br>sum of Amount of Sales for Price=%{y}<extra></extra>\", \"legendgroup\": \"304\", \"marker\": {\"color\": \"#19d3f3\"}, \"name\": \"304\", \"offsetgroup\": \"304\", \"orientation\": \"v\", \"showlegend\": true, \"type\": \"histogram\", \"x\": [11.63], \"xaxis\": \"x\", \"y\": [304], \"yaxis\": \"y\"}, {\"alignmentgroup\": \"True\", \"boxpoints\": \"all\", \"fillcolor\": \"rgba(255,255,255,0)\", \"hoveron\": \"points\", \"hovertemplate\": \"Amount of Sales for Price=304<br>index=%{x}<extra></extra>\", \"jitter\": 0, \"legendgroup\": \"304\", \"line\": {\"color\": \"rgba(255,255,255,0)\"}, \"marker\": {\"color\": \"#19d3f3\", \"symbol\": \"line-ns-open\"}, \"name\": \"304\", \"offsetgroup\": \"304\", \"showlegend\": false, \"type\": \"box\", \"x\": [11.63], \"xaxis\": \"x2\", \"yaxis\": \"y2\"}, {\"alignmentgroup\": \"True\", \"bingroup\": \"x\", \"histfunc\": \"sum\", \"hovertemplate\": \"Amount of Sales for Price=303<br>index=%{x}<br>sum of Amount of Sales for Price=%{y}<extra></extra>\", \"legendgroup\": \"303\", \"marker\": {\"color\": \"#FF6692\"}, \"name\": \"303\", \"offsetgroup\": \"303\", \"orientation\": \"v\", \"showlegend\": true, \"type\": \"histogram\", \"x\": [3.45], \"xaxis\": \"x\", \"y\": [303], \"yaxis\": \"y\"}, {\"alignmentgroup\": \"True\", \"boxpoints\": \"all\", \"fillcolor\": \"rgba(255,255,255,0)\", \"hoveron\": \"points\", \"hovertemplate\": \"Amount of Sales for Price=303<br>index=%{x}<extra></extra>\", \"jitter\": 0, \"legendgroup\": \"303\", \"line\": {\"color\": \"rgba(255,255,255,0)\"}, \"marker\": {\"color\": \"#FF6692\", \"symbol\": \"line-ns-open\"}, \"name\": \"303\", \"offsetgroup\": \"303\", \"showlegend\": false, \"type\": \"box\", \"x\": [3.45], \"xaxis\": \"x2\", \"yaxis\": \"y2\"}, {\"alignmentgroup\": \"True\", \"bingroup\": \"x\", \"histfunc\": \"sum\", \"hovertemplate\": \"Amount of Sales for Price=296<br>index=%{x}<br>sum of Amount of Sales for Price=%{y}<extra></extra>\", \"legendgroup\": \"296\", \"marker\": {\"color\": \"#B6E880\"}, \"name\": \"296\", \"offsetgroup\": \"296\", \"orientation\": \"v\", \"showlegend\": true, \"type\": \"histogram\", \"x\": [1.04], \"xaxis\": \"x\", \"y\": [296], \"yaxis\": \"y\"}, {\"alignmentgroup\": \"True\", \"boxpoints\": \"all\", \"fillcolor\": \"rgba(255,255,255,0)\", \"hoveron\": \"points\", \"hovertemplate\": \"Amount of Sales for Price=296<br>index=%{x}<extra></extra>\", \"jitter\": 0, \"legendgroup\": \"296\", \"line\": {\"color\": \"rgba(255,255,255,0)\"}, \"marker\": {\"color\": \"#B6E880\", \"symbol\": \"line-ns-open\"}, \"name\": \"296\", \"offsetgroup\": \"296\", \"showlegend\": false, \"type\": \"box\", \"x\": [1.04], \"xaxis\": \"x2\", \"yaxis\": \"y2\"}, {\"alignmentgroup\": \"True\", \"bingroup\": \"x\", \"histfunc\": \"sum\", \"hovertemplate\": \"Amount of Sales for Price=273<br>index=%{x}<br>sum of Amount of Sales for Price=%{y}<extra></extra>\", \"legendgroup\": \"273\", \"marker\": {\"color\": \"#FF97FF\"}, \"name\": \"273\", \"offsetgroup\": \"273\", \"orientation\": \"v\", \"showlegend\": true, \"type\": \"histogram\", \"x\": [3.35], \"xaxis\": \"x\", \"y\": [273], \"yaxis\": \"y\"}, {\"alignmentgroup\": \"True\", \"boxpoints\": \"all\", \"fillcolor\": \"rgba(255,255,255,0)\", \"hoveron\": \"points\", \"hovertemplate\": \"Amount of Sales for Price=273<br>index=%{x}<extra></extra>\", \"jitter\": 0, \"legendgroup\": \"273\", \"line\": {\"color\": \"rgba(255,255,255,0)\"}, \"marker\": {\"color\": \"#FF97FF\", \"symbol\": \"line-ns-open\"}, \"name\": \"273\", \"offsetgroup\": \"273\", \"showlegend\": false, \"type\": \"box\", \"x\": [3.35], \"xaxis\": \"x2\", \"yaxis\": \"y2\"}, {\"alignmentgroup\": \"True\", \"bingroup\": \"x\", \"histfunc\": \"sum\", \"hovertemplate\": \"Amount of Sales for Price=262<br>index=%{x}<br>sum of Amount of Sales for Price=%{y}<extra></extra>\", \"legendgroup\": \"262\", \"marker\": {\"color\": \"#FECB52\"}, \"name\": \"262\", \"offsetgroup\": \"262\", \"orientation\": \"v\", \"showlegend\": true, \"type\": \"histogram\", \"x\": [4.58], \"xaxis\": \"x\", \"y\": [262], \"yaxis\": \"y\"}, {\"alignmentgroup\": \"True\", \"boxpoints\": \"all\", \"fillcolor\": \"rgba(255,255,255,0)\", \"hoveron\": \"points\", \"hovertemplate\": \"Amount of Sales for Price=262<br>index=%{x}<extra></extra>\", \"jitter\": 0, \"legendgroup\": \"262\", \"line\": {\"color\": \"rgba(255,255,255,0)\"}, \"marker\": {\"color\": \"#FECB52\", \"symbol\": \"line-ns-open\"}, \"name\": \"262\", \"offsetgroup\": \"262\", \"showlegend\": false, \"type\": \"box\", \"x\": [4.58], \"xaxis\": \"x2\", \"yaxis\": \"y2\"}, {\"alignmentgroup\": \"True\", \"bingroup\": \"x\", \"histfunc\": \"sum\", \"hovertemplate\": \"Amount of Sales for Price=257<br>index=%{x}<br>sum of Amount of Sales for Price=%{y}<extra></extra>\", \"legendgroup\": \"257\", \"marker\": {\"color\": \"#636efa\"}, \"name\": \"257\", \"offsetgroup\": \"257\", \"orientation\": \"v\", \"showlegend\": true, \"type\": \"histogram\", \"x\": [16.98], \"xaxis\": \"x\", \"y\": [257], \"yaxis\": \"y\"}, {\"alignmentgroup\": \"True\", \"boxpoints\": \"all\", \"fillcolor\": \"rgba(255,255,255,0)\", \"hoveron\": \"points\", \"hovertemplate\": \"Amount of Sales for Price=257<br>index=%{x}<extra></extra>\", \"jitter\": 0, \"legendgroup\": \"257\", \"line\": {\"color\": \"rgba(255,255,255,0)\"}, \"marker\": {\"color\": \"#636efa\", \"symbol\": \"line-ns-open\"}, \"name\": \"257\", \"offsetgroup\": \"257\", \"showlegend\": false, \"type\": \"box\", \"x\": [16.98], \"xaxis\": \"x2\", \"yaxis\": \"y2\"}, {\"alignmentgroup\": \"True\", \"bingroup\": \"x\", \"histfunc\": \"sum\", \"hovertemplate\": \"Amount of Sales for Price=240<br>index=%{x}<br>sum of Amount of Sales for Price=%{y}<extra></extra>\", \"legendgroup\": \"240\", \"marker\": {\"color\": \"#EF553B\"}, \"name\": \"240\", \"offsetgroup\": \"240\", \"orientation\": \"v\", \"showlegend\": true, \"type\": \"histogram\", \"x\": [15.0], \"xaxis\": \"x\", \"y\": [240], \"yaxis\": \"y\"}, {\"alignmentgroup\": \"True\", \"boxpoints\": \"all\", \"fillcolor\": \"rgba(255,255,255,0)\", \"hoveron\": \"points\", \"hovertemplate\": \"Amount of Sales for Price=240<br>index=%{x}<extra></extra>\", \"jitter\": 0, \"legendgroup\": \"240\", \"line\": {\"color\": \"rgba(255,255,255,0)\"}, \"marker\": {\"color\": \"#EF553B\", \"symbol\": \"line-ns-open\"}, \"name\": \"240\", \"offsetgroup\": \"240\", \"showlegend\": false, \"type\": \"box\", \"x\": [15.0], \"xaxis\": \"x2\", \"yaxis\": \"y2\"}, {\"alignmentgroup\": \"True\", \"bingroup\": \"x\", \"histfunc\": \"sum\", \"hovertemplate\": \"Amount of Sales for Price=238<br>index=%{x}<br>sum of Amount of Sales for Price=%{y}<extra></extra>\", \"legendgroup\": \"238\", \"marker\": {\"color\": \"#00cc96\"}, \"name\": \"238\", \"offsetgroup\": \"238\", \"orientation\": \"v\", \"showlegend\": true, \"type\": \"histogram\", \"x\": [9.13], \"xaxis\": \"x\", \"y\": [238], \"yaxis\": \"y\"}, {\"alignmentgroup\": \"True\", \"boxpoints\": \"all\", \"fillcolor\": \"rgba(255,255,255,0)\", \"hoveron\": \"points\", \"hovertemplate\": \"Amount of Sales for Price=238<br>index=%{x}<extra></extra>\", \"jitter\": 0, \"legendgroup\": \"238\", \"line\": {\"color\": \"rgba(255,255,255,0)\"}, \"marker\": {\"color\": \"#00cc96\", \"symbol\": \"line-ns-open\"}, \"name\": \"238\", \"offsetgroup\": \"238\", \"showlegend\": false, \"type\": \"box\", \"x\": [9.13], \"xaxis\": \"x2\", \"yaxis\": \"y2\"}, {\"alignmentgroup\": \"True\", \"bingroup\": \"x\", \"histfunc\": \"sum\", \"hovertemplate\": \"Amount of Sales for Price=223<br>index=%{x}<br>sum of Amount of Sales for Price=%{y}<extra></extra>\", \"legendgroup\": \"223\", \"marker\": {\"color\": \"#ab63fa\"}, \"name\": \"223\", \"offsetgroup\": \"223\", \"orientation\": \"v\", \"showlegend\": true, \"type\": \"histogram\", \"x\": [8.15], \"xaxis\": \"x\", \"y\": [223], \"yaxis\": \"y\"}, {\"alignmentgroup\": \"True\", \"boxpoints\": \"all\", \"fillcolor\": \"rgba(255,255,255,0)\", \"hoveron\": \"points\", \"hovertemplate\": \"Amount of Sales for Price=223<br>index=%{x}<extra></extra>\", \"jitter\": 0, \"legendgroup\": \"223\", \"line\": {\"color\": \"rgba(255,255,255,0)\"}, \"marker\": {\"color\": \"#ab63fa\", \"symbol\": \"line-ns-open\"}, \"name\": \"223\", \"offsetgroup\": \"223\", \"showlegend\": false, \"type\": \"box\", \"x\": [8.15], \"xaxis\": \"x2\", \"yaxis\": \"y2\"}, {\"alignmentgroup\": \"True\", \"bingroup\": \"x\", \"histfunc\": \"sum\", \"hovertemplate\": \"Amount of Sales for Price=204<br>index=%{x}<br>sum of Amount of Sales for Price=%{y}<extra></extra>\", \"legendgroup\": \"204\", \"marker\": {\"color\": \"#FFA15A\"}, \"name\": \"204\", \"offsetgroup\": \"204\", \"orientation\": \"v\", \"showlegend\": true, \"type\": \"histogram\", \"x\": [0.59], \"xaxis\": \"x\", \"y\": [204], \"yaxis\": \"y\"}, {\"alignmentgroup\": \"True\", \"boxpoints\": \"all\", \"fillcolor\": \"rgba(255,255,255,0)\", \"hoveron\": \"points\", \"hovertemplate\": \"Amount of Sales for Price=204<br>index=%{x}<extra></extra>\", \"jitter\": 0, \"legendgroup\": \"204\", \"line\": {\"color\": \"rgba(255,255,255,0)\"}, \"marker\": {\"color\": \"#FFA15A\", \"symbol\": \"line-ns-open\"}, \"name\": \"204\", \"offsetgroup\": \"204\", \"showlegend\": false, \"type\": \"box\", \"x\": [0.59], \"xaxis\": \"x2\", \"yaxis\": \"y2\"}, {\"alignmentgroup\": \"True\", \"bingroup\": \"x\", \"histfunc\": \"sum\", \"hovertemplate\": \"Amount of Sales for Price=200<br>index=%{x}<br>sum of Amount of Sales for Price=%{y}<extra></extra>\", \"legendgroup\": \"200\", \"marker\": {\"color\": \"#19d3f3\"}, \"name\": \"200\", \"offsetgroup\": \"200\", \"orientation\": \"v\", \"showlegend\": true, \"type\": \"histogram\", \"x\": [4.98], \"xaxis\": \"x\", \"y\": [200], \"yaxis\": \"y\"}, {\"alignmentgroup\": \"True\", \"boxpoints\": \"all\", \"fillcolor\": \"rgba(255,255,255,0)\", \"hoveron\": \"points\", \"hovertemplate\": \"Amount of Sales for Price=200<br>index=%{x}<extra></extra>\", \"jitter\": 0, \"legendgroup\": \"200\", \"line\": {\"color\": \"rgba(255,255,255,0)\"}, \"marker\": {\"color\": \"#19d3f3\", \"symbol\": \"line-ns-open\"}, \"name\": \"200\", \"offsetgroup\": \"200\", \"showlegend\": false, \"type\": \"box\", \"x\": [4.98], \"xaxis\": \"x2\", \"yaxis\": \"y2\"}, {\"alignmentgroup\": \"True\", \"bingroup\": \"x\", \"histfunc\": \"sum\", \"hovertemplate\": \"Amount of Sales for Price=199<br>index=%{x}<br>sum of Amount of Sales for Price=%{y}<extra></extra>\", \"legendgroup\": \"199\", \"marker\": {\"color\": \"#FF6692\"}, \"name\": \"199\", \"offsetgroup\": \"199\", \"orientation\": \"v\", \"showlegend\": true, \"type\": \"histogram\", \"x\": [0.81], \"xaxis\": \"x\", \"y\": [199], \"yaxis\": \"y\"}, {\"alignmentgroup\": \"True\", \"boxpoints\": \"all\", \"fillcolor\": \"rgba(255,255,255,0)\", \"hoveron\": \"points\", \"hovertemplate\": \"Amount of Sales for Price=199<br>index=%{x}<extra></extra>\", \"jitter\": 0, \"legendgroup\": \"199\", \"line\": {\"color\": \"rgba(255,255,255,0)\"}, \"marker\": {\"color\": \"#FF6692\", \"symbol\": \"line-ns-open\"}, \"name\": \"199\", \"offsetgroup\": \"199\", \"showlegend\": false, \"type\": \"box\", \"x\": [0.81], \"xaxis\": \"x2\", \"yaxis\": \"y2\"}, {\"alignmentgroup\": \"True\", \"bingroup\": \"x\", \"histfunc\": \"sum\", \"hovertemplate\": \"Amount of Sales for Price=196<br>index=%{x}<br>sum of Amount of Sales for Price=%{y}<extra></extra>\", \"legendgroup\": \"196\", \"marker\": {\"color\": \"#B6E880\"}, \"name\": \"196\", \"offsetgroup\": \"196\", \"orientation\": \"v\", \"showlegend\": true, \"type\": \"histogram\", \"x\": [14.43], \"xaxis\": \"x\", \"y\": [196], \"yaxis\": \"y\"}, {\"alignmentgroup\": \"True\", \"boxpoints\": \"all\", \"fillcolor\": \"rgba(255,255,255,0)\", \"hoveron\": \"points\", \"hovertemplate\": \"Amount of Sales for Price=196<br>index=%{x}<extra></extra>\", \"jitter\": 0, \"legendgroup\": \"196\", \"line\": {\"color\": \"rgba(255,255,255,0)\"}, \"marker\": {\"color\": \"#B6E880\", \"symbol\": \"line-ns-open\"}, \"name\": \"196\", \"offsetgroup\": \"196\", \"showlegend\": false, \"type\": \"box\", \"x\": [14.43], \"xaxis\": \"x2\", \"yaxis\": \"y2\"}, {\"alignmentgroup\": \"True\", \"bingroup\": \"x\", \"histfunc\": \"sum\", \"hovertemplate\": \"Amount of Sales for Price=191<br>index=%{x}<br>sum of Amount of Sales for Price=%{y}<extra></extra>\", \"legendgroup\": \"191\", \"marker\": {\"color\": \"#FF97FF\"}, \"name\": \"191\", \"offsetgroup\": \"191\", \"orientation\": \"v\", \"showlegend\": true, \"type\": \"histogram\", \"x\": [7.9], \"xaxis\": \"x\", \"y\": [191], \"yaxis\": \"y\"}, {\"alignmentgroup\": \"True\", \"boxpoints\": \"all\", \"fillcolor\": \"rgba(255,255,255,0)\", \"hoveron\": \"points\", \"hovertemplate\": \"Amount of Sales for Price=191<br>index=%{x}<extra></extra>\", \"jitter\": 0, \"legendgroup\": \"191\", \"line\": {\"color\": \"rgba(255,255,255,0)\"}, \"marker\": {\"color\": \"#FF97FF\", \"symbol\": \"line-ns-open\"}, \"name\": \"191\", \"offsetgroup\": \"191\", \"showlegend\": false, \"type\": \"box\", \"x\": [7.9], \"xaxis\": \"x2\", \"yaxis\": \"y2\"}, {\"alignmentgroup\": \"True\", \"bingroup\": \"x\", \"histfunc\": \"sum\", \"hovertemplate\": \"Amount of Sales for Price=188<br>index=%{x}<br>sum of Amount of Sales for Price=%{y}<extra></extra>\", \"legendgroup\": \"188\", \"marker\": {\"color\": \"#FECB52\"}, \"name\": \"188\", \"offsetgroup\": \"188\", \"orientation\": \"v\", \"showlegend\": true, \"type\": \"histogram\", \"x\": [2.5], \"xaxis\": \"x\", \"y\": [188], \"yaxis\": \"y\"}, {\"alignmentgroup\": \"True\", \"boxpoints\": \"all\", \"fillcolor\": \"rgba(255,255,255,0)\", \"hoveron\": \"points\", \"hovertemplate\": \"Amount of Sales for Price=188<br>index=%{x}<extra></extra>\", \"jitter\": 0, \"legendgroup\": \"188\", \"line\": {\"color\": \"rgba(255,255,255,0)\"}, \"marker\": {\"color\": \"#FECB52\", \"symbol\": \"line-ns-open\"}, \"name\": \"188\", \"offsetgroup\": \"188\", \"showlegend\": false, \"type\": \"box\", \"x\": [2.5], \"xaxis\": \"x2\", \"yaxis\": \"y2\"}, {\"alignmentgroup\": \"True\", \"bingroup\": \"x\", \"histfunc\": \"sum\", \"hovertemplate\": \"Amount of Sales for Price=183<br>index=%{x}<br>sum of Amount of Sales for Price=%{y}<extra></extra>\", \"legendgroup\": \"183\", \"marker\": {\"color\": \"#636efa\"}, \"name\": \"183\", \"offsetgroup\": \"183\", \"orientation\": \"v\", \"showlegend\": true, \"type\": \"histogram\", \"x\": [12.72], \"xaxis\": \"x\", \"y\": [183], \"yaxis\": \"y\"}, {\"alignmentgroup\": \"True\", \"boxpoints\": \"all\", \"fillcolor\": \"rgba(255,255,255,0)\", \"hoveron\": \"points\", \"hovertemplate\": \"Amount of Sales for Price=183<br>index=%{x}<extra></extra>\", \"jitter\": 0, \"legendgroup\": \"183\", \"line\": {\"color\": \"rgba(255,255,255,0)\"}, \"marker\": {\"color\": \"#636efa\", \"symbol\": \"line-ns-open\"}, \"name\": \"183\", \"offsetgroup\": \"183\", \"showlegend\": false, \"type\": \"box\", \"x\": [12.72], \"xaxis\": \"x2\", \"yaxis\": \"y2\"}, {\"alignmentgroup\": \"True\", \"bingroup\": \"x\", \"histfunc\": \"sum\", \"hovertemplate\": \"Amount of Sales for Price=180<br>index=%{x}<br>sum of Amount of Sales for Price=%{y}<extra></extra>\", \"legendgroup\": \"180\", \"marker\": {\"color\": \"#EF553B\"}, \"name\": \"180\", \"offsetgroup\": \"180\", \"orientation\": \"v\", \"showlegend\": true, \"type\": \"histogram\", \"x\": [2.75], \"xaxis\": \"x\", \"y\": [180], \"yaxis\": \"y\"}, {\"alignmentgroup\": \"True\", \"boxpoints\": \"all\", \"fillcolor\": \"rgba(255,255,255,0)\", \"hoveron\": \"points\", \"hovertemplate\": \"Amount of Sales for Price=180<br>index=%{x}<extra></extra>\", \"jitter\": 0, \"legendgroup\": \"180\", \"line\": {\"color\": \"rgba(255,255,255,0)\"}, \"marker\": {\"color\": \"#EF553B\", \"symbol\": \"line-ns-open\"}, \"name\": \"180\", \"offsetgroup\": \"180\", \"showlegend\": false, \"type\": \"box\", \"x\": [2.75], \"xaxis\": \"x2\", \"yaxis\": \"y2\"}, {\"alignmentgroup\": \"True\", \"bingroup\": \"x\", \"histfunc\": \"sum\", \"hovertemplate\": \"Amount of Sales for Price=168<br>index=%{x}<br>sum of Amount of Sales for Price=%{y}<extra></extra>\", \"legendgroup\": \"168\", \"marker\": {\"color\": \"#00cc96\"}, \"name\": \"168\", \"offsetgroup\": \"168\", \"orientation\": \"v\", \"showlegend\": true, \"type\": \"histogram\", \"x\": [15.95], \"xaxis\": \"x\", \"y\": [168], \"yaxis\": \"y\"}, {\"alignmentgroup\": \"True\", \"boxpoints\": \"all\", \"fillcolor\": \"rgba(255,255,255,0)\", \"hoveron\": \"points\", \"hovertemplate\": \"Amount of Sales for Price=168<br>index=%{x}<extra></extra>\", \"jitter\": 0, \"legendgroup\": \"168\", \"line\": {\"color\": \"rgba(255,255,255,0)\"}, \"marker\": {\"color\": \"#00cc96\", \"symbol\": \"line-ns-open\"}, \"name\": \"168\", \"offsetgroup\": \"168\", \"showlegend\": false, \"type\": \"box\", \"x\": [15.95], \"xaxis\": \"x2\", \"yaxis\": \"y2\"}, {\"alignmentgroup\": \"True\", \"bingroup\": \"x\", \"histfunc\": \"sum\", \"hovertemplate\": \"Amount of Sales for Price=166<br>index=%{x}<br>sum of Amount of Sales for Price=%{y}<extra></extra>\", \"legendgroup\": \"166\", \"marker\": {\"color\": \"#ab63fa\"}, \"name\": \"166\", \"offsetgroup\": \"166\", \"orientation\": \"v\", \"showlegend\": true, \"type\": \"histogram\", \"x\": [10.4], \"xaxis\": \"x\", \"y\": [166], \"yaxis\": \"y\"}, {\"alignmentgroup\": \"True\", \"boxpoints\": \"all\", \"fillcolor\": \"rgba(255,255,255,0)\", \"hoveron\": \"points\", \"hovertemplate\": \"Amount of Sales for Price=166<br>index=%{x}<extra></extra>\", \"jitter\": 0, \"legendgroup\": \"166\", \"line\": {\"color\": \"rgba(255,255,255,0)\"}, \"marker\": {\"color\": \"#ab63fa\", \"symbol\": \"line-ns-open\"}, \"name\": \"166\", \"offsetgroup\": \"166\", \"showlegend\": false, \"type\": \"box\", \"x\": [10.4], \"xaxis\": \"x2\", \"yaxis\": \"y2\"}, {\"alignmentgroup\": \"True\", \"bingroup\": \"x\", \"histfunc\": \"sum\", \"hovertemplate\": \"Amount of Sales for Price=162<br>index=%{x}<br>sum of Amount of Sales for Price=%{y}<extra></extra>\", \"legendgroup\": \"162\", \"marker\": {\"color\": \"#FFA15A\"}, \"name\": \"162\", \"offsetgroup\": \"162\", \"orientation\": \"v\", \"showlegend\": true, \"type\": \"histogram\", \"x\": [6.65], \"xaxis\": \"x\", \"y\": [162], \"yaxis\": \"y\"}, {\"alignmentgroup\": \"True\", \"boxpoints\": \"all\", \"fillcolor\": \"rgba(255,255,255,0)\", \"hoveron\": \"points\", \"hovertemplate\": \"Amount of Sales for Price=162<br>index=%{x}<extra></extra>\", \"jitter\": 0, \"legendgroup\": \"162\", \"line\": {\"color\": \"rgba(255,255,255,0)\"}, \"marker\": {\"color\": \"#FFA15A\", \"symbol\": \"line-ns-open\"}, \"name\": \"162\", \"offsetgroup\": \"162\", \"showlegend\": false, \"type\": \"box\", \"x\": [6.65], \"xaxis\": \"x2\", \"yaxis\": \"y2\"}, {\"alignmentgroup\": \"True\", \"bingroup\": \"x\", \"histfunc\": \"sum\", \"hovertemplate\": \"Amount of Sales for Price=161<br>index=%{x}<br>sum of Amount of Sales for Price=%{y}<extra></extra>\", \"legendgroup\": \"161\", \"marker\": {\"color\": \"#19d3f3\"}, \"name\": \"161\", \"offsetgroup\": \"161\", \"orientation\": \"v\", \"showlegend\": true, \"type\": \"histogram\", \"x\": [25.49], \"xaxis\": \"x\", \"y\": [161], \"yaxis\": \"y\"}, {\"alignmentgroup\": \"True\", \"boxpoints\": \"all\", \"fillcolor\": \"rgba(255,255,255,0)\", \"hoveron\": \"points\", \"hovertemplate\": \"Amount of Sales for Price=161<br>index=%{x}<extra></extra>\", \"jitter\": 0, \"legendgroup\": \"161\", \"line\": {\"color\": \"rgba(255,255,255,0)\"}, \"marker\": {\"color\": \"#19d3f3\", \"symbol\": \"line-ns-open\"}, \"name\": \"161\", \"offsetgroup\": \"161\", \"showlegend\": false, \"type\": \"box\", \"x\": [25.49], \"xaxis\": \"x2\", \"yaxis\": \"y2\"}, {\"alignmentgroup\": \"True\", \"bingroup\": \"x\", \"histfunc\": \"sum\", \"hovertemplate\": \"Amount of Sales for Price=156<br>index=%{x}<br>sum of Amount of Sales for Price=%{y}<extra></extra>\", \"legendgroup\": \"156\", \"marker\": {\"color\": \"#FF6692\"}, \"name\": \"156\", \"offsetgroup\": \"156\", \"orientation\": \"v\", \"showlegend\": true, \"type\": \"histogram\", \"x\": [14.96], \"xaxis\": \"x\", \"y\": [156], \"yaxis\": \"y\"}, {\"alignmentgroup\": \"True\", \"boxpoints\": \"all\", \"fillcolor\": \"rgba(255,255,255,0)\", \"hoveron\": \"points\", \"hovertemplate\": \"Amount of Sales for Price=156<br>index=%{x}<extra></extra>\", \"jitter\": 0, \"legendgroup\": \"156\", \"line\": {\"color\": \"rgba(255,255,255,0)\"}, \"marker\": {\"color\": \"#FF6692\", \"symbol\": \"line-ns-open\"}, \"name\": \"156\", \"offsetgroup\": \"156\", \"showlegend\": false, \"type\": \"box\", \"x\": [14.96], \"xaxis\": \"x2\", \"yaxis\": \"y2\"}, {\"alignmentgroup\": \"True\", \"bingroup\": \"x\", \"histfunc\": \"sum\", \"hovertemplate\": \"Amount of Sales for Price=153<br>index=%{x}<br>sum of Amount of Sales for Price=%{y}<extra></extra>\", \"legendgroup\": \"153\", \"marker\": {\"color\": \"#B6E880\"}, \"name\": \"153\", \"offsetgroup\": \"153\", \"orientation\": \"v\", \"showlegend\": true, \"type\": \"histogram\", \"x\": [6.77], \"xaxis\": \"x\", \"y\": [153], \"yaxis\": \"y\"}, {\"alignmentgroup\": \"True\", \"boxpoints\": \"all\", \"fillcolor\": \"rgba(255,255,255,0)\", \"hoveron\": \"points\", \"hovertemplate\": \"Amount of Sales for Price=153<br>index=%{x}<extra></extra>\", \"jitter\": 0, \"legendgroup\": \"153\", \"line\": {\"color\": \"rgba(255,255,255,0)\"}, \"marker\": {\"color\": \"#B6E880\", \"symbol\": \"line-ns-open\"}, \"name\": \"153\", \"offsetgroup\": \"153\", \"showlegend\": false, \"type\": \"box\", \"x\": [6.77], \"xaxis\": \"x2\", \"yaxis\": \"y2\"}, {\"alignmentgroup\": \"True\", \"bingroup\": \"x\", \"histfunc\": \"sum\", \"hovertemplate\": \"Amount of Sales for Price=150<br>index=%{x}<br>sum of Amount of Sales for Price=%{y}<extra></extra>\", \"legendgroup\": \"150\", \"marker\": {\"color\": \"#FF97FF\"}, \"name\": \"150\", \"offsetgroup\": \"150\", \"orientation\": \"v\", \"showlegend\": true, \"type\": \"histogram\", \"x\": [11.95], \"xaxis\": \"x\", \"y\": [150], \"yaxis\": \"y\"}, {\"alignmentgroup\": \"True\", \"boxpoints\": \"all\", \"fillcolor\": \"rgba(255,255,255,0)\", \"hoveron\": \"points\", \"hovertemplate\": \"Amount of Sales for Price=150<br>index=%{x}<extra></extra>\", \"jitter\": 0, \"legendgroup\": \"150\", \"line\": {\"color\": \"rgba(255,255,255,0)\"}, \"marker\": {\"color\": \"#FF97FF\", \"symbol\": \"line-ns-open\"}, \"name\": \"150\", \"offsetgroup\": \"150\", \"showlegend\": false, \"type\": \"box\", \"x\": [11.95], \"xaxis\": \"x2\", \"yaxis\": \"y2\"}, {\"alignmentgroup\": \"True\", \"bingroup\": \"x\", \"histfunc\": \"sum\", \"hovertemplate\": \"Amount of Sales for Price=147<br>index=%{x}<br>sum of Amount of Sales for Price=%{y}<extra></extra>\", \"legendgroup\": \"147\", \"marker\": {\"color\": \"#FECB52\"}, \"name\": \"147\", \"offsetgroup\": \"147\", \"orientation\": \"v\", \"showlegend\": true, \"type\": \"histogram\", \"x\": [39.95], \"xaxis\": \"x\", \"y\": [147], \"yaxis\": \"y\"}, {\"alignmentgroup\": \"True\", \"boxpoints\": \"all\", \"fillcolor\": \"rgba(255,255,255,0)\", \"hoveron\": \"points\", \"hovertemplate\": \"Amount of Sales for Price=147<br>index=%{x}<extra></extra>\", \"jitter\": 0, \"legendgroup\": \"147\", \"line\": {\"color\": \"rgba(255,255,255,0)\"}, \"marker\": {\"color\": \"#FECB52\", \"symbol\": \"line-ns-open\"}, \"name\": \"147\", \"offsetgroup\": \"147\", \"showlegend\": false, \"type\": \"box\", \"x\": [39.95], \"xaxis\": \"x2\", \"yaxis\": \"y2\"}, {\"alignmentgroup\": \"True\", \"bingroup\": \"x\", \"histfunc\": \"sum\", \"hovertemplate\": \"Amount of Sales for Price=144<br>index=%{x}<br>sum of Amount of Sales for Price=%{y}<extra></extra>\", \"legendgroup\": \"144\", \"marker\": {\"color\": \"#636efa\"}, \"name\": \"144\", \"offsetgroup\": \"144\", \"orientation\": \"v\", \"showlegend\": true, \"type\": \"histogram\", \"x\": [50.0], \"xaxis\": \"x\", \"y\": [144], \"yaxis\": \"y\"}, {\"alignmentgroup\": \"True\", \"boxpoints\": \"all\", \"fillcolor\": \"rgba(255,255,255,0)\", \"hoveron\": \"points\", \"hovertemplate\": \"Amount of Sales for Price=144<br>index=%{x}<extra></extra>\", \"jitter\": 0, \"legendgroup\": \"144\", \"line\": {\"color\": \"rgba(255,255,255,0)\"}, \"marker\": {\"color\": \"#636efa\", \"symbol\": \"line-ns-open\"}, \"name\": \"144\", \"offsetgroup\": \"144\", \"showlegend\": false, \"type\": \"box\", \"x\": [50.0], \"xaxis\": \"x2\", \"yaxis\": \"y2\"}, {\"alignmentgroup\": \"True\", \"bingroup\": \"x\", \"histfunc\": \"sum\", \"hovertemplate\": \"Amount of Sales for Price=143<br>index=%{x}<br>sum of Amount of Sales for Price=%{y}<extra></extra>\", \"legendgroup\": \"143\", \"marker\": {\"color\": \"#EF553B\"}, \"name\": \"143\", \"offsetgroup\": \"143\", \"orientation\": \"v\", \"showlegend\": true, \"type\": \"histogram\", \"x\": [1.0], \"xaxis\": \"x\", \"y\": [143], \"yaxis\": \"y\"}, {\"alignmentgroup\": \"True\", \"boxpoints\": \"all\", \"fillcolor\": \"rgba(255,255,255,0)\", \"hoveron\": \"points\", \"hovertemplate\": \"Amount of Sales for Price=143<br>index=%{x}<extra></extra>\", \"jitter\": 0, \"legendgroup\": \"143\", \"line\": {\"color\": \"rgba(255,255,255,0)\"}, \"marker\": {\"color\": \"#EF553B\", \"symbol\": \"line-ns-open\"}, \"name\": \"143\", \"offsetgroup\": \"143\", \"showlegend\": false, \"type\": \"box\", \"x\": [1.0], \"xaxis\": \"x2\", \"yaxis\": \"y2\"}, {\"alignmentgroup\": \"True\", \"bingroup\": \"x\", \"histfunc\": \"sum\", \"hovertemplate\": \"Amount of Sales for Price=139<br>index=%{x}<br>sum of Amount of Sales for Price=%{y}<extra></extra>\", \"legendgroup\": \"139\", \"marker\": {\"color\": \"#00cc96\"}, \"name\": \"139\", \"offsetgroup\": \"139\", \"orientation\": \"v\", \"showlegend\": true, \"type\": \"histogram\", \"x\": [0.64, 1.55], \"xaxis\": \"x\", \"y\": [139, 139], \"yaxis\": \"y\"}, {\"alignmentgroup\": \"True\", \"boxpoints\": \"all\", \"fillcolor\": \"rgba(255,255,255,0)\", \"hoveron\": \"points\", \"hovertemplate\": \"Amount of Sales for Price=139<br>index=%{x}<extra></extra>\", \"jitter\": 0, \"legendgroup\": \"139\", \"line\": {\"color\": \"rgba(255,255,255,0)\"}, \"marker\": {\"color\": \"#00cc96\", \"symbol\": \"line-ns-open\"}, \"name\": \"139\", \"offsetgroup\": \"139\", \"showlegend\": false, \"type\": \"box\", \"x\": [0.64, 1.55], \"xaxis\": \"x2\", \"yaxis\": \"y2\"}, {\"alignmentgroup\": \"True\", \"bingroup\": \"x\", \"histfunc\": \"sum\", \"hovertemplate\": \"Amount of Sales for Price=136<br>index=%{x}<br>sum of Amount of Sales for Price=%{y}<extra></extra>\", \"legendgroup\": \"136\", \"marker\": {\"color\": \"#ab63fa\"}, \"name\": \"136\", \"offsetgroup\": \"136\", \"orientation\": \"v\", \"showlegend\": true, \"type\": \"histogram\", \"x\": [11.87], \"xaxis\": \"x\", \"y\": [136], \"yaxis\": \"y\"}, {\"alignmentgroup\": \"True\", \"boxpoints\": \"all\", \"fillcolor\": \"rgba(255,255,255,0)\", \"hoveron\": \"points\", \"hovertemplate\": \"Amount of Sales for Price=136<br>index=%{x}<extra></extra>\", \"jitter\": 0, \"legendgroup\": \"136\", \"line\": {\"color\": \"rgba(255,255,255,0)\"}, \"marker\": {\"color\": \"#ab63fa\", \"symbol\": \"line-ns-open\"}, \"name\": \"136\", \"offsetgroup\": \"136\", \"showlegend\": false, \"type\": \"box\", \"x\": [11.87], \"xaxis\": \"x2\", \"yaxis\": \"y2\"}, {\"alignmentgroup\": \"True\", \"bingroup\": \"x\", \"histfunc\": \"sum\", \"hovertemplate\": \"Amount of Sales for Price=135<br>index=%{x}<br>sum of Amount of Sales for Price=%{y}<extra></extra>\", \"legendgroup\": \"135\", \"marker\": {\"color\": \"#FFA15A\"}, \"name\": \"135\", \"offsetgroup\": \"135\", \"orientation\": \"v\", \"showlegend\": true, \"type\": \"histogram\", \"x\": [40.0, 3.73], \"xaxis\": \"x\", \"y\": [135, 135], \"yaxis\": \"y\"}, {\"alignmentgroup\": \"True\", \"boxpoints\": \"all\", \"fillcolor\": \"rgba(255,255,255,0)\", \"hoveron\": \"points\", \"hovertemplate\": \"Amount of Sales for Price=135<br>index=%{x}<extra></extra>\", \"jitter\": 0, \"legendgroup\": \"135\", \"line\": {\"color\": \"rgba(255,255,255,0)\"}, \"marker\": {\"color\": \"#FFA15A\", \"symbol\": \"line-ns-open\"}, \"name\": \"135\", \"offsetgroup\": \"135\", \"showlegend\": false, \"type\": \"box\", \"x\": [40.0, 3.73], \"xaxis\": \"x2\", \"yaxis\": \"y2\"}, {\"alignmentgroup\": \"True\", \"bingroup\": \"x\", \"histfunc\": \"sum\", \"hovertemplate\": \"Amount of Sales for Price=125<br>index=%{x}<br>sum of Amount of Sales for Price=%{y}<extra></extra>\", \"legendgroup\": \"125\", \"marker\": {\"color\": \"#19d3f3\"}, \"name\": \"125\", \"offsetgroup\": \"125\", \"orientation\": \"v\", \"showlegend\": true, \"type\": \"histogram\", \"x\": [19.95], \"xaxis\": \"x\", \"y\": [125], \"yaxis\": \"y\"}, {\"alignmentgroup\": \"True\", \"boxpoints\": \"all\", \"fillcolor\": \"rgba(255,255,255,0)\", \"hoveron\": \"points\", \"hovertemplate\": \"Amount of Sales for Price=125<br>index=%{x}<extra></extra>\", \"jitter\": 0, \"legendgroup\": \"125\", \"line\": {\"color\": \"rgba(255,255,255,0)\"}, \"marker\": {\"color\": \"#19d3f3\", \"symbol\": \"line-ns-open\"}, \"name\": \"125\", \"offsetgroup\": \"125\", \"showlegend\": false, \"type\": \"box\", \"x\": [19.95], \"xaxis\": \"x2\", \"yaxis\": \"y2\"}, {\"alignmentgroup\": \"True\", \"bingroup\": \"x\", \"histfunc\": \"sum\", \"hovertemplate\": \"Amount of Sales for Price=123<br>index=%{x}<br>sum of Amount of Sales for Price=%{y}<extra></extra>\", \"legendgroup\": \"123\", \"marker\": {\"color\": \"#FF6692\"}, \"name\": \"123\", \"offsetgroup\": \"123\", \"orientation\": \"v\", \"showlegend\": true, \"type\": \"histogram\", \"x\": [2.48], \"xaxis\": \"x\", \"y\": [123], \"yaxis\": \"y\"}, {\"alignmentgroup\": \"True\", \"boxpoints\": \"all\", \"fillcolor\": \"rgba(255,255,255,0)\", \"hoveron\": \"points\", \"hovertemplate\": \"Amount of Sales for Price=123<br>index=%{x}<extra></extra>\", \"jitter\": 0, \"legendgroup\": \"123\", \"line\": {\"color\": \"rgba(255,255,255,0)\"}, \"marker\": {\"color\": \"#FF6692\", \"symbol\": \"line-ns-open\"}, \"name\": \"123\", \"offsetgroup\": \"123\", \"showlegend\": false, \"type\": \"box\", \"x\": [2.48], \"xaxis\": \"x2\", \"yaxis\": \"y2\"}, {\"alignmentgroup\": \"True\", \"bingroup\": \"x\", \"histfunc\": \"sum\", \"hovertemplate\": \"Amount of Sales for Price=117<br>index=%{x}<br>sum of Amount of Sales for Price=%{y}<extra></extra>\", \"legendgroup\": \"117\", \"marker\": {\"color\": \"#B6E880\"}, \"name\": \"117\", \"offsetgroup\": \"117\", \"orientation\": \"v\", \"showlegend\": true, \"type\": \"histogram\", \"x\": [10.17, 0.06], \"xaxis\": \"x\", \"y\": [117, 117], \"yaxis\": \"y\"}, {\"alignmentgroup\": \"True\", \"boxpoints\": \"all\", \"fillcolor\": \"rgba(255,255,255,0)\", \"hoveron\": \"points\", \"hovertemplate\": \"Amount of Sales for Price=117<br>index=%{x}<extra></extra>\", \"jitter\": 0, \"legendgroup\": \"117\", \"line\": {\"color\": \"rgba(255,255,255,0)\"}, \"marker\": {\"color\": \"#B6E880\", \"symbol\": \"line-ns-open\"}, \"name\": \"117\", \"offsetgroup\": \"117\", \"showlegend\": false, \"type\": \"box\", \"x\": [10.17, 0.06], \"xaxis\": \"x2\", \"yaxis\": \"y2\"}, {\"alignmentgroup\": \"True\", \"bingroup\": \"x\", \"histfunc\": \"sum\", \"hovertemplate\": \"Amount of Sales for Price=115<br>index=%{x}<br>sum of Amount of Sales for Price=%{y}<extra></extra>\", \"legendgroup\": \"115\", \"marker\": {\"color\": \"#FF97FF\"}, \"name\": \"115\", \"offsetgroup\": \"115\", \"orientation\": \"v\", \"showlegend\": true, \"type\": \"histogram\", \"x\": [16.13], \"xaxis\": \"x\", \"y\": [115], \"yaxis\": \"y\"}, {\"alignmentgroup\": \"True\", \"boxpoints\": \"all\", \"fillcolor\": \"rgba(255,255,255,0)\", \"hoveron\": \"points\", \"hovertemplate\": \"Amount of Sales for Price=115<br>index=%{x}<extra></extra>\", \"jitter\": 0, \"legendgroup\": \"115\", \"line\": {\"color\": \"rgba(255,255,255,0)\"}, \"marker\": {\"color\": \"#FF97FF\", \"symbol\": \"line-ns-open\"}, \"name\": \"115\", \"offsetgroup\": \"115\", \"showlegend\": false, \"type\": \"box\", \"x\": [16.13], \"xaxis\": \"x2\", \"yaxis\": \"y2\"}, {\"alignmentgroup\": \"True\", \"bingroup\": \"x\", \"histfunc\": \"sum\", \"hovertemplate\": \"Amount of Sales for Price=111<br>index=%{x}<br>sum of Amount of Sales for Price=%{y}<extra></extra>\", \"legendgroup\": \"111\", \"marker\": {\"color\": \"#FECB52\"}, \"name\": \"111\", \"offsetgroup\": \"111\", \"orientation\": \"v\", \"showlegend\": true, \"type\": \"histogram\", \"x\": [13.57], \"xaxis\": \"x\", \"y\": [111], \"yaxis\": \"y\"}, {\"alignmentgroup\": \"True\", \"boxpoints\": \"all\", \"fillcolor\": \"rgba(255,255,255,0)\", \"hoveron\": \"points\", \"hovertemplate\": \"Amount of Sales for Price=111<br>index=%{x}<extra></extra>\", \"jitter\": 0, \"legendgroup\": \"111\", \"line\": {\"color\": \"rgba(255,255,255,0)\"}, \"marker\": {\"color\": \"#FECB52\", \"symbol\": \"line-ns-open\"}, \"name\": \"111\", \"offsetgroup\": \"111\", \"showlegend\": false, \"type\": \"box\", \"x\": [13.57], \"xaxis\": \"x2\", \"yaxis\": \"y2\"}, {\"alignmentgroup\": \"True\", \"bingroup\": \"x\", \"histfunc\": \"sum\", \"hovertemplate\": \"Amount of Sales for Price=109<br>index=%{x}<br>sum of Amount of Sales for Price=%{y}<extra></extra>\", \"legendgroup\": \"109\", \"marker\": {\"color\": \"#636efa\"}, \"name\": \"109\", \"offsetgroup\": \"109\", \"orientation\": \"v\", \"showlegend\": true, \"type\": \"histogram\", \"x\": [0.62], \"xaxis\": \"x\", \"y\": [109], \"yaxis\": \"y\"}, {\"alignmentgroup\": \"True\", \"boxpoints\": \"all\", \"fillcolor\": \"rgba(255,255,255,0)\", \"hoveron\": \"points\", \"hovertemplate\": \"Amount of Sales for Price=109<br>index=%{x}<extra></extra>\", \"jitter\": 0, \"legendgroup\": \"109\", \"line\": {\"color\": \"rgba(255,255,255,0)\"}, \"marker\": {\"color\": \"#636efa\", \"symbol\": \"line-ns-open\"}, \"name\": \"109\", \"offsetgroup\": \"109\", \"showlegend\": false, \"type\": \"box\", \"x\": [0.62], \"xaxis\": \"x2\", \"yaxis\": \"y2\"}, {\"alignmentgroup\": \"True\", \"bingroup\": \"x\", \"histfunc\": \"sum\", \"hovertemplate\": \"Amount of Sales for Price=106<br>index=%{x}<br>sum of Amount of Sales for Price=%{y}<extra></extra>\", \"legendgroup\": \"106\", \"marker\": {\"color\": \"#EF553B\"}, \"name\": \"106\", \"offsetgroup\": \"106\", \"orientation\": \"v\", \"showlegend\": true, \"type\": \"histogram\", \"x\": [2.13], \"xaxis\": \"x\", \"y\": [106], \"yaxis\": \"y\"}, {\"alignmentgroup\": \"True\", \"boxpoints\": \"all\", \"fillcolor\": \"rgba(255,255,255,0)\", \"hoveron\": \"points\", \"hovertemplate\": \"Amount of Sales for Price=106<br>index=%{x}<extra></extra>\", \"jitter\": 0, \"legendgroup\": \"106\", \"line\": {\"color\": \"rgba(255,255,255,0)\"}, \"marker\": {\"color\": \"#EF553B\", \"symbol\": \"line-ns-open\"}, \"name\": \"106\", \"offsetgroup\": \"106\", \"showlegend\": false, \"type\": \"box\", \"x\": [2.13], \"xaxis\": \"x2\", \"yaxis\": \"y2\"}, {\"alignmentgroup\": \"True\", \"bingroup\": \"x\", \"histfunc\": \"sum\", \"hovertemplate\": \"Amount of Sales for Price=105<br>index=%{x}<br>sum of Amount of Sales for Price=%{y}<extra></extra>\", \"legendgroup\": \"105\", \"marker\": {\"color\": \"#00cc96\"}, \"name\": \"105\", \"offsetgroup\": \"105\", \"orientation\": \"v\", \"showlegend\": true, \"type\": \"histogram\", \"x\": [9.32], \"xaxis\": \"x\", \"y\": [105], \"yaxis\": \"y\"}, {\"alignmentgroup\": \"True\", \"boxpoints\": \"all\", \"fillcolor\": \"rgba(255,255,255,0)\", \"hoveron\": \"points\", \"hovertemplate\": \"Amount of Sales for Price=105<br>index=%{x}<extra></extra>\", \"jitter\": 0, \"legendgroup\": \"105\", \"line\": {\"color\": \"rgba(255,255,255,0)\"}, \"marker\": {\"color\": \"#00cc96\", \"symbol\": \"line-ns-open\"}, \"name\": \"105\", \"offsetgroup\": \"105\", \"showlegend\": false, \"type\": \"box\", \"x\": [9.32], \"xaxis\": \"x2\", \"yaxis\": \"y2\"}, {\"alignmentgroup\": \"True\", \"bingroup\": \"x\", \"histfunc\": \"sum\", \"hovertemplate\": \"Amount of Sales for Price=102<br>index=%{x}<br>sum of Amount of Sales for Price=%{y}<extra></extra>\", \"legendgroup\": \"102\", \"marker\": {\"color\": \"#ab63fa\"}, \"name\": \"102\", \"offsetgroup\": \"102\", \"orientation\": \"v\", \"showlegend\": true, \"type\": \"histogram\", \"x\": [4.24], \"xaxis\": \"x\", \"y\": [102], \"yaxis\": \"y\"}, {\"alignmentgroup\": \"True\", \"boxpoints\": \"all\", \"fillcolor\": \"rgba(255,255,255,0)\", \"hoveron\": \"points\", \"hovertemplate\": \"Amount of Sales for Price=102<br>index=%{x}<extra></extra>\", \"jitter\": 0, \"legendgroup\": \"102\", \"line\": {\"color\": \"rgba(255,255,255,0)\"}, \"marker\": {\"color\": \"#ab63fa\", \"symbol\": \"line-ns-open\"}, \"name\": \"102\", \"offsetgroup\": \"102\", \"showlegend\": false, \"type\": \"box\", \"x\": [4.24], \"xaxis\": \"x2\", \"yaxis\": \"y2\"}, {\"alignmentgroup\": \"True\", \"bingroup\": \"x\", \"histfunc\": \"sum\", \"hovertemplate\": \"Amount of Sales for Price=101<br>index=%{x}<br>sum of Amount of Sales for Price=%{y}<extra></extra>\", \"legendgroup\": \"101\", \"marker\": {\"color\": \"#FFA15A\"}, \"name\": \"101\", \"offsetgroup\": \"101\", \"orientation\": \"v\", \"showlegend\": true, \"type\": \"histogram\", \"x\": [3.81], \"xaxis\": \"x\", \"y\": [101], \"yaxis\": \"y\"}, {\"alignmentgroup\": \"True\", \"boxpoints\": \"all\", \"fillcolor\": \"rgba(255,255,255,0)\", \"hoveron\": \"points\", \"hovertemplate\": \"Amount of Sales for Price=101<br>index=%{x}<extra></extra>\", \"jitter\": 0, \"legendgroup\": \"101\", \"line\": {\"color\": \"rgba(255,255,255,0)\"}, \"marker\": {\"color\": \"#FFA15A\", \"symbol\": \"line-ns-open\"}, \"name\": \"101\", \"offsetgroup\": \"101\", \"showlegend\": false, \"type\": \"box\", \"x\": [3.81], \"xaxis\": \"x2\", \"yaxis\": \"y2\"}, {\"alignmentgroup\": \"True\", \"bingroup\": \"x\", \"histfunc\": \"sum\", \"hovertemplate\": \"Amount of Sales for Price=100<br>index=%{x}<br>sum of Amount of Sales for Price=%{y}<extra></extra>\", \"legendgroup\": \"100\", \"marker\": {\"color\": \"#19d3f3\"}, \"name\": \"100\", \"offsetgroup\": \"100\", \"orientation\": \"v\", \"showlegend\": true, \"type\": \"histogram\", \"x\": [33.29], \"xaxis\": \"x\", \"y\": [100], \"yaxis\": \"y\"}, {\"alignmentgroup\": \"True\", \"boxpoints\": \"all\", \"fillcolor\": \"rgba(255,255,255,0)\", \"hoveron\": \"points\", \"hovertemplate\": \"Amount of Sales for Price=100<br>index=%{x}<extra></extra>\", \"jitter\": 0, \"legendgroup\": \"100\", \"line\": {\"color\": \"rgba(255,255,255,0)\"}, \"marker\": {\"color\": \"#19d3f3\", \"symbol\": \"line-ns-open\"}, \"name\": \"100\", \"offsetgroup\": \"100\", \"showlegend\": false, \"type\": \"box\", \"x\": [33.29], \"xaxis\": \"x2\", \"yaxis\": \"y2\"}, {\"alignmentgroup\": \"True\", \"bingroup\": \"x\", \"histfunc\": \"sum\", \"hovertemplate\": \"Amount of Sales for Price=99<br>index=%{x}<br>sum of Amount of Sales for Price=%{y}<extra></extra>\", \"legendgroup\": \"99\", \"marker\": {\"color\": \"#FF6692\"}, \"name\": \"99\", \"offsetgroup\": \"99\", \"orientation\": \"v\", \"showlegend\": true, \"type\": \"histogram\", \"x\": [1.38, 28.0], \"xaxis\": \"x\", \"y\": [99, 99], \"yaxis\": \"y\"}, {\"alignmentgroup\": \"True\", \"boxpoints\": \"all\", \"fillcolor\": \"rgba(255,255,255,0)\", \"hoveron\": \"points\", \"hovertemplate\": \"Amount of Sales for Price=99<br>index=%{x}<extra></extra>\", \"jitter\": 0, \"legendgroup\": \"99\", \"line\": {\"color\": \"rgba(255,255,255,0)\"}, \"marker\": {\"color\": \"#FF6692\", \"symbol\": \"line-ns-open\"}, \"name\": \"99\", \"offsetgroup\": \"99\", \"showlegend\": false, \"type\": \"box\", \"x\": [1.38, 28.0], \"xaxis\": \"x2\", \"yaxis\": \"y2\"}, {\"alignmentgroup\": \"True\", \"bingroup\": \"x\", \"histfunc\": \"sum\", \"hovertemplate\": \"Amount of Sales for Price=98<br>index=%{x}<br>sum of Amount of Sales for Price=%{y}<extra></extra>\", \"legendgroup\": \"98\", \"marker\": {\"color\": \"#B6E880\"}, \"name\": \"98\", \"offsetgroup\": \"98\", \"orientation\": \"v\", \"showlegend\": true, \"type\": \"histogram\", \"x\": [29.17, 1.24], \"xaxis\": \"x\", \"y\": [98, 98], \"yaxis\": \"y\"}, {\"alignmentgroup\": \"True\", \"boxpoints\": \"all\", \"fillcolor\": \"rgba(255,255,255,0)\", \"hoveron\": \"points\", \"hovertemplate\": \"Amount of Sales for Price=98<br>index=%{x}<extra></extra>\", \"jitter\": 0, \"legendgroup\": \"98\", \"line\": {\"color\": \"rgba(255,255,255,0)\"}, \"marker\": {\"color\": \"#B6E880\", \"symbol\": \"line-ns-open\"}, \"name\": \"98\", \"offsetgroup\": \"98\", \"showlegend\": false, \"type\": \"box\", \"x\": [29.17, 1.24], \"xaxis\": \"x2\", \"yaxis\": \"y2\"}, {\"alignmentgroup\": \"True\", \"bingroup\": \"x\", \"histfunc\": \"sum\", \"hovertemplate\": \"Amount of Sales for Price=92<br>index=%{x}<br>sum of Amount of Sales for Price=%{y}<extra></extra>\", \"legendgroup\": \"92\", \"marker\": {\"color\": \"#FF97FF\"}, \"name\": \"92\", \"offsetgroup\": \"92\", \"orientation\": \"v\", \"showlegend\": true, \"type\": \"histogram\", \"x\": [2.98], \"xaxis\": \"x\", \"y\": [92], \"yaxis\": \"y\"}, {\"alignmentgroup\": \"True\", \"boxpoints\": \"all\", \"fillcolor\": \"rgba(255,255,255,0)\", \"hoveron\": \"points\", \"hovertemplate\": \"Amount of Sales for Price=92<br>index=%{x}<extra></extra>\", \"jitter\": 0, \"legendgroup\": \"92\", \"line\": {\"color\": \"rgba(255,255,255,0)\"}, \"marker\": {\"color\": \"#FF97FF\", \"symbol\": \"line-ns-open\"}, \"name\": \"92\", \"offsetgroup\": \"92\", \"showlegend\": false, \"type\": \"box\", \"x\": [2.98], \"xaxis\": \"x2\", \"yaxis\": \"y2\"}, {\"alignmentgroup\": \"True\", \"bingroup\": \"x\", \"histfunc\": \"sum\", \"hovertemplate\": \"Amount of Sales for Price=91<br>index=%{x}<br>sum of Amount of Sales for Price=%{y}<extra></extra>\", \"legendgroup\": \"91\", \"marker\": {\"color\": \"#FECB52\"}, \"name\": \"91\", \"offsetgroup\": \"91\", \"orientation\": \"v\", \"showlegend\": true, \"type\": \"histogram\", \"x\": [6.45], \"xaxis\": \"x\", \"y\": [91], \"yaxis\": \"y\"}, {\"alignmentgroup\": \"True\", \"boxpoints\": \"all\", \"fillcolor\": \"rgba(255,255,255,0)\", \"hoveron\": \"points\", \"hovertemplate\": \"Amount of Sales for Price=91<br>index=%{x}<extra></extra>\", \"jitter\": 0, \"legendgroup\": \"91\", \"line\": {\"color\": \"rgba(255,255,255,0)\"}, \"marker\": {\"color\": \"#FECB52\", \"symbol\": \"line-ns-open\"}, \"name\": \"91\", \"offsetgroup\": \"91\", \"showlegend\": false, \"type\": \"box\", \"x\": [6.45], \"xaxis\": \"x2\", \"yaxis\": \"y2\"}, {\"alignmentgroup\": \"True\", \"bingroup\": \"x\", \"histfunc\": \"sum\", \"hovertemplate\": \"Amount of Sales for Price=89<br>index=%{x}<br>sum of Amount of Sales for Price=%{y}<extra></extra>\", \"legendgroup\": \"89\", \"marker\": {\"color\": \"#636efa\"}, \"name\": \"89\", \"offsetgroup\": \"89\", \"orientation\": \"v\", \"showlegend\": true, \"type\": \"histogram\", \"x\": [0.14], \"xaxis\": \"x\", \"y\": [89], \"yaxis\": \"y\"}, {\"alignmentgroup\": \"True\", \"boxpoints\": \"all\", \"fillcolor\": \"rgba(255,255,255,0)\", \"hoveron\": \"points\", \"hovertemplate\": \"Amount of Sales for Price=89<br>index=%{x}<extra></extra>\", \"jitter\": 0, \"legendgroup\": \"89\", \"line\": {\"color\": \"rgba(255,255,255,0)\"}, \"marker\": {\"color\": \"#636efa\", \"symbol\": \"line-ns-open\"}, \"name\": \"89\", \"offsetgroup\": \"89\", \"showlegend\": false, \"type\": \"box\", \"x\": [0.14], \"xaxis\": \"x2\", \"yaxis\": \"y2\"}, {\"alignmentgroup\": \"True\", \"bingroup\": \"x\", \"histfunc\": \"sum\", \"hovertemplate\": \"Amount of Sales for Price=88<br>index=%{x}<br>sum of Amount of Sales for Price=%{y}<extra></extra>\", \"legendgroup\": \"88\", \"marker\": {\"color\": \"#EF553B\"}, \"name\": \"88\", \"offsetgroup\": \"88\", \"orientation\": \"v\", \"showlegend\": true, \"type\": \"histogram\", \"x\": [10.75], \"xaxis\": \"x\", \"y\": [88], \"yaxis\": \"y\"}, {\"alignmentgroup\": \"True\", \"boxpoints\": \"all\", \"fillcolor\": \"rgba(255,255,255,0)\", \"hoveron\": \"points\", \"hovertemplate\": \"Amount of Sales for Price=88<br>index=%{x}<extra></extra>\", \"jitter\": 0, \"legendgroup\": \"88\", \"line\": {\"color\": \"rgba(255,255,255,0)\"}, \"marker\": {\"color\": \"#EF553B\", \"symbol\": \"line-ns-open\"}, \"name\": \"88\", \"offsetgroup\": \"88\", \"showlegend\": false, \"type\": \"box\", \"x\": [10.75], \"xaxis\": \"x2\", \"yaxis\": \"y2\"}, {\"alignmentgroup\": \"True\", \"bingroup\": \"x\", \"histfunc\": \"sum\", \"hovertemplate\": \"Amount of Sales for Price=87<br>index=%{x}<br>sum of Amount of Sales for Price=%{y}<extra></extra>\", \"legendgroup\": \"87\", \"marker\": {\"color\": \"#00cc96\"}, \"name\": \"87\", \"offsetgroup\": \"87\", \"orientation\": \"v\", \"showlegend\": true, \"type\": \"histogram\", \"x\": [0.97, 9.15], \"xaxis\": \"x\", \"y\": [87, 87], \"yaxis\": \"y\"}, {\"alignmentgroup\": \"True\", \"boxpoints\": \"all\", \"fillcolor\": \"rgba(255,255,255,0)\", \"hoveron\": \"points\", \"hovertemplate\": \"Amount of Sales for Price=87<br>index=%{x}<extra></extra>\", \"jitter\": 0, \"legendgroup\": \"87\", \"line\": {\"color\": \"rgba(255,255,255,0)\"}, \"marker\": {\"color\": \"#00cc96\", \"symbol\": \"line-ns-open\"}, \"name\": \"87\", \"offsetgroup\": \"87\", \"showlegend\": false, \"type\": \"box\", \"x\": [0.97, 9.15], \"xaxis\": \"x2\", \"yaxis\": \"y2\"}, {\"alignmentgroup\": \"True\", \"bingroup\": \"x\", \"histfunc\": \"sum\", \"hovertemplate\": \"Amount of Sales for Price=84<br>index=%{x}<br>sum of Amount of Sales for Price=%{y}<extra></extra>\", \"legendgroup\": \"84\", \"marker\": {\"color\": \"#ab63fa\"}, \"name\": \"84\", \"offsetgroup\": \"84\", \"orientation\": \"v\", \"showlegend\": true, \"type\": \"histogram\", \"x\": [2.96], \"xaxis\": \"x\", \"y\": [84], \"yaxis\": \"y\"}, {\"alignmentgroup\": \"True\", \"boxpoints\": \"all\", \"fillcolor\": \"rgba(255,255,255,0)\", \"hoveron\": \"points\", \"hovertemplate\": \"Amount of Sales for Price=84<br>index=%{x}<extra></extra>\", \"jitter\": 0, \"legendgroup\": \"84\", \"line\": {\"color\": \"rgba(255,255,255,0)\"}, \"marker\": {\"color\": \"#ab63fa\", \"symbol\": \"line-ns-open\"}, \"name\": \"84\", \"offsetgroup\": \"84\", \"showlegend\": false, \"type\": \"box\", \"x\": [2.96], \"xaxis\": \"x2\", \"yaxis\": \"y2\"}, {\"alignmentgroup\": \"True\", \"bingroup\": \"x\", \"histfunc\": \"sum\", \"hovertemplate\": \"Amount of Sales for Price=81<br>index=%{x}<br>sum of Amount of Sales for Price=%{y}<extra></extra>\", \"legendgroup\": \"81\", \"marker\": {\"color\": \"#FFA15A\"}, \"name\": \"81\", \"offsetgroup\": \"81\", \"orientation\": \"v\", \"showlegend\": true, \"type\": \"histogram\", \"x\": [24.95], \"xaxis\": \"x\", \"y\": [81], \"yaxis\": \"y\"}, {\"alignmentgroup\": \"True\", \"boxpoints\": \"all\", \"fillcolor\": \"rgba(255,255,255,0)\", \"hoveron\": \"points\", \"hovertemplate\": \"Amount of Sales for Price=81<br>index=%{x}<extra></extra>\", \"jitter\": 0, \"legendgroup\": \"81\", \"line\": {\"color\": \"rgba(255,255,255,0)\"}, \"marker\": {\"color\": \"#FFA15A\", \"symbol\": \"line-ns-open\"}, \"name\": \"81\", \"offsetgroup\": \"81\", \"showlegend\": false, \"type\": \"box\", \"x\": [24.95], \"xaxis\": \"x2\", \"yaxis\": \"y2\"}, {\"alignmentgroup\": \"True\", \"bingroup\": \"x\", \"histfunc\": \"sum\", \"hovertemplate\": \"Amount of Sales for Price=80<br>index=%{x}<br>sum of Amount of Sales for Price=%{y}<extra></extra>\", \"legendgroup\": \"80\", \"marker\": {\"color\": \"#19d3f3\"}, \"name\": \"80\", \"offsetgroup\": \"80\", \"orientation\": \"v\", \"showlegend\": true, \"type\": \"histogram\", \"x\": [25.0], \"xaxis\": \"x\", \"y\": [80], \"yaxis\": \"y\"}, {\"alignmentgroup\": \"True\", \"boxpoints\": \"all\", \"fillcolor\": \"rgba(255,255,255,0)\", \"hoveron\": \"points\", \"hovertemplate\": \"Amount of Sales for Price=80<br>index=%{x}<extra></extra>\", \"jitter\": 0, \"legendgroup\": \"80\", \"line\": {\"color\": \"rgba(255,255,255,0)\"}, \"marker\": {\"color\": \"#19d3f3\", \"symbol\": \"line-ns-open\"}, \"name\": \"80\", \"offsetgroup\": \"80\", \"showlegend\": false, \"type\": \"box\", \"x\": [25.0], \"xaxis\": \"x2\", \"yaxis\": \"y2\"}, {\"alignmentgroup\": \"True\", \"bingroup\": \"x\", \"histfunc\": \"sum\", \"hovertemplate\": \"Amount of Sales for Price=74<br>index=%{x}<br>sum of Amount of Sales for Price=%{y}<extra></extra>\", \"legendgroup\": \"74\", \"marker\": {\"color\": \"#FF6692\"}, \"name\": \"74\", \"offsetgroup\": \"74\", \"orientation\": \"v\", \"showlegend\": true, \"type\": \"histogram\", \"x\": [20.38], \"xaxis\": \"x\", \"y\": [74], \"yaxis\": \"y\"}, {\"alignmentgroup\": \"True\", \"boxpoints\": \"all\", \"fillcolor\": \"rgba(255,255,255,0)\", \"hoveron\": \"points\", \"hovertemplate\": \"Amount of Sales for Price=74<br>index=%{x}<extra></extra>\", \"jitter\": 0, \"legendgroup\": \"74\", \"line\": {\"color\": \"rgba(255,255,255,0)\"}, \"marker\": {\"color\": \"#FF6692\", \"symbol\": \"line-ns-open\"}, \"name\": \"74\", \"offsetgroup\": \"74\", \"showlegend\": false, \"type\": \"box\", \"x\": [20.38], \"xaxis\": \"x2\", \"yaxis\": \"y2\"}, {\"alignmentgroup\": \"True\", \"bingroup\": \"x\", \"histfunc\": \"sum\", \"hovertemplate\": \"Amount of Sales for Price=73<br>index=%{x}<br>sum of Amount of Sales for Price=%{y}<extra></extra>\", \"legendgroup\": \"73\", \"marker\": {\"color\": \"#B6E880\"}, \"name\": \"73\", \"offsetgroup\": \"73\", \"orientation\": \"v\", \"showlegend\": true, \"type\": \"histogram\", \"x\": [5.39], \"xaxis\": \"x\", \"y\": [73], \"yaxis\": \"y\"}, {\"alignmentgroup\": \"True\", \"boxpoints\": \"all\", \"fillcolor\": \"rgba(255,255,255,0)\", \"hoveron\": \"points\", \"hovertemplate\": \"Amount of Sales for Price=73<br>index=%{x}<extra></extra>\", \"jitter\": 0, \"legendgroup\": \"73\", \"line\": {\"color\": \"rgba(255,255,255,0)\"}, \"marker\": {\"color\": \"#B6E880\", \"symbol\": \"line-ns-open\"}, \"name\": \"73\", \"offsetgroup\": \"73\", \"showlegend\": false, \"type\": \"box\", \"x\": [5.39], \"xaxis\": \"x2\", \"yaxis\": \"y2\"}, {\"alignmentgroup\": \"True\", \"bingroup\": \"x\", \"histfunc\": \"sum\", \"hovertemplate\": \"Amount of Sales for Price=71<br>index=%{x}<br>sum of Amount of Sales for Price=%{y}<extra></extra>\", \"legendgroup\": \"71\", \"marker\": {\"color\": \"#FF97FF\"}, \"name\": \"71\", \"offsetgroup\": \"71\", \"orientation\": \"v\", \"showlegend\": true, \"type\": \"histogram\", \"x\": [21.23], \"xaxis\": \"x\", \"y\": [71], \"yaxis\": \"y\"}, {\"alignmentgroup\": \"True\", \"boxpoints\": \"all\", \"fillcolor\": \"rgba(255,255,255,0)\", \"hoveron\": \"points\", \"hovertemplate\": \"Amount of Sales for Price=71<br>index=%{x}<extra></extra>\", \"jitter\": 0, \"legendgroup\": \"71\", \"line\": {\"color\": \"rgba(255,255,255,0)\"}, \"marker\": {\"color\": \"#FF97FF\", \"symbol\": \"line-ns-open\"}, \"name\": \"71\", \"offsetgroup\": \"71\", \"showlegend\": false, \"type\": \"box\", \"x\": [21.23], \"xaxis\": \"x2\", \"yaxis\": \"y2\"}, {\"alignmentgroup\": \"True\", \"bingroup\": \"x\", \"histfunc\": \"sum\", \"hovertemplate\": \"Amount of Sales for Price=69<br>index=%{x}<br>sum of Amount of Sales for Price=%{y}<extra></extra>\", \"legendgroup\": \"69\", \"marker\": {\"color\": \"#FECB52\"}, \"name\": \"69\", \"offsetgroup\": \"69\", \"orientation\": \"v\", \"showlegend\": true, \"type\": \"histogram\", \"x\": [5.09, 0.34], \"xaxis\": \"x\", \"y\": [69, 69], \"yaxis\": \"y\"}, {\"alignmentgroup\": \"True\", \"boxpoints\": \"all\", \"fillcolor\": \"rgba(255,255,255,0)\", \"hoveron\": \"points\", \"hovertemplate\": \"Amount of Sales for Price=69<br>index=%{x}<extra></extra>\", \"jitter\": 0, \"legendgroup\": \"69\", \"line\": {\"color\": \"rgba(255,255,255,0)\"}, \"marker\": {\"color\": \"#FECB52\", \"symbol\": \"line-ns-open\"}, \"name\": \"69\", \"offsetgroup\": \"69\", \"showlegend\": false, \"type\": \"box\", \"x\": [5.09, 0.34], \"xaxis\": \"x2\", \"yaxis\": \"y2\"}, {\"alignmentgroup\": \"True\", \"bingroup\": \"x\", \"histfunc\": \"sum\", \"hovertemplate\": \"Amount of Sales for Price=67<br>index=%{x}<br>sum of Amount of Sales for Price=%{y}<extra></extra>\", \"legendgroup\": \"67\", \"marker\": {\"color\": \"#636efa\"}, \"name\": \"67\", \"offsetgroup\": \"67\", \"orientation\": \"v\", \"showlegend\": true, \"type\": \"histogram\", \"x\": [125.0], \"xaxis\": \"x\", \"y\": [67], \"yaxis\": \"y\"}, {\"alignmentgroup\": \"True\", \"boxpoints\": \"all\", \"fillcolor\": \"rgba(255,255,255,0)\", \"hoveron\": \"points\", \"hovertemplate\": \"Amount of Sales for Price=67<br>index=%{x}<extra></extra>\", \"jitter\": 0, \"legendgroup\": \"67\", \"line\": {\"color\": \"rgba(255,255,255,0)\"}, \"marker\": {\"color\": \"#636efa\", \"symbol\": \"line-ns-open\"}, \"name\": \"67\", \"offsetgroup\": \"67\", \"showlegend\": false, \"type\": \"box\", \"x\": [125.0], \"xaxis\": \"x2\", \"yaxis\": \"y2\"}, {\"alignmentgroup\": \"True\", \"bingroup\": \"x\", \"histfunc\": \"sum\", \"hovertemplate\": \"Amount of Sales for Price=66<br>index=%{x}<br>sum of Amount of Sales for Price=%{y}<extra></extra>\", \"legendgroup\": \"66\", \"marker\": {\"color\": \"#EF553B\"}, \"name\": \"66\", \"offsetgroup\": \"66\", \"orientation\": \"v\", \"showlegend\": true, \"type\": \"histogram\", \"x\": [5.49, 0.04, 16.65], \"xaxis\": \"x\", \"y\": [66, 66, 66], \"yaxis\": \"y\"}, {\"alignmentgroup\": \"True\", \"boxpoints\": \"all\", \"fillcolor\": \"rgba(255,255,255,0)\", \"hoveron\": \"points\", \"hovertemplate\": \"Amount of Sales for Price=66<br>index=%{x}<extra></extra>\", \"jitter\": 0, \"legendgroup\": \"66\", \"line\": {\"color\": \"rgba(255,255,255,0)\"}, \"marker\": {\"color\": \"#EF553B\", \"symbol\": \"line-ns-open\"}, \"name\": \"66\", \"offsetgroup\": \"66\", \"showlegend\": false, \"type\": \"box\", \"x\": [5.49, 0.04, 16.65], \"xaxis\": \"x2\", \"yaxis\": \"y2\"}, {\"alignmentgroup\": \"True\", \"bingroup\": \"x\", \"histfunc\": \"sum\", \"hovertemplate\": \"Amount of Sales for Price=65<br>index=%{x}<br>sum of Amount of Sales for Price=%{y}<extra></extra>\", \"legendgroup\": \"65\", \"marker\": {\"color\": \"#00cc96\"}, \"name\": \"65\", \"offsetgroup\": \"65\", \"orientation\": \"v\", \"showlegend\": true, \"type\": \"histogram\", \"x\": [1.46], \"xaxis\": \"x\", \"y\": [65], \"yaxis\": \"y\"}, {\"alignmentgroup\": \"True\", \"boxpoints\": \"all\", \"fillcolor\": \"rgba(255,255,255,0)\", \"hoveron\": \"points\", \"hovertemplate\": \"Amount of Sales for Price=65<br>index=%{x}<extra></extra>\", \"jitter\": 0, \"legendgroup\": \"65\", \"line\": {\"color\": \"rgba(255,255,255,0)\"}, \"marker\": {\"color\": \"#00cc96\", \"symbol\": \"line-ns-open\"}, \"name\": \"65\", \"offsetgroup\": \"65\", \"showlegend\": false, \"type\": \"box\", \"x\": [1.46], \"xaxis\": \"x2\", \"yaxis\": \"y2\"}, {\"alignmentgroup\": \"True\", \"bingroup\": \"x\", \"histfunc\": \"sum\", \"hovertemplate\": \"Amount of Sales for Price=64<br>index=%{x}<br>sum of Amount of Sales for Price=%{y}<extra></extra>\", \"legendgroup\": \"64\", \"marker\": {\"color\": \"#ab63fa\"}, \"name\": \"64\", \"offsetgroup\": \"64\", \"orientation\": \"v\", \"showlegend\": true, \"type\": \"histogram\", \"x\": [0.25, 0.84], \"xaxis\": \"x\", \"y\": [64, 64], \"yaxis\": \"y\"}, {\"alignmentgroup\": \"True\", \"boxpoints\": \"all\", \"fillcolor\": \"rgba(255,255,255,0)\", \"hoveron\": \"points\", \"hovertemplate\": \"Amount of Sales for Price=64<br>index=%{x}<extra></extra>\", \"jitter\": 0, \"legendgroup\": \"64\", \"line\": {\"color\": \"rgba(255,255,255,0)\"}, \"marker\": {\"color\": \"#ab63fa\", \"symbol\": \"line-ns-open\"}, \"name\": \"64\", \"offsetgroup\": \"64\", \"showlegend\": false, \"type\": \"box\", \"x\": [0.25, 0.84], \"xaxis\": \"x2\", \"yaxis\": \"y2\"}, {\"alignmentgroup\": \"True\", \"bingroup\": \"x\", \"histfunc\": \"sum\", \"hovertemplate\": \"Amount of Sales for Price=62<br>index=%{x}<br>sum of Amount of Sales for Price=%{y}<extra></extra>\", \"legendgroup\": \"62\", \"marker\": {\"color\": \"#FFA15A\"}, \"name\": \"62\", \"offsetgroup\": \"62\", \"orientation\": \"v\", \"showlegend\": true, \"type\": \"histogram\", \"x\": [0.5], \"xaxis\": \"x\", \"y\": [62], \"yaxis\": \"y\"}, {\"alignmentgroup\": \"True\", \"boxpoints\": \"all\", \"fillcolor\": \"rgba(255,255,255,0)\", \"hoveron\": \"points\", \"hovertemplate\": \"Amount of Sales for Price=62<br>index=%{x}<extra></extra>\", \"jitter\": 0, \"legendgroup\": \"62\", \"line\": {\"color\": \"rgba(255,255,255,0)\"}, \"marker\": {\"color\": \"#FFA15A\", \"symbol\": \"line-ns-open\"}, \"name\": \"62\", \"offsetgroup\": \"62\", \"showlegend\": false, \"type\": \"box\", \"x\": [0.5], \"xaxis\": \"x2\", \"yaxis\": \"y2\"}, {\"alignmentgroup\": \"True\", \"bingroup\": \"x\", \"histfunc\": \"sum\", \"hovertemplate\": \"Amount of Sales for Price=60<br>index=%{x}<br>sum of Amount of Sales for Price=%{y}<extra></extra>\", \"legendgroup\": \"60\", \"marker\": {\"color\": \"#19d3f3\"}, \"name\": \"60\", \"offsetgroup\": \"60\", \"orientation\": \"v\", \"showlegend\": true, \"type\": \"histogram\", \"x\": [7.45], \"xaxis\": \"x\", \"y\": [60], \"yaxis\": \"y\"}, {\"alignmentgroup\": \"True\", \"boxpoints\": \"all\", \"fillcolor\": \"rgba(255,255,255,0)\", \"hoveron\": \"points\", \"hovertemplate\": \"Amount of Sales for Price=60<br>index=%{x}<extra></extra>\", \"jitter\": 0, \"legendgroup\": \"60\", \"line\": {\"color\": \"rgba(255,255,255,0)\"}, \"marker\": {\"color\": \"#19d3f3\", \"symbol\": \"line-ns-open\"}, \"name\": \"60\", \"offsetgroup\": \"60\", \"showlegend\": false, \"type\": \"box\", \"x\": [7.45], \"xaxis\": \"x2\", \"yaxis\": \"y2\"}, {\"alignmentgroup\": \"True\", \"bingroup\": \"x\", \"histfunc\": \"sum\", \"hovertemplate\": \"Amount of Sales for Price=58<br>index=%{x}<br>sum of Amount of Sales for Price=%{y}<extra></extra>\", \"legendgroup\": \"58\", \"marker\": {\"color\": \"#FF6692\"}, \"name\": \"58\", \"offsetgroup\": \"58\", \"orientation\": \"v\", \"showlegend\": true, \"type\": \"histogram\", \"x\": [29.95, 1.74, 1.75], \"xaxis\": \"x\", \"y\": [58, 58, 58], \"yaxis\": \"y\"}, {\"alignmentgroup\": \"True\", \"boxpoints\": \"all\", \"fillcolor\": \"rgba(255,255,255,0)\", \"hoveron\": \"points\", \"hovertemplate\": \"Amount of Sales for Price=58<br>index=%{x}<extra></extra>\", \"jitter\": 0, \"legendgroup\": \"58\", \"line\": {\"color\": \"rgba(255,255,255,0)\"}, \"marker\": {\"color\": \"#FF6692\", \"symbol\": \"line-ns-open\"}, \"name\": \"58\", \"offsetgroup\": \"58\", \"showlegend\": false, \"type\": \"box\", \"x\": [29.95, 1.74, 1.75], \"xaxis\": \"x2\", \"yaxis\": \"y2\"}, {\"alignmentgroup\": \"True\", \"bingroup\": \"x\", \"histfunc\": \"sum\", \"hovertemplate\": \"Amount of Sales for Price=57<br>index=%{x}<br>sum of Amount of Sales for Price=%{y}<extra></extra>\", \"legendgroup\": \"57\", \"marker\": {\"color\": \"#B6E880\"}, \"name\": \"57\", \"offsetgroup\": \"57\", \"orientation\": \"v\", \"showlegend\": true, \"type\": \"histogram\", \"x\": [1.8, 7.85], \"xaxis\": \"x\", \"y\": [57, 57], \"yaxis\": \"y\"}, {\"alignmentgroup\": \"True\", \"boxpoints\": \"all\", \"fillcolor\": \"rgba(255,255,255,0)\", \"hoveron\": \"points\", \"hovertemplate\": \"Amount of Sales for Price=57<br>index=%{x}<extra></extra>\", \"jitter\": 0, \"legendgroup\": \"57\", \"line\": {\"color\": \"rgba(255,255,255,0)\"}, \"marker\": {\"color\": \"#B6E880\", \"symbol\": \"line-ns-open\"}, \"name\": \"57\", \"offsetgroup\": \"57\", \"showlegend\": false, \"type\": \"box\", \"x\": [1.8, 7.85], \"xaxis\": \"x2\", \"yaxis\": \"y2\"}, {\"alignmentgroup\": \"True\", \"bingroup\": \"x\", \"histfunc\": \"sum\", \"hovertemplate\": \"Amount of Sales for Price=56<br>index=%{x}<br>sum of Amount of Sales for Price=%{y}<extra></extra>\", \"legendgroup\": \"56\", \"marker\": {\"color\": \"#FF97FF\"}, \"name\": \"56\", \"offsetgroup\": \"56\", \"orientation\": \"v\", \"showlegend\": true, \"type\": \"histogram\", \"x\": [0.08], \"xaxis\": \"x\", \"y\": [56], \"yaxis\": \"y\"}, {\"alignmentgroup\": \"True\", \"boxpoints\": \"all\", \"fillcolor\": \"rgba(255,255,255,0)\", \"hoveron\": \"points\", \"hovertemplate\": \"Amount of Sales for Price=56<br>index=%{x}<extra></extra>\", \"jitter\": 0, \"legendgroup\": \"56\", \"line\": {\"color\": \"rgba(255,255,255,0)\"}, \"marker\": {\"color\": \"#FF97FF\", \"symbol\": \"line-ns-open\"}, \"name\": \"56\", \"offsetgroup\": \"56\", \"showlegend\": false, \"type\": \"box\", \"x\": [0.08], \"xaxis\": \"x2\", \"yaxis\": \"y2\"}, {\"alignmentgroup\": \"True\", \"bingroup\": \"x\", \"histfunc\": \"sum\", \"hovertemplate\": \"Amount of Sales for Price=54<br>index=%{x}<br>sum of Amount of Sales for Price=%{y}<extra></extra>\", \"legendgroup\": \"54\", \"marker\": {\"color\": \"#FECB52\"}, \"name\": \"54\", \"offsetgroup\": \"54\", \"orientation\": \"v\", \"showlegend\": true, \"type\": \"histogram\", \"x\": [0.3], \"xaxis\": \"x\", \"y\": [54], \"yaxis\": \"y\"}, {\"alignmentgroup\": \"True\", \"boxpoints\": \"all\", \"fillcolor\": \"rgba(255,255,255,0)\", \"hoveron\": \"points\", \"hovertemplate\": \"Amount of Sales for Price=54<br>index=%{x}<extra></extra>\", \"jitter\": 0, \"legendgroup\": \"54\", \"line\": {\"color\": \"rgba(255,255,255,0)\"}, \"marker\": {\"color\": \"#FECB52\", \"symbol\": \"line-ns-open\"}, \"name\": \"54\", \"offsetgroup\": \"54\", \"showlegend\": false, \"type\": \"box\", \"x\": [0.3], \"xaxis\": \"x2\", \"yaxis\": \"y2\"}, {\"alignmentgroup\": \"True\", \"bingroup\": \"x\", \"histfunc\": \"sum\", \"hovertemplate\": \"Amount of Sales for Price=53<br>index=%{x}<br>sum of Amount of Sales for Price=%{y}<extra></extra>\", \"legendgroup\": \"53\", \"marker\": {\"color\": \"#636efa\"}, \"name\": \"53\", \"offsetgroup\": \"53\", \"orientation\": \"v\", \"showlegend\": true, \"type\": \"histogram\", \"x\": [5.63, 0.1], \"xaxis\": \"x\", \"y\": [53, 53], \"yaxis\": \"y\"}, {\"alignmentgroup\": \"True\", \"boxpoints\": \"all\", \"fillcolor\": \"rgba(255,255,255,0)\", \"hoveron\": \"points\", \"hovertemplate\": \"Amount of Sales for Price=53<br>index=%{x}<extra></extra>\", \"jitter\": 0, \"legendgroup\": \"53\", \"line\": {\"color\": \"rgba(255,255,255,0)\"}, \"marker\": {\"color\": \"#636efa\", \"symbol\": \"line-ns-open\"}, \"name\": \"53\", \"offsetgroup\": \"53\", \"showlegend\": false, \"type\": \"box\", \"x\": [5.63, 0.1], \"xaxis\": \"x2\", \"yaxis\": \"y2\"}, {\"alignmentgroup\": \"True\", \"bingroup\": \"x\", \"histfunc\": \"sum\", \"hovertemplate\": \"Amount of Sales for Price=52<br>index=%{x}<br>sum of Amount of Sales for Price=%{y}<extra></extra>\", \"legendgroup\": \"52\", \"marker\": {\"color\": \"#EF553B\"}, \"name\": \"52\", \"offsetgroup\": \"52\", \"orientation\": \"v\", \"showlegend\": true, \"type\": \"histogram\", \"x\": [5.4], \"xaxis\": \"x\", \"y\": [52], \"yaxis\": \"y\"}, {\"alignmentgroup\": \"True\", \"boxpoints\": \"all\", \"fillcolor\": \"rgba(255,255,255,0)\", \"hoveron\": \"points\", \"hovertemplate\": \"Amount of Sales for Price=52<br>index=%{x}<extra></extra>\", \"jitter\": 0, \"legendgroup\": \"52\", \"line\": {\"color\": \"rgba(255,255,255,0)\"}, \"marker\": {\"color\": \"#EF553B\", \"symbol\": \"line-ns-open\"}, \"name\": \"52\", \"offsetgroup\": \"52\", \"showlegend\": false, \"type\": \"box\", \"x\": [5.4], \"xaxis\": \"x2\", \"yaxis\": \"y2\"}, {\"alignmentgroup\": \"True\", \"bingroup\": \"x\", \"histfunc\": \"sum\", \"hovertemplate\": \"Amount of Sales for Price=50<br>index=%{x}<br>sum of Amount of Sales for Price=%{y}<extra></extra>\", \"legendgroup\": \"50\", \"marker\": {\"color\": \"#00cc96\"}, \"name\": \"50\", \"offsetgroup\": \"50\", \"orientation\": \"v\", \"showlegend\": true, \"type\": \"histogram\", \"x\": [1.05], \"xaxis\": \"x\", \"y\": [50], \"yaxis\": \"y\"}, {\"alignmentgroup\": \"True\", \"boxpoints\": \"all\", \"fillcolor\": \"rgba(255,255,255,0)\", \"hoveron\": \"points\", \"hovertemplate\": \"Amount of Sales for Price=50<br>index=%{x}<extra></extra>\", \"jitter\": 0, \"legendgroup\": \"50\", \"line\": {\"color\": \"rgba(255,255,255,0)\"}, \"marker\": {\"color\": \"#00cc96\", \"symbol\": \"line-ns-open\"}, \"name\": \"50\", \"offsetgroup\": \"50\", \"showlegend\": false, \"type\": \"box\", \"x\": [1.05], \"xaxis\": \"x2\", \"yaxis\": \"y2\"}, {\"alignmentgroup\": \"True\", \"bingroup\": \"x\", \"histfunc\": \"sum\", \"hovertemplate\": \"Amount of Sales for Price=46<br>index=%{x}<br>sum of Amount of Sales for Price=%{y}<extra></extra>\", \"legendgroup\": \"46\", \"marker\": {\"color\": \"#ab63fa\"}, \"name\": \"46\", \"offsetgroup\": \"46\", \"orientation\": \"v\", \"showlegend\": true, \"type\": \"histogram\", \"x\": [0.16, 0.53], \"xaxis\": \"x\", \"y\": [46, 46], \"yaxis\": \"y\"}, {\"alignmentgroup\": \"True\", \"boxpoints\": \"all\", \"fillcolor\": \"rgba(255,255,255,0)\", \"hoveron\": \"points\", \"hovertemplate\": \"Amount of Sales for Price=46<br>index=%{x}<extra></extra>\", \"jitter\": 0, \"legendgroup\": \"46\", \"line\": {\"color\": \"rgba(255,255,255,0)\"}, \"marker\": {\"color\": \"#ab63fa\", \"symbol\": \"line-ns-open\"}, \"name\": \"46\", \"offsetgroup\": \"46\", \"showlegend\": false, \"type\": \"box\", \"x\": [0.16, 0.53], \"xaxis\": \"x2\", \"yaxis\": \"y2\"}, {\"alignmentgroup\": \"True\", \"bingroup\": \"x\", \"histfunc\": \"sum\", \"hovertemplate\": \"Amount of Sales for Price=45<br>index=%{x}<br>sum of Amount of Sales for Price=%{y}<extra></extra>\", \"legendgroup\": \"45\", \"marker\": {\"color\": \"#FFA15A\"}, \"name\": \"45\", \"offsetgroup\": \"45\", \"orientation\": \"v\", \"showlegend\": true, \"type\": \"histogram\", \"x\": [0.32, 0.61], \"xaxis\": \"x\", \"y\": [45, 45], \"yaxis\": \"y\"}, {\"alignmentgroup\": \"True\", \"boxpoints\": \"all\", \"fillcolor\": \"rgba(255,255,255,0)\", \"hoveron\": \"points\", \"hovertemplate\": \"Amount of Sales for Price=45<br>index=%{x}<extra></extra>\", \"jitter\": 0, \"legendgroup\": \"45\", \"line\": {\"color\": \"rgba(255,255,255,0)\"}, \"marker\": {\"color\": \"#FFA15A\", \"symbol\": \"line-ns-open\"}, \"name\": \"45\", \"offsetgroup\": \"45\", \"showlegend\": false, \"type\": \"box\", \"x\": [0.32, 0.61], \"xaxis\": \"x2\", \"yaxis\": \"y2\"}, {\"alignmentgroup\": \"True\", \"bingroup\": \"x\", \"histfunc\": \"sum\", \"hovertemplate\": \"Amount of Sales for Price=42<br>index=%{x}<br>sum of Amount of Sales for Price=%{y}<extra></extra>\", \"legendgroup\": \"42\", \"marker\": {\"color\": \"#19d3f3\"}, \"name\": \"42\", \"offsetgroup\": \"42\", \"orientation\": \"v\", \"showlegend\": true, \"type\": \"histogram\", \"x\": [8.33], \"xaxis\": \"x\", \"y\": [42], \"yaxis\": \"y\"}, {\"alignmentgroup\": \"True\", \"boxpoints\": \"all\", \"fillcolor\": \"rgba(255,255,255,0)\", \"hoveron\": \"points\", \"hovertemplate\": \"Amount of Sales for Price=42<br>index=%{x}<extra></extra>\", \"jitter\": 0, \"legendgroup\": \"42\", \"line\": {\"color\": \"rgba(255,255,255,0)\"}, \"marker\": {\"color\": \"#19d3f3\", \"symbol\": \"line-ns-open\"}, \"name\": \"42\", \"offsetgroup\": \"42\", \"showlegend\": false, \"type\": \"box\", \"x\": [8.33], \"xaxis\": \"x2\", \"yaxis\": \"y2\"}, {\"alignmentgroup\": \"True\", \"bingroup\": \"x\", \"histfunc\": \"sum\", \"hovertemplate\": \"Amount of Sales for Price=41<br>index=%{x}<br>sum of Amount of Sales for Price=%{y}<extra></extra>\", \"legendgroup\": \"41\", \"marker\": {\"color\": \"#FF6692\"}, \"name\": \"41\", \"offsetgroup\": \"41\", \"orientation\": \"v\", \"showlegend\": true, \"type\": \"histogram\", \"x\": [5.55, 2.07, 8.32, 35.95], \"xaxis\": \"x\", \"y\": [41, 41, 41, 41], \"yaxis\": \"y\"}, {\"alignmentgroup\": \"True\", \"boxpoints\": \"all\", \"fillcolor\": \"rgba(255,255,255,0)\", \"hoveron\": \"points\", \"hovertemplate\": \"Amount of Sales for Price=41<br>index=%{x}<extra></extra>\", \"jitter\": 0, \"legendgroup\": \"41\", \"line\": {\"color\": \"rgba(255,255,255,0)\"}, \"marker\": {\"color\": \"#FF6692\", \"symbol\": \"line-ns-open\"}, \"name\": \"41\", \"offsetgroup\": \"41\", \"showlegend\": false, \"type\": \"box\", \"x\": [5.55, 2.07, 8.32, 35.95], \"xaxis\": \"x2\", \"yaxis\": \"y2\"}, {\"alignmentgroup\": \"True\", \"bingroup\": \"x\", \"histfunc\": \"sum\", \"hovertemplate\": \"Amount of Sales for Price=40<br>index=%{x}<br>sum of Amount of Sales for Price=%{y}<extra></extra>\", \"legendgroup\": \"40\", \"marker\": {\"color\": \"#B6E880\"}, \"name\": \"40\", \"offsetgroup\": \"40\", \"orientation\": \"v\", \"showlegend\": true, \"type\": \"histogram\", \"x\": [6.23], \"xaxis\": \"x\", \"y\": [40], \"yaxis\": \"y\"}, {\"alignmentgroup\": \"True\", \"boxpoints\": \"all\", \"fillcolor\": \"rgba(255,255,255,0)\", \"hoveron\": \"points\", \"hovertemplate\": \"Amount of Sales for Price=40<br>index=%{x}<extra></extra>\", \"jitter\": 0, \"legendgroup\": \"40\", \"line\": {\"color\": \"rgba(255,255,255,0)\"}, \"marker\": {\"color\": \"#B6E880\", \"symbol\": \"line-ns-open\"}, \"name\": \"40\", \"offsetgroup\": \"40\", \"showlegend\": false, \"type\": \"box\", \"x\": [6.23], \"xaxis\": \"x2\", \"yaxis\": \"y2\"}, {\"alignmentgroup\": \"True\", \"bingroup\": \"x\", \"histfunc\": \"sum\", \"hovertemplate\": \"Amount of Sales for Price=39<br>index=%{x}<br>sum of Amount of Sales for Price=%{y}<extra></extra>\", \"legendgroup\": \"39\", \"marker\": {\"color\": \"#FF97FF\"}, \"name\": \"39\", \"offsetgroup\": \"39\", \"orientation\": \"v\", \"showlegend\": true, \"type\": \"histogram\", \"x\": [58.29, 2.54], \"xaxis\": \"x\", \"y\": [39, 39], \"yaxis\": \"y\"}, {\"alignmentgroup\": \"True\", \"boxpoints\": \"all\", \"fillcolor\": \"rgba(255,255,255,0)\", \"hoveron\": \"points\", \"hovertemplate\": \"Amount of Sales for Price=39<br>index=%{x}<extra></extra>\", \"jitter\": 0, \"legendgroup\": \"39\", \"line\": {\"color\": \"rgba(255,255,255,0)\"}, \"marker\": {\"color\": \"#FF97FF\", \"symbol\": \"line-ns-open\"}, \"name\": \"39\", \"offsetgroup\": \"39\", \"showlegend\": false, \"type\": \"box\", \"x\": [58.29, 2.54], \"xaxis\": \"x2\", \"yaxis\": \"y2\"}, {\"alignmentgroup\": \"True\", \"bingroup\": \"x\", \"histfunc\": \"sum\", \"hovertemplate\": \"Amount of Sales for Price=38<br>index=%{x}<br>sum of Amount of Sales for Price=%{y}<extra></extra>\", \"legendgroup\": \"38\", \"marker\": {\"color\": \"#FECB52\"}, \"name\": \"38\", \"offsetgroup\": \"38\", \"orientation\": \"v\", \"showlegend\": true, \"type\": \"histogram\", \"x\": [8.0, 29.13], \"xaxis\": \"x\", \"y\": [38, 38], \"yaxis\": \"y\"}, {\"alignmentgroup\": \"True\", \"boxpoints\": \"all\", \"fillcolor\": \"rgba(255,255,255,0)\", \"hoveron\": \"points\", \"hovertemplate\": \"Amount of Sales for Price=38<br>index=%{x}<extra></extra>\", \"jitter\": 0, \"legendgroup\": \"38\", \"line\": {\"color\": \"rgba(255,255,255,0)\"}, \"marker\": {\"color\": \"#FECB52\", \"symbol\": \"line-ns-open\"}, \"name\": \"38\", \"offsetgroup\": \"38\", \"showlegend\": false, \"type\": \"box\", \"x\": [8.0, 29.13], \"xaxis\": \"x2\", \"yaxis\": \"y2\"}, {\"alignmentgroup\": \"True\", \"bingroup\": \"x\", \"histfunc\": \"sum\", \"hovertemplate\": \"Amount of Sales for Price=37<br>index=%{x}<br>sum of Amount of Sales for Price=%{y}<extra></extra>\", \"legendgroup\": \"37\", \"marker\": {\"color\": \"#636efa\"}, \"name\": \"37\", \"offsetgroup\": \"37\", \"orientation\": \"v\", \"showlegend\": true, \"type\": \"histogram\", \"x\": [8.49], \"xaxis\": \"x\", \"y\": [37], \"yaxis\": \"y\"}, {\"alignmentgroup\": \"True\", \"boxpoints\": \"all\", \"fillcolor\": \"rgba(255,255,255,0)\", \"hoveron\": \"points\", \"hovertemplate\": \"Amount of Sales for Price=37<br>index=%{x}<extra></extra>\", \"jitter\": 0, \"legendgroup\": \"37\", \"line\": {\"color\": \"rgba(255,255,255,0)\"}, \"marker\": {\"color\": \"#636efa\", \"symbol\": \"line-ns-open\"}, \"name\": \"37\", \"offsetgroup\": \"37\", \"showlegend\": false, \"type\": \"box\", \"x\": [8.49], \"xaxis\": \"x2\", \"yaxis\": \"y2\"}, {\"alignmentgroup\": \"True\", \"bingroup\": \"x\", \"histfunc\": \"sum\", \"hovertemplate\": \"Amount of Sales for Price=36<br>index=%{x}<br>sum of Amount of Sales for Price=%{y}<extra></extra>\", \"legendgroup\": \"36\", \"marker\": {\"color\": \"#EF553B\"}, \"name\": \"36\", \"offsetgroup\": \"36\", \"orientation\": \"v\", \"showlegend\": true, \"type\": \"histogram\", \"x\": [1.5], \"xaxis\": \"x\", \"y\": [36], \"yaxis\": \"y\"}, {\"alignmentgroup\": \"True\", \"boxpoints\": \"all\", \"fillcolor\": \"rgba(255,255,255,0)\", \"hoveron\": \"points\", \"hovertemplate\": \"Amount of Sales for Price=36<br>index=%{x}<extra></extra>\", \"jitter\": 0, \"legendgroup\": \"36\", \"line\": {\"color\": \"rgba(255,255,255,0)\"}, \"marker\": {\"color\": \"#EF553B\", \"symbol\": \"line-ns-open\"}, \"name\": \"36\", \"offsetgroup\": \"36\", \"showlegend\": false, \"type\": \"box\", \"x\": [1.5], \"xaxis\": \"x2\", \"yaxis\": \"y2\"}, {\"alignmentgroup\": \"True\", \"bingroup\": \"x\", \"histfunc\": \"sum\", \"hovertemplate\": \"Amount of Sales for Price=35<br>index=%{x}<br>sum of Amount of Sales for Price=%{y}<extra></extra>\", \"legendgroup\": \"35\", \"marker\": {\"color\": \"#00cc96\"}, \"name\": \"35\", \"offsetgroup\": \"35\", \"orientation\": \"v\", \"showlegend\": true, \"type\": \"histogram\", \"x\": [3.12, 0.69, 5.35], \"xaxis\": \"x\", \"y\": [35, 35, 35], \"yaxis\": \"y\"}, {\"alignmentgroup\": \"True\", \"boxpoints\": \"all\", \"fillcolor\": \"rgba(255,255,255,0)\", \"hoveron\": \"points\", \"hovertemplate\": \"Amount of Sales for Price=35<br>index=%{x}<extra></extra>\", \"jitter\": 0, \"legendgroup\": \"35\", \"line\": {\"color\": \"rgba(255,255,255,0)\"}, \"marker\": {\"color\": \"#00cc96\", \"symbol\": \"line-ns-open\"}, \"name\": \"35\", \"offsetgroup\": \"35\", \"showlegend\": false, \"type\": \"box\", \"x\": [3.12, 0.69, 5.35], \"xaxis\": \"x2\", \"yaxis\": \"y2\"}, {\"alignmentgroup\": \"True\", \"bingroup\": \"x\", \"histfunc\": \"sum\", \"hovertemplate\": \"Amount of Sales for Price=34<br>index=%{x}<br>sum of Amount of Sales for Price=%{y}<extra></extra>\", \"legendgroup\": \"34\", \"marker\": {\"color\": \"#ab63fa\"}, \"name\": \"34\", \"offsetgroup\": \"34\", \"orientation\": \"v\", \"showlegend\": true, \"type\": \"histogram\", \"x\": [1.67, 21.95, 34.0], \"xaxis\": \"x\", \"y\": [34, 34, 34], \"yaxis\": \"y\"}, {\"alignmentgroup\": \"True\", \"boxpoints\": \"all\", \"fillcolor\": \"rgba(255,255,255,0)\", \"hoveron\": \"points\", \"hovertemplate\": \"Amount of Sales for Price=34<br>index=%{x}<extra></extra>\", \"jitter\": 0, \"legendgroup\": \"34\", \"line\": {\"color\": \"rgba(255,255,255,0)\"}, \"marker\": {\"color\": \"#ab63fa\", \"symbol\": \"line-ns-open\"}, \"name\": \"34\", \"offsetgroup\": \"34\", \"showlegend\": false, \"type\": \"box\", \"x\": [1.67, 21.95, 34.0], \"xaxis\": \"x2\", \"yaxis\": \"y2\"}, {\"alignmentgroup\": \"True\", \"bingroup\": \"x\", \"histfunc\": \"sum\", \"hovertemplate\": \"Amount of Sales for Price=33<br>index=%{x}<br>sum of Amount of Sales for Price=%{y}<extra></extra>\", \"legendgroup\": \"33\", \"marker\": {\"color\": \"#FFA15A\"}, \"name\": \"33\", \"offsetgroup\": \"33\", \"orientation\": \"v\", \"showlegend\": true, \"type\": \"histogram\", \"x\": [2.31], \"xaxis\": \"x\", \"y\": [33], \"yaxis\": \"y\"}, {\"alignmentgroup\": \"True\", \"boxpoints\": \"all\", \"fillcolor\": \"rgba(255,255,255,0)\", \"hoveron\": \"points\", \"hovertemplate\": \"Amount of Sales for Price=33<br>index=%{x}<extra></extra>\", \"jitter\": 0, \"legendgroup\": \"33\", \"line\": {\"color\": \"rgba(255,255,255,0)\"}, \"marker\": {\"color\": \"#FFA15A\", \"symbol\": \"line-ns-open\"}, \"name\": \"33\", \"offsetgroup\": \"33\", \"showlegend\": false, \"type\": \"box\", \"x\": [2.31], \"xaxis\": \"x2\", \"yaxis\": \"y2\"}, {\"alignmentgroup\": \"True\", \"bingroup\": \"x\", \"histfunc\": \"sum\", \"hovertemplate\": \"Amount of Sales for Price=32<br>index=%{x}<br>sum of Amount of Sales for Price=%{y}<extra></extra>\", \"legendgroup\": \"32\", \"marker\": {\"color\": \"#19d3f3\"}, \"name\": \"32\", \"offsetgroup\": \"32\", \"orientation\": \"v\", \"showlegend\": true, \"type\": \"histogram\", \"x\": [85.0], \"xaxis\": \"x\", \"y\": [32], \"yaxis\": \"y\"}, {\"alignmentgroup\": \"True\", \"boxpoints\": \"all\", \"fillcolor\": \"rgba(255,255,255,0)\", \"hoveron\": \"points\", \"hovertemplate\": \"Amount of Sales for Price=32<br>index=%{x}<extra></extra>\", \"jitter\": 0, \"legendgroup\": \"32\", \"line\": {\"color\": \"rgba(255,255,255,0)\"}, \"marker\": {\"color\": \"#19d3f3\", \"symbol\": \"line-ns-open\"}, \"name\": \"32\", \"offsetgroup\": \"32\", \"showlegend\": false, \"type\": \"box\", \"x\": [85.0], \"xaxis\": \"x2\", \"yaxis\": \"y2\"}, {\"alignmentgroup\": \"True\", \"bingroup\": \"x\", \"histfunc\": \"sum\", \"hovertemplate\": \"Amount of Sales for Price=31<br>index=%{x}<br>sum of Amount of Sales for Price=%{y}<extra></extra>\", \"legendgroup\": \"31\", \"marker\": {\"color\": \"#FF6692\"}, \"name\": \"31\", \"offsetgroup\": \"31\", \"orientation\": \"v\", \"showlegend\": true, \"type\": \"histogram\", \"x\": [29.79, 3.32], \"xaxis\": \"x\", \"y\": [31, 31], \"yaxis\": \"y\"}, {\"alignmentgroup\": \"True\", \"boxpoints\": \"all\", \"fillcolor\": \"rgba(255,255,255,0)\", \"hoveron\": \"points\", \"hovertemplate\": \"Amount of Sales for Price=31<br>index=%{x}<extra></extra>\", \"jitter\": 0, \"legendgroup\": \"31\", \"line\": {\"color\": \"rgba(255,255,255,0)\"}, \"marker\": {\"color\": \"#FF6692\", \"symbol\": \"line-ns-open\"}, \"name\": \"31\", \"offsetgroup\": \"31\", \"showlegend\": false, \"type\": \"box\", \"x\": [29.79, 3.32], \"xaxis\": \"x2\", \"yaxis\": \"y2\"}, {\"alignmentgroup\": \"True\", \"bingroup\": \"x\", \"histfunc\": \"sum\", \"hovertemplate\": \"Amount of Sales for Price=30<br>index=%{x}<br>sum of Amount of Sales for Price=%{y}<extra></extra>\", \"legendgroup\": \"30\", \"marker\": {\"color\": \"#B6E880\"}, \"name\": \"30\", \"offsetgroup\": \"30\", \"orientation\": \"v\", \"showlegend\": true, \"type\": \"histogram\", \"x\": [3.33, 1.48], \"xaxis\": \"x\", \"y\": [30, 30], \"yaxis\": \"y\"}, {\"alignmentgroup\": \"True\", \"boxpoints\": \"all\", \"fillcolor\": \"rgba(255,255,255,0)\", \"hoveron\": \"points\", \"hovertemplate\": \"Amount of Sales for Price=30<br>index=%{x}<extra></extra>\", \"jitter\": 0, \"legendgroup\": \"30\", \"line\": {\"color\": \"rgba(255,255,255,0)\"}, \"marker\": {\"color\": \"#B6E880\", \"symbol\": \"line-ns-open\"}, \"name\": \"30\", \"offsetgroup\": \"30\", \"showlegend\": false, \"type\": \"box\", \"x\": [3.33, 1.48], \"xaxis\": \"x2\", \"yaxis\": \"y2\"}, {\"alignmentgroup\": \"True\", \"bingroup\": \"x\", \"histfunc\": \"sum\", \"hovertemplate\": \"Amount of Sales for Price=29<br>index=%{x}<br>sum of Amount of Sales for Price=%{y}<extra></extra>\", \"legendgroup\": \"29\", \"marker\": {\"color\": \"#FF97FF\"}, \"name\": \"29\", \"offsetgroup\": \"29\", \"orientation\": \"v\", \"showlegend\": true, \"type\": \"histogram\", \"x\": [0.4, 2.91], \"xaxis\": \"x\", \"y\": [29, 29], \"yaxis\": \"y\"}, {\"alignmentgroup\": \"True\", \"boxpoints\": \"all\", \"fillcolor\": \"rgba(255,255,255,0)\", \"hoveron\": \"points\", \"hovertemplate\": \"Amount of Sales for Price=29<br>index=%{x}<extra></extra>\", \"jitter\": 0, \"legendgroup\": \"29\", \"line\": {\"color\": \"rgba(255,255,255,0)\"}, \"marker\": {\"color\": \"#FF97FF\", \"symbol\": \"line-ns-open\"}, \"name\": \"29\", \"offsetgroup\": \"29\", \"showlegend\": false, \"type\": \"box\", \"x\": [0.4, 2.91], \"xaxis\": \"x2\", \"yaxis\": \"y2\"}, {\"alignmentgroup\": \"True\", \"bingroup\": \"x\", \"histfunc\": \"sum\", \"hovertemplate\": \"Amount of Sales for Price=28<br>index=%{x}<br>sum of Amount of Sales for Price=%{y}<extra></extra>\", \"legendgroup\": \"28\", \"marker\": {\"color\": \"#FECB52\"}, \"name\": \"28\", \"offsetgroup\": \"28\", \"orientation\": \"v\", \"showlegend\": true, \"type\": \"histogram\", \"x\": [34.95], \"xaxis\": \"x\", \"y\": [28], \"yaxis\": \"y\"}, {\"alignmentgroup\": \"True\", \"boxpoints\": \"all\", \"fillcolor\": \"rgba(255,255,255,0)\", \"hoveron\": \"points\", \"hovertemplate\": \"Amount of Sales for Price=28<br>index=%{x}<extra></extra>\", \"jitter\": 0, \"legendgroup\": \"28\", \"line\": {\"color\": \"rgba(255,255,255,0)\"}, \"marker\": {\"color\": \"#FECB52\", \"symbol\": \"line-ns-open\"}, \"name\": \"28\", \"offsetgroup\": \"28\", \"showlegend\": false, \"type\": \"box\", \"x\": [34.95], \"xaxis\": \"x2\", \"yaxis\": \"y2\"}, {\"alignmentgroup\": \"True\", \"bingroup\": \"x\", \"histfunc\": \"sum\", \"hovertemplate\": \"Amount of Sales for Price=27<br>index=%{x}<br>sum of Amount of Sales for Price=%{y}<extra></extra>\", \"legendgroup\": \"27\", \"marker\": {\"color\": \"#636efa\"}, \"name\": \"27\", \"offsetgroup\": \"27\", \"orientation\": \"v\", \"showlegend\": true, \"type\": \"histogram\", \"x\": [2.76, 7.05, 10.65], \"xaxis\": \"x\", \"y\": [27, 27, 27], \"yaxis\": \"y\"}, {\"alignmentgroup\": \"True\", \"boxpoints\": \"all\", \"fillcolor\": \"rgba(255,255,255,0)\", \"hoveron\": \"points\", \"hovertemplate\": \"Amount of Sales for Price=27<br>index=%{x}<extra></extra>\", \"jitter\": 0, \"legendgroup\": \"27\", \"line\": {\"color\": \"rgba(255,255,255,0)\"}, \"marker\": {\"color\": \"#636efa\", \"symbol\": \"line-ns-open\"}, \"name\": \"27\", \"offsetgroup\": \"27\", \"showlegend\": false, \"type\": \"box\", \"x\": [2.76, 7.05, 10.65], \"xaxis\": \"x2\", \"yaxis\": \"y2\"}, {\"alignmentgroup\": \"True\", \"bingroup\": \"x\", \"histfunc\": \"sum\", \"hovertemplate\": \"Amount of Sales for Price=26<br>index=%{x}<br>sum of Amount of Sales for Price=%{y}<extra></extra>\", \"legendgroup\": \"26\", \"marker\": {\"color\": \"#EF553B\"}, \"name\": \"26\", \"offsetgroup\": \"26\", \"orientation\": \"v\", \"showlegend\": true, \"type\": \"histogram\", \"x\": [2.11], \"xaxis\": \"x\", \"y\": [26], \"yaxis\": \"y\"}, {\"alignmentgroup\": \"True\", \"boxpoints\": \"all\", \"fillcolor\": \"rgba(255,255,255,0)\", \"hoveron\": \"points\", \"hovertemplate\": \"Amount of Sales for Price=26<br>index=%{x}<extra></extra>\", \"jitter\": 0, \"legendgroup\": \"26\", \"line\": {\"color\": \"rgba(255,255,255,0)\"}, \"marker\": {\"color\": \"#EF553B\", \"symbol\": \"line-ns-open\"}, \"name\": \"26\", \"offsetgroup\": \"26\", \"showlegend\": false, \"type\": \"box\", \"x\": [2.11], \"xaxis\": \"x2\", \"yaxis\": \"y2\"}, {\"alignmentgroup\": \"True\", \"bingroup\": \"x\", \"histfunc\": \"sum\", \"hovertemplate\": \"Amount of Sales for Price=25<br>index=%{x}<br>sum of Amount of Sales for Price=%{y}<extra></extra>\", \"legendgroup\": \"25\", \"marker\": {\"color\": \"#00cc96\"}, \"name\": \"25\", \"offsetgroup\": \"25\", \"orientation\": \"v\", \"showlegend\": true, \"type\": \"histogram\", \"x\": [0.18, 5.82, 49.95, 11.15], \"xaxis\": \"x\", \"y\": [25, 25, 25, 25], \"yaxis\": \"y\"}, {\"alignmentgroup\": \"True\", \"boxpoints\": \"all\", \"fillcolor\": \"rgba(255,255,255,0)\", \"hoveron\": \"points\", \"hovertemplate\": \"Amount of Sales for Price=25<br>index=%{x}<extra></extra>\", \"jitter\": 0, \"legendgroup\": \"25\", \"line\": {\"color\": \"rgba(255,255,255,0)\"}, \"marker\": {\"color\": \"#00cc96\", \"symbol\": \"line-ns-open\"}, \"name\": \"25\", \"offsetgroup\": \"25\", \"showlegend\": false, \"type\": \"box\", \"x\": [0.18, 5.82, 49.95, 11.15], \"xaxis\": \"x2\", \"yaxis\": \"y2\"}, {\"alignmentgroup\": \"True\", \"bingroup\": \"x\", \"histfunc\": \"sum\", \"hovertemplate\": \"Amount of Sales for Price=24<br>index=%{x}<br>sum of Amount of Sales for Price=%{y}<extra></extra>\", \"legendgroup\": \"24\", \"marker\": {\"color\": \"#ab63fa\"}, \"name\": \"24\", \"offsetgroup\": \"24\", \"orientation\": \"v\", \"showlegend\": true, \"type\": \"histogram\", \"x\": [7.48, 3.2, 1.23], \"xaxis\": \"x\", \"y\": [24, 24, 24], \"yaxis\": \"y\"}, {\"alignmentgroup\": \"True\", \"boxpoints\": \"all\", \"fillcolor\": \"rgba(255,255,255,0)\", \"hoveron\": \"points\", \"hovertemplate\": \"Amount of Sales for Price=24<br>index=%{x}<extra></extra>\", \"jitter\": 0, \"legendgroup\": \"24\", \"line\": {\"color\": \"rgba(255,255,255,0)\"}, \"marker\": {\"color\": \"#ab63fa\", \"symbol\": \"line-ns-open\"}, \"name\": \"24\", \"offsetgroup\": \"24\", \"showlegend\": false, \"type\": \"box\", \"x\": [7.48, 3.2, 1.23], \"xaxis\": \"x2\", \"yaxis\": \"y2\"}, {\"alignmentgroup\": \"True\", \"bingroup\": \"x\", \"histfunc\": \"sum\", \"hovertemplate\": \"Amount of Sales for Price=23<br>index=%{x}<br>sum of Amount of Sales for Price=%{y}<extra></extra>\", \"legendgroup\": \"23\", \"marker\": {\"color\": \"#FFA15A\"}, \"name\": \"23\", \"offsetgroup\": \"23\", \"orientation\": \"v\", \"showlegend\": true, \"type\": \"histogram\", \"x\": [165.0], \"xaxis\": \"x\", \"y\": [23], \"yaxis\": \"y\"}, {\"alignmentgroup\": \"True\", \"boxpoints\": \"all\", \"fillcolor\": \"rgba(255,255,255,0)\", \"hoveron\": \"points\", \"hovertemplate\": \"Amount of Sales for Price=23<br>index=%{x}<extra></extra>\", \"jitter\": 0, \"legendgroup\": \"23\", \"line\": {\"color\": \"rgba(255,255,255,0)\"}, \"marker\": {\"color\": \"#FFA15A\", \"symbol\": \"line-ns-open\"}, \"name\": \"23\", \"offsetgroup\": \"23\", \"showlegend\": false, \"type\": \"box\", \"x\": [165.0], \"xaxis\": \"x2\", \"yaxis\": \"y2\"}, {\"alignmentgroup\": \"True\", \"bingroup\": \"x\", \"histfunc\": \"sum\", \"hovertemplate\": \"Amount of Sales for Price=21<br>index=%{x}<br>sum of Amount of Sales for Price=%{y}<extra></extra>\", \"legendgroup\": \"21\", \"marker\": {\"color\": \"#19d3f3\"}, \"name\": \"21\", \"offsetgroup\": \"21\", \"orientation\": \"v\", \"showlegend\": true, \"type\": \"histogram\", \"x\": [2.39, 20.8, 7.07, 1.7], \"xaxis\": \"x\", \"y\": [21, 21, 21, 21], \"yaxis\": \"y\"}, {\"alignmentgroup\": \"True\", \"boxpoints\": \"all\", \"fillcolor\": \"rgba(255,255,255,0)\", \"hoveron\": \"points\", \"hovertemplate\": \"Amount of Sales for Price=21<br>index=%{x}<extra></extra>\", \"jitter\": 0, \"legendgroup\": \"21\", \"line\": {\"color\": \"rgba(255,255,255,0)\"}, \"marker\": {\"color\": \"#19d3f3\", \"symbol\": \"line-ns-open\"}, \"name\": \"21\", \"offsetgroup\": \"21\", \"showlegend\": false, \"type\": \"box\", \"x\": [2.39, 20.8, 7.07, 1.7], \"xaxis\": \"x2\", \"yaxis\": \"y2\"}, {\"alignmentgroup\": \"True\", \"bingroup\": \"x\", \"histfunc\": \"sum\", \"hovertemplate\": \"Amount of Sales for Price=20<br>index=%{x}<br>sum of Amount of Sales for Price=%{y}<extra></extra>\", \"legendgroup\": \"20\", \"marker\": {\"color\": \"#FF6692\"}, \"name\": \"20\", \"offsetgroup\": \"20\", \"orientation\": \"v\", \"showlegend\": true, \"type\": \"histogram\", \"x\": [5.83, 7.25], \"xaxis\": \"x\", \"y\": [20, 20], \"yaxis\": \"y\"}, {\"alignmentgroup\": \"True\", \"boxpoints\": \"all\", \"fillcolor\": \"rgba(255,255,255,0)\", \"hoveron\": \"points\", \"hovertemplate\": \"Amount of Sales for Price=20<br>index=%{x}<extra></extra>\", \"jitter\": 0, \"legendgroup\": \"20\", \"line\": {\"color\": \"rgba(255,255,255,0)\"}, \"marker\": {\"color\": \"#FF6692\", \"symbol\": \"line-ns-open\"}, \"name\": \"20\", \"offsetgroup\": \"20\", \"showlegend\": false, \"type\": \"box\", \"x\": [5.83, 7.25], \"xaxis\": \"x2\", \"yaxis\": \"y2\"}, {\"alignmentgroup\": \"True\", \"bingroup\": \"x\", \"histfunc\": \"sum\", \"hovertemplate\": \"Amount of Sales for Price=19<br>index=%{x}<br>sum of Amount of Sales for Price=%{y}<extra></extra>\", \"legendgroup\": \"19\", \"marker\": {\"color\": \"#B6E880\"}, \"name\": \"19\", \"offsetgroup\": \"19\", \"orientation\": \"v\", \"showlegend\": true, \"type\": \"histogram\", \"x\": [2.4, 10.0, 16.67], \"xaxis\": \"x\", \"y\": [19, 19, 19], \"yaxis\": \"y\"}, {\"alignmentgroup\": \"True\", \"boxpoints\": \"all\", \"fillcolor\": \"rgba(255,255,255,0)\", \"hoveron\": \"points\", \"hovertemplate\": \"Amount of Sales for Price=19<br>index=%{x}<extra></extra>\", \"jitter\": 0, \"legendgroup\": \"19\", \"line\": {\"color\": \"rgba(255,255,255,0)\"}, \"marker\": {\"color\": \"#B6E880\", \"symbol\": \"line-ns-open\"}, \"name\": \"19\", \"offsetgroup\": \"19\", \"showlegend\": false, \"type\": \"box\", \"x\": [2.4, 10.0, 16.67], \"xaxis\": \"x2\", \"yaxis\": \"y2\"}, {\"alignmentgroup\": \"True\", \"bingroup\": \"x\", \"histfunc\": \"sum\", \"hovertemplate\": \"Amount of Sales for Price=18<br>index=%{x}<br>sum of Amount of Sales for Price=%{y}<extra></extra>\", \"legendgroup\": \"18\", \"marker\": {\"color\": \"#FF97FF\"}, \"name\": \"18\", \"offsetgroup\": \"18\", \"orientation\": \"v\", \"showlegend\": true, \"type\": \"histogram\", \"x\": [9.34, 2.66, 0.2, 13.13, 3.37, 1.88], \"xaxis\": \"x\", \"y\": [18, 18, 18, 18, 18, 18], \"yaxis\": \"y\"}, {\"alignmentgroup\": \"True\", \"boxpoints\": \"all\", \"fillcolor\": \"rgba(255,255,255,0)\", \"hoveron\": \"points\", \"hovertemplate\": \"Amount of Sales for Price=18<br>index=%{x}<extra></extra>\", \"jitter\": 0, \"legendgroup\": \"18\", \"line\": {\"color\": \"rgba(255,255,255,0)\"}, \"marker\": {\"color\": \"#FF97FF\", \"symbol\": \"line-ns-open\"}, \"name\": \"18\", \"offsetgroup\": \"18\", \"showlegend\": false, \"type\": \"box\", \"x\": [9.34, 2.66, 0.2, 13.13, 3.37, 1.88], \"xaxis\": \"x2\", \"yaxis\": \"y2\"}, {\"alignmentgroup\": \"True\", \"bingroup\": \"x\", \"histfunc\": \"sum\", \"hovertemplate\": \"Amount of Sales for Price=17<br>index=%{x}<br>sum of Amount of Sales for Price=%{y}<extra></extra>\", \"legendgroup\": \"17\", \"marker\": {\"color\": \"#FECB52\"}, \"name\": \"17\", \"offsetgroup\": \"17\", \"orientation\": \"v\", \"showlegend\": true, \"type\": \"histogram\", \"x\": [5.0, 12.48, 1.53, 9.98, 1.08], \"xaxis\": \"x\", \"y\": [17, 17, 17, 17, 17], \"yaxis\": \"y\"}, {\"alignmentgroup\": \"True\", \"boxpoints\": \"all\", \"fillcolor\": \"rgba(255,255,255,0)\", \"hoveron\": \"points\", \"hovertemplate\": \"Amount of Sales for Price=17<br>index=%{x}<extra></extra>\", \"jitter\": 0, \"legendgroup\": \"17\", \"line\": {\"color\": \"rgba(255,255,255,0)\"}, \"marker\": {\"color\": \"#FECB52\", \"symbol\": \"line-ns-open\"}, \"name\": \"17\", \"offsetgroup\": \"17\", \"showlegend\": false, \"type\": \"box\", \"x\": [5.0, 12.48, 1.53, 9.98, 1.08], \"xaxis\": \"x2\", \"yaxis\": \"y2\"}, {\"alignmentgroup\": \"True\", \"bingroup\": \"x\", \"histfunc\": \"sum\", \"hovertemplate\": \"Amount of Sales for Price=16<br>index=%{x}<br>sum of Amount of Sales for Price=%{y}<extra></extra>\", \"legendgroup\": \"16\", \"marker\": {\"color\": \"#636efa\"}, \"name\": \"16\", \"offsetgroup\": \"16\", \"orientation\": \"v\", \"showlegend\": true, \"type\": \"histogram\", \"x\": [0.27, 5.51, 5.94, 18.95], \"xaxis\": \"x\", \"y\": [16, 16, 16, 16], \"yaxis\": \"y\"}, {\"alignmentgroup\": \"True\", \"boxpoints\": \"all\", \"fillcolor\": \"rgba(255,255,255,0)\", \"hoveron\": \"points\", \"hovertemplate\": \"Amount of Sales for Price=16<br>index=%{x}<extra></extra>\", \"jitter\": 0, \"legendgroup\": \"16\", \"line\": {\"color\": \"rgba(255,255,255,0)\"}, \"marker\": {\"color\": \"#636efa\", \"symbol\": \"line-ns-open\"}, \"name\": \"16\", \"offsetgroup\": \"16\", \"showlegend\": false, \"type\": \"box\", \"x\": [0.27, 5.51, 5.94, 18.95], \"xaxis\": \"x2\", \"yaxis\": \"y2\"}, {\"alignmentgroup\": \"True\", \"bingroup\": \"x\", \"histfunc\": \"sum\", \"hovertemplate\": \"Amount of Sales for Price=15<br>index=%{x}<br>sum of Amount of Sales for Price=%{y}<extra></extra>\", \"legendgroup\": \"15\", \"marker\": {\"color\": \"#EF553B\"}, \"name\": \"15\", \"offsetgroup\": \"15\", \"orientation\": \"v\", \"showlegend\": true, \"type\": \"histogram\", \"x\": [3.88, 145.0, 65.0, 2.12], \"xaxis\": \"x\", \"y\": [15, 15, 15, 15], \"yaxis\": \"y\"}, {\"alignmentgroup\": \"True\", \"boxpoints\": \"all\", \"fillcolor\": \"rgba(255,255,255,0)\", \"hoveron\": \"points\", \"hovertemplate\": \"Amount of Sales for Price=15<br>index=%{x}<extra></extra>\", \"jitter\": 0, \"legendgroup\": \"15\", \"line\": {\"color\": \"rgba(255,255,255,0)\"}, \"marker\": {\"color\": \"#EF553B\", \"symbol\": \"line-ns-open\"}, \"name\": \"15\", \"offsetgroup\": \"15\", \"showlegend\": false, \"type\": \"box\", \"x\": [3.88, 145.0, 65.0, 2.12], \"xaxis\": \"x2\", \"yaxis\": \"y2\"}, {\"alignmentgroup\": \"True\", \"bingroup\": \"x\", \"histfunc\": \"sum\", \"hovertemplate\": \"Amount of Sales for Price=14<br>index=%{x}<br>sum of Amount of Sales for Price=%{y}<extra></extra>\", \"legendgroup\": \"14\", \"marker\": {\"color\": \"#00cc96\"}, \"name\": \"14\", \"offsetgroup\": \"14\", \"orientation\": \"v\", \"showlegend\": true, \"type\": \"histogram\", \"x\": [0.99, 12.21], \"xaxis\": \"x\", \"y\": [14, 14], \"yaxis\": \"y\"}, {\"alignmentgroup\": \"True\", \"boxpoints\": \"all\", \"fillcolor\": \"rgba(255,255,255,0)\", \"hoveron\": \"points\", \"hovertemplate\": \"Amount of Sales for Price=14<br>index=%{x}<extra></extra>\", \"jitter\": 0, \"legendgroup\": \"14\", \"line\": {\"color\": \"rgba(255,255,255,0)\"}, \"marker\": {\"color\": \"#00cc96\", \"symbol\": \"line-ns-open\"}, \"name\": \"14\", \"offsetgroup\": \"14\", \"showlegend\": false, \"type\": \"box\", \"x\": [0.99, 12.21], \"xaxis\": \"x2\", \"yaxis\": \"y2\"}, {\"alignmentgroup\": \"True\", \"bingroup\": \"x\", \"histfunc\": \"sum\", \"hovertemplate\": \"Amount of Sales for Price=13<br>index=%{x}<br>sum of Amount of Sales for Price=%{y}<extra></extra>\", \"legendgroup\": \"13\", \"marker\": {\"color\": \"#ab63fa\"}, \"name\": \"13\", \"offsetgroup\": \"13\", \"orientation\": \"v\", \"showlegend\": true, \"type\": \"histogram\", \"x\": [0.22, 2.17, 1.27, 0.73, 18.29, 3.0, 5.88, 1.84], \"xaxis\": \"x\", \"y\": [13, 13, 13, 13, 13, 13, 13, 13], \"yaxis\": \"y\"}, {\"alignmentgroup\": \"True\", \"boxpoints\": \"all\", \"fillcolor\": \"rgba(255,255,255,0)\", \"hoveron\": \"points\", \"hovertemplate\": \"Amount of Sales for Price=13<br>index=%{x}<extra></extra>\", \"jitter\": 0, \"legendgroup\": \"13\", \"line\": {\"color\": \"rgba(255,255,255,0)\"}, \"marker\": {\"color\": \"#ab63fa\", \"symbol\": \"line-ns-open\"}, \"name\": \"13\", \"offsetgroup\": \"13\", \"showlegend\": false, \"type\": \"box\", \"x\": [0.22, 2.17, 1.27, 0.73, 18.29, 3.0, 5.88, 1.84], \"xaxis\": \"x2\", \"yaxis\": \"y2\"}, {\"alignmentgroup\": \"True\", \"bingroup\": \"x\", \"histfunc\": \"sum\", \"hovertemplate\": \"Amount of Sales for Price=12<br>index=%{x}<br>sum of Amount of Sales for Price=%{y}<extra></extra>\", \"legendgroup\": \"12\", \"marker\": {\"color\": \"#FFA15A\"}, \"name\": \"12\", \"offsetgroup\": \"12\", \"orientation\": \"v\", \"showlegend\": true, \"type\": \"histogram\", \"x\": [9.57, 3.19, 12.95, 195.0, 7.64, 4.8], \"xaxis\": \"x\", \"y\": [12, 12, 12, 12, 12, 12], \"yaxis\": \"y\"}, {\"alignmentgroup\": \"True\", \"boxpoints\": \"all\", \"fillcolor\": \"rgba(255,255,255,0)\", \"hoveron\": \"points\", \"hovertemplate\": \"Amount of Sales for Price=12<br>index=%{x}<extra></extra>\", \"jitter\": 0, \"legendgroup\": \"12\", \"line\": {\"color\": \"rgba(255,255,255,0)\"}, \"marker\": {\"color\": \"#FFA15A\", \"symbol\": \"line-ns-open\"}, \"name\": \"12\", \"offsetgroup\": \"12\", \"showlegend\": false, \"type\": \"box\", \"x\": [9.57, 3.19, 12.95, 195.0, 7.64, 4.8], \"xaxis\": \"x2\", \"yaxis\": \"y2\"}, {\"alignmentgroup\": \"True\", \"bingroup\": \"x\", \"histfunc\": \"sum\", \"hovertemplate\": \"Amount of Sales for Price=11<br>index=%{x}<br>sum of Amount of Sales for Price=%{y}<extra></extra>\", \"legendgroup\": \"11\", \"marker\": {\"color\": \"#19d3f3\"}, \"name\": \"11\", \"offsetgroup\": \"11\", \"orientation\": \"v\", \"showlegend\": true, \"type\": \"histogram\", \"x\": [1.12, 2.29, 3.5, 6.37, 4.0, 1.93, 3.24, 35.75], \"xaxis\": \"x\", \"y\": [11, 11, 11, 11, 11, 11, 11, 11], \"yaxis\": \"y\"}, {\"alignmentgroup\": \"True\", \"boxpoints\": \"all\", \"fillcolor\": \"rgba(255,255,255,0)\", \"hoveron\": \"points\", \"hovertemplate\": \"Amount of Sales for Price=11<br>index=%{x}<extra></extra>\", \"jitter\": 0, \"legendgroup\": \"11\", \"line\": {\"color\": \"rgba(255,255,255,0)\"}, \"marker\": {\"color\": \"#19d3f3\", \"symbol\": \"line-ns-open\"}, \"name\": \"11\", \"offsetgroup\": \"11\", \"showlegend\": false, \"type\": \"box\", \"x\": [1.12, 2.29, 3.5, 6.37, 4.0, 1.93, 3.24, 35.75], \"xaxis\": \"x2\", \"yaxis\": \"y2\"}, {\"alignmentgroup\": \"True\", \"bingroup\": \"x\", \"histfunc\": \"sum\", \"hovertemplate\": \"Amount of Sales for Price=10<br>index=%{x}<br>sum of Amount of Sales for Price=%{y}<extra></extra>\", \"legendgroup\": \"10\", \"marker\": {\"color\": \"#FF6692\"}, \"name\": \"10\", \"offsetgroup\": \"10\", \"orientation\": \"v\", \"showlegend\": true, \"type\": \"histogram\", \"x\": [5.38, 1.19, 4.41, 4.6, 295.0, 2.82, 3.21, 3.83], \"xaxis\": \"x\", \"y\": [10, 10, 10, 10, 10, 10, 10, 10], \"yaxis\": \"y\"}, {\"alignmentgroup\": \"True\", \"boxpoints\": \"all\", \"fillcolor\": \"rgba(255,255,255,0)\", \"hoveron\": \"points\", \"hovertemplate\": \"Amount of Sales for Price=10<br>index=%{x}<extra></extra>\", \"jitter\": 0, \"legendgroup\": \"10\", \"line\": {\"color\": \"rgba(255,255,255,0)\"}, \"marker\": {\"color\": \"#FF6692\", \"symbol\": \"line-ns-open\"}, \"name\": \"10\", \"offsetgroup\": \"10\", \"showlegend\": false, \"type\": \"box\", \"x\": [5.38, 1.19, 4.41, 4.6, 295.0, 2.82, 3.21, 3.83], \"xaxis\": \"x2\", \"yaxis\": \"y2\"}, {\"alignmentgroup\": \"True\", \"bingroup\": \"x\", \"histfunc\": \"sum\", \"hovertemplate\": \"Amount of Sales for Price=9<br>index=%{x}<br>sum of Amount of Sales for Price=%{y}<extra></extra>\", \"legendgroup\": \"9\", \"marker\": {\"color\": \"#B6E880\"}, \"name\": \"9\", \"offsetgroup\": \"9\", \"orientation\": \"v\", \"showlegend\": true, \"type\": \"histogram\", \"x\": [6.5, 6.62, 74.96, 0.07, 6.54, 2.41, 0.31, 1.26, 2.62, 1.92], \"xaxis\": \"x\", \"y\": [9, 9, 9, 9, 9, 9, 9, 9, 9, 9], \"yaxis\": \"y\"}, {\"alignmentgroup\": \"True\", \"boxpoints\": \"all\", \"fillcolor\": \"rgba(255,255,255,0)\", \"hoveron\": \"points\", \"hovertemplate\": \"Amount of Sales for Price=9<br>index=%{x}<extra></extra>\", \"jitter\": 0, \"legendgroup\": \"9\", \"line\": {\"color\": \"rgba(255,255,255,0)\"}, \"marker\": {\"color\": \"#B6E880\", \"symbol\": \"line-ns-open\"}, \"name\": \"9\", \"offsetgroup\": \"9\", \"showlegend\": false, \"type\": \"box\", \"x\": [6.5, 6.62, 74.96, 0.07, 6.54, 2.41, 0.31, 1.26, 2.62, 1.92], \"xaxis\": \"x2\", \"yaxis\": \"y2\"}, {\"alignmentgroup\": \"True\", \"bingroup\": \"x\", \"histfunc\": \"sum\", \"hovertemplate\": \"Amount of Sales for Price=8<br>index=%{x}<br>sum of Amount of Sales for Price=%{y}<extra></extra>\", \"legendgroup\": \"8\", \"marker\": {\"color\": \"#FF97FF\"}, \"name\": \"8\", \"offsetgroup\": \"8\", \"orientation\": \"v\", \"showlegend\": true, \"type\": \"histogram\", \"x\": [5.1, 57.6, 4.71, 5.74, 10.62, 6.67, 0.17, 1.35], \"xaxis\": \"x\", \"y\": [8, 8, 8, 8, 8, 8, 8, 8], \"yaxis\": \"y\"}, {\"alignmentgroup\": \"True\", \"boxpoints\": \"all\", \"fillcolor\": \"rgba(255,255,255,0)\", \"hoveron\": \"points\", \"hovertemplate\": \"Amount of Sales for Price=8<br>index=%{x}<extra></extra>\", \"jitter\": 0, \"legendgroup\": \"8\", \"line\": {\"color\": \"rgba(255,255,255,0)\"}, \"marker\": {\"color\": \"#FF97FF\", \"symbol\": \"line-ns-open\"}, \"name\": \"8\", \"offsetgroup\": \"8\", \"showlegend\": false, \"type\": \"box\", \"x\": [5.1, 57.6, 4.71, 5.74, 10.62, 6.67, 0.17, 1.35], \"xaxis\": \"x2\", \"yaxis\": \"y2\"}, {\"alignmentgroup\": \"True\", \"bingroup\": \"x\", \"histfunc\": \"sum\", \"hovertemplate\": \"Amount of Sales for Price=7<br>index=%{x}<br>sum of Amount of Sales for Price=%{y}<extra></extra>\", \"legendgroup\": \"7\", \"marker\": {\"color\": \"#FECB52\"}, \"name\": \"7\", \"offsetgroup\": \"7\", \"orientation\": \"v\", \"showlegend\": true, \"type\": \"histogram\", \"x\": [4.77, 4.08, 4.5, 0.8, 0.35, 6.0, 2.21, 33.33, 14.55, 2.0], \"xaxis\": \"x\", \"y\": [7, 7, 7, 7, 7, 7, 7, 7, 7, 7], \"yaxis\": \"y\"}, {\"alignmentgroup\": \"True\", \"boxpoints\": \"all\", \"fillcolor\": \"rgba(255,255,255,0)\", \"hoveron\": \"points\", \"hovertemplate\": \"Amount of Sales for Price=7<br>index=%{x}<extra></extra>\", \"jitter\": 0, \"legendgroup\": \"7\", \"line\": {\"color\": \"rgba(255,255,255,0)\"}, \"marker\": {\"color\": \"#FECB52\", \"symbol\": \"line-ns-open\"}, \"name\": \"7\", \"offsetgroup\": \"7\", \"showlegend\": false, \"type\": \"box\", \"x\": [4.77, 4.08, 4.5, 0.8, 0.35, 6.0, 2.21, 33.33, 14.55, 2.0], \"xaxis\": \"x2\", \"yaxis\": \"y2\"}, {\"alignmentgroup\": \"True\", \"bingroup\": \"x\", \"histfunc\": \"sum\", \"hovertemplate\": \"Amount of Sales for Price=6<br>index=%{x}<br>sum of Amount of Sales for Price=%{y}<extra></extra>\", \"legendgroup\": \"6\", \"marker\": {\"color\": \"#636efa\"}, \"name\": \"6\", \"offsetgroup\": \"6\", \"orientation\": \"v\", \"showlegend\": true, \"type\": \"histogram\", \"x\": [3.82, 18.68, 110.0, 59.95, 17.88, 3.26, 1.97, 6.38, 19.13, 2.32, 41.75, 2.69, 0.24, 8.07], \"xaxis\": \"x\", \"y\": [6, 6, 6, 6, 6, 6, 6, 6, 6, 6, 6, 6, 6, 6], \"yaxis\": \"y\"}, {\"alignmentgroup\": \"True\", \"boxpoints\": \"all\", \"fillcolor\": \"rgba(255,255,255,0)\", \"hoveron\": \"points\", \"hovertemplate\": \"Amount of Sales for Price=6<br>index=%{x}<extra></extra>\", \"jitter\": 0, \"legendgroup\": \"6\", \"line\": {\"color\": \"rgba(255,255,255,0)\"}, \"marker\": {\"color\": \"#636efa\", \"symbol\": \"line-ns-open\"}, \"name\": \"6\", \"offsetgroup\": \"6\", \"showlegend\": false, \"type\": \"box\", \"x\": [3.82, 18.68, 110.0, 59.95, 17.88, 3.26, 1.97, 6.38, 19.13, 2.32, 41.75, 2.69, 0.24, 8.07], \"xaxis\": \"x2\", \"yaxis\": \"y2\"}, {\"alignmentgroup\": \"True\", \"bingroup\": \"x\", \"histfunc\": \"sum\", \"hovertemplate\": \"Amount of Sales for Price=5<br>index=%{x}<br>sum of Amount of Sales for Price=%{y}<extra></extra>\", \"legendgroup\": \"5\", \"marker\": {\"color\": \"#EF553B\"}, \"name\": \"5\", \"offsetgroup\": \"5\", \"orientation\": \"v\", \"showlegend\": true, \"type\": \"histogram\", \"x\": [15.28, 3.57, 4.18, 0.37, 5.66, 2.88, 20.0, 7.22], \"xaxis\": \"x\", \"y\": [5, 5, 5, 5, 5, 5, 5, 5], \"yaxis\": \"y\"}, {\"alignmentgroup\": \"True\", \"boxpoints\": \"all\", \"fillcolor\": \"rgba(255,255,255,0)\", \"hoveron\": \"points\", \"hovertemplate\": \"Amount of Sales for Price=5<br>index=%{x}<extra></extra>\", \"jitter\": 0, \"legendgroup\": \"5\", \"line\": {\"color\": \"rgba(255,255,255,0)\"}, \"marker\": {\"color\": \"#EF553B\", \"symbol\": \"line-ns-open\"}, \"name\": \"5\", \"offsetgroup\": \"5\", \"showlegend\": false, \"type\": \"box\", \"x\": [15.28, 3.57, 4.18, 0.37, 5.66, 2.88, 20.0, 7.22], \"xaxis\": \"x2\", \"yaxis\": \"y2\"}, {\"alignmentgroup\": \"True\", \"bingroup\": \"x\", \"histfunc\": \"sum\", \"hovertemplate\": \"Amount of Sales for Price=4<br>index=%{x}<br>sum of Amount of Sales for Price=%{y}<extra></extra>\", \"legendgroup\": \"4\", \"marker\": {\"color\": \"#00cc96\"}, \"name\": \"4\", \"offsetgroup\": \"4\", \"orientation\": \"v\", \"showlegend\": true, \"type\": \"histogram\", \"x\": [1687.17, 1241.98, 7.06, 3.58, 32.95, 3.9, 10.29, 30.0, 32.04, 4.81, 550.64, 5.15, 51.02, 451.42, 6.6, 557.72, 1.64, 3.49, 6.72, 0.58, 0.001, 4.99, 0.7], \"xaxis\": \"x\", \"y\": [4, 4, 4, 4, 4, 4, 4, 4, 4, 4, 4, 4, 4, 4, 4, 4, 4, 4, 4, 4, 4, 4, 4], \"yaxis\": \"y\"}, {\"alignmentgroup\": \"True\", \"boxpoints\": \"all\", \"fillcolor\": \"rgba(255,255,255,0)\", \"hoveron\": \"points\", \"hovertemplate\": \"Amount of Sales for Price=4<br>index=%{x}<extra></extra>\", \"jitter\": 0, \"legendgroup\": \"4\", \"line\": {\"color\": \"rgba(255,255,255,0)\"}, \"marker\": {\"color\": \"#00cc96\", \"symbol\": \"line-ns-open\"}, \"name\": \"4\", \"offsetgroup\": \"4\", \"showlegend\": false, \"type\": \"box\", \"x\": [1687.17, 1241.98, 7.06, 3.58, 32.95, 3.9, 10.29, 30.0, 32.04, 4.81, 550.64, 5.15, 51.02, 451.42, 6.6, 557.72, 1.64, 3.49, 6.72, 0.58, 0.001, 4.99, 0.7], \"xaxis\": \"x2\", \"yaxis\": \"y2\"}, {\"alignmentgroup\": \"True\", \"bingroup\": \"x\", \"histfunc\": \"sum\", \"hovertemplate\": \"Amount of Sales for Price=3<br>index=%{x}<br>sum of Amount of Sales for Price=%{y}<extra></extra>\", \"legendgroup\": \"3\", \"marker\": {\"color\": \"#ab63fa\"}, \"name\": \"3\", \"offsetgroup\": \"3\", \"orientation\": \"v\", \"showlegend\": true, \"type\": \"histogram\", \"x\": [0.74, 250.0, 2.45, 2.6, 6.98, 2.65, 3.91, 1.91, 10.82, 3.28, 0.28, 2.99, 26.95, 13541.33, 49.96, 10.39, 4.62, 41.67, 6.79, 0.9, 0.03, 41.63, 1.18, 9.77, 1.36, 4.78, 3.86, 4.16, 2.94, 7.0, 35.0, 40.46, 120.0, 3.3, 2.09, 1.43, 2.06, 4161.06, 3.15], \"xaxis\": \"x\", \"y\": [3, 3, 3, 3, 3, 3, 3, 3, 3, 3, 3, 3, 3, 3, 3, 3, 3, 3, 3, 3, 3, 3, 3, 3, 3, 3, 3, 3, 3, 3, 3, 3, 3, 3, 3, 3, 3, 3, 3], \"yaxis\": \"y\"}, {\"alignmentgroup\": \"True\", \"boxpoints\": \"all\", \"fillcolor\": \"rgba(255,255,255,0)\", \"hoveron\": \"points\", \"hovertemplate\": \"Amount of Sales for Price=3<br>index=%{x}<extra></extra>\", \"jitter\": 0, \"legendgroup\": \"3\", \"line\": {\"color\": \"rgba(255,255,255,0)\"}, \"marker\": {\"color\": \"#ab63fa\", \"symbol\": \"line-ns-open\"}, \"name\": \"3\", \"offsetgroup\": \"3\", \"showlegend\": false, \"type\": \"box\", \"x\": [0.74, 250.0, 2.45, 2.6, 6.98, 2.65, 3.91, 1.91, 10.82, 3.28, 0.28, 2.99, 26.95, 13541.33, 49.96, 10.39, 4.62, 41.67, 6.79, 0.9, 0.03, 41.63, 1.18, 9.77, 1.36, 4.78, 3.86, 4.16, 2.94, 7.0, 35.0, 40.46, 120.0, 3.3, 2.09, 1.43, 2.06, 4161.06, 3.15], \"xaxis\": \"x2\", \"yaxis\": \"y2\"}, {\"alignmentgroup\": \"True\", \"bingroup\": \"x\", \"histfunc\": \"sum\", \"hovertemplate\": \"Amount of Sales for Price=2<br>index=%{x}<br>sum of Amount of Sales for Price=%{y}<extra></extra>\", \"legendgroup\": \"2\", \"marker\": {\"color\": \"#FFA15A\"}, \"name\": \"2\", \"offsetgroup\": \"2\", \"orientation\": \"v\", \"showlegend\": true, \"type\": \"histogram\", \"x\": [280.05, 80.0, 45.0, 82.5, 155.25, 2053.07, 339.02, 35.65, 76.55, 20.5, 34.04, 424.06, 9.6, 26.33, 542.2, 2583.76, 1.4, 110.13, 2118.74, 2653.95, 326.1, 169.29, 175.0, 389.68, 39.5, 2.67, 0.68, 0.86, 4.67, 0.76, 57.95, 99.96, 13.88, 1.1, 219.76, 6.36, 106.4, 157.08, 122.5, 1917.0, 1252.95, 75.0, 33.05, 600.0, 283.02, 293.0, 6.42, 2382.92, 0.09, 3.38, 1592.49, 320.69, 29.74, 79.67, 3.44, 32.22, 3155.95, 4.76, 262.73, 9.99, 162.6, 116.71, 1867.86, 2.3, 1216.12, 0.56, 183.75, 101.17, 116.69, 7.13, 5.68, 3.74, 138.0, 1.87, 148.67, 142.29, 3.89, 6.7, 5.08, 213.08, 239.3, 150.0, 599.5, 11.67, 50.96, 10.13, 15.96, 549.34, 306.35, 294.92, 48.0, 0.78, 611.86, 152.78, 7.88, 240.0, 9.72, 177.63, 95.38, 146.29, 222.75, 464.9, 21.9, 705.45, 9.74, -11062.06, 649.5, 5942.57, 334.71, 3.59, 8.87, 376.5, 1136.3, 112.35, 717.23, 124.08, 4.3, 49.65, 1.6, 2.16, 5.64, 3949.32, 16.0, 11.84, 4.14, 0.94, 1.68, 1.01, 42.5, 8142.75, 2.26, 0.11, 4287.63], \"xaxis\": \"x\", \"y\": [2, 2, 2, 2, 2, 2, 2, 2, 2, 2, 2, 2, 2, 2, 2, 2, 2, 2, 2, 2, 2, 2, 2, 2, 2, 2, 2, 2, 2, 2, 2, 2, 2, 2, 2, 2, 2, 2, 2, 2, 2, 2, 2, 2, 2, 2, 2, 2, 2, 2, 2, 2, 2, 2, 2, 2, 2, 2, 2, 2, 2, 2, 2, 2, 2, 2, 2, 2, 2, 2, 2, 2, 2, 2, 2, 2, 2, 2, 2, 2, 2, 2, 2, 2, 2, 2, 2, 2, 2, 2, 2, 2, 2, 2, 2, 2, 2, 2, 2, 2, 2, 2, 2, 2, 2, 2, 2, 2, 2, 2, 2, 2, 2, 2, 2, 2, 2, 2, 2, 2, 2, 2, 2, 2, 2, 2, 2, 2, 2, 2, 2, 2, 2], \"yaxis\": \"y\"}, {\"alignmentgroup\": \"True\", \"boxpoints\": \"all\", \"fillcolor\": \"rgba(255,255,255,0)\", \"hoveron\": \"points\", \"hovertemplate\": \"Amount of Sales for Price=2<br>index=%{x}<extra></extra>\", \"jitter\": 0, \"legendgroup\": \"2\", \"line\": {\"color\": \"rgba(255,255,255,0)\"}, \"marker\": {\"color\": \"#FFA15A\", \"symbol\": \"line-ns-open\"}, \"name\": \"2\", \"offsetgroup\": \"2\", \"showlegend\": false, \"type\": \"box\", \"x\": [280.05, 80.0, 45.0, 82.5, 155.25, 2053.07, 339.02, 35.65, 76.55, 20.5, 34.04, 424.06, 9.6, 26.33, 542.2, 2583.76, 1.4, 110.13, 2118.74, 2653.95, 326.1, 169.29, 175.0, 389.68, 39.5, 2.67, 0.68, 0.86, 4.67, 0.76, 57.95, 99.96, 13.88, 1.1, 219.76, 6.36, 106.4, 157.08, 122.5, 1917.0, 1252.95, 75.0, 33.05, 600.0, 283.02, 293.0, 6.42, 2382.92, 0.09, 3.38, 1592.49, 320.69, 29.74, 79.67, 3.44, 32.22, 3155.95, 4.76, 262.73, 9.99, 162.6, 116.71, 1867.86, 2.3, 1216.12, 0.56, 183.75, 101.17, 116.69, 7.13, 5.68, 3.74, 138.0, 1.87, 148.67, 142.29, 3.89, 6.7, 5.08, 213.08, 239.3, 150.0, 599.5, 11.67, 50.96, 10.13, 15.96, 549.34, 306.35, 294.92, 48.0, 0.78, 611.86, 152.78, 7.88, 240.0, 9.72, 177.63, 95.38, 146.29, 222.75, 464.9, 21.9, 705.45, 9.74, -11062.06, 649.5, 5942.57, 334.71, 3.59, 8.87, 376.5, 1136.3, 112.35, 717.23, 124.08, 4.3, 49.65, 1.6, 2.16, 5.64, 3949.32, 16.0, 11.84, 4.14, 0.94, 1.68, 1.01, 42.5, 8142.75, 2.26, 0.11, 4287.63], \"xaxis\": \"x2\", \"yaxis\": \"y2\"}, {\"alignmentgroup\": \"True\", \"bingroup\": \"x\", \"histfunc\": \"sum\", \"hovertemplate\": \"Amount of Sales for Price=1<br>index=%{x}<br>sum of Amount of Sales for Price=%{y}<extra></extra>\", \"legendgroup\": \"1\", \"marker\": {\"color\": \"#19d3f3\"}, \"name\": \"1\", \"offsetgroup\": \"1\", \"orientation\": \"v\", \"showlegend\": true, \"type\": \"histogram\", \"x\": [187.21, 75.67, 249.71, 4505.17, 226.92, 892.5, 7.84, 4.12, 141.5, 475.69, 179.67, 163.67, 79.68, 14.88, 188.46, 282.88, 38.45, 49.62, 323.05, 1149.98, 188.54, 163.83, 1092.21, 198.77, 72.33, 36.13, 162.67, 233.04, 869.55, 286.88, 188.89, 557.0, 205.5, 216.8, 187.89, 150.77, 0.91, 847.42, 852.8, 273.01, 570.0, 255.04, 69.72, 5.29, 878.55, 252.11, 225.17, 32.69, 127.09, 29.7, 142.83, 128.25, 267.12, 5.21, 198.75, 181.45, 6.58, 27.21, 452.45, 113.45, 49.13, 6721.37, 186.21, 16888.02, 75.58, 514.0, 638.3, 164.33, 39.7, 20.55, 1526.76, 224.42, 166.08, 9.84, 201.5, 69.92, 167.58, 156.45, 149.02, 65.67, 434.51, 166.92, 134.76, 132.25, 938.59, 181.83, 177.04, 237.33, 481.45, 177.96, 53.55, 1100.44, 218.75, 852.25, 33.75, 180.92, 211.8, 877.04, 84.8, 837.46, 4383.62, 271.18, 523.0, 850.5, 222.49, 176.71, 135.75, 219.5, 375.64, 180.17, 2.85, 218.26, 179.29, 530.25, 6.91, 549.79, 639.83, 234.92, 182.67, 66.17, 300.0, 178.29, 178.71, 5.99, 54.25, 3.96, 4.37, 185.83, 2019.05, 2114.0, 134.0, 184.92, 15.53, 28.66, 39.13, 908.16, 236.46, 138.5, 109.19, 231.79, 110.92, 230.08, 3.52, 235.54, 587.08, 6.4, 203.73, 1126.29, 228.33, 6.59, 28.04, 1283.8, 400.0, 114.34, 161.08, 197.74, 404.49, 189.79, 107.58, 92.0, 924.59, 37.5, 858.46, 219.24, 55.0, 448.0, 17.02, 191.96, 19.82, 1.71, 9.86, 545.25, 863.8, 191.46, 868.21, 229.79, 176.8, 13.39, 239.67, 29.29, 133.3, 47.98, 202.77, 191.67, 220.5, 793.33, 226.61, 308.82, 38.26, 803.55, 170.54, 607.96, 1.31, 608.66, 223.89, 888.06, 698.5, 192.67, 265.7, 153.71, 127.89, 885.94, 729.42, 1.76, 240.67, 87.04, 189.44, 0.66, 120.92, 120.58, 149.49, 391.32, 700.0, 7.6, 155.46, 208.89, 120.17, 275.11, 537.83, 304.24, 237.89, 131.46, 180.5, 316.3, 34.5, 12.29, 172.54, 743.96, 5693.05, 192.86, 11062.06, 132.29, 1.21, 17836.46, 171.04, 533.59, 19.05, 5.7, 2500.0, 170.98, 134.04, 238.12, 6706.71, 0.67, 118.33, 11.76, 3.01, 171.46, 269.7, 211.86, 0.45, 198.17, 470.12, 199.33, 3.16, 158.71, 491.93, 122.58, 260.7, 403.81, 159.46, 793.32, 285.3, 162.24, 29.43, 214.11, 268.05, 42.0, 396.81, 124.83, 172.99, 1270.06, 145.46, 690.21, 584.59, 28.68, 200.33, 17.55, 200.58, 1599.26, 657.29, 158.21, 15.05, 16.05, 5.76, 150.71, 13474.79, 4.04, 162.0, 19.29, 37.49, 102.64, 156.21, 598.59, 176.48, 162.75, 176.52, 646.46, 197.33, 97.14, 4.05, 31.98, 197.83, 216.11, 42.75, 465.87, 83.06, 46.13, 218.64, 174.24, 202.42, 218.08, 11586.5, 157.76, 4.88, 413.68, 369.95, 165.29, 146.5, 247.54, 612.46, 469.7, 103.58, 469.2, 299.76, 124.16, 148.55, 545.58, 634.54, 60.0, 1.02, 164.29, 164.54, 164.46, 250.83, 26.93, 208.92, 822.94, 447.56, 137.96, 4.59, 1.98, 10.19, 36.5, 197.3, 246.54, 101.92, 4.17, 254.42, 5.5, 888.42, 222.02, 171.42, 144.45, 243.21, 170.92, 82.89, 36.3, 732.69, 0.52, 144.75, 254.08, 319.82, 244.46, 255.83, 79.83, 1039.73, 173.42, 166.96, 1569.04, 172.42, 16.07, 276.48, 79.0, 111.86, 9.89, 130.71, 6.71, 9.36, 38970.0, 2.84, 143.04, 13.31, 14.92, 356.7, 147.49, 7006.83, 46.0, 227.3, 52.0, 688.08, 154.5, 52.77, 199.89, 183.0, 8286.22, 579.21, 695.08, 182.25, 117.42, 43.63, 4534.24, 181.75, 79.95, 116.67, 1435.79, 214.42, 16453.71, 205.45, 295.2, 490.06, 138.46, 112.67, 594.0, 231.61, 1483.21, 100.17, 148.75, 167.02, 210.42, 230.61, 4.7, 161.04, 161.96, 65.91, 213.33, 150.25, 10.06, 22.56, 212.33, 849.93, 606.0, 16.46, 115.42, 194.7, 154.01, 201.64, 296.61, 511.25, 2.22, 334.16, 82.21, 150.59, 204.63, 92.93, 2185.04, 107.99, 201.37, 102.5, 2275.54, 203.63, 307.85, 142.94, 306.6, 175.28, 36.71, 702.38, 141.19, 101.0, 168.53, 80.46, 1486.12, 98.75, 484.17, 25.53, 167.03, 84.21, 195.37, 195.62, 194.12, 440.29, 133.06, 6.89, 254.43, 1172.1, 4.9, 206.38, 149.16, 37.46, 200.38, 43.57, 350.0, 20.92, 607.49, 1500.36, 11.0, 845.23, 65.85, 45.57, 8.74, 5258.77, 239.07, 102.24, 1050.15, 185.28, 4527.65, 225.68, 4.4, 6930.0, 119.77, 208.12, 213.13, 140.19, 856.48, 1556.08, 174.78, 124.27, 64.0, 11.08, 9.16, 14.52, 416.75, 232.57, 176.72, 58.33, 264.65, 215.13, 16.85, 1683.75, 27.0, 11.17, 85.79, 252.57, 30.38, 87.01, 24.67, 86.99, 143.18, 178.12, 98.18, 64.27, 454.35, 5522.14, 1.42, 146.85, 146.1, 188.88, 22.97, 230.59, 3.4, 144.15, 11.25, 23.53, 27.26, 21.74, 9.9, 60.79, 950.99, 87.75, 110.43, 22.0, 182.38, 236.91, 1.34, 378.02, 111.79, 88.75, 10.2, 181.88, 182.37, 239.91, 90.0, 92.88, 106.04, 366.27, 218.72, 93.75, 185.88, 1.07, 596.9, 103.57, 5.14, 186.87, 2.04, 0.77, 6.32, 131.69, 128.56, 517.51, 634.39, 929.9, 39.96, 250.68, 1563.0, 3.56, 56.79, 0.87, 150.35, 478.1, 280.17, 1121.18, 56.04, 2.35, 105.21, 278.92, 33.17, 593.15, 276.08, 105.71, 255.81, 5877.18, 105.96, 95.0, 5791.18, 743.62, 340.72, 108.75, 9.08, 4.02, 16.42, 179.94, 173.59, 201.82, 394.83, 147.03, 78.29, 147.53, 246.37, 124.87, 15.07, 119.51, 311.66, 490.25, 77.96, 223.35, 3.13, 114.62, 313.78, 6.78, 198.6, 141.03, 176.41, 234.63, 233.37, 118.25, 371.65, 175.69, 566.37, 53.33, 449.52, 65.79, 492.46, 178.84, 214.32, 122.99, 5.8, 12.98, 125.88, 0.48, 243.87, 87.4, 0.98, 120.88, 641.86, 6497.47, 161.16, 2028.25, 191.06, 248.87, 495.98, 30.53, 458.29, 159.78, 248.13, 1829.84, 13.35, 290.59, 411.92, 11.59, 297.66, 301.84, 1298.4, 9.42, 603.62, 46.86, 4.27, 113.99, 278.97, 1119.63, 13.0, 17.0, 75.79, 75.71, 252.37, 86.9, 662.14, 192.43, 565.37, 183.09, 736.38, 635.01, 764.12, 191.78, 57.67, 5.44, 88.71, 157.81, 350.78, 7427.97, 2.02, 29.28, 50.6, 1.72, 1.11, 71.46, 112.5, 100.0, 189.84, 57.58, 275.6, 16.74, 89.79, 1130.9, 155.31, 416.48, 109.25, 134.66, 361.59, 38.39, 887.52, 152.19, 907.47, 79.2, 27.5, 3.85, 1714.17, 345.03, 757.63, 13.01, 118.38, 189.59, 472.77, 189.91, 299.72, 226.37, 275.34, 222.18, 821.9, 7.18, 12.15, 111.73, 16.76, 0.41, 181.34, 236.88, 112.37, 30.19, 183.16, 59.53, 168.19, 117.63, 204.85, 29.53, 455.75, 12.96, 498.79, 70.21, 131.22, 5876.4, 218.93, 119.13, 55.08, 10.34, 206.4, 510.79, 206.15, 185.66, 464.52, 279.84, 127.24, 23.0, 10.76, 16.09, 12.94, 207.79, 213.15, 151.33, 173.3, 26.05, 901.58, 205.29, 83.33, 550.94, 368.62, 20.98, 149.67, 83.83, 701.95, 1.96, 50.99, 169.55, 2.7, 5.13, 42.05, 150.17, 1008.96, 246.5, 110.45, 152.92, 988.0, 85.58, 121.06, 253.24, 162.2, 192.29, 192.71, 162.95, 192.54, 153.92, 192.21, 15.5, 4.79, 202.96, 202.29, 531.65, 1038.75, 56.93, 222.59, 2.33, 192.44, 13.99, 1715.85, 133.13, 275.98, 770.26, 264.0, 160.0, 523.77, 189.68, 130.63, 518.98, 265.5, 19.94, 259.75, 135.13, 57.63, 29.99, 81.42, 576.18, 81.33, 324.43, 19.84, 3.14, 35.09, 42.55, 42.95, 326.68, 682.05, 31.6, 5.72, 1.86, 4.86, 221.16, 195.06, 155.33, 248.51, 133.64, 710.95, 930.04, 1016.58, 547.32, 5.17, 23.27, 2.8, 0.01, 52.24, 137.33, 137.08, 8.62, 14.5, 12.0, 90.42, 233.25, 135.67, 6662.51, 25.95, 265.19, 620.68, 138.08, 584.94, 214.29, 64.11, 109.84, 249.02, 183.2, 213.71, 401.8, 907.0, 213.79, 183.55, 212.04, 212.96, 141.42, 248.48, 11.05, 151.61, 135.08, 227.99, 58.5, 966.92, 8.12, 164.55, 199.04, 235.02, 235.98, 165.2, 0.92, 235.48, 200.0, 198.21, 156.92, 933.17, 9.87, 196.79, 18.66, 298.31, 367.38, 129.08, 229.74, 11.7, 14.75, 190.8, 132.33, 91.33, 133.17, 91.58, 220.71, 133.08, 130.58, 61.63, 425.14, 631.31, 131.58, 131.42, 88.83, 1861.46, 224.26, 175.6, 199.81, 189.57, 375.71, 152.68, 86.38, 34.9, 226.19, 122.65, 13.16, 325.0, 620.22, 337.23, 544.4, 18.62, 194.97, 224.69, 21.78, 571.9, 84.63, 62.46, 167.88, 8.65, 259.79, 5.32, 309.75, 3.92, 19.5, 55.64, 2.42, 45.6, 312.5, 55.89, 1211.17, 19.75, 3.98, 1.32, 1.89, 66.24, 153.13, 252.16, 166.88, 627.47, 160.37, 1325.0, 293.08, 987.14, 61.79, 174.12, 2033.1, 98.79, 129.9, 98.54, 323.98, 240.41, 5519.25, 97.79, 97.96, 3.71, 20.47, 20.53, 307.17, 168.63, 172.63, 128.6, 61.71, 21.0, 336.52, 249.91, 20.75, 1.9, 428.78, 161.88, 184.96, 36.08, 175.13, 5.18, 27.42, 175.88, 36.17, 234.94, 172.62, 800.63, 198.09, 86.77, 12.34, 377.33, 11.27, 64.88, 2196.67, 302.04, 281.0, 208.34, 1126.0, 45.33, 6.76, 836.14, 283.0, 136.38, 238.78, 11.65, 6.15, 11.52, 187.1, 208.16, 160.9, 1236.75, 277.0, 75.75, 14.42, 47.67, 10.85, 129.38, 50.64, 5.97, 110.6, 569.77, 274.25, 66.38, 274.75, 69.0, 26.0, 53.54, 498.47, 940.87, 127.54, 678.03, 184.6, 206.66, 11.85, 124.79, 70.01, 303.0, 97.35, 76.0, 4.68, 158.63, 7.69, 49.46, 5575.28, 159.63, 644.28, 4.48, 1042.84, 1154.67, 103.4, 77.63, 188.15, 19.53, 16.5, 82.73, 12.99, 171.07, 273.79, 126.54, 11.9, 5225.03, 201.84, 18.75, 3.97, 863.74, 74.75, 4575.64, 125.96, 147.13, 3060.6, 244.51], \"xaxis\": \"x\", \"y\": [1, 1, 1, 1, 1, 1, 1, 1, 1, 1, 1, 1, 1, 1, 1, 1, 1, 1, 1, 1, 1, 1, 1, 1, 1, 1, 1, 1, 1, 1, 1, 1, 1, 1, 1, 1, 1, 1, 1, 1, 1, 1, 1, 1, 1, 1, 1, 1, 1, 1, 1, 1, 1, 1, 1, 1, 1, 1, 1, 1, 1, 1, 1, 1, 1, 1, 1, 1, 1, 1, 1, 1, 1, 1, 1, 1, 1, 1, 1, 1, 1, 1, 1, 1, 1, 1, 1, 1, 1, 1, 1, 1, 1, 1, 1, 1, 1, 1, 1, 1, 1, 1, 1, 1, 1, 1, 1, 1, 1, 1, 1, 1, 1, 1, 1, 1, 1, 1, 1, 1, 1, 1, 1, 1, 1, 1, 1, 1, 1, 1, 1, 1, 1, 1, 1, 1, 1, 1, 1, 1, 1, 1, 1, 1, 1, 1, 1, 1, 1, 1, 1, 1, 1, 1, 1, 1, 1, 1, 1, 1, 1, 1, 1, 1, 1, 1, 1, 1, 1, 1, 1, 1, 1, 1, 1, 1, 1, 1, 1, 1, 1, 1, 1, 1, 1, 1, 1, 1, 1, 1, 1, 1, 1, 1, 1, 1, 1, 1, 1, 1, 1, 1, 1, 1, 1, 1, 1, 1, 1, 1, 1, 1, 1, 1, 1, 1, 1, 1, 1, 1, 1, 1, 1, 1, 1, 1, 1, 1, 1, 1, 1, 1, 1, 1, 1, 1, 1, 1, 1, 1, 1, 1, 1, 1, 1, 1, 1, 1, 1, 1, 1, 1, 1, 1, 1, 1, 1, 1, 1, 1, 1, 1, 1, 1, 1, 1, 1, 1, 1, 1, 1, 1, 1, 1, 1, 1, 1, 1, 1, 1, 1, 1, 1, 1, 1, 1, 1, 1, 1, 1, 1, 1, 1, 1, 1, 1, 1, 1, 1, 1, 1, 1, 1, 1, 1, 1, 1, 1, 1, 1, 1, 1, 1, 1, 1, 1, 1, 1, 1, 1, 1, 1, 1, 1, 1, 1, 1, 1, 1, 1, 1, 1, 1, 1, 1, 1, 1, 1, 1, 1, 1, 1, 1, 1, 1, 1, 1, 1, 1, 1, 1, 1, 1, 1, 1, 1, 1, 1, 1, 1, 1, 1, 1, 1, 1, 1, 1, 1, 1, 1, 1, 1, 1, 1, 1, 1, 1, 1, 1, 1, 1, 1, 1, 1, 1, 1, 1, 1, 1, 1, 1, 1, 1, 1, 1, 1, 1, 1, 1, 1, 1, 1, 1, 1, 1, 1, 1, 1, 1, 1, 1, 1, 1, 1, 1, 1, 1, 1, 1, 1, 1, 1, 1, 1, 1, 1, 1, 1, 1, 1, 1, 1, 1, 1, 1, 1, 1, 1, 1, 1, 1, 1, 1, 1, 1, 1, 1, 1, 1, 1, 1, 1, 1, 1, 1, 1, 1, 1, 1, 1, 1, 1, 1, 1, 1, 1, 1, 1, 1, 1, 1, 1, 1, 1, 1, 1, 1, 1, 1, 1, 1, 1, 1, 1, 1, 1, 1, 1, 1, 1, 1, 1, 1, 1, 1, 1, 1, 1, 1, 1, 1, 1, 1, 1, 1, 1, 1, 1, 1, 1, 1, 1, 1, 1, 1, 1, 1, 1, 1, 1, 1, 1, 1, 1, 1, 1, 1, 1, 1, 1, 1, 1, 1, 1, 1, 1, 1, 1, 1, 1, 1, 1, 1, 1, 1, 1, 1, 1, 1, 1, 1, 1, 1, 1, 1, 1, 1, 1, 1, 1, 1, 1, 1, 1, 1, 1, 1, 1, 1, 1, 1, 1, 1, 1, 1, 1, 1, 1, 1, 1, 1, 1, 1, 1, 1, 1, 1, 1, 1, 1, 1, 1, 1, 1, 1, 1, 1, 1, 1, 1, 1, 1, 1, 1, 1, 1, 1, 1, 1, 1, 1, 1, 1, 1, 1, 1, 1, 1, 1, 1, 1, 1, 1, 1, 1, 1, 1, 1, 1, 1, 1, 1, 1, 1, 1, 1, 1, 1, 1, 1, 1, 1, 1, 1, 1, 1, 1, 1, 1, 1, 1, 1, 1, 1, 1, 1, 1, 1, 1, 1, 1, 1, 1, 1, 1, 1, 1, 1, 1, 1, 1, 1, 1, 1, 1, 1, 1, 1, 1, 1, 1, 1, 1, 1, 1, 1, 1, 1, 1, 1, 1, 1, 1, 1, 1, 1, 1, 1, 1, 1, 1, 1, 1, 1, 1, 1, 1, 1, 1, 1, 1, 1, 1, 1, 1, 1, 1, 1, 1, 1, 1, 1, 1, 1, 1, 1, 1, 1, 1, 1, 1, 1, 1, 1, 1, 1, 1, 1, 1, 1, 1, 1, 1, 1, 1, 1, 1, 1, 1, 1, 1, 1, 1, 1, 1, 1, 1, 1, 1, 1, 1, 1, 1, 1, 1, 1, 1, 1, 1, 1, 1, 1, 1, 1, 1, 1, 1, 1, 1, 1, 1, 1, 1, 1, 1, 1, 1, 1, 1, 1, 1, 1, 1, 1, 1, 1, 1, 1, 1, 1, 1, 1, 1, 1, 1, 1, 1, 1, 1, 1, 1, 1, 1, 1, 1, 1, 1, 1, 1, 1, 1, 1, 1, 1, 1, 1, 1, 1, 1, 1, 1, 1, 1, 1, 1, 1, 1, 1, 1, 1, 1, 1, 1, 1, 1, 1, 1, 1, 1, 1, 1, 1, 1, 1, 1, 1, 1, 1, 1, 1, 1, 1, 1, 1, 1, 1, 1, 1, 1, 1, 1, 1, 1, 1, 1, 1, 1, 1, 1, 1, 1, 1, 1, 1, 1, 1, 1, 1, 1, 1, 1, 1, 1, 1, 1, 1, 1, 1, 1, 1, 1, 1, 1, 1, 1, 1, 1, 1, 1, 1, 1, 1, 1, 1, 1, 1, 1, 1, 1, 1, 1, 1, 1, 1, 1, 1, 1, 1, 1, 1, 1, 1, 1, 1, 1, 1, 1, 1, 1, 1, 1, 1, 1, 1, 1, 1, 1, 1, 1, 1, 1, 1, 1, 1, 1, 1, 1, 1, 1, 1, 1, 1, 1, 1, 1, 1, 1, 1, 1, 1, 1, 1, 1, 1, 1, 1, 1, 1, 1, 1, 1, 1, 1, 1, 1, 1, 1, 1, 1, 1, 1, 1, 1, 1, 1, 1, 1, 1, 1, 1, 1, 1, 1, 1, 1, 1, 1, 1, 1, 1, 1, 1, 1, 1, 1, 1, 1, 1, 1, 1, 1, 1, 1, 1, 1, 1, 1, 1, 1, 1, 1, 1, 1, 1, 1, 1, 1, 1, 1, 1, 1, 1, 1, 1, 1, 1, 1, 1, 1, 1, 1, 1, 1, 1, 1, 1, 1, 1, 1, 1, 1, 1, 1, 1, 1, 1, 1, 1, 1, 1, 1, 1, 1, 1, 1, 1, 1, 1, 1, 1, 1, 1, 1, 1, 1, 1, 1, 1, 1, 1, 1, 1, 1, 1, 1, 1, 1, 1, 1, 1, 1, 1, 1, 1], \"yaxis\": \"y\"}, {\"alignmentgroup\": \"True\", \"boxpoints\": \"all\", \"fillcolor\": \"rgba(255,255,255,0)\", \"hoveron\": \"points\", \"hovertemplate\": \"Amount of Sales for Price=1<br>index=%{x}<extra></extra>\", \"jitter\": 0, \"legendgroup\": \"1\", \"line\": {\"color\": \"rgba(255,255,255,0)\"}, \"marker\": {\"color\": \"#19d3f3\", \"symbol\": \"line-ns-open\"}, \"name\": \"1\", \"offsetgroup\": \"1\", \"showlegend\": false, \"type\": \"box\", \"x\": [187.21, 75.67, 249.71, 4505.17, 226.92, 892.5, 7.84, 4.12, 141.5, 475.69, 179.67, 163.67, 79.68, 14.88, 188.46, 282.88, 38.45, 49.62, 323.05, 1149.98, 188.54, 163.83, 1092.21, 198.77, 72.33, 36.13, 162.67, 233.04, 869.55, 286.88, 188.89, 557.0, 205.5, 216.8, 187.89, 150.77, 0.91, 847.42, 852.8, 273.01, 570.0, 255.04, 69.72, 5.29, 878.55, 252.11, 225.17, 32.69, 127.09, 29.7, 142.83, 128.25, 267.12, 5.21, 198.75, 181.45, 6.58, 27.21, 452.45, 113.45, 49.13, 6721.37, 186.21, 16888.02, 75.58, 514.0, 638.3, 164.33, 39.7, 20.55, 1526.76, 224.42, 166.08, 9.84, 201.5, 69.92, 167.58, 156.45, 149.02, 65.67, 434.51, 166.92, 134.76, 132.25, 938.59, 181.83, 177.04, 237.33, 481.45, 177.96, 53.55, 1100.44, 218.75, 852.25, 33.75, 180.92, 211.8, 877.04, 84.8, 837.46, 4383.62, 271.18, 523.0, 850.5, 222.49, 176.71, 135.75, 219.5, 375.64, 180.17, 2.85, 218.26, 179.29, 530.25, 6.91, 549.79, 639.83, 234.92, 182.67, 66.17, 300.0, 178.29, 178.71, 5.99, 54.25, 3.96, 4.37, 185.83, 2019.05, 2114.0, 134.0, 184.92, 15.53, 28.66, 39.13, 908.16, 236.46, 138.5, 109.19, 231.79, 110.92, 230.08, 3.52, 235.54, 587.08, 6.4, 203.73, 1126.29, 228.33, 6.59, 28.04, 1283.8, 400.0, 114.34, 161.08, 197.74, 404.49, 189.79, 107.58, 92.0, 924.59, 37.5, 858.46, 219.24, 55.0, 448.0, 17.02, 191.96, 19.82, 1.71, 9.86, 545.25, 863.8, 191.46, 868.21, 229.79, 176.8, 13.39, 239.67, 29.29, 133.3, 47.98, 202.77, 191.67, 220.5, 793.33, 226.61, 308.82, 38.26, 803.55, 170.54, 607.96, 1.31, 608.66, 223.89, 888.06, 698.5, 192.67, 265.7, 153.71, 127.89, 885.94, 729.42, 1.76, 240.67, 87.04, 189.44, 0.66, 120.92, 120.58, 149.49, 391.32, 700.0, 7.6, 155.46, 208.89, 120.17, 275.11, 537.83, 304.24, 237.89, 131.46, 180.5, 316.3, 34.5, 12.29, 172.54, 743.96, 5693.05, 192.86, 11062.06, 132.29, 1.21, 17836.46, 171.04, 533.59, 19.05, 5.7, 2500.0, 170.98, 134.04, 238.12, 6706.71, 0.67, 118.33, 11.76, 3.01, 171.46, 269.7, 211.86, 0.45, 198.17, 470.12, 199.33, 3.16, 158.71, 491.93, 122.58, 260.7, 403.81, 159.46, 793.32, 285.3, 162.24, 29.43, 214.11, 268.05, 42.0, 396.81, 124.83, 172.99, 1270.06, 145.46, 690.21, 584.59, 28.68, 200.33, 17.55, 200.58, 1599.26, 657.29, 158.21, 15.05, 16.05, 5.76, 150.71, 13474.79, 4.04, 162.0, 19.29, 37.49, 102.64, 156.21, 598.59, 176.48, 162.75, 176.52, 646.46, 197.33, 97.14, 4.05, 31.98, 197.83, 216.11, 42.75, 465.87, 83.06, 46.13, 218.64, 174.24, 202.42, 218.08, 11586.5, 157.76, 4.88, 413.68, 369.95, 165.29, 146.5, 247.54, 612.46, 469.7, 103.58, 469.2, 299.76, 124.16, 148.55, 545.58, 634.54, 60.0, 1.02, 164.29, 164.54, 164.46, 250.83, 26.93, 208.92, 822.94, 447.56, 137.96, 4.59, 1.98, 10.19, 36.5, 197.3, 246.54, 101.92, 4.17, 254.42, 5.5, 888.42, 222.02, 171.42, 144.45, 243.21, 170.92, 82.89, 36.3, 732.69, 0.52, 144.75, 254.08, 319.82, 244.46, 255.83, 79.83, 1039.73, 173.42, 166.96, 1569.04, 172.42, 16.07, 276.48, 79.0, 111.86, 9.89, 130.71, 6.71, 9.36, 38970.0, 2.84, 143.04, 13.31, 14.92, 356.7, 147.49, 7006.83, 46.0, 227.3, 52.0, 688.08, 154.5, 52.77, 199.89, 183.0, 8286.22, 579.21, 695.08, 182.25, 117.42, 43.63, 4534.24, 181.75, 79.95, 116.67, 1435.79, 214.42, 16453.71, 205.45, 295.2, 490.06, 138.46, 112.67, 594.0, 231.61, 1483.21, 100.17, 148.75, 167.02, 210.42, 230.61, 4.7, 161.04, 161.96, 65.91, 213.33, 150.25, 10.06, 22.56, 212.33, 849.93, 606.0, 16.46, 115.42, 194.7, 154.01, 201.64, 296.61, 511.25, 2.22, 334.16, 82.21, 150.59, 204.63, 92.93, 2185.04, 107.99, 201.37, 102.5, 2275.54, 203.63, 307.85, 142.94, 306.6, 175.28, 36.71, 702.38, 141.19, 101.0, 168.53, 80.46, 1486.12, 98.75, 484.17, 25.53, 167.03, 84.21, 195.37, 195.62, 194.12, 440.29, 133.06, 6.89, 254.43, 1172.1, 4.9, 206.38, 149.16, 37.46, 200.38, 43.57, 350.0, 20.92, 607.49, 1500.36, 11.0, 845.23, 65.85, 45.57, 8.74, 5258.77, 239.07, 102.24, 1050.15, 185.28, 4527.65, 225.68, 4.4, 6930.0, 119.77, 208.12, 213.13, 140.19, 856.48, 1556.08, 174.78, 124.27, 64.0, 11.08, 9.16, 14.52, 416.75, 232.57, 176.72, 58.33, 264.65, 215.13, 16.85, 1683.75, 27.0, 11.17, 85.79, 252.57, 30.38, 87.01, 24.67, 86.99, 143.18, 178.12, 98.18, 64.27, 454.35, 5522.14, 1.42, 146.85, 146.1, 188.88, 22.97, 230.59, 3.4, 144.15, 11.25, 23.53, 27.26, 21.74, 9.9, 60.79, 950.99, 87.75, 110.43, 22.0, 182.38, 236.91, 1.34, 378.02, 111.79, 88.75, 10.2, 181.88, 182.37, 239.91, 90.0, 92.88, 106.04, 366.27, 218.72, 93.75, 185.88, 1.07, 596.9, 103.57, 5.14, 186.87, 2.04, 0.77, 6.32, 131.69, 128.56, 517.51, 634.39, 929.9, 39.96, 250.68, 1563.0, 3.56, 56.79, 0.87, 150.35, 478.1, 280.17, 1121.18, 56.04, 2.35, 105.21, 278.92, 33.17, 593.15, 276.08, 105.71, 255.81, 5877.18, 105.96, 95.0, 5791.18, 743.62, 340.72, 108.75, 9.08, 4.02, 16.42, 179.94, 173.59, 201.82, 394.83, 147.03, 78.29, 147.53, 246.37, 124.87, 15.07, 119.51, 311.66, 490.25, 77.96, 223.35, 3.13, 114.62, 313.78, 6.78, 198.6, 141.03, 176.41, 234.63, 233.37, 118.25, 371.65, 175.69, 566.37, 53.33, 449.52, 65.79, 492.46, 178.84, 214.32, 122.99, 5.8, 12.98, 125.88, 0.48, 243.87, 87.4, 0.98, 120.88, 641.86, 6497.47, 161.16, 2028.25, 191.06, 248.87, 495.98, 30.53, 458.29, 159.78, 248.13, 1829.84, 13.35, 290.59, 411.92, 11.59, 297.66, 301.84, 1298.4, 9.42, 603.62, 46.86, 4.27, 113.99, 278.97, 1119.63, 13.0, 17.0, 75.79, 75.71, 252.37, 86.9, 662.14, 192.43, 565.37, 183.09, 736.38, 635.01, 764.12, 191.78, 57.67, 5.44, 88.71, 157.81, 350.78, 7427.97, 2.02, 29.28, 50.6, 1.72, 1.11, 71.46, 112.5, 100.0, 189.84, 57.58, 275.6, 16.74, 89.79, 1130.9, 155.31, 416.48, 109.25, 134.66, 361.59, 38.39, 887.52, 152.19, 907.47, 79.2, 27.5, 3.85, 1714.17, 345.03, 757.63, 13.01, 118.38, 189.59, 472.77, 189.91, 299.72, 226.37, 275.34, 222.18, 821.9, 7.18, 12.15, 111.73, 16.76, 0.41, 181.34, 236.88, 112.37, 30.19, 183.16, 59.53, 168.19, 117.63, 204.85, 29.53, 455.75, 12.96, 498.79, 70.21, 131.22, 5876.4, 218.93, 119.13, 55.08, 10.34, 206.4, 510.79, 206.15, 185.66, 464.52, 279.84, 127.24, 23.0, 10.76, 16.09, 12.94, 207.79, 213.15, 151.33, 173.3, 26.05, 901.58, 205.29, 83.33, 550.94, 368.62, 20.98, 149.67, 83.83, 701.95, 1.96, 50.99, 169.55, 2.7, 5.13, 42.05, 150.17, 1008.96, 246.5, 110.45, 152.92, 988.0, 85.58, 121.06, 253.24, 162.2, 192.29, 192.71, 162.95, 192.54, 153.92, 192.21, 15.5, 4.79, 202.96, 202.29, 531.65, 1038.75, 56.93, 222.59, 2.33, 192.44, 13.99, 1715.85, 133.13, 275.98, 770.26, 264.0, 160.0, 523.77, 189.68, 130.63, 518.98, 265.5, 19.94, 259.75, 135.13, 57.63, 29.99, 81.42, 576.18, 81.33, 324.43, 19.84, 3.14, 35.09, 42.55, 42.95, 326.68, 682.05, 31.6, 5.72, 1.86, 4.86, 221.16, 195.06, 155.33, 248.51, 133.64, 710.95, 930.04, 1016.58, 547.32, 5.17, 23.27, 2.8, 0.01, 52.24, 137.33, 137.08, 8.62, 14.5, 12.0, 90.42, 233.25, 135.67, 6662.51, 25.95, 265.19, 620.68, 138.08, 584.94, 214.29, 64.11, 109.84, 249.02, 183.2, 213.71, 401.8, 907.0, 213.79, 183.55, 212.04, 212.96, 141.42, 248.48, 11.05, 151.61, 135.08, 227.99, 58.5, 966.92, 8.12, 164.55, 199.04, 235.02, 235.98, 165.2, 0.92, 235.48, 200.0, 198.21, 156.92, 933.17, 9.87, 196.79, 18.66, 298.31, 367.38, 129.08, 229.74, 11.7, 14.75, 190.8, 132.33, 91.33, 133.17, 91.58, 220.71, 133.08, 130.58, 61.63, 425.14, 631.31, 131.58, 131.42, 88.83, 1861.46, 224.26, 175.6, 199.81, 189.57, 375.71, 152.68, 86.38, 34.9, 226.19, 122.65, 13.16, 325.0, 620.22, 337.23, 544.4, 18.62, 194.97, 224.69, 21.78, 571.9, 84.63, 62.46, 167.88, 8.65, 259.79, 5.32, 309.75, 3.92, 19.5, 55.64, 2.42, 45.6, 312.5, 55.89, 1211.17, 19.75, 3.98, 1.32, 1.89, 66.24, 153.13, 252.16, 166.88, 627.47, 160.37, 1325.0, 293.08, 987.14, 61.79, 174.12, 2033.1, 98.79, 129.9, 98.54, 323.98, 240.41, 5519.25, 97.79, 97.96, 3.71, 20.47, 20.53, 307.17, 168.63, 172.63, 128.6, 61.71, 21.0, 336.52, 249.91, 20.75, 1.9, 428.78, 161.88, 184.96, 36.08, 175.13, 5.18, 27.42, 175.88, 36.17, 234.94, 172.62, 800.63, 198.09, 86.77, 12.34, 377.33, 11.27, 64.88, 2196.67, 302.04, 281.0, 208.34, 1126.0, 45.33, 6.76, 836.14, 283.0, 136.38, 238.78, 11.65, 6.15, 11.52, 187.1, 208.16, 160.9, 1236.75, 277.0, 75.75, 14.42, 47.67, 10.85, 129.38, 50.64, 5.97, 110.6, 569.77, 274.25, 66.38, 274.75, 69.0, 26.0, 53.54, 498.47, 940.87, 127.54, 678.03, 184.6, 206.66, 11.85, 124.79, 70.01, 303.0, 97.35, 76.0, 4.68, 158.63, 7.69, 49.46, 5575.28, 159.63, 644.28, 4.48, 1042.84, 1154.67, 103.4, 77.63, 188.15, 19.53, 16.5, 82.73, 12.99, 171.07, 273.79, 126.54, 11.9, 5225.03, 201.84, 18.75, 3.97, 863.74, 74.75, 4575.64, 125.96, 147.13, 3060.6, 244.51], \"xaxis\": \"x2\", \"yaxis\": \"y2\"}],                        {\"barmode\": \"relative\", \"legend\": {\"title\": {\"text\": \"Amount of Sales for Price\"}, \"tracegroupgap\": 0}, \"margin\": {\"t\": 60}, \"template\": {\"data\": {\"bar\": [{\"error_x\": {\"color\": \"#2a3f5f\"}, \"error_y\": {\"color\": \"#2a3f5f\"}, \"marker\": {\"line\": {\"color\": \"#E5ECF6\", \"width\": 0.5}}, \"type\": \"bar\"}], \"barpolar\": [{\"marker\": {\"line\": {\"color\": \"#E5ECF6\", \"width\": 0.5}}, \"type\": \"barpolar\"}], \"carpet\": [{\"aaxis\": {\"endlinecolor\": \"#2a3f5f\", \"gridcolor\": \"white\", \"linecolor\": \"white\", \"minorgridcolor\": \"white\", \"startlinecolor\": \"#2a3f5f\"}, \"baxis\": {\"endlinecolor\": \"#2a3f5f\", \"gridcolor\": \"white\", \"linecolor\": \"white\", \"minorgridcolor\": \"white\", \"startlinecolor\": \"#2a3f5f\"}, \"type\": \"carpet\"}], \"choropleth\": [{\"colorbar\": {\"outlinewidth\": 0, \"ticks\": \"\"}, \"type\": \"choropleth\"}], \"contour\": [{\"colorbar\": {\"outlinewidth\": 0, \"ticks\": \"\"}, \"colorscale\": [[0.0, \"#0d0887\"], [0.1111111111111111, \"#46039f\"], [0.2222222222222222, \"#7201a8\"], [0.3333333333333333, \"#9c179e\"], [0.4444444444444444, \"#bd3786\"], [0.5555555555555556, \"#d8576b\"], [0.6666666666666666, \"#ed7953\"], [0.7777777777777778, \"#fb9f3a\"], [0.8888888888888888, \"#fdca26\"], [1.0, \"#f0f921\"]], \"type\": \"contour\"}], \"contourcarpet\": [{\"colorbar\": {\"outlinewidth\": 0, \"ticks\": \"\"}, \"type\": \"contourcarpet\"}], \"heatmap\": [{\"colorbar\": {\"outlinewidth\": 0, \"ticks\": \"\"}, \"colorscale\": [[0.0, \"#0d0887\"], [0.1111111111111111, \"#46039f\"], [0.2222222222222222, \"#7201a8\"], [0.3333333333333333, \"#9c179e\"], [0.4444444444444444, \"#bd3786\"], [0.5555555555555556, \"#d8576b\"], [0.6666666666666666, \"#ed7953\"], [0.7777777777777778, \"#fb9f3a\"], [0.8888888888888888, \"#fdca26\"], [1.0, \"#f0f921\"]], \"type\": \"heatmap\"}], \"heatmapgl\": [{\"colorbar\": {\"outlinewidth\": 0, \"ticks\": \"\"}, \"colorscale\": [[0.0, \"#0d0887\"], [0.1111111111111111, \"#46039f\"], [0.2222222222222222, \"#7201a8\"], [0.3333333333333333, \"#9c179e\"], [0.4444444444444444, \"#bd3786\"], [0.5555555555555556, \"#d8576b\"], [0.6666666666666666, \"#ed7953\"], [0.7777777777777778, \"#fb9f3a\"], [0.8888888888888888, \"#fdca26\"], [1.0, \"#f0f921\"]], \"type\": \"heatmapgl\"}], \"histogram\": [{\"marker\": {\"colorbar\": {\"outlinewidth\": 0, \"ticks\": \"\"}}, \"type\": \"histogram\"}], \"histogram2d\": [{\"colorbar\": {\"outlinewidth\": 0, \"ticks\": \"\"}, \"colorscale\": [[0.0, \"#0d0887\"], [0.1111111111111111, \"#46039f\"], [0.2222222222222222, \"#7201a8\"], [0.3333333333333333, \"#9c179e\"], [0.4444444444444444, \"#bd3786\"], [0.5555555555555556, \"#d8576b\"], [0.6666666666666666, \"#ed7953\"], [0.7777777777777778, \"#fb9f3a\"], [0.8888888888888888, \"#fdca26\"], [1.0, \"#f0f921\"]], \"type\": \"histogram2d\"}], \"histogram2dcontour\": [{\"colorbar\": {\"outlinewidth\": 0, \"ticks\": \"\"}, \"colorscale\": [[0.0, \"#0d0887\"], [0.1111111111111111, \"#46039f\"], [0.2222222222222222, \"#7201a8\"], [0.3333333333333333, \"#9c179e\"], [0.4444444444444444, \"#bd3786\"], [0.5555555555555556, \"#d8576b\"], [0.6666666666666666, \"#ed7953\"], [0.7777777777777778, \"#fb9f3a\"], [0.8888888888888888, \"#fdca26\"], [1.0, \"#f0f921\"]], \"type\": \"histogram2dcontour\"}], \"mesh3d\": [{\"colorbar\": {\"outlinewidth\": 0, \"ticks\": \"\"}, \"type\": \"mesh3d\"}], \"parcoords\": [{\"line\": {\"colorbar\": {\"outlinewidth\": 0, \"ticks\": \"\"}}, \"type\": \"parcoords\"}], \"pie\": [{\"automargin\": true, \"type\": \"pie\"}], \"scatter\": [{\"marker\": {\"colorbar\": {\"outlinewidth\": 0, \"ticks\": \"\"}}, \"type\": \"scatter\"}], \"scatter3d\": [{\"line\": {\"colorbar\": {\"outlinewidth\": 0, \"ticks\": \"\"}}, \"marker\": {\"colorbar\": {\"outlinewidth\": 0, \"ticks\": \"\"}}, \"type\": \"scatter3d\"}], \"scattercarpet\": [{\"marker\": {\"colorbar\": {\"outlinewidth\": 0, \"ticks\": \"\"}}, \"type\": \"scattercarpet\"}], \"scattergeo\": [{\"marker\": {\"colorbar\": {\"outlinewidth\": 0, \"ticks\": \"\"}}, \"type\": \"scattergeo\"}], \"scattergl\": [{\"marker\": {\"colorbar\": {\"outlinewidth\": 0, \"ticks\": \"\"}}, \"type\": \"scattergl\"}], \"scattermapbox\": [{\"marker\": {\"colorbar\": {\"outlinewidth\": 0, \"ticks\": \"\"}}, \"type\": \"scattermapbox\"}], \"scatterpolar\": [{\"marker\": {\"colorbar\": {\"outlinewidth\": 0, \"ticks\": \"\"}}, \"type\": \"scatterpolar\"}], \"scatterpolargl\": [{\"marker\": {\"colorbar\": {\"outlinewidth\": 0, \"ticks\": \"\"}}, \"type\": \"scatterpolargl\"}], \"scatterternary\": [{\"marker\": {\"colorbar\": {\"outlinewidth\": 0, \"ticks\": \"\"}}, \"type\": \"scatterternary\"}], \"surface\": [{\"colorbar\": {\"outlinewidth\": 0, \"ticks\": \"\"}, \"colorscale\": [[0.0, \"#0d0887\"], [0.1111111111111111, \"#46039f\"], [0.2222222222222222, \"#7201a8\"], [0.3333333333333333, \"#9c179e\"], [0.4444444444444444, \"#bd3786\"], [0.5555555555555556, \"#d8576b\"], [0.6666666666666666, \"#ed7953\"], [0.7777777777777778, \"#fb9f3a\"], [0.8888888888888888, \"#fdca26\"], [1.0, \"#f0f921\"]], \"type\": \"surface\"}], \"table\": [{\"cells\": {\"fill\": {\"color\": \"#EBF0F8\"}, \"line\": {\"color\": \"white\"}}, \"header\": {\"fill\": {\"color\": \"#C8D4E3\"}, \"line\": {\"color\": \"white\"}}, \"type\": \"table\"}]}, \"layout\": {\"annotationdefaults\": {\"arrowcolor\": \"#2a3f5f\", \"arrowhead\": 0, \"arrowwidth\": 1}, \"autotypenumbers\": \"strict\", \"coloraxis\": {\"colorbar\": {\"outlinewidth\": 0, \"ticks\": \"\"}}, \"colorscale\": {\"diverging\": [[0, \"#8e0152\"], [0.1, \"#c51b7d\"], [0.2, \"#de77ae\"], [0.3, \"#f1b6da\"], [0.4, \"#fde0ef\"], [0.5, \"#f7f7f7\"], [0.6, \"#e6f5d0\"], [0.7, \"#b8e186\"], [0.8, \"#7fbc41\"], [0.9, \"#4d9221\"], [1, \"#276419\"]], \"sequential\": [[0.0, \"#0d0887\"], [0.1111111111111111, \"#46039f\"], [0.2222222222222222, \"#7201a8\"], [0.3333333333333333, \"#9c179e\"], [0.4444444444444444, \"#bd3786\"], [0.5555555555555556, \"#d8576b\"], [0.6666666666666666, \"#ed7953\"], [0.7777777777777778, \"#fb9f3a\"], [0.8888888888888888, \"#fdca26\"], [1.0, \"#f0f921\"]], \"sequentialminus\": [[0.0, \"#0d0887\"], [0.1111111111111111, \"#46039f\"], [0.2222222222222222, \"#7201a8\"], [0.3333333333333333, \"#9c179e\"], [0.4444444444444444, \"#bd3786\"], [0.5555555555555556, \"#d8576b\"], [0.6666666666666666, \"#ed7953\"], [0.7777777777777778, \"#fb9f3a\"], [0.8888888888888888, \"#fdca26\"], [1.0, \"#f0f921\"]]}, \"colorway\": [\"#636efa\", \"#EF553B\", \"#00cc96\", \"#ab63fa\", \"#FFA15A\", \"#19d3f3\", \"#FF6692\", \"#B6E880\", \"#FF97FF\", \"#FECB52\"], \"font\": {\"color\": \"#2a3f5f\"}, \"geo\": {\"bgcolor\": \"white\", \"lakecolor\": \"white\", \"landcolor\": \"#E5ECF6\", \"showlakes\": true, \"showland\": true, \"subunitcolor\": \"white\"}, \"hoverlabel\": {\"align\": \"left\"}, \"hovermode\": \"closest\", \"mapbox\": {\"style\": \"light\"}, \"paper_bgcolor\": \"white\", \"plot_bgcolor\": \"#E5ECF6\", \"polar\": {\"angularaxis\": {\"gridcolor\": \"white\", \"linecolor\": \"white\", \"ticks\": \"\"}, \"bgcolor\": \"#E5ECF6\", \"radialaxis\": {\"gridcolor\": \"white\", \"linecolor\": \"white\", \"ticks\": \"\"}}, \"scene\": {\"xaxis\": {\"backgroundcolor\": \"#E5ECF6\", \"gridcolor\": \"white\", \"gridwidth\": 2, \"linecolor\": \"white\", \"showbackground\": true, \"ticks\": \"\", \"zerolinecolor\": \"white\"}, \"yaxis\": {\"backgroundcolor\": \"#E5ECF6\", \"gridcolor\": \"white\", \"gridwidth\": 2, \"linecolor\": \"white\", \"showbackground\": true, \"ticks\": \"\", \"zerolinecolor\": \"white\"}, \"zaxis\": {\"backgroundcolor\": \"#E5ECF6\", \"gridcolor\": \"white\", \"gridwidth\": 2, \"linecolor\": \"white\", \"showbackground\": true, \"ticks\": \"\", \"zerolinecolor\": \"white\"}}, \"shapedefaults\": {\"line\": {\"color\": \"#2a3f5f\"}}, \"ternary\": {\"aaxis\": {\"gridcolor\": \"white\", \"linecolor\": \"white\", \"ticks\": \"\"}, \"baxis\": {\"gridcolor\": \"white\", \"linecolor\": \"white\", \"ticks\": \"\"}, \"bgcolor\": \"#E5ECF6\", \"caxis\": {\"gridcolor\": \"white\", \"linecolor\": \"white\", \"ticks\": \"\"}}, \"title\": {\"x\": 0.05}, \"xaxis\": {\"automargin\": true, \"gridcolor\": \"white\", \"linecolor\": \"white\", \"ticks\": \"\", \"title\": {\"standoff\": 15}, \"zerolinecolor\": \"white\", \"zerolinewidth\": 2}, \"yaxis\": {\"automargin\": true, \"gridcolor\": \"white\", \"linecolor\": \"white\", \"ticks\": \"\", \"title\": {\"standoff\": 15}, \"zerolinecolor\": \"white\", \"zerolinewidth\": 2}}}, \"xaxis\": {\"anchor\": \"y\", \"domain\": [0.0, 1.0], \"title\": {\"text\": \"index\"}}, \"xaxis2\": {\"anchor\": \"y2\", \"domain\": [0.0, 1.0], \"matches\": \"x\", \"showgrid\": true, \"showticklabels\": false}, \"yaxis\": {\"anchor\": \"x\", \"categoryarray\": [1, 2, 3, 4, 5, 6, 7, 8, 9, 10, 11, 12, 13, 14, 15, 16, 17, 18, 19, 20, 21, 23, 24, 25, 26, 27, 28, 29, 30, 31, 32, 33, 34, 35, 36, 37, 38, 39, 40, 41, 42, 45, 46, 50, 52, 53, 54, 56, 57, 58, 60, 62, 64, 65, 66, 67, 69, 71, 73, 74, 80, 81, 84, 87, 88, 89, 91, 92, 98, 99, 100, 101, 102, 105, 106, 109, 111, 115, 117, 123, 125, 135, 136, 139, 143, 144, 147, 150, 153, 156, 161, 162, 166, 168, 180, 183, 188, 191, 196, 199, 200, 204, 223, 238, 240, 257, 262, 273, 296, 303, 304, 308, 326, 337, 341, 357, 378, 438, 445, 459, 500, 507, 517, 534, 545, 563, 576, 583, 600, 641, 671, 691, 722, 735, 754, 767, 779, 806, 853, 857, 873, 887, 990, 993, 1012, 1023, 1068, 1083, 1164, 1180, 1231, 1235, 1294, 1403, 1419, 1432, 1437, 1531, 1559, 1705, 1905, 2112, 2180, 2206, 2459, 2511, 2515, 2709, 2735, 2833, 2947, 3084, 3295, 3765, 3845, 4395, 4426, 4496, 4790, 5773, 5846, 6193, 6845, 7087, 7484, 7661, 7861, 7915, 8245, 11762, 12715, 13033, 13059, 13145, 15337, 16978, 17005, 17091, 17697, 18600, 19040, 24533, 27768, 28497, 38181, 50496], \"categoryorder\": \"array\", \"domain\": [0.0, 0.7326], \"title\": {\"text\": \"sum of Amount of Sales for Price\"}}, \"yaxis2\": {\"anchor\": \"x2\", \"categoryarray\": [1, 2, 3, 4, 5, 6, 7, 8, 9, 10, 11, 12, 13, 14, 15, 16, 17, 18, 19, 20, 21, 23, 24, 25, 26, 27, 28, 29, 30, 31, 32, 33, 34, 35, 36, 37, 38, 39, 40, 41, 42, 45, 46, 50, 52, 53, 54, 56, 57, 58, 60, 62, 64, 65, 66, 67, 69, 71, 73, 74, 80, 81, 84, 87, 88, 89, 91, 92, 98, 99, 100, 101, 102, 105, 106, 109, 111, 115, 117, 123, 125, 135, 136, 139, 143, 144, 147, 150, 153, 156, 161, 162, 166, 168, 180, 183, 188, 191, 196, 199, 200, 204, 223, 238, 240, 257, 262, 273, 296, 303, 304, 308, 326, 337, 341, 357, 378, 438, 445, 459, 500, 507, 517, 534, 545, 563, 576, 583, 600, 641, 671, 691, 722, 735, 754, 767, 779, 806, 853, 857, 873, 887, 990, 993, 1012, 1023, 1068, 1083, 1164, 1180, 1231, 1235, 1294, 1403, 1419, 1432, 1437, 1531, 1559, 1705, 1905, 2112, 2180, 2206, 2459, 2511, 2515, 2709, 2735, 2833, 2947, 3084, 3295, 3765, 3845, 4395, 4426, 4496, 4790, 5773, 5846, 6193, 6845, 7087, 7484, 7661, 7861, 7915, 8245, 11762, 12715, 13033, 13059, 13145, 15337, 16978, 17005, 17091, 17697, 18600, 19040, 24533, 27768, 28497, 38181, 50496], \"categoryorder\": \"array\", \"domain\": [0.7426, 1.0], \"matches\": \"y2\", \"showgrid\": false, \"showline\": false, \"showticklabels\": false, \"ticks\": \"\"}},                        {\"responsive\": true}                    ).then(function(){\n",
       "                            \n",
       "var gd = document.getElementById('98050ad4-e764-4f91-89e9-3d49c6954df3');\n",
       "var x = new MutationObserver(function (mutations, observer) {{\n",
       "        var display = window.getComputedStyle(gd).display;\n",
       "        if (!display || display === 'none') {{\n",
       "            console.log([gd, 'removed!']);\n",
       "            Plotly.purge(gd);\n",
       "            observer.disconnect();\n",
       "        }}\n",
       "}});\n",
       "\n",
       "// Listen for the removal of the full notebook cells\n",
       "var notebookContainer = gd.closest('#notebook-container');\n",
       "if (notebookContainer) {{\n",
       "    x.observe(notebookContainer, {childList: true});\n",
       "}}\n",
       "\n",
       "// Listen for the clearing of the current output cell\n",
       "var outputEl = gd.closest('.output');\n",
       "if (outputEl) {{\n",
       "    x.observe(outputEl, {childList: true});\n",
       "}}\n",
       "\n",
       "                        })                };                });            </script>        </div>"
      ]
     },
     "metadata": {},
     "output_type": "display_data"
    }
   ],
   "source": [
    "import plotly.figure_factory as ff\n",
    "\n",
    "fig = px.histogram(prices, x=prices.index, y=\"Amount of Sales for Price\", color=\"Amount of Sales for Price\", marginal=\"rug\")\n",
    "fig.show()"
   ]
  },
  {
   "cell_type": "code",
   "execution_count": 90,
   "metadata": {},
   "outputs": [
    {
     "data": {
      "text/html": [
       "<div>\n",
       "<style scoped>\n",
       "    .dataframe tbody tr th:only-of-type {\n",
       "        vertical-align: middle;\n",
       "    }\n",
       "\n",
       "    .dataframe tbody tr th {\n",
       "        vertical-align: top;\n",
       "    }\n",
       "\n",
       "    .dataframe thead th {\n",
       "        text-align: right;\n",
       "    }\n",
       "</style>\n",
       "<table border=\"1\" class=\"dataframe\">\n",
       "  <thead>\n",
       "    <tr style=\"text-align: right;\">\n",
       "      <th></th>\n",
       "      <th>Amount of Sales for Country</th>\n",
       "    </tr>\n",
       "  </thead>\n",
       "  <tbody>\n",
       "    <tr>\n",
       "      <th>United Kingdom</th>\n",
       "      <td>495478</td>\n",
       "    </tr>\n",
       "    <tr>\n",
       "      <th>Germany</th>\n",
       "      <td>9495</td>\n",
       "    </tr>\n",
       "    <tr>\n",
       "      <th>France</th>\n",
       "      <td>8557</td>\n",
       "    </tr>\n",
       "    <tr>\n",
       "      <th>EIRE</th>\n",
       "      <td>8196</td>\n",
       "    </tr>\n",
       "    <tr>\n",
       "      <th>Spain</th>\n",
       "      <td>2533</td>\n",
       "    </tr>\n",
       "    <tr>\n",
       "      <th>Netherlands</th>\n",
       "      <td>2371</td>\n",
       "    </tr>\n",
       "    <tr>\n",
       "      <th>Belgium</th>\n",
       "      <td>2069</td>\n",
       "    </tr>\n",
       "    <tr>\n",
       "      <th>Switzerland</th>\n",
       "      <td>2002</td>\n",
       "    </tr>\n",
       "    <tr>\n",
       "      <th>Portugal</th>\n",
       "      <td>1519</td>\n",
       "    </tr>\n",
       "    <tr>\n",
       "      <th>Australia</th>\n",
       "      <td>1259</td>\n",
       "    </tr>\n",
       "    <tr>\n",
       "      <th>Norway</th>\n",
       "      <td>1086</td>\n",
       "    </tr>\n",
       "    <tr>\n",
       "      <th>Italy</th>\n",
       "      <td>803</td>\n",
       "    </tr>\n",
       "    <tr>\n",
       "      <th>Channel Islands</th>\n",
       "      <td>758</td>\n",
       "    </tr>\n",
       "    <tr>\n",
       "      <th>Finland</th>\n",
       "      <td>695</td>\n",
       "    </tr>\n",
       "    <tr>\n",
       "      <th>Cyprus</th>\n",
       "      <td>622</td>\n",
       "    </tr>\n",
       "    <tr>\n",
       "      <th>Sweden</th>\n",
       "      <td>462</td>\n",
       "    </tr>\n",
       "    <tr>\n",
       "      <th>Unspecified</th>\n",
       "      <td>446</td>\n",
       "    </tr>\n",
       "    <tr>\n",
       "      <th>Austria</th>\n",
       "      <td>401</td>\n",
       "    </tr>\n",
       "    <tr>\n",
       "      <th>Denmark</th>\n",
       "      <td>389</td>\n",
       "    </tr>\n",
       "    <tr>\n",
       "      <th>Japan</th>\n",
       "      <td>358</td>\n",
       "    </tr>\n",
       "    <tr>\n",
       "      <th>Poland</th>\n",
       "      <td>341</td>\n",
       "    </tr>\n",
       "    <tr>\n",
       "      <th>Israel</th>\n",
       "      <td>297</td>\n",
       "    </tr>\n",
       "    <tr>\n",
       "      <th>USA</th>\n",
       "      <td>291</td>\n",
       "    </tr>\n",
       "    <tr>\n",
       "      <th>Hong Kong</th>\n",
       "      <td>288</td>\n",
       "    </tr>\n",
       "    <tr>\n",
       "      <th>Singapore</th>\n",
       "      <td>229</td>\n",
       "    </tr>\n",
       "    <tr>\n",
       "      <th>Iceland</th>\n",
       "      <td>182</td>\n",
       "    </tr>\n",
       "    <tr>\n",
       "      <th>Canada</th>\n",
       "      <td>151</td>\n",
       "    </tr>\n",
       "    <tr>\n",
       "      <th>Greece</th>\n",
       "      <td>146</td>\n",
       "    </tr>\n",
       "    <tr>\n",
       "      <th>Malta</th>\n",
       "      <td>127</td>\n",
       "    </tr>\n",
       "    <tr>\n",
       "      <th>United Arab Emirates</th>\n",
       "      <td>68</td>\n",
       "    </tr>\n",
       "    <tr>\n",
       "      <th>European Community</th>\n",
       "      <td>61</td>\n",
       "    </tr>\n",
       "    <tr>\n",
       "      <th>RSA</th>\n",
       "      <td>58</td>\n",
       "    </tr>\n",
       "    <tr>\n",
       "      <th>Lebanon</th>\n",
       "      <td>45</td>\n",
       "    </tr>\n",
       "    <tr>\n",
       "      <th>Lithuania</th>\n",
       "      <td>35</td>\n",
       "    </tr>\n",
       "    <tr>\n",
       "      <th>Brazil</th>\n",
       "      <td>32</td>\n",
       "    </tr>\n",
       "    <tr>\n",
       "      <th>Czech Republic</th>\n",
       "      <td>30</td>\n",
       "    </tr>\n",
       "    <tr>\n",
       "      <th>Bahrain</th>\n",
       "      <td>19</td>\n",
       "    </tr>\n",
       "    <tr>\n",
       "      <th>Saudi Arabia</th>\n",
       "      <td>10</td>\n",
       "    </tr>\n",
       "  </tbody>\n",
       "</table>\n",
       "</div>"
      ],
      "text/plain": [
       "                      Amount of Sales for Country\n",
       "United Kingdom                             495478\n",
       "Germany                                      9495\n",
       "France                                       8557\n",
       "EIRE                                         8196\n",
       "Spain                                        2533\n",
       "Netherlands                                  2371\n",
       "Belgium                                      2069\n",
       "Switzerland                                  2002\n",
       "Portugal                                     1519\n",
       "Australia                                    1259\n",
       "Norway                                       1086\n",
       "Italy                                         803\n",
       "Channel Islands                               758\n",
       "Finland                                       695\n",
       "Cyprus                                        622\n",
       "Sweden                                        462\n",
       "Unspecified                                   446\n",
       "Austria                                       401\n",
       "Denmark                                       389\n",
       "Japan                                         358\n",
       "Poland                                        341\n",
       "Israel                                        297\n",
       "USA                                           291\n",
       "Hong Kong                                     288\n",
       "Singapore                                     229\n",
       "Iceland                                       182\n",
       "Canada                                        151\n",
       "Greece                                        146\n",
       "Malta                                         127\n",
       "United Arab Emirates                           68\n",
       "European Community                             61\n",
       "RSA                                            58\n",
       "Lebanon                                        45\n",
       "Lithuania                                      35\n",
       "Brazil                                         32\n",
       "Czech Republic                                 30\n",
       "Bahrain                                        19\n",
       "Saudi Arabia                                   10"
      ]
     },
     "execution_count": 90,
     "metadata": {},
     "output_type": "execute_result"
    }
   ],
   "source": [
    "countries = df[\"Country\"]\n",
    "countries = countries.value_counts().to_frame()\n",
    "countries = countries.rename(columns={\"Country\":\"Amount of Sales for Country\"})\n",
    "countries"
   ]
  },
  {
   "cell_type": "code",
   "execution_count": 91,
   "metadata": {},
   "outputs": [
    {
     "data": {
      "application/vnd.plotly.v1+json": {
       "config": {
        "plotlyServerURL": "https://plot.ly"
       },
       "data": [
        {
         "alignmentgroup": "True",
         "hovertemplate": "Country: %{x} <br> Sales for Country: %{y} <extra></extra>",
         "legendgroup": "",
         "marker": {
          "color": [
           495478,
           9495,
           8557,
           8196,
           2533,
           2371,
           2069,
           2002,
           1519,
           1259,
           1086,
           803,
           758,
           695,
           622,
           462,
           446,
           401,
           389,
           358,
           341,
           297,
           291,
           288,
           229,
           182,
           151,
           146,
           127,
           68,
           61,
           58,
           45,
           35,
           32,
           30,
           19,
           10
          ],
          "coloraxis": "coloraxis"
         },
         "name": "",
         "offsetgroup": "",
         "orientation": "v",
         "showlegend": false,
         "textposition": "auto",
         "type": "bar",
         "x": [
          "United Kingdom",
          "Germany",
          "France",
          "EIRE",
          "Spain",
          "Netherlands",
          "Belgium",
          "Switzerland",
          "Portugal",
          "Australia",
          "Norway",
          "Italy",
          "Channel Islands",
          "Finland",
          "Cyprus",
          "Sweden",
          "Unspecified",
          "Austria",
          "Denmark",
          "Japan",
          "Poland",
          "Israel",
          "USA",
          "Hong Kong",
          "Singapore",
          "Iceland",
          "Canada",
          "Greece",
          "Malta",
          "United Arab Emirates",
          "European Community",
          "RSA",
          "Lebanon",
          "Lithuania",
          "Brazil",
          "Czech Republic",
          "Bahrain",
          "Saudi Arabia"
         ],
         "xaxis": "x",
         "y": [
          495478,
          9495,
          8557,
          8196,
          2533,
          2371,
          2069,
          2002,
          1519,
          1259,
          1086,
          803,
          758,
          695,
          622,
          462,
          446,
          401,
          389,
          358,
          341,
          297,
          291,
          288,
          229,
          182,
          151,
          146,
          127,
          68,
          61,
          58,
          45,
          35,
          32,
          30,
          19,
          10
         ],
         "yaxis": "y"
        }
       ],
       "layout": {
        "barmode": "stack",
        "coloraxis": {
         "colorbar": {
          "title": {
           "text": "Amount of Sales for Country"
          }
         },
         "colorscale": [
          [
           0,
           "#0d0887"
          ],
          [
           0.1111111111111111,
           "#46039f"
          ],
          [
           0.2222222222222222,
           "#7201a8"
          ],
          [
           0.3333333333333333,
           "#9c179e"
          ],
          [
           0.4444444444444444,
           "#bd3786"
          ],
          [
           0.5555555555555556,
           "#d8576b"
          ],
          [
           0.6666666666666666,
           "#ed7953"
          ],
          [
           0.7777777777777778,
           "#fb9f3a"
          ],
          [
           0.8888888888888888,
           "#fdca26"
          ],
          [
           1,
           "#f0f921"
          ]
         ]
        },
        "legend": {
         "tracegroupgap": 0
        },
        "margin": {
         "t": 60
        },
        "paper_bgcolor": "rgba(255,255,255)",
        "plot_bgcolor": "rgba(0,0,0,0)",
        "template": {
         "data": {
          "bar": [
           {
            "error_x": {
             "color": "#2a3f5f"
            },
            "error_y": {
             "color": "#2a3f5f"
            },
            "marker": {
             "line": {
              "color": "#E5ECF6",
              "width": 0.5
             }
            },
            "type": "bar"
           }
          ],
          "barpolar": [
           {
            "marker": {
             "line": {
              "color": "#E5ECF6",
              "width": 0.5
             }
            },
            "type": "barpolar"
           }
          ],
          "carpet": [
           {
            "aaxis": {
             "endlinecolor": "#2a3f5f",
             "gridcolor": "white",
             "linecolor": "white",
             "minorgridcolor": "white",
             "startlinecolor": "#2a3f5f"
            },
            "baxis": {
             "endlinecolor": "#2a3f5f",
             "gridcolor": "white",
             "linecolor": "white",
             "minorgridcolor": "white",
             "startlinecolor": "#2a3f5f"
            },
            "type": "carpet"
           }
          ],
          "choropleth": [
           {
            "colorbar": {
             "outlinewidth": 0,
             "ticks": ""
            },
            "type": "choropleth"
           }
          ],
          "contour": [
           {
            "colorbar": {
             "outlinewidth": 0,
             "ticks": ""
            },
            "colorscale": [
             [
              0,
              "#0d0887"
             ],
             [
              0.1111111111111111,
              "#46039f"
             ],
             [
              0.2222222222222222,
              "#7201a8"
             ],
             [
              0.3333333333333333,
              "#9c179e"
             ],
             [
              0.4444444444444444,
              "#bd3786"
             ],
             [
              0.5555555555555556,
              "#d8576b"
             ],
             [
              0.6666666666666666,
              "#ed7953"
             ],
             [
              0.7777777777777778,
              "#fb9f3a"
             ],
             [
              0.8888888888888888,
              "#fdca26"
             ],
             [
              1,
              "#f0f921"
             ]
            ],
            "type": "contour"
           }
          ],
          "contourcarpet": [
           {
            "colorbar": {
             "outlinewidth": 0,
             "ticks": ""
            },
            "type": "contourcarpet"
           }
          ],
          "heatmap": [
           {
            "colorbar": {
             "outlinewidth": 0,
             "ticks": ""
            },
            "colorscale": [
             [
              0,
              "#0d0887"
             ],
             [
              0.1111111111111111,
              "#46039f"
             ],
             [
              0.2222222222222222,
              "#7201a8"
             ],
             [
              0.3333333333333333,
              "#9c179e"
             ],
             [
              0.4444444444444444,
              "#bd3786"
             ],
             [
              0.5555555555555556,
              "#d8576b"
             ],
             [
              0.6666666666666666,
              "#ed7953"
             ],
             [
              0.7777777777777778,
              "#fb9f3a"
             ],
             [
              0.8888888888888888,
              "#fdca26"
             ],
             [
              1,
              "#f0f921"
             ]
            ],
            "type": "heatmap"
           }
          ],
          "heatmapgl": [
           {
            "colorbar": {
             "outlinewidth": 0,
             "ticks": ""
            },
            "colorscale": [
             [
              0,
              "#0d0887"
             ],
             [
              0.1111111111111111,
              "#46039f"
             ],
             [
              0.2222222222222222,
              "#7201a8"
             ],
             [
              0.3333333333333333,
              "#9c179e"
             ],
             [
              0.4444444444444444,
              "#bd3786"
             ],
             [
              0.5555555555555556,
              "#d8576b"
             ],
             [
              0.6666666666666666,
              "#ed7953"
             ],
             [
              0.7777777777777778,
              "#fb9f3a"
             ],
             [
              0.8888888888888888,
              "#fdca26"
             ],
             [
              1,
              "#f0f921"
             ]
            ],
            "type": "heatmapgl"
           }
          ],
          "histogram": [
           {
            "marker": {
             "colorbar": {
              "outlinewidth": 0,
              "ticks": ""
             }
            },
            "type": "histogram"
           }
          ],
          "histogram2d": [
           {
            "colorbar": {
             "outlinewidth": 0,
             "ticks": ""
            },
            "colorscale": [
             [
              0,
              "#0d0887"
             ],
             [
              0.1111111111111111,
              "#46039f"
             ],
             [
              0.2222222222222222,
              "#7201a8"
             ],
             [
              0.3333333333333333,
              "#9c179e"
             ],
             [
              0.4444444444444444,
              "#bd3786"
             ],
             [
              0.5555555555555556,
              "#d8576b"
             ],
             [
              0.6666666666666666,
              "#ed7953"
             ],
             [
              0.7777777777777778,
              "#fb9f3a"
             ],
             [
              0.8888888888888888,
              "#fdca26"
             ],
             [
              1,
              "#f0f921"
             ]
            ],
            "type": "histogram2d"
           }
          ],
          "histogram2dcontour": [
           {
            "colorbar": {
             "outlinewidth": 0,
             "ticks": ""
            },
            "colorscale": [
             [
              0,
              "#0d0887"
             ],
             [
              0.1111111111111111,
              "#46039f"
             ],
             [
              0.2222222222222222,
              "#7201a8"
             ],
             [
              0.3333333333333333,
              "#9c179e"
             ],
             [
              0.4444444444444444,
              "#bd3786"
             ],
             [
              0.5555555555555556,
              "#d8576b"
             ],
             [
              0.6666666666666666,
              "#ed7953"
             ],
             [
              0.7777777777777778,
              "#fb9f3a"
             ],
             [
              0.8888888888888888,
              "#fdca26"
             ],
             [
              1,
              "#f0f921"
             ]
            ],
            "type": "histogram2dcontour"
           }
          ],
          "mesh3d": [
           {
            "colorbar": {
             "outlinewidth": 0,
             "ticks": ""
            },
            "type": "mesh3d"
           }
          ],
          "parcoords": [
           {
            "line": {
             "colorbar": {
              "outlinewidth": 0,
              "ticks": ""
             }
            },
            "type": "parcoords"
           }
          ],
          "pie": [
           {
            "automargin": true,
            "type": "pie"
           }
          ],
          "scatter": [
           {
            "marker": {
             "colorbar": {
              "outlinewidth": 0,
              "ticks": ""
             }
            },
            "type": "scatter"
           }
          ],
          "scatter3d": [
           {
            "line": {
             "colorbar": {
              "outlinewidth": 0,
              "ticks": ""
             }
            },
            "marker": {
             "colorbar": {
              "outlinewidth": 0,
              "ticks": ""
             }
            },
            "type": "scatter3d"
           }
          ],
          "scattercarpet": [
           {
            "marker": {
             "colorbar": {
              "outlinewidth": 0,
              "ticks": ""
             }
            },
            "type": "scattercarpet"
           }
          ],
          "scattergeo": [
           {
            "marker": {
             "colorbar": {
              "outlinewidth": 0,
              "ticks": ""
             }
            },
            "type": "scattergeo"
           }
          ],
          "scattergl": [
           {
            "marker": {
             "colorbar": {
              "outlinewidth": 0,
              "ticks": ""
             }
            },
            "type": "scattergl"
           }
          ],
          "scattermapbox": [
           {
            "marker": {
             "colorbar": {
              "outlinewidth": 0,
              "ticks": ""
             }
            },
            "type": "scattermapbox"
           }
          ],
          "scatterpolar": [
           {
            "marker": {
             "colorbar": {
              "outlinewidth": 0,
              "ticks": ""
             }
            },
            "type": "scatterpolar"
           }
          ],
          "scatterpolargl": [
           {
            "marker": {
             "colorbar": {
              "outlinewidth": 0,
              "ticks": ""
             }
            },
            "type": "scatterpolargl"
           }
          ],
          "scatterternary": [
           {
            "marker": {
             "colorbar": {
              "outlinewidth": 0,
              "ticks": ""
             }
            },
            "type": "scatterternary"
           }
          ],
          "surface": [
           {
            "colorbar": {
             "outlinewidth": 0,
             "ticks": ""
            },
            "colorscale": [
             [
              0,
              "#0d0887"
             ],
             [
              0.1111111111111111,
              "#46039f"
             ],
             [
              0.2222222222222222,
              "#7201a8"
             ],
             [
              0.3333333333333333,
              "#9c179e"
             ],
             [
              0.4444444444444444,
              "#bd3786"
             ],
             [
              0.5555555555555556,
              "#d8576b"
             ],
             [
              0.6666666666666666,
              "#ed7953"
             ],
             [
              0.7777777777777778,
              "#fb9f3a"
             ],
             [
              0.8888888888888888,
              "#fdca26"
             ],
             [
              1,
              "#f0f921"
             ]
            ],
            "type": "surface"
           }
          ],
          "table": [
           {
            "cells": {
             "fill": {
              "color": "#EBF0F8"
             },
             "line": {
              "color": "white"
             }
            },
            "header": {
             "fill": {
              "color": "#C8D4E3"
             },
             "line": {
              "color": "white"
             }
            },
            "type": "table"
           }
          ]
         },
         "layout": {
          "annotationdefaults": {
           "arrowcolor": "#2a3f5f",
           "arrowhead": 0,
           "arrowwidth": 1
          },
          "autotypenumbers": "strict",
          "coloraxis": {
           "colorbar": {
            "outlinewidth": 0,
            "ticks": ""
           }
          },
          "colorscale": {
           "diverging": [
            [
             0,
             "#8e0152"
            ],
            [
             0.1,
             "#c51b7d"
            ],
            [
             0.2,
             "#de77ae"
            ],
            [
             0.3,
             "#f1b6da"
            ],
            [
             0.4,
             "#fde0ef"
            ],
            [
             0.5,
             "#f7f7f7"
            ],
            [
             0.6,
             "#e6f5d0"
            ],
            [
             0.7,
             "#b8e186"
            ],
            [
             0.8,
             "#7fbc41"
            ],
            [
             0.9,
             "#4d9221"
            ],
            [
             1,
             "#276419"
            ]
           ],
           "sequential": [
            [
             0,
             "#0d0887"
            ],
            [
             0.1111111111111111,
             "#46039f"
            ],
            [
             0.2222222222222222,
             "#7201a8"
            ],
            [
             0.3333333333333333,
             "#9c179e"
            ],
            [
             0.4444444444444444,
             "#bd3786"
            ],
            [
             0.5555555555555556,
             "#d8576b"
            ],
            [
             0.6666666666666666,
             "#ed7953"
            ],
            [
             0.7777777777777778,
             "#fb9f3a"
            ],
            [
             0.8888888888888888,
             "#fdca26"
            ],
            [
             1,
             "#f0f921"
            ]
           ],
           "sequentialminus": [
            [
             0,
             "#0d0887"
            ],
            [
             0.1111111111111111,
             "#46039f"
            ],
            [
             0.2222222222222222,
             "#7201a8"
            ],
            [
             0.3333333333333333,
             "#9c179e"
            ],
            [
             0.4444444444444444,
             "#bd3786"
            ],
            [
             0.5555555555555556,
             "#d8576b"
            ],
            [
             0.6666666666666666,
             "#ed7953"
            ],
            [
             0.7777777777777778,
             "#fb9f3a"
            ],
            [
             0.8888888888888888,
             "#fdca26"
            ],
            [
             1,
             "#f0f921"
            ]
           ]
          },
          "colorway": [
           "#636efa",
           "#EF553B",
           "#00cc96",
           "#ab63fa",
           "#FFA15A",
           "#19d3f3",
           "#FF6692",
           "#B6E880",
           "#FF97FF",
           "#FECB52"
          ],
          "font": {
           "color": "#2a3f5f"
          },
          "geo": {
           "bgcolor": "white",
           "lakecolor": "white",
           "landcolor": "#E5ECF6",
           "showlakes": true,
           "showland": true,
           "subunitcolor": "white"
          },
          "hoverlabel": {
           "align": "left"
          },
          "hovermode": "closest",
          "mapbox": {
           "style": "light"
          },
          "paper_bgcolor": "white",
          "plot_bgcolor": "#E5ECF6",
          "polar": {
           "angularaxis": {
            "gridcolor": "white",
            "linecolor": "white",
            "ticks": ""
           },
           "bgcolor": "#E5ECF6",
           "radialaxis": {
            "gridcolor": "white",
            "linecolor": "white",
            "ticks": ""
           }
          },
          "scene": {
           "xaxis": {
            "backgroundcolor": "#E5ECF6",
            "gridcolor": "white",
            "gridwidth": 2,
            "linecolor": "white",
            "showbackground": true,
            "ticks": "",
            "zerolinecolor": "white"
           },
           "yaxis": {
            "backgroundcolor": "#E5ECF6",
            "gridcolor": "white",
            "gridwidth": 2,
            "linecolor": "white",
            "showbackground": true,
            "ticks": "",
            "zerolinecolor": "white"
           },
           "zaxis": {
            "backgroundcolor": "#E5ECF6",
            "gridcolor": "white",
            "gridwidth": 2,
            "linecolor": "white",
            "showbackground": true,
            "ticks": "",
            "zerolinecolor": "white"
           }
          },
          "shapedefaults": {
           "line": {
            "color": "#2a3f5f"
           }
          },
          "ternary": {
           "aaxis": {
            "gridcolor": "white",
            "linecolor": "white",
            "ticks": ""
           },
           "baxis": {
            "gridcolor": "white",
            "linecolor": "white",
            "ticks": ""
           },
           "bgcolor": "#E5ECF6",
           "caxis": {
            "gridcolor": "white",
            "linecolor": "white",
            "ticks": ""
           }
          },
          "title": {
           "x": 0.05
          },
          "xaxis": {
           "automargin": true,
           "gridcolor": "white",
           "linecolor": "white",
           "ticks": "",
           "title": {
            "standoff": 15
           },
           "zerolinecolor": "white",
           "zerolinewidth": 2
          },
          "yaxis": {
           "automargin": true,
           "gridcolor": "white",
           "linecolor": "white",
           "ticks": "",
           "title": {
            "standoff": 15
           },
           "zerolinecolor": "white",
           "zerolinewidth": 2
          }
         }
        },
        "xaxis": {
         "anchor": "y",
         "domain": [
          0,
          1
         ],
         "title": {
          "text": "Country"
         }
        },
        "yaxis": {
         "anchor": "x",
         "domain": [
          0,
          1
         ],
         "gridcolor": "black",
         "gridwidth": 0.5,
         "showgrid": true,
         "title": {
          "text": "Amount of Sales for Country"
         }
        }
       }
      },
      "text/html": [
       "<div>                            <div id=\"18d40863-b2ff-4723-9693-21bcc74241bb\" class=\"plotly-graph-div\" style=\"height:525px; width:100%;\"></div>            <script type=\"text/javascript\">                require([\"plotly\"], function(Plotly) {                    window.PLOTLYENV=window.PLOTLYENV || {};                                    if (document.getElementById(\"18d40863-b2ff-4723-9693-21bcc74241bb\")) {                    Plotly.newPlot(                        \"18d40863-b2ff-4723-9693-21bcc74241bb\",                        [{\"alignmentgroup\": \"True\", \"hovertemplate\": \"Country: %{x} <br> Sales for Country: %{y} <extra></extra>\", \"legendgroup\": \"\", \"marker\": {\"color\": [495478, 9495, 8557, 8196, 2533, 2371, 2069, 2002, 1519, 1259, 1086, 803, 758, 695, 622, 462, 446, 401, 389, 358, 341, 297, 291, 288, 229, 182, 151, 146, 127, 68, 61, 58, 45, 35, 32, 30, 19, 10], \"coloraxis\": \"coloraxis\"}, \"name\": \"\", \"offsetgroup\": \"\", \"orientation\": \"v\", \"showlegend\": false, \"textposition\": \"auto\", \"type\": \"bar\", \"x\": [\"United Kingdom\", \"Germany\", \"France\", \"EIRE\", \"Spain\", \"Netherlands\", \"Belgium\", \"Switzerland\", \"Portugal\", \"Australia\", \"Norway\", \"Italy\", \"Channel Islands\", \"Finland\", \"Cyprus\", \"Sweden\", \"Unspecified\", \"Austria\", \"Denmark\", \"Japan\", \"Poland\", \"Israel\", \"USA\", \"Hong Kong\", \"Singapore\", \"Iceland\", \"Canada\", \"Greece\", \"Malta\", \"United Arab Emirates\", \"European Community\", \"RSA\", \"Lebanon\", \"Lithuania\", \"Brazil\", \"Czech Republic\", \"Bahrain\", \"Saudi Arabia\"], \"xaxis\": \"x\", \"y\": [495478, 9495, 8557, 8196, 2533, 2371, 2069, 2002, 1519, 1259, 1086, 803, 758, 695, 622, 462, 446, 401, 389, 358, 341, 297, 291, 288, 229, 182, 151, 146, 127, 68, 61, 58, 45, 35, 32, 30, 19, 10], \"yaxis\": \"y\"}],                        {\"barmode\": \"stack\", \"coloraxis\": {\"colorbar\": {\"title\": {\"text\": \"Amount of Sales for Country\"}}, \"colorscale\": [[0.0, \"#0d0887\"], [0.1111111111111111, \"#46039f\"], [0.2222222222222222, \"#7201a8\"], [0.3333333333333333, \"#9c179e\"], [0.4444444444444444, \"#bd3786\"], [0.5555555555555556, \"#d8576b\"], [0.6666666666666666, \"#ed7953\"], [0.7777777777777778, \"#fb9f3a\"], [0.8888888888888888, \"#fdca26\"], [1.0, \"#f0f921\"]]}, \"legend\": {\"tracegroupgap\": 0}, \"margin\": {\"t\": 60}, \"paper_bgcolor\": \"rgba(255,255,255)\", \"plot_bgcolor\": \"rgba(0,0,0,0)\", \"template\": {\"data\": {\"bar\": [{\"error_x\": {\"color\": \"#2a3f5f\"}, \"error_y\": {\"color\": \"#2a3f5f\"}, \"marker\": {\"line\": {\"color\": \"#E5ECF6\", \"width\": 0.5}}, \"type\": \"bar\"}], \"barpolar\": [{\"marker\": {\"line\": {\"color\": \"#E5ECF6\", \"width\": 0.5}}, \"type\": \"barpolar\"}], \"carpet\": [{\"aaxis\": {\"endlinecolor\": \"#2a3f5f\", \"gridcolor\": \"white\", \"linecolor\": \"white\", \"minorgridcolor\": \"white\", \"startlinecolor\": \"#2a3f5f\"}, \"baxis\": {\"endlinecolor\": \"#2a3f5f\", \"gridcolor\": \"white\", \"linecolor\": \"white\", \"minorgridcolor\": \"white\", \"startlinecolor\": \"#2a3f5f\"}, \"type\": \"carpet\"}], \"choropleth\": [{\"colorbar\": {\"outlinewidth\": 0, \"ticks\": \"\"}, \"type\": \"choropleth\"}], \"contour\": [{\"colorbar\": {\"outlinewidth\": 0, \"ticks\": \"\"}, \"colorscale\": [[0.0, \"#0d0887\"], [0.1111111111111111, \"#46039f\"], [0.2222222222222222, \"#7201a8\"], [0.3333333333333333, \"#9c179e\"], [0.4444444444444444, \"#bd3786\"], [0.5555555555555556, \"#d8576b\"], [0.6666666666666666, \"#ed7953\"], [0.7777777777777778, \"#fb9f3a\"], [0.8888888888888888, \"#fdca26\"], [1.0, \"#f0f921\"]], \"type\": \"contour\"}], \"contourcarpet\": [{\"colorbar\": {\"outlinewidth\": 0, \"ticks\": \"\"}, \"type\": \"contourcarpet\"}], \"heatmap\": [{\"colorbar\": {\"outlinewidth\": 0, \"ticks\": \"\"}, \"colorscale\": [[0.0, \"#0d0887\"], [0.1111111111111111, \"#46039f\"], [0.2222222222222222, \"#7201a8\"], [0.3333333333333333, \"#9c179e\"], [0.4444444444444444, \"#bd3786\"], [0.5555555555555556, \"#d8576b\"], [0.6666666666666666, \"#ed7953\"], [0.7777777777777778, \"#fb9f3a\"], [0.8888888888888888, \"#fdca26\"], [1.0, \"#f0f921\"]], \"type\": \"heatmap\"}], \"heatmapgl\": [{\"colorbar\": {\"outlinewidth\": 0, \"ticks\": \"\"}, \"colorscale\": [[0.0, \"#0d0887\"], [0.1111111111111111, \"#46039f\"], [0.2222222222222222, \"#7201a8\"], [0.3333333333333333, \"#9c179e\"], [0.4444444444444444, \"#bd3786\"], [0.5555555555555556, \"#d8576b\"], [0.6666666666666666, \"#ed7953\"], [0.7777777777777778, \"#fb9f3a\"], [0.8888888888888888, \"#fdca26\"], [1.0, \"#f0f921\"]], \"type\": \"heatmapgl\"}], \"histogram\": [{\"marker\": {\"colorbar\": {\"outlinewidth\": 0, \"ticks\": \"\"}}, \"type\": \"histogram\"}], \"histogram2d\": [{\"colorbar\": {\"outlinewidth\": 0, \"ticks\": \"\"}, \"colorscale\": [[0.0, \"#0d0887\"], [0.1111111111111111, \"#46039f\"], [0.2222222222222222, \"#7201a8\"], [0.3333333333333333, \"#9c179e\"], [0.4444444444444444, \"#bd3786\"], [0.5555555555555556, \"#d8576b\"], [0.6666666666666666, \"#ed7953\"], [0.7777777777777778, \"#fb9f3a\"], [0.8888888888888888, \"#fdca26\"], [1.0, \"#f0f921\"]], \"type\": \"histogram2d\"}], \"histogram2dcontour\": [{\"colorbar\": {\"outlinewidth\": 0, \"ticks\": \"\"}, \"colorscale\": [[0.0, \"#0d0887\"], [0.1111111111111111, \"#46039f\"], [0.2222222222222222, \"#7201a8\"], [0.3333333333333333, \"#9c179e\"], [0.4444444444444444, \"#bd3786\"], [0.5555555555555556, \"#d8576b\"], [0.6666666666666666, \"#ed7953\"], [0.7777777777777778, \"#fb9f3a\"], [0.8888888888888888, \"#fdca26\"], [1.0, \"#f0f921\"]], \"type\": \"histogram2dcontour\"}], \"mesh3d\": [{\"colorbar\": {\"outlinewidth\": 0, \"ticks\": \"\"}, \"type\": \"mesh3d\"}], \"parcoords\": [{\"line\": {\"colorbar\": {\"outlinewidth\": 0, \"ticks\": \"\"}}, \"type\": \"parcoords\"}], \"pie\": [{\"automargin\": true, \"type\": \"pie\"}], \"scatter\": [{\"marker\": {\"colorbar\": {\"outlinewidth\": 0, \"ticks\": \"\"}}, \"type\": \"scatter\"}], \"scatter3d\": [{\"line\": {\"colorbar\": {\"outlinewidth\": 0, \"ticks\": \"\"}}, \"marker\": {\"colorbar\": {\"outlinewidth\": 0, \"ticks\": \"\"}}, \"type\": \"scatter3d\"}], \"scattercarpet\": [{\"marker\": {\"colorbar\": {\"outlinewidth\": 0, \"ticks\": \"\"}}, \"type\": \"scattercarpet\"}], \"scattergeo\": [{\"marker\": {\"colorbar\": {\"outlinewidth\": 0, \"ticks\": \"\"}}, \"type\": \"scattergeo\"}], \"scattergl\": [{\"marker\": {\"colorbar\": {\"outlinewidth\": 0, \"ticks\": \"\"}}, \"type\": \"scattergl\"}], \"scattermapbox\": [{\"marker\": {\"colorbar\": {\"outlinewidth\": 0, \"ticks\": \"\"}}, \"type\": \"scattermapbox\"}], \"scatterpolar\": [{\"marker\": {\"colorbar\": {\"outlinewidth\": 0, \"ticks\": \"\"}}, \"type\": \"scatterpolar\"}], \"scatterpolargl\": [{\"marker\": {\"colorbar\": {\"outlinewidth\": 0, \"ticks\": \"\"}}, \"type\": \"scatterpolargl\"}], \"scatterternary\": [{\"marker\": {\"colorbar\": {\"outlinewidth\": 0, \"ticks\": \"\"}}, \"type\": \"scatterternary\"}], \"surface\": [{\"colorbar\": {\"outlinewidth\": 0, \"ticks\": \"\"}, \"colorscale\": [[0.0, \"#0d0887\"], [0.1111111111111111, \"#46039f\"], [0.2222222222222222, \"#7201a8\"], [0.3333333333333333, \"#9c179e\"], [0.4444444444444444, \"#bd3786\"], [0.5555555555555556, \"#d8576b\"], [0.6666666666666666, \"#ed7953\"], [0.7777777777777778, \"#fb9f3a\"], [0.8888888888888888, \"#fdca26\"], [1.0, \"#f0f921\"]], \"type\": \"surface\"}], \"table\": [{\"cells\": {\"fill\": {\"color\": \"#EBF0F8\"}, \"line\": {\"color\": \"white\"}}, \"header\": {\"fill\": {\"color\": \"#C8D4E3\"}, \"line\": {\"color\": \"white\"}}, \"type\": \"table\"}]}, \"layout\": {\"annotationdefaults\": {\"arrowcolor\": \"#2a3f5f\", \"arrowhead\": 0, \"arrowwidth\": 1}, \"autotypenumbers\": \"strict\", \"coloraxis\": {\"colorbar\": {\"outlinewidth\": 0, \"ticks\": \"\"}}, \"colorscale\": {\"diverging\": [[0, \"#8e0152\"], [0.1, \"#c51b7d\"], [0.2, \"#de77ae\"], [0.3, \"#f1b6da\"], [0.4, \"#fde0ef\"], [0.5, \"#f7f7f7\"], [0.6, \"#e6f5d0\"], [0.7, \"#b8e186\"], [0.8, \"#7fbc41\"], [0.9, \"#4d9221\"], [1, \"#276419\"]], \"sequential\": [[0.0, \"#0d0887\"], [0.1111111111111111, \"#46039f\"], [0.2222222222222222, \"#7201a8\"], [0.3333333333333333, \"#9c179e\"], [0.4444444444444444, \"#bd3786\"], [0.5555555555555556, \"#d8576b\"], [0.6666666666666666, \"#ed7953\"], [0.7777777777777778, \"#fb9f3a\"], [0.8888888888888888, \"#fdca26\"], [1.0, \"#f0f921\"]], \"sequentialminus\": [[0.0, \"#0d0887\"], [0.1111111111111111, \"#46039f\"], [0.2222222222222222, \"#7201a8\"], [0.3333333333333333, \"#9c179e\"], [0.4444444444444444, \"#bd3786\"], [0.5555555555555556, \"#d8576b\"], [0.6666666666666666, \"#ed7953\"], [0.7777777777777778, \"#fb9f3a\"], [0.8888888888888888, \"#fdca26\"], [1.0, \"#f0f921\"]]}, \"colorway\": [\"#636efa\", \"#EF553B\", \"#00cc96\", \"#ab63fa\", \"#FFA15A\", \"#19d3f3\", \"#FF6692\", \"#B6E880\", \"#FF97FF\", \"#FECB52\"], \"font\": {\"color\": \"#2a3f5f\"}, \"geo\": {\"bgcolor\": \"white\", \"lakecolor\": \"white\", \"landcolor\": \"#E5ECF6\", \"showlakes\": true, \"showland\": true, \"subunitcolor\": \"white\"}, \"hoverlabel\": {\"align\": \"left\"}, \"hovermode\": \"closest\", \"mapbox\": {\"style\": \"light\"}, \"paper_bgcolor\": \"white\", \"plot_bgcolor\": \"#E5ECF6\", \"polar\": {\"angularaxis\": {\"gridcolor\": \"white\", \"linecolor\": \"white\", \"ticks\": \"\"}, \"bgcolor\": \"#E5ECF6\", \"radialaxis\": {\"gridcolor\": \"white\", \"linecolor\": \"white\", \"ticks\": \"\"}}, \"scene\": {\"xaxis\": {\"backgroundcolor\": \"#E5ECF6\", \"gridcolor\": \"white\", \"gridwidth\": 2, \"linecolor\": \"white\", \"showbackground\": true, \"ticks\": \"\", \"zerolinecolor\": \"white\"}, \"yaxis\": {\"backgroundcolor\": \"#E5ECF6\", \"gridcolor\": \"white\", \"gridwidth\": 2, \"linecolor\": \"white\", \"showbackground\": true, \"ticks\": \"\", \"zerolinecolor\": \"white\"}, \"zaxis\": {\"backgroundcolor\": \"#E5ECF6\", \"gridcolor\": \"white\", \"gridwidth\": 2, \"linecolor\": \"white\", \"showbackground\": true, \"ticks\": \"\", \"zerolinecolor\": \"white\"}}, \"shapedefaults\": {\"line\": {\"color\": \"#2a3f5f\"}}, \"ternary\": {\"aaxis\": {\"gridcolor\": \"white\", \"linecolor\": \"white\", \"ticks\": \"\"}, \"baxis\": {\"gridcolor\": \"white\", \"linecolor\": \"white\", \"ticks\": \"\"}, \"bgcolor\": \"#E5ECF6\", \"caxis\": {\"gridcolor\": \"white\", \"linecolor\": \"white\", \"ticks\": \"\"}}, \"title\": {\"x\": 0.05}, \"xaxis\": {\"automargin\": true, \"gridcolor\": \"white\", \"linecolor\": \"white\", \"ticks\": \"\", \"title\": {\"standoff\": 15}, \"zerolinecolor\": \"white\", \"zerolinewidth\": 2}, \"yaxis\": {\"automargin\": true, \"gridcolor\": \"white\", \"linecolor\": \"white\", \"ticks\": \"\", \"title\": {\"standoff\": 15}, \"zerolinecolor\": \"white\", \"zerolinewidth\": 2}}}, \"xaxis\": {\"anchor\": \"y\", \"domain\": [0.0, 1.0], \"title\": {\"text\": \"Country\"}}, \"yaxis\": {\"anchor\": \"x\", \"domain\": [0.0, 1.0], \"gridcolor\": \"black\", \"gridwidth\": 0.5, \"showgrid\": true, \"title\": {\"text\": \"Amount of Sales for Country\"}}},                        {\"responsive\": true}                    ).then(function(){\n",
       "                            \n",
       "var gd = document.getElementById('18d40863-b2ff-4723-9693-21bcc74241bb');\n",
       "var x = new MutationObserver(function (mutations, observer) {{\n",
       "        var display = window.getComputedStyle(gd).display;\n",
       "        if (!display || display === 'none') {{\n",
       "            console.log([gd, 'removed!']);\n",
       "            Plotly.purge(gd);\n",
       "            observer.disconnect();\n",
       "        }}\n",
       "}});\n",
       "\n",
       "// Listen for the removal of the full notebook cells\n",
       "var notebookContainer = gd.closest('#notebook-container');\n",
       "if (notebookContainer) {{\n",
       "    x.observe(notebookContainer, {childList: true});\n",
       "}}\n",
       "\n",
       "// Listen for the clearing of the current output cell\n",
       "var outputEl = gd.closest('.output');\n",
       "if (outputEl) {{\n",
       "    x.observe(outputEl, {childList: true});\n",
       "}}\n",
       "\n",
       "                        })                };                });            </script>        </div>"
      ]
     },
     "metadata": {},
     "output_type": "display_data"
    }
   ],
   "source": [
    "fig = px.bar(countries, x=countries.index, y='Amount of Sales for Country', color='Amount of Sales for Country')\n",
    "fig.update_traces(showlegend = False)\n",
    "fig.update_layout(barmode='stack', paper_bgcolor='rgba(255,255,255)', plot_bgcolor='rgba(0,0,0,0)', xaxis_title=\"Country\",\n",
    "    yaxis_title=\"Amount of Sales for Country\")\n",
    "fig.update_traces(\n",
    "        hovertemplate='Country: %{x} <br> Sales for Country: %{y} <extra></extra>')\n",
    "fig.update_yaxes(gridcolor='black', showgrid=True, gridwidth=0.5)\n",
    "fig.show()"
   ]
  },
  {
   "cell_type": "code",
   "execution_count": 98,
   "metadata": {},
   "outputs": [
    {
     "data": {
      "application/vnd.plotly.v1+json": {
       "config": {
        "plotlyServerURL": "https://plot.ly"
       },
       "data": [
        {
         "domain": {
          "x": [
           0,
           1
          ],
          "y": [
           0,
           1
          ]
         },
         "hovertemplate": "",
         "labels": [
          "United Kingdom",
          "Germany",
          "France",
          "EIRE",
          "Spain",
          "Netherlands",
          "Belgium",
          "Switzerland",
          "Portugal",
          "Australia"
         ],
         "legendgroup": "",
         "name": "",
         "showlegend": true,
         "type": "pie",
         "values": [
          495478,
          9495,
          8557,
          8196,
          2533,
          2371,
          2069,
          2002,
          1519,
          1259
         ]
        }
       ],
       "layout": {
        "legend": {
         "tracegroupgap": 0
        },
        "template": {
         "data": {
          "bar": [
           {
            "error_x": {
             "color": "#2a3f5f"
            },
            "error_y": {
             "color": "#2a3f5f"
            },
            "marker": {
             "line": {
              "color": "#E5ECF6",
              "width": 0.5
             }
            },
            "type": "bar"
           }
          ],
          "barpolar": [
           {
            "marker": {
             "line": {
              "color": "#E5ECF6",
              "width": 0.5
             }
            },
            "type": "barpolar"
           }
          ],
          "carpet": [
           {
            "aaxis": {
             "endlinecolor": "#2a3f5f",
             "gridcolor": "white",
             "linecolor": "white",
             "minorgridcolor": "white",
             "startlinecolor": "#2a3f5f"
            },
            "baxis": {
             "endlinecolor": "#2a3f5f",
             "gridcolor": "white",
             "linecolor": "white",
             "minorgridcolor": "white",
             "startlinecolor": "#2a3f5f"
            },
            "type": "carpet"
           }
          ],
          "choropleth": [
           {
            "colorbar": {
             "outlinewidth": 0,
             "ticks": ""
            },
            "type": "choropleth"
           }
          ],
          "contour": [
           {
            "colorbar": {
             "outlinewidth": 0,
             "ticks": ""
            },
            "colorscale": [
             [
              0,
              "#0d0887"
             ],
             [
              0.1111111111111111,
              "#46039f"
             ],
             [
              0.2222222222222222,
              "#7201a8"
             ],
             [
              0.3333333333333333,
              "#9c179e"
             ],
             [
              0.4444444444444444,
              "#bd3786"
             ],
             [
              0.5555555555555556,
              "#d8576b"
             ],
             [
              0.6666666666666666,
              "#ed7953"
             ],
             [
              0.7777777777777778,
              "#fb9f3a"
             ],
             [
              0.8888888888888888,
              "#fdca26"
             ],
             [
              1,
              "#f0f921"
             ]
            ],
            "type": "contour"
           }
          ],
          "contourcarpet": [
           {
            "colorbar": {
             "outlinewidth": 0,
             "ticks": ""
            },
            "type": "contourcarpet"
           }
          ],
          "heatmap": [
           {
            "colorbar": {
             "outlinewidth": 0,
             "ticks": ""
            },
            "colorscale": [
             [
              0,
              "#0d0887"
             ],
             [
              0.1111111111111111,
              "#46039f"
             ],
             [
              0.2222222222222222,
              "#7201a8"
             ],
             [
              0.3333333333333333,
              "#9c179e"
             ],
             [
              0.4444444444444444,
              "#bd3786"
             ],
             [
              0.5555555555555556,
              "#d8576b"
             ],
             [
              0.6666666666666666,
              "#ed7953"
             ],
             [
              0.7777777777777778,
              "#fb9f3a"
             ],
             [
              0.8888888888888888,
              "#fdca26"
             ],
             [
              1,
              "#f0f921"
             ]
            ],
            "type": "heatmap"
           }
          ],
          "heatmapgl": [
           {
            "colorbar": {
             "outlinewidth": 0,
             "ticks": ""
            },
            "colorscale": [
             [
              0,
              "#0d0887"
             ],
             [
              0.1111111111111111,
              "#46039f"
             ],
             [
              0.2222222222222222,
              "#7201a8"
             ],
             [
              0.3333333333333333,
              "#9c179e"
             ],
             [
              0.4444444444444444,
              "#bd3786"
             ],
             [
              0.5555555555555556,
              "#d8576b"
             ],
             [
              0.6666666666666666,
              "#ed7953"
             ],
             [
              0.7777777777777778,
              "#fb9f3a"
             ],
             [
              0.8888888888888888,
              "#fdca26"
             ],
             [
              1,
              "#f0f921"
             ]
            ],
            "type": "heatmapgl"
           }
          ],
          "histogram": [
           {
            "marker": {
             "colorbar": {
              "outlinewidth": 0,
              "ticks": ""
             }
            },
            "type": "histogram"
           }
          ],
          "histogram2d": [
           {
            "colorbar": {
             "outlinewidth": 0,
             "ticks": ""
            },
            "colorscale": [
             [
              0,
              "#0d0887"
             ],
             [
              0.1111111111111111,
              "#46039f"
             ],
             [
              0.2222222222222222,
              "#7201a8"
             ],
             [
              0.3333333333333333,
              "#9c179e"
             ],
             [
              0.4444444444444444,
              "#bd3786"
             ],
             [
              0.5555555555555556,
              "#d8576b"
             ],
             [
              0.6666666666666666,
              "#ed7953"
             ],
             [
              0.7777777777777778,
              "#fb9f3a"
             ],
             [
              0.8888888888888888,
              "#fdca26"
             ],
             [
              1,
              "#f0f921"
             ]
            ],
            "type": "histogram2d"
           }
          ],
          "histogram2dcontour": [
           {
            "colorbar": {
             "outlinewidth": 0,
             "ticks": ""
            },
            "colorscale": [
             [
              0,
              "#0d0887"
             ],
             [
              0.1111111111111111,
              "#46039f"
             ],
             [
              0.2222222222222222,
              "#7201a8"
             ],
             [
              0.3333333333333333,
              "#9c179e"
             ],
             [
              0.4444444444444444,
              "#bd3786"
             ],
             [
              0.5555555555555556,
              "#d8576b"
             ],
             [
              0.6666666666666666,
              "#ed7953"
             ],
             [
              0.7777777777777778,
              "#fb9f3a"
             ],
             [
              0.8888888888888888,
              "#fdca26"
             ],
             [
              1,
              "#f0f921"
             ]
            ],
            "type": "histogram2dcontour"
           }
          ],
          "mesh3d": [
           {
            "colorbar": {
             "outlinewidth": 0,
             "ticks": ""
            },
            "type": "mesh3d"
           }
          ],
          "parcoords": [
           {
            "line": {
             "colorbar": {
              "outlinewidth": 0,
              "ticks": ""
             }
            },
            "type": "parcoords"
           }
          ],
          "pie": [
           {
            "automargin": true,
            "type": "pie"
           }
          ],
          "scatter": [
           {
            "marker": {
             "colorbar": {
              "outlinewidth": 0,
              "ticks": ""
             }
            },
            "type": "scatter"
           }
          ],
          "scatter3d": [
           {
            "line": {
             "colorbar": {
              "outlinewidth": 0,
              "ticks": ""
             }
            },
            "marker": {
             "colorbar": {
              "outlinewidth": 0,
              "ticks": ""
             }
            },
            "type": "scatter3d"
           }
          ],
          "scattercarpet": [
           {
            "marker": {
             "colorbar": {
              "outlinewidth": 0,
              "ticks": ""
             }
            },
            "type": "scattercarpet"
           }
          ],
          "scattergeo": [
           {
            "marker": {
             "colorbar": {
              "outlinewidth": 0,
              "ticks": ""
             }
            },
            "type": "scattergeo"
           }
          ],
          "scattergl": [
           {
            "marker": {
             "colorbar": {
              "outlinewidth": 0,
              "ticks": ""
             }
            },
            "type": "scattergl"
           }
          ],
          "scattermapbox": [
           {
            "marker": {
             "colorbar": {
              "outlinewidth": 0,
              "ticks": ""
             }
            },
            "type": "scattermapbox"
           }
          ],
          "scatterpolar": [
           {
            "marker": {
             "colorbar": {
              "outlinewidth": 0,
              "ticks": ""
             }
            },
            "type": "scatterpolar"
           }
          ],
          "scatterpolargl": [
           {
            "marker": {
             "colorbar": {
              "outlinewidth": 0,
              "ticks": ""
             }
            },
            "type": "scatterpolargl"
           }
          ],
          "scatterternary": [
           {
            "marker": {
             "colorbar": {
              "outlinewidth": 0,
              "ticks": ""
             }
            },
            "type": "scatterternary"
           }
          ],
          "surface": [
           {
            "colorbar": {
             "outlinewidth": 0,
             "ticks": ""
            },
            "colorscale": [
             [
              0,
              "#0d0887"
             ],
             [
              0.1111111111111111,
              "#46039f"
             ],
             [
              0.2222222222222222,
              "#7201a8"
             ],
             [
              0.3333333333333333,
              "#9c179e"
             ],
             [
              0.4444444444444444,
              "#bd3786"
             ],
             [
              0.5555555555555556,
              "#d8576b"
             ],
             [
              0.6666666666666666,
              "#ed7953"
             ],
             [
              0.7777777777777778,
              "#fb9f3a"
             ],
             [
              0.8888888888888888,
              "#fdca26"
             ],
             [
              1,
              "#f0f921"
             ]
            ],
            "type": "surface"
           }
          ],
          "table": [
           {
            "cells": {
             "fill": {
              "color": "#EBF0F8"
             },
             "line": {
              "color": "white"
             }
            },
            "header": {
             "fill": {
              "color": "#C8D4E3"
             },
             "line": {
              "color": "white"
             }
            },
            "type": "table"
           }
          ]
         },
         "layout": {
          "annotationdefaults": {
           "arrowcolor": "#2a3f5f",
           "arrowhead": 0,
           "arrowwidth": 1
          },
          "autotypenumbers": "strict",
          "coloraxis": {
           "colorbar": {
            "outlinewidth": 0,
            "ticks": ""
           }
          },
          "colorscale": {
           "diverging": [
            [
             0,
             "#8e0152"
            ],
            [
             0.1,
             "#c51b7d"
            ],
            [
             0.2,
             "#de77ae"
            ],
            [
             0.3,
             "#f1b6da"
            ],
            [
             0.4,
             "#fde0ef"
            ],
            [
             0.5,
             "#f7f7f7"
            ],
            [
             0.6,
             "#e6f5d0"
            ],
            [
             0.7,
             "#b8e186"
            ],
            [
             0.8,
             "#7fbc41"
            ],
            [
             0.9,
             "#4d9221"
            ],
            [
             1,
             "#276419"
            ]
           ],
           "sequential": [
            [
             0,
             "#0d0887"
            ],
            [
             0.1111111111111111,
             "#46039f"
            ],
            [
             0.2222222222222222,
             "#7201a8"
            ],
            [
             0.3333333333333333,
             "#9c179e"
            ],
            [
             0.4444444444444444,
             "#bd3786"
            ],
            [
             0.5555555555555556,
             "#d8576b"
            ],
            [
             0.6666666666666666,
             "#ed7953"
            ],
            [
             0.7777777777777778,
             "#fb9f3a"
            ],
            [
             0.8888888888888888,
             "#fdca26"
            ],
            [
             1,
             "#f0f921"
            ]
           ],
           "sequentialminus": [
            [
             0,
             "#0d0887"
            ],
            [
             0.1111111111111111,
             "#46039f"
            ],
            [
             0.2222222222222222,
             "#7201a8"
            ],
            [
             0.3333333333333333,
             "#9c179e"
            ],
            [
             0.4444444444444444,
             "#bd3786"
            ],
            [
             0.5555555555555556,
             "#d8576b"
            ],
            [
             0.6666666666666666,
             "#ed7953"
            ],
            [
             0.7777777777777778,
             "#fb9f3a"
            ],
            [
             0.8888888888888888,
             "#fdca26"
            ],
            [
             1,
             "#f0f921"
            ]
           ]
          },
          "colorway": [
           "#636efa",
           "#EF553B",
           "#00cc96",
           "#ab63fa",
           "#FFA15A",
           "#19d3f3",
           "#FF6692",
           "#B6E880",
           "#FF97FF",
           "#FECB52"
          ],
          "font": {
           "color": "#2a3f5f"
          },
          "geo": {
           "bgcolor": "white",
           "lakecolor": "white",
           "landcolor": "#E5ECF6",
           "showlakes": true,
           "showland": true,
           "subunitcolor": "white"
          },
          "hoverlabel": {
           "align": "left"
          },
          "hovermode": "closest",
          "mapbox": {
           "style": "light"
          },
          "paper_bgcolor": "white",
          "plot_bgcolor": "#E5ECF6",
          "polar": {
           "angularaxis": {
            "gridcolor": "white",
            "linecolor": "white",
            "ticks": ""
           },
           "bgcolor": "#E5ECF6",
           "radialaxis": {
            "gridcolor": "white",
            "linecolor": "white",
            "ticks": ""
           }
          },
          "scene": {
           "xaxis": {
            "backgroundcolor": "#E5ECF6",
            "gridcolor": "white",
            "gridwidth": 2,
            "linecolor": "white",
            "showbackground": true,
            "ticks": "",
            "zerolinecolor": "white"
           },
           "yaxis": {
            "backgroundcolor": "#E5ECF6",
            "gridcolor": "white",
            "gridwidth": 2,
            "linecolor": "white",
            "showbackground": true,
            "ticks": "",
            "zerolinecolor": "white"
           },
           "zaxis": {
            "backgroundcolor": "#E5ECF6",
            "gridcolor": "white",
            "gridwidth": 2,
            "linecolor": "white",
            "showbackground": true,
            "ticks": "",
            "zerolinecolor": "white"
           }
          },
          "shapedefaults": {
           "line": {
            "color": "#2a3f5f"
           }
          },
          "ternary": {
           "aaxis": {
            "gridcolor": "white",
            "linecolor": "white",
            "ticks": ""
           },
           "baxis": {
            "gridcolor": "white",
            "linecolor": "white",
            "ticks": ""
           },
           "bgcolor": "#E5ECF6",
           "caxis": {
            "gridcolor": "white",
            "linecolor": "white",
            "ticks": ""
           }
          },
          "title": {
           "x": 0.05
          },
          "xaxis": {
           "automargin": true,
           "gridcolor": "white",
           "linecolor": "white",
           "ticks": "",
           "title": {
            "standoff": 15
           },
           "zerolinecolor": "white",
           "zerolinewidth": 2
          },
          "yaxis": {
           "automargin": true,
           "gridcolor": "white",
           "linecolor": "white",
           "ticks": "",
           "title": {
            "standoff": 15
           },
           "zerolinecolor": "white",
           "zerolinewidth": 2
          }
         }
        },
        "title": {
         "text": "Total Sales for Top 10 Countries"
        }
       }
      },
      "text/html": [
       "<div>                            <div id=\"dca7adfc-69ac-4d7b-a0d5-d1f89bf9639e\" class=\"plotly-graph-div\" style=\"height:525px; width:100%;\"></div>            <script type=\"text/javascript\">                require([\"plotly\"], function(Plotly) {                    window.PLOTLYENV=window.PLOTLYENV || {};                                    if (document.getElementById(\"dca7adfc-69ac-4d7b-a0d5-d1f89bf9639e\")) {                    Plotly.newPlot(                        \"dca7adfc-69ac-4d7b-a0d5-d1f89bf9639e\",                        [{\"domain\": {\"x\": [0.0, 1.0], \"y\": [0.0, 1.0]}, \"hovertemplate\": \"\", \"labels\": [\"United Kingdom\", \"Germany\", \"France\", \"EIRE\", \"Spain\", \"Netherlands\", \"Belgium\", \"Switzerland\", \"Portugal\", \"Australia\"], \"legendgroup\": \"\", \"name\": \"\", \"showlegend\": true, \"type\": \"pie\", \"values\": [495478, 9495, 8557, 8196, 2533, 2371, 2069, 2002, 1519, 1259]}],                        {\"legend\": {\"tracegroupgap\": 0}, \"template\": {\"data\": {\"bar\": [{\"error_x\": {\"color\": \"#2a3f5f\"}, \"error_y\": {\"color\": \"#2a3f5f\"}, \"marker\": {\"line\": {\"color\": \"#E5ECF6\", \"width\": 0.5}}, \"type\": \"bar\"}], \"barpolar\": [{\"marker\": {\"line\": {\"color\": \"#E5ECF6\", \"width\": 0.5}}, \"type\": \"barpolar\"}], \"carpet\": [{\"aaxis\": {\"endlinecolor\": \"#2a3f5f\", \"gridcolor\": \"white\", \"linecolor\": \"white\", \"minorgridcolor\": \"white\", \"startlinecolor\": \"#2a3f5f\"}, \"baxis\": {\"endlinecolor\": \"#2a3f5f\", \"gridcolor\": \"white\", \"linecolor\": \"white\", \"minorgridcolor\": \"white\", \"startlinecolor\": \"#2a3f5f\"}, \"type\": \"carpet\"}], \"choropleth\": [{\"colorbar\": {\"outlinewidth\": 0, \"ticks\": \"\"}, \"type\": \"choropleth\"}], \"contour\": [{\"colorbar\": {\"outlinewidth\": 0, \"ticks\": \"\"}, \"colorscale\": [[0.0, \"#0d0887\"], [0.1111111111111111, \"#46039f\"], [0.2222222222222222, \"#7201a8\"], [0.3333333333333333, \"#9c179e\"], [0.4444444444444444, \"#bd3786\"], [0.5555555555555556, \"#d8576b\"], [0.6666666666666666, \"#ed7953\"], [0.7777777777777778, \"#fb9f3a\"], [0.8888888888888888, \"#fdca26\"], [1.0, \"#f0f921\"]], \"type\": \"contour\"}], \"contourcarpet\": [{\"colorbar\": {\"outlinewidth\": 0, \"ticks\": \"\"}, \"type\": \"contourcarpet\"}], \"heatmap\": [{\"colorbar\": {\"outlinewidth\": 0, \"ticks\": \"\"}, \"colorscale\": [[0.0, \"#0d0887\"], [0.1111111111111111, \"#46039f\"], [0.2222222222222222, \"#7201a8\"], [0.3333333333333333, \"#9c179e\"], [0.4444444444444444, \"#bd3786\"], [0.5555555555555556, \"#d8576b\"], [0.6666666666666666, \"#ed7953\"], [0.7777777777777778, \"#fb9f3a\"], [0.8888888888888888, \"#fdca26\"], [1.0, \"#f0f921\"]], \"type\": \"heatmap\"}], \"heatmapgl\": [{\"colorbar\": {\"outlinewidth\": 0, \"ticks\": \"\"}, \"colorscale\": [[0.0, \"#0d0887\"], [0.1111111111111111, \"#46039f\"], [0.2222222222222222, \"#7201a8\"], [0.3333333333333333, \"#9c179e\"], [0.4444444444444444, \"#bd3786\"], [0.5555555555555556, \"#d8576b\"], [0.6666666666666666, \"#ed7953\"], [0.7777777777777778, \"#fb9f3a\"], [0.8888888888888888, \"#fdca26\"], [1.0, \"#f0f921\"]], \"type\": \"heatmapgl\"}], \"histogram\": [{\"marker\": {\"colorbar\": {\"outlinewidth\": 0, \"ticks\": \"\"}}, \"type\": \"histogram\"}], \"histogram2d\": [{\"colorbar\": {\"outlinewidth\": 0, \"ticks\": \"\"}, \"colorscale\": [[0.0, \"#0d0887\"], [0.1111111111111111, \"#46039f\"], [0.2222222222222222, \"#7201a8\"], [0.3333333333333333, \"#9c179e\"], [0.4444444444444444, \"#bd3786\"], [0.5555555555555556, \"#d8576b\"], [0.6666666666666666, \"#ed7953\"], [0.7777777777777778, \"#fb9f3a\"], [0.8888888888888888, \"#fdca26\"], [1.0, \"#f0f921\"]], \"type\": \"histogram2d\"}], \"histogram2dcontour\": [{\"colorbar\": {\"outlinewidth\": 0, \"ticks\": \"\"}, \"colorscale\": [[0.0, \"#0d0887\"], [0.1111111111111111, \"#46039f\"], [0.2222222222222222, \"#7201a8\"], [0.3333333333333333, \"#9c179e\"], [0.4444444444444444, \"#bd3786\"], [0.5555555555555556, \"#d8576b\"], [0.6666666666666666, \"#ed7953\"], [0.7777777777777778, \"#fb9f3a\"], [0.8888888888888888, \"#fdca26\"], [1.0, \"#f0f921\"]], \"type\": \"histogram2dcontour\"}], \"mesh3d\": [{\"colorbar\": {\"outlinewidth\": 0, \"ticks\": \"\"}, \"type\": \"mesh3d\"}], \"parcoords\": [{\"line\": {\"colorbar\": {\"outlinewidth\": 0, \"ticks\": \"\"}}, \"type\": \"parcoords\"}], \"pie\": [{\"automargin\": true, \"type\": \"pie\"}], \"scatter\": [{\"marker\": {\"colorbar\": {\"outlinewidth\": 0, \"ticks\": \"\"}}, \"type\": \"scatter\"}], \"scatter3d\": [{\"line\": {\"colorbar\": {\"outlinewidth\": 0, \"ticks\": \"\"}}, \"marker\": {\"colorbar\": {\"outlinewidth\": 0, \"ticks\": \"\"}}, \"type\": \"scatter3d\"}], \"scattercarpet\": [{\"marker\": {\"colorbar\": {\"outlinewidth\": 0, \"ticks\": \"\"}}, \"type\": \"scattercarpet\"}], \"scattergeo\": [{\"marker\": {\"colorbar\": {\"outlinewidth\": 0, \"ticks\": \"\"}}, \"type\": \"scattergeo\"}], \"scattergl\": [{\"marker\": {\"colorbar\": {\"outlinewidth\": 0, \"ticks\": \"\"}}, \"type\": \"scattergl\"}], \"scattermapbox\": [{\"marker\": {\"colorbar\": {\"outlinewidth\": 0, \"ticks\": \"\"}}, \"type\": \"scattermapbox\"}], \"scatterpolar\": [{\"marker\": {\"colorbar\": {\"outlinewidth\": 0, \"ticks\": \"\"}}, \"type\": \"scatterpolar\"}], \"scatterpolargl\": [{\"marker\": {\"colorbar\": {\"outlinewidth\": 0, \"ticks\": \"\"}}, \"type\": \"scatterpolargl\"}], \"scatterternary\": [{\"marker\": {\"colorbar\": {\"outlinewidth\": 0, \"ticks\": \"\"}}, \"type\": \"scatterternary\"}], \"surface\": [{\"colorbar\": {\"outlinewidth\": 0, \"ticks\": \"\"}, \"colorscale\": [[0.0, \"#0d0887\"], [0.1111111111111111, \"#46039f\"], [0.2222222222222222, \"#7201a8\"], [0.3333333333333333, \"#9c179e\"], [0.4444444444444444, \"#bd3786\"], [0.5555555555555556, \"#d8576b\"], [0.6666666666666666, \"#ed7953\"], [0.7777777777777778, \"#fb9f3a\"], [0.8888888888888888, \"#fdca26\"], [1.0, \"#f0f921\"]], \"type\": \"surface\"}], \"table\": [{\"cells\": {\"fill\": {\"color\": \"#EBF0F8\"}, \"line\": {\"color\": \"white\"}}, \"header\": {\"fill\": {\"color\": \"#C8D4E3\"}, \"line\": {\"color\": \"white\"}}, \"type\": \"table\"}]}, \"layout\": {\"annotationdefaults\": {\"arrowcolor\": \"#2a3f5f\", \"arrowhead\": 0, \"arrowwidth\": 1}, \"autotypenumbers\": \"strict\", \"coloraxis\": {\"colorbar\": {\"outlinewidth\": 0, \"ticks\": \"\"}}, \"colorscale\": {\"diverging\": [[0, \"#8e0152\"], [0.1, \"#c51b7d\"], [0.2, \"#de77ae\"], [0.3, \"#f1b6da\"], [0.4, \"#fde0ef\"], [0.5, \"#f7f7f7\"], [0.6, \"#e6f5d0\"], [0.7, \"#b8e186\"], [0.8, \"#7fbc41\"], [0.9, \"#4d9221\"], [1, \"#276419\"]], \"sequential\": [[0.0, \"#0d0887\"], [0.1111111111111111, \"#46039f\"], [0.2222222222222222, \"#7201a8\"], [0.3333333333333333, \"#9c179e\"], [0.4444444444444444, \"#bd3786\"], [0.5555555555555556, \"#d8576b\"], [0.6666666666666666, \"#ed7953\"], [0.7777777777777778, \"#fb9f3a\"], [0.8888888888888888, \"#fdca26\"], [1.0, \"#f0f921\"]], \"sequentialminus\": [[0.0, \"#0d0887\"], [0.1111111111111111, \"#46039f\"], [0.2222222222222222, \"#7201a8\"], [0.3333333333333333, \"#9c179e\"], [0.4444444444444444, \"#bd3786\"], [0.5555555555555556, \"#d8576b\"], [0.6666666666666666, \"#ed7953\"], [0.7777777777777778, \"#fb9f3a\"], [0.8888888888888888, \"#fdca26\"], [1.0, \"#f0f921\"]]}, \"colorway\": [\"#636efa\", \"#EF553B\", \"#00cc96\", \"#ab63fa\", \"#FFA15A\", \"#19d3f3\", \"#FF6692\", \"#B6E880\", \"#FF97FF\", \"#FECB52\"], \"font\": {\"color\": \"#2a3f5f\"}, \"geo\": {\"bgcolor\": \"white\", \"lakecolor\": \"white\", \"landcolor\": \"#E5ECF6\", \"showlakes\": true, \"showland\": true, \"subunitcolor\": \"white\"}, \"hoverlabel\": {\"align\": \"left\"}, \"hovermode\": \"closest\", \"mapbox\": {\"style\": \"light\"}, \"paper_bgcolor\": \"white\", \"plot_bgcolor\": \"#E5ECF6\", \"polar\": {\"angularaxis\": {\"gridcolor\": \"white\", \"linecolor\": \"white\", \"ticks\": \"\"}, \"bgcolor\": \"#E5ECF6\", \"radialaxis\": {\"gridcolor\": \"white\", \"linecolor\": \"white\", \"ticks\": \"\"}}, \"scene\": {\"xaxis\": {\"backgroundcolor\": \"#E5ECF6\", \"gridcolor\": \"white\", \"gridwidth\": 2, \"linecolor\": \"white\", \"showbackground\": true, \"ticks\": \"\", \"zerolinecolor\": \"white\"}, \"yaxis\": {\"backgroundcolor\": \"#E5ECF6\", \"gridcolor\": \"white\", \"gridwidth\": 2, \"linecolor\": \"white\", \"showbackground\": true, \"ticks\": \"\", \"zerolinecolor\": \"white\"}, \"zaxis\": {\"backgroundcolor\": \"#E5ECF6\", \"gridcolor\": \"white\", \"gridwidth\": 2, \"linecolor\": \"white\", \"showbackground\": true, \"ticks\": \"\", \"zerolinecolor\": \"white\"}}, \"shapedefaults\": {\"line\": {\"color\": \"#2a3f5f\"}}, \"ternary\": {\"aaxis\": {\"gridcolor\": \"white\", \"linecolor\": \"white\", \"ticks\": \"\"}, \"baxis\": {\"gridcolor\": \"white\", \"linecolor\": \"white\", \"ticks\": \"\"}, \"bgcolor\": \"#E5ECF6\", \"caxis\": {\"gridcolor\": \"white\", \"linecolor\": \"white\", \"ticks\": \"\"}}, \"title\": {\"x\": 0.05}, \"xaxis\": {\"automargin\": true, \"gridcolor\": \"white\", \"linecolor\": \"white\", \"ticks\": \"\", \"title\": {\"standoff\": 15}, \"zerolinecolor\": \"white\", \"zerolinewidth\": 2}, \"yaxis\": {\"automargin\": true, \"gridcolor\": \"white\", \"linecolor\": \"white\", \"ticks\": \"\", \"title\": {\"standoff\": 15}, \"zerolinecolor\": \"white\", \"zerolinewidth\": 2}}}, \"title\": {\"text\": \"Total Sales for Top 10 Countries\"}},                        {\"responsive\": true}                    ).then(function(){\n",
       "                            \n",
       "var gd = document.getElementById('dca7adfc-69ac-4d7b-a0d5-d1f89bf9639e');\n",
       "var x = new MutationObserver(function (mutations, observer) {{\n",
       "        var display = window.getComputedStyle(gd).display;\n",
       "        if (!display || display === 'none') {{\n",
       "            console.log([gd, 'removed!']);\n",
       "            Plotly.purge(gd);\n",
       "            observer.disconnect();\n",
       "        }}\n",
       "}});\n",
       "\n",
       "// Listen for the removal of the full notebook cells\n",
       "var notebookContainer = gd.closest('#notebook-container');\n",
       "if (notebookContainer) {{\n",
       "    x.observe(notebookContainer, {childList: true});\n",
       "}}\n",
       "\n",
       "// Listen for the clearing of the current output cell\n",
       "var outputEl = gd.closest('.output');\n",
       "if (outputEl) {{\n",
       "    x.observe(outputEl, {childList: true});\n",
       "}}\n",
       "\n",
       "                        })                };                });            </script>        </div>"
      ]
     },
     "metadata": {},
     "output_type": "display_data"
    }
   ],
   "source": [
    "countries10 = countries.head(10)\n",
    "fig = px.pie(countries10, values='Amount of Sales for Country', names=countries10.index, title='Total Sales for Top 10 Countries')\n",
    "fig.update_traces(\n",
    "        hovertemplate='')\n",
    "fig.show()"
   ]
  },
  {
   "cell_type": "code",
   "execution_count": 119,
   "metadata": {},
   "outputs": [
    {
     "data": {
      "text/html": [
       "<div>\n",
       "<style scoped>\n",
       "    .dataframe tbody tr th:only-of-type {\n",
       "        vertical-align: middle;\n",
       "    }\n",
       "\n",
       "    .dataframe tbody tr th {\n",
       "        vertical-align: top;\n",
       "    }\n",
       "\n",
       "    .dataframe thead th {\n",
       "        text-align: right;\n",
       "    }\n",
       "</style>\n",
       "<table border=\"1\" class=\"dataframe\">\n",
       "  <thead>\n",
       "    <tr style=\"text-align: right;\">\n",
       "      <th></th>\n",
       "      <th>TransactionId</th>\n",
       "      <th>ItemId</th>\n",
       "      <th>Description</th>\n",
       "      <th>Quantity</th>\n",
       "      <th>TransactionDate</th>\n",
       "      <th>UnitPrice</th>\n",
       "      <th>CustomerID</th>\n",
       "      <th>Country</th>\n",
       "    </tr>\n",
       "  </thead>\n",
       "  <tbody>\n",
       "    <tr>\n",
       "      <th>0</th>\n",
       "      <td>536365</td>\n",
       "      <td>85123A</td>\n",
       "      <td>WHITE HANGING HEART T-LIGHT HOLDER</td>\n",
       "      <td>6</td>\n",
       "      <td>2010-12-01 08:26:00</td>\n",
       "      <td>2.55</td>\n",
       "      <td>17850</td>\n",
       "      <td>United Kingdom</td>\n",
       "    </tr>\n",
       "    <tr>\n",
       "      <th>1</th>\n",
       "      <td>536365</td>\n",
       "      <td>71053</td>\n",
       "      <td>WHITE METAL LANTERN</td>\n",
       "      <td>6</td>\n",
       "      <td>2010-12-01 08:26:00</td>\n",
       "      <td>3.39</td>\n",
       "      <td>17850</td>\n",
       "      <td>United Kingdom</td>\n",
       "    </tr>\n",
       "    <tr>\n",
       "      <th>2</th>\n",
       "      <td>536365</td>\n",
       "      <td>84406B</td>\n",
       "      <td>CREAM CUPID HEARTS COAT HANGER</td>\n",
       "      <td>8</td>\n",
       "      <td>2010-12-01 08:26:00</td>\n",
       "      <td>2.75</td>\n",
       "      <td>17850</td>\n",
       "      <td>United Kingdom</td>\n",
       "    </tr>\n",
       "    <tr>\n",
       "      <th>3</th>\n",
       "      <td>536365</td>\n",
       "      <td>84029G</td>\n",
       "      <td>KNITTED UNION FLAG HOT WATER BOTTLE</td>\n",
       "      <td>6</td>\n",
       "      <td>2010-12-01 08:26:00</td>\n",
       "      <td>3.39</td>\n",
       "      <td>17850</td>\n",
       "      <td>United Kingdom</td>\n",
       "    </tr>\n",
       "    <tr>\n",
       "      <th>4</th>\n",
       "      <td>536365</td>\n",
       "      <td>84029E</td>\n",
       "      <td>RED WOOLLY HOTTIE WHITE HEART.</td>\n",
       "      <td>6</td>\n",
       "      <td>2010-12-01 08:26:00</td>\n",
       "      <td>3.39</td>\n",
       "      <td>17850</td>\n",
       "      <td>United Kingdom</td>\n",
       "    </tr>\n",
       "    <tr>\n",
       "      <th>...</th>\n",
       "      <td>...</td>\n",
       "      <td>...</td>\n",
       "      <td>...</td>\n",
       "      <td>...</td>\n",
       "      <td>...</td>\n",
       "      <td>...</td>\n",
       "      <td>...</td>\n",
       "      <td>...</td>\n",
       "    </tr>\n",
       "    <tr>\n",
       "      <th>541904</th>\n",
       "      <td>581587</td>\n",
       "      <td>22613</td>\n",
       "      <td>PACK OF 20 SPACEBOY NAPKINS</td>\n",
       "      <td>12</td>\n",
       "      <td>2011-12-09 12:50:00</td>\n",
       "      <td>0.85</td>\n",
       "      <td>12680</td>\n",
       "      <td>France</td>\n",
       "    </tr>\n",
       "    <tr>\n",
       "      <th>541905</th>\n",
       "      <td>581587</td>\n",
       "      <td>22899</td>\n",
       "      <td>CHILDREN'S APRON DOLLY GIRL</td>\n",
       "      <td>6</td>\n",
       "      <td>2011-12-09 12:50:00</td>\n",
       "      <td>2.10</td>\n",
       "      <td>12680</td>\n",
       "      <td>France</td>\n",
       "    </tr>\n",
       "    <tr>\n",
       "      <th>541906</th>\n",
       "      <td>581587</td>\n",
       "      <td>23254</td>\n",
       "      <td>CHILDRENS CUTLERY DOLLY GIRL</td>\n",
       "      <td>4</td>\n",
       "      <td>2011-12-09 12:50:00</td>\n",
       "      <td>4.15</td>\n",
       "      <td>12680</td>\n",
       "      <td>France</td>\n",
       "    </tr>\n",
       "    <tr>\n",
       "      <th>541907</th>\n",
       "      <td>581587</td>\n",
       "      <td>23255</td>\n",
       "      <td>CHILDRENS CUTLERY CIRCUS PARADE</td>\n",
       "      <td>4</td>\n",
       "      <td>2011-12-09 12:50:00</td>\n",
       "      <td>4.15</td>\n",
       "      <td>12680</td>\n",
       "      <td>France</td>\n",
       "    </tr>\n",
       "    <tr>\n",
       "      <th>541908</th>\n",
       "      <td>581587</td>\n",
       "      <td>22138</td>\n",
       "      <td>BAKING SET 9 PIECE RETROSPOT</td>\n",
       "      <td>3</td>\n",
       "      <td>2011-12-09 12:50:00</td>\n",
       "      <td>4.95</td>\n",
       "      <td>12680</td>\n",
       "      <td>France</td>\n",
       "    </tr>\n",
       "  </tbody>\n",
       "</table>\n",
       "<p>541909 rows × 8 columns</p>\n",
       "</div>"
      ],
      "text/plain": [
       "       TransactionId  ItemId                          Description  Quantity  \\\n",
       "0             536365  85123A   WHITE HANGING HEART T-LIGHT HOLDER         6   \n",
       "1             536365   71053                  WHITE METAL LANTERN         6   \n",
       "2             536365  84406B       CREAM CUPID HEARTS COAT HANGER         8   \n",
       "3             536365  84029G  KNITTED UNION FLAG HOT WATER BOTTLE         6   \n",
       "4             536365  84029E       RED WOOLLY HOTTIE WHITE HEART.         6   \n",
       "...              ...     ...                                  ...       ...   \n",
       "541904        581587   22613          PACK OF 20 SPACEBOY NAPKINS        12   \n",
       "541905        581587   22899         CHILDREN'S APRON DOLLY GIRL          6   \n",
       "541906        581587   23254        CHILDRENS CUTLERY DOLLY GIRL          4   \n",
       "541907        581587   23255      CHILDRENS CUTLERY CIRCUS PARADE         4   \n",
       "541908        581587   22138        BAKING SET 9 PIECE RETROSPOT          3   \n",
       "\n",
       "           TransactionDate  UnitPrice CustomerID         Country  \n",
       "0      2010-12-01 08:26:00       2.55      17850  United Kingdom  \n",
       "1      2010-12-01 08:26:00       3.39      17850  United Kingdom  \n",
       "2      2010-12-01 08:26:00       2.75      17850  United Kingdom  \n",
       "3      2010-12-01 08:26:00       3.39      17850  United Kingdom  \n",
       "4      2010-12-01 08:26:00       3.39      17850  United Kingdom  \n",
       "...                    ...        ...        ...             ...  \n",
       "541904 2011-12-09 12:50:00       0.85      12680          France  \n",
       "541905 2011-12-09 12:50:00       2.10      12680          France  \n",
       "541906 2011-12-09 12:50:00       4.15      12680          France  \n",
       "541907 2011-12-09 12:50:00       4.15      12680          France  \n",
       "541908 2011-12-09 12:50:00       4.95      12680          France  \n",
       "\n",
       "[541909 rows x 8 columns]"
      ]
     },
     "execution_count": 119,
     "metadata": {},
     "output_type": "execute_result"
    }
   ],
   "source": [
    "df"
   ]
  },
  {
   "cell_type": "code",
   "execution_count": 120,
   "metadata": {},
   "outputs": [],
   "source": [
    "df[\"hours\"]=df[\"TransactionDate\"].dt.hour"
   ]
  },
  {
   "cell_type": "code",
   "execution_count": 121,
   "metadata": {},
   "outputs": [
    {
     "data": {
      "text/html": [
       "<div>\n",
       "<style scoped>\n",
       "    .dataframe tbody tr th:only-of-type {\n",
       "        vertical-align: middle;\n",
       "    }\n",
       "\n",
       "    .dataframe tbody tr th {\n",
       "        vertical-align: top;\n",
       "    }\n",
       "\n",
       "    .dataframe thead th {\n",
       "        text-align: right;\n",
       "    }\n",
       "</style>\n",
       "<table border=\"1\" class=\"dataframe\">\n",
       "  <thead>\n",
       "    <tr style=\"text-align: right;\">\n",
       "      <th></th>\n",
       "      <th>TransactionId</th>\n",
       "      <th>ItemId</th>\n",
       "      <th>Description</th>\n",
       "      <th>Quantity</th>\n",
       "      <th>TransactionDate</th>\n",
       "      <th>UnitPrice</th>\n",
       "      <th>CustomerID</th>\n",
       "      <th>Country</th>\n",
       "      <th>hours</th>\n",
       "    </tr>\n",
       "  </thead>\n",
       "  <tbody>\n",
       "    <tr>\n",
       "      <th>0</th>\n",
       "      <td>536365</td>\n",
       "      <td>85123A</td>\n",
       "      <td>WHITE HANGING HEART T-LIGHT HOLDER</td>\n",
       "      <td>6</td>\n",
       "      <td>2010-12-01 08:26:00</td>\n",
       "      <td>2.55</td>\n",
       "      <td>17850</td>\n",
       "      <td>United Kingdom</td>\n",
       "      <td>8</td>\n",
       "    </tr>\n",
       "    <tr>\n",
       "      <th>1</th>\n",
       "      <td>536365</td>\n",
       "      <td>71053</td>\n",
       "      <td>WHITE METAL LANTERN</td>\n",
       "      <td>6</td>\n",
       "      <td>2010-12-01 08:26:00</td>\n",
       "      <td>3.39</td>\n",
       "      <td>17850</td>\n",
       "      <td>United Kingdom</td>\n",
       "      <td>8</td>\n",
       "    </tr>\n",
       "    <tr>\n",
       "      <th>2</th>\n",
       "      <td>536365</td>\n",
       "      <td>84406B</td>\n",
       "      <td>CREAM CUPID HEARTS COAT HANGER</td>\n",
       "      <td>8</td>\n",
       "      <td>2010-12-01 08:26:00</td>\n",
       "      <td>2.75</td>\n",
       "      <td>17850</td>\n",
       "      <td>United Kingdom</td>\n",
       "      <td>8</td>\n",
       "    </tr>\n",
       "    <tr>\n",
       "      <th>3</th>\n",
       "      <td>536365</td>\n",
       "      <td>84029G</td>\n",
       "      <td>KNITTED UNION FLAG HOT WATER BOTTLE</td>\n",
       "      <td>6</td>\n",
       "      <td>2010-12-01 08:26:00</td>\n",
       "      <td>3.39</td>\n",
       "      <td>17850</td>\n",
       "      <td>United Kingdom</td>\n",
       "      <td>8</td>\n",
       "    </tr>\n",
       "    <tr>\n",
       "      <th>4</th>\n",
       "      <td>536365</td>\n",
       "      <td>84029E</td>\n",
       "      <td>RED WOOLLY HOTTIE WHITE HEART.</td>\n",
       "      <td>6</td>\n",
       "      <td>2010-12-01 08:26:00</td>\n",
       "      <td>3.39</td>\n",
       "      <td>17850</td>\n",
       "      <td>United Kingdom</td>\n",
       "      <td>8</td>\n",
       "    </tr>\n",
       "    <tr>\n",
       "      <th>...</th>\n",
       "      <td>...</td>\n",
       "      <td>...</td>\n",
       "      <td>...</td>\n",
       "      <td>...</td>\n",
       "      <td>...</td>\n",
       "      <td>...</td>\n",
       "      <td>...</td>\n",
       "      <td>...</td>\n",
       "      <td>...</td>\n",
       "    </tr>\n",
       "    <tr>\n",
       "      <th>541904</th>\n",
       "      <td>581587</td>\n",
       "      <td>22613</td>\n",
       "      <td>PACK OF 20 SPACEBOY NAPKINS</td>\n",
       "      <td>12</td>\n",
       "      <td>2011-12-09 12:50:00</td>\n",
       "      <td>0.85</td>\n",
       "      <td>12680</td>\n",
       "      <td>France</td>\n",
       "      <td>12</td>\n",
       "    </tr>\n",
       "    <tr>\n",
       "      <th>541905</th>\n",
       "      <td>581587</td>\n",
       "      <td>22899</td>\n",
       "      <td>CHILDREN'S APRON DOLLY GIRL</td>\n",
       "      <td>6</td>\n",
       "      <td>2011-12-09 12:50:00</td>\n",
       "      <td>2.10</td>\n",
       "      <td>12680</td>\n",
       "      <td>France</td>\n",
       "      <td>12</td>\n",
       "    </tr>\n",
       "    <tr>\n",
       "      <th>541906</th>\n",
       "      <td>581587</td>\n",
       "      <td>23254</td>\n",
       "      <td>CHILDRENS CUTLERY DOLLY GIRL</td>\n",
       "      <td>4</td>\n",
       "      <td>2011-12-09 12:50:00</td>\n",
       "      <td>4.15</td>\n",
       "      <td>12680</td>\n",
       "      <td>France</td>\n",
       "      <td>12</td>\n",
       "    </tr>\n",
       "    <tr>\n",
       "      <th>541907</th>\n",
       "      <td>581587</td>\n",
       "      <td>23255</td>\n",
       "      <td>CHILDRENS CUTLERY CIRCUS PARADE</td>\n",
       "      <td>4</td>\n",
       "      <td>2011-12-09 12:50:00</td>\n",
       "      <td>4.15</td>\n",
       "      <td>12680</td>\n",
       "      <td>France</td>\n",
       "      <td>12</td>\n",
       "    </tr>\n",
       "    <tr>\n",
       "      <th>541908</th>\n",
       "      <td>581587</td>\n",
       "      <td>22138</td>\n",
       "      <td>BAKING SET 9 PIECE RETROSPOT</td>\n",
       "      <td>3</td>\n",
       "      <td>2011-12-09 12:50:00</td>\n",
       "      <td>4.95</td>\n",
       "      <td>12680</td>\n",
       "      <td>France</td>\n",
       "      <td>12</td>\n",
       "    </tr>\n",
       "  </tbody>\n",
       "</table>\n",
       "<p>541909 rows × 9 columns</p>\n",
       "</div>"
      ],
      "text/plain": [
       "       TransactionId  ItemId                          Description  Quantity  \\\n",
       "0             536365  85123A   WHITE HANGING HEART T-LIGHT HOLDER         6   \n",
       "1             536365   71053                  WHITE METAL LANTERN         6   \n",
       "2             536365  84406B       CREAM CUPID HEARTS COAT HANGER         8   \n",
       "3             536365  84029G  KNITTED UNION FLAG HOT WATER BOTTLE         6   \n",
       "4             536365  84029E       RED WOOLLY HOTTIE WHITE HEART.         6   \n",
       "...              ...     ...                                  ...       ...   \n",
       "541904        581587   22613          PACK OF 20 SPACEBOY NAPKINS        12   \n",
       "541905        581587   22899         CHILDREN'S APRON DOLLY GIRL          6   \n",
       "541906        581587   23254        CHILDRENS CUTLERY DOLLY GIRL          4   \n",
       "541907        581587   23255      CHILDRENS CUTLERY CIRCUS PARADE         4   \n",
       "541908        581587   22138        BAKING SET 9 PIECE RETROSPOT          3   \n",
       "\n",
       "           TransactionDate  UnitPrice CustomerID         Country  hours  \n",
       "0      2010-12-01 08:26:00       2.55      17850  United Kingdom      8  \n",
       "1      2010-12-01 08:26:00       3.39      17850  United Kingdom      8  \n",
       "2      2010-12-01 08:26:00       2.75      17850  United Kingdom      8  \n",
       "3      2010-12-01 08:26:00       3.39      17850  United Kingdom      8  \n",
       "4      2010-12-01 08:26:00       3.39      17850  United Kingdom      8  \n",
       "...                    ...        ...        ...             ...    ...  \n",
       "541904 2011-12-09 12:50:00       0.85      12680          France     12  \n",
       "541905 2011-12-09 12:50:00       2.10      12680          France     12  \n",
       "541906 2011-12-09 12:50:00       4.15      12680          France     12  \n",
       "541907 2011-12-09 12:50:00       4.15      12680          France     12  \n",
       "541908 2011-12-09 12:50:00       4.95      12680          France     12  \n",
       "\n",
       "[541909 rows x 9 columns]"
      ]
     },
     "execution_count": 121,
     "metadata": {},
     "output_type": "execute_result"
    }
   ],
   "source": [
    "df"
   ]
  },
  {
   "cell_type": "code",
   "execution_count": 124,
   "metadata": {},
   "outputs": [],
   "source": [
    "df['Day of Week'] = df['TransactionDate'].dt.day_name()"
   ]
  },
  {
   "cell_type": "code",
   "execution_count": 125,
   "metadata": {},
   "outputs": [
    {
     "data": {
      "text/html": [
       "<div>\n",
       "<style scoped>\n",
       "    .dataframe tbody tr th:only-of-type {\n",
       "        vertical-align: middle;\n",
       "    }\n",
       "\n",
       "    .dataframe tbody tr th {\n",
       "        vertical-align: top;\n",
       "    }\n",
       "\n",
       "    .dataframe thead th {\n",
       "        text-align: right;\n",
       "    }\n",
       "</style>\n",
       "<table border=\"1\" class=\"dataframe\">\n",
       "  <thead>\n",
       "    <tr style=\"text-align: right;\">\n",
       "      <th></th>\n",
       "      <th>TransactionId</th>\n",
       "      <th>ItemId</th>\n",
       "      <th>Description</th>\n",
       "      <th>Quantity</th>\n",
       "      <th>TransactionDate</th>\n",
       "      <th>UnitPrice</th>\n",
       "      <th>CustomerID</th>\n",
       "      <th>Country</th>\n",
       "      <th>hours</th>\n",
       "      <th>Day of Week</th>\n",
       "    </tr>\n",
       "  </thead>\n",
       "  <tbody>\n",
       "    <tr>\n",
       "      <th>0</th>\n",
       "      <td>536365</td>\n",
       "      <td>85123A</td>\n",
       "      <td>WHITE HANGING HEART T-LIGHT HOLDER</td>\n",
       "      <td>6</td>\n",
       "      <td>2010-12-01 08:26:00</td>\n",
       "      <td>2.55</td>\n",
       "      <td>17850</td>\n",
       "      <td>United Kingdom</td>\n",
       "      <td>8</td>\n",
       "      <td>Wednesday</td>\n",
       "    </tr>\n",
       "    <tr>\n",
       "      <th>1</th>\n",
       "      <td>536365</td>\n",
       "      <td>71053</td>\n",
       "      <td>WHITE METAL LANTERN</td>\n",
       "      <td>6</td>\n",
       "      <td>2010-12-01 08:26:00</td>\n",
       "      <td>3.39</td>\n",
       "      <td>17850</td>\n",
       "      <td>United Kingdom</td>\n",
       "      <td>8</td>\n",
       "      <td>Wednesday</td>\n",
       "    </tr>\n",
       "    <tr>\n",
       "      <th>2</th>\n",
       "      <td>536365</td>\n",
       "      <td>84406B</td>\n",
       "      <td>CREAM CUPID HEARTS COAT HANGER</td>\n",
       "      <td>8</td>\n",
       "      <td>2010-12-01 08:26:00</td>\n",
       "      <td>2.75</td>\n",
       "      <td>17850</td>\n",
       "      <td>United Kingdom</td>\n",
       "      <td>8</td>\n",
       "      <td>Wednesday</td>\n",
       "    </tr>\n",
       "    <tr>\n",
       "      <th>3</th>\n",
       "      <td>536365</td>\n",
       "      <td>84029G</td>\n",
       "      <td>KNITTED UNION FLAG HOT WATER BOTTLE</td>\n",
       "      <td>6</td>\n",
       "      <td>2010-12-01 08:26:00</td>\n",
       "      <td>3.39</td>\n",
       "      <td>17850</td>\n",
       "      <td>United Kingdom</td>\n",
       "      <td>8</td>\n",
       "      <td>Wednesday</td>\n",
       "    </tr>\n",
       "    <tr>\n",
       "      <th>4</th>\n",
       "      <td>536365</td>\n",
       "      <td>84029E</td>\n",
       "      <td>RED WOOLLY HOTTIE WHITE HEART.</td>\n",
       "      <td>6</td>\n",
       "      <td>2010-12-01 08:26:00</td>\n",
       "      <td>3.39</td>\n",
       "      <td>17850</td>\n",
       "      <td>United Kingdom</td>\n",
       "      <td>8</td>\n",
       "      <td>Wednesday</td>\n",
       "    </tr>\n",
       "    <tr>\n",
       "      <th>...</th>\n",
       "      <td>...</td>\n",
       "      <td>...</td>\n",
       "      <td>...</td>\n",
       "      <td>...</td>\n",
       "      <td>...</td>\n",
       "      <td>...</td>\n",
       "      <td>...</td>\n",
       "      <td>...</td>\n",
       "      <td>...</td>\n",
       "      <td>...</td>\n",
       "    </tr>\n",
       "    <tr>\n",
       "      <th>541904</th>\n",
       "      <td>581587</td>\n",
       "      <td>22613</td>\n",
       "      <td>PACK OF 20 SPACEBOY NAPKINS</td>\n",
       "      <td>12</td>\n",
       "      <td>2011-12-09 12:50:00</td>\n",
       "      <td>0.85</td>\n",
       "      <td>12680</td>\n",
       "      <td>France</td>\n",
       "      <td>12</td>\n",
       "      <td>Friday</td>\n",
       "    </tr>\n",
       "    <tr>\n",
       "      <th>541905</th>\n",
       "      <td>581587</td>\n",
       "      <td>22899</td>\n",
       "      <td>CHILDREN'S APRON DOLLY GIRL</td>\n",
       "      <td>6</td>\n",
       "      <td>2011-12-09 12:50:00</td>\n",
       "      <td>2.10</td>\n",
       "      <td>12680</td>\n",
       "      <td>France</td>\n",
       "      <td>12</td>\n",
       "      <td>Friday</td>\n",
       "    </tr>\n",
       "    <tr>\n",
       "      <th>541906</th>\n",
       "      <td>581587</td>\n",
       "      <td>23254</td>\n",
       "      <td>CHILDRENS CUTLERY DOLLY GIRL</td>\n",
       "      <td>4</td>\n",
       "      <td>2011-12-09 12:50:00</td>\n",
       "      <td>4.15</td>\n",
       "      <td>12680</td>\n",
       "      <td>France</td>\n",
       "      <td>12</td>\n",
       "      <td>Friday</td>\n",
       "    </tr>\n",
       "    <tr>\n",
       "      <th>541907</th>\n",
       "      <td>581587</td>\n",
       "      <td>23255</td>\n",
       "      <td>CHILDRENS CUTLERY CIRCUS PARADE</td>\n",
       "      <td>4</td>\n",
       "      <td>2011-12-09 12:50:00</td>\n",
       "      <td>4.15</td>\n",
       "      <td>12680</td>\n",
       "      <td>France</td>\n",
       "      <td>12</td>\n",
       "      <td>Friday</td>\n",
       "    </tr>\n",
       "    <tr>\n",
       "      <th>541908</th>\n",
       "      <td>581587</td>\n",
       "      <td>22138</td>\n",
       "      <td>BAKING SET 9 PIECE RETROSPOT</td>\n",
       "      <td>3</td>\n",
       "      <td>2011-12-09 12:50:00</td>\n",
       "      <td>4.95</td>\n",
       "      <td>12680</td>\n",
       "      <td>France</td>\n",
       "      <td>12</td>\n",
       "      <td>Friday</td>\n",
       "    </tr>\n",
       "  </tbody>\n",
       "</table>\n",
       "<p>541909 rows × 10 columns</p>\n",
       "</div>"
      ],
      "text/plain": [
       "       TransactionId  ItemId                          Description  Quantity  \\\n",
       "0             536365  85123A   WHITE HANGING HEART T-LIGHT HOLDER         6   \n",
       "1             536365   71053                  WHITE METAL LANTERN         6   \n",
       "2             536365  84406B       CREAM CUPID HEARTS COAT HANGER         8   \n",
       "3             536365  84029G  KNITTED UNION FLAG HOT WATER BOTTLE         6   \n",
       "4             536365  84029E       RED WOOLLY HOTTIE WHITE HEART.         6   \n",
       "...              ...     ...                                  ...       ...   \n",
       "541904        581587   22613          PACK OF 20 SPACEBOY NAPKINS        12   \n",
       "541905        581587   22899         CHILDREN'S APRON DOLLY GIRL          6   \n",
       "541906        581587   23254        CHILDRENS CUTLERY DOLLY GIRL          4   \n",
       "541907        581587   23255      CHILDRENS CUTLERY CIRCUS PARADE         4   \n",
       "541908        581587   22138        BAKING SET 9 PIECE RETROSPOT          3   \n",
       "\n",
       "           TransactionDate  UnitPrice CustomerID         Country  hours  \\\n",
       "0      2010-12-01 08:26:00       2.55      17850  United Kingdom      8   \n",
       "1      2010-12-01 08:26:00       3.39      17850  United Kingdom      8   \n",
       "2      2010-12-01 08:26:00       2.75      17850  United Kingdom      8   \n",
       "3      2010-12-01 08:26:00       3.39      17850  United Kingdom      8   \n",
       "4      2010-12-01 08:26:00       3.39      17850  United Kingdom      8   \n",
       "...                    ...        ...        ...             ...    ...   \n",
       "541904 2011-12-09 12:50:00       0.85      12680          France     12   \n",
       "541905 2011-12-09 12:50:00       2.10      12680          France     12   \n",
       "541906 2011-12-09 12:50:00       4.15      12680          France     12   \n",
       "541907 2011-12-09 12:50:00       4.15      12680          France     12   \n",
       "541908 2011-12-09 12:50:00       4.95      12680          France     12   \n",
       "\n",
       "       Day of Week  \n",
       "0        Wednesday  \n",
       "1        Wednesday  \n",
       "2        Wednesday  \n",
       "3        Wednesday  \n",
       "4        Wednesday  \n",
       "...            ...  \n",
       "541904      Friday  \n",
       "541905      Friday  \n",
       "541906      Friday  \n",
       "541907      Friday  \n",
       "541908      Friday  \n",
       "\n",
       "[541909 rows x 10 columns]"
      ]
     },
     "execution_count": 125,
     "metadata": {},
     "output_type": "execute_result"
    }
   ],
   "source": [
    "df"
   ]
  },
  {
   "cell_type": "code",
   "execution_count": 128,
   "metadata": {},
   "outputs": [],
   "source": [
    "grouped_df = df.groupby([\"hours\", \"Day of Week\"])[\"TransactionId\"].aggregate(\"count\").reset_index()"
   ]
  },
  {
   "cell_type": "code",
   "execution_count": 129,
   "metadata": {},
   "outputs": [
    {
     "data": {
      "text/html": [
       "<div>\n",
       "<style scoped>\n",
       "    .dataframe tbody tr th:only-of-type {\n",
       "        vertical-align: middle;\n",
       "    }\n",
       "\n",
       "    .dataframe tbody tr th {\n",
       "        vertical-align: top;\n",
       "    }\n",
       "\n",
       "    .dataframe thead th {\n",
       "        text-align: right;\n",
       "    }\n",
       "</style>\n",
       "<table border=\"1\" class=\"dataframe\">\n",
       "  <thead>\n",
       "    <tr style=\"text-align: right;\">\n",
       "      <th></th>\n",
       "      <th>hours</th>\n",
       "      <th>Day of Week</th>\n",
       "      <th>TransactionId</th>\n",
       "    </tr>\n",
       "  </thead>\n",
       "  <tbody>\n",
       "    <tr>\n",
       "      <th>0</th>\n",
       "      <td>6</td>\n",
       "      <td>Thursday</td>\n",
       "      <td>41</td>\n",
       "    </tr>\n",
       "    <tr>\n",
       "      <th>1</th>\n",
       "      <td>7</td>\n",
       "      <td>Friday</td>\n",
       "      <td>134</td>\n",
       "    </tr>\n",
       "    <tr>\n",
       "      <th>2</th>\n",
       "      <td>7</td>\n",
       "      <td>Monday</td>\n",
       "      <td>61</td>\n",
       "    </tr>\n",
       "    <tr>\n",
       "      <th>3</th>\n",
       "      <td>7</td>\n",
       "      <td>Thursday</td>\n",
       "      <td>64</td>\n",
       "    </tr>\n",
       "    <tr>\n",
       "      <th>4</th>\n",
       "      <td>7</td>\n",
       "      <td>Tuesday</td>\n",
       "      <td>65</td>\n",
       "    </tr>\n",
       "    <tr>\n",
       "      <th>...</th>\n",
       "      <td>...</td>\n",
       "      <td>...</td>\n",
       "      <td>...</td>\n",
       "    </tr>\n",
       "    <tr>\n",
       "      <th>70</th>\n",
       "      <td>19</td>\n",
       "      <td>Thursday</td>\n",
       "      <td>3601</td>\n",
       "    </tr>\n",
       "    <tr>\n",
       "      <th>71</th>\n",
       "      <td>19</td>\n",
       "      <td>Wednesday</td>\n",
       "      <td>15</td>\n",
       "    </tr>\n",
       "    <tr>\n",
       "      <th>72</th>\n",
       "      <td>20</td>\n",
       "      <td>Friday</td>\n",
       "      <td>8</td>\n",
       "    </tr>\n",
       "    <tr>\n",
       "      <th>73</th>\n",
       "      <td>20</td>\n",
       "      <td>Thursday</td>\n",
       "      <td>845</td>\n",
       "    </tr>\n",
       "    <tr>\n",
       "      <th>74</th>\n",
       "      <td>20</td>\n",
       "      <td>Wednesday</td>\n",
       "      <td>18</td>\n",
       "    </tr>\n",
       "  </tbody>\n",
       "</table>\n",
       "<p>75 rows × 3 columns</p>\n",
       "</div>"
      ],
      "text/plain": [
       "    hours Day of Week  TransactionId\n",
       "0       6    Thursday             41\n",
       "1       7      Friday            134\n",
       "2       7      Monday             61\n",
       "3       7    Thursday             64\n",
       "4       7     Tuesday             65\n",
       "..    ...         ...            ...\n",
       "70     19    Thursday           3601\n",
       "71     19   Wednesday             15\n",
       "72     20      Friday              8\n",
       "73     20    Thursday            845\n",
       "74     20   Wednesday             18\n",
       "\n",
       "[75 rows x 3 columns]"
      ]
     },
     "execution_count": 129,
     "metadata": {},
     "output_type": "execute_result"
    }
   ],
   "source": [
    "grouped_df"
   ]
  },
  {
   "cell_type": "code",
   "execution_count": 143,
   "metadata": {},
   "outputs": [
    {
     "data": {
      "application/vnd.plotly.v1+json": {
       "config": {
        "plotlyServerURL": "https://plot.ly"
       },
       "data": [
        {
         "colorscale": [
          [
           0,
           "#440154"
          ],
          [
           0.1111111111111111,
           "#482878"
          ],
          [
           0.2222222222222222,
           "#3e4989"
          ],
          [
           0.3333333333333333,
           "#31688e"
          ],
          [
           0.4444444444444444,
           "#26828e"
          ],
          [
           0.5555555555555556,
           "#1f9e89"
          ],
          [
           0.6666666666666666,
           "#35b779"
          ],
          [
           0.7777777777777778,
           "#6ece58"
          ],
          [
           0.8888888888888888,
           "#b5de2b"
          ],
          [
           1,
           "#fde725"
          ]
         ],
         "hovertemplate": "Hour: %{x} <br>Day of Week: %{y} <br>Sales: %{z} <extra></extra>",
         "type": "heatmap",
         "x": [
          6,
          7,
          7,
          7,
          7,
          7,
          8,
          8,
          8,
          8,
          8,
          9,
          9,
          9,
          9,
          9,
          9,
          10,
          10,
          10,
          10,
          10,
          10,
          11,
          11,
          11,
          11,
          11,
          11,
          12,
          12,
          12,
          12,
          12,
          12,
          13,
          13,
          13,
          13,
          13,
          13,
          14,
          14,
          14,
          14,
          14,
          14,
          15,
          15,
          15,
          15,
          15,
          15,
          16,
          16,
          16,
          16,
          16,
          16,
          17,
          17,
          17,
          17,
          17,
          18,
          18,
          18,
          18,
          18,
          19,
          19,
          19,
          20,
          20,
          20
         ],
         "y": [
          "Thursday",
          "Friday",
          "Monday",
          "Thursday",
          "Tuesday",
          "Wednesday",
          "Friday",
          "Monday",
          "Thursday",
          "Tuesday",
          "Wednesday",
          "Friday",
          "Monday",
          "Sunday",
          "Thursday",
          "Tuesday",
          "Wednesday",
          "Friday",
          "Monday",
          "Sunday",
          "Thursday",
          "Tuesday",
          "Wednesday",
          "Friday",
          "Monday",
          "Sunday",
          "Thursday",
          "Tuesday",
          "Wednesday",
          "Friday",
          "Monday",
          "Sunday",
          "Thursday",
          "Tuesday",
          "Wednesday",
          "Friday",
          "Monday",
          "Sunday",
          "Thursday",
          "Tuesday",
          "Wednesday",
          "Friday",
          "Monday",
          "Sunday",
          "Thursday",
          "Tuesday",
          "Wednesday",
          "Friday",
          "Monday",
          "Sunday",
          "Thursday",
          "Tuesday",
          "Wednesday",
          "Friday",
          "Monday",
          "Sunday",
          "Thursday",
          "Tuesday",
          "Wednesday",
          "Friday",
          "Monday",
          "Thursday",
          "Tuesday",
          "Wednesday",
          "Friday",
          "Monday",
          "Thursday",
          "Tuesday",
          "Wednesday",
          "Friday",
          "Thursday",
          "Wednesday",
          "Friday",
          "Thursday",
          "Wednesday"
         ],
         "z": [
          41,
          134,
          61,
          64,
          65,
          59,
          1857,
          1641,
          1834,
          1751,
          1826,
          7119,
          7497,
          30,
          8060,
          6440,
          5186,
          10215,
          8872,
          3600,
          9321,
          9125,
          7904,
          9589,
          8926,
          10765,
          8369,
          10052,
          9973,
          10942,
          11801,
          13627,
          13485,
          14327,
          14527,
          10488,
          12756,
          12067,
          12428,
          12619,
          11901,
          11737,
          11502,
          10052,
          11518,
          11656,
          11006,
          9043,
          13977,
          10142,
          11830,
          16017,
          16510,
          6438,
          9529,
          4092,
          11765,
          11924,
          10768,
          4521,
          8136,
          5257,
          5746,
          4849,
          13,
          413,
          5439,
          2086,
          23,
          89,
          3601,
          15,
          8,
          845,
          18
         ]
        }
       ],
       "layout": {
        "template": {
         "data": {
          "bar": [
           {
            "error_x": {
             "color": "#2a3f5f"
            },
            "error_y": {
             "color": "#2a3f5f"
            },
            "marker": {
             "line": {
              "color": "#E5ECF6",
              "width": 0.5
             }
            },
            "type": "bar"
           }
          ],
          "barpolar": [
           {
            "marker": {
             "line": {
              "color": "#E5ECF6",
              "width": 0.5
             }
            },
            "type": "barpolar"
           }
          ],
          "carpet": [
           {
            "aaxis": {
             "endlinecolor": "#2a3f5f",
             "gridcolor": "white",
             "linecolor": "white",
             "minorgridcolor": "white",
             "startlinecolor": "#2a3f5f"
            },
            "baxis": {
             "endlinecolor": "#2a3f5f",
             "gridcolor": "white",
             "linecolor": "white",
             "minorgridcolor": "white",
             "startlinecolor": "#2a3f5f"
            },
            "type": "carpet"
           }
          ],
          "choropleth": [
           {
            "colorbar": {
             "outlinewidth": 0,
             "ticks": ""
            },
            "type": "choropleth"
           }
          ],
          "contour": [
           {
            "colorbar": {
             "outlinewidth": 0,
             "ticks": ""
            },
            "colorscale": [
             [
              0,
              "#0d0887"
             ],
             [
              0.1111111111111111,
              "#46039f"
             ],
             [
              0.2222222222222222,
              "#7201a8"
             ],
             [
              0.3333333333333333,
              "#9c179e"
             ],
             [
              0.4444444444444444,
              "#bd3786"
             ],
             [
              0.5555555555555556,
              "#d8576b"
             ],
             [
              0.6666666666666666,
              "#ed7953"
             ],
             [
              0.7777777777777778,
              "#fb9f3a"
             ],
             [
              0.8888888888888888,
              "#fdca26"
             ],
             [
              1,
              "#f0f921"
             ]
            ],
            "type": "contour"
           }
          ],
          "contourcarpet": [
           {
            "colorbar": {
             "outlinewidth": 0,
             "ticks": ""
            },
            "type": "contourcarpet"
           }
          ],
          "heatmap": [
           {
            "colorbar": {
             "outlinewidth": 0,
             "ticks": ""
            },
            "colorscale": [
             [
              0,
              "#0d0887"
             ],
             [
              0.1111111111111111,
              "#46039f"
             ],
             [
              0.2222222222222222,
              "#7201a8"
             ],
             [
              0.3333333333333333,
              "#9c179e"
             ],
             [
              0.4444444444444444,
              "#bd3786"
             ],
             [
              0.5555555555555556,
              "#d8576b"
             ],
             [
              0.6666666666666666,
              "#ed7953"
             ],
             [
              0.7777777777777778,
              "#fb9f3a"
             ],
             [
              0.8888888888888888,
              "#fdca26"
             ],
             [
              1,
              "#f0f921"
             ]
            ],
            "type": "heatmap"
           }
          ],
          "heatmapgl": [
           {
            "colorbar": {
             "outlinewidth": 0,
             "ticks": ""
            },
            "colorscale": [
             [
              0,
              "#0d0887"
             ],
             [
              0.1111111111111111,
              "#46039f"
             ],
             [
              0.2222222222222222,
              "#7201a8"
             ],
             [
              0.3333333333333333,
              "#9c179e"
             ],
             [
              0.4444444444444444,
              "#bd3786"
             ],
             [
              0.5555555555555556,
              "#d8576b"
             ],
             [
              0.6666666666666666,
              "#ed7953"
             ],
             [
              0.7777777777777778,
              "#fb9f3a"
             ],
             [
              0.8888888888888888,
              "#fdca26"
             ],
             [
              1,
              "#f0f921"
             ]
            ],
            "type": "heatmapgl"
           }
          ],
          "histogram": [
           {
            "marker": {
             "colorbar": {
              "outlinewidth": 0,
              "ticks": ""
             }
            },
            "type": "histogram"
           }
          ],
          "histogram2d": [
           {
            "colorbar": {
             "outlinewidth": 0,
             "ticks": ""
            },
            "colorscale": [
             [
              0,
              "#0d0887"
             ],
             [
              0.1111111111111111,
              "#46039f"
             ],
             [
              0.2222222222222222,
              "#7201a8"
             ],
             [
              0.3333333333333333,
              "#9c179e"
             ],
             [
              0.4444444444444444,
              "#bd3786"
             ],
             [
              0.5555555555555556,
              "#d8576b"
             ],
             [
              0.6666666666666666,
              "#ed7953"
             ],
             [
              0.7777777777777778,
              "#fb9f3a"
             ],
             [
              0.8888888888888888,
              "#fdca26"
             ],
             [
              1,
              "#f0f921"
             ]
            ],
            "type": "histogram2d"
           }
          ],
          "histogram2dcontour": [
           {
            "colorbar": {
             "outlinewidth": 0,
             "ticks": ""
            },
            "colorscale": [
             [
              0,
              "#0d0887"
             ],
             [
              0.1111111111111111,
              "#46039f"
             ],
             [
              0.2222222222222222,
              "#7201a8"
             ],
             [
              0.3333333333333333,
              "#9c179e"
             ],
             [
              0.4444444444444444,
              "#bd3786"
             ],
             [
              0.5555555555555556,
              "#d8576b"
             ],
             [
              0.6666666666666666,
              "#ed7953"
             ],
             [
              0.7777777777777778,
              "#fb9f3a"
             ],
             [
              0.8888888888888888,
              "#fdca26"
             ],
             [
              1,
              "#f0f921"
             ]
            ],
            "type": "histogram2dcontour"
           }
          ],
          "mesh3d": [
           {
            "colorbar": {
             "outlinewidth": 0,
             "ticks": ""
            },
            "type": "mesh3d"
           }
          ],
          "parcoords": [
           {
            "line": {
             "colorbar": {
              "outlinewidth": 0,
              "ticks": ""
             }
            },
            "type": "parcoords"
           }
          ],
          "pie": [
           {
            "automargin": true,
            "type": "pie"
           }
          ],
          "scatter": [
           {
            "marker": {
             "colorbar": {
              "outlinewidth": 0,
              "ticks": ""
             }
            },
            "type": "scatter"
           }
          ],
          "scatter3d": [
           {
            "line": {
             "colorbar": {
              "outlinewidth": 0,
              "ticks": ""
             }
            },
            "marker": {
             "colorbar": {
              "outlinewidth": 0,
              "ticks": ""
             }
            },
            "type": "scatter3d"
           }
          ],
          "scattercarpet": [
           {
            "marker": {
             "colorbar": {
              "outlinewidth": 0,
              "ticks": ""
             }
            },
            "type": "scattercarpet"
           }
          ],
          "scattergeo": [
           {
            "marker": {
             "colorbar": {
              "outlinewidth": 0,
              "ticks": ""
             }
            },
            "type": "scattergeo"
           }
          ],
          "scattergl": [
           {
            "marker": {
             "colorbar": {
              "outlinewidth": 0,
              "ticks": ""
             }
            },
            "type": "scattergl"
           }
          ],
          "scattermapbox": [
           {
            "marker": {
             "colorbar": {
              "outlinewidth": 0,
              "ticks": ""
             }
            },
            "type": "scattermapbox"
           }
          ],
          "scatterpolar": [
           {
            "marker": {
             "colorbar": {
              "outlinewidth": 0,
              "ticks": ""
             }
            },
            "type": "scatterpolar"
           }
          ],
          "scatterpolargl": [
           {
            "marker": {
             "colorbar": {
              "outlinewidth": 0,
              "ticks": ""
             }
            },
            "type": "scatterpolargl"
           }
          ],
          "scatterternary": [
           {
            "marker": {
             "colorbar": {
              "outlinewidth": 0,
              "ticks": ""
             }
            },
            "type": "scatterternary"
           }
          ],
          "surface": [
           {
            "colorbar": {
             "outlinewidth": 0,
             "ticks": ""
            },
            "colorscale": [
             [
              0,
              "#0d0887"
             ],
             [
              0.1111111111111111,
              "#46039f"
             ],
             [
              0.2222222222222222,
              "#7201a8"
             ],
             [
              0.3333333333333333,
              "#9c179e"
             ],
             [
              0.4444444444444444,
              "#bd3786"
             ],
             [
              0.5555555555555556,
              "#d8576b"
             ],
             [
              0.6666666666666666,
              "#ed7953"
             ],
             [
              0.7777777777777778,
              "#fb9f3a"
             ],
             [
              0.8888888888888888,
              "#fdca26"
             ],
             [
              1,
              "#f0f921"
             ]
            ],
            "type": "surface"
           }
          ],
          "table": [
           {
            "cells": {
             "fill": {
              "color": "#EBF0F8"
             },
             "line": {
              "color": "white"
             }
            },
            "header": {
             "fill": {
              "color": "#C8D4E3"
             },
             "line": {
              "color": "white"
             }
            },
            "type": "table"
           }
          ]
         },
         "layout": {
          "annotationdefaults": {
           "arrowcolor": "#2a3f5f",
           "arrowhead": 0,
           "arrowwidth": 1
          },
          "autotypenumbers": "strict",
          "coloraxis": {
           "colorbar": {
            "outlinewidth": 0,
            "ticks": ""
           }
          },
          "colorscale": {
           "diverging": [
            [
             0,
             "#8e0152"
            ],
            [
             0.1,
             "#c51b7d"
            ],
            [
             0.2,
             "#de77ae"
            ],
            [
             0.3,
             "#f1b6da"
            ],
            [
             0.4,
             "#fde0ef"
            ],
            [
             0.5,
             "#f7f7f7"
            ],
            [
             0.6,
             "#e6f5d0"
            ],
            [
             0.7,
             "#b8e186"
            ],
            [
             0.8,
             "#7fbc41"
            ],
            [
             0.9,
             "#4d9221"
            ],
            [
             1,
             "#276419"
            ]
           ],
           "sequential": [
            [
             0,
             "#0d0887"
            ],
            [
             0.1111111111111111,
             "#46039f"
            ],
            [
             0.2222222222222222,
             "#7201a8"
            ],
            [
             0.3333333333333333,
             "#9c179e"
            ],
            [
             0.4444444444444444,
             "#bd3786"
            ],
            [
             0.5555555555555556,
             "#d8576b"
            ],
            [
             0.6666666666666666,
             "#ed7953"
            ],
            [
             0.7777777777777778,
             "#fb9f3a"
            ],
            [
             0.8888888888888888,
             "#fdca26"
            ],
            [
             1,
             "#f0f921"
            ]
           ],
           "sequentialminus": [
            [
             0,
             "#0d0887"
            ],
            [
             0.1111111111111111,
             "#46039f"
            ],
            [
             0.2222222222222222,
             "#7201a8"
            ],
            [
             0.3333333333333333,
             "#9c179e"
            ],
            [
             0.4444444444444444,
             "#bd3786"
            ],
            [
             0.5555555555555556,
             "#d8576b"
            ],
            [
             0.6666666666666666,
             "#ed7953"
            ],
            [
             0.7777777777777778,
             "#fb9f3a"
            ],
            [
             0.8888888888888888,
             "#fdca26"
            ],
            [
             1,
             "#f0f921"
            ]
           ]
          },
          "colorway": [
           "#636efa",
           "#EF553B",
           "#00cc96",
           "#ab63fa",
           "#FFA15A",
           "#19d3f3",
           "#FF6692",
           "#B6E880",
           "#FF97FF",
           "#FECB52"
          ],
          "font": {
           "color": "#2a3f5f"
          },
          "geo": {
           "bgcolor": "white",
           "lakecolor": "white",
           "landcolor": "#E5ECF6",
           "showlakes": true,
           "showland": true,
           "subunitcolor": "white"
          },
          "hoverlabel": {
           "align": "left"
          },
          "hovermode": "closest",
          "mapbox": {
           "style": "light"
          },
          "paper_bgcolor": "white",
          "plot_bgcolor": "#E5ECF6",
          "polar": {
           "angularaxis": {
            "gridcolor": "white",
            "linecolor": "white",
            "ticks": ""
           },
           "bgcolor": "#E5ECF6",
           "radialaxis": {
            "gridcolor": "white",
            "linecolor": "white",
            "ticks": ""
           }
          },
          "scene": {
           "xaxis": {
            "backgroundcolor": "#E5ECF6",
            "gridcolor": "white",
            "gridwidth": 2,
            "linecolor": "white",
            "showbackground": true,
            "ticks": "",
            "zerolinecolor": "white"
           },
           "yaxis": {
            "backgroundcolor": "#E5ECF6",
            "gridcolor": "white",
            "gridwidth": 2,
            "linecolor": "white",
            "showbackground": true,
            "ticks": "",
            "zerolinecolor": "white"
           },
           "zaxis": {
            "backgroundcolor": "#E5ECF6",
            "gridcolor": "white",
            "gridwidth": 2,
            "linecolor": "white",
            "showbackground": true,
            "ticks": "",
            "zerolinecolor": "white"
           }
          },
          "shapedefaults": {
           "line": {
            "color": "#2a3f5f"
           }
          },
          "ternary": {
           "aaxis": {
            "gridcolor": "white",
            "linecolor": "white",
            "ticks": ""
           },
           "baxis": {
            "gridcolor": "white",
            "linecolor": "white",
            "ticks": ""
           },
           "bgcolor": "#E5ECF6",
           "caxis": {
            "gridcolor": "white",
            "linecolor": "white",
            "ticks": ""
           }
          },
          "title": {
           "x": 0.05
          },
          "xaxis": {
           "automargin": true,
           "gridcolor": "white",
           "linecolor": "white",
           "ticks": "",
           "title": {
            "standoff": 15
           },
           "zerolinecolor": "white",
           "zerolinewidth": 2
          },
          "yaxis": {
           "automargin": true,
           "gridcolor": "white",
           "linecolor": "white",
           "ticks": "",
           "title": {
            "standoff": 15
           },
           "zerolinecolor": "white",
           "zerolinewidth": 2
          }
         }
        },
        "xaxis": {
         "gridcolor": "black",
         "gridwidth": 0.5,
         "showgrid": false
        },
        "yaxis": {
         "gridcolor": "black",
         "gridwidth": 0.5,
         "showgrid": false
        }
       }
      },
      "text/html": [
       "<div>                            <div id=\"7059a3e4-56b2-4963-9a9e-e92bbd6371db\" class=\"plotly-graph-div\" style=\"height:525px; width:100%;\"></div>            <script type=\"text/javascript\">                require([\"plotly\"], function(Plotly) {                    window.PLOTLYENV=window.PLOTLYENV || {};                                    if (document.getElementById(\"7059a3e4-56b2-4963-9a9e-e92bbd6371db\")) {                    Plotly.newPlot(                        \"7059a3e4-56b2-4963-9a9e-e92bbd6371db\",                        [{\"colorscale\": [[0.0, \"#440154\"], [0.1111111111111111, \"#482878\"], [0.2222222222222222, \"#3e4989\"], [0.3333333333333333, \"#31688e\"], [0.4444444444444444, \"#26828e\"], [0.5555555555555556, \"#1f9e89\"], [0.6666666666666666, \"#35b779\"], [0.7777777777777778, \"#6ece58\"], [0.8888888888888888, \"#b5de2b\"], [1.0, \"#fde725\"]], \"hovertemplate\": \"Hour: %{x} <br>Day of Week: %{y} <br>Sales: %{z} <extra></extra>\", \"type\": \"heatmap\", \"x\": [6, 7, 7, 7, 7, 7, 8, 8, 8, 8, 8, 9, 9, 9, 9, 9, 9, 10, 10, 10, 10, 10, 10, 11, 11, 11, 11, 11, 11, 12, 12, 12, 12, 12, 12, 13, 13, 13, 13, 13, 13, 14, 14, 14, 14, 14, 14, 15, 15, 15, 15, 15, 15, 16, 16, 16, 16, 16, 16, 17, 17, 17, 17, 17, 18, 18, 18, 18, 18, 19, 19, 19, 20, 20, 20], \"y\": [\"Thursday\", \"Friday\", \"Monday\", \"Thursday\", \"Tuesday\", \"Wednesday\", \"Friday\", \"Monday\", \"Thursday\", \"Tuesday\", \"Wednesday\", \"Friday\", \"Monday\", \"Sunday\", \"Thursday\", \"Tuesday\", \"Wednesday\", \"Friday\", \"Monday\", \"Sunday\", \"Thursday\", \"Tuesday\", \"Wednesday\", \"Friday\", \"Monday\", \"Sunday\", \"Thursday\", \"Tuesday\", \"Wednesday\", \"Friday\", \"Monday\", \"Sunday\", \"Thursday\", \"Tuesday\", \"Wednesday\", \"Friday\", \"Monday\", \"Sunday\", \"Thursday\", \"Tuesday\", \"Wednesday\", \"Friday\", \"Monday\", \"Sunday\", \"Thursday\", \"Tuesday\", \"Wednesday\", \"Friday\", \"Monday\", \"Sunday\", \"Thursday\", \"Tuesday\", \"Wednesday\", \"Friday\", \"Monday\", \"Sunday\", \"Thursday\", \"Tuesday\", \"Wednesday\", \"Friday\", \"Monday\", \"Thursday\", \"Tuesday\", \"Wednesday\", \"Friday\", \"Monday\", \"Thursday\", \"Tuesday\", \"Wednesday\", \"Friday\", \"Thursday\", \"Wednesday\", \"Friday\", \"Thursday\", \"Wednesday\"], \"z\": [41, 134, 61, 64, 65, 59, 1857, 1641, 1834, 1751, 1826, 7119, 7497, 30, 8060, 6440, 5186, 10215, 8872, 3600, 9321, 9125, 7904, 9589, 8926, 10765, 8369, 10052, 9973, 10942, 11801, 13627, 13485, 14327, 14527, 10488, 12756, 12067, 12428, 12619, 11901, 11737, 11502, 10052, 11518, 11656, 11006, 9043, 13977, 10142, 11830, 16017, 16510, 6438, 9529, 4092, 11765, 11924, 10768, 4521, 8136, 5257, 5746, 4849, 13, 413, 5439, 2086, 23, 89, 3601, 15, 8, 845, 18]}],                        {\"template\": {\"data\": {\"bar\": [{\"error_x\": {\"color\": \"#2a3f5f\"}, \"error_y\": {\"color\": \"#2a3f5f\"}, \"marker\": {\"line\": {\"color\": \"#E5ECF6\", \"width\": 0.5}}, \"type\": \"bar\"}], \"barpolar\": [{\"marker\": {\"line\": {\"color\": \"#E5ECF6\", \"width\": 0.5}}, \"type\": \"barpolar\"}], \"carpet\": [{\"aaxis\": {\"endlinecolor\": \"#2a3f5f\", \"gridcolor\": \"white\", \"linecolor\": \"white\", \"minorgridcolor\": \"white\", \"startlinecolor\": \"#2a3f5f\"}, \"baxis\": {\"endlinecolor\": \"#2a3f5f\", \"gridcolor\": \"white\", \"linecolor\": \"white\", \"minorgridcolor\": \"white\", \"startlinecolor\": \"#2a3f5f\"}, \"type\": \"carpet\"}], \"choropleth\": [{\"colorbar\": {\"outlinewidth\": 0, \"ticks\": \"\"}, \"type\": \"choropleth\"}], \"contour\": [{\"colorbar\": {\"outlinewidth\": 0, \"ticks\": \"\"}, \"colorscale\": [[0.0, \"#0d0887\"], [0.1111111111111111, \"#46039f\"], [0.2222222222222222, \"#7201a8\"], [0.3333333333333333, \"#9c179e\"], [0.4444444444444444, \"#bd3786\"], [0.5555555555555556, \"#d8576b\"], [0.6666666666666666, \"#ed7953\"], [0.7777777777777778, \"#fb9f3a\"], [0.8888888888888888, \"#fdca26\"], [1.0, \"#f0f921\"]], \"type\": \"contour\"}], \"contourcarpet\": [{\"colorbar\": {\"outlinewidth\": 0, \"ticks\": \"\"}, \"type\": \"contourcarpet\"}], \"heatmap\": [{\"colorbar\": {\"outlinewidth\": 0, \"ticks\": \"\"}, \"colorscale\": [[0.0, \"#0d0887\"], [0.1111111111111111, \"#46039f\"], [0.2222222222222222, \"#7201a8\"], [0.3333333333333333, \"#9c179e\"], [0.4444444444444444, \"#bd3786\"], [0.5555555555555556, \"#d8576b\"], [0.6666666666666666, \"#ed7953\"], [0.7777777777777778, \"#fb9f3a\"], [0.8888888888888888, \"#fdca26\"], [1.0, \"#f0f921\"]], \"type\": \"heatmap\"}], \"heatmapgl\": [{\"colorbar\": {\"outlinewidth\": 0, \"ticks\": \"\"}, \"colorscale\": [[0.0, \"#0d0887\"], [0.1111111111111111, \"#46039f\"], [0.2222222222222222, \"#7201a8\"], [0.3333333333333333, \"#9c179e\"], [0.4444444444444444, \"#bd3786\"], [0.5555555555555556, \"#d8576b\"], [0.6666666666666666, \"#ed7953\"], [0.7777777777777778, \"#fb9f3a\"], [0.8888888888888888, \"#fdca26\"], [1.0, \"#f0f921\"]], \"type\": \"heatmapgl\"}], \"histogram\": [{\"marker\": {\"colorbar\": {\"outlinewidth\": 0, \"ticks\": \"\"}}, \"type\": \"histogram\"}], \"histogram2d\": [{\"colorbar\": {\"outlinewidth\": 0, \"ticks\": \"\"}, \"colorscale\": [[0.0, \"#0d0887\"], [0.1111111111111111, \"#46039f\"], [0.2222222222222222, \"#7201a8\"], [0.3333333333333333, \"#9c179e\"], [0.4444444444444444, \"#bd3786\"], [0.5555555555555556, \"#d8576b\"], [0.6666666666666666, \"#ed7953\"], [0.7777777777777778, \"#fb9f3a\"], [0.8888888888888888, \"#fdca26\"], [1.0, \"#f0f921\"]], \"type\": \"histogram2d\"}], \"histogram2dcontour\": [{\"colorbar\": {\"outlinewidth\": 0, \"ticks\": \"\"}, \"colorscale\": [[0.0, \"#0d0887\"], [0.1111111111111111, \"#46039f\"], [0.2222222222222222, \"#7201a8\"], [0.3333333333333333, \"#9c179e\"], [0.4444444444444444, \"#bd3786\"], [0.5555555555555556, \"#d8576b\"], [0.6666666666666666, \"#ed7953\"], [0.7777777777777778, \"#fb9f3a\"], [0.8888888888888888, \"#fdca26\"], [1.0, \"#f0f921\"]], \"type\": \"histogram2dcontour\"}], \"mesh3d\": [{\"colorbar\": {\"outlinewidth\": 0, \"ticks\": \"\"}, \"type\": \"mesh3d\"}], \"parcoords\": [{\"line\": {\"colorbar\": {\"outlinewidth\": 0, \"ticks\": \"\"}}, \"type\": \"parcoords\"}], \"pie\": [{\"automargin\": true, \"type\": \"pie\"}], \"scatter\": [{\"marker\": {\"colorbar\": {\"outlinewidth\": 0, \"ticks\": \"\"}}, \"type\": \"scatter\"}], \"scatter3d\": [{\"line\": {\"colorbar\": {\"outlinewidth\": 0, \"ticks\": \"\"}}, \"marker\": {\"colorbar\": {\"outlinewidth\": 0, \"ticks\": \"\"}}, \"type\": \"scatter3d\"}], \"scattercarpet\": [{\"marker\": {\"colorbar\": {\"outlinewidth\": 0, \"ticks\": \"\"}}, \"type\": \"scattercarpet\"}], \"scattergeo\": [{\"marker\": {\"colorbar\": {\"outlinewidth\": 0, \"ticks\": \"\"}}, \"type\": \"scattergeo\"}], \"scattergl\": [{\"marker\": {\"colorbar\": {\"outlinewidth\": 0, \"ticks\": \"\"}}, \"type\": \"scattergl\"}], \"scattermapbox\": [{\"marker\": {\"colorbar\": {\"outlinewidth\": 0, \"ticks\": \"\"}}, \"type\": \"scattermapbox\"}], \"scatterpolar\": [{\"marker\": {\"colorbar\": {\"outlinewidth\": 0, \"ticks\": \"\"}}, \"type\": \"scatterpolar\"}], \"scatterpolargl\": [{\"marker\": {\"colorbar\": {\"outlinewidth\": 0, \"ticks\": \"\"}}, \"type\": \"scatterpolargl\"}], \"scatterternary\": [{\"marker\": {\"colorbar\": {\"outlinewidth\": 0, \"ticks\": \"\"}}, \"type\": \"scatterternary\"}], \"surface\": [{\"colorbar\": {\"outlinewidth\": 0, \"ticks\": \"\"}, \"colorscale\": [[0.0, \"#0d0887\"], [0.1111111111111111, \"#46039f\"], [0.2222222222222222, \"#7201a8\"], [0.3333333333333333, \"#9c179e\"], [0.4444444444444444, \"#bd3786\"], [0.5555555555555556, \"#d8576b\"], [0.6666666666666666, \"#ed7953\"], [0.7777777777777778, \"#fb9f3a\"], [0.8888888888888888, \"#fdca26\"], [1.0, \"#f0f921\"]], \"type\": \"surface\"}], \"table\": [{\"cells\": {\"fill\": {\"color\": \"#EBF0F8\"}, \"line\": {\"color\": \"white\"}}, \"header\": {\"fill\": {\"color\": \"#C8D4E3\"}, \"line\": {\"color\": \"white\"}}, \"type\": \"table\"}]}, \"layout\": {\"annotationdefaults\": {\"arrowcolor\": \"#2a3f5f\", \"arrowhead\": 0, \"arrowwidth\": 1}, \"autotypenumbers\": \"strict\", \"coloraxis\": {\"colorbar\": {\"outlinewidth\": 0, \"ticks\": \"\"}}, \"colorscale\": {\"diverging\": [[0, \"#8e0152\"], [0.1, \"#c51b7d\"], [0.2, \"#de77ae\"], [0.3, \"#f1b6da\"], [0.4, \"#fde0ef\"], [0.5, \"#f7f7f7\"], [0.6, \"#e6f5d0\"], [0.7, \"#b8e186\"], [0.8, \"#7fbc41\"], [0.9, \"#4d9221\"], [1, \"#276419\"]], \"sequential\": [[0.0, \"#0d0887\"], [0.1111111111111111, \"#46039f\"], [0.2222222222222222, \"#7201a8\"], [0.3333333333333333, \"#9c179e\"], [0.4444444444444444, \"#bd3786\"], [0.5555555555555556, \"#d8576b\"], [0.6666666666666666, \"#ed7953\"], [0.7777777777777778, \"#fb9f3a\"], [0.8888888888888888, \"#fdca26\"], [1.0, \"#f0f921\"]], \"sequentialminus\": [[0.0, \"#0d0887\"], [0.1111111111111111, \"#46039f\"], [0.2222222222222222, \"#7201a8\"], [0.3333333333333333, \"#9c179e\"], [0.4444444444444444, \"#bd3786\"], [0.5555555555555556, \"#d8576b\"], [0.6666666666666666, \"#ed7953\"], [0.7777777777777778, \"#fb9f3a\"], [0.8888888888888888, \"#fdca26\"], [1.0, \"#f0f921\"]]}, \"colorway\": [\"#636efa\", \"#EF553B\", \"#00cc96\", \"#ab63fa\", \"#FFA15A\", \"#19d3f3\", \"#FF6692\", \"#B6E880\", \"#FF97FF\", \"#FECB52\"], \"font\": {\"color\": \"#2a3f5f\"}, \"geo\": {\"bgcolor\": \"white\", \"lakecolor\": \"white\", \"landcolor\": \"#E5ECF6\", \"showlakes\": true, \"showland\": true, \"subunitcolor\": \"white\"}, \"hoverlabel\": {\"align\": \"left\"}, \"hovermode\": \"closest\", \"mapbox\": {\"style\": \"light\"}, \"paper_bgcolor\": \"white\", \"plot_bgcolor\": \"#E5ECF6\", \"polar\": {\"angularaxis\": {\"gridcolor\": \"white\", \"linecolor\": \"white\", \"ticks\": \"\"}, \"bgcolor\": \"#E5ECF6\", \"radialaxis\": {\"gridcolor\": \"white\", \"linecolor\": \"white\", \"ticks\": \"\"}}, \"scene\": {\"xaxis\": {\"backgroundcolor\": \"#E5ECF6\", \"gridcolor\": \"white\", \"gridwidth\": 2, \"linecolor\": \"white\", \"showbackground\": true, \"ticks\": \"\", \"zerolinecolor\": \"white\"}, \"yaxis\": {\"backgroundcolor\": \"#E5ECF6\", \"gridcolor\": \"white\", \"gridwidth\": 2, \"linecolor\": \"white\", \"showbackground\": true, \"ticks\": \"\", \"zerolinecolor\": \"white\"}, \"zaxis\": {\"backgroundcolor\": \"#E5ECF6\", \"gridcolor\": \"white\", \"gridwidth\": 2, \"linecolor\": \"white\", \"showbackground\": true, \"ticks\": \"\", \"zerolinecolor\": \"white\"}}, \"shapedefaults\": {\"line\": {\"color\": \"#2a3f5f\"}}, \"ternary\": {\"aaxis\": {\"gridcolor\": \"white\", \"linecolor\": \"white\", \"ticks\": \"\"}, \"baxis\": {\"gridcolor\": \"white\", \"linecolor\": \"white\", \"ticks\": \"\"}, \"bgcolor\": \"#E5ECF6\", \"caxis\": {\"gridcolor\": \"white\", \"linecolor\": \"white\", \"ticks\": \"\"}}, \"title\": {\"x\": 0.05}, \"xaxis\": {\"automargin\": true, \"gridcolor\": \"white\", \"linecolor\": \"white\", \"ticks\": \"\", \"title\": {\"standoff\": 15}, \"zerolinecolor\": \"white\", \"zerolinewidth\": 2}, \"yaxis\": {\"automargin\": true, \"gridcolor\": \"white\", \"linecolor\": \"white\", \"ticks\": \"\", \"title\": {\"standoff\": 15}, \"zerolinecolor\": \"white\", \"zerolinewidth\": 2}}}, \"xaxis\": {\"gridcolor\": \"black\", \"gridwidth\": 0.5, \"showgrid\": false}, \"yaxis\": {\"gridcolor\": \"black\", \"gridwidth\": 0.5, \"showgrid\": false}},                        {\"responsive\": true}                    ).then(function(){\n",
       "                            \n",
       "var gd = document.getElementById('7059a3e4-56b2-4963-9a9e-e92bbd6371db');\n",
       "var x = new MutationObserver(function (mutations, observer) {{\n",
       "        var display = window.getComputedStyle(gd).display;\n",
       "        if (!display || display === 'none') {{\n",
       "            console.log([gd, 'removed!']);\n",
       "            Plotly.purge(gd);\n",
       "            observer.disconnect();\n",
       "        }}\n",
       "}});\n",
       "\n",
       "// Listen for the removal of the full notebook cells\n",
       "var notebookContainer = gd.closest('#notebook-container');\n",
       "if (notebookContainer) {{\n",
       "    x.observe(notebookContainer, {childList: true});\n",
       "}}\n",
       "\n",
       "// Listen for the clearing of the current output cell\n",
       "var outputEl = gd.closest('.output');\n",
       "if (outputEl) {{\n",
       "    x.observe(outputEl, {childList: true});\n",
       "}}\n",
       "\n",
       "                        })                };                });            </script>        </div>"
      ]
     },
     "metadata": {},
     "output_type": "display_data"
    }
   ],
   "source": [
    "fig = go.Figure(data=go.Heatmap(\n",
    "          x = grouped_df[\"hours\"],\n",
    "          y = grouped_df[\"Day of Week\"],\n",
    "          z = grouped_df[\"TransactionId\"],\n",
    "          type = 'heatmap',\n",
    "          colorscale = 'Viridis'))\n",
    "fig.update_traces(\n",
    "        hovertemplate='Hour: %{x} <br>Day of Week: %{y} <br>Sales: %{z} <extra></extra>')\n",
    "fig.update_yaxes(gridcolor='black', showgrid=False, gridwidth=0.5)\n",
    "fig.update_xaxes(gridcolor='black', showgrid=False, gridwidth=0.5)\n",
    "fig.show()"
   ]
  },
  {
   "cell_type": "code",
   "execution_count": null,
   "metadata": {},
   "outputs": [],
   "source": []
  }
 ],
 "metadata": {
  "kernelspec": {
   "display_name": "Python 3",
   "language": "python",
   "name": "python3"
  },
  "language_info": {
   "codemirror_mode": {
    "name": "ipython",
    "version": 3
   },
   "file_extension": ".py",
   "mimetype": "text/x-python",
   "name": "python",
   "nbconvert_exporter": "python",
   "pygments_lexer": "ipython3",
   "version": "3.8.5"
  }
 },
 "nbformat": 4,
 "nbformat_minor": 4
}
