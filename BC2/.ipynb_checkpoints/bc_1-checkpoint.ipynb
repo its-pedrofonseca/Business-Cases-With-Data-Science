{
 "cells": [
  {
   "cell_type": "code",
   "execution_count": 10,
   "metadata": {},
   "outputs": [],
   "source": [
    "#!pip install statsmodels\n",
    "#!pip install catboost\n",
    "#!pip install imblearn"
   ]
  },
  {
   "cell_type": "code",
   "execution_count": 58,
   "metadata": {},
   "outputs": [],
   "source": [
    "import numpy as np\n",
    "import pandas as pd\n",
    "import seaborn as sns\n",
    "import statsmodels.api as sm \n",
    "import matplotlib.pyplot as plt\n",
    "import os\n",
    "import phik\n",
    "from catboost import CatBoostClassifier, Pool, cv\n",
    "from sklearn.ensemble import RandomForestClassifier,AdaBoostClassifier,GradientBoostingClassifier,ExtraTreesClassifier\n",
    "from sklearn.model_selection import cross_validate\n",
    "from scipy import stats\n",
    "from sklearn.model_selection import train_test_split\n",
    "from sklearn.preprocessing import MinMaxScaler, StandardScaler, OneHotEncoder,LabelEncoder,MaxAbsScaler,RobustScaler\n",
    "from sklearn.metrics import f1_score, accuracy_score\n",
    "from imblearn.over_sampling import BorderlineSMOTE,ADASYN,SMOTE,SVMSMOTE\n",
    "from imblearn.ensemble import BalancedRandomForestClassifier\n",
    "from sklearn.svm import SVC\n",
    "from math import ceil\n",
    "from numpy.random import RandomState\n",
    "from sklearn.metrics import classification_report,confusion_matrix\n",
    "from sklearn.feature_selection import SelectKBest,f_classif,mutual_info_classif\n",
    "from sklearn.model_selection import GridSearchCV  \n",
    "from sklearn.metrics import roc_curve, auc\n",
    "from sklearn.tree import DecisionTreeClassifier\n",
    "from sklearn.neural_network import MLPClassifier\n",
    "from sklearn.linear_model import SGDClassifier\n",
    "from sklearn.ensemble import IsolationForest\n",
    "from sklearn.covariance import EllipticEnvelope\n",
    "from sklearn.impute import KNNImputer\n",
    "from sklearn.decomposition import PCA"
   ]
  },
  {
   "cell_type": "code",
   "execution_count": 12,
   "metadata": {},
   "outputs": [],
   "source": [
    "def heatmap_pearson(df):\n",
    "    corr = df\n",
    "    mask = np.zeros_like(corr)\n",
    "    mask[np.triu_indices_from(mask)] = True\n",
    "    with sns.axes_style(\"white\"):\n",
    "        f, ax = plt.subplots(figsize=(10, 10))\n",
    "        for item in [f, ax]:\n",
    "            item.patch.set_visible(False)\n",
    "    ax = sns.heatmap(corr, mask=mask, square=True,cmap = plt.cm.Blues)\n",
    "    plt.title('Pearson Correlation Matrix')\n",
    "    plt.show()"
   ]
  },
  {
   "cell_type": "code",
   "execution_count": 13,
   "metadata": {},
   "outputs": [],
   "source": [
    "def heatmap_spearman(df):\n",
    "    corr = df\n",
    "    mask = np.zeros_like(corr)\n",
    "    mask[np.triu_indices_from(mask)] = True\n",
    "    with sns.axes_style(\"white\"):\n",
    "        f, ax = plt.subplots(figsize=(10, 10))\n",
    "        for item in [f, ax]:\n",
    "            item.patch.set_visible(False)\n",
    "    ax = sns.heatmap(corr, mask=mask, square=True,cmap = plt.cm.Blues)\n",
    "    plt.title('Spearman Correlation Matrix')\n",
    "    plt.show()"
   ]
  },
  {
   "cell_type": "code",
   "execution_count": 14,
   "metadata": {},
   "outputs": [],
   "source": [
    "def heatmap_phik(df):\n",
    "    corr = df\n",
    "    mask = np.zeros_like(corr)\n",
    "    mask[np.triu_indices_from(mask)] = True\n",
    "    with sns.axes_style(\"white\"):\n",
    "        f, ax = plt.subplots(figsize=(10, 10))\n",
    "        for item in [f, ax]:\n",
    "            item.patch.set_visible(False)\n",
    "    ax = sns.heatmap(corr, mask=mask, square=True,cmap = plt.cm.Blues)\n",
    "    plt.title('Phik Correlation Matrix')\n",
    "    plt.show()\n",
    "    "
   ]
  },
  {
   "cell_type": "code",
   "execution_count": 15,
   "metadata": {},
   "outputs": [],
   "source": [
    "def bar_charts_categorical(df, feature, target):\n",
    "    \"\"\"\n",
    "    Function that plots the frequency and the importance that a categorical variable has with the target\n",
    "    \"\"\"\n",
    "    cont_tab = pd.crosstab(df[feature], df[target], margins = True)\n",
    "    categories = cont_tab.index[:-1]\n",
    "        \n",
    "    fig = plt.figure(figsize=(15, 5))\n",
    "    \n",
    "    plt.subplot(121)\n",
    "    p1 = plt.bar(categories, cont_tab.iloc[:-1, 0].values, 0.55, color=\"gray\")\n",
    "    p2 = plt.bar(categories, cont_tab.iloc[:-1, 1].values, 0.55, bottom=cont_tab.iloc[:-1, 0], color=\"yellowgreen\")\n",
    "    plt.legend((p2[0], p1[0]), ('$y_i=1$', '$y_i=0$'))\n",
    "    plt.title(\"Frequency bar chart\")\n",
    "    plt.xlabel(feature)\n",
    "    plt.xticks(rotation=\"vertical\")\n",
    "    plt.ylabel(\"$Frequency$\")\n",
    "\n",
    "    # auxiliary data for 122\n",
    "    obs_pct = np.array([np.divide(cont_tab.iloc[:-1, 0].values, cont_tab.iloc[:-1, 2].values), \n",
    "                        np.divide(cont_tab.iloc[:-1, 1].values, cont_tab.iloc[:-1, 2].values)])\n",
    "      \n",
    "    plt.subplot(122)\n",
    "    p1 = plt.bar(categories, obs_pct[0], 0.55, color=\"gray\")\n",
    "    p2 = plt.bar(categories, obs_pct[1], 0.55, bottom=obs_pct[0], color=\"yellowgreen\")\n",
    "    plt.legend((p2[0], p1[0]), ('$y_i=1$', '$y_i=0$'),labelspacing =1)\n",
    "    plt.title(\"Proportion bar chart\")\n",
    "    plt.xlabel(feature)\n",
    "    plt.ylabel(\"$p$\")\n",
    "    plt.xticks(rotation=\"vertical\")\n",
    "    plt.show()\n",
    "    "
   ]
  },
  {
   "cell_type": "code",
   "execution_count": 16,
   "metadata": {},
   "outputs": [],
   "source": [
    "def bar_charts_categorical(df, feature, target):\n",
    "    \"\"\"\n",
    "    Function that plots the frequency and the importance that a categorical variable has with the target\n",
    "    \"\"\"\n",
    "    cont_tab = pd.crosstab(df[feature], df[target], margins = True)\n",
    "    categories = cont_tab.index[:-1]\n",
    "        \n",
    "    fig = plt.figure(figsize=(15, 5))\n",
    "    \n",
    "    plt.subplot(121)\n",
    "    p1 = plt.bar(categories, cont_tab.iloc[:-1, 0].values, 0.55, color=\"gray\")\n",
    "    p2 = plt.bar(categories, cont_tab.iloc[:-1, 1].values, 0.55, bottom=cont_tab.iloc[:-1, 0], color=\"yellowgreen\")\n",
    "    plt.legend((p2[0], p1[0]), ('$y_i=1$', '$y_i=0$'))\n",
    "    plt.title(\"Frequency bar chart\")\n",
    "    plt.xlabel(feature)\n",
    "    plt.xticks(rotation=\"vertical\")\n",
    "    plt.ylabel(\"$Frequency$\")\n",
    "\n",
    "    # auxiliary data for 122\n",
    "    obs_pct = np.array([np.divide(cont_tab.iloc[:-1, 0].values, cont_tab.iloc[:-1, 2].values), \n",
    "                        np.divide(cont_tab.iloc[:-1, 1].values, cont_tab.iloc[:-1, 2].values)])\n",
    "      \n",
    "    plt.subplot(122)\n",
    "    p1 = plt.bar(categories, obs_pct[0], 0.55, color=\"gray\")\n",
    "    p2 = plt.bar(categories, obs_pct[1], 0.55, bottom=obs_pct[0], color=\"yellowgreen\")\n",
    "    plt.legend((p2[0], p1[0]), ('$y_i=1$', '$y_i=0$'),labelspacing =1)\n",
    "    plt.title(\"Proportion bar chart\")\n",
    "    plt.xlabel(feature)\n",
    "    plt.ylabel(\"$p$\")\n",
    "    plt.xticks(rotation=\"vertical\")\n",
    "    plt.show()\n",
    "    "
   ]
  },
  {
   "cell_type": "code",
   "execution_count": 17,
   "metadata": {},
   "outputs": [],
   "source": [
    "def metrics(y_train, pred_train , y_val, pred_val):\n",
    "    \"\"\"\n",
    "    Function that pritns the classification report and the confusion matrix of the train and validation dataset\n",
    "    \"\"\"\n",
    "    print('___________________________________________________________________________________________________________')\n",
    "    print('                                                     TRAIN                                                 ')\n",
    "    print('-----------------------------------------------------------------------------------------------------------')\n",
    "    print(classification_report(y_train, pred_train))\n",
    "    print(confusion_matrix(y_train, pred_train))\n",
    "\n",
    "\n",
    "    print('___________________________________________________________________________________________________________')\n",
    "    print('                                                VALIDATION                                                 ')\n",
    "    print('-----------------------------------------------------------------------------------------------------------')\n",
    "    print(classification_report(y_val, pred_val))\n",
    "    print(confusion_matrix(y_val, pred_val))\n",
    "    "
   ]
  },
  {
   "cell_type": "code",
   "execution_count": 18,
   "metadata": {},
   "outputs": [],
   "source": [
    "def micro_f1_score(y_train, pred_train , y_val, pred_val):\n",
    "    \"\"\"\n",
    "    Function that pritns the micro f1 score of the train and validation dataset\n",
    "    \"\"\"\n",
    "    print('_____________________________________')\n",
    "    print('                                                     TRAIN                                                 ')\n",
    "    print('-----------------------------------------------------------------------------------------------------------')\n",
    "    print(f1_score(y_train, pred_train, average='micro'))\n",
    "\n",
    "    print('_____________________________________')\n",
    "    print('                                                VALIDATION                                                 ')\n",
    "    print('-----------------------------------------------------------------------------------------------------------')\n",
    "    print(f1_score(y_val, pred_val, average='micro'))\n",
    "    return f1_score(y_val, pred_val, average='micro')"
   ]
  },
  {
   "cell_type": "code",
   "execution_count": 19,
   "metadata": {},
   "outputs": [],
   "source": [
    "def best_scale(model,X_train,y_train,X_test,y_test):\n",
    "    \"\"\"\n",
    "    Function that returns a table with the micro f1 score for the different scaler\n",
    "    \"\"\"\n",
    "    standard=StandardScaler().fit(X_train).transform(X_train)\n",
    "    standardTest=StandardScaler().fit(X_test).transform(X_test)\n",
    "\n",
    "    minMax=MinMaxScaler().fit(X_train).transform(X_train)\n",
    "    minMaxTest=MinMaxScaler().fit(X_test).transform(X_test)\n",
    "\n",
    "    maxAbs=MaxAbsScaler().fit(X_train).transform(X_train)\n",
    "    maxAbsTest=MaxAbsScaler().fit(X_test).transform(X_test)\n",
    "        \n",
    "    robust=RobustScaler().fit(X_train).transform(X_train)\n",
    "    robustTest=RobustScaler().fit(X_test).transform(X_test)\n",
    "\n",
    "    sclares=[standard,minMax,maxAbs,robust,X_train]\n",
    "    sclaresTest=[standardTest,minMaxTest,maxAbsTest,robustTest,X_test]\n",
    "    \n",
    "    f_score=[]\n",
    "    \n",
    "    for i in range(len(sclares)):\n",
    "        model.fit(sclares[i],y_train)\n",
    "        y_pred=model.predict(sclaresTest[i])\n",
    "        f_score.append(f1_score(y_pred,y_test,average=\"micro\"))\n",
    "        \n",
    "\n",
    "    return pd.DataFrame(f_score,index=[\"Standard\",\"MinMax\",\"MaxAbs\",\"Robust\",\"No Scaler\"], columns=[\"F1 Score\"])\n",
    "    "
   ]
  },
  {
   "cell_type": "code",
   "execution_count": 20,
   "metadata": {},
   "outputs": [],
   "source": [
    "def roc_curve_plot(model,X_train,X_test,y_test,y_train):\n",
    "    \"\"\"\n",
    "    Function that plots the roc curve for a given model\n",
    "    \"\"\"\n",
    "    fpr_train, tpr_train, thresholds_train = roc_curve(y_train, model.predict(X_train))\n",
    "    fpr_test, tpr_test, thresholds_test = roc_curve(y_test, model.predict(X_test))\n",
    "    plt.plot(fpr_train, tpr_train,label=\"ROC Curve train\")\n",
    "    plt.plot(fpr_test, tpr_test,label=\"ROC Curve test\")\n",
    "    plt.xlabel('FPR')\n",
    "    plt.ylabel('TPR')\n",
    "    plt.legend()\n",
    "    plt.show()"
   ]
  },
  {
   "cell_type": "code",
   "execution_count": 21,
   "metadata": {
    "scrolled": false
   },
   "outputs": [
    {
     "data": {
      "text/html": [
       "<div>\n",
       "<style scoped>\n",
       "    .dataframe tbody tr th:only-of-type {\n",
       "        vertical-align: middle;\n",
       "    }\n",
       "\n",
       "    .dataframe tbody tr th {\n",
       "        vertical-align: top;\n",
       "    }\n",
       "\n",
       "    .dataframe thead th {\n",
       "        text-align: right;\n",
       "    }\n",
       "</style>\n",
       "<table border=\"1\" class=\"dataframe\">\n",
       "  <thead>\n",
       "    <tr style=\"text-align: right;\">\n",
       "      <th></th>\n",
       "      <th>IsCanceled</th>\n",
       "      <th>LeadTime</th>\n",
       "      <th>ArrivalDateYear</th>\n",
       "      <th>ArrivalDateMonth</th>\n",
       "      <th>ArrivalDateWeekNumber</th>\n",
       "      <th>ArrivalDateDayOfMonth</th>\n",
       "      <th>StaysInWeekendNights</th>\n",
       "      <th>StaysInWeekNights</th>\n",
       "      <th>Adults</th>\n",
       "      <th>Children</th>\n",
       "      <th>...</th>\n",
       "      <th>DepositType</th>\n",
       "      <th>Agent</th>\n",
       "      <th>Company</th>\n",
       "      <th>DaysInWaitingList</th>\n",
       "      <th>CustomerType</th>\n",
       "      <th>ADR</th>\n",
       "      <th>RequiredCarParkingSpaces</th>\n",
       "      <th>TotalOfSpecialRequests</th>\n",
       "      <th>ReservationStatus</th>\n",
       "      <th>ReservationStatusDate</th>\n",
       "    </tr>\n",
       "  </thead>\n",
       "  <tbody>\n",
       "    <tr>\n",
       "      <th>0</th>\n",
       "      <td>0</td>\n",
       "      <td>6</td>\n",
       "      <td>2015</td>\n",
       "      <td>July</td>\n",
       "      <td>27</td>\n",
       "      <td>1</td>\n",
       "      <td>0</td>\n",
       "      <td>2</td>\n",
       "      <td>1</td>\n",
       "      <td>0.0</td>\n",
       "      <td>...</td>\n",
       "      <td>No Deposit</td>\n",
       "      <td>6</td>\n",
       "      <td>NULL</td>\n",
       "      <td>0</td>\n",
       "      <td>Transient</td>\n",
       "      <td>0.0</td>\n",
       "      <td>0</td>\n",
       "      <td>0</td>\n",
       "      <td>Check-Out</td>\n",
       "      <td>2015-07-03</td>\n",
       "    </tr>\n",
       "    <tr>\n",
       "      <th>1</th>\n",
       "      <td>1</td>\n",
       "      <td>88</td>\n",
       "      <td>2015</td>\n",
       "      <td>July</td>\n",
       "      <td>27</td>\n",
       "      <td>1</td>\n",
       "      <td>0</td>\n",
       "      <td>4</td>\n",
       "      <td>2</td>\n",
       "      <td>0.0</td>\n",
       "      <td>...</td>\n",
       "      <td>No Deposit</td>\n",
       "      <td>9</td>\n",
       "      <td>NULL</td>\n",
       "      <td>0</td>\n",
       "      <td>Transient</td>\n",
       "      <td>76.5</td>\n",
       "      <td>0</td>\n",
       "      <td>1</td>\n",
       "      <td>Canceled</td>\n",
       "      <td>2015-07-01</td>\n",
       "    </tr>\n",
       "    <tr>\n",
       "      <th>2</th>\n",
       "      <td>1</td>\n",
       "      <td>65</td>\n",
       "      <td>2015</td>\n",
       "      <td>July</td>\n",
       "      <td>27</td>\n",
       "      <td>1</td>\n",
       "      <td>0</td>\n",
       "      <td>4</td>\n",
       "      <td>1</td>\n",
       "      <td>0.0</td>\n",
       "      <td>...</td>\n",
       "      <td>No Deposit</td>\n",
       "      <td>9</td>\n",
       "      <td>NULL</td>\n",
       "      <td>0</td>\n",
       "      <td>Transient</td>\n",
       "      <td>68.0</td>\n",
       "      <td>0</td>\n",
       "      <td>1</td>\n",
       "      <td>Canceled</td>\n",
       "      <td>2015-04-30</td>\n",
       "    </tr>\n",
       "    <tr>\n",
       "      <th>3</th>\n",
       "      <td>1</td>\n",
       "      <td>92</td>\n",
       "      <td>2015</td>\n",
       "      <td>July</td>\n",
       "      <td>27</td>\n",
       "      <td>1</td>\n",
       "      <td>2</td>\n",
       "      <td>4</td>\n",
       "      <td>2</td>\n",
       "      <td>0.0</td>\n",
       "      <td>...</td>\n",
       "      <td>No Deposit</td>\n",
       "      <td>9</td>\n",
       "      <td>NULL</td>\n",
       "      <td>0</td>\n",
       "      <td>Transient</td>\n",
       "      <td>76.5</td>\n",
       "      <td>0</td>\n",
       "      <td>2</td>\n",
       "      <td>Canceled</td>\n",
       "      <td>2015-06-23</td>\n",
       "    </tr>\n",
       "    <tr>\n",
       "      <th>4</th>\n",
       "      <td>1</td>\n",
       "      <td>100</td>\n",
       "      <td>2015</td>\n",
       "      <td>July</td>\n",
       "      <td>27</td>\n",
       "      <td>2</td>\n",
       "      <td>0</td>\n",
       "      <td>2</td>\n",
       "      <td>2</td>\n",
       "      <td>0.0</td>\n",
       "      <td>...</td>\n",
       "      <td>No Deposit</td>\n",
       "      <td>9</td>\n",
       "      <td>NULL</td>\n",
       "      <td>0</td>\n",
       "      <td>Transient</td>\n",
       "      <td>76.5</td>\n",
       "      <td>0</td>\n",
       "      <td>1</td>\n",
       "      <td>Canceled</td>\n",
       "      <td>2015-04-02</td>\n",
       "    </tr>\n",
       "  </tbody>\n",
       "</table>\n",
       "<p>5 rows × 31 columns</p>\n",
       "</div>"
      ],
      "text/plain": [
       "   IsCanceled  LeadTime  ArrivalDateYear ArrivalDateMonth  \\\n",
       "0           0         6             2015             July   \n",
       "1           1        88             2015             July   \n",
       "2           1        65             2015             July   \n",
       "3           1        92             2015             July   \n",
       "4           1       100             2015             July   \n",
       "\n",
       "   ArrivalDateWeekNumber  ArrivalDateDayOfMonth  StaysInWeekendNights  \\\n",
       "0                     27                      1                     0   \n",
       "1                     27                      1                     0   \n",
       "2                     27                      1                     0   \n",
       "3                     27                      1                     2   \n",
       "4                     27                      2                     0   \n",
       "\n",
       "   StaysInWeekNights  Adults  Children  ...      DepositType        Agent  \\\n",
       "0                  2       1       0.0  ...  No Deposit                 6   \n",
       "1                  4       2       0.0  ...  No Deposit                 9   \n",
       "2                  4       1       0.0  ...  No Deposit                 9   \n",
       "3                  4       2       0.0  ...  No Deposit                 9   \n",
       "4                  2       2       0.0  ...  No Deposit                 9   \n",
       "\n",
       "       Company DaysInWaitingList CustomerType   ADR  RequiredCarParkingSpaces  \\\n",
       "0         NULL                 0    Transient   0.0                         0   \n",
       "1         NULL                 0    Transient  76.5                         0   \n",
       "2         NULL                 0    Transient  68.0                         0   \n",
       "3         NULL                 0    Transient  76.5                         0   \n",
       "4         NULL                 0    Transient  76.5                         0   \n",
       "\n",
       "   TotalOfSpecialRequests ReservationStatus ReservationStatusDate  \n",
       "0                       0         Check-Out            2015-07-03  \n",
       "1                       1          Canceled            2015-07-01  \n",
       "2                       1          Canceled            2015-04-30  \n",
       "3                       2          Canceled            2015-06-23  \n",
       "4                       1          Canceled            2015-04-02  \n",
       "\n",
       "[5 rows x 31 columns]"
      ]
     },
     "execution_count": 21,
     "metadata": {},
     "output_type": "execute_result"
    }
   ],
   "source": [
    "original = pd.read_csv(\"H2.csv\")\n",
    "original.head()"
   ]
  },
  {
   "cell_type": "code",
   "execution_count": 22,
   "metadata": {},
   "outputs": [],
   "source": [
    "df=original.copy()"
   ]
  },
  {
   "cell_type": "code",
   "execution_count": 23,
   "metadata": {},
   "outputs": [
    {
     "data": {
      "text/plain": [
       "(79330, 31)"
      ]
     },
     "execution_count": 23,
     "metadata": {},
     "output_type": "execute_result"
    }
   ],
   "source": [
    "df.shape"
   ]
  },
  {
   "cell_type": "code",
   "execution_count": 24,
   "metadata": {},
   "outputs": [],
   "source": [
    "df.replace('       NULL', np.nan, inplace=True)"
   ]
  },
  {
   "cell_type": "code",
   "execution_count": 25,
   "metadata": {
    "scrolled": false
   },
   "outputs": [
    {
     "name": "stdout",
     "output_type": "stream",
     "text": [
      "<class 'pandas.core.frame.DataFrame'>\n",
      "RangeIndex: 79330 entries, 0 to 79329\n",
      "Data columns (total 31 columns):\n",
      " #   Column                       Non-Null Count  Dtype  \n",
      "---  ------                       --------------  -----  \n",
      " 0   IsCanceled                   79330 non-null  int64  \n",
      " 1   LeadTime                     79330 non-null  int64  \n",
      " 2   ArrivalDateYear              79330 non-null  int64  \n",
      " 3   ArrivalDateMonth             79330 non-null  object \n",
      " 4   ArrivalDateWeekNumber        79330 non-null  int64  \n",
      " 5   ArrivalDateDayOfMonth        79330 non-null  int64  \n",
      " 6   StaysInWeekendNights         79330 non-null  int64  \n",
      " 7   StaysInWeekNights            79330 non-null  int64  \n",
      " 8   Adults                       79330 non-null  int64  \n",
      " 9   Children                     79326 non-null  float64\n",
      " 10  Babies                       79330 non-null  int64  \n",
      " 11  Meal                         79330 non-null  object \n",
      " 12  Country                      79306 non-null  object \n",
      " 13  MarketSegment                79330 non-null  object \n",
      " 14  DistributionChannel          79330 non-null  object \n",
      " 15  IsRepeatedGuest              79330 non-null  int64  \n",
      " 16  PreviousCancellations        79330 non-null  int64  \n",
      " 17  PreviousBookingsNotCanceled  79330 non-null  int64  \n",
      " 18  ReservedRoomType             79330 non-null  object \n",
      " 19  AssignedRoomType             79330 non-null  object \n",
      " 20  BookingChanges               79330 non-null  int64  \n",
      " 21  DepositType                  79330 non-null  object \n",
      " 22  Agent                        71199 non-null  object \n",
      " 23  Company                      3689 non-null   object \n",
      " 24  DaysInWaitingList            79330 non-null  int64  \n",
      " 25  CustomerType                 79330 non-null  object \n",
      " 26  ADR                          79330 non-null  float64\n",
      " 27  RequiredCarParkingSpaces     79330 non-null  int64  \n",
      " 28  TotalOfSpecialRequests       79330 non-null  int64  \n",
      " 29  ReservationStatus            79330 non-null  object \n",
      " 30  ReservationStatusDate        79330 non-null  object \n",
      "dtypes: float64(2), int64(16), object(13)\n",
      "memory usage: 18.8+ MB\n"
     ]
    }
   ],
   "source": [
    "df.info()"
   ]
  },
  {
   "cell_type": "code",
   "execution_count": 26,
   "metadata": {},
   "outputs": [
    {
     "data": {
      "text/plain": [
       "IsCanceled                         0\n",
       "LeadTime                           0\n",
       "ArrivalDateYear                    0\n",
       "ArrivalDateMonth                   0\n",
       "ArrivalDateWeekNumber              0\n",
       "ArrivalDateDayOfMonth              0\n",
       "StaysInWeekendNights               0\n",
       "StaysInWeekNights                  0\n",
       "Adults                             0\n",
       "Children                           4\n",
       "Babies                             0\n",
       "Meal                               0\n",
       "Country                           24\n",
       "MarketSegment                      0\n",
       "DistributionChannel                0\n",
       "IsRepeatedGuest                    0\n",
       "PreviousCancellations              0\n",
       "PreviousBookingsNotCanceled        0\n",
       "ReservedRoomType                   0\n",
       "AssignedRoomType                   0\n",
       "BookingChanges                     0\n",
       "DepositType                        0\n",
       "Agent                           8131\n",
       "Company                        75641\n",
       "DaysInWaitingList                  0\n",
       "CustomerType                       0\n",
       "ADR                                0\n",
       "RequiredCarParkingSpaces           0\n",
       "TotalOfSpecialRequests             0\n",
       "ReservationStatus                  0\n",
       "ReservationStatusDate              0\n",
       "dtype: int64"
      ]
     },
     "execution_count": 26,
     "metadata": {},
     "output_type": "execute_result"
    }
   ],
   "source": [
    "df.isna().sum()"
   ]
  },
  {
   "cell_type": "code",
   "execution_count": 27,
   "metadata": {},
   "outputs": [
    {
     "data": {
      "text/plain": [
       "IsCanceled                      0.000000\n",
       "LeadTime                        0.000000\n",
       "ArrivalDateYear                 0.000000\n",
       "ArrivalDateMonth                0.000000\n",
       "ArrivalDateWeekNumber           0.000000\n",
       "ArrivalDateDayOfMonth           0.000000\n",
       "StaysInWeekendNights            0.000000\n",
       "StaysInWeekNights               0.000000\n",
       "Adults                          0.000000\n",
       "Children                        0.005042\n",
       "Babies                          0.000000\n",
       "Meal                            0.000000\n",
       "Country                         0.030253\n",
       "MarketSegment                   0.000000\n",
       "DistributionChannel             0.000000\n",
       "IsRepeatedGuest                 0.000000\n",
       "PreviousCancellations           0.000000\n",
       "PreviousBookingsNotCanceled     0.000000\n",
       "ReservedRoomType                0.000000\n",
       "AssignedRoomType                0.000000\n",
       "BookingChanges                  0.000000\n",
       "DepositType                     0.000000\n",
       "Agent                          10.249590\n",
       "Company                        95.349805\n",
       "DaysInWaitingList               0.000000\n",
       "CustomerType                    0.000000\n",
       "ADR                             0.000000\n",
       "RequiredCarParkingSpaces        0.000000\n",
       "TotalOfSpecialRequests          0.000000\n",
       "ReservationStatus               0.000000\n",
       "ReservationStatusDate           0.000000\n",
       "dtype: float64"
      ]
     },
     "execution_count": 27,
     "metadata": {},
     "output_type": "execute_result"
    }
   ],
   "source": [
    "df.isna().sum()/len(df)*100"
   ]
  },
  {
   "cell_type": "code",
   "execution_count": 28,
   "metadata": {},
   "outputs": [],
   "source": [
    "#95% de null\n",
    "df.drop('Company',axis=1, inplace=True)"
   ]
  },
  {
   "cell_type": "code",
   "execution_count": 29,
   "metadata": {},
   "outputs": [],
   "source": [
    "#Tem demasiadas variaveis categoricas\n",
    "df.drop('ReservationStatusDate',axis=1,inplace=True)"
   ]
  },
  {
   "cell_type": "code",
   "execution_count": 30,
   "metadata": {},
   "outputs": [
    {
     "data": {
      "text/html": [
       "<div>\n",
       "<style scoped>\n",
       "    .dataframe tbody tr th:only-of-type {\n",
       "        vertical-align: middle;\n",
       "    }\n",
       "\n",
       "    .dataframe tbody tr th {\n",
       "        vertical-align: top;\n",
       "    }\n",
       "\n",
       "    .dataframe thead th {\n",
       "        text-align: right;\n",
       "    }\n",
       "</style>\n",
       "<table border=\"1\" class=\"dataframe\">\n",
       "  <thead>\n",
       "    <tr style=\"text-align: right;\">\n",
       "      <th></th>\n",
       "      <th>IsCanceled</th>\n",
       "      <th>LeadTime</th>\n",
       "      <th>ArrivalDateYear</th>\n",
       "      <th>ArrivalDateMonth</th>\n",
       "      <th>ArrivalDateWeekNumber</th>\n",
       "      <th>ArrivalDateDayOfMonth</th>\n",
       "      <th>StaysInWeekendNights</th>\n",
       "      <th>StaysInWeekNights</th>\n",
       "      <th>Adults</th>\n",
       "      <th>Children</th>\n",
       "      <th>...</th>\n",
       "      <th>AssignedRoomType</th>\n",
       "      <th>BookingChanges</th>\n",
       "      <th>DepositType</th>\n",
       "      <th>Agent</th>\n",
       "      <th>DaysInWaitingList</th>\n",
       "      <th>CustomerType</th>\n",
       "      <th>ADR</th>\n",
       "      <th>RequiredCarParkingSpaces</th>\n",
       "      <th>TotalOfSpecialRequests</th>\n",
       "      <th>ReservationStatus</th>\n",
       "    </tr>\n",
       "  </thead>\n",
       "  <tbody>\n",
       "    <tr>\n",
       "      <th>0</th>\n",
       "      <td>0</td>\n",
       "      <td>6</td>\n",
       "      <td>2015</td>\n",
       "      <td>July</td>\n",
       "      <td>27</td>\n",
       "      <td>1</td>\n",
       "      <td>0</td>\n",
       "      <td>2</td>\n",
       "      <td>1</td>\n",
       "      <td>0.0</td>\n",
       "      <td>...</td>\n",
       "      <td>A</td>\n",
       "      <td>0</td>\n",
       "      <td>No Deposit</td>\n",
       "      <td>6</td>\n",
       "      <td>0</td>\n",
       "      <td>Transient</td>\n",
       "      <td>0.00</td>\n",
       "      <td>0</td>\n",
       "      <td>0</td>\n",
       "      <td>Check-Out</td>\n",
       "    </tr>\n",
       "    <tr>\n",
       "      <th>1</th>\n",
       "      <td>1</td>\n",
       "      <td>88</td>\n",
       "      <td>2015</td>\n",
       "      <td>July</td>\n",
       "      <td>27</td>\n",
       "      <td>1</td>\n",
       "      <td>0</td>\n",
       "      <td>4</td>\n",
       "      <td>2</td>\n",
       "      <td>0.0</td>\n",
       "      <td>...</td>\n",
       "      <td>A</td>\n",
       "      <td>0</td>\n",
       "      <td>No Deposit</td>\n",
       "      <td>9</td>\n",
       "      <td>0</td>\n",
       "      <td>Transient</td>\n",
       "      <td>76.50</td>\n",
       "      <td>0</td>\n",
       "      <td>1</td>\n",
       "      <td>Canceled</td>\n",
       "    </tr>\n",
       "    <tr>\n",
       "      <th>2</th>\n",
       "      <td>1</td>\n",
       "      <td>65</td>\n",
       "      <td>2015</td>\n",
       "      <td>July</td>\n",
       "      <td>27</td>\n",
       "      <td>1</td>\n",
       "      <td>0</td>\n",
       "      <td>4</td>\n",
       "      <td>1</td>\n",
       "      <td>0.0</td>\n",
       "      <td>...</td>\n",
       "      <td>A</td>\n",
       "      <td>0</td>\n",
       "      <td>No Deposit</td>\n",
       "      <td>9</td>\n",
       "      <td>0</td>\n",
       "      <td>Transient</td>\n",
       "      <td>68.00</td>\n",
       "      <td>0</td>\n",
       "      <td>1</td>\n",
       "      <td>Canceled</td>\n",
       "    </tr>\n",
       "    <tr>\n",
       "      <th>3</th>\n",
       "      <td>1</td>\n",
       "      <td>92</td>\n",
       "      <td>2015</td>\n",
       "      <td>July</td>\n",
       "      <td>27</td>\n",
       "      <td>1</td>\n",
       "      <td>2</td>\n",
       "      <td>4</td>\n",
       "      <td>2</td>\n",
       "      <td>0.0</td>\n",
       "      <td>...</td>\n",
       "      <td>A</td>\n",
       "      <td>0</td>\n",
       "      <td>No Deposit</td>\n",
       "      <td>9</td>\n",
       "      <td>0</td>\n",
       "      <td>Transient</td>\n",
       "      <td>76.50</td>\n",
       "      <td>0</td>\n",
       "      <td>2</td>\n",
       "      <td>Canceled</td>\n",
       "    </tr>\n",
       "    <tr>\n",
       "      <th>4</th>\n",
       "      <td>1</td>\n",
       "      <td>100</td>\n",
       "      <td>2015</td>\n",
       "      <td>July</td>\n",
       "      <td>27</td>\n",
       "      <td>2</td>\n",
       "      <td>0</td>\n",
       "      <td>2</td>\n",
       "      <td>2</td>\n",
       "      <td>0.0</td>\n",
       "      <td>...</td>\n",
       "      <td>A</td>\n",
       "      <td>0</td>\n",
       "      <td>No Deposit</td>\n",
       "      <td>9</td>\n",
       "      <td>0</td>\n",
       "      <td>Transient</td>\n",
       "      <td>76.50</td>\n",
       "      <td>0</td>\n",
       "      <td>1</td>\n",
       "      <td>Canceled</td>\n",
       "    </tr>\n",
       "    <tr>\n",
       "      <th>...</th>\n",
       "      <td>...</td>\n",
       "      <td>...</td>\n",
       "      <td>...</td>\n",
       "      <td>...</td>\n",
       "      <td>...</td>\n",
       "      <td>...</td>\n",
       "      <td>...</td>\n",
       "      <td>...</td>\n",
       "      <td>...</td>\n",
       "      <td>...</td>\n",
       "      <td>...</td>\n",
       "      <td>...</td>\n",
       "      <td>...</td>\n",
       "      <td>...</td>\n",
       "      <td>...</td>\n",
       "      <td>...</td>\n",
       "      <td>...</td>\n",
       "      <td>...</td>\n",
       "      <td>...</td>\n",
       "      <td>...</td>\n",
       "      <td>...</td>\n",
       "    </tr>\n",
       "    <tr>\n",
       "      <th>79325</th>\n",
       "      <td>0</td>\n",
       "      <td>23</td>\n",
       "      <td>2017</td>\n",
       "      <td>August</td>\n",
       "      <td>35</td>\n",
       "      <td>30</td>\n",
       "      <td>2</td>\n",
       "      <td>5</td>\n",
       "      <td>2</td>\n",
       "      <td>0.0</td>\n",
       "      <td>...</td>\n",
       "      <td>A</td>\n",
       "      <td>0</td>\n",
       "      <td>No Deposit</td>\n",
       "      <td>394</td>\n",
       "      <td>0</td>\n",
       "      <td>Transient</td>\n",
       "      <td>96.14</td>\n",
       "      <td>0</td>\n",
       "      <td>0</td>\n",
       "      <td>Check-Out</td>\n",
       "    </tr>\n",
       "    <tr>\n",
       "      <th>79326</th>\n",
       "      <td>0</td>\n",
       "      <td>102</td>\n",
       "      <td>2017</td>\n",
       "      <td>August</td>\n",
       "      <td>35</td>\n",
       "      <td>31</td>\n",
       "      <td>2</td>\n",
       "      <td>5</td>\n",
       "      <td>3</td>\n",
       "      <td>0.0</td>\n",
       "      <td>...</td>\n",
       "      <td>E</td>\n",
       "      <td>0</td>\n",
       "      <td>No Deposit</td>\n",
       "      <td>9</td>\n",
       "      <td>0</td>\n",
       "      <td>Transient</td>\n",
       "      <td>225.43</td>\n",
       "      <td>0</td>\n",
       "      <td>2</td>\n",
       "      <td>Check-Out</td>\n",
       "    </tr>\n",
       "    <tr>\n",
       "      <th>79327</th>\n",
       "      <td>0</td>\n",
       "      <td>34</td>\n",
       "      <td>2017</td>\n",
       "      <td>August</td>\n",
       "      <td>35</td>\n",
       "      <td>31</td>\n",
       "      <td>2</td>\n",
       "      <td>5</td>\n",
       "      <td>2</td>\n",
       "      <td>0.0</td>\n",
       "      <td>...</td>\n",
       "      <td>D</td>\n",
       "      <td>0</td>\n",
       "      <td>No Deposit</td>\n",
       "      <td>9</td>\n",
       "      <td>0</td>\n",
       "      <td>Transient</td>\n",
       "      <td>157.71</td>\n",
       "      <td>0</td>\n",
       "      <td>4</td>\n",
       "      <td>Check-Out</td>\n",
       "    </tr>\n",
       "    <tr>\n",
       "      <th>79328</th>\n",
       "      <td>0</td>\n",
       "      <td>109</td>\n",
       "      <td>2017</td>\n",
       "      <td>August</td>\n",
       "      <td>35</td>\n",
       "      <td>31</td>\n",
       "      <td>2</td>\n",
       "      <td>5</td>\n",
       "      <td>2</td>\n",
       "      <td>0.0</td>\n",
       "      <td>...</td>\n",
       "      <td>A</td>\n",
       "      <td>0</td>\n",
       "      <td>No Deposit</td>\n",
       "      <td>89</td>\n",
       "      <td>0</td>\n",
       "      <td>Transient</td>\n",
       "      <td>104.40</td>\n",
       "      <td>0</td>\n",
       "      <td>0</td>\n",
       "      <td>Check-Out</td>\n",
       "    </tr>\n",
       "    <tr>\n",
       "      <th>79329</th>\n",
       "      <td>0</td>\n",
       "      <td>205</td>\n",
       "      <td>2017</td>\n",
       "      <td>August</td>\n",
       "      <td>35</td>\n",
       "      <td>29</td>\n",
       "      <td>2</td>\n",
       "      <td>7</td>\n",
       "      <td>2</td>\n",
       "      <td>0.0</td>\n",
       "      <td>...</td>\n",
       "      <td>A</td>\n",
       "      <td>0</td>\n",
       "      <td>No Deposit</td>\n",
       "      <td>9</td>\n",
       "      <td>0</td>\n",
       "      <td>Transient</td>\n",
       "      <td>151.20</td>\n",
       "      <td>0</td>\n",
       "      <td>2</td>\n",
       "      <td>Check-Out</td>\n",
       "    </tr>\n",
       "  </tbody>\n",
       "</table>\n",
       "<p>79330 rows × 29 columns</p>\n",
       "</div>"
      ],
      "text/plain": [
       "       IsCanceled  LeadTime  ArrivalDateYear ArrivalDateMonth  \\\n",
       "0               0         6             2015             July   \n",
       "1               1        88             2015             July   \n",
       "2               1        65             2015             July   \n",
       "3               1        92             2015             July   \n",
       "4               1       100             2015             July   \n",
       "...           ...       ...              ...              ...   \n",
       "79325           0        23             2017           August   \n",
       "79326           0       102             2017           August   \n",
       "79327           0        34             2017           August   \n",
       "79328           0       109             2017           August   \n",
       "79329           0       205             2017           August   \n",
       "\n",
       "       ArrivalDateWeekNumber  ArrivalDateDayOfMonth  StaysInWeekendNights  \\\n",
       "0                         27                      1                     0   \n",
       "1                         27                      1                     0   \n",
       "2                         27                      1                     0   \n",
       "3                         27                      1                     2   \n",
       "4                         27                      2                     0   \n",
       "...                      ...                    ...                   ...   \n",
       "79325                     35                     30                     2   \n",
       "79326                     35                     31                     2   \n",
       "79327                     35                     31                     2   \n",
       "79328                     35                     31                     2   \n",
       "79329                     35                     29                     2   \n",
       "\n",
       "       StaysInWeekNights  Adults  Children  ...  AssignedRoomType  \\\n",
       "0                      2       1       0.0  ...  A                  \n",
       "1                      4       2       0.0  ...  A                  \n",
       "2                      4       1       0.0  ...  A                  \n",
       "3                      4       2       0.0  ...  A                  \n",
       "4                      2       2       0.0  ...  A                  \n",
       "...                  ...     ...       ...  ...               ...   \n",
       "79325                  5       2       0.0  ...  A                  \n",
       "79326                  5       3       0.0  ...  E                  \n",
       "79327                  5       2       0.0  ...  D                  \n",
       "79328                  5       2       0.0  ...  A                  \n",
       "79329                  7       2       0.0  ...  A                  \n",
       "\n",
       "      BookingChanges      DepositType        Agent DaysInWaitingList  \\\n",
       "0                  0  No Deposit                 6                 0   \n",
       "1                  0  No Deposit                 9                 0   \n",
       "2                  0  No Deposit                 9                 0   \n",
       "3                  0  No Deposit                 9                 0   \n",
       "4                  0  No Deposit                 9                 0   \n",
       "...              ...              ...          ...               ...   \n",
       "79325              0  No Deposit               394                 0   \n",
       "79326              0  No Deposit                 9                 0   \n",
       "79327              0  No Deposit                 9                 0   \n",
       "79328              0  No Deposit                89                 0   \n",
       "79329              0  No Deposit                 9                 0   \n",
       "\n",
       "       CustomerType     ADR  RequiredCarParkingSpaces TotalOfSpecialRequests  \\\n",
       "0         Transient    0.00                         0                      0   \n",
       "1         Transient   76.50                         0                      1   \n",
       "2         Transient   68.00                         0                      1   \n",
       "3         Transient   76.50                         0                      2   \n",
       "4         Transient   76.50                         0                      1   \n",
       "...             ...     ...                       ...                    ...   \n",
       "79325     Transient   96.14                         0                      0   \n",
       "79326     Transient  225.43                         0                      2   \n",
       "79327     Transient  157.71                         0                      4   \n",
       "79328     Transient  104.40                         0                      0   \n",
       "79329     Transient  151.20                         0                      2   \n",
       "\n",
       "      ReservationStatus  \n",
       "0             Check-Out  \n",
       "1              Canceled  \n",
       "2              Canceled  \n",
       "3              Canceled  \n",
       "4              Canceled  \n",
       "...                 ...  \n",
       "79325         Check-Out  \n",
       "79326         Check-Out  \n",
       "79327         Check-Out  \n",
       "79328         Check-Out  \n",
       "79329         Check-Out  \n",
       "\n",
       "[79330 rows x 29 columns]"
      ]
     },
     "execution_count": 30,
     "metadata": {},
     "output_type": "execute_result"
    }
   ],
   "source": [
    "df"
   ]
  },
  {
   "cell_type": "code",
   "execution_count": 31,
   "metadata": {},
   "outputs": [],
   "source": [
    "categorical = df.select_dtypes(include=\"object\").columns.to_list()\n",
    "numerical = df.columns.drop(categorical).drop(\"IsCanceled\").to_list()"
   ]
  },
  {
   "cell_type": "code",
   "execution_count": 32,
   "metadata": {
    "scrolled": false
   },
   "outputs": [
    {
     "data": {
      "image/png": "[encoded data removed]",
      "text/plain": [
       "<Figure size 1080x360 with 2 Axes>"
      ]
     },
     "metadata": {
      "needs_background": "light"
     },
     "output_type": "display_data"
    },
    {
     "data": {
      "image/png": "[encoded data removed]",
      "text/plain": [
       "<Figure size 1080x360 with 2 Axes>"
      ]
     },
     "metadata": {
      "needs_background": "light"
     },
     "output_type": "display_data"
    },
    {
     "data": {
      "image/png": "[encoded data removed]",
      "text/plain": [
       "<Figure size 1080x360 with 2 Axes>"
      ]
     },
     "metadata": {
      "needs_background": "light"
     },
     "output_type": "display_data"
    },
    {
     "data": {
      "image/png": "[encoded data removed]",
      "text/plain": [
       "<Figure size 1080x360 with 2 Axes>"
      ]
     },
     "metadata": {
      "needs_background": "light"
     },
     "output_type": "display_data"
    },
    {
     "data": {
      "image/png": "[encoded data removed]",
      "text/plain": [
       "<Figure size 1080x360 with 2 Axes>"
      ]
     },
     "metadata": {
      "needs_background": "light"
     },
     "output_type": "display_data"
    },
    {
     "data": {
      "image/png": "[encoded data removed]",
      "text/plain": [
       "<Figure size 1080x360 with 2 Axes>"
      ]
     },
     "metadata": {
      "needs_background": "light"
     },
     "output_type": "display_data"
    },
    {
     "data": {
      "image/png": "[encoded data removed]",
      "text/plain": [
       "<Figure size 1080x360 with 2 Axes>"
      ]
     },
     "metadata": {
      "needs_background": "light"
     },
     "output_type": "display_data"
    },
    {
     "data": {
      "image/png": "[encoded data removed]",
      "text/plain": [
       "<Figure size 1080x360 with 2 Axes>"
      ]
     },
     "metadata": {
      "needs_background": "light"
     },
     "output_type": "display_data"
    },
    {
     "data": {
      "image/png": "[encoded data removed]",
      "text/plain": [
       "<Figure size 1080x360 with 2 Axes>"
      ]
     },
     "metadata": {
      "needs_background": "light"
     },
     "output_type": "display_data"
    },
    {
     "data": {
      "image/png": "[encoded data removed]",
      "text/plain": [
       "<Figure size 1080x360 with 2 Axes>"
      ]
     },
     "metadata": {
      "needs_background": "light"
     },
     "output_type": "display_data"
    },
    {
     "data": {
      "image/png": "[encoded data removed]",
      "text/plain": [
       "<Figure size 1080x360 with 2 Axes>"
      ]
     },
     "metadata": {
      "needs_background": "light"
     },
     "output_type": "display_data"
    }
   ],
   "source": [
    "for i in categorical:   \n",
    "    bar_charts_categorical(df, i, \"IsCanceled\")"
   ]
  },
  {
   "cell_type": "code",
   "execution_count": 33,
   "metadata": {},
   "outputs": [],
   "source": [
    "#Demasiadas categorias\n",
    "df.drop('Country', axis=1, inplace=True)\n",
    "df.drop('Agent', axis=1, inplace=True)"
   ]
  },
  {
   "cell_type": "code",
   "execution_count": 34,
   "metadata": {},
   "outputs": [],
   "source": [
    "#muitas variavies categoricas e transmitem todas a msm informação\n",
    "df.drop(['ReservedRoomType','AssignedRoomType'],axis=1,inplace=True)"
   ]
  },
  {
   "cell_type": "code",
   "execution_count": 35,
   "metadata": {},
   "outputs": [],
   "source": [
    "df.drop('ReservationStatus',axis=1,inplace=True)"
   ]
  },
  {
   "cell_type": "markdown",
   "metadata": {},
   "source": [
    "### Feature Engineering"
   ]
  },
  {
   "cell_type": "code",
   "execution_count": 36,
   "metadata": {},
   "outputs": [],
   "source": [
    "df['ArrivalDateSeason'] = df['ArrivalDateMonth']"
   ]
  },
  {
   "cell_type": "code",
   "execution_count": 37,
   "metadata": {},
   "outputs": [],
   "source": [
    "season= {'January':'Winter', 'February': 'Winter', 'March': 'Spring','April':'Spring','May':'Spring','June':'Summer','July':'Summer','August':'Summer', 'September':'Autumn','October':'Autumn','November': 'Autumn', 'December': 'Winter'}"
   ]
  },
  {
   "cell_type": "code",
   "execution_count": 38,
   "metadata": {},
   "outputs": [],
   "source": [
    "df.ArrivalDateSeason.replace(season,inplace=True)"
   ]
  },
  {
   "cell_type": "code",
   "execution_count": 39,
   "metadata": {},
   "outputs": [],
   "source": [
    "df.drop('ArrivalDateMonth',axis=1,inplace=True)"
   ]
  },
  {
   "cell_type": "code",
   "execution_count": 40,
   "metadata": {},
   "outputs": [],
   "source": [
    "categorical = df.select_dtypes(include=\"object\").columns.to_list()\n",
    "numerical = df.columns.drop(categorical).drop(\"IsCanceled\").to_list()"
   ]
  },
  {
   "cell_type": "code",
   "execution_count": 41,
   "metadata": {},
   "outputs": [
    {
     "data": {
      "text/html": [
       "<div>\n",
       "<style scoped>\n",
       "    .dataframe tbody tr th:only-of-type {\n",
       "        vertical-align: middle;\n",
       "    }\n",
       "\n",
       "    .dataframe tbody tr th {\n",
       "        vertical-align: top;\n",
       "    }\n",
       "\n",
       "    .dataframe thead th {\n",
       "        text-align: right;\n",
       "    }\n",
       "</style>\n",
       "<table border=\"1\" class=\"dataframe\">\n",
       "  <thead>\n",
       "    <tr style=\"text-align: right;\">\n",
       "      <th></th>\n",
       "      <th>Meal</th>\n",
       "      <th>MarketSegment</th>\n",
       "      <th>DistributionChannel</th>\n",
       "      <th>DepositType</th>\n",
       "      <th>CustomerType</th>\n",
       "      <th>ArrivalDateSeason</th>\n",
       "    </tr>\n",
       "  </thead>\n",
       "  <tbody>\n",
       "    <tr>\n",
       "      <th>0</th>\n",
       "      <td>HB</td>\n",
       "      <td>Offline TA/TO</td>\n",
       "      <td>TA/TO</td>\n",
       "      <td>No Deposit</td>\n",
       "      <td>Transient</td>\n",
       "      <td>Summer</td>\n",
       "    </tr>\n",
       "    <tr>\n",
       "      <th>1</th>\n",
       "      <td>BB</td>\n",
       "      <td>Online TA</td>\n",
       "      <td>TA/TO</td>\n",
       "      <td>No Deposit</td>\n",
       "      <td>Transient</td>\n",
       "      <td>Summer</td>\n",
       "    </tr>\n",
       "    <tr>\n",
       "      <th>2</th>\n",
       "      <td>BB</td>\n",
       "      <td>Online TA</td>\n",
       "      <td>TA/TO</td>\n",
       "      <td>No Deposit</td>\n",
       "      <td>Transient</td>\n",
       "      <td>Summer</td>\n",
       "    </tr>\n",
       "    <tr>\n",
       "      <th>3</th>\n",
       "      <td>BB</td>\n",
       "      <td>Online TA</td>\n",
       "      <td>TA/TO</td>\n",
       "      <td>No Deposit</td>\n",
       "      <td>Transient</td>\n",
       "      <td>Summer</td>\n",
       "    </tr>\n",
       "    <tr>\n",
       "      <th>4</th>\n",
       "      <td>BB</td>\n",
       "      <td>Online TA</td>\n",
       "      <td>TA/TO</td>\n",
       "      <td>No Deposit</td>\n",
       "      <td>Transient</td>\n",
       "      <td>Summer</td>\n",
       "    </tr>\n",
       "    <tr>\n",
       "      <th>...</th>\n",
       "      <td>...</td>\n",
       "      <td>...</td>\n",
       "      <td>...</td>\n",
       "      <td>...</td>\n",
       "      <td>...</td>\n",
       "      <td>...</td>\n",
       "    </tr>\n",
       "    <tr>\n",
       "      <th>79325</th>\n",
       "      <td>BB</td>\n",
       "      <td>Offline TA/TO</td>\n",
       "      <td>TA/TO</td>\n",
       "      <td>No Deposit</td>\n",
       "      <td>Transient</td>\n",
       "      <td>Summer</td>\n",
       "    </tr>\n",
       "    <tr>\n",
       "      <th>79326</th>\n",
       "      <td>BB</td>\n",
       "      <td>Online TA</td>\n",
       "      <td>TA/TO</td>\n",
       "      <td>No Deposit</td>\n",
       "      <td>Transient</td>\n",
       "      <td>Summer</td>\n",
       "    </tr>\n",
       "    <tr>\n",
       "      <th>79327</th>\n",
       "      <td>BB</td>\n",
       "      <td>Online TA</td>\n",
       "      <td>TA/TO</td>\n",
       "      <td>No Deposit</td>\n",
       "      <td>Transient</td>\n",
       "      <td>Summer</td>\n",
       "    </tr>\n",
       "    <tr>\n",
       "      <th>79328</th>\n",
       "      <td>BB</td>\n",
       "      <td>Online TA</td>\n",
       "      <td>TA/TO</td>\n",
       "      <td>No Deposit</td>\n",
       "      <td>Transient</td>\n",
       "      <td>Summer</td>\n",
       "    </tr>\n",
       "    <tr>\n",
       "      <th>79329</th>\n",
       "      <td>HB</td>\n",
       "      <td>Online TA</td>\n",
       "      <td>TA/TO</td>\n",
       "      <td>No Deposit</td>\n",
       "      <td>Transient</td>\n",
       "      <td>Summer</td>\n",
       "    </tr>\n",
       "  </tbody>\n",
       "</table>\n",
       "<p>79330 rows × 6 columns</p>\n",
       "</div>"
      ],
      "text/plain": [
       "            Meal  MarketSegment DistributionChannel      DepositType  \\\n",
       "0      HB         Offline TA/TO               TA/TO  No Deposit        \n",
       "1      BB             Online TA               TA/TO  No Deposit        \n",
       "2      BB             Online TA               TA/TO  No Deposit        \n",
       "3      BB             Online TA               TA/TO  No Deposit        \n",
       "4      BB             Online TA               TA/TO  No Deposit        \n",
       "...          ...            ...                 ...              ...   \n",
       "79325  BB         Offline TA/TO               TA/TO  No Deposit        \n",
       "79326  BB             Online TA               TA/TO  No Deposit        \n",
       "79327  BB             Online TA               TA/TO  No Deposit        \n",
       "79328  BB             Online TA               TA/TO  No Deposit        \n",
       "79329  HB             Online TA               TA/TO  No Deposit        \n",
       "\n",
       "      CustomerType ArrivalDateSeason  \n",
       "0        Transient            Summer  \n",
       "1        Transient            Summer  \n",
       "2        Transient            Summer  \n",
       "3        Transient            Summer  \n",
       "4        Transient            Summer  \n",
       "...            ...               ...  \n",
       "79325    Transient            Summer  \n",
       "79326    Transient            Summer  \n",
       "79327    Transient            Summer  \n",
       "79328    Transient            Summer  \n",
       "79329    Transient            Summer  \n",
       "\n",
       "[79330 rows x 6 columns]"
      ]
     },
     "execution_count": 41,
     "metadata": {},
     "output_type": "execute_result"
    }
   ],
   "source": [
    "df[categorical]"
   ]
  },
  {
   "cell_type": "code",
   "execution_count": 42,
   "metadata": {},
   "outputs": [
    {
     "data": {
      "text/plain": [
       "17"
      ]
     },
     "execution_count": 42,
     "metadata": {},
     "output_type": "execute_result"
    }
   ],
   "source": [
    "len(numerical)"
   ]
  },
  {
   "cell_type": "code",
   "execution_count": 43,
   "metadata": {},
   "outputs": [],
   "source": [
    "numerical.remove(numerical[9])"
   ]
  },
  {
   "cell_type": "code",
   "execution_count": 44,
   "metadata": {},
   "outputs": [
    {
     "data": {
      "text/plain": [
       "16"
      ]
     },
     "execution_count": 44,
     "metadata": {},
     "output_type": "execute_result"
    }
   ],
   "source": [
    "len(numerical)"
   ]
  },
  {
   "cell_type": "markdown",
   "metadata": {},
   "source": [
    "<div class=\"alert alert-block alert-info\">\n",
    "    \n",
    "## <font color='#E8800A'>6 - Data Visualization and Feature Engineering for Numerical Features</font> <a class=\"anchor\" id=\"sixth-bullet\"></a>\n",
    "    \n",
    "</div>"
   ]
  },
  {
   "cell_type": "code",
   "execution_count": 45,
   "metadata": {},
   "outputs": [
    {
     "data": {
      "image/png": "[encoded data removed]",
      "text/plain": [
       "<Figure size 1440x1440 with 16 Axes>"
      ]
     },
     "metadata": {},
     "output_type": "display_data"
    }
   ],
   "source": [
    "sns.set()\n",
    "fig, axes = plt.subplots(len(numerical), ceil(len(numerical) / len(numerical)), figsize=(20, 20))\n",
    "for ax, feat in zip(axes.flatten(), numerical):\n",
    "    sns.boxplot(x=df[feat], ax=ax) \n",
    "plt.show()"
   ]
  },
  {
   "cell_type": "code",
   "execution_count": 46,
   "metadata": {},
   "outputs": [
    {
     "data": {
      "image/png": "[encoded data removed]",
      "text/plain": [
       "<Figure size 720x720 with 2 Axes>"
      ]
     },
     "metadata": {},
     "output_type": "display_data"
    }
   ],
   "source": [
    "heatmap_pearson(df.corr(method='pearson').abs())"
   ]
  },
  {
   "cell_type": "code",
   "execution_count": 47,
   "metadata": {},
   "outputs": [
    {
     "name": "stdout",
     "output_type": "stream",
     "text": [
      "interval columns not set, guessing: ['IsCanceled', 'LeadTime', 'ArrivalDateYear', 'ArrivalDateWeekNumber', 'ArrivalDateDayOfMonth', 'StaysInWeekendNights', 'StaysInWeekNights', 'Adults', 'Children', 'Babies', 'IsRepeatedGuest', 'PreviousCancellations', 'PreviousBookingsNotCanceled', 'BookingChanges', 'DaysInWaitingList', 'ADR', 'RequiredCarParkingSpaces', 'TotalOfSpecialRequests']\n"
     ]
    },
    {
     "data": {
      "image/png": "[encoded data removed]",
      "text/plain": [
       "<Figure size 720x720 with 2 Axes>"
      ]
     },
     "metadata": {},
     "output_type": "display_data"
    }
   ],
   "source": [
    "heatmap_phik(df.phik_matrix().abs())"
   ]
  },
  {
   "cell_type": "markdown",
   "metadata": {},
   "source": [
    "<div class=\"alert alert-block alert-info\">\n",
    "\n",
    "### Data Imputation\n",
    "    \n",
    "</div>"
   ]
  },
  {
   "cell_type": "code",
   "execution_count": 48,
   "metadata": {},
   "outputs": [
    {
     "data": {
      "text/plain": [
       "IsCanceled                     0\n",
       "LeadTime                       0\n",
       "ArrivalDateYear                0\n",
       "ArrivalDateWeekNumber          0\n",
       "ArrivalDateDayOfMonth          0\n",
       "StaysInWeekendNights           0\n",
       "StaysInWeekNights              0\n",
       "Adults                         0\n",
       "Children                       4\n",
       "Babies                         0\n",
       "Meal                           0\n",
       "MarketSegment                  0\n",
       "DistributionChannel            0\n",
       "IsRepeatedGuest                0\n",
       "PreviousCancellations          0\n",
       "PreviousBookingsNotCanceled    0\n",
       "BookingChanges                 0\n",
       "DepositType                    0\n",
       "DaysInWaitingList              0\n",
       "CustomerType                   0\n",
       "ADR                            0\n",
       "RequiredCarParkingSpaces       0\n",
       "TotalOfSpecialRequests         0\n",
       "ArrivalDateSeason              0\n",
       "dtype: int64"
      ]
     },
     "execution_count": 48,
     "metadata": {},
     "output_type": "execute_result"
    }
   ],
   "source": [
    "df.isna().sum()"
   ]
  },
  {
   "cell_type": "code",
   "execution_count": 49,
   "metadata": {},
   "outputs": [],
   "source": [
    "imputer = KNNImputer(n_neighbors=4)\n",
    "metric_features = df.columns.to_list()\n",
    "df[numerical] = imputer.fit_transform(df[numerical])"
   ]
  },
  {
   "cell_type": "code",
   "execution_count": 50,
   "metadata": {},
   "outputs": [
    {
     "data": {
      "text/plain": [
       "IsCanceled                     0\n",
       "LeadTime                       0\n",
       "ArrivalDateYear                0\n",
       "ArrivalDateWeekNumber          0\n",
       "ArrivalDateDayOfMonth          0\n",
       "StaysInWeekendNights           0\n",
       "StaysInWeekNights              0\n",
       "Adults                         0\n",
       "Children                       0\n",
       "Babies                         0\n",
       "Meal                           0\n",
       "MarketSegment                  0\n",
       "DistributionChannel            0\n",
       "IsRepeatedGuest                0\n",
       "PreviousCancellations          0\n",
       "PreviousBookingsNotCanceled    0\n",
       "BookingChanges                 0\n",
       "DepositType                    0\n",
       "DaysInWaitingList              0\n",
       "CustomerType                   0\n",
       "ADR                            0\n",
       "RequiredCarParkingSpaces       0\n",
       "TotalOfSpecialRequests         0\n",
       "ArrivalDateSeason              0\n",
       "dtype: int64"
      ]
     },
     "execution_count": 50,
     "metadata": {},
     "output_type": "execute_result"
    }
   ],
   "source": [
    "df.isna().sum()"
   ]
  },
  {
   "cell_type": "markdown",
   "metadata": {},
   "source": [
    "## Outliers"
   ]
  },
  {
   "cell_type": "markdown",
   "metadata": {},
   "source": [
    "#### Isolation Forest"
   ]
  },
  {
   "cell_type": "code",
   "execution_count": 51,
   "metadata": {},
   "outputs": [],
   "source": [
    "data_central = df.copy()"
   ]
  },
  {
   "cell_type": "code",
   "execution_count": 52,
   "metadata": {},
   "outputs": [],
   "source": [
    "iso = IsolationForest(contamination=0.01)\n",
    "iso_df = iso.fit_predict(data_central[numerical])"
   ]
  },
  {
   "cell_type": "code",
   "execution_count": 53,
   "metadata": {},
   "outputs": [],
   "source": [
    "mask_out =iso_df == -1\n",
    "outliers_if=data_central[mask_out]\n",
    "data_central.drop(outliers_if.index,inplace=True)"
   ]
  },
  {
   "cell_type": "code",
   "execution_count": 54,
   "metadata": {},
   "outputs": [
    {
     "name": "stdout",
     "output_type": "stream",
     "text": [
      "Percentage of data removed after outliers: 1.001 %\n"
     ]
    }
   ],
   "source": [
    "print('Percentage of data removed after outliers:',\n",
    "      np.round(1 -  np.round(data_central.shape[0] / original.shape[0], 5), 5)*100, \"%\")"
   ]
  },
  {
   "cell_type": "markdown",
   "metadata": {},
   "source": [
    "#### Minimum Covariance Determinant"
   ]
  },
  {
   "cell_type": "code",
   "execution_count": 55,
   "metadata": {},
   "outputs": [],
   "source": [
    "ee = EllipticEnvelope(contamination=0.019)\n",
    "ee_df = ee.fit_predict(data_central[numerical])"
   ]
  },
  {
   "cell_type": "code",
   "execution_count": 56,
   "metadata": {},
   "outputs": [],
   "source": [
    "mask_out =ee_df == -1\n",
    "outliers_mcd=data_central[mask_out]\n",
    "data_central.drop(outliers_mcd.index,inplace=True)"
   ]
  },
  {
   "cell_type": "code",
   "execution_count": 57,
   "metadata": {},
   "outputs": [
    {
     "name": "stdout",
     "output_type": "stream",
     "text": [
      "Percentage of data removed after outliers: 2.8449999999999998 %\n"
     ]
    }
   ],
   "source": [
    "print('Percentage of data removed after outliers:',\n",
    "      np.round(1 -  np.round(data_central.shape[0] / original.shape[0], 5), 5)*100, \"%\")"
   ]
  },
  {
   "cell_type": "markdown",
   "metadata": {},
   "source": [
    "#### PCA Visualization of outliers"
   ]
  },
  {
   "cell_type": "code",
   "execution_count": 63,
   "metadata": {},
   "outputs": [],
   "source": [
    "df_pca = df.copy()"
   ]
  },
  {
   "cell_type": "code",
   "execution_count": 65,
   "metadata": {
    "scrolled": false
   },
   "outputs": [
    {
     "data": {
      "text/plain": [
       "array([[-9.69016129e+01, -1.11713905e+02, -2.42087610e+00, ...,\n",
       "        -9.64084765e-03, -1.55475996e-02, -3.06741108e-03],\n",
       "       [-1.99835369e+01, -3.01368448e+01, -3.35479861e+00, ...,\n",
       "         1.71974639e-01, -3.15044631e-02, -9.99064996e-03],\n",
       "       [-4.23802324e+01, -4.00930411e+01, -2.76598199e+00, ...,\n",
       "         2.95985723e-01, -2.68498291e-02, -8.38455874e-03],\n",
       "       ...,\n",
       "       [-7.88253890e+01,  4.77084591e+01,  8.56945634e-01, ...,\n",
       "         2.79163148e-01, -5.74615215e-02, -2.55690970e-02],\n",
       "       [-6.50774614e-01, -6.76528542e-01, -3.09683778e+00, ...,\n",
       "        -7.35814273e-02,  1.18377530e-02,  3.72758709e-03],\n",
       "       [ 9.21081918e+01,  5.21586982e+01, -5.29351109e+00, ...,\n",
       "         2.32952827e-01, -8.41167921e-03, -8.48442294e-03]])"
      ]
     },
     "execution_count": 65,
     "metadata": {},
     "output_type": "execute_result"
    }
   ],
   "source": [
    "# Use PCA to reduce dimensionality of data\n",
    "pca = PCA()\n",
    "pca_feat = pca.fit_transform(df_pca[numerical])\n",
    "pca_feat  # What is this output?"
   ]
  },
  {
   "cell_type": "code",
   "execution_count": 66,
   "metadata": {},
   "outputs": [
    {
     "data": {
      "text/html": [
       "<div>\n",
       "<style scoped>\n",
       "    .dataframe tbody tr th:only-of-type {\n",
       "        vertical-align: middle;\n",
       "    }\n",
       "\n",
       "    .dataframe tbody tr th {\n",
       "        vertical-align: top;\n",
       "    }\n",
       "\n",
       "    .dataframe thead th {\n",
       "        text-align: right;\n",
       "    }\n",
       "</style>\n",
       "<table border=\"1\" class=\"dataframe\">\n",
       "  <thead>\n",
       "    <tr style=\"text-align: right;\">\n",
       "      <th></th>\n",
       "      <th>Eigenvalue</th>\n",
       "      <th>Difference</th>\n",
       "      <th>Proportion</th>\n",
       "      <th>Cumulative</th>\n",
       "    </tr>\n",
       "  </thead>\n",
       "  <tbody>\n",
       "    <tr>\n",
       "      <th>1</th>\n",
       "      <td>12370.807508</td>\n",
       "      <td>0.000000</td>\n",
       "      <td>8.297023e-01</td>\n",
       "      <td>0.829702</td>\n",
       "    </tr>\n",
       "    <tr>\n",
       "      <th>2</th>\n",
       "      <td>1860.263325</td>\n",
       "      <td>-10510.544183</td>\n",
       "      <td>1.247667e-01</td>\n",
       "      <td>0.954469</td>\n",
       "    </tr>\n",
       "    <tr>\n",
       "      <th>3</th>\n",
       "      <td>418.948423</td>\n",
       "      <td>-1441.314902</td>\n",
       "      <td>2.809861e-02</td>\n",
       "      <td>0.982568</td>\n",
       "    </tr>\n",
       "    <tr>\n",
       "      <th>4</th>\n",
       "      <td>176.789502</td>\n",
       "      <td>-242.158921</td>\n",
       "      <td>1.185716e-02</td>\n",
       "      <td>0.994425</td>\n",
       "    </tr>\n",
       "    <tr>\n",
       "      <th>5</th>\n",
       "      <td>75.599803</td>\n",
       "      <td>-101.189698</td>\n",
       "      <td>5.070431e-03</td>\n",
       "      <td>0.999495</td>\n",
       "    </tr>\n",
       "    <tr>\n",
       "      <th>6</th>\n",
       "      <td>2.877591</td>\n",
       "      <td>-72.722212</td>\n",
       "      <td>1.929982e-04</td>\n",
       "      <td>0.999688</td>\n",
       "    </tr>\n",
       "    <tr>\n",
       "      <th>7</th>\n",
       "      <td>2.161458</td>\n",
       "      <td>-0.716132</td>\n",
       "      <td>1.449677e-04</td>\n",
       "      <td>0.999833</td>\n",
       "    </tr>\n",
       "    <tr>\n",
       "      <th>8</th>\n",
       "      <td>0.729202</td>\n",
       "      <td>-1.432256</td>\n",
       "      <td>4.890712e-05</td>\n",
       "      <td>0.999882</td>\n",
       "    </tr>\n",
       "    <tr>\n",
       "      <th>9</th>\n",
       "      <td>0.589575</td>\n",
       "      <td>-0.139627</td>\n",
       "      <td>3.954243e-05</td>\n",
       "      <td>0.999922</td>\n",
       "    </tr>\n",
       "    <tr>\n",
       "      <th>10</th>\n",
       "      <td>0.374184</td>\n",
       "      <td>-0.215391</td>\n",
       "      <td>2.509630e-05</td>\n",
       "      <td>0.999947</td>\n",
       "    </tr>\n",
       "    <tr>\n",
       "      <th>11</th>\n",
       "      <td>0.300744</td>\n",
       "      <td>-0.073441</td>\n",
       "      <td>2.017069e-05</td>\n",
       "      <td>0.999967</td>\n",
       "    </tr>\n",
       "    <tr>\n",
       "      <th>12</th>\n",
       "      <td>0.218753</td>\n",
       "      <td>-0.081990</td>\n",
       "      <td>1.467165e-05</td>\n",
       "      <td>0.999982</td>\n",
       "    </tr>\n",
       "    <tr>\n",
       "      <th>13</th>\n",
       "      <td>0.125596</td>\n",
       "      <td>-0.093157</td>\n",
       "      <td>8.423677e-06</td>\n",
       "      <td>0.999990</td>\n",
       "    </tr>\n",
       "    <tr>\n",
       "      <th>14</th>\n",
       "      <td>0.119708</td>\n",
       "      <td>-0.005888</td>\n",
       "      <td>8.028757e-06</td>\n",
       "      <td>0.999998</td>\n",
       "    </tr>\n",
       "    <tr>\n",
       "      <th>15</th>\n",
       "      <td>0.023422</td>\n",
       "      <td>-0.096286</td>\n",
       "      <td>1.570916e-06</td>\n",
       "      <td>1.000000</td>\n",
       "    </tr>\n",
       "    <tr>\n",
       "      <th>16</th>\n",
       "      <td>0.007036</td>\n",
       "      <td>-0.016386</td>\n",
       "      <td>4.718916e-07</td>\n",
       "      <td>1.000000</td>\n",
       "    </tr>\n",
       "  </tbody>\n",
       "</table>\n",
       "</div>"
      ],
      "text/plain": [
       "      Eigenvalue    Difference    Proportion  Cumulative\n",
       "1   12370.807508      0.000000  8.297023e-01    0.829702\n",
       "2    1860.263325 -10510.544183  1.247667e-01    0.954469\n",
       "3     418.948423  -1441.314902  2.809861e-02    0.982568\n",
       "4     176.789502   -242.158921  1.185716e-02    0.994425\n",
       "5      75.599803   -101.189698  5.070431e-03    0.999495\n",
       "6       2.877591    -72.722212  1.929982e-04    0.999688\n",
       "7       2.161458     -0.716132  1.449677e-04    0.999833\n",
       "8       0.729202     -1.432256  4.890712e-05    0.999882\n",
       "9       0.589575     -0.139627  3.954243e-05    0.999922\n",
       "10      0.374184     -0.215391  2.509630e-05    0.999947\n",
       "11      0.300744     -0.073441  2.017069e-05    0.999967\n",
       "12      0.218753     -0.081990  1.467165e-05    0.999982\n",
       "13      0.125596     -0.093157  8.423677e-06    0.999990\n",
       "14      0.119708     -0.005888  8.028757e-06    0.999998\n",
       "15      0.023422     -0.096286  1.570916e-06    1.000000\n",
       "16      0.007036     -0.016386  4.718916e-07    1.000000"
      ]
     },
     "execution_count": 66,
     "metadata": {},
     "output_type": "execute_result"
    }
   ],
   "source": [
    "# Output PCA table\n",
    "pd.DataFrame(\n",
    "    {\"Eigenvalue\": pca.explained_variance_,\n",
    "     \"Difference\": np.insert(np.diff(pca.explained_variance_), 0, 0),\n",
    "     \"Proportion\": pca.explained_variance_ratio_,\n",
    "     \"Cumulative\": np.cumsum(pca.explained_variance_ratio_)},\n",
    "    index=range(1, pca.n_components_ + 1)\n",
    ")"
   ]
  },
  {
   "cell_type": "code",
   "execution_count": 68,
   "metadata": {
    "scrolled": false
   },
   "outputs": [
    {
     "data": {
      "text/html": [
       "<div>\n",
       "<style scoped>\n",
       "    .dataframe tbody tr th:only-of-type {\n",
       "        vertical-align: middle;\n",
       "    }\n",
       "\n",
       "    .dataframe tbody tr th {\n",
       "        vertical-align: top;\n",
       "    }\n",
       "\n",
       "    .dataframe thead th {\n",
       "        text-align: right;\n",
       "    }\n",
       "</style>\n",
       "<table border=\"1\" class=\"dataframe\">\n",
       "  <thead>\n",
       "    <tr style=\"text-align: right;\">\n",
       "      <th></th>\n",
       "      <th>PC0</th>\n",
       "      <th>PC1</th>\n",
       "    </tr>\n",
       "  </thead>\n",
       "  <tbody>\n",
       "    <tr>\n",
       "      <th>0</th>\n",
       "      <td>-96.901613</td>\n",
       "      <td>-111.713905</td>\n",
       "    </tr>\n",
       "    <tr>\n",
       "      <th>1</th>\n",
       "      <td>-19.983537</td>\n",
       "      <td>-30.136845</td>\n",
       "    </tr>\n",
       "    <tr>\n",
       "      <th>2</th>\n",
       "      <td>-42.380232</td>\n",
       "      <td>-40.093041</td>\n",
       "    </tr>\n",
       "    <tr>\n",
       "      <th>3</th>\n",
       "      <td>-15.996137</td>\n",
       "      <td>-29.876333</td>\n",
       "    </tr>\n",
       "    <tr>\n",
       "      <th>4</th>\n",
       "      <td>-8.017631</td>\n",
       "      <td>-29.366896</td>\n",
       "    </tr>\n",
       "    <tr>\n",
       "      <th>...</th>\n",
       "      <td>...</td>\n",
       "      <td>...</td>\n",
       "    </tr>\n",
       "    <tr>\n",
       "      <th>79325</th>\n",
       "      <td>-85.886271</td>\n",
       "      <td>-14.432178</td>\n",
       "    </tr>\n",
       "    <tr>\n",
       "      <th>79326</th>\n",
       "      <td>-15.309648</td>\n",
       "      <td>119.617044</td>\n",
       "    </tr>\n",
       "    <tr>\n",
       "      <th>79327</th>\n",
       "      <td>-78.825389</td>\n",
       "      <td>47.708459</td>\n",
       "    </tr>\n",
       "    <tr>\n",
       "      <th>79328</th>\n",
       "      <td>-0.650775</td>\n",
       "      <td>-0.676529</td>\n",
       "    </tr>\n",
       "    <tr>\n",
       "      <th>79329</th>\n",
       "      <td>92.108192</td>\n",
       "      <td>52.158698</td>\n",
       "    </tr>\n",
       "  </tbody>\n",
       "</table>\n",
       "<p>79330 rows × 2 columns</p>\n",
       "</div>"
      ],
      "text/plain": [
       "             PC0         PC1\n",
       "0     -96.901613 -111.713905\n",
       "1     -19.983537  -30.136845\n",
       "2     -42.380232  -40.093041\n",
       "3     -15.996137  -29.876333\n",
       "4      -8.017631  -29.366896\n",
       "...          ...         ...\n",
       "79325 -85.886271  -14.432178\n",
       "79326 -15.309648  119.617044\n",
       "79327 -78.825389   47.708459\n",
       "79328  -0.650775   -0.676529\n",
       "79329  92.108192   52.158698\n",
       "\n",
       "[79330 rows x 2 columns]"
      ]
     },
     "execution_count": 68,
     "metadata": {},
     "output_type": "execute_result"
    }
   ],
   "source": [
    "# Perform PCA again with the number of principal components you want to retain\n",
    "pca = PCA(n_components=2)\n",
    "pca_feat = pca.fit_transform(df_pca[numerical])\n",
    "pca_feat_names = [f\"PC{i}\" for i in range(pca.n_components_)]\n",
    "pca_df = pd.DataFrame(pca_feat, index=df_pca.index, columns=pca_feat_names)  # remember index=df_pca.index\n",
    "pca_df"
   ]
  },
  {
   "cell_type": "code",
   "execution_count": 71,
   "metadata": {},
   "outputs": [],
   "source": [
    "outliers = list(outliers_mcd.index.tolist() + outliers_if.index.tolist())\n",
    "\n",
    "def is_out(x):\n",
    "    if x in outliers:\n",
    "        return 'Outlier'\n",
    "    else:\n",
    "        return 'Not Outlier'\n",
    "\n",
    "pca_df['OUTLIER'] = pca_df.reset_index().iloc[:,0].apply(is_out)"
   ]
  },
  {
   "cell_type": "code",
   "execution_count": 72,
   "metadata": {},
   "outputs": [
    {
     "data": {
      "text/html": [
       "<div>\n",
       "<style scoped>\n",
       "    .dataframe tbody tr th:only-of-type {\n",
       "        vertical-align: middle;\n",
       "    }\n",
       "\n",
       "    .dataframe tbody tr th {\n",
       "        vertical-align: top;\n",
       "    }\n",
       "\n",
       "    .dataframe thead th {\n",
       "        text-align: right;\n",
       "    }\n",
       "</style>\n",
       "<table border=\"1\" class=\"dataframe\">\n",
       "  <thead>\n",
       "    <tr style=\"text-align: right;\">\n",
       "      <th></th>\n",
       "      <th>PC0</th>\n",
       "      <th>PC1</th>\n",
       "      <th>OUTLIER</th>\n",
       "    </tr>\n",
       "  </thead>\n",
       "  <tbody>\n",
       "    <tr>\n",
       "      <th>count</th>\n",
       "      <td>7.933000e+04</td>\n",
       "      <td>7.933000e+04</td>\n",
       "      <td>79330</td>\n",
       "    </tr>\n",
       "    <tr>\n",
       "      <th>unique</th>\n",
       "      <td>NaN</td>\n",
       "      <td>NaN</td>\n",
       "      <td>2</td>\n",
       "    </tr>\n",
       "    <tr>\n",
       "      <th>top</th>\n",
       "      <td>NaN</td>\n",
       "      <td>NaN</td>\n",
       "      <td>Not Outlier</td>\n",
       "    </tr>\n",
       "    <tr>\n",
       "      <th>freq</th>\n",
       "      <td>NaN</td>\n",
       "      <td>NaN</td>\n",
       "      <td>77073</td>\n",
       "    </tr>\n",
       "    <tr>\n",
       "      <th>mean</th>\n",
       "      <td>8.804890e-15</td>\n",
       "      <td>4.402445e-15</td>\n",
       "      <td>NaN</td>\n",
       "    </tr>\n",
       "    <tr>\n",
       "      <th>std</th>\n",
       "      <td>1.112241e+02</td>\n",
       "      <td>4.313077e+01</td>\n",
       "      <td>NaN</td>\n",
       "    </tr>\n",
       "    <tr>\n",
       "      <th>min</th>\n",
       "      <td>-4.107086e+02</td>\n",
       "      <td>-1.124371e+02</td>\n",
       "      <td>NaN</td>\n",
       "    </tr>\n",
       "    <tr>\n",
       "      <th>25%</th>\n",
       "      <td>-8.722383e+01</td>\n",
       "      <td>-2.630833e+01</td>\n",
       "      <td>NaN</td>\n",
       "    </tr>\n",
       "    <tr>\n",
       "      <th>50%</th>\n",
       "      <td>-3.581035e+01</td>\n",
       "      <td>-4.708927e+00</td>\n",
       "      <td>NaN</td>\n",
       "    </tr>\n",
       "    <tr>\n",
       "      <th>75%</th>\n",
       "      <td>5.327027e+01</td>\n",
       "      <td>2.060557e+01</td>\n",
       "      <td>NaN</td>\n",
       "    </tr>\n",
       "    <tr>\n",
       "      <th>max</th>\n",
       "      <td>5.204156e+02</td>\n",
       "      <td>5.276850e+03</td>\n",
       "      <td>NaN</td>\n",
       "    </tr>\n",
       "  </tbody>\n",
       "</table>\n",
       "</div>"
      ],
      "text/plain": [
       "                 PC0           PC1      OUTLIER\n",
       "count   7.933000e+04  7.933000e+04        79330\n",
       "unique           NaN           NaN            2\n",
       "top              NaN           NaN  Not Outlier\n",
       "freq             NaN           NaN        77073\n",
       "mean    8.804890e-15  4.402445e-15          NaN\n",
       "std     1.112241e+02  4.313077e+01          NaN\n",
       "min    -4.107086e+02 -1.124371e+02          NaN\n",
       "25%    -8.722383e+01 -2.630833e+01          NaN\n",
       "50%    -3.581035e+01 -4.708927e+00          NaN\n",
       "75%     5.327027e+01  2.060557e+01          NaN\n",
       "max     5.204156e+02  5.276850e+03          NaN"
      ]
     },
     "execution_count": 72,
     "metadata": {},
     "output_type": "execute_result"
    }
   ],
   "source": [
    "pca_df.describe(include='all')"
   ]
  },
  {
   "cell_type": "code",
   "execution_count": 74,
   "metadata": {
    "scrolled": false
   },
   "outputs": [
    {
     "data": {
      "text/plain": [
       "Text(0, 0.5, 'Dim 2 (12.5%)')"
      ]
     },
     "execution_count": 74,
     "metadata": {},
     "output_type": "execute_result"
    },
    {
     "data": {
      "image/png": "[encoded data removed]",
      "text/plain": [
       "<Figure size 720x720 with 1 Axes>"
      ]
     },
     "metadata": {},
     "output_type": "display_data"
    }
   ],
   "source": [
    "fig = plt.figure(figsize=(10,10))\n",
    "sns.scatterplot(data=pca_df, x=\"PC0\", y=\"PC1\", hue='OUTLIER')\n",
    "plt.xlabel('Dim 1 (82.9%)')\n",
    "plt.ylabel('Dim 2 (12.5%)')"
   ]
  },
  {
   "cell_type": "markdown",
   "metadata": {},
   "source": [
    "<div class=\"alert alert-block alert-info\">\n",
    "    \n",
    "## <font color='#E8800A'>7 - Applying One Hot Encoder</font> <a class=\"anchor\" id=\"seventh-bullet\"></a>\n",
    "    \n",
    "</div>"
   ]
  },
  {
   "cell_type": "code",
   "execution_count": 67,
   "metadata": {},
   "outputs": [
    {
     "data": {
      "text/html": [
       "<div>\n",
       "<style scoped>\n",
       "    .dataframe tbody tr th:only-of-type {\n",
       "        vertical-align: middle;\n",
       "    }\n",
       "\n",
       "    .dataframe tbody tr th {\n",
       "        vertical-align: top;\n",
       "    }\n",
       "\n",
       "    .dataframe thead th {\n",
       "        text-align: right;\n",
       "    }\n",
       "</style>\n",
       "<table border=\"1\" class=\"dataframe\">\n",
       "  <thead>\n",
       "    <tr style=\"text-align: right;\">\n",
       "      <th></th>\n",
       "      <th>Meal</th>\n",
       "      <th>MarketSegment</th>\n",
       "      <th>DistributionChannel</th>\n",
       "      <th>DepositType</th>\n",
       "      <th>CustomerType</th>\n",
       "      <th>ArrivalDateSeason</th>\n",
       "    </tr>\n",
       "  </thead>\n",
       "  <tbody>\n",
       "    <tr>\n",
       "      <th>0</th>\n",
       "      <td>HB</td>\n",
       "      <td>Offline TA/TO</td>\n",
       "      <td>TA/TO</td>\n",
       "      <td>No Deposit</td>\n",
       "      <td>Transient</td>\n",
       "      <td>Summer</td>\n",
       "    </tr>\n",
       "    <tr>\n",
       "      <th>1</th>\n",
       "      <td>BB</td>\n",
       "      <td>Online TA</td>\n",
       "      <td>TA/TO</td>\n",
       "      <td>No Deposit</td>\n",
       "      <td>Transient</td>\n",
       "      <td>Summer</td>\n",
       "    </tr>\n",
       "    <tr>\n",
       "      <th>2</th>\n",
       "      <td>BB</td>\n",
       "      <td>Online TA</td>\n",
       "      <td>TA/TO</td>\n",
       "      <td>No Deposit</td>\n",
       "      <td>Transient</td>\n",
       "      <td>Summer</td>\n",
       "    </tr>\n",
       "    <tr>\n",
       "      <th>3</th>\n",
       "      <td>BB</td>\n",
       "      <td>Online TA</td>\n",
       "      <td>TA/TO</td>\n",
       "      <td>No Deposit</td>\n",
       "      <td>Transient</td>\n",
       "      <td>Summer</td>\n",
       "    </tr>\n",
       "    <tr>\n",
       "      <th>4</th>\n",
       "      <td>BB</td>\n",
       "      <td>Online TA</td>\n",
       "      <td>TA/TO</td>\n",
       "      <td>No Deposit</td>\n",
       "      <td>Transient</td>\n",
       "      <td>Summer</td>\n",
       "    </tr>\n",
       "    <tr>\n",
       "      <th>...</th>\n",
       "      <td>...</td>\n",
       "      <td>...</td>\n",
       "      <td>...</td>\n",
       "      <td>...</td>\n",
       "      <td>...</td>\n",
       "      <td>...</td>\n",
       "    </tr>\n",
       "    <tr>\n",
       "      <th>79325</th>\n",
       "      <td>BB</td>\n",
       "      <td>Offline TA/TO</td>\n",
       "      <td>TA/TO</td>\n",
       "      <td>No Deposit</td>\n",
       "      <td>Transient</td>\n",
       "      <td>Summer</td>\n",
       "    </tr>\n",
       "    <tr>\n",
       "      <th>79326</th>\n",
       "      <td>BB</td>\n",
       "      <td>Online TA</td>\n",
       "      <td>TA/TO</td>\n",
       "      <td>No Deposit</td>\n",
       "      <td>Transient</td>\n",
       "      <td>Summer</td>\n",
       "    </tr>\n",
       "    <tr>\n",
       "      <th>79327</th>\n",
       "      <td>BB</td>\n",
       "      <td>Online TA</td>\n",
       "      <td>TA/TO</td>\n",
       "      <td>No Deposit</td>\n",
       "      <td>Transient</td>\n",
       "      <td>Summer</td>\n",
       "    </tr>\n",
       "    <tr>\n",
       "      <th>79328</th>\n",
       "      <td>BB</td>\n",
       "      <td>Online TA</td>\n",
       "      <td>TA/TO</td>\n",
       "      <td>No Deposit</td>\n",
       "      <td>Transient</td>\n",
       "      <td>Summer</td>\n",
       "    </tr>\n",
       "    <tr>\n",
       "      <th>79329</th>\n",
       "      <td>HB</td>\n",
       "      <td>Online TA</td>\n",
       "      <td>TA/TO</td>\n",
       "      <td>No Deposit</td>\n",
       "      <td>Transient</td>\n",
       "      <td>Summer</td>\n",
       "    </tr>\n",
       "  </tbody>\n",
       "</table>\n",
       "<p>79330 rows × 6 columns</p>\n",
       "</div>"
      ],
      "text/plain": [
       "            Meal  MarketSegment DistributionChannel      DepositType  \\\n",
       "0      HB         Offline TA/TO               TA/TO  No Deposit        \n",
       "1      BB             Online TA               TA/TO  No Deposit        \n",
       "2      BB             Online TA               TA/TO  No Deposit        \n",
       "3      BB             Online TA               TA/TO  No Deposit        \n",
       "4      BB             Online TA               TA/TO  No Deposit        \n",
       "...          ...            ...                 ...              ...   \n",
       "79325  BB         Offline TA/TO               TA/TO  No Deposit        \n",
       "79326  BB             Online TA               TA/TO  No Deposit        \n",
       "79327  BB             Online TA               TA/TO  No Deposit        \n",
       "79328  BB             Online TA               TA/TO  No Deposit        \n",
       "79329  HB             Online TA               TA/TO  No Deposit        \n",
       "\n",
       "      CustomerType ArrivalDateSeason  \n",
       "0        Transient            Summer  \n",
       "1        Transient            Summer  \n",
       "2        Transient            Summer  \n",
       "3        Transient            Summer  \n",
       "4        Transient            Summer  \n",
       "...            ...               ...  \n",
       "79325    Transient            Summer  \n",
       "79326    Transient            Summer  \n",
       "79327    Transient            Summer  \n",
       "79328    Transient            Summer  \n",
       "79329    Transient            Summer  \n",
       "\n",
       "[79330 rows x 6 columns]"
      ]
     },
     "execution_count": 67,
     "metadata": {},
     "output_type": "execute_result"
    }
   ],
   "source": [
    "df[categorical]"
   ]
  },
  {
   "cell_type": "markdown",
   "metadata": {},
   "source": [
    "### Separating X and Y"
   ]
  },
  {
   "cell_type": "code",
   "execution_count": 68,
   "metadata": {},
   "outputs": [],
   "source": [
    "X=df.drop([\"IsCanceled\"],axis=1)\n",
    "y=df.loc[:,\"IsCanceled\"]\n",
    "categorical=X.select_dtypes(include=\"object\").columns.to_list()"
   ]
  },
  {
   "cell_type": "markdown",
   "metadata": {},
   "source": [
    "### One Hot Encoder"
   ]
  },
  {
   "cell_type": "code",
   "execution_count": 69,
   "metadata": {},
   "outputs": [
    {
     "data": {
      "text/html": [
       "<div>\n",
       "<style scoped>\n",
       "    .dataframe tbody tr th:only-of-type {\n",
       "        vertical-align: middle;\n",
       "    }\n",
       "\n",
       "    .dataframe tbody tr th {\n",
       "        vertical-align: top;\n",
       "    }\n",
       "\n",
       "    .dataframe thead th {\n",
       "        text-align: right;\n",
       "    }\n",
       "</style>\n",
       "<table border=\"1\" class=\"dataframe\">\n",
       "  <thead>\n",
       "    <tr style=\"text-align: right;\">\n",
       "      <th></th>\n",
       "      <th>Meal_BB</th>\n",
       "      <th>Meal_FB</th>\n",
       "      <th>Meal_HB</th>\n",
       "      <th>Meal_SC</th>\n",
       "      <th>MarketSegment_Aviation</th>\n",
       "      <th>MarketSegment_Complementary</th>\n",
       "      <th>MarketSegment_Corporate</th>\n",
       "      <th>MarketSegment_Direct</th>\n",
       "      <th>MarketSegment_Groups</th>\n",
       "      <th>MarketSegment_Offline TA/TO</th>\n",
       "      <th>...</th>\n",
       "      <th>Children</th>\n",
       "      <th>Babies</th>\n",
       "      <th>IsRepeatedGuest</th>\n",
       "      <th>PreviousCancellations</th>\n",
       "      <th>PreviousBookingsNotCanceled</th>\n",
       "      <th>BookingChanges</th>\n",
       "      <th>DaysInWaitingList</th>\n",
       "      <th>ADR</th>\n",
       "      <th>RequiredCarParkingSpaces</th>\n",
       "      <th>TotalOfSpecialRequests</th>\n",
       "    </tr>\n",
       "  </thead>\n",
       "  <tbody>\n",
       "    <tr>\n",
       "      <th>0</th>\n",
       "      <td>0.0</td>\n",
       "      <td>0.0</td>\n",
       "      <td>1.0</td>\n",
       "      <td>0.0</td>\n",
       "      <td>0.0</td>\n",
       "      <td>0.0</td>\n",
       "      <td>0.0</td>\n",
       "      <td>0.0</td>\n",
       "      <td>0.0</td>\n",
       "      <td>1.0</td>\n",
       "      <td>...</td>\n",
       "      <td>0.0</td>\n",
       "      <td>0.0</td>\n",
       "      <td>0</td>\n",
       "      <td>0.0</td>\n",
       "      <td>0.0</td>\n",
       "      <td>0.0</td>\n",
       "      <td>0.0</td>\n",
       "      <td>0.0</td>\n",
       "      <td>0.0</td>\n",
       "      <td>0.0</td>\n",
       "    </tr>\n",
       "    <tr>\n",
       "      <th>1</th>\n",
       "      <td>1.0</td>\n",
       "      <td>0.0</td>\n",
       "      <td>0.0</td>\n",
       "      <td>0.0</td>\n",
       "      <td>0.0</td>\n",
       "      <td>0.0</td>\n",
       "      <td>0.0</td>\n",
       "      <td>0.0</td>\n",
       "      <td>0.0</td>\n",
       "      <td>0.0</td>\n",
       "      <td>...</td>\n",
       "      <td>0.0</td>\n",
       "      <td>0.0</td>\n",
       "      <td>0</td>\n",
       "      <td>0.0</td>\n",
       "      <td>0.0</td>\n",
       "      <td>0.0</td>\n",
       "      <td>0.0</td>\n",
       "      <td>76.5</td>\n",
       "      <td>0.0</td>\n",
       "      <td>1.0</td>\n",
       "    </tr>\n",
       "    <tr>\n",
       "      <th>2</th>\n",
       "      <td>1.0</td>\n",
       "      <td>0.0</td>\n",
       "      <td>0.0</td>\n",
       "      <td>0.0</td>\n",
       "      <td>0.0</td>\n",
       "      <td>0.0</td>\n",
       "      <td>0.0</td>\n",
       "      <td>0.0</td>\n",
       "      <td>0.0</td>\n",
       "      <td>0.0</td>\n",
       "      <td>...</td>\n",
       "      <td>0.0</td>\n",
       "      <td>0.0</td>\n",
       "      <td>0</td>\n",
       "      <td>0.0</td>\n",
       "      <td>0.0</td>\n",
       "      <td>0.0</td>\n",
       "      <td>0.0</td>\n",
       "      <td>68.0</td>\n",
       "      <td>0.0</td>\n",
       "      <td>1.0</td>\n",
       "    </tr>\n",
       "    <tr>\n",
       "      <th>3</th>\n",
       "      <td>1.0</td>\n",
       "      <td>0.0</td>\n",
       "      <td>0.0</td>\n",
       "      <td>0.0</td>\n",
       "      <td>0.0</td>\n",
       "      <td>0.0</td>\n",
       "      <td>0.0</td>\n",
       "      <td>0.0</td>\n",
       "      <td>0.0</td>\n",
       "      <td>0.0</td>\n",
       "      <td>...</td>\n",
       "      <td>0.0</td>\n",
       "      <td>0.0</td>\n",
       "      <td>0</td>\n",
       "      <td>0.0</td>\n",
       "      <td>0.0</td>\n",
       "      <td>0.0</td>\n",
       "      <td>0.0</td>\n",
       "      <td>76.5</td>\n",
       "      <td>0.0</td>\n",
       "      <td>2.0</td>\n",
       "    </tr>\n",
       "    <tr>\n",
       "      <th>4</th>\n",
       "      <td>1.0</td>\n",
       "      <td>0.0</td>\n",
       "      <td>0.0</td>\n",
       "      <td>0.0</td>\n",
       "      <td>0.0</td>\n",
       "      <td>0.0</td>\n",
       "      <td>0.0</td>\n",
       "      <td>0.0</td>\n",
       "      <td>0.0</td>\n",
       "      <td>0.0</td>\n",
       "      <td>...</td>\n",
       "      <td>0.0</td>\n",
       "      <td>0.0</td>\n",
       "      <td>0</td>\n",
       "      <td>0.0</td>\n",
       "      <td>0.0</td>\n",
       "      <td>0.0</td>\n",
       "      <td>0.0</td>\n",
       "      <td>76.5</td>\n",
       "      <td>0.0</td>\n",
       "      <td>1.0</td>\n",
       "    </tr>\n",
       "  </tbody>\n",
       "</table>\n",
       "<p>5 rows × 45 columns</p>\n",
       "</div>"
      ],
      "text/plain": [
       "   Meal_BB         Meal_FB         Meal_HB         Meal_SC         \\\n",
       "0             0.0             0.0             1.0             0.0   \n",
       "1             1.0             0.0             0.0             0.0   \n",
       "2             1.0             0.0             0.0             0.0   \n",
       "3             1.0             0.0             0.0             0.0   \n",
       "4             1.0             0.0             0.0             0.0   \n",
       "\n",
       "   MarketSegment_Aviation  MarketSegment_Complementary  \\\n",
       "0                     0.0                          0.0   \n",
       "1                     0.0                          0.0   \n",
       "2                     0.0                          0.0   \n",
       "3                     0.0                          0.0   \n",
       "4                     0.0                          0.0   \n",
       "\n",
       "   MarketSegment_Corporate  MarketSegment_Direct  MarketSegment_Groups  \\\n",
       "0                      0.0                   0.0                   0.0   \n",
       "1                      0.0                   0.0                   0.0   \n",
       "2                      0.0                   0.0                   0.0   \n",
       "3                      0.0                   0.0                   0.0   \n",
       "4                      0.0                   0.0                   0.0   \n",
       "\n",
       "   MarketSegment_Offline TA/TO  ...  Children  Babies  IsRepeatedGuest  \\\n",
       "0                          1.0  ...       0.0     0.0                0   \n",
       "1                          0.0  ...       0.0     0.0                0   \n",
       "2                          0.0  ...       0.0     0.0                0   \n",
       "3                          0.0  ...       0.0     0.0                0   \n",
       "4                          0.0  ...       0.0     0.0                0   \n",
       "\n",
       "   PreviousCancellations  PreviousBookingsNotCanceled  BookingChanges  \\\n",
       "0                    0.0                          0.0             0.0   \n",
       "1                    0.0                          0.0             0.0   \n",
       "2                    0.0                          0.0             0.0   \n",
       "3                    0.0                          0.0             0.0   \n",
       "4                    0.0                          0.0             0.0   \n",
       "\n",
       "   DaysInWaitingList   ADR  RequiredCarParkingSpaces  TotalOfSpecialRequests  \n",
       "0                0.0   0.0                       0.0                     0.0  \n",
       "1                0.0  76.5                       0.0                     1.0  \n",
       "2                0.0  68.0                       0.0                     1.0  \n",
       "3                0.0  76.5                       0.0                     2.0  \n",
       "4                0.0  76.5                       0.0                     1.0  \n",
       "\n",
       "[5 rows x 45 columns]"
      ]
     },
     "execution_count": 69,
     "metadata": {},
     "output_type": "execute_result"
    }
   ],
   "source": [
    "df_ohc = X.copy()\n",
    "categorical=X.select_dtypes(include=\"object\").columns.to_list()\n",
    "ohc = OneHotEncoder(sparse=False)\n",
    "ohc_feat = ohc.fit_transform(df_ohc[categorical])\n",
    "ohc_feat_names = ohc.get_feature_names(categorical)\n",
    "ohc_df = pd.DataFrame(ohc_feat, index=df_ohc.index, columns=ohc_feat_names)  # Why the index=df_ohc.index?\n",
    "# Reassigning df to contain ohc variables\n",
    "df_ohc = pd.concat([ohc_df,df_ohc.drop(columns=categorical)], axis=1)\n",
    "X=df_ohc.copy()\n",
    "X.head()"
   ]
  },
  {
   "cell_type": "code",
   "execution_count": 70,
   "metadata": {},
   "outputs": [
    {
     "data": {
      "text/plain": [
       "Index(['Meal_BB       ', 'Meal_FB       ', 'Meal_HB       ', 'Meal_SC       ',\n",
       "       'MarketSegment_Aviation', 'MarketSegment_Complementary',\n",
       "       'MarketSegment_Corporate', 'MarketSegment_Direct',\n",
       "       'MarketSegment_Groups', 'MarketSegment_Offline TA/TO',\n",
       "       'MarketSegment_Online TA', 'MarketSegment_Undefined',\n",
       "       'DistributionChannel_Corporate', 'DistributionChannel_Direct',\n",
       "       'DistributionChannel_GDS', 'DistributionChannel_TA/TO',\n",
       "       'DistributionChannel_Undefined', 'DepositType_No Deposit     ',\n",
       "       'DepositType_Non Refund     ', 'DepositType_Refundable     ',\n",
       "       'CustomerType_Contract', 'CustomerType_Group', 'CustomerType_Transient',\n",
       "       'CustomerType_Transient-Party', 'ArrivalDateSeason_Autumn',\n",
       "       'ArrivalDateSeason_Spring', 'ArrivalDateSeason_Summer',\n",
       "       'ArrivalDateSeason_Winter', 'LeadTime', 'ArrivalDateYear',\n",
       "       'ArrivalDateWeekNumber', 'ArrivalDateDayOfMonth',\n",
       "       'StaysInWeekendNights', 'StaysInWeekNights', 'Adults', 'Children',\n",
       "       'Babies', 'IsRepeatedGuest', 'PreviousCancellations',\n",
       "       'PreviousBookingsNotCanceled', 'BookingChanges', 'DaysInWaitingList',\n",
       "       'ADR', 'RequiredCarParkingSpaces', 'TotalOfSpecialRequests'],\n",
       "      dtype='object')"
      ]
     },
     "execution_count": 70,
     "metadata": {},
     "output_type": "execute_result"
    }
   ],
   "source": [
    "X.columns"
   ]
  },
  {
   "cell_type": "code",
   "execution_count": 73,
   "metadata": {},
   "outputs": [],
   "source": [
    "X.drop(['Meal_HB       ','MarketSegment_Undefined','DepositType_Non Refund     ','DistributionChannel_Undefined','CustomerType_Group','ArrivalDateSeason_Winter'],axis=1,inplace=True)"
   ]
  },
  {
   "cell_type": "markdown",
   "metadata": {},
   "source": [
    "<div class=\"alert alert-block alert-info\">\n",
    "    \n",
    "## <font color='#E8800A'>Gradient Boost Classifier</font> <a class=\"anchor\" id=\"eighth-bullet\"></a>\n",
    "    \n",
    "</div>"
   ]
  },
  {
   "cell_type": "markdown",
   "metadata": {},
   "source": [
    "### 8.1 - Data Splitting"
   ]
  },
  {
   "cell_type": "code",
   "execution_count": 74,
   "metadata": {},
   "outputs": [],
   "source": [
    "X_train, X_test, y_train, y_test = train_test_split(X, y, train_size=0.8, random_state=42) "
   ]
  },
  {
   "cell_type": "markdown",
   "metadata": {},
   "source": [
    "### Model"
   ]
  },
  {
   "cell_type": "code",
   "execution_count": 75,
   "metadata": {},
   "outputs": [
    {
     "data": {
      "text/plain": [
       "GradientBoostingClassifier()"
      ]
     },
     "execution_count": 75,
     "metadata": {},
     "output_type": "execute_result"
    }
   ],
   "source": [
    "gb = GradientBoostingClassifier() \n",
    "gb.fit(X_train,y_train)"
   ]
  },
  {
   "cell_type": "code",
   "execution_count": 76,
   "metadata": {},
   "outputs": [
    {
     "data": {
      "text/html": [
       "<div>\n",
       "<style scoped>\n",
       "    .dataframe tbody tr th:only-of-type {\n",
       "        vertical-align: middle;\n",
       "    }\n",
       "\n",
       "    .dataframe tbody tr th {\n",
       "        vertical-align: top;\n",
       "    }\n",
       "\n",
       "    .dataframe thead th {\n",
       "        text-align: right;\n",
       "    }\n",
       "</style>\n",
       "<table border=\"1\" class=\"dataframe\">\n",
       "  <thead>\n",
       "    <tr style=\"text-align: right;\">\n",
       "      <th></th>\n",
       "      <th>F1 Score</th>\n",
       "    </tr>\n",
       "  </thead>\n",
       "  <tbody>\n",
       "    <tr>\n",
       "      <th>Standard</th>\n",
       "      <td>0.817597</td>\n",
       "    </tr>\n",
       "    <tr>\n",
       "      <th>MinMax</th>\n",
       "      <td>0.810538</td>\n",
       "    </tr>\n",
       "    <tr>\n",
       "      <th>MaxAbs</th>\n",
       "      <td>0.810538</td>\n",
       "    </tr>\n",
       "    <tr>\n",
       "      <th>Robust</th>\n",
       "      <td>0.818102</td>\n",
       "    </tr>\n",
       "    <tr>\n",
       "      <th>No Scaler</th>\n",
       "      <td>0.818165</td>\n",
       "    </tr>\n",
       "  </tbody>\n",
       "</table>\n",
       "</div>"
      ],
      "text/plain": [
       "           F1 Score\n",
       "Standard   0.817597\n",
       "MinMax     0.810538\n",
       "MaxAbs     0.810538\n",
       "Robust     0.818102\n",
       "No Scaler  0.818165"
      ]
     },
     "execution_count": 76,
     "metadata": {},
     "output_type": "execute_result"
    }
   ],
   "source": [
    "best_scale(gb,X_train,y_train,X_test,y_test)"
   ]
  },
  {
   "cell_type": "markdown",
   "metadata": {},
   "source": [
    "### Feature Selection"
   ]
  },
  {
   "cell_type": "code",
   "execution_count": 77,
   "metadata": {},
   "outputs": [],
   "source": [
    "importances = gb.feature_importances_\n",
    "indices = np.argsort(importances)"
   ]
  },
  {
   "cell_type": "code",
   "execution_count": 78,
   "metadata": {},
   "outputs": [
    {
     "data": {
      "text/plain": [
       "<matplotlib.axes._subplots.AxesSubplot at 0x248c32e4f10>"
      ]
     },
     "execution_count": 78,
     "metadata": {},
     "output_type": "execute_result"
    },
    {
     "data": {
      "image/png": "[encoded data removed]",
      "text/plain": [
       "<Figure size 1080x576 with 1 Axes>"
      ]
     },
     "metadata": {},
     "output_type": "display_data"
    }
   ],
   "source": [
    "zippy = pd.DataFrame(zip(importances))\n",
    "zippy['col'] = X_train.columns\n",
    "tidy = zippy.melt(id_vars='col').rename(columns=str.title)\n",
    "tidy.sort_values(['Value'], ascending = False, inplace = True)\n",
    "\n",
    "plt.figure(figsize=(15,8))\n",
    "sns.barplot(y='Col', x='Value', hue='Variable', data=tidy)"
   ]
  },
  {
   "cell_type": "code",
   "execution_count": 80,
   "metadata": {},
   "outputs": [
    {
     "data": {
      "text/plain": [
       "Index(['Meal_BB       ', 'Meal_FB       ', 'Meal_SC       ',\n",
       "       'MarketSegment_Aviation', 'MarketSegment_Complementary',\n",
       "       'MarketSegment_Corporate', 'MarketSegment_Direct',\n",
       "       'MarketSegment_Groups', 'MarketSegment_Offline TA/TO',\n",
       "       'MarketSegment_Online TA', 'DistributionChannel_Corporate',\n",
       "       'DistributionChannel_Direct', 'DistributionChannel_GDS',\n",
       "       'DistributionChannel_TA/TO', 'DepositType_No Deposit     ',\n",
       "       'DepositType_Refundable     ', 'CustomerType_Contract',\n",
       "       'CustomerType_Transient', 'CustomerType_Transient-Party',\n",
       "       'ArrivalDateSeason_Autumn', 'ArrivalDateSeason_Spring',\n",
       "       'ArrivalDateSeason_Summer', 'LeadTime', 'ArrivalDateYear',\n",
       "       'ArrivalDateWeekNumber', 'ArrivalDateDayOfMonth',\n",
       "       'StaysInWeekendNights', 'StaysInWeekNights', 'Adults', 'Children',\n",
       "       'Babies', 'IsRepeatedGuest', 'PreviousCancellations',\n",
       "       'PreviousBookingsNotCanceled', 'BookingChanges', 'DaysInWaitingList',\n",
       "       'ADR', 'RequiredCarParkingSpaces', 'TotalOfSpecialRequests'],\n",
       "      dtype='object')"
      ]
     },
     "execution_count": 80,
     "metadata": {},
     "output_type": "execute_result"
    }
   ],
   "source": [
    "X.columns"
   ]
  },
  {
   "cell_type": "code",
   "execution_count": 84,
   "metadata": {},
   "outputs": [],
   "source": [
    "X_gb=X.loc[:,[\"DepositType_No Deposit     \", 'MarketSegment_Online TA','TotalOfSpecialRequests','LeadTime','PreviousCancellations','BookingChanges','PreviousBookingsNotCanceled','RequiredCarParkingSpaces','ADR','CustomerType_Transient-Party','StaysInWeekNights','ArrivalDateWeekNumber','ArrivalDateSeason_Summer']]"
   ]
  },
  {
   "cell_type": "code",
   "execution_count": 85,
   "metadata": {
    "scrolled": true
   },
   "outputs": [
    {
     "data": {
      "text/html": [
       "<div>\n",
       "<style scoped>\n",
       "    .dataframe tbody tr th:only-of-type {\n",
       "        vertical-align: middle;\n",
       "    }\n",
       "\n",
       "    .dataframe tbody tr th {\n",
       "        vertical-align: top;\n",
       "    }\n",
       "\n",
       "    .dataframe thead th {\n",
       "        text-align: right;\n",
       "    }\n",
       "</style>\n",
       "<table border=\"1\" class=\"dataframe\">\n",
       "  <thead>\n",
       "    <tr style=\"text-align: right;\">\n",
       "      <th></th>\n",
       "      <th>DepositType_No Deposit</th>\n",
       "      <th>MarketSegment_Online TA</th>\n",
       "      <th>TotalOfSpecialRequests</th>\n",
       "      <th>LeadTime</th>\n",
       "      <th>PreviousCancellations</th>\n",
       "      <th>BookingChanges</th>\n",
       "      <th>PreviousBookingsNotCanceled</th>\n",
       "      <th>RequiredCarParkingSpaces</th>\n",
       "      <th>ADR</th>\n",
       "      <th>CustomerType_Transient-Party</th>\n",
       "      <th>StaysInWeekNights</th>\n",
       "      <th>ArrivalDateWeekNumber</th>\n",
       "      <th>ArrivalDateSeason_Summer</th>\n",
       "    </tr>\n",
       "  </thead>\n",
       "  <tbody>\n",
       "    <tr>\n",
       "      <th>0</th>\n",
       "      <td>1.0</td>\n",
       "      <td>0.0</td>\n",
       "      <td>0.0</td>\n",
       "      <td>6.0</td>\n",
       "      <td>0.0</td>\n",
       "      <td>0.0</td>\n",
       "      <td>0.0</td>\n",
       "      <td>0.0</td>\n",
       "      <td>0.00</td>\n",
       "      <td>0.0</td>\n",
       "      <td>2.0</td>\n",
       "      <td>27.0</td>\n",
       "      <td>1.0</td>\n",
       "    </tr>\n",
       "    <tr>\n",
       "      <th>1</th>\n",
       "      <td>1.0</td>\n",
       "      <td>1.0</td>\n",
       "      <td>1.0</td>\n",
       "      <td>88.0</td>\n",
       "      <td>0.0</td>\n",
       "      <td>0.0</td>\n",
       "      <td>0.0</td>\n",
       "      <td>0.0</td>\n",
       "      <td>76.50</td>\n",
       "      <td>0.0</td>\n",
       "      <td>4.0</td>\n",
       "      <td>27.0</td>\n",
       "      <td>1.0</td>\n",
       "    </tr>\n",
       "    <tr>\n",
       "      <th>2</th>\n",
       "      <td>1.0</td>\n",
       "      <td>1.0</td>\n",
       "      <td>1.0</td>\n",
       "      <td>65.0</td>\n",
       "      <td>0.0</td>\n",
       "      <td>0.0</td>\n",
       "      <td>0.0</td>\n",
       "      <td>0.0</td>\n",
       "      <td>68.00</td>\n",
       "      <td>0.0</td>\n",
       "      <td>4.0</td>\n",
       "      <td>27.0</td>\n",
       "      <td>1.0</td>\n",
       "    </tr>\n",
       "    <tr>\n",
       "      <th>3</th>\n",
       "      <td>1.0</td>\n",
       "      <td>1.0</td>\n",
       "      <td>2.0</td>\n",
       "      <td>92.0</td>\n",
       "      <td>0.0</td>\n",
       "      <td>0.0</td>\n",
       "      <td>0.0</td>\n",
       "      <td>0.0</td>\n",
       "      <td>76.50</td>\n",
       "      <td>0.0</td>\n",
       "      <td>4.0</td>\n",
       "      <td>27.0</td>\n",
       "      <td>1.0</td>\n",
       "    </tr>\n",
       "    <tr>\n",
       "      <th>4</th>\n",
       "      <td>1.0</td>\n",
       "      <td>1.0</td>\n",
       "      <td>1.0</td>\n",
       "      <td>100.0</td>\n",
       "      <td>0.0</td>\n",
       "      <td>0.0</td>\n",
       "      <td>0.0</td>\n",
       "      <td>0.0</td>\n",
       "      <td>76.50</td>\n",
       "      <td>0.0</td>\n",
       "      <td>2.0</td>\n",
       "      <td>27.0</td>\n",
       "      <td>1.0</td>\n",
       "    </tr>\n",
       "    <tr>\n",
       "      <th>...</th>\n",
       "      <td>...</td>\n",
       "      <td>...</td>\n",
       "      <td>...</td>\n",
       "      <td>...</td>\n",
       "      <td>...</td>\n",
       "      <td>...</td>\n",
       "      <td>...</td>\n",
       "      <td>...</td>\n",
       "      <td>...</td>\n",
       "      <td>...</td>\n",
       "      <td>...</td>\n",
       "      <td>...</td>\n",
       "      <td>...</td>\n",
       "    </tr>\n",
       "    <tr>\n",
       "      <th>79325</th>\n",
       "      <td>1.0</td>\n",
       "      <td>0.0</td>\n",
       "      <td>0.0</td>\n",
       "      <td>23.0</td>\n",
       "      <td>0.0</td>\n",
       "      <td>0.0</td>\n",
       "      <td>0.0</td>\n",
       "      <td>0.0</td>\n",
       "      <td>96.14</td>\n",
       "      <td>0.0</td>\n",
       "      <td>5.0</td>\n",
       "      <td>35.0</td>\n",
       "      <td>1.0</td>\n",
       "    </tr>\n",
       "    <tr>\n",
       "      <th>79326</th>\n",
       "      <td>1.0</td>\n",
       "      <td>1.0</td>\n",
       "      <td>2.0</td>\n",
       "      <td>102.0</td>\n",
       "      <td>0.0</td>\n",
       "      <td>0.0</td>\n",
       "      <td>0.0</td>\n",
       "      <td>0.0</td>\n",
       "      <td>225.43</td>\n",
       "      <td>0.0</td>\n",
       "      <td>5.0</td>\n",
       "      <td>35.0</td>\n",
       "      <td>1.0</td>\n",
       "    </tr>\n",
       "    <tr>\n",
       "      <th>79327</th>\n",
       "      <td>1.0</td>\n",
       "      <td>1.0</td>\n",
       "      <td>4.0</td>\n",
       "      <td>34.0</td>\n",
       "      <td>0.0</td>\n",
       "      <td>0.0</td>\n",
       "      <td>0.0</td>\n",
       "      <td>0.0</td>\n",
       "      <td>157.71</td>\n",
       "      <td>0.0</td>\n",
       "      <td>5.0</td>\n",
       "      <td>35.0</td>\n",
       "      <td>1.0</td>\n",
       "    </tr>\n",
       "    <tr>\n",
       "      <th>79328</th>\n",
       "      <td>1.0</td>\n",
       "      <td>1.0</td>\n",
       "      <td>0.0</td>\n",
       "      <td>109.0</td>\n",
       "      <td>0.0</td>\n",
       "      <td>0.0</td>\n",
       "      <td>0.0</td>\n",
       "      <td>0.0</td>\n",
       "      <td>104.40</td>\n",
       "      <td>0.0</td>\n",
       "      <td>5.0</td>\n",
       "      <td>35.0</td>\n",
       "      <td>1.0</td>\n",
       "    </tr>\n",
       "    <tr>\n",
       "      <th>79329</th>\n",
       "      <td>1.0</td>\n",
       "      <td>1.0</td>\n",
       "      <td>2.0</td>\n",
       "      <td>205.0</td>\n",
       "      <td>0.0</td>\n",
       "      <td>0.0</td>\n",
       "      <td>0.0</td>\n",
       "      <td>0.0</td>\n",
       "      <td>151.20</td>\n",
       "      <td>0.0</td>\n",
       "      <td>7.0</td>\n",
       "      <td>35.0</td>\n",
       "      <td>1.0</td>\n",
       "    </tr>\n",
       "  </tbody>\n",
       "</table>\n",
       "<p>79330 rows × 13 columns</p>\n",
       "</div>"
      ],
      "text/plain": [
       "       DepositType_No Deposit       MarketSegment_Online TA  \\\n",
       "0                              1.0                      0.0   \n",
       "1                              1.0                      1.0   \n",
       "2                              1.0                      1.0   \n",
       "3                              1.0                      1.0   \n",
       "4                              1.0                      1.0   \n",
       "...                            ...                      ...   \n",
       "79325                          1.0                      0.0   \n",
       "79326                          1.0                      1.0   \n",
       "79327                          1.0                      1.0   \n",
       "79328                          1.0                      1.0   \n",
       "79329                          1.0                      1.0   \n",
       "\n",
       "       TotalOfSpecialRequests  LeadTime  PreviousCancellations  \\\n",
       "0                         0.0       6.0                    0.0   \n",
       "1                         1.0      88.0                    0.0   \n",
       "2                         1.0      65.0                    0.0   \n",
       "3                         2.0      92.0                    0.0   \n",
       "4                         1.0     100.0                    0.0   \n",
       "...                       ...       ...                    ...   \n",
       "79325                     0.0      23.0                    0.0   \n",
       "79326                     2.0     102.0                    0.0   \n",
       "79327                     4.0      34.0                    0.0   \n",
       "79328                     0.0     109.0                    0.0   \n",
       "79329                     2.0     205.0                    0.0   \n",
       "\n",
       "       BookingChanges  PreviousBookingsNotCanceled  RequiredCarParkingSpaces  \\\n",
       "0                 0.0                          0.0                       0.0   \n",
       "1                 0.0                          0.0                       0.0   \n",
       "2                 0.0                          0.0                       0.0   \n",
       "3                 0.0                          0.0                       0.0   \n",
       "4                 0.0                          0.0                       0.0   \n",
       "...               ...                          ...                       ...   \n",
       "79325             0.0                          0.0                       0.0   \n",
       "79326             0.0                          0.0                       0.0   \n",
       "79327             0.0                          0.0                       0.0   \n",
       "79328             0.0                          0.0                       0.0   \n",
       "79329             0.0                          0.0                       0.0   \n",
       "\n",
       "          ADR  CustomerType_Transient-Party  StaysInWeekNights  \\\n",
       "0        0.00                           0.0                2.0   \n",
       "1       76.50                           0.0                4.0   \n",
       "2       68.00                           0.0                4.0   \n",
       "3       76.50                           0.0                4.0   \n",
       "4       76.50                           0.0                2.0   \n",
       "...       ...                           ...                ...   \n",
       "79325   96.14                           0.0                5.0   \n",
       "79326  225.43                           0.0                5.0   \n",
       "79327  157.71                           0.0                5.0   \n",
       "79328  104.40                           0.0                5.0   \n",
       "79329  151.20                           0.0                7.0   \n",
       "\n",
       "       ArrivalDateWeekNumber  ArrivalDateSeason_Summer  \n",
       "0                       27.0                       1.0  \n",
       "1                       27.0                       1.0  \n",
       "2                       27.0                       1.0  \n",
       "3                       27.0                       1.0  \n",
       "4                       27.0                       1.0  \n",
       "...                      ...                       ...  \n",
       "79325                   35.0                       1.0  \n",
       "79326                   35.0                       1.0  \n",
       "79327                   35.0                       1.0  \n",
       "79328                   35.0                       1.0  \n",
       "79329                   35.0                       1.0  \n",
       "\n",
       "[79330 rows x 13 columns]"
      ]
     },
     "execution_count": 85,
     "metadata": {},
     "output_type": "execute_result"
    }
   ],
   "source": [
    "X_gb"
   ]
  },
  {
   "cell_type": "markdown",
   "metadata": {},
   "source": [
    "###  Data Split after feature selection\n"
   ]
  },
  {
   "cell_type": "code",
   "execution_count": 87,
   "metadata": {},
   "outputs": [],
   "source": [
    "X_train, X_test, y_train, y_test = train_test_split(X_gb, y, train_size=0.8, random_state=42,stratify=y,shuffle=True) "
   ]
  },
  {
   "cell_type": "code",
   "execution_count": 89,
   "metadata": {},
   "outputs": [
    {
     "data": {
      "text/plain": [
       "GradientBoostingClassifier(max_depth=5, max_features=10, min_samples_leaf=9,\n",
       "                           random_state=70)"
      ]
     },
     "execution_count": 89,
     "metadata": {},
     "output_type": "execute_result"
    }
   ],
   "source": [
    "gb = GradientBoostingClassifier(n_estimators=100,max_features=10,random_state=70,max_depth=5,min_samples_leaf=9) \n",
    "gb.fit(X_train,y_train)"
   ]
  },
  {
   "cell_type": "code",
   "execution_count": 90,
   "metadata": {},
   "outputs": [
    {
     "name": "stdout",
     "output_type": "stream",
     "text": [
      "___________________________________________________________________________________________________________\n",
      "                                                     TRAIN                                                 \n",
      "-----------------------------------------------------------------------------------------------------------\n",
      "              precision    recall  f1-score   support\n",
      "\n",
      "           0       0.81      0.93      0.86     36982\n",
      "           1       0.87      0.69      0.77     26482\n",
      "\n",
      "    accuracy                           0.83     63464\n",
      "   macro avg       0.84      0.81      0.82     63464\n",
      "weighted avg       0.83      0.83      0.83     63464\n",
      "\n",
      "[[34235  2747]\n",
      " [ 8085 18397]]\n",
      "___________________________________________________________________________________________________________\n",
      "                                                VALIDATION                                                 \n",
      "-----------------------------------------------------------------------------------------------------------\n",
      "              precision    recall  f1-score   support\n",
      "\n",
      "           0       0.80      0.93      0.86      9246\n",
      "           1       0.87      0.69      0.77      6620\n",
      "\n",
      "    accuracy                           0.83     15866\n",
      "   macro avg       0.84      0.81      0.81     15866\n",
      "weighted avg       0.83      0.83      0.82     15866\n",
      "\n",
      "[[8582  664]\n",
      " [2084 4536]]\n"
     ]
    }
   ],
   "source": [
    "y_train_pred= gb.predict(X_train)\n",
    "y_test_pred=gb.predict(X_test)\n",
    "metrics(y_train,y_train_pred,y_test,y_test_pred)"
   ]
  },
  {
   "cell_type": "markdown",
   "metadata": {},
   "source": [
    "### Cross-Validation"
   ]
  },
  {
   "cell_type": "code",
   "execution_count": 93,
   "metadata": {},
   "outputs": [],
   "source": [
    "#cv_results = cross_validate(gb, X_train,y_train, cv=5, scoring=[\"accuracy\"])\n",
    "#gb_cross_f1=cv_results[\"accuracy\"].mean()\n",
    "#gb_cross_f1"
   ]
  },
  {
   "cell_type": "markdown",
   "metadata": {},
   "source": [
    "### Grid Search Cv"
   ]
  },
  {
   "cell_type": "code",
   "execution_count": 94,
   "metadata": {},
   "outputs": [],
   "source": [
    "#max_depth_range=[5,6,7] \n",
    "#min_samples_leaf_range=[8,9,10,11]\n",
    "#max_features_range=[12,15,17]\n",
    "#n_estimators_range=[100,300,500]\n",
    "#random_state_range=[20,35,70]"
   ]
  },
  {
   "cell_type": "code",
   "execution_count": 95,
   "metadata": {},
   "outputs": [],
   "source": [
    "#param_grid=dict(max_depth=max_depth_range,min_samples_leaf=min_samples_leaf_range)\n",
    "#grid=GridSearchCV(estimator=gb,param_grid=param_grid, cv =5)"
   ]
  },
  {
   "cell_type": "code",
   "execution_count": null,
   "metadata": {},
   "outputs": [],
   "source": [
    "#grid.fit(X_train,y_train)\n",
    "#grid.best_params_"
   ]
  },
  {
   "cell_type": "markdown",
   "metadata": {},
   "source": [
    "<div class=\"alert alert-block alert-info\">\n",
    "    \n",
    "## <font color='#E8800A'>Catboost Classifier</font> <a class=\"anchor\" id=\"eighth-bullet\"></a>\n",
    "    \n",
    "</div>"
   ]
  },
  {
   "cell_type": "code",
   "execution_count": 97,
   "metadata": {
    "scrolled": true
   },
   "outputs": [
    {
     "data": {
      "text/html": [
       "<div>\n",
       "<style scoped>\n",
       "    .dataframe tbody tr th:only-of-type {\n",
       "        vertical-align: middle;\n",
       "    }\n",
       "\n",
       "    .dataframe tbody tr th {\n",
       "        vertical-align: top;\n",
       "    }\n",
       "\n",
       "    .dataframe thead th {\n",
       "        text-align: right;\n",
       "    }\n",
       "</style>\n",
       "<table border=\"1\" class=\"dataframe\">\n",
       "  <thead>\n",
       "    <tr style=\"text-align: right;\">\n",
       "      <th></th>\n",
       "      <th>Meal</th>\n",
       "      <th>MarketSegment</th>\n",
       "      <th>DistributionChannel</th>\n",
       "      <th>DepositType</th>\n",
       "      <th>CustomerType</th>\n",
       "      <th>ArrivalDateSeason</th>\n",
       "    </tr>\n",
       "  </thead>\n",
       "  <tbody>\n",
       "    <tr>\n",
       "      <th>0</th>\n",
       "      <td>HB</td>\n",
       "      <td>Offline TA/TO</td>\n",
       "      <td>TA/TO</td>\n",
       "      <td>No Deposit</td>\n",
       "      <td>Transient</td>\n",
       "      <td>Summer</td>\n",
       "    </tr>\n",
       "    <tr>\n",
       "      <th>1</th>\n",
       "      <td>BB</td>\n",
       "      <td>Online TA</td>\n",
       "      <td>TA/TO</td>\n",
       "      <td>No Deposit</td>\n",
       "      <td>Transient</td>\n",
       "      <td>Summer</td>\n",
       "    </tr>\n",
       "    <tr>\n",
       "      <th>2</th>\n",
       "      <td>BB</td>\n",
       "      <td>Online TA</td>\n",
       "      <td>TA/TO</td>\n",
       "      <td>No Deposit</td>\n",
       "      <td>Transient</td>\n",
       "      <td>Summer</td>\n",
       "    </tr>\n",
       "    <tr>\n",
       "      <th>3</th>\n",
       "      <td>BB</td>\n",
       "      <td>Online TA</td>\n",
       "      <td>TA/TO</td>\n",
       "      <td>No Deposit</td>\n",
       "      <td>Transient</td>\n",
       "      <td>Summer</td>\n",
       "    </tr>\n",
       "    <tr>\n",
       "      <th>4</th>\n",
       "      <td>BB</td>\n",
       "      <td>Online TA</td>\n",
       "      <td>TA/TO</td>\n",
       "      <td>No Deposit</td>\n",
       "      <td>Transient</td>\n",
       "      <td>Summer</td>\n",
       "    </tr>\n",
       "    <tr>\n",
       "      <th>...</th>\n",
       "      <td>...</td>\n",
       "      <td>...</td>\n",
       "      <td>...</td>\n",
       "      <td>...</td>\n",
       "      <td>...</td>\n",
       "      <td>...</td>\n",
       "    </tr>\n",
       "    <tr>\n",
       "      <th>79325</th>\n",
       "      <td>BB</td>\n",
       "      <td>Offline TA/TO</td>\n",
       "      <td>TA/TO</td>\n",
       "      <td>No Deposit</td>\n",
       "      <td>Transient</td>\n",
       "      <td>Summer</td>\n",
       "    </tr>\n",
       "    <tr>\n",
       "      <th>79326</th>\n",
       "      <td>BB</td>\n",
       "      <td>Online TA</td>\n",
       "      <td>TA/TO</td>\n",
       "      <td>No Deposit</td>\n",
       "      <td>Transient</td>\n",
       "      <td>Summer</td>\n",
       "    </tr>\n",
       "    <tr>\n",
       "      <th>79327</th>\n",
       "      <td>BB</td>\n",
       "      <td>Online TA</td>\n",
       "      <td>TA/TO</td>\n",
       "      <td>No Deposit</td>\n",
       "      <td>Transient</td>\n",
       "      <td>Summer</td>\n",
       "    </tr>\n",
       "    <tr>\n",
       "      <th>79328</th>\n",
       "      <td>BB</td>\n",
       "      <td>Online TA</td>\n",
       "      <td>TA/TO</td>\n",
       "      <td>No Deposit</td>\n",
       "      <td>Transient</td>\n",
       "      <td>Summer</td>\n",
       "    </tr>\n",
       "    <tr>\n",
       "      <th>79329</th>\n",
       "      <td>HB</td>\n",
       "      <td>Online TA</td>\n",
       "      <td>TA/TO</td>\n",
       "      <td>No Deposit</td>\n",
       "      <td>Transient</td>\n",
       "      <td>Summer</td>\n",
       "    </tr>\n",
       "  </tbody>\n",
       "</table>\n",
       "<p>79330 rows × 6 columns</p>\n",
       "</div>"
      ],
      "text/plain": [
       "            Meal  MarketSegment DistributionChannel      DepositType  \\\n",
       "0      HB         Offline TA/TO               TA/TO  No Deposit        \n",
       "1      BB             Online TA               TA/TO  No Deposit        \n",
       "2      BB             Online TA               TA/TO  No Deposit        \n",
       "3      BB             Online TA               TA/TO  No Deposit        \n",
       "4      BB             Online TA               TA/TO  No Deposit        \n",
       "...          ...            ...                 ...              ...   \n",
       "79325  BB         Offline TA/TO               TA/TO  No Deposit        \n",
       "79326  BB             Online TA               TA/TO  No Deposit        \n",
       "79327  BB             Online TA               TA/TO  No Deposit        \n",
       "79328  BB             Online TA               TA/TO  No Deposit        \n",
       "79329  HB             Online TA               TA/TO  No Deposit        \n",
       "\n",
       "      CustomerType ArrivalDateSeason  \n",
       "0        Transient            Summer  \n",
       "1        Transient            Summer  \n",
       "2        Transient            Summer  \n",
       "3        Transient            Summer  \n",
       "4        Transient            Summer  \n",
       "...            ...               ...  \n",
       "79325    Transient            Summer  \n",
       "79326    Transient            Summer  \n",
       "79327    Transient            Summer  \n",
       "79328    Transient            Summer  \n",
       "79329    Transient            Summer  \n",
       "\n",
       "[79330 rows x 6 columns]"
      ]
     },
     "execution_count": 97,
     "metadata": {},
     "output_type": "execute_result"
    }
   ],
   "source": [
    "df[categorical]"
   ]
  },
  {
   "cell_type": "code",
   "execution_count": 99,
   "metadata": {},
   "outputs": [
    {
     "data": {
      "text/plain": [
       "Index(['IsCanceled', 'LeadTime', 'ArrivalDateYear', 'ArrivalDateWeekNumber',\n",
       "       'ArrivalDateDayOfMonth', 'StaysInWeekendNights', 'StaysInWeekNights',\n",
       "       'Adults', 'Children', 'Babies', 'Meal', 'MarketSegment',\n",
       "       'DistributionChannel', 'IsRepeatedGuest', 'PreviousCancellations',\n",
       "       'PreviousBookingsNotCanceled', 'BookingChanges', 'DepositType',\n",
       "       'DaysInWaitingList', 'CustomerType', 'ADR', 'RequiredCarParkingSpaces',\n",
       "       'TotalOfSpecialRequests', 'ArrivalDateSeason'],\n",
       "      dtype='object')"
      ]
     },
     "execution_count": 99,
     "metadata": {},
     "output_type": "execute_result"
    }
   ],
   "source": [
    "df.columns"
   ]
  },
  {
   "cell_type": "markdown",
   "metadata": {},
   "source": [
    "### Separating X and Y"
   ]
  },
  {
   "cell_type": "code",
   "execution_count": 101,
   "metadata": {},
   "outputs": [],
   "source": [
    "X=df.drop([\"IsCanceled\"],axis=1)\n",
    "y=df.loc[:,\"IsCanceled\"]\n",
    "categorical=X.select_dtypes(include=\"object\").columns.to_list()"
   ]
  },
  {
   "cell_type": "code",
   "execution_count": 119,
   "metadata": {},
   "outputs": [],
   "source": [
    "X_train, X_test, y_train, y_test = train_test_split(X, y, train_size=0.8, random_state=42) "
   ]
  },
  {
   "cell_type": "markdown",
   "metadata": {},
   "source": [
    "### Model"
   ]
  },
  {
   "cell_type": "code",
   "execution_count": 122,
   "metadata": {},
   "outputs": [],
   "source": [
    "cat = CatBoostClassifier(iterations=100,cat_features=categorical)\n",
    "cat.fit(X_train,y_train)"
   ]
  },
  {
   "cell_type": "markdown",
   "metadata": {},
   "source": [
    "### Feature Selection"
   ]
  },
  {
   "cell_type": "code",
   "execution_count": 125,
   "metadata": {},
   "outputs": [],
   "source": [
    "importances = cat.feature_importances_\n",
    "indices = np.argsort(importances)"
   ]
  },
  {
   "cell_type": "code",
   "execution_count": 126,
   "metadata": {},
   "outputs": [
    {
     "data": {
      "text/plain": [
       "<matplotlib.axes._subplots.AxesSubplot at 0x248c39ef610>"
      ]
     },
     "execution_count": 126,
     "metadata": {},
     "output_type": "execute_result"
    },
    {
     "data": {
      "image/png": "[encoded data removed]",
      "text/plain": [
       "<Figure size 1080x576 with 1 Axes>"
      ]
     },
     "metadata": {},
     "output_type": "display_data"
    }
   ],
   "source": [
    "zippy = pd.DataFrame(zip(importances))\n",
    "zippy['col'] = X_train.columns\n",
    "tidy = zippy.melt(id_vars='col').rename(columns=str.title)\n",
    "tidy.sort_values(['Value'], ascending = False, inplace = True)\n",
    "\n",
    "plt.figure(figsize=(15,8))\n",
    "sns.barplot(y='Col', x='Value', hue='Variable', data=tidy)"
   ]
  },
  {
   "cell_type": "code",
   "execution_count": 180,
   "metadata": {},
   "outputs": [
    {
     "data": {
      "text/plain": [
       "Index(['LeadTime', 'ArrivalDateYear', 'ArrivalDateWeekNumber',\n",
       "       'ArrivalDateDayOfMonth', 'StaysInWeekendNights', 'StaysInWeekNights',\n",
       "       'Adults', 'Children', 'Babies', 'Meal', 'MarketSegment',\n",
       "       'DistributionChannel', 'IsRepeatedGuest', 'PreviousCancellations',\n",
       "       'PreviousBookingsNotCanceled', 'BookingChanges', 'DepositType',\n",
       "       'DaysInWaitingList', 'CustomerType', 'ADR', 'RequiredCarParkingSpaces',\n",
       "       'TotalOfSpecialRequests', 'ArrivalDateSeason'],\n",
       "      dtype='object')"
      ]
     },
     "execution_count": 180,
     "metadata": {},
     "output_type": "execute_result"
    }
   ],
   "source": [
    "X.columns"
   ]
  },
  {
   "cell_type": "code",
   "execution_count": 212,
   "metadata": {},
   "outputs": [],
   "source": [
    "X_cat=X.loc[:,['DepositType','PreviousCancellations','LeadTime','CustomerType','ADR','RequiredCarParkingSpaces','TotalOfSpecialRequests','MarketSegment','ArrivalDateWeekNumber','ArrivalDateYear','ArrivalDateDayOfMonth','Meal','BookingChanges','StaysInWeekNights','ArrivalDateSeason','Adults']]"
   ]
  },
  {
   "cell_type": "markdown",
   "metadata": {},
   "source": [
    "### Data Split after feature selection"
   ]
  },
  {
   "cell_type": "code",
   "execution_count": 208,
   "metadata": {},
   "outputs": [],
   "source": [
    "categorical=X_cat.select_dtypes(include=\"object\").columns.to_list()"
   ]
  },
  {
   "cell_type": "code",
   "execution_count": 209,
   "metadata": {},
   "outputs": [],
   "source": [
    "X_train, X_test, y_train, y_test = train_test_split(X_cat, y, train_size=0.8, random_state=42,stratify=y,shuffle=True) "
   ]
  },
  {
   "cell_type": "code",
   "execution_count": 214,
   "metadata": {},
   "outputs": [
    {
     "name": "stdout",
     "output_type": "stream",
     "text": [
      "Learning rate set to 0.182849\n",
      "0:\tlearn: 0.6058218\ttotal: 59.8ms\tremaining: 17.9s\n",
      "100:\tlearn: 0.3673422\ttotal: 5.89s\tremaining: 11.6s\n",
      "200:\tlearn: 0.3448165\ttotal: 11.8s\tremaining: 5.81s\n",
      "299:\tlearn: 0.3300029\ttotal: 17.3s\tremaining: 0us\n"
     ]
    },
    {
     "data": {
      "text/plain": [
       "<catboost.core.CatBoostClassifier at 0x248c473d5e0>"
      ]
     },
     "execution_count": 214,
     "metadata": {},
     "output_type": "execute_result"
    }
   ],
   "source": [
    "cat = CatBoostClassifier(iterations=300,cat_features=categorical,verbose=100)\n",
    "cat.fit(X_train,y_train)"
   ]
  },
  {
   "cell_type": "code",
   "execution_count": 215,
   "metadata": {},
   "outputs": [
    {
     "name": "stdout",
     "output_type": "stream",
     "text": [
      "___________________________________________________________________________________________________________\n",
      "                                                     TRAIN                                                 \n",
      "-----------------------------------------------------------------------------------------------------------\n",
      "              precision    recall  f1-score   support\n",
      "\n",
      "           0       0.84      0.92      0.88     36982\n",
      "           1       0.87      0.76      0.81     26482\n",
      "\n",
      "    accuracy                           0.85     63464\n",
      "   macro avg       0.86      0.84      0.85     63464\n",
      "weighted avg       0.86      0.85      0.85     63464\n",
      "\n",
      "[[33997  2985]\n",
      " [ 6296 20186]]\n",
      "___________________________________________________________________________________________________________\n",
      "                                                VALIDATION                                                 \n",
      "-----------------------------------------------------------------------------------------------------------\n",
      "              precision    recall  f1-score   support\n",
      "\n",
      "           0       0.83      0.91      0.87      9246\n",
      "           1       0.86      0.73      0.79      6620\n",
      "\n",
      "    accuracy                           0.84     15866\n",
      "   macro avg       0.84      0.82      0.83     15866\n",
      "weighted avg       0.84      0.84      0.84     15866\n",
      "\n",
      "[[8442  804]\n",
      " [1757 4863]]\n"
     ]
    }
   ],
   "source": [
    "y_train_pred= cat.predict(X_train)\n",
    "y_test_pred=cat.predict(X_test)\n",
    "metrics(y_train,y_train_pred,y_test,y_test_pred)"
   ]
  },
  {
   "cell_type": "markdown",
   "metadata": {},
   "source": [
    "### Grid Search Cv"
   ]
  },
  {
   "cell_type": "code",
   "execution_count": null,
   "metadata": {},
   "outputs": [],
   "source": [
    "#max_depth_range=[5,6,7] \n",
    "#min_samples_leaf_range=[8,9,10,11]\n",
    "#max_features_range=[12,15,17]\n",
    "#n_estimators_range=[100,300,500]\n",
    "#random_state_range=[20,35,70]"
   ]
  },
  {
   "cell_type": "code",
   "execution_count": null,
   "metadata": {},
   "outputs": [],
   "source": [
    "#param_grid=dict(max_depth=max_depth_range,min_samples_leaf=min_samples_leaf_range)\n",
    "#grid=GridSearchCV(estimator=gb,param_grid=param_grid, cv =5)"
   ]
  },
  {
   "cell_type": "code",
   "execution_count": null,
   "metadata": {},
   "outputs": [],
   "source": [
    "#grid.fit(X_train,y_train)\n",
    "#grid.best_params_"
   ]
  }
 ],
 "metadata": {
  "kernelspec": {
   "display_name": "Python 3",
   "language": "python",
   "name": "python3"
  },
  "language_info": {
   "codemirror_mode": {
    "name": "ipython",
    "version": 3
   },
   "file_extension": ".py",
   "mimetype": "text/x-python",
   "name": "python",
   "nbconvert_exporter": "python",
   "pygments_lexer": "ipython3",
   "version": "3.8.5"
  }
 },
 "nbformat": 4,
 "nbformat_minor": 4
}
